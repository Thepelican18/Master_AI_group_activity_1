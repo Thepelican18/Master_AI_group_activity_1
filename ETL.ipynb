{
  "cells": [
    {
      "cell_type": "markdown",
      "source": [
        "Lo primero que hacemos en el proceso de ETL de este proyecto es cargar el csv, lo cargaremos con pandas usando un read_csv y lo cargaremos con el codigo ISO.\n"
      ],
      "metadata": {
        "id": "q8sN4BdQiMz_"
      }
    },
    {
      "cell_type": "code",
      "execution_count": null,
      "metadata": {
        "id": "Q3YfeWoWiEgc",
        "outputId": "53c39d9d-d31d-43af-d663-5813f4746de1"
      },
      "outputs": [
        {
          "data": {
            "text/html": [
              "<div><style>\n",
              ".dataframe > thead > tr,\n",
              ".dataframe > tbody > tr {\n",
              "  text-align: right;\n",
              "  white-space: pre-wrap;\n",
              "}\n",
              "</style>\n",
              "<small>shape: (541_909, 8)</small><table border=\"1\" class=\"dataframe\"><thead><tr><th>InvoiceNo</th><th>StockCode</th><th>Description</th><th>Quantity</th><th>InvoiceDate</th><th>UnitPrice</th><th>CustomerID</th><th>Country</th></tr><tr><td>str</td><td>str</td><td>str</td><td>i64</td><td>str</td><td>f64</td><td>i64</td><td>str</td></tr></thead><tbody><tr><td>&quot;536365&quot;</td><td>&quot;85123A&quot;</td><td>&quot;WHITE HANGING HEART T-LIGHT HO…</td><td>6</td><td>&quot;12/1/2010 8:26&quot;</td><td>2.55</td><td>17850</td><td>&quot;United Kingdom&quot;</td></tr><tr><td>&quot;536365&quot;</td><td>&quot;71053&quot;</td><td>&quot;WHITE METAL LANTERN&quot;</td><td>6</td><td>&quot;12/1/2010 8:26&quot;</td><td>3.39</td><td>17850</td><td>&quot;United Kingdom&quot;</td></tr><tr><td>&quot;536365&quot;</td><td>&quot;84406B&quot;</td><td>&quot;CREAM CUPID HEARTS COAT HANGER&quot;</td><td>8</td><td>&quot;12/1/2010 8:26&quot;</td><td>2.75</td><td>17850</td><td>&quot;United Kingdom&quot;</td></tr><tr><td>&quot;536365&quot;</td><td>&quot;84029G&quot;</td><td>&quot;KNITTED UNION FLAG HOT WATER B…</td><td>6</td><td>&quot;12/1/2010 8:26&quot;</td><td>3.39</td><td>17850</td><td>&quot;United Kingdom&quot;</td></tr><tr><td>&quot;536365&quot;</td><td>&quot;84029E&quot;</td><td>&quot;RED WOOLLY HOTTIE WHITE HEART.&quot;</td><td>6</td><td>&quot;12/1/2010 8:26&quot;</td><td>3.39</td><td>17850</td><td>&quot;United Kingdom&quot;</td></tr><tr><td>&hellip;</td><td>&hellip;</td><td>&hellip;</td><td>&hellip;</td><td>&hellip;</td><td>&hellip;</td><td>&hellip;</td><td>&hellip;</td></tr><tr><td>&quot;581587&quot;</td><td>&quot;22613&quot;</td><td>&quot;PACK OF 20 SPACEBOY NAPKINS&quot;</td><td>12</td><td>&quot;12/9/2011 12:50&quot;</td><td>0.85</td><td>12680</td><td>&quot;France&quot;</td></tr><tr><td>&quot;581587&quot;</td><td>&quot;22899&quot;</td><td>&quot;CHILDREN&#x27;S APRON DOLLY GIRL &quot;</td><td>6</td><td>&quot;12/9/2011 12:50&quot;</td><td>2.1</td><td>12680</td><td>&quot;France&quot;</td></tr><tr><td>&quot;581587&quot;</td><td>&quot;23254&quot;</td><td>&quot;CHILDRENS CUTLERY DOLLY GIRL &quot;</td><td>4</td><td>&quot;12/9/2011 12:50&quot;</td><td>4.15</td><td>12680</td><td>&quot;France&quot;</td></tr><tr><td>&quot;581587&quot;</td><td>&quot;23255&quot;</td><td>&quot;CHILDRENS CUTLERY CIRCUS PARAD…</td><td>4</td><td>&quot;12/9/2011 12:50&quot;</td><td>4.15</td><td>12680</td><td>&quot;France&quot;</td></tr><tr><td>&quot;581587&quot;</td><td>&quot;22138&quot;</td><td>&quot;BAKING SET 9 PIECE RETROSPOT &quot;</td><td>3</td><td>&quot;12/9/2011 12:50&quot;</td><td>4.95</td><td>12680</td><td>&quot;France&quot;</td></tr></tbody></table></div>"
            ],
            "text/plain": [
              "shape: (541_909, 8)\n",
              "┌───────────┬───────────┬──────────────┬──────────┬─────────────┬───────────┬────────────┬─────────┐\n",
              "│ InvoiceNo ┆ StockCode ┆ Description  ┆ Quantity ┆ InvoiceDate ┆ UnitPrice ┆ CustomerID ┆ Country │\n",
              "│ ---       ┆ ---       ┆ ---          ┆ ---      ┆ ---         ┆ ---       ┆ ---        ┆ ---     │\n",
              "│ str       ┆ str       ┆ str          ┆ i64      ┆ str         ┆ f64       ┆ i64        ┆ str     │\n",
              "╞═══════════╪═══════════╪══════════════╪══════════╪═════════════╪═══════════╪════════════╪═════════╡\n",
              "│ 536365    ┆ 85123A    ┆ WHITE        ┆ 6        ┆ 12/1/2010   ┆ 2.55      ┆ 17850      ┆ United  │\n",
              "│           ┆           ┆ HANGING      ┆          ┆ 8:26        ┆           ┆            ┆ Kingdom │\n",
              "│           ┆           ┆ HEART        ┆          ┆             ┆           ┆            ┆         │\n",
              "│           ┆           ┆ T-LIGHT HO…  ┆          ┆             ┆           ┆            ┆         │\n",
              "│ 536365    ┆ 71053     ┆ WHITE METAL  ┆ 6        ┆ 12/1/2010   ┆ 3.39      ┆ 17850      ┆ United  │\n",
              "│           ┆           ┆ LANTERN      ┆          ┆ 8:26        ┆           ┆            ┆ Kingdom │\n",
              "│ 536365    ┆ 84406B    ┆ CREAM CUPID  ┆ 8        ┆ 12/1/2010   ┆ 2.75      ┆ 17850      ┆ United  │\n",
              "│           ┆           ┆ HEARTS COAT  ┆          ┆ 8:26        ┆           ┆            ┆ Kingdom │\n",
              "│           ┆           ┆ HANGER       ┆          ┆             ┆           ┆            ┆         │\n",
              "│ 536365    ┆ 84029G    ┆ KNITTED      ┆ 6        ┆ 12/1/2010   ┆ 3.39      ┆ 17850      ┆ United  │\n",
              "│           ┆           ┆ UNION FLAG   ┆          ┆ 8:26        ┆           ┆            ┆ Kingdom │\n",
              "│           ┆           ┆ HOT WATER B… ┆          ┆             ┆           ┆            ┆         │\n",
              "│ 536365    ┆ 84029E    ┆ RED WOOLLY   ┆ 6        ┆ 12/1/2010   ┆ 3.39      ┆ 17850      ┆ United  │\n",
              "│           ┆           ┆ HOTTIE WHITE ┆          ┆ 8:26        ┆           ┆            ┆ Kingdom │\n",
              "│           ┆           ┆ HEART.       ┆          ┆             ┆           ┆            ┆         │\n",
              "│ …         ┆ …         ┆ …            ┆ …        ┆ …           ┆ …         ┆ …          ┆ …       │\n",
              "│ 581587    ┆ 22613     ┆ PACK OF 20   ┆ 12       ┆ 12/9/2011   ┆ 0.85      ┆ 12680      ┆ France  │\n",
              "│           ┆           ┆ SPACEBOY     ┆          ┆ 12:50       ┆           ┆            ┆         │\n",
              "│           ┆           ┆ NAPKINS      ┆          ┆             ┆           ┆            ┆         │\n",
              "│ 581587    ┆ 22899     ┆ CHILDREN'S   ┆ 6        ┆ 12/9/2011   ┆ 2.1       ┆ 12680      ┆ France  │\n",
              "│           ┆           ┆ APRON DOLLY  ┆          ┆ 12:50       ┆           ┆            ┆         │\n",
              "│           ┆           ┆ GIRL         ┆          ┆             ┆           ┆            ┆         │\n",
              "│ 581587    ┆ 23254     ┆ CHILDRENS    ┆ 4        ┆ 12/9/2011   ┆ 4.15      ┆ 12680      ┆ France  │\n",
              "│           ┆           ┆ CUTLERY      ┆          ┆ 12:50       ┆           ┆            ┆         │\n",
              "│           ┆           ┆ DOLLY GIRL   ┆          ┆             ┆           ┆            ┆         │\n",
              "│ 581587    ┆ 23255     ┆ CHILDRENS    ┆ 4        ┆ 12/9/2011   ┆ 4.15      ┆ 12680      ┆ France  │\n",
              "│           ┆           ┆ CUTLERY      ┆          ┆ 12:50       ┆           ┆            ┆         │\n",
              "│           ┆           ┆ CIRCUS       ┆          ┆             ┆           ┆            ┆         │\n",
              "│           ┆           ┆ PARAD…       ┆          ┆             ┆           ┆            ┆         │\n",
              "│ 581587    ┆ 22138     ┆ BAKING SET 9 ┆ 3        ┆ 12/9/2011   ┆ 4.95      ┆ 12680      ┆ France  │\n",
              "│           ┆           ┆ PIECE        ┆          ┆ 12:50       ┆           ┆            ┆         │\n",
              "│           ┆           ┆ RETROSPOT    ┆          ┆             ┆           ┆            ┆         │\n",
              "└───────────┴───────────┴──────────────┴──────────┴─────────────┴───────────┴────────────┴─────────┘"
            ]
          },
          "execution_count": 1,
          "metadata": {},
          "output_type": "execute_result"
        }
      ],
      "source": [
        "import polars as pl\n",
        "\n",
        "df = pl.read_csv(\"data.csv\", encoding=\"ISO-8859-1\", infer_schema_length=10000)\n",
        "df\n"
      ]
    },
    {
      "cell_type": "markdown",
      "metadata": {
        "id": "2T8E1Bq0iEge"
      },
      "source": [
        "\n",
        "Ahora sobre el dataset vamos a analizar si hay datos que limpiar:\n",
        "\n",
        "Primero comprobaremos si el dataset contiene valores nulos, es importante que no tengamos ninguno, ya con datos nulos no podemos trabajar."
      ]
    },
    {
      "cell_type": "code",
      "execution_count": null,
      "metadata": {
        "id": "a0yzfeRZiEgf",
        "outputId": "b8f270bc-6a0f-48f6-f540-b9fd8ba2bca0"
      },
      "outputs": [
        {
          "data": {
            "text/html": [
              "<div><style>\n",
              ".dataframe > thead > tr,\n",
              ".dataframe > tbody > tr {\n",
              "  text-align: right;\n",
              "  white-space: pre-wrap;\n",
              "}\n",
              "</style>\n",
              "<small>shape: (1, 8)</small><table border=\"1\" class=\"dataframe\"><thead><tr><th>InvoiceNo</th><th>StockCode</th><th>Description</th><th>Quantity</th><th>InvoiceDate</th><th>UnitPrice</th><th>CustomerID</th><th>Country</th></tr><tr><td>u32</td><td>u32</td><td>u32</td><td>u32</td><td>u32</td><td>u32</td><td>u32</td><td>u32</td></tr></thead><tbody><tr><td>0</td><td>0</td><td>1454</td><td>0</td><td>0</td><td>0</td><td>135080</td><td>0</td></tr></tbody></table></div>"
            ],
            "text/plain": [
              "shape: (1, 8)\n",
              "┌───────────┬───────────┬─────────────┬──────────┬─────────────┬───────────┬────────────┬─────────┐\n",
              "│ InvoiceNo ┆ StockCode ┆ Description ┆ Quantity ┆ InvoiceDate ┆ UnitPrice ┆ CustomerID ┆ Country │\n",
              "│ ---       ┆ ---       ┆ ---         ┆ ---      ┆ ---         ┆ ---       ┆ ---        ┆ ---     │\n",
              "│ u32       ┆ u32       ┆ u32         ┆ u32      ┆ u32         ┆ u32       ┆ u32        ┆ u32     │\n",
              "╞═══════════╪═══════════╪═════════════╪══════════╪═════════════╪═══════════╪════════════╪═════════╡\n",
              "│ 0         ┆ 0         ┆ 1454        ┆ 0        ┆ 0           ┆ 0         ┆ 135080     ┆ 0       │\n",
              "└───────────┴───────────┴─────────────┴──────────┴─────────────┴───────────┴────────────┴─────────┘"
            ]
          },
          "execution_count": 2,
          "metadata": {},
          "output_type": "execute_result"
        }
      ],
      "source": [
        "df.null_count()\n"
      ]
    },
    {
      "cell_type": "markdown",
      "metadata": {
        "id": "0PtPc_n0iEgf"
      },
      "source": [
        "Como vemos hay muchos nulls, aunque en este caso los nulls del custumer ID nos lo tomaremos como compras reales de clientes no registrados, en cambio los valores nulos de Description los eliminaremos por que no podemos saber si ha sido una venta real o un error."
      ]
    },
    {
      "cell_type": "code",
      "execution_count": null,
      "metadata": {
        "id": "7-e9TN-XiEgg",
        "outputId": "f53391dc-5d77-4289-fb25-245614b3c715"
      },
      "outputs": [
        {
          "data": {
            "text/html": [
              "<div><style>\n",
              ".dataframe > thead > tr,\n",
              ".dataframe > tbody > tr {\n",
              "  text-align: right;\n",
              "  white-space: pre-wrap;\n",
              "}\n",
              "</style>\n",
              "<small>shape: (540_455, 8)</small><table border=\"1\" class=\"dataframe\"><thead><tr><th>InvoiceNo</th><th>StockCode</th><th>Description</th><th>Quantity</th><th>InvoiceDate</th><th>UnitPrice</th><th>CustomerID</th><th>Country</th></tr><tr><td>str</td><td>str</td><td>str</td><td>i64</td><td>str</td><td>f64</td><td>i64</td><td>str</td></tr></thead><tbody><tr><td>&quot;536365&quot;</td><td>&quot;85123A&quot;</td><td>&quot;WHITE HANGING HEART T-LIGHT HO…</td><td>6</td><td>&quot;12/1/2010 8:26&quot;</td><td>2.55</td><td>17850</td><td>&quot;United Kingdom&quot;</td></tr><tr><td>&quot;536365&quot;</td><td>&quot;71053&quot;</td><td>&quot;WHITE METAL LANTERN&quot;</td><td>6</td><td>&quot;12/1/2010 8:26&quot;</td><td>3.39</td><td>17850</td><td>&quot;United Kingdom&quot;</td></tr><tr><td>&quot;536365&quot;</td><td>&quot;84406B&quot;</td><td>&quot;CREAM CUPID HEARTS COAT HANGER&quot;</td><td>8</td><td>&quot;12/1/2010 8:26&quot;</td><td>2.75</td><td>17850</td><td>&quot;United Kingdom&quot;</td></tr><tr><td>&quot;536365&quot;</td><td>&quot;84029G&quot;</td><td>&quot;KNITTED UNION FLAG HOT WATER B…</td><td>6</td><td>&quot;12/1/2010 8:26&quot;</td><td>3.39</td><td>17850</td><td>&quot;United Kingdom&quot;</td></tr><tr><td>&quot;536365&quot;</td><td>&quot;84029E&quot;</td><td>&quot;RED WOOLLY HOTTIE WHITE HEART.&quot;</td><td>6</td><td>&quot;12/1/2010 8:26&quot;</td><td>3.39</td><td>17850</td><td>&quot;United Kingdom&quot;</td></tr><tr><td>&hellip;</td><td>&hellip;</td><td>&hellip;</td><td>&hellip;</td><td>&hellip;</td><td>&hellip;</td><td>&hellip;</td><td>&hellip;</td></tr><tr><td>&quot;581587&quot;</td><td>&quot;22613&quot;</td><td>&quot;PACK OF 20 SPACEBOY NAPKINS&quot;</td><td>12</td><td>&quot;12/9/2011 12:50&quot;</td><td>0.85</td><td>12680</td><td>&quot;France&quot;</td></tr><tr><td>&quot;581587&quot;</td><td>&quot;22899&quot;</td><td>&quot;CHILDREN&#x27;S APRON DOLLY GIRL &quot;</td><td>6</td><td>&quot;12/9/2011 12:50&quot;</td><td>2.1</td><td>12680</td><td>&quot;France&quot;</td></tr><tr><td>&quot;581587&quot;</td><td>&quot;23254&quot;</td><td>&quot;CHILDRENS CUTLERY DOLLY GIRL &quot;</td><td>4</td><td>&quot;12/9/2011 12:50&quot;</td><td>4.15</td><td>12680</td><td>&quot;France&quot;</td></tr><tr><td>&quot;581587&quot;</td><td>&quot;23255&quot;</td><td>&quot;CHILDRENS CUTLERY CIRCUS PARAD…</td><td>4</td><td>&quot;12/9/2011 12:50&quot;</td><td>4.15</td><td>12680</td><td>&quot;France&quot;</td></tr><tr><td>&quot;581587&quot;</td><td>&quot;22138&quot;</td><td>&quot;BAKING SET 9 PIECE RETROSPOT &quot;</td><td>3</td><td>&quot;12/9/2011 12:50&quot;</td><td>4.95</td><td>12680</td><td>&quot;France&quot;</td></tr></tbody></table></div>"
            ],
            "text/plain": [
              "shape: (540_455, 8)\n",
              "┌───────────┬───────────┬──────────────┬──────────┬─────────────┬───────────┬────────────┬─────────┐\n",
              "│ InvoiceNo ┆ StockCode ┆ Description  ┆ Quantity ┆ InvoiceDate ┆ UnitPrice ┆ CustomerID ┆ Country │\n",
              "│ ---       ┆ ---       ┆ ---          ┆ ---      ┆ ---         ┆ ---       ┆ ---        ┆ ---     │\n",
              "│ str       ┆ str       ┆ str          ┆ i64      ┆ str         ┆ f64       ┆ i64        ┆ str     │\n",
              "╞═══════════╪═══════════╪══════════════╪══════════╪═════════════╪═══════════╪════════════╪═════════╡\n",
              "│ 536365    ┆ 85123A    ┆ WHITE        ┆ 6        ┆ 12/1/2010   ┆ 2.55      ┆ 17850      ┆ United  │\n",
              "│           ┆           ┆ HANGING      ┆          ┆ 8:26        ┆           ┆            ┆ Kingdom │\n",
              "│           ┆           ┆ HEART        ┆          ┆             ┆           ┆            ┆         │\n",
              "│           ┆           ┆ T-LIGHT HO…  ┆          ┆             ┆           ┆            ┆         │\n",
              "│ 536365    ┆ 71053     ┆ WHITE METAL  ┆ 6        ┆ 12/1/2010   ┆ 3.39      ┆ 17850      ┆ United  │\n",
              "│           ┆           ┆ LANTERN      ┆          ┆ 8:26        ┆           ┆            ┆ Kingdom │\n",
              "│ 536365    ┆ 84406B    ┆ CREAM CUPID  ┆ 8        ┆ 12/1/2010   ┆ 2.75      ┆ 17850      ┆ United  │\n",
              "│           ┆           ┆ HEARTS COAT  ┆          ┆ 8:26        ┆           ┆            ┆ Kingdom │\n",
              "│           ┆           ┆ HANGER       ┆          ┆             ┆           ┆            ┆         │\n",
              "│ 536365    ┆ 84029G    ┆ KNITTED      ┆ 6        ┆ 12/1/2010   ┆ 3.39      ┆ 17850      ┆ United  │\n",
              "│           ┆           ┆ UNION FLAG   ┆          ┆ 8:26        ┆           ┆            ┆ Kingdom │\n",
              "│           ┆           ┆ HOT WATER B… ┆          ┆             ┆           ┆            ┆         │\n",
              "│ 536365    ┆ 84029E    ┆ RED WOOLLY   ┆ 6        ┆ 12/1/2010   ┆ 3.39      ┆ 17850      ┆ United  │\n",
              "│           ┆           ┆ HOTTIE WHITE ┆          ┆ 8:26        ┆           ┆            ┆ Kingdom │\n",
              "│           ┆           ┆ HEART.       ┆          ┆             ┆           ┆            ┆         │\n",
              "│ …         ┆ …         ┆ …            ┆ …        ┆ …           ┆ …         ┆ …          ┆ …       │\n",
              "│ 581587    ┆ 22613     ┆ PACK OF 20   ┆ 12       ┆ 12/9/2011   ┆ 0.85      ┆ 12680      ┆ France  │\n",
              "│           ┆           ┆ SPACEBOY     ┆          ┆ 12:50       ┆           ┆            ┆         │\n",
              "│           ┆           ┆ NAPKINS      ┆          ┆             ┆           ┆            ┆         │\n",
              "│ 581587    ┆ 22899     ┆ CHILDREN'S   ┆ 6        ┆ 12/9/2011   ┆ 2.1       ┆ 12680      ┆ France  │\n",
              "│           ┆           ┆ APRON DOLLY  ┆          ┆ 12:50       ┆           ┆            ┆         │\n",
              "│           ┆           ┆ GIRL         ┆          ┆             ┆           ┆            ┆         │\n",
              "│ 581587    ┆ 23254     ┆ CHILDRENS    ┆ 4        ┆ 12/9/2011   ┆ 4.15      ┆ 12680      ┆ France  │\n",
              "│           ┆           ┆ CUTLERY      ┆          ┆ 12:50       ┆           ┆            ┆         │\n",
              "│           ┆           ┆ DOLLY GIRL   ┆          ┆             ┆           ┆            ┆         │\n",
              "│ 581587    ┆ 23255     ┆ CHILDRENS    ┆ 4        ┆ 12/9/2011   ┆ 4.15      ┆ 12680      ┆ France  │\n",
              "│           ┆           ┆ CUTLERY      ┆          ┆ 12:50       ┆           ┆            ┆         │\n",
              "│           ┆           ┆ CIRCUS       ┆          ┆             ┆           ┆            ┆         │\n",
              "│           ┆           ┆ PARAD…       ┆          ┆             ┆           ┆            ┆         │\n",
              "│ 581587    ┆ 22138     ┆ BAKING SET 9 ┆ 3        ┆ 12/9/2011   ┆ 4.95      ┆ 12680      ┆ France  │\n",
              "│           ┆           ┆ PIECE        ┆          ┆ 12:50       ┆           ┆            ┆         │\n",
              "│           ┆           ┆ RETROSPOT    ┆          ┆             ┆           ┆            ┆         │\n",
              "└───────────┴───────────┴──────────────┴──────────┴─────────────┴───────────┴────────────┴─────────┘"
            ]
          },
          "execution_count": 3,
          "metadata": {},
          "output_type": "execute_result"
        }
      ],
      "source": [
        "df = df.filter(df[\"Description\"].is_not_null())\n",
        "df"
      ]
    },
    {
      "cell_type": "markdown",
      "metadata": {
        "id": "rKEJ5zB-iEgg"
      },
      "source": [
        "Habiendonos desecho de todos los datos con valores nulos seguiremos con los valores duplicados de todas las columnas, que tambien es importante por si a la hora de insertar los datos se cometio el error de añadir la misma compra dos veces, con lo cual no nos seria util para nuestra posterior predicción."
      ]
    },
    {
      "cell_type": "code",
      "execution_count": null,
      "metadata": {
        "id": "Lu7Y5gxriEgg",
        "outputId": "b677f2af-e808-4082-cea7-4979598f9783"
      },
      "outputs": [
        {
          "data": {
            "text/plain": [
              "'Filas duplicadas: 5268'"
            ]
          },
          "execution_count": 4,
          "metadata": {},
          "output_type": "execute_result"
        }
      ],
      "source": [
        "\n",
        "f\"Filas duplicadas: {df.height - df.unique().height}\""
      ]
    },
    {
      "cell_type": "markdown",
      "metadata": {
        "id": "qwyTFLlViEgg"
      },
      "source": [
        "En nuestro caso elimineramos estas filas duplicadas y, como mencionamos anteriormente, es muy probable que se trate de un error de la aplicacion al insertar datos y nos perjudique a la hora de hacer las predicciones."
      ]
    },
    {
      "cell_type": "code",
      "execution_count": null,
      "metadata": {
        "id": "2OhUoupQiEgh",
        "outputId": "6beb688d-d0f6-4c6e-854a-b615e8a1acdc"
      },
      "outputs": [
        {
          "data": {
            "text/html": [
              "<div><style>\n",
              ".dataframe > thead > tr,\n",
              ".dataframe > tbody > tr {\n",
              "  text-align: right;\n",
              "  white-space: pre-wrap;\n",
              "}\n",
              "</style>\n",
              "<small>shape: (535_187, 8)</small><table border=\"1\" class=\"dataframe\"><thead><tr><th>InvoiceNo</th><th>StockCode</th><th>Description</th><th>Quantity</th><th>InvoiceDate</th><th>UnitPrice</th><th>CustomerID</th><th>Country</th></tr><tr><td>str</td><td>str</td><td>str</td><td>i64</td><td>str</td><td>f64</td><td>i64</td><td>str</td></tr></thead><tbody><tr><td>&quot;564974&quot;</td><td>&quot;22817&quot;</td><td>&quot;CARD SUKI BIRTHDAY&quot;</td><td>1</td><td>&quot;8/31/2011 15:32&quot;</td><td>0.42</td><td>null</td><td>&quot;United Kingdom&quot;</td></tr><tr><td>&quot;559547&quot;</td><td>&quot;21750&quot;</td><td>&quot;LARGE SKULL WINDMILL&quot;</td><td>1</td><td>&quot;7/10/2011 15:12&quot;</td><td>2.1</td><td>17758</td><td>&quot;United Kingdom&quot;</td></tr><tr><td>&quot;552108&quot;</td><td>&quot;21926&quot;</td><td>&quot;RED/CREAM STRIPE CUSHION COVER…</td><td>4</td><td>&quot;5/6/2011 11:36&quot;</td><td>1.25</td><td>17841</td><td>&quot;United Kingdom&quot;</td></tr><tr><td>&quot;556680&quot;</td><td>&quot;23236&quot;</td><td>&quot;DOILEY STORAGE TIN&quot;</td><td>6</td><td>&quot;6/14/2011 8:03&quot;</td><td>2.89</td><td>13971</td><td>&quot;United Kingdom&quot;</td></tr><tr><td>&quot;537826&quot;</td><td>&quot;20781&quot;</td><td>&quot;GOLD EAR MUFF HEADPHONES&quot;</td><td>1</td><td>&quot;12/8/2010 14:38&quot;</td><td>5.49</td><td>15581</td><td>&quot;United Kingdom&quot;</td></tr><tr><td>&hellip;</td><td>&hellip;</td><td>&hellip;</td><td>&hellip;</td><td>&hellip;</td><td>&hellip;</td><td>&hellip;</td><td>&hellip;</td></tr><tr><td>&quot;537160&quot;</td><td>&quot;21809&quot;</td><td>&quot;CHRISTMAS HANGING TREE WITH BE…</td><td>6</td><td>&quot;12/5/2010 13:18&quot;</td><td>1.25</td><td>14161</td><td>&quot;United Kingdom&quot;</td></tr><tr><td>&quot;548504&quot;</td><td>&quot;21430&quot;</td><td>&quot;SET/3 RED GINGHAM ROSE STORAGE…</td><td>2</td><td>&quot;3/31/2011 14:33&quot;</td><td>7.46</td><td>null</td><td>&quot;United Kingdom&quot;</td></tr><tr><td>&quot;545063&quot;</td><td>&quot;21042&quot;</td><td>&quot;RED RETROSPOT APRON &quot;</td><td>1</td><td>&quot;2/27/2011 14:26&quot;</td><td>5.95</td><td>14606</td><td>&quot;United Kingdom&quot;</td></tr><tr><td>&quot;557299&quot;</td><td>&quot;85123A&quot;</td><td>&quot;WHITE HANGING HEART T-LIGHT HO…</td><td>12</td><td>&quot;6/19/2011 13:56&quot;</td><td>2.95</td><td>13047</td><td>&quot;United Kingdom&quot;</td></tr><tr><td>&quot;578936&quot;</td><td>&quot;22989&quot;</td><td>&quot;SET 2 PANTRY DESIGN TEA TOWELS&quot;</td><td>2</td><td>&quot;11/27/2011 13:00&quot;</td><td>3.25</td><td>16923</td><td>&quot;United Kingdom&quot;</td></tr></tbody></table></div>"
            ],
            "text/plain": [
              "shape: (535_187, 8)\n",
              "┌───────────┬───────────┬──────────────┬──────────┬─────────────┬───────────┬────────────┬─────────┐\n",
              "│ InvoiceNo ┆ StockCode ┆ Description  ┆ Quantity ┆ InvoiceDate ┆ UnitPrice ┆ CustomerID ┆ Country │\n",
              "│ ---       ┆ ---       ┆ ---          ┆ ---      ┆ ---         ┆ ---       ┆ ---        ┆ ---     │\n",
              "│ str       ┆ str       ┆ str          ┆ i64      ┆ str         ┆ f64       ┆ i64        ┆ str     │\n",
              "╞═══════════╪═══════════╪══════════════╪══════════╪═════════════╪═══════════╪════════════╪═════════╡\n",
              "│ 564974    ┆ 22817     ┆ CARD SUKI    ┆ 1        ┆ 8/31/2011   ┆ 0.42      ┆ null       ┆ United  │\n",
              "│           ┆           ┆ BIRTHDAY     ┆          ┆ 15:32       ┆           ┆            ┆ Kingdom │\n",
              "│ 559547    ┆ 21750     ┆ LARGE SKULL  ┆ 1        ┆ 7/10/2011   ┆ 2.1       ┆ 17758      ┆ United  │\n",
              "│           ┆           ┆ WINDMILL     ┆          ┆ 15:12       ┆           ┆            ┆ Kingdom │\n",
              "│ 552108    ┆ 21926     ┆ RED/CREAM    ┆ 4        ┆ 5/6/2011    ┆ 1.25      ┆ 17841      ┆ United  │\n",
              "│           ┆           ┆ STRIPE       ┆          ┆ 11:36       ┆           ┆            ┆ Kingdom │\n",
              "│           ┆           ┆ CUSHION      ┆          ┆             ┆           ┆            ┆         │\n",
              "│           ┆           ┆ COVER…       ┆          ┆             ┆           ┆            ┆         │\n",
              "│ 556680    ┆ 23236     ┆ DOILEY       ┆ 6        ┆ 6/14/2011   ┆ 2.89      ┆ 13971      ┆ United  │\n",
              "│           ┆           ┆ STORAGE TIN  ┆          ┆ 8:03        ┆           ┆            ┆ Kingdom │\n",
              "│ 537826    ┆ 20781     ┆ GOLD EAR     ┆ 1        ┆ 12/8/2010   ┆ 5.49      ┆ 15581      ┆ United  │\n",
              "│           ┆           ┆ MUFF         ┆          ┆ 14:38       ┆           ┆            ┆ Kingdom │\n",
              "│           ┆           ┆ HEADPHONES   ┆          ┆             ┆           ┆            ┆         │\n",
              "│ …         ┆ …         ┆ …            ┆ …        ┆ …           ┆ …         ┆ …          ┆ …       │\n",
              "│ 537160    ┆ 21809     ┆ CHRISTMAS    ┆ 6        ┆ 12/5/2010   ┆ 1.25      ┆ 14161      ┆ United  │\n",
              "│           ┆           ┆ HANGING TREE ┆          ┆ 13:18       ┆           ┆            ┆ Kingdom │\n",
              "│           ┆           ┆ WITH BE…     ┆          ┆             ┆           ┆            ┆         │\n",
              "│ 548504    ┆ 21430     ┆ SET/3 RED    ┆ 2        ┆ 3/31/2011   ┆ 7.46      ┆ null       ┆ United  │\n",
              "│           ┆           ┆ GINGHAM ROSE ┆          ┆ 14:33       ┆           ┆            ┆ Kingdom │\n",
              "│           ┆           ┆ STORAGE…     ┆          ┆             ┆           ┆            ┆         │\n",
              "│ 545063    ┆ 21042     ┆ RED          ┆ 1        ┆ 2/27/2011   ┆ 5.95      ┆ 14606      ┆ United  │\n",
              "│           ┆           ┆ RETROSPOT    ┆          ┆ 14:26       ┆           ┆            ┆ Kingdom │\n",
              "│           ┆           ┆ APRON        ┆          ┆             ┆           ┆            ┆         │\n",
              "│ 557299    ┆ 85123A    ┆ WHITE        ┆ 12       ┆ 6/19/2011   ┆ 2.95      ┆ 13047      ┆ United  │\n",
              "│           ┆           ┆ HANGING      ┆          ┆ 13:56       ┆           ┆            ┆ Kingdom │\n",
              "│           ┆           ┆ HEART        ┆          ┆             ┆           ┆            ┆         │\n",
              "│           ┆           ┆ T-LIGHT HO…  ┆          ┆             ┆           ┆            ┆         │\n",
              "│ 578936    ┆ 22989     ┆ SET 2 PANTRY ┆ 2        ┆ 11/27/2011  ┆ 3.25      ┆ 16923      ┆ United  │\n",
              "│           ┆           ┆ DESIGN TEA   ┆          ┆ 13:00       ┆           ┆            ┆ Kingdom │\n",
              "│           ┆           ┆ TOWELS       ┆          ┆             ┆           ┆            ┆         │\n",
              "└───────────┴───────────┴──────────────┴──────────┴─────────────┴───────────┴────────────┴─────────┘"
            ]
          },
          "execution_count": 5,
          "metadata": {},
          "output_type": "execute_result"
        }
      ],
      "source": [
        "\n",
        "df = df.unique()\n",
        "df"
      ]
    },
    {
      "cell_type": "markdown",
      "metadata": {
        "id": "Jg0MECIWiEgh"
      },
      "source": [
        "Ahora iremos con los valores negativos tanto en la columna de Quantity como en el UnitPrice, ya que serian los unicos que podrian tener unos valores negativos."
      ]
    },
    {
      "cell_type": "code",
      "execution_count": null,
      "metadata": {
        "id": "U3wa-jr2iEgh",
        "outputId": "da9258b2-0d38-4db2-b09f-1fcbe43b24f3"
      },
      "outputs": [
        {
          "data": {
            "text/html": [
              "<div><style>\n",
              ".dataframe > thead > tr,\n",
              ".dataframe > tbody > tr {\n",
              "  text-align: right;\n",
              "  white-space: pre-wrap;\n",
              "}\n",
              "</style>\n",
              "<small>shape: (9_727, 8)</small><table border=\"1\" class=\"dataframe\"><thead><tr><th>InvoiceNo</th><th>StockCode</th><th>Description</th><th>Quantity</th><th>InvoiceDate</th><th>UnitPrice</th><th>CustomerID</th><th>Country</th></tr><tr><td>str</td><td>str</td><td>str</td><td>i64</td><td>str</td><td>f64</td><td>i64</td><td>str</td></tr></thead><tbody><tr><td>&quot;C553478&quot;</td><td>&quot;22847&quot;</td><td>&quot;BREAD BIN DINER STYLE IVORY&quot;</td><td>-1</td><td>&quot;5/17/2011 11:47&quot;</td><td>16.95</td><td>17677</td><td>&quot;United Kingdom&quot;</td></tr><tr><td>&quot;C580749&quot;</td><td>&quot;22795&quot;</td><td>&quot;SWEETHEART RECIPE BOOK STAND&quot;</td><td>-6</td><td>&quot;12/6/2011 9:49&quot;</td><td>0.7</td><td>18167</td><td>&quot;United Kingdom&quot;</td></tr><tr><td>&quot;C552849&quot;</td><td>&quot;85123A&quot;</td><td>&quot;WHITE HANGING HEART T-LIGHT HO…</td><td>-12</td><td>&quot;5/11/2011 14:52&quot;</td><td>2.95</td><td>14367</td><td>&quot;United Kingdom&quot;</td></tr><tr><td>&quot;C568899&quot;</td><td>&quot;23292&quot;</td><td>&quot;SPACEBOY CHILDRENS CUP&quot;</td><td>-1</td><td>&quot;9/29/2011 13:20&quot;</td><td>1.25</td><td>12619</td><td>&quot;Germany&quot;</td></tr><tr><td>&quot;C574261&quot;</td><td>&quot;23169&quot;</td><td>&quot;CLASSIC GLASS COOKIE JAR&quot;</td><td>-2</td><td>&quot;11/3/2011 14:00&quot;</td><td>4.15</td><td>12683</td><td>&quot;France&quot;</td></tr><tr><td>&hellip;</td><td>&hellip;</td><td>&hellip;</td><td>&hellip;</td><td>&hellip;</td><td>&hellip;</td><td>&hellip;</td><td>&hellip;</td></tr><tr><td>&quot;C569994&quot;</td><td>&quot;84031A&quot;</td><td>&quot;CHARLIE+LOLA RED HOT WATER BOT…</td><td>-20</td><td>&quot;10/6/2011 20:33&quot;</td><td>1.95</td><td>15606</td><td>&quot;United Kingdom&quot;</td></tr><tr><td>&quot;C541710&quot;</td><td>&quot;22904&quot;</td><td>&quot;CALENDAR PAPER CUT DESIGN&quot;</td><td>-2</td><td>&quot;1/21/2011 11:17&quot;</td><td>2.95</td><td>14320</td><td>&quot;United Kingdom&quot;</td></tr><tr><td>&quot;C539632&quot;</td><td>&quot;85152&quot;</td><td>&quot;HAND OVER THE CHOCOLATE&nbsp;&nbsp;&nbsp;SIGN…</td><td>-48</td><td>&quot;12/20/2010 15:07&quot;</td><td>1.69</td><td>17230</td><td>&quot;United Kingdom&quot;</td></tr><tr><td>&quot;C575590&quot;</td><td>&quot;23483&quot;</td><td>&quot;HANGING&nbsp;&nbsp;BUTTERFLY T-LIGHT HOL…</td><td>-6</td><td>&quot;11/10/2011 12:08&quot;</td><td>1.04</td><td>15785</td><td>&quot;United Kingdom&quot;</td></tr><tr><td>&quot;C575082&quot;</td><td>&quot;22558&quot;</td><td>&quot;CLOTHES PEGS RETROSPOT PACK 24…</td><td>-6</td><td>&quot;11/8/2011 13:30&quot;</td><td>1.65</td><td>12613</td><td>&quot;Germany&quot;</td></tr></tbody></table></div>"
            ],
            "text/plain": [
              "shape: (9_727, 8)\n",
              "┌───────────┬───────────┬──────────────┬──────────┬─────────────┬───────────┬────────────┬─────────┐\n",
              "│ InvoiceNo ┆ StockCode ┆ Description  ┆ Quantity ┆ InvoiceDate ┆ UnitPrice ┆ CustomerID ┆ Country │\n",
              "│ ---       ┆ ---       ┆ ---          ┆ ---      ┆ ---         ┆ ---       ┆ ---        ┆ ---     │\n",
              "│ str       ┆ str       ┆ str          ┆ i64      ┆ str         ┆ f64       ┆ i64        ┆ str     │\n",
              "╞═══════════╪═══════════╪══════════════╪══════════╪═════════════╪═══════════╪════════════╪═════════╡\n",
              "│ C553478   ┆ 22847     ┆ BREAD BIN    ┆ -1       ┆ 5/17/2011   ┆ 16.95     ┆ 17677      ┆ United  │\n",
              "│           ┆           ┆ DINER STYLE  ┆          ┆ 11:47       ┆           ┆            ┆ Kingdom │\n",
              "│           ┆           ┆ IVORY        ┆          ┆             ┆           ┆            ┆         │\n",
              "│ C580749   ┆ 22795     ┆ SWEETHEART   ┆ -6       ┆ 12/6/2011   ┆ 0.7       ┆ 18167      ┆ United  │\n",
              "│           ┆           ┆ RECIPE BOOK  ┆          ┆ 9:49        ┆           ┆            ┆ Kingdom │\n",
              "│           ┆           ┆ STAND        ┆          ┆             ┆           ┆            ┆         │\n",
              "│ C552849   ┆ 85123A    ┆ WHITE        ┆ -12      ┆ 5/11/2011   ┆ 2.95      ┆ 14367      ┆ United  │\n",
              "│           ┆           ┆ HANGING      ┆          ┆ 14:52       ┆           ┆            ┆ Kingdom │\n",
              "│           ┆           ┆ HEART        ┆          ┆             ┆           ┆            ┆         │\n",
              "│           ┆           ┆ T-LIGHT HO…  ┆          ┆             ┆           ┆            ┆         │\n",
              "│ C568899   ┆ 23292     ┆ SPACEBOY     ┆ -1       ┆ 9/29/2011   ┆ 1.25      ┆ 12619      ┆ Germany │\n",
              "│           ┆           ┆ CHILDRENS    ┆          ┆ 13:20       ┆           ┆            ┆         │\n",
              "│           ┆           ┆ CUP          ┆          ┆             ┆           ┆            ┆         │\n",
              "│ C574261   ┆ 23169     ┆ CLASSIC      ┆ -2       ┆ 11/3/2011   ┆ 4.15      ┆ 12683      ┆ France  │\n",
              "│           ┆           ┆ GLASS COOKIE ┆          ┆ 14:00       ┆           ┆            ┆         │\n",
              "│           ┆           ┆ JAR          ┆          ┆             ┆           ┆            ┆         │\n",
              "│ …         ┆ …         ┆ …            ┆ …        ┆ …           ┆ …         ┆ …          ┆ …       │\n",
              "│ C569994   ┆ 84031A    ┆ CHARLIE+LOLA ┆ -20      ┆ 10/6/2011   ┆ 1.95      ┆ 15606      ┆ United  │\n",
              "│           ┆           ┆ RED HOT      ┆          ┆ 20:33       ┆           ┆            ┆ Kingdom │\n",
              "│           ┆           ┆ WATER BOT…   ┆          ┆             ┆           ┆            ┆         │\n",
              "│ C541710   ┆ 22904     ┆ CALENDAR     ┆ -2       ┆ 1/21/2011   ┆ 2.95      ┆ 14320      ┆ United  │\n",
              "│           ┆           ┆ PAPER CUT    ┆          ┆ 11:17       ┆           ┆            ┆ Kingdom │\n",
              "│           ┆           ┆ DESIGN       ┆          ┆             ┆           ┆            ┆         │\n",
              "│ C539632   ┆ 85152     ┆ HAND OVER    ┆ -48      ┆ 12/20/2010  ┆ 1.69      ┆ 17230      ┆ United  │\n",
              "│           ┆           ┆ THE          ┆          ┆ 15:07       ┆           ┆            ┆ Kingdom │\n",
              "│           ┆           ┆ CHOCOLATE    ┆          ┆             ┆           ┆            ┆         │\n",
              "│           ┆           ┆ SIGN…        ┆          ┆             ┆           ┆            ┆         │\n",
              "│ C575590   ┆ 23483     ┆ HANGING      ┆ -6       ┆ 11/10/2011  ┆ 1.04      ┆ 15785      ┆ United  │\n",
              "│           ┆           ┆ BUTTERFLY    ┆          ┆ 12:08       ┆           ┆            ┆ Kingdom │\n",
              "│           ┆           ┆ T-LIGHT HOL… ┆          ┆             ┆           ┆            ┆         │\n",
              "│ C575082   ┆ 22558     ┆ CLOTHES PEGS ┆ -6       ┆ 11/8/2011   ┆ 1.65      ┆ 12613      ┆ Germany │\n",
              "│           ┆           ┆ RETROSPOT    ┆          ┆ 13:30       ┆           ┆            ┆         │\n",
              "│           ┆           ┆ PACK 24…     ┆          ┆             ┆           ┆            ┆         │\n",
              "└───────────┴───────────┴──────────────┴──────────┴─────────────┴───────────┴────────────┴─────────┘"
            ]
          },
          "execution_count": 6,
          "metadata": {},
          "output_type": "execute_result"
        }
      ],
      "source": [
        "df.filter((pl.col(\"Quantity\") < 0) | (pl.col(\"UnitPrice\") < 0))\n"
      ]
    },
    {
      "cell_type": "markdown",
      "metadata": {
        "id": "w3CDILBLiEgh"
      },
      "source": [
        "En este caso vemos que hay valores negativos en estas dos columnas, se podrian interpretar como devoluciones de los productos, pero en este caso no los vamos a usar de esta forma porque no tendria sentido contar con estos valores si solo queremos calcular las ventas y no devoluciones. Asi que los tendremos que eliminar."
      ]
    },
    {
      "cell_type": "code",
      "execution_count": null,
      "metadata": {
        "id": "aC_RPE8OiEgh",
        "outputId": "77276cb2-b592-4bcf-abf3-1dde25217cb2"
      },
      "outputs": [
        {
          "data": {
            "text/html": [
              "<div><style>\n",
              ".dataframe > thead > tr,\n",
              ".dataframe > tbody > tr {\n",
              "  text-align: right;\n",
              "  white-space: pre-wrap;\n",
              "}\n",
              "</style>\n",
              "<small>shape: (525_460, 8)</small><table border=\"1\" class=\"dataframe\"><thead><tr><th>InvoiceNo</th><th>StockCode</th><th>Description</th><th>Quantity</th><th>InvoiceDate</th><th>UnitPrice</th><th>CustomerID</th><th>Country</th></tr><tr><td>str</td><td>str</td><td>str</td><td>i64</td><td>str</td><td>f64</td><td>i64</td><td>str</td></tr></thead><tbody><tr><td>&quot;564974&quot;</td><td>&quot;22817&quot;</td><td>&quot;CARD SUKI BIRTHDAY&quot;</td><td>1</td><td>&quot;8/31/2011 15:32&quot;</td><td>0.42</td><td>null</td><td>&quot;United Kingdom&quot;</td></tr><tr><td>&quot;559547&quot;</td><td>&quot;21750&quot;</td><td>&quot;LARGE SKULL WINDMILL&quot;</td><td>1</td><td>&quot;7/10/2011 15:12&quot;</td><td>2.1</td><td>17758</td><td>&quot;United Kingdom&quot;</td></tr><tr><td>&quot;552108&quot;</td><td>&quot;21926&quot;</td><td>&quot;RED/CREAM STRIPE CUSHION COVER…</td><td>4</td><td>&quot;5/6/2011 11:36&quot;</td><td>1.25</td><td>17841</td><td>&quot;United Kingdom&quot;</td></tr><tr><td>&quot;556680&quot;</td><td>&quot;23236&quot;</td><td>&quot;DOILEY STORAGE TIN&quot;</td><td>6</td><td>&quot;6/14/2011 8:03&quot;</td><td>2.89</td><td>13971</td><td>&quot;United Kingdom&quot;</td></tr><tr><td>&quot;537826&quot;</td><td>&quot;20781&quot;</td><td>&quot;GOLD EAR MUFF HEADPHONES&quot;</td><td>1</td><td>&quot;12/8/2010 14:38&quot;</td><td>5.49</td><td>15581</td><td>&quot;United Kingdom&quot;</td></tr><tr><td>&hellip;</td><td>&hellip;</td><td>&hellip;</td><td>&hellip;</td><td>&hellip;</td><td>&hellip;</td><td>&hellip;</td><td>&hellip;</td></tr><tr><td>&quot;537160&quot;</td><td>&quot;21809&quot;</td><td>&quot;CHRISTMAS HANGING TREE WITH BE…</td><td>6</td><td>&quot;12/5/2010 13:18&quot;</td><td>1.25</td><td>14161</td><td>&quot;United Kingdom&quot;</td></tr><tr><td>&quot;548504&quot;</td><td>&quot;21430&quot;</td><td>&quot;SET/3 RED GINGHAM ROSE STORAGE…</td><td>2</td><td>&quot;3/31/2011 14:33&quot;</td><td>7.46</td><td>null</td><td>&quot;United Kingdom&quot;</td></tr><tr><td>&quot;545063&quot;</td><td>&quot;21042&quot;</td><td>&quot;RED RETROSPOT APRON &quot;</td><td>1</td><td>&quot;2/27/2011 14:26&quot;</td><td>5.95</td><td>14606</td><td>&quot;United Kingdom&quot;</td></tr><tr><td>&quot;557299&quot;</td><td>&quot;85123A&quot;</td><td>&quot;WHITE HANGING HEART T-LIGHT HO…</td><td>12</td><td>&quot;6/19/2011 13:56&quot;</td><td>2.95</td><td>13047</td><td>&quot;United Kingdom&quot;</td></tr><tr><td>&quot;578936&quot;</td><td>&quot;22989&quot;</td><td>&quot;SET 2 PANTRY DESIGN TEA TOWELS&quot;</td><td>2</td><td>&quot;11/27/2011 13:00&quot;</td><td>3.25</td><td>16923</td><td>&quot;United Kingdom&quot;</td></tr></tbody></table></div>"
            ],
            "text/plain": [
              "shape: (525_460, 8)\n",
              "┌───────────┬───────────┬──────────────┬──────────┬─────────────┬───────────┬────────────┬─────────┐\n",
              "│ InvoiceNo ┆ StockCode ┆ Description  ┆ Quantity ┆ InvoiceDate ┆ UnitPrice ┆ CustomerID ┆ Country │\n",
              "│ ---       ┆ ---       ┆ ---          ┆ ---      ┆ ---         ┆ ---       ┆ ---        ┆ ---     │\n",
              "│ str       ┆ str       ┆ str          ┆ i64      ┆ str         ┆ f64       ┆ i64        ┆ str     │\n",
              "╞═══════════╪═══════════╪══════════════╪══════════╪═════════════╪═══════════╪════════════╪═════════╡\n",
              "│ 564974    ┆ 22817     ┆ CARD SUKI    ┆ 1        ┆ 8/31/2011   ┆ 0.42      ┆ null       ┆ United  │\n",
              "│           ┆           ┆ BIRTHDAY     ┆          ┆ 15:32       ┆           ┆            ┆ Kingdom │\n",
              "│ 559547    ┆ 21750     ┆ LARGE SKULL  ┆ 1        ┆ 7/10/2011   ┆ 2.1       ┆ 17758      ┆ United  │\n",
              "│           ┆           ┆ WINDMILL     ┆          ┆ 15:12       ┆           ┆            ┆ Kingdom │\n",
              "│ 552108    ┆ 21926     ┆ RED/CREAM    ┆ 4        ┆ 5/6/2011    ┆ 1.25      ┆ 17841      ┆ United  │\n",
              "│           ┆           ┆ STRIPE       ┆          ┆ 11:36       ┆           ┆            ┆ Kingdom │\n",
              "│           ┆           ┆ CUSHION      ┆          ┆             ┆           ┆            ┆         │\n",
              "│           ┆           ┆ COVER…       ┆          ┆             ┆           ┆            ┆         │\n",
              "│ 556680    ┆ 23236     ┆ DOILEY       ┆ 6        ┆ 6/14/2011   ┆ 2.89      ┆ 13971      ┆ United  │\n",
              "│           ┆           ┆ STORAGE TIN  ┆          ┆ 8:03        ┆           ┆            ┆ Kingdom │\n",
              "│ 537826    ┆ 20781     ┆ GOLD EAR     ┆ 1        ┆ 12/8/2010   ┆ 5.49      ┆ 15581      ┆ United  │\n",
              "│           ┆           ┆ MUFF         ┆          ┆ 14:38       ┆           ┆            ┆ Kingdom │\n",
              "│           ┆           ┆ HEADPHONES   ┆          ┆             ┆           ┆            ┆         │\n",
              "│ …         ┆ …         ┆ …            ┆ …        ┆ …           ┆ …         ┆ …          ┆ …       │\n",
              "│ 537160    ┆ 21809     ┆ CHRISTMAS    ┆ 6        ┆ 12/5/2010   ┆ 1.25      ┆ 14161      ┆ United  │\n",
              "│           ┆           ┆ HANGING TREE ┆          ┆ 13:18       ┆           ┆            ┆ Kingdom │\n",
              "│           ┆           ┆ WITH BE…     ┆          ┆             ┆           ┆            ┆         │\n",
              "│ 548504    ┆ 21430     ┆ SET/3 RED    ┆ 2        ┆ 3/31/2011   ┆ 7.46      ┆ null       ┆ United  │\n",
              "│           ┆           ┆ GINGHAM ROSE ┆          ┆ 14:33       ┆           ┆            ┆ Kingdom │\n",
              "│           ┆           ┆ STORAGE…     ┆          ┆             ┆           ┆            ┆         │\n",
              "│ 545063    ┆ 21042     ┆ RED          ┆ 1        ┆ 2/27/2011   ┆ 5.95      ┆ 14606      ┆ United  │\n",
              "│           ┆           ┆ RETROSPOT    ┆          ┆ 14:26       ┆           ┆            ┆ Kingdom │\n",
              "│           ┆           ┆ APRON        ┆          ┆             ┆           ┆            ┆         │\n",
              "│ 557299    ┆ 85123A    ┆ WHITE        ┆ 12       ┆ 6/19/2011   ┆ 2.95      ┆ 13047      ┆ United  │\n",
              "│           ┆           ┆ HANGING      ┆          ┆ 13:56       ┆           ┆            ┆ Kingdom │\n",
              "│           ┆           ┆ HEART        ┆          ┆             ┆           ┆            ┆         │\n",
              "│           ┆           ┆ T-LIGHT HO…  ┆          ┆             ┆           ┆            ┆         │\n",
              "│ 578936    ┆ 22989     ┆ SET 2 PANTRY ┆ 2        ┆ 11/27/2011  ┆ 3.25      ┆ 16923      ┆ United  │\n",
              "│           ┆           ┆ DESIGN TEA   ┆          ┆ 13:00       ┆           ┆            ┆ Kingdom │\n",
              "│           ┆           ┆ TOWELS       ┆          ┆             ┆           ┆            ┆         │\n",
              "└───────────┴───────────┴──────────────┴──────────┴─────────────┴───────────┴────────────┴─────────┘"
            ]
          },
          "execution_count": 7,
          "metadata": {},
          "output_type": "execute_result"
        }
      ],
      "source": [
        "df = df.filter(~((pl.col(\"Quantity\") < 0) | (pl.col(\"UnitPrice\") < 0)))\n",
        "df\n"
      ]
    },
    {
      "cell_type": "markdown",
      "metadata": {
        "id": "0M60htNkiEgh"
      },
      "source": [
        "Es el turno de la fecha de facturacion, vamos a transformar la columna a tipo date"
      ]
    },
    {
      "cell_type": "code",
      "execution_count": null,
      "metadata": {
        "id": "WnbcfF7qiEgi",
        "outputId": "0ebdffce-1d03-4273-a7b0-fa21f64a0681"
      },
      "outputs": [
        {
          "data": {
            "text/html": [
              "<div><style>\n",
              ".dataframe > thead > tr,\n",
              ".dataframe > tbody > tr {\n",
              "  text-align: right;\n",
              "  white-space: pre-wrap;\n",
              "}\n",
              "</style>\n",
              "<small>shape: (525_460, 8)</small><table border=\"1\" class=\"dataframe\"><thead><tr><th>InvoiceNo</th><th>StockCode</th><th>Description</th><th>Quantity</th><th>InvoiceDate</th><th>UnitPrice</th><th>CustomerID</th><th>Country</th></tr><tr><td>str</td><td>str</td><td>str</td><td>i64</td><td>date</td><td>f64</td><td>i64</td><td>str</td></tr></thead><tbody><tr><td>&quot;564974&quot;</td><td>&quot;22817&quot;</td><td>&quot;CARD SUKI BIRTHDAY&quot;</td><td>1</td><td>2011-08-31</td><td>0.42</td><td>null</td><td>&quot;United Kingdom&quot;</td></tr><tr><td>&quot;559547&quot;</td><td>&quot;21750&quot;</td><td>&quot;LARGE SKULL WINDMILL&quot;</td><td>1</td><td>2011-07-10</td><td>2.1</td><td>17758</td><td>&quot;United Kingdom&quot;</td></tr><tr><td>&quot;552108&quot;</td><td>&quot;21926&quot;</td><td>&quot;RED/CREAM STRIPE CUSHION COVER…</td><td>4</td><td>2011-05-06</td><td>1.25</td><td>17841</td><td>&quot;United Kingdom&quot;</td></tr><tr><td>&quot;556680&quot;</td><td>&quot;23236&quot;</td><td>&quot;DOILEY STORAGE TIN&quot;</td><td>6</td><td>2011-06-14</td><td>2.89</td><td>13971</td><td>&quot;United Kingdom&quot;</td></tr><tr><td>&quot;537826&quot;</td><td>&quot;20781&quot;</td><td>&quot;GOLD EAR MUFF HEADPHONES&quot;</td><td>1</td><td>2010-12-08</td><td>5.49</td><td>15581</td><td>&quot;United Kingdom&quot;</td></tr><tr><td>&hellip;</td><td>&hellip;</td><td>&hellip;</td><td>&hellip;</td><td>&hellip;</td><td>&hellip;</td><td>&hellip;</td><td>&hellip;</td></tr><tr><td>&quot;537160&quot;</td><td>&quot;21809&quot;</td><td>&quot;CHRISTMAS HANGING TREE WITH BE…</td><td>6</td><td>2010-12-05</td><td>1.25</td><td>14161</td><td>&quot;United Kingdom&quot;</td></tr><tr><td>&quot;548504&quot;</td><td>&quot;21430&quot;</td><td>&quot;SET/3 RED GINGHAM ROSE STORAGE…</td><td>2</td><td>2011-03-31</td><td>7.46</td><td>null</td><td>&quot;United Kingdom&quot;</td></tr><tr><td>&quot;545063&quot;</td><td>&quot;21042&quot;</td><td>&quot;RED RETROSPOT APRON &quot;</td><td>1</td><td>2011-02-27</td><td>5.95</td><td>14606</td><td>&quot;United Kingdom&quot;</td></tr><tr><td>&quot;557299&quot;</td><td>&quot;85123A&quot;</td><td>&quot;WHITE HANGING HEART T-LIGHT HO…</td><td>12</td><td>2011-06-19</td><td>2.95</td><td>13047</td><td>&quot;United Kingdom&quot;</td></tr><tr><td>&quot;578936&quot;</td><td>&quot;22989&quot;</td><td>&quot;SET 2 PANTRY DESIGN TEA TOWELS&quot;</td><td>2</td><td>2011-11-27</td><td>3.25</td><td>16923</td><td>&quot;United Kingdom&quot;</td></tr></tbody></table></div>"
            ],
            "text/plain": [
              "shape: (525_460, 8)\n",
              "┌───────────┬───────────┬──────────────┬──────────┬─────────────┬───────────┬────────────┬─────────┐\n",
              "│ InvoiceNo ┆ StockCode ┆ Description  ┆ Quantity ┆ InvoiceDate ┆ UnitPrice ┆ CustomerID ┆ Country │\n",
              "│ ---       ┆ ---       ┆ ---          ┆ ---      ┆ ---         ┆ ---       ┆ ---        ┆ ---     │\n",
              "│ str       ┆ str       ┆ str          ┆ i64      ┆ date        ┆ f64       ┆ i64        ┆ str     │\n",
              "╞═══════════╪═══════════╪══════════════╪══════════╪═════════════╪═══════════╪════════════╪═════════╡\n",
              "│ 564974    ┆ 22817     ┆ CARD SUKI    ┆ 1        ┆ 2011-08-31  ┆ 0.42      ┆ null       ┆ United  │\n",
              "│           ┆           ┆ BIRTHDAY     ┆          ┆             ┆           ┆            ┆ Kingdom │\n",
              "│ 559547    ┆ 21750     ┆ LARGE SKULL  ┆ 1        ┆ 2011-07-10  ┆ 2.1       ┆ 17758      ┆ United  │\n",
              "│           ┆           ┆ WINDMILL     ┆          ┆             ┆           ┆            ┆ Kingdom │\n",
              "│ 552108    ┆ 21926     ┆ RED/CREAM    ┆ 4        ┆ 2011-05-06  ┆ 1.25      ┆ 17841      ┆ United  │\n",
              "│           ┆           ┆ STRIPE       ┆          ┆             ┆           ┆            ┆ Kingdom │\n",
              "│           ┆           ┆ CUSHION      ┆          ┆             ┆           ┆            ┆         │\n",
              "│           ┆           ┆ COVER…       ┆          ┆             ┆           ┆            ┆         │\n",
              "│ 556680    ┆ 23236     ┆ DOILEY       ┆ 6        ┆ 2011-06-14  ┆ 2.89      ┆ 13971      ┆ United  │\n",
              "│           ┆           ┆ STORAGE TIN  ┆          ┆             ┆           ┆            ┆ Kingdom │\n",
              "│ 537826    ┆ 20781     ┆ GOLD EAR     ┆ 1        ┆ 2010-12-08  ┆ 5.49      ┆ 15581      ┆ United  │\n",
              "│           ┆           ┆ MUFF         ┆          ┆             ┆           ┆            ┆ Kingdom │\n",
              "│           ┆           ┆ HEADPHONES   ┆          ┆             ┆           ┆            ┆         │\n",
              "│ …         ┆ …         ┆ …            ┆ …        ┆ …           ┆ …         ┆ …          ┆ …       │\n",
              "│ 537160    ┆ 21809     ┆ CHRISTMAS    ┆ 6        ┆ 2010-12-05  ┆ 1.25      ┆ 14161      ┆ United  │\n",
              "│           ┆           ┆ HANGING TREE ┆          ┆             ┆           ┆            ┆ Kingdom │\n",
              "│           ┆           ┆ WITH BE…     ┆          ┆             ┆           ┆            ┆         │\n",
              "│ 548504    ┆ 21430     ┆ SET/3 RED    ┆ 2        ┆ 2011-03-31  ┆ 7.46      ┆ null       ┆ United  │\n",
              "│           ┆           ┆ GINGHAM ROSE ┆          ┆             ┆           ┆            ┆ Kingdom │\n",
              "│           ┆           ┆ STORAGE…     ┆          ┆             ┆           ┆            ┆         │\n",
              "│ 545063    ┆ 21042     ┆ RED          ┆ 1        ┆ 2011-02-27  ┆ 5.95      ┆ 14606      ┆ United  │\n",
              "│           ┆           ┆ RETROSPOT    ┆          ┆             ┆           ┆            ┆ Kingdom │\n",
              "│           ┆           ┆ APRON        ┆          ┆             ┆           ┆            ┆         │\n",
              "│ 557299    ┆ 85123A    ┆ WHITE        ┆ 12       ┆ 2011-06-19  ┆ 2.95      ┆ 13047      ┆ United  │\n",
              "│           ┆           ┆ HANGING      ┆          ┆             ┆           ┆            ┆ Kingdom │\n",
              "│           ┆           ┆ HEART        ┆          ┆             ┆           ┆            ┆         │\n",
              "│           ┆           ┆ T-LIGHT HO…  ┆          ┆             ┆           ┆            ┆         │\n",
              "│ 578936    ┆ 22989     ┆ SET 2 PANTRY ┆ 2        ┆ 2011-11-27  ┆ 3.25      ┆ 16923      ┆ United  │\n",
              "│           ┆           ┆ DESIGN TEA   ┆          ┆             ┆           ┆            ┆ Kingdom │\n",
              "│           ┆           ┆ TOWELS       ┆          ┆             ┆           ┆            ┆         │\n",
              "└───────────┴───────────┴──────────────┴──────────┴─────────────┴───────────┴────────────┴─────────┘"
            ]
          },
          "execution_count": 8,
          "metadata": {},
          "output_type": "execute_result"
        }
      ],
      "source": [
        "df = df.with_columns(pl.col(\"InvoiceDate\").str.strptime(pl.Date, \"%m/%d/%Y %H:%M\"))\n",
        "df\n"
      ]
    },
    {
      "cell_type": "markdown",
      "metadata": {
        "id": "_DbC0IkgiEgi"
      },
      "source": [
        "Lo siguiente sera buscar algun outliers, para evitar la distorsion de los patrones, la no normalizacion de los datos y que no afecten a la precisión del modelo."
      ]
    },
    {
      "cell_type": "code",
      "execution_count": null,
      "metadata": {
        "id": "iZ-g0w_MiEgi",
        "outputId": "f1c6268c-001d-4232-bcb8-ad7179e43049"
      },
      "outputs": [
        {
          "data": {
            "text/html": [
              "<div><style>\n",
              ".dataframe > thead > tr,\n",
              ".dataframe > tbody > tr {\n",
              "  text-align: right;\n",
              "  white-space: pre-wrap;\n",
              "}\n",
              "</style>\n",
              "<small>shape: (9, 9)</small><table border=\"1\" class=\"dataframe\"><thead><tr><th>statistic</th><th>InvoiceNo</th><th>StockCode</th><th>Description</th><th>Quantity</th><th>InvoiceDate</th><th>UnitPrice</th><th>CustomerID</th><th>Country</th></tr><tr><td>str</td><td>str</td><td>str</td><td>str</td><td>f64</td><td>str</td><td>f64</td><td>f64</td><td>str</td></tr></thead><tbody><tr><td>&quot;count&quot;</td><td>&quot;525460&quot;</td><td>&quot;525460&quot;</td><td>&quot;525460&quot;</td><td>525460.0</td><td>&quot;525460&quot;</td><td>525460.0</td><td>392732.0</td><td>&quot;525460&quot;</td></tr><tr><td>&quot;null_count&quot;</td><td>&quot;0&quot;</td><td>&quot;0&quot;</td><td>&quot;0&quot;</td><td>0.0</td><td>&quot;0&quot;</td><td>0.0</td><td>132728.0</td><td>&quot;0&quot;</td></tr><tr><td>&quot;mean&quot;</td><td>null</td><td>null</td><td>null</td><td>10.68106</td><td>&quot;2011-07-04 00:41:45.379000&quot;</td><td>3.918228</td><td>15287.734822</td><td>null</td></tr><tr><td>&quot;std&quot;</td><td>null</td><td>null</td><td>null</td><td>157.39957</td><td>null</td><td>36.07327</td><td>1713.567773</td><td>null</td></tr><tr><td>&quot;min&quot;</td><td>&quot;536365&quot;</td><td>&quot;10002&quot;</td><td>&quot; 4 PURPLE FLOCK DINNER CANDLES&quot;</td><td>1.0</td><td>&quot;2010-12-01&quot;</td><td>0.0</td><td>12346.0</td><td>&quot;Australia&quot;</td></tr><tr><td>&quot;25%&quot;</td><td>null</td><td>null</td><td>null</td><td>1.0</td><td>&quot;2011-03-28&quot;</td><td>1.25</td><td>13955.0</td><td>null</td></tr><tr><td>&quot;50%&quot;</td><td>null</td><td>null</td><td>null</td><td>4.0</td><td>&quot;2011-07-20&quot;</td><td>2.08</td><td>15150.0</td><td>null</td></tr><tr><td>&quot;75%&quot;</td><td>null</td><td>null</td><td>null</td><td>11.0</td><td>&quot;2011-10-19&quot;</td><td>4.13</td><td>16791.0</td><td>null</td></tr><tr><td>&quot;max&quot;</td><td>&quot;A563185&quot;</td><td>&quot;m&quot;</td><td>&quot;wrongly sold (22719) barcode&quot;</td><td>80995.0</td><td>&quot;2011-12-09&quot;</td><td>13541.33</td><td>18287.0</td><td>&quot;Unspecified&quot;</td></tr></tbody></table></div>"
            ],
            "text/plain": [
              "shape: (9, 9)\n",
              "┌───────────┬───────────┬───────────┬───────────┬───┬───────────┬───────────┬───────────┬──────────┐\n",
              "│ statistic ┆ InvoiceNo ┆ StockCode ┆ Descripti ┆ … ┆ InvoiceDa ┆ UnitPrice ┆ CustomerI ┆ Country  │\n",
              "│ ---       ┆ ---       ┆ ---       ┆ on        ┆   ┆ te        ┆ ---       ┆ D         ┆ ---      │\n",
              "│ str       ┆ str       ┆ str       ┆ ---       ┆   ┆ ---       ┆ f64       ┆ ---       ┆ str      │\n",
              "│           ┆           ┆           ┆ str       ┆   ┆ str       ┆           ┆ f64       ┆          │\n",
              "╞═══════════╪═══════════╪═══════════╪═══════════╪═══╪═══════════╪═══════════╪═══════════╪══════════╡\n",
              "│ count     ┆ 525460    ┆ 525460    ┆ 525460    ┆ … ┆ 525460    ┆ 525460.0  ┆ 392732.0  ┆ 525460   │\n",
              "│ null_coun ┆ 0         ┆ 0         ┆ 0         ┆ … ┆ 0         ┆ 0.0       ┆ 132728.0  ┆ 0        │\n",
              "│ t         ┆           ┆           ┆           ┆   ┆           ┆           ┆           ┆          │\n",
              "│ mean      ┆ null      ┆ null      ┆ null      ┆ … ┆ 2011-07-0 ┆ 3.918228  ┆ 15287.734 ┆ null     │\n",
              "│           ┆           ┆           ┆           ┆   ┆ 4 00:41:4 ┆           ┆ 822       ┆          │\n",
              "│           ┆           ┆           ┆           ┆   ┆ 5.379000  ┆           ┆           ┆          │\n",
              "│ std       ┆ null      ┆ null      ┆ null      ┆ … ┆ null      ┆ 36.07327  ┆ 1713.5677 ┆ null     │\n",
              "│           ┆           ┆           ┆           ┆   ┆           ┆           ┆ 73        ┆          │\n",
              "│ min       ┆ 536365    ┆ 10002     ┆ 4 PURPLE  ┆ … ┆ 2010-12-0 ┆ 0.0       ┆ 12346.0   ┆ Australi │\n",
              "│           ┆           ┆           ┆ FLOCK     ┆   ┆ 1         ┆           ┆           ┆ a        │\n",
              "│           ┆           ┆           ┆ DINNER    ┆   ┆           ┆           ┆           ┆          │\n",
              "│           ┆           ┆           ┆ CANDLES   ┆   ┆           ┆           ┆           ┆          │\n",
              "│ 25%       ┆ null      ┆ null      ┆ null      ┆ … ┆ 2011-03-2 ┆ 1.25      ┆ 13955.0   ┆ null     │\n",
              "│           ┆           ┆           ┆           ┆   ┆ 8         ┆           ┆           ┆          │\n",
              "│ 50%       ┆ null      ┆ null      ┆ null      ┆ … ┆ 2011-07-2 ┆ 2.08      ┆ 15150.0   ┆ null     │\n",
              "│           ┆           ┆           ┆           ┆   ┆ 0         ┆           ┆           ┆          │\n",
              "│ 75%       ┆ null      ┆ null      ┆ null      ┆ … ┆ 2011-10-1 ┆ 4.13      ┆ 16791.0   ┆ null     │\n",
              "│           ┆           ┆           ┆           ┆   ┆ 9         ┆           ┆           ┆          │\n",
              "│ max       ┆ A563185   ┆ m         ┆ wrongly   ┆ … ┆ 2011-12-0 ┆ 13541.33  ┆ 18287.0   ┆ Unspecif │\n",
              "│           ┆           ┆           ┆ sold      ┆   ┆ 9         ┆           ┆           ┆ ied      │\n",
              "│           ┆           ┆           ┆ (22719)   ┆   ┆           ┆           ┆           ┆          │\n",
              "│           ┆           ┆           ┆ barcode   ┆   ┆           ┆           ┆           ┆          │\n",
              "└───────────┴───────────┴───────────┴───────────┴───┴───────────┴───────────┴───────────┴──────────┘"
            ]
          },
          "execution_count": 9,
          "metadata": {},
          "output_type": "execute_result"
        }
      ],
      "source": [
        "df.describe()\n"
      ]
    },
    {
      "cell_type": "markdown",
      "metadata": {
        "id": "tf1coaPeiEgi"
      },
      "source": [
        "# ELIMINAR LOS 0 SOLO\n",
        "Encontramos cosas un poco extrañas:\n",
        "\n",
        "El valor minimo de precio por unidad no puede ser 0, aunque puedan ser regalos que se hacen al comprar ciertos articulos es algo excepcional y necesitamos calcular las ventas por dia lo mas normalizadas posibles. Por lo tanto, filtraremos por un minimo de .1"
      ]
    },
    {
      "cell_type": "code",
      "execution_count": null,
      "metadata": {
        "id": "PMDYjGjAiEgi",
        "outputId": "517b2fca-870b-4925-f154-c42286ba055a"
      },
      "outputs": [
        {
          "data": {
            "text/html": [
              "<div><style>\n",
              ".dataframe > thead > tr,\n",
              ".dataframe > tbody > tr {\n",
              "  text-align: right;\n",
              "  white-space: pre-wrap;\n",
              "}\n",
              "</style>\n",
              "<small>shape: (829, 8)</small><table border=\"1\" class=\"dataframe\"><thead><tr><th>InvoiceNo</th><th>StockCode</th><th>Description</th><th>Quantity</th><th>InvoiceDate</th><th>UnitPrice</th><th>CustomerID</th><th>Country</th></tr><tr><td>str</td><td>str</td><td>str</td><td>i64</td><td>date</td><td>f64</td><td>i64</td><td>str</td></tr></thead><tbody><tr><td>&quot;571486&quot;</td><td>&quot;16218&quot;</td><td>&quot;CARTOON&nbsp;&nbsp;PENCIL SHARPENERS&quot;</td><td>80</td><td>2011-10-17</td><td>0.06</td><td>17612</td><td>&quot;United Kingdom&quot;</td></tr><tr><td>&quot;545176&quot;</td><td>&quot;22681&quot;</td><td>&quot;FRENCH BLUE METAL DOOR SIGN 6&quot;</td><td>3</td><td>2011-02-28</td><td>0.0</td><td>null</td><td>&quot;United Kingdom&quot;</td></tr><tr><td>&quot;571312&quot;</td><td>&quot;16045&quot;</td><td>&quot;POPART WOODEN PENCILS ASST&quot;</td><td>100</td><td>2011-10-17</td><td>0.04</td><td>12474</td><td>&quot;Germany&quot;</td></tr><tr><td>&quot;564530&quot;</td><td>&quot;22679&quot;</td><td>&quot;FRENCH BLUE METAL DOOR SIGN 4&quot;</td><td>3</td><td>2011-08-25</td><td>0.0</td><td>null</td><td>&quot;United Kingdom&quot;</td></tr><tr><td>&quot;575117&quot;</td><td>&quot;16259&quot;</td><td>&quot;PIECE OF CAMO STATIONERY SET&quot;</td><td>8</td><td>2011-11-08</td><td>0.08</td><td>12748</td><td>&quot;United Kingdom&quot;</td></tr><tr><td>&hellip;</td><td>&hellip;</td><td>&hellip;</td><td>&hellip;</td><td>&hellip;</td><td>&hellip;</td><td>&hellip;</td><td>&hellip;</td></tr><tr><td>&quot;562044&quot;</td><td>&quot;16259&quot;</td><td>&quot;PIECE OF CAMO STATIONERY SET&quot;</td><td>216</td><td>2011-08-02</td><td>0.08</td><td>16607</td><td>&quot;United Kingdom&quot;</td></tr><tr><td>&quot;537534&quot;</td><td>&quot;22427&quot;</td><td>&quot;ENAMEL FLOWER JUG CREAM&quot;</td><td>1</td><td>2010-12-07</td><td>0.0</td><td>null</td><td>&quot;United Kingdom&quot;</td></tr><tr><td>&quot;555872&quot;</td><td>&quot;17136A&quot;</td><td>&quot;BLUE STONES ON WIRE FOR CANDLE&quot;</td><td>24</td><td>2011-06-07</td><td>0.08</td><td>13395</td><td>&quot;United Kingdom&quot;</td></tr><tr><td>&quot;580027&quot;</td><td>&quot;16216&quot;</td><td>&quot;LETTER SHAPE PENCIL SHARPENER&quot;</td><td>5</td><td>2011-12-01</td><td>0.06</td><td>14178</td><td>&quot;United Kingdom&quot;</td></tr><tr><td>&quot;575579&quot;</td><td>&quot;22089&quot;</td><td>&quot;PAPER BUNTING VINTAGE PAISLEY&quot;</td><td>24</td><td>2011-11-10</td><td>0.0</td><td>13081</td><td>&quot;United Kingdom&quot;</td></tr></tbody></table></div>"
            ],
            "text/plain": [
              "shape: (829, 8)\n",
              "┌───────────┬───────────┬──────────────┬──────────┬─────────────┬───────────┬────────────┬─────────┐\n",
              "│ InvoiceNo ┆ StockCode ┆ Description  ┆ Quantity ┆ InvoiceDate ┆ UnitPrice ┆ CustomerID ┆ Country │\n",
              "│ ---       ┆ ---       ┆ ---          ┆ ---      ┆ ---         ┆ ---       ┆ ---        ┆ ---     │\n",
              "│ str       ┆ str       ┆ str          ┆ i64      ┆ date        ┆ f64       ┆ i64        ┆ str     │\n",
              "╞═══════════╪═══════════╪══════════════╪══════════╪═════════════╪═══════════╪════════════╪═════════╡\n",
              "│ 571486    ┆ 16218     ┆ CARTOON      ┆ 80       ┆ 2011-10-17  ┆ 0.06      ┆ 17612      ┆ United  │\n",
              "│           ┆           ┆ PENCIL       ┆          ┆             ┆           ┆            ┆ Kingdom │\n",
              "│           ┆           ┆ SHARPENERS   ┆          ┆             ┆           ┆            ┆         │\n",
              "│ 545176    ┆ 22681     ┆ FRENCH BLUE  ┆ 3        ┆ 2011-02-28  ┆ 0.0       ┆ null       ┆ United  │\n",
              "│           ┆           ┆ METAL DOOR   ┆          ┆             ┆           ┆            ┆ Kingdom │\n",
              "│           ┆           ┆ SIGN 6       ┆          ┆             ┆           ┆            ┆         │\n",
              "│ 571312    ┆ 16045     ┆ POPART       ┆ 100      ┆ 2011-10-17  ┆ 0.04      ┆ 12474      ┆ Germany │\n",
              "│           ┆           ┆ WOODEN       ┆          ┆             ┆           ┆            ┆         │\n",
              "│           ┆           ┆ PENCILS ASST ┆          ┆             ┆           ┆            ┆         │\n",
              "│ 564530    ┆ 22679     ┆ FRENCH BLUE  ┆ 3        ┆ 2011-08-25  ┆ 0.0       ┆ null       ┆ United  │\n",
              "│           ┆           ┆ METAL DOOR   ┆          ┆             ┆           ┆            ┆ Kingdom │\n",
              "│           ┆           ┆ SIGN 4       ┆          ┆             ┆           ┆            ┆         │\n",
              "│ 575117    ┆ 16259     ┆ PIECE OF     ┆ 8        ┆ 2011-11-08  ┆ 0.08      ┆ 12748      ┆ United  │\n",
              "│           ┆           ┆ CAMO         ┆          ┆             ┆           ┆            ┆ Kingdom │\n",
              "│           ┆           ┆ STATIONERY   ┆          ┆             ┆           ┆            ┆         │\n",
              "│           ┆           ┆ SET          ┆          ┆             ┆           ┆            ┆         │\n",
              "│ …         ┆ …         ┆ …            ┆ …        ┆ …           ┆ …         ┆ …          ┆ …       │\n",
              "│ 562044    ┆ 16259     ┆ PIECE OF     ┆ 216      ┆ 2011-08-02  ┆ 0.08      ┆ 16607      ┆ United  │\n",
              "│           ┆           ┆ CAMO         ┆          ┆             ┆           ┆            ┆ Kingdom │\n",
              "│           ┆           ┆ STATIONERY   ┆          ┆             ┆           ┆            ┆         │\n",
              "│           ┆           ┆ SET          ┆          ┆             ┆           ┆            ┆         │\n",
              "│ 537534    ┆ 22427     ┆ ENAMEL       ┆ 1        ┆ 2010-12-07  ┆ 0.0       ┆ null       ┆ United  │\n",
              "│           ┆           ┆ FLOWER JUG   ┆          ┆             ┆           ┆            ┆ Kingdom │\n",
              "│           ┆           ┆ CREAM        ┆          ┆             ┆           ┆            ┆         │\n",
              "│ 555872    ┆ 17136A    ┆ BLUE STONES  ┆ 24       ┆ 2011-06-07  ┆ 0.08      ┆ 13395      ┆ United  │\n",
              "│           ┆           ┆ ON WIRE FOR  ┆          ┆             ┆           ┆            ┆ Kingdom │\n",
              "│           ┆           ┆ CANDLE       ┆          ┆             ┆           ┆            ┆         │\n",
              "│ 580027    ┆ 16216     ┆ LETTER SHAPE ┆ 5        ┆ 2011-12-01  ┆ 0.06      ┆ 14178      ┆ United  │\n",
              "│           ┆           ┆ PENCIL       ┆          ┆             ┆           ┆            ┆ Kingdom │\n",
              "│           ┆           ┆ SHARPENER    ┆          ┆             ┆           ┆            ┆         │\n",
              "│ 575579    ┆ 22089     ┆ PAPER        ┆ 24       ┆ 2011-11-10  ┆ 0.0       ┆ 13081      ┆ United  │\n",
              "│           ┆           ┆ BUNTING      ┆          ┆             ┆           ┆            ┆ Kingdom │\n",
              "│           ┆           ┆ VINTAGE      ┆          ┆             ┆           ┆            ┆         │\n",
              "│           ┆           ┆ PAISLEY      ┆          ┆             ┆           ┆            ┆         │\n",
              "└───────────┴───────────┴──────────────┴──────────┴─────────────┴───────────┴────────────┴─────────┘"
            ]
          },
          "execution_count": 10,
          "metadata": {},
          "output_type": "execute_result"
        }
      ],
      "source": [
        "df.filter(pl.col(\"UnitPrice\") < .1)\n"
      ]
    },
    {
      "cell_type": "markdown",
      "metadata": {
        "id": "Yg6CgjGgiEgi"
      },
      "source": [
        "Tenemos 40 casos que tenemos que  no eliminar"
      ]
    },
    {
      "cell_type": "code",
      "execution_count": null,
      "metadata": {
        "id": "y6BGG5VAiEgi",
        "outputId": "cd875bb1-3bab-4bab-d2fd-4877e01f5b42"
      },
      "outputs": [
        {
          "data": {
            "text/html": [
              "<div><style>\n",
              ".dataframe > thead > tr,\n",
              ".dataframe > tbody > tr {\n",
              "  text-align: right;\n",
              "  white-space: pre-wrap;\n",
              "}\n",
              "</style>\n",
              "<small>shape: (524_578, 8)</small><table border=\"1\" class=\"dataframe\"><thead><tr><th>InvoiceNo</th><th>StockCode</th><th>Description</th><th>Quantity</th><th>InvoiceDate</th><th>UnitPrice</th><th>CustomerID</th><th>Country</th></tr><tr><td>str</td><td>str</td><td>str</td><td>i64</td><td>date</td><td>f64</td><td>i64</td><td>str</td></tr></thead><tbody><tr><td>&quot;564974&quot;</td><td>&quot;22817&quot;</td><td>&quot;CARD SUKI BIRTHDAY&quot;</td><td>1</td><td>2011-08-31</td><td>0.42</td><td>null</td><td>&quot;United Kingdom&quot;</td></tr><tr><td>&quot;559547&quot;</td><td>&quot;21750&quot;</td><td>&quot;LARGE SKULL WINDMILL&quot;</td><td>1</td><td>2011-07-10</td><td>2.1</td><td>17758</td><td>&quot;United Kingdom&quot;</td></tr><tr><td>&quot;552108&quot;</td><td>&quot;21926&quot;</td><td>&quot;RED/CREAM STRIPE CUSHION COVER…</td><td>4</td><td>2011-05-06</td><td>1.25</td><td>17841</td><td>&quot;United Kingdom&quot;</td></tr><tr><td>&quot;556680&quot;</td><td>&quot;23236&quot;</td><td>&quot;DOILEY STORAGE TIN&quot;</td><td>6</td><td>2011-06-14</td><td>2.89</td><td>13971</td><td>&quot;United Kingdom&quot;</td></tr><tr><td>&quot;537826&quot;</td><td>&quot;20781&quot;</td><td>&quot;GOLD EAR MUFF HEADPHONES&quot;</td><td>1</td><td>2010-12-08</td><td>5.49</td><td>15581</td><td>&quot;United Kingdom&quot;</td></tr><tr><td>&hellip;</td><td>&hellip;</td><td>&hellip;</td><td>&hellip;</td><td>&hellip;</td><td>&hellip;</td><td>&hellip;</td><td>&hellip;</td></tr><tr><td>&quot;537160&quot;</td><td>&quot;21809&quot;</td><td>&quot;CHRISTMAS HANGING TREE WITH BE…</td><td>6</td><td>2010-12-05</td><td>1.25</td><td>14161</td><td>&quot;United Kingdom&quot;</td></tr><tr><td>&quot;548504&quot;</td><td>&quot;21430&quot;</td><td>&quot;SET/3 RED GINGHAM ROSE STORAGE…</td><td>2</td><td>2011-03-31</td><td>7.46</td><td>null</td><td>&quot;United Kingdom&quot;</td></tr><tr><td>&quot;545063&quot;</td><td>&quot;21042&quot;</td><td>&quot;RED RETROSPOT APRON &quot;</td><td>1</td><td>2011-02-27</td><td>5.95</td><td>14606</td><td>&quot;United Kingdom&quot;</td></tr><tr><td>&quot;557299&quot;</td><td>&quot;85123A&quot;</td><td>&quot;WHITE HANGING HEART T-LIGHT HO…</td><td>12</td><td>2011-06-19</td><td>2.95</td><td>13047</td><td>&quot;United Kingdom&quot;</td></tr><tr><td>&quot;578936&quot;</td><td>&quot;22989&quot;</td><td>&quot;SET 2 PANTRY DESIGN TEA TOWELS&quot;</td><td>2</td><td>2011-11-27</td><td>3.25</td><td>16923</td><td>&quot;United Kingdom&quot;</td></tr></tbody></table></div>"
            ],
            "text/plain": [
              "shape: (524_578, 8)\n",
              "┌───────────┬───────────┬──────────────┬──────────┬─────────────┬───────────┬────────────┬─────────┐\n",
              "│ InvoiceNo ┆ StockCode ┆ Description  ┆ Quantity ┆ InvoiceDate ┆ UnitPrice ┆ CustomerID ┆ Country │\n",
              "│ ---       ┆ ---       ┆ ---          ┆ ---      ┆ ---         ┆ ---       ┆ ---        ┆ ---     │\n",
              "│ str       ┆ str       ┆ str          ┆ i64      ┆ date        ┆ f64       ┆ i64        ┆ str     │\n",
              "╞═══════════╪═══════════╪══════════════╪══════════╪═════════════╪═══════════╪════════════╪═════════╡\n",
              "│ 564974    ┆ 22817     ┆ CARD SUKI    ┆ 1        ┆ 2011-08-31  ┆ 0.42      ┆ null       ┆ United  │\n",
              "│           ┆           ┆ BIRTHDAY     ┆          ┆             ┆           ┆            ┆ Kingdom │\n",
              "│ 559547    ┆ 21750     ┆ LARGE SKULL  ┆ 1        ┆ 2011-07-10  ┆ 2.1       ┆ 17758      ┆ United  │\n",
              "│           ┆           ┆ WINDMILL     ┆          ┆             ┆           ┆            ┆ Kingdom │\n",
              "│ 552108    ┆ 21926     ┆ RED/CREAM    ┆ 4        ┆ 2011-05-06  ┆ 1.25      ┆ 17841      ┆ United  │\n",
              "│           ┆           ┆ STRIPE       ┆          ┆             ┆           ┆            ┆ Kingdom │\n",
              "│           ┆           ┆ CUSHION      ┆          ┆             ┆           ┆            ┆         │\n",
              "│           ┆           ┆ COVER…       ┆          ┆             ┆           ┆            ┆         │\n",
              "│ 556680    ┆ 23236     ┆ DOILEY       ┆ 6        ┆ 2011-06-14  ┆ 2.89      ┆ 13971      ┆ United  │\n",
              "│           ┆           ┆ STORAGE TIN  ┆          ┆             ┆           ┆            ┆ Kingdom │\n",
              "│ 537826    ┆ 20781     ┆ GOLD EAR     ┆ 1        ┆ 2010-12-08  ┆ 5.49      ┆ 15581      ┆ United  │\n",
              "│           ┆           ┆ MUFF         ┆          ┆             ┆           ┆            ┆ Kingdom │\n",
              "│           ┆           ┆ HEADPHONES   ┆          ┆             ┆           ┆            ┆         │\n",
              "│ …         ┆ …         ┆ …            ┆ …        ┆ …           ┆ …         ┆ …          ┆ …       │\n",
              "│ 537160    ┆ 21809     ┆ CHRISTMAS    ┆ 6        ┆ 2010-12-05  ┆ 1.25      ┆ 14161      ┆ United  │\n",
              "│           ┆           ┆ HANGING TREE ┆          ┆             ┆           ┆            ┆ Kingdom │\n",
              "│           ┆           ┆ WITH BE…     ┆          ┆             ┆           ┆            ┆         │\n",
              "│ 548504    ┆ 21430     ┆ SET/3 RED    ┆ 2        ┆ 2011-03-31  ┆ 7.46      ┆ null       ┆ United  │\n",
              "│           ┆           ┆ GINGHAM ROSE ┆          ┆             ┆           ┆            ┆ Kingdom │\n",
              "│           ┆           ┆ STORAGE…     ┆          ┆             ┆           ┆            ┆         │\n",
              "│ 545063    ┆ 21042     ┆ RED          ┆ 1        ┆ 2011-02-27  ┆ 5.95      ┆ 14606      ┆ United  │\n",
              "│           ┆           ┆ RETROSPOT    ┆          ┆             ┆           ┆            ┆ Kingdom │\n",
              "│           ┆           ┆ APRON        ┆          ┆             ┆           ┆            ┆         │\n",
              "│ 557299    ┆ 85123A    ┆ WHITE        ┆ 12       ┆ 2011-06-19  ┆ 2.95      ┆ 13047      ┆ United  │\n",
              "│           ┆           ┆ HANGING      ┆          ┆             ┆           ┆            ┆ Kingdom │\n",
              "│           ┆           ┆ HEART        ┆          ┆             ┆           ┆            ┆         │\n",
              "│           ┆           ┆ T-LIGHT HO…  ┆          ┆             ┆           ┆            ┆         │\n",
              "│ 578936    ┆ 22989     ┆ SET 2 PANTRY ┆ 2        ┆ 2011-11-27  ┆ 3.25      ┆ 16923      ┆ United  │\n",
              "│           ┆           ┆ DESIGN TEA   ┆          ┆             ┆           ┆            ┆ Kingdom │\n",
              "│           ┆           ┆ TOWELS       ┆          ┆             ┆           ┆            ┆         │\n",
              "└───────────┴───────────┴──────────────┴──────────┴─────────────┴───────────┴────────────┴─────────┘"
            ]
          },
          "execution_count": 11,
          "metadata": {},
          "output_type": "execute_result"
        }
      ],
      "source": [
        "\n"
      ]
    },
    {
      "cell_type": "markdown",
      "metadata": {
        "id": "ctuFDKpjiEgi"
      },
      "source": [
        "Siguiendo con las cosas un poco raras que habiamos detectado, en la columna Country habiamos visto un \"unspecified\""
      ]
    },
    {
      "cell_type": "code",
      "execution_count": null,
      "metadata": {
        "id": "zlQHJpr2iEgi",
        "outputId": "76ea206d-5880-4653-dc2d-629ea93e5dba"
      },
      "outputs": [
        {
          "data": {
            "text/html": [
              "<div><style>\n",
              ".dataframe > thead > tr,\n",
              ".dataframe > tbody > tr {\n",
              "  text-align: right;\n",
              "  white-space: pre-wrap;\n",
              "}\n",
              "</style>\n",
              "<small>shape: (442, 8)</small><table border=\"1\" class=\"dataframe\"><thead><tr><th>InvoiceNo</th><th>StockCode</th><th>Description</th><th>Quantity</th><th>InvoiceDate</th><th>UnitPrice</th><th>CustomerID</th><th>Country</th></tr><tr><td>str</td><td>str</td><td>str</td><td>i64</td><td>date</td><td>f64</td><td>i64</td><td>str</td></tr></thead><tbody><tr><td>&quot;559521&quot;</td><td>&quot;23076&quot;</td><td>&quot;ICE CREAM SUNDAE LIP GLOSS&quot;</td><td>24</td><td>2011-07-08</td><td>1.25</td><td>null</td><td>&quot;Unspecified&quot;</td></tr><tr><td>&quot;561658&quot;</td><td>&quot;22325&quot;</td><td>&quot;MOBILE VINTAGE HEARTS &quot;</td><td>1</td><td>2011-07-28</td><td>4.95</td><td>12743</td><td>&quot;Unspecified&quot;</td></tr><tr><td>&quot;552695&quot;</td><td>&quot;22621&quot;</td><td>&quot;TRADITIONAL KNITTING NANCY&quot;</td><td>12</td><td>2011-05-10</td><td>1.65</td><td>16320</td><td>&quot;Unspecified&quot;</td></tr><tr><td>&quot;559521&quot;</td><td>&quot;21124&quot;</td><td>&quot;SET/10 BLUE POLKADOT PARTY CAN…</td><td>1</td><td>2011-07-08</td><td>1.25</td><td>null</td><td>&quot;Unspecified&quot;</td></tr><tr><td>&quot;564051&quot;</td><td>&quot;23301&quot;</td><td>&quot;GARDENERS KNEELING PAD KEEP CA…</td><td>12</td><td>2011-08-22</td><td>1.65</td><td>14265</td><td>&quot;Unspecified&quot;</td></tr><tr><td>&hellip;</td><td>&hellip;</td><td>&hellip;</td><td>&hellip;</td><td>&hellip;</td><td>&hellip;</td><td>&hellip;</td><td>&hellip;</td></tr><tr><td>&quot;565303&quot;</td><td>&quot;21888&quot;</td><td>&quot;BINGO SET&quot;</td><td>2</td><td>2011-09-02</td><td>3.75</td><td>null</td><td>&quot;Unspecified&quot;</td></tr><tr><td>&quot;549687&quot;</td><td>&quot;21123&quot;</td><td>&quot;SET/10 IVORY POLKADOT PARTY CA…</td><td>24</td><td>2011-04-11</td><td>1.25</td><td>12363</td><td>&quot;Unspecified&quot;</td></tr><tr><td>&quot;553857&quot;</td><td>&quot;84913B&quot;</td><td>&quot;MINT GREEN ROSE TOWEL&quot;</td><td>8</td><td>2011-05-19</td><td>4.65</td><td>null</td><td>&quot;Unspecified&quot;</td></tr><tr><td>&quot;565303&quot;</td><td>&quot;22533&quot;</td><td>&quot;MAGIC DRAWING SLATE BAKE A CAK…</td><td>2</td><td>2011-09-02</td><td>0.42</td><td>null</td><td>&quot;Unspecified&quot;</td></tr><tr><td>&quot;565303&quot;</td><td>&quot;22904&quot;</td><td>&quot;CALENDAR PAPER CUT DESIGN&quot;</td><td>1</td><td>2011-09-02</td><td>2.95</td><td>null</td><td>&quot;Unspecified&quot;</td></tr></tbody></table></div>"
            ],
            "text/plain": [
              "shape: (442, 8)\n",
              "┌───────────┬───────────┬────────────┬──────────┬────────────┬───────────┬────────────┬────────────┐\n",
              "│ InvoiceNo ┆ StockCode ┆ Descriptio ┆ Quantity ┆ InvoiceDat ┆ UnitPrice ┆ CustomerID ┆ Country    │\n",
              "│ ---       ┆ ---       ┆ n          ┆ ---      ┆ e          ┆ ---       ┆ ---        ┆ ---        │\n",
              "│ str       ┆ str       ┆ ---        ┆ i64      ┆ ---        ┆ f64       ┆ i64        ┆ str        │\n",
              "│           ┆           ┆ str        ┆          ┆ date       ┆           ┆            ┆            │\n",
              "╞═══════════╪═══════════╪════════════╪══════════╪════════════╪═══════════╪════════════╪════════════╡\n",
              "│ 559521    ┆ 23076     ┆ ICE CREAM  ┆ 24       ┆ 2011-07-08 ┆ 1.25      ┆ null       ┆ Unspecifie │\n",
              "│           ┆           ┆ SUNDAE LIP ┆          ┆            ┆           ┆            ┆ d          │\n",
              "│           ┆           ┆ GLOSS      ┆          ┆            ┆           ┆            ┆            │\n",
              "│ 561658    ┆ 22325     ┆ MOBILE     ┆ 1        ┆ 2011-07-28 ┆ 4.95      ┆ 12743      ┆ Unspecifie │\n",
              "│           ┆           ┆ VINTAGE    ┆          ┆            ┆           ┆            ┆ d          │\n",
              "│           ┆           ┆ HEARTS     ┆          ┆            ┆           ┆            ┆            │\n",
              "│ 552695    ┆ 22621     ┆ TRADITIONA ┆ 12       ┆ 2011-05-10 ┆ 1.65      ┆ 16320      ┆ Unspecifie │\n",
              "│           ┆           ┆ L KNITTING ┆          ┆            ┆           ┆            ┆ d          │\n",
              "│           ┆           ┆ NANCY      ┆          ┆            ┆           ┆            ┆            │\n",
              "│ 559521    ┆ 21124     ┆ SET/10     ┆ 1        ┆ 2011-07-08 ┆ 1.25      ┆ null       ┆ Unspecifie │\n",
              "│           ┆           ┆ BLUE       ┆          ┆            ┆           ┆            ┆ d          │\n",
              "│           ┆           ┆ POLKADOT   ┆          ┆            ┆           ┆            ┆            │\n",
              "│           ┆           ┆ PARTY CAN… ┆          ┆            ┆           ┆            ┆            │\n",
              "│ 564051    ┆ 23301     ┆ GARDENERS  ┆ 12       ┆ 2011-08-22 ┆ 1.65      ┆ 14265      ┆ Unspecifie │\n",
              "│           ┆           ┆ KNEELING   ┆          ┆            ┆           ┆            ┆ d          │\n",
              "│           ┆           ┆ PAD KEEP   ┆          ┆            ┆           ┆            ┆            │\n",
              "│           ┆           ┆ CA…        ┆          ┆            ┆           ┆            ┆            │\n",
              "│ …         ┆ …         ┆ …          ┆ …        ┆ …          ┆ …         ┆ …          ┆ …          │\n",
              "│ 565303    ┆ 21888     ┆ BINGO SET  ┆ 2        ┆ 2011-09-02 ┆ 3.75      ┆ null       ┆ Unspecifie │\n",
              "│           ┆           ┆            ┆          ┆            ┆           ┆            ┆ d          │\n",
              "│ 549687    ┆ 21123     ┆ SET/10     ┆ 24       ┆ 2011-04-11 ┆ 1.25      ┆ 12363      ┆ Unspecifie │\n",
              "│           ┆           ┆ IVORY      ┆          ┆            ┆           ┆            ┆ d          │\n",
              "│           ┆           ┆ POLKADOT   ┆          ┆            ┆           ┆            ┆            │\n",
              "│           ┆           ┆ PARTY CA…  ┆          ┆            ┆           ┆            ┆            │\n",
              "│ 553857    ┆ 84913B    ┆ MINT GREEN ┆ 8        ┆ 2011-05-19 ┆ 4.65      ┆ null       ┆ Unspecifie │\n",
              "│           ┆           ┆ ROSE TOWEL ┆          ┆            ┆           ┆            ┆ d          │\n",
              "│ 565303    ┆ 22533     ┆ MAGIC      ┆ 2        ┆ 2011-09-02 ┆ 0.42      ┆ null       ┆ Unspecifie │\n",
              "│           ┆           ┆ DRAWING    ┆          ┆            ┆           ┆            ┆ d          │\n",
              "│           ┆           ┆ SLATE BAKE ┆          ┆            ┆           ┆            ┆            │\n",
              "│           ┆           ┆ A CAK…     ┆          ┆            ┆           ┆            ┆            │\n",
              "│ 565303    ┆ 22904     ┆ CALENDAR   ┆ 1        ┆ 2011-09-02 ┆ 2.95      ┆ null       ┆ Unspecifie │\n",
              "│           ┆           ┆ PAPER CUT  ┆          ┆            ┆           ┆            ┆ d          │\n",
              "│           ┆           ┆ DESIGN     ┆          ┆            ┆           ┆            ┆            │\n",
              "└───────────┴───────────┴────────────┴──────────┴────────────┴───────────┴────────────┴────────────┘"
            ]
          },
          "execution_count": 12,
          "metadata": {},
          "output_type": "execute_result"
        }
      ],
      "source": [
        "df.filter(pl.col(\"Country\") == \"Unspecified\" )\n"
      ]
    },
    {
      "cell_type": "markdown",
      "metadata": {
        "id": "-0Ep7WULiEgi"
      },
      "source": [
        "Como en nuestro caso nos parece util y queremos llegar a agrupar las ventas por paises debemos eliminar las filas que contengan \"Unspecified\" en la columna Country."
      ]
    },
    {
      "cell_type": "code",
      "execution_count": null,
      "metadata": {
        "id": "rBneF_PNiEgj",
        "outputId": "601f0220-bc46-4e76-a9ad-969199bdaf30"
      },
      "outputs": [
        {
          "data": {
            "text/html": [
              "<div><style>\n",
              ".dataframe > thead > tr,\n",
              ".dataframe > tbody > tr {\n",
              "  text-align: right;\n",
              "  white-space: pre-wrap;\n",
              "}\n",
              "</style>\n",
              "<small>shape: (524_136, 8)</small><table border=\"1\" class=\"dataframe\"><thead><tr><th>InvoiceNo</th><th>StockCode</th><th>Description</th><th>Quantity</th><th>InvoiceDate</th><th>UnitPrice</th><th>CustomerID</th><th>Country</th></tr><tr><td>str</td><td>str</td><td>str</td><td>i64</td><td>date</td><td>f64</td><td>i64</td><td>str</td></tr></thead><tbody><tr><td>&quot;564974&quot;</td><td>&quot;22817&quot;</td><td>&quot;CARD SUKI BIRTHDAY&quot;</td><td>1</td><td>2011-08-31</td><td>0.42</td><td>null</td><td>&quot;United Kingdom&quot;</td></tr><tr><td>&quot;559547&quot;</td><td>&quot;21750&quot;</td><td>&quot;LARGE SKULL WINDMILL&quot;</td><td>1</td><td>2011-07-10</td><td>2.1</td><td>17758</td><td>&quot;United Kingdom&quot;</td></tr><tr><td>&quot;552108&quot;</td><td>&quot;21926&quot;</td><td>&quot;RED/CREAM STRIPE CUSHION COVER…</td><td>4</td><td>2011-05-06</td><td>1.25</td><td>17841</td><td>&quot;United Kingdom&quot;</td></tr><tr><td>&quot;556680&quot;</td><td>&quot;23236&quot;</td><td>&quot;DOILEY STORAGE TIN&quot;</td><td>6</td><td>2011-06-14</td><td>2.89</td><td>13971</td><td>&quot;United Kingdom&quot;</td></tr><tr><td>&quot;537826&quot;</td><td>&quot;20781&quot;</td><td>&quot;GOLD EAR MUFF HEADPHONES&quot;</td><td>1</td><td>2010-12-08</td><td>5.49</td><td>15581</td><td>&quot;United Kingdom&quot;</td></tr><tr><td>&hellip;</td><td>&hellip;</td><td>&hellip;</td><td>&hellip;</td><td>&hellip;</td><td>&hellip;</td><td>&hellip;</td><td>&hellip;</td></tr><tr><td>&quot;537160&quot;</td><td>&quot;21809&quot;</td><td>&quot;CHRISTMAS HANGING TREE WITH BE…</td><td>6</td><td>2010-12-05</td><td>1.25</td><td>14161</td><td>&quot;United Kingdom&quot;</td></tr><tr><td>&quot;548504&quot;</td><td>&quot;21430&quot;</td><td>&quot;SET/3 RED GINGHAM ROSE STORAGE…</td><td>2</td><td>2011-03-31</td><td>7.46</td><td>null</td><td>&quot;United Kingdom&quot;</td></tr><tr><td>&quot;545063&quot;</td><td>&quot;21042&quot;</td><td>&quot;RED RETROSPOT APRON &quot;</td><td>1</td><td>2011-02-27</td><td>5.95</td><td>14606</td><td>&quot;United Kingdom&quot;</td></tr><tr><td>&quot;557299&quot;</td><td>&quot;85123A&quot;</td><td>&quot;WHITE HANGING HEART T-LIGHT HO…</td><td>12</td><td>2011-06-19</td><td>2.95</td><td>13047</td><td>&quot;United Kingdom&quot;</td></tr><tr><td>&quot;578936&quot;</td><td>&quot;22989&quot;</td><td>&quot;SET 2 PANTRY DESIGN TEA TOWELS&quot;</td><td>2</td><td>2011-11-27</td><td>3.25</td><td>16923</td><td>&quot;United Kingdom&quot;</td></tr></tbody></table></div>"
            ],
            "text/plain": [
              "shape: (524_136, 8)\n",
              "┌───────────┬───────────┬──────────────┬──────────┬─────────────┬───────────┬────────────┬─────────┐\n",
              "│ InvoiceNo ┆ StockCode ┆ Description  ┆ Quantity ┆ InvoiceDate ┆ UnitPrice ┆ CustomerID ┆ Country │\n",
              "│ ---       ┆ ---       ┆ ---          ┆ ---      ┆ ---         ┆ ---       ┆ ---        ┆ ---     │\n",
              "│ str       ┆ str       ┆ str          ┆ i64      ┆ date        ┆ f64       ┆ i64        ┆ str     │\n",
              "╞═══════════╪═══════════╪══════════════╪══════════╪═════════════╪═══════════╪════════════╪═════════╡\n",
              "│ 564974    ┆ 22817     ┆ CARD SUKI    ┆ 1        ┆ 2011-08-31  ┆ 0.42      ┆ null       ┆ United  │\n",
              "│           ┆           ┆ BIRTHDAY     ┆          ┆             ┆           ┆            ┆ Kingdom │\n",
              "│ 559547    ┆ 21750     ┆ LARGE SKULL  ┆ 1        ┆ 2011-07-10  ┆ 2.1       ┆ 17758      ┆ United  │\n",
              "│           ┆           ┆ WINDMILL     ┆          ┆             ┆           ┆            ┆ Kingdom │\n",
              "│ 552108    ┆ 21926     ┆ RED/CREAM    ┆ 4        ┆ 2011-05-06  ┆ 1.25      ┆ 17841      ┆ United  │\n",
              "│           ┆           ┆ STRIPE       ┆          ┆             ┆           ┆            ┆ Kingdom │\n",
              "│           ┆           ┆ CUSHION      ┆          ┆             ┆           ┆            ┆         │\n",
              "│           ┆           ┆ COVER…       ┆          ┆             ┆           ┆            ┆         │\n",
              "│ 556680    ┆ 23236     ┆ DOILEY       ┆ 6        ┆ 2011-06-14  ┆ 2.89      ┆ 13971      ┆ United  │\n",
              "│           ┆           ┆ STORAGE TIN  ┆          ┆             ┆           ┆            ┆ Kingdom │\n",
              "│ 537826    ┆ 20781     ┆ GOLD EAR     ┆ 1        ┆ 2010-12-08  ┆ 5.49      ┆ 15581      ┆ United  │\n",
              "│           ┆           ┆ MUFF         ┆          ┆             ┆           ┆            ┆ Kingdom │\n",
              "│           ┆           ┆ HEADPHONES   ┆          ┆             ┆           ┆            ┆         │\n",
              "│ …         ┆ …         ┆ …            ┆ …        ┆ …           ┆ …         ┆ …          ┆ …       │\n",
              "│ 537160    ┆ 21809     ┆ CHRISTMAS    ┆ 6        ┆ 2010-12-05  ┆ 1.25      ┆ 14161      ┆ United  │\n",
              "│           ┆           ┆ HANGING TREE ┆          ┆             ┆           ┆            ┆ Kingdom │\n",
              "│           ┆           ┆ WITH BE…     ┆          ┆             ┆           ┆            ┆         │\n",
              "│ 548504    ┆ 21430     ┆ SET/3 RED    ┆ 2        ┆ 2011-03-31  ┆ 7.46      ┆ null       ┆ United  │\n",
              "│           ┆           ┆ GINGHAM ROSE ┆          ┆             ┆           ┆            ┆ Kingdom │\n",
              "│           ┆           ┆ STORAGE…     ┆          ┆             ┆           ┆            ┆         │\n",
              "│ 545063    ┆ 21042     ┆ RED          ┆ 1        ┆ 2011-02-27  ┆ 5.95      ┆ 14606      ┆ United  │\n",
              "│           ┆           ┆ RETROSPOT    ┆          ┆             ┆           ┆            ┆ Kingdom │\n",
              "│           ┆           ┆ APRON        ┆          ┆             ┆           ┆            ┆         │\n",
              "│ 557299    ┆ 85123A    ┆ WHITE        ┆ 12       ┆ 2011-06-19  ┆ 2.95      ┆ 13047      ┆ United  │\n",
              "│           ┆           ┆ HANGING      ┆          ┆             ┆           ┆            ┆ Kingdom │\n",
              "│           ┆           ┆ HEART        ┆          ┆             ┆           ┆            ┆         │\n",
              "│           ┆           ┆ T-LIGHT HO…  ┆          ┆             ┆           ┆            ┆         │\n",
              "│ 578936    ┆ 22989     ┆ SET 2 PANTRY ┆ 2        ┆ 2011-11-27  ┆ 3.25      ┆ 16923      ┆ United  │\n",
              "│           ┆           ┆ DESIGN TEA   ┆          ┆             ┆           ┆            ┆ Kingdom │\n",
              "│           ┆           ┆ TOWELS       ┆          ┆             ┆           ┆            ┆         │\n",
              "└───────────┴───────────┴──────────────┴──────────┴─────────────┴───────────┴────────────┴─────────┘"
            ]
          },
          "execution_count": 13,
          "metadata": {},
          "output_type": "execute_result"
        }
      ],
      "source": [
        "df = df.filter(pl.col(\"Country\") != \"Unspecified\" )\n",
        "df"
      ]
    },
    {
      "cell_type": "markdown",
      "metadata": {
        "id": "LgZQoVMfiEgj"
      },
      "source": [
        "Algo raro tambien es que habia valores maximos muy altos en la cantidad y en el precio, es decir tenemos claramente outliers que habiamos detectado antes. Para solucionar esto usaremos la formula del IQR para ddefinir un limite superior e inderior en los valores."
      ]
    },
    {
      "cell_type": "code",
      "execution_count": null,
      "metadata": {
        "id": "Tzh57tRtiEgj",
        "outputId": "5bca8392-be9e-4bb8-a25d-94141b7d7621"
      },
      "outputs": [
        {
          "name": "stdout",
          "output_type": "stream",
          "text": [
            "\n",
            "IQR for Quantity\n",
            "1.0 11.0 10.0 -14.0 26.0\n",
            "\n",
            "IQR for UnitPrice\n",
            "1.25 4.13 2.88 -3.0700000000000003 8.45\n"
          ]
        }
      ],
      "source": [
        "def calc_iqr_from_column_name(name:str)-> None:\n",
        "    Q1 = df[name].quantile(0.25)\n",
        "    Q3 = df[name].quantile(0.75)\n",
        "    IQR = Q3 - Q1\n",
        "\n",
        "    lower_bound = Q1 - 1.5 * IQR\n",
        "    upper_bound = Q3 + 1.5 * IQR\n",
        "\n",
        "    print(f\"\\nIQR for {name}\")\n",
        "    print(Q1, Q3, IQR, lower_bound, upper_bound)\n",
        "\n",
        "calc_iqr_from_column_name(\"Quantity\")\n",
        "calc_iqr_from_column_name(\"UnitPrice\")"
      ]
    },
    {
      "cell_type": "code",
      "execution_count": null,
      "metadata": {
        "id": "rQAlFrCSiEgj",
        "outputId": "980263b3-3fae-42f6-df63-29da6e06ff21"
      },
      "outputs": [
        {
          "data": {
            "text/html": [
              "<div><style>\n",
              ".dataframe > thead > tr,\n",
              ".dataframe > tbody > tr {\n",
              "  text-align: right;\n",
              "  white-space: pre-wrap;\n",
              "}\n",
              "</style>\n",
              "<small>shape: (81_321, 8)</small><table border=\"1\" class=\"dataframe\"><thead><tr><th>InvoiceNo</th><th>StockCode</th><th>Description</th><th>Quantity</th><th>InvoiceDate</th><th>UnitPrice</th><th>CustomerID</th><th>Country</th></tr><tr><td>str</td><td>str</td><td>str</td><td>i64</td><td>date</td><td>f64</td><td>i64</td><td>str</td></tr></thead><tbody><tr><td>&quot;568703&quot;</td><td>&quot;22066&quot;</td><td>&quot;LOVE HEART TRINKET POT&quot;</td><td>40</td><td>2011-09-28</td><td>0.39</td><td>12748</td><td>&quot;United Kingdom&quot;</td></tr><tr><td>&quot;552040&quot;</td><td>&quot;21524&quot;</td><td>&quot;DOORMAT SPOTTY HOME SWEET HOME&quot;</td><td>6</td><td>2011-05-06</td><td>7.95</td><td>12502</td><td>&quot;Spain&quot;</td></tr><tr><td>&quot;556927&quot;</td><td>&quot;20979&quot;</td><td>&quot;36 PENCILS TUBE RED RETROSPOT&quot;</td><td>128</td><td>2011-06-15</td><td>1.06</td><td>14156</td><td>&quot;EIRE&quot;</td></tr><tr><td>&quot;553346&quot;</td><td>&quot;48138&quot;</td><td>&quot;DOORMAT UNION FLAG&quot;</td><td>2</td><td>2011-05-16</td><td>7.95</td><td>17054</td><td>&quot;United Kingdom&quot;</td></tr><tr><td>&quot;558475&quot;</td><td>&quot;22424&quot;</td><td>&quot;ENAMEL BREAD BIN CREAM&quot;</td><td>1</td><td>2011-06-29</td><td>24.96</td><td>null</td><td>&quot;United Kingdom&quot;</td></tr><tr><td>&hellip;</td><td>&hellip;</td><td>&hellip;</td><td>&hellip;</td><td>&hellip;</td><td>&hellip;</td><td>&hellip;</td><td>&hellip;</td></tr><tr><td>&quot;559678&quot;</td><td>&quot;23284&quot;</td><td>&quot;DOORMAT KEEP CALM AND COME IN&quot;</td><td>5</td><td>2011-07-11</td><td>7.95</td><td>16033</td><td>&quot;United Kingdom&quot;</td></tr><tr><td>&quot;574165&quot;</td><td>&quot;21287&quot;</td><td>&quot;SCENTED VELVET LOUNGE CANDLE &quot;</td><td>72</td><td>2011-11-03</td><td>0.38</td><td>14815</td><td>&quot;United Kingdom&quot;</td></tr><tr><td>&quot;551962&quot;</td><td>&quot;23054&quot;</td><td>&quot;RECYCLED ACAPULCO MAT LAVENDER&quot;</td><td>3</td><td>2011-05-05</td><td>8.25</td><td>17955</td><td>&quot;United Kingdom&quot;</td></tr><tr><td>&quot;581395&quot;</td><td>&quot;23080&quot;</td><td>&quot;RED METAL BOX TOP SECRET&quot;</td><td>1</td><td>2011-12-08</td><td>8.25</td><td>16892</td><td>&quot;United Kingdom&quot;</td></tr><tr><td>&quot;540267&quot;</td><td>&quot;22514&quot;</td><td>&quot;CHILDS GARDEN SPADE BLUE&quot;</td><td>36</td><td>2011-01-06</td><td>1.85</td><td>12415</td><td>&quot;Australia&quot;</td></tr></tbody></table></div>"
            ],
            "text/plain": [
              "shape: (81_321, 8)\n",
              "┌───────────┬───────────┬────────────┬──────────┬────────────┬───────────┬────────────┬────────────┐\n",
              "│ InvoiceNo ┆ StockCode ┆ Descriptio ┆ Quantity ┆ InvoiceDat ┆ UnitPrice ┆ CustomerID ┆ Country    │\n",
              "│ ---       ┆ ---       ┆ n          ┆ ---      ┆ e          ┆ ---       ┆ ---        ┆ ---        │\n",
              "│ str       ┆ str       ┆ ---        ┆ i64      ┆ ---        ┆ f64       ┆ i64        ┆ str        │\n",
              "│           ┆           ┆ str        ┆          ┆ date       ┆           ┆            ┆            │\n",
              "╞═══════════╪═══════════╪════════════╪══════════╪════════════╪═══════════╪════════════╪════════════╡\n",
              "│ 568703    ┆ 22066     ┆ LOVE HEART ┆ 40       ┆ 2011-09-28 ┆ 0.39      ┆ 12748      ┆ United     │\n",
              "│           ┆           ┆ TRINKET    ┆          ┆            ┆           ┆            ┆ Kingdom    │\n",
              "│           ┆           ┆ POT        ┆          ┆            ┆           ┆            ┆            │\n",
              "│ 552040    ┆ 21524     ┆ DOORMAT    ┆ 6        ┆ 2011-05-06 ┆ 7.95      ┆ 12502      ┆ Spain      │\n",
              "│           ┆           ┆ SPOTTY     ┆          ┆            ┆           ┆            ┆            │\n",
              "│           ┆           ┆ HOME SWEET ┆          ┆            ┆           ┆            ┆            │\n",
              "│           ┆           ┆ HOME       ┆          ┆            ┆           ┆            ┆            │\n",
              "│ 556927    ┆ 20979     ┆ 36 PENCILS ┆ 128      ┆ 2011-06-15 ┆ 1.06      ┆ 14156      ┆ EIRE       │\n",
              "│           ┆           ┆ TUBE RED   ┆          ┆            ┆           ┆            ┆            │\n",
              "│           ┆           ┆ RETROSPOT  ┆          ┆            ┆           ┆            ┆            │\n",
              "│ 553346    ┆ 48138     ┆ DOORMAT    ┆ 2        ┆ 2011-05-16 ┆ 7.95      ┆ 17054      ┆ United     │\n",
              "│           ┆           ┆ UNION FLAG ┆          ┆            ┆           ┆            ┆ Kingdom    │\n",
              "│ 558475    ┆ 22424     ┆ ENAMEL     ┆ 1        ┆ 2011-06-29 ┆ 24.96     ┆ null       ┆ United     │\n",
              "│           ┆           ┆ BREAD BIN  ┆          ┆            ┆           ┆            ┆ Kingdom    │\n",
              "│           ┆           ┆ CREAM      ┆          ┆            ┆           ┆            ┆            │\n",
              "│ …         ┆ …         ┆ …          ┆ …        ┆ …          ┆ …         ┆ …          ┆ …          │\n",
              "│ 559678    ┆ 23284     ┆ DOORMAT    ┆ 5        ┆ 2011-07-11 ┆ 7.95      ┆ 16033      ┆ United     │\n",
              "│           ┆           ┆ KEEP CALM  ┆          ┆            ┆           ┆            ┆ Kingdom    │\n",
              "│           ┆           ┆ AND COME   ┆          ┆            ┆           ┆            ┆            │\n",
              "│           ┆           ┆ IN         ┆          ┆            ┆           ┆            ┆            │\n",
              "│ 574165    ┆ 21287     ┆ SCENTED    ┆ 72       ┆ 2011-11-03 ┆ 0.38      ┆ 14815      ┆ United     │\n",
              "│           ┆           ┆ VELVET     ┆          ┆            ┆           ┆            ┆ Kingdom    │\n",
              "│           ┆           ┆ LOUNGE     ┆          ┆            ┆           ┆            ┆            │\n",
              "│           ┆           ┆ CANDLE     ┆          ┆            ┆           ┆            ┆            │\n",
              "│ 551962    ┆ 23054     ┆ RECYCLED   ┆ 3        ┆ 2011-05-05 ┆ 8.25      ┆ 17955      ┆ United     │\n",
              "│           ┆           ┆ ACAPULCO   ┆          ┆            ┆           ┆            ┆ Kingdom    │\n",
              "│           ┆           ┆ MAT        ┆          ┆            ┆           ┆            ┆            │\n",
              "│           ┆           ┆ LAVENDER   ┆          ┆            ┆           ┆            ┆            │\n",
              "│ 581395    ┆ 23080     ┆ RED METAL  ┆ 1        ┆ 2011-12-08 ┆ 8.25      ┆ 16892      ┆ United     │\n",
              "│           ┆           ┆ BOX TOP    ┆          ┆            ┆           ┆            ┆ Kingdom    │\n",
              "│           ┆           ┆ SECRET     ┆          ┆            ┆           ┆            ┆            │\n",
              "│ 540267    ┆ 22514     ┆ CHILDS     ┆ 36       ┆ 2011-01-06 ┆ 1.85      ┆ 12415      ┆ Australia  │\n",
              "│           ┆           ┆ GARDEN     ┆          ┆            ┆           ┆            ┆            │\n",
              "│           ┆           ┆ SPADE BLUE ┆          ┆            ┆           ┆            ┆            │\n",
              "└───────────┴───────────┴────────────┴──────────┴────────────┴───────────┴────────────┴────────────┘"
            ]
          },
          "execution_count": 15,
          "metadata": {},
          "output_type": "execute_result"
        }
      ],
      "source": [
        "upper_bound_limit_condition = (pl.col(\"Quantity\") > 27) | (pl.col(\"UnitPrice\") > 7.5)\n",
        "\n",
        "df.filter(upper_bound_limit_condition)"
      ]
    },
    {
      "cell_type": "markdown",
      "metadata": {
        "id": "rHflIgtsiEgj"
      },
      "source": [
        "LLevando a cabo esta accion estariamos eliminando bastantes datos, pero la parte positiva es que estariamos normalizando lo maximo posible el flujo de los datos, entonces procederemos a eliminarlos."
      ]
    },
    {
      "cell_type": "code",
      "execution_count": null,
      "metadata": {
        "id": "8UnCdDyTiEgj",
        "outputId": "b69545af-e436-4835-a5f3-74e0afd79843"
      },
      "outputs": [
        {
          "data": {
            "text/html": [
              "<div><style>\n",
              ".dataframe > thead > tr,\n",
              ".dataframe > tbody > tr {\n",
              "  text-align: right;\n",
              "  white-space: pre-wrap;\n",
              "}\n",
              "</style>\n",
              "<small>shape: (442_815, 8)</small><table border=\"1\" class=\"dataframe\"><thead><tr><th>InvoiceNo</th><th>StockCode</th><th>Description</th><th>Quantity</th><th>InvoiceDate</th><th>UnitPrice</th><th>CustomerID</th><th>Country</th></tr><tr><td>str</td><td>str</td><td>str</td><td>i64</td><td>date</td><td>f64</td><td>i64</td><td>str</td></tr></thead><tbody><tr><td>&quot;564974&quot;</td><td>&quot;22817&quot;</td><td>&quot;CARD SUKI BIRTHDAY&quot;</td><td>1</td><td>2011-08-31</td><td>0.42</td><td>null</td><td>&quot;United Kingdom&quot;</td></tr><tr><td>&quot;559547&quot;</td><td>&quot;21750&quot;</td><td>&quot;LARGE SKULL WINDMILL&quot;</td><td>1</td><td>2011-07-10</td><td>2.1</td><td>17758</td><td>&quot;United Kingdom&quot;</td></tr><tr><td>&quot;552108&quot;</td><td>&quot;21926&quot;</td><td>&quot;RED/CREAM STRIPE CUSHION COVER…</td><td>4</td><td>2011-05-06</td><td>1.25</td><td>17841</td><td>&quot;United Kingdom&quot;</td></tr><tr><td>&quot;556680&quot;</td><td>&quot;23236&quot;</td><td>&quot;DOILEY STORAGE TIN&quot;</td><td>6</td><td>2011-06-14</td><td>2.89</td><td>13971</td><td>&quot;United Kingdom&quot;</td></tr><tr><td>&quot;537826&quot;</td><td>&quot;20781&quot;</td><td>&quot;GOLD EAR MUFF HEADPHONES&quot;</td><td>1</td><td>2010-12-08</td><td>5.49</td><td>15581</td><td>&quot;United Kingdom&quot;</td></tr><tr><td>&hellip;</td><td>&hellip;</td><td>&hellip;</td><td>&hellip;</td><td>&hellip;</td><td>&hellip;</td><td>&hellip;</td><td>&hellip;</td></tr><tr><td>&quot;537160&quot;</td><td>&quot;21809&quot;</td><td>&quot;CHRISTMAS HANGING TREE WITH BE…</td><td>6</td><td>2010-12-05</td><td>1.25</td><td>14161</td><td>&quot;United Kingdom&quot;</td></tr><tr><td>&quot;548504&quot;</td><td>&quot;21430&quot;</td><td>&quot;SET/3 RED GINGHAM ROSE STORAGE…</td><td>2</td><td>2011-03-31</td><td>7.46</td><td>null</td><td>&quot;United Kingdom&quot;</td></tr><tr><td>&quot;545063&quot;</td><td>&quot;21042&quot;</td><td>&quot;RED RETROSPOT APRON &quot;</td><td>1</td><td>2011-02-27</td><td>5.95</td><td>14606</td><td>&quot;United Kingdom&quot;</td></tr><tr><td>&quot;557299&quot;</td><td>&quot;85123A&quot;</td><td>&quot;WHITE HANGING HEART T-LIGHT HO…</td><td>12</td><td>2011-06-19</td><td>2.95</td><td>13047</td><td>&quot;United Kingdom&quot;</td></tr><tr><td>&quot;578936&quot;</td><td>&quot;22989&quot;</td><td>&quot;SET 2 PANTRY DESIGN TEA TOWELS&quot;</td><td>2</td><td>2011-11-27</td><td>3.25</td><td>16923</td><td>&quot;United Kingdom&quot;</td></tr></tbody></table></div>"
            ],
            "text/plain": [
              "shape: (442_815, 8)\n",
              "┌───────────┬───────────┬──────────────┬──────────┬─────────────┬───────────┬────────────┬─────────┐\n",
              "│ InvoiceNo ┆ StockCode ┆ Description  ┆ Quantity ┆ InvoiceDate ┆ UnitPrice ┆ CustomerID ┆ Country │\n",
              "│ ---       ┆ ---       ┆ ---          ┆ ---      ┆ ---         ┆ ---       ┆ ---        ┆ ---     │\n",
              "│ str       ┆ str       ┆ str          ┆ i64      ┆ date        ┆ f64       ┆ i64        ┆ str     │\n",
              "╞═══════════╪═══════════╪══════════════╪══════════╪═════════════╪═══════════╪════════════╪═════════╡\n",
              "│ 564974    ┆ 22817     ┆ CARD SUKI    ┆ 1        ┆ 2011-08-31  ┆ 0.42      ┆ null       ┆ United  │\n",
              "│           ┆           ┆ BIRTHDAY     ┆          ┆             ┆           ┆            ┆ Kingdom │\n",
              "│ 559547    ┆ 21750     ┆ LARGE SKULL  ┆ 1        ┆ 2011-07-10  ┆ 2.1       ┆ 17758      ┆ United  │\n",
              "│           ┆           ┆ WINDMILL     ┆          ┆             ┆           ┆            ┆ Kingdom │\n",
              "│ 552108    ┆ 21926     ┆ RED/CREAM    ┆ 4        ┆ 2011-05-06  ┆ 1.25      ┆ 17841      ┆ United  │\n",
              "│           ┆           ┆ STRIPE       ┆          ┆             ┆           ┆            ┆ Kingdom │\n",
              "│           ┆           ┆ CUSHION      ┆          ┆             ┆           ┆            ┆         │\n",
              "│           ┆           ┆ COVER…       ┆          ┆             ┆           ┆            ┆         │\n",
              "│ 556680    ┆ 23236     ┆ DOILEY       ┆ 6        ┆ 2011-06-14  ┆ 2.89      ┆ 13971      ┆ United  │\n",
              "│           ┆           ┆ STORAGE TIN  ┆          ┆             ┆           ┆            ┆ Kingdom │\n",
              "│ 537826    ┆ 20781     ┆ GOLD EAR     ┆ 1        ┆ 2010-12-08  ┆ 5.49      ┆ 15581      ┆ United  │\n",
              "│           ┆           ┆ MUFF         ┆          ┆             ┆           ┆            ┆ Kingdom │\n",
              "│           ┆           ┆ HEADPHONES   ┆          ┆             ┆           ┆            ┆         │\n",
              "│ …         ┆ …         ┆ …            ┆ …        ┆ …           ┆ …         ┆ …          ┆ …       │\n",
              "│ 537160    ┆ 21809     ┆ CHRISTMAS    ┆ 6        ┆ 2010-12-05  ┆ 1.25      ┆ 14161      ┆ United  │\n",
              "│           ┆           ┆ HANGING TREE ┆          ┆             ┆           ┆            ┆ Kingdom │\n",
              "│           ┆           ┆ WITH BE…     ┆          ┆             ┆           ┆            ┆         │\n",
              "│ 548504    ┆ 21430     ┆ SET/3 RED    ┆ 2        ┆ 2011-03-31  ┆ 7.46      ┆ null       ┆ United  │\n",
              "│           ┆           ┆ GINGHAM ROSE ┆          ┆             ┆           ┆            ┆ Kingdom │\n",
              "│           ┆           ┆ STORAGE…     ┆          ┆             ┆           ┆            ┆         │\n",
              "│ 545063    ┆ 21042     ┆ RED          ┆ 1        ┆ 2011-02-27  ┆ 5.95      ┆ 14606      ┆ United  │\n",
              "│           ┆           ┆ RETROSPOT    ┆          ┆             ┆           ┆            ┆ Kingdom │\n",
              "│           ┆           ┆ APRON        ┆          ┆             ┆           ┆            ┆         │\n",
              "│ 557299    ┆ 85123A    ┆ WHITE        ┆ 12       ┆ 2011-06-19  ┆ 2.95      ┆ 13047      ┆ United  │\n",
              "│           ┆           ┆ HANGING      ┆          ┆             ┆           ┆            ┆ Kingdom │\n",
              "│           ┆           ┆ HEART        ┆          ┆             ┆           ┆            ┆         │\n",
              "│           ┆           ┆ T-LIGHT HO…  ┆          ┆             ┆           ┆            ┆         │\n",
              "│ 578936    ┆ 22989     ┆ SET 2 PANTRY ┆ 2        ┆ 2011-11-27  ┆ 3.25      ┆ 16923      ┆ United  │\n",
              "│           ┆           ┆ DESIGN TEA   ┆          ┆             ┆           ┆            ┆ Kingdom │\n",
              "│           ┆           ┆ TOWELS       ┆          ┆             ┆           ┆            ┆         │\n",
              "└───────────┴───────────┴──────────────┴──────────┴─────────────┴───────────┴────────────┴─────────┘"
            ]
          },
          "execution_count": 16,
          "metadata": {},
          "output_type": "execute_result"
        }
      ],
      "source": [
        "df = df.filter(~((pl.col(\"Quantity\") > 27) | (pl.col(\"UnitPrice\") > 7.5)))\n",
        "df"
      ]
    },
    {
      "cell_type": "code",
      "execution_count": null,
      "metadata": {
        "id": "tEfpi3bxiEgj",
        "outputId": "059ff27e-ae58-424d-a9af-6796f60a7d48"
      },
      "outputs": [
        {
          "data": {
            "text/html": [
              "<div><style>\n",
              ".dataframe > thead > tr,\n",
              ".dataframe > tbody > tr {\n",
              "  text-align: right;\n",
              "  white-space: pre-wrap;\n",
              "}\n",
              "</style>\n",
              "<small>shape: (9, 9)</small><table border=\"1\" class=\"dataframe\"><thead><tr><th>statistic</th><th>InvoiceNo</th><th>StockCode</th><th>Description</th><th>Quantity</th><th>InvoiceDate</th><th>UnitPrice</th><th>CustomerID</th><th>Country</th></tr><tr><td>str</td><td>str</td><td>str</td><td>str</td><td>f64</td><td>str</td><td>f64</td><td>f64</td><td>str</td></tr></thead><tbody><tr><td>&quot;count&quot;</td><td>&quot;442815&quot;</td><td>&quot;442815&quot;</td><td>&quot;442815&quot;</td><td>442815.0</td><td>&quot;442815&quot;</td><td>442815.0</td><td>332940.0</td><td>&quot;442815&quot;</td></tr><tr><td>&quot;null_count&quot;</td><td>&quot;0&quot;</td><td>&quot;0&quot;</td><td>&quot;0&quot;</td><td>0.0</td><td>&quot;0&quot;</td><td>0.0</td><td>109875.0</td><td>&quot;0&quot;</td></tr><tr><td>&quot;mean&quot;</td><td>null</td><td>null</td><td>null</td><td>6.33038</td><td>&quot;2011-07-05 19:17:40.866000&quot;</td><td>2.388613</td><td>15319.914015</td><td>null</td></tr><tr><td>&quot;std&quot;</td><td>null</td><td>null</td><td>null</td><td>6.458147</td><td>null</td><td>1.630417</td><td>1710.808483</td><td>null</td></tr><tr><td>&quot;min&quot;</td><td>&quot;536365&quot;</td><td>&quot;10002&quot;</td><td>&quot; 4 PURPLE FLOCK DINNER CANDLES&quot;</td><td>1.0</td><td>&quot;2010-12-01&quot;</td><td>0.12</td><td>12347.0</td><td>&quot;Australia&quot;</td></tr><tr><td>&quot;25%&quot;</td><td>null</td><td>null</td><td>null</td><td>1.0</td><td>&quot;2011-03-29&quot;</td><td>1.25</td><td>13988.0</td><td>null</td></tr><tr><td>&quot;50%&quot;</td><td>null</td><td>null</td><td>null</td><td>4.0</td><td>&quot;2011-07-22&quot;</td><td>1.95</td><td>15235.0</td><td>null</td></tr><tr><td>&quot;75%&quot;</td><td>null</td><td>null</td><td>null</td><td>10.0</td><td>&quot;2011-10-20&quot;</td><td>3.29</td><td>16814.0</td><td>null</td></tr><tr><td>&quot;max&quot;</td><td>&quot;581587&quot;</td><td>&quot;m&quot;</td><td>&quot;ZINC WIRE SWEETHEART LETTER TR…</td><td>27.0</td><td>&quot;2011-12-09&quot;</td><td>7.5</td><td>18287.0</td><td>&quot;United Kingdom&quot;</td></tr></tbody></table></div>"
            ],
            "text/plain": [
              "shape: (9, 9)\n",
              "┌───────────┬───────────┬───────────┬───────────┬───┬───────────┬───────────┬───────────┬──────────┐\n",
              "│ statistic ┆ InvoiceNo ┆ StockCode ┆ Descripti ┆ … ┆ InvoiceDa ┆ UnitPrice ┆ CustomerI ┆ Country  │\n",
              "│ ---       ┆ ---       ┆ ---       ┆ on        ┆   ┆ te        ┆ ---       ┆ D         ┆ ---      │\n",
              "│ str       ┆ str       ┆ str       ┆ ---       ┆   ┆ ---       ┆ f64       ┆ ---       ┆ str      │\n",
              "│           ┆           ┆           ┆ str       ┆   ┆ str       ┆           ┆ f64       ┆          │\n",
              "╞═══════════╪═══════════╪═══════════╪═══════════╪═══╪═══════════╪═══════════╪═══════════╪══════════╡\n",
              "│ count     ┆ 442815    ┆ 442815    ┆ 442815    ┆ … ┆ 442815    ┆ 442815.0  ┆ 332940.0  ┆ 442815   │\n",
              "│ null_coun ┆ 0         ┆ 0         ┆ 0         ┆ … ┆ 0         ┆ 0.0       ┆ 109875.0  ┆ 0        │\n",
              "│ t         ┆           ┆           ┆           ┆   ┆           ┆           ┆           ┆          │\n",
              "│ mean      ┆ null      ┆ null      ┆ null      ┆ … ┆ 2011-07-0 ┆ 2.388613  ┆ 15319.914 ┆ null     │\n",
              "│           ┆           ┆           ┆           ┆   ┆ 5 19:17:4 ┆           ┆ 015       ┆          │\n",
              "│           ┆           ┆           ┆           ┆   ┆ 0.866000  ┆           ┆           ┆          │\n",
              "│ std       ┆ null      ┆ null      ┆ null      ┆ … ┆ null      ┆ 1.630417  ┆ 1710.8084 ┆ null     │\n",
              "│           ┆           ┆           ┆           ┆   ┆           ┆           ┆ 83        ┆          │\n",
              "│ min       ┆ 536365    ┆ 10002     ┆ 4 PURPLE  ┆ … ┆ 2010-12-0 ┆ 0.12      ┆ 12347.0   ┆ Australi │\n",
              "│           ┆           ┆           ┆ FLOCK     ┆   ┆ 1         ┆           ┆           ┆ a        │\n",
              "│           ┆           ┆           ┆ DINNER    ┆   ┆           ┆           ┆           ┆          │\n",
              "│           ┆           ┆           ┆ CANDLES   ┆   ┆           ┆           ┆           ┆          │\n",
              "│ 25%       ┆ null      ┆ null      ┆ null      ┆ … ┆ 2011-03-2 ┆ 1.25      ┆ 13988.0   ┆ null     │\n",
              "│           ┆           ┆           ┆           ┆   ┆ 9         ┆           ┆           ┆          │\n",
              "│ 50%       ┆ null      ┆ null      ┆ null      ┆ … ┆ 2011-07-2 ┆ 1.95      ┆ 15235.0   ┆ null     │\n",
              "│           ┆           ┆           ┆           ┆   ┆ 2         ┆           ┆           ┆          │\n",
              "│ 75%       ┆ null      ┆ null      ┆ null      ┆ … ┆ 2011-10-2 ┆ 3.29      ┆ 16814.0   ┆ null     │\n",
              "│           ┆           ┆           ┆           ┆   ┆ 0         ┆           ┆           ┆          │\n",
              "│ max       ┆ 581587    ┆ m         ┆ ZINC WIRE ┆ … ┆ 2011-12-0 ┆ 7.5       ┆ 18287.0   ┆ United   │\n",
              "│           ┆           ┆           ┆ SWEETHEAR ┆   ┆ 9         ┆           ┆           ┆ Kingdom  │\n",
              "│           ┆           ┆           ┆ T LETTER  ┆   ┆           ┆           ┆           ┆          │\n",
              "│           ┆           ┆           ┆ TR…       ┆   ┆           ┆           ┆           ┆          │\n",
              "└───────────┴───────────┴───────────┴───────────┴───┴───────────┴───────────┴───────────┴──────────┘"
            ]
          },
          "execution_count": 17,
          "metadata": {},
          "output_type": "execute_result"
        }
      ],
      "source": [
        "df.describe()"
      ]
    },
    {
      "cell_type": "markdown",
      "metadata": {
        "id": "2_OFU-wGiEgj"
      },
      "source": [
        "Viendo que el objetivo es predecir el valor total de ventas por dia, haremos los siguientes cambios sobre el dataset:\n",
        "\n",
        "InvoiceNO,StockCode,Description, CustomerID: Estas columnas son muy interesantes para, por ejemplo, saber cuantos clientes habituales tiene cada pais, que productos se compran mas, media de productos por factura, etc. Claro que en este caso no las necesitamos para predecir cuanto vamos a ganar en un dia.\n",
        "\n",
        "En nuestro caso dejariamos la columna de Country, ya que creo que a la hora de predecir las ventas diarias es muy interesante segmentar por paises, para saber cuantas ventas diarias, tiene uno u otro y que sea util para saber en que pais se pueden aumentar las ganancias o cual esta dando muchas perdidas."
      ]
    },
    {
      "cell_type": "code",
      "execution_count": null,
      "metadata": {
        "id": "Ej_wN3lOiEgj",
        "outputId": "096ea066-c944-4ede-c8f5-e31de8ee0b45"
      },
      "outputs": [
        {
          "data": {
            "text/html": [
              "<div><style>\n",
              ".dataframe > thead > tr,\n",
              ".dataframe > tbody > tr {\n",
              "  text-align: right;\n",
              "  white-space: pre-wrap;\n",
              "}\n",
              "</style>\n",
              "<small>shape: (442_815, 4)</small><table border=\"1\" class=\"dataframe\"><thead><tr><th>Quantity</th><th>InvoiceDate</th><th>UnitPrice</th><th>Country</th></tr><tr><td>i64</td><td>date</td><td>f64</td><td>str</td></tr></thead><tbody><tr><td>1</td><td>2011-08-31</td><td>0.42</td><td>&quot;United Kingdom&quot;</td></tr><tr><td>1</td><td>2011-07-10</td><td>2.1</td><td>&quot;United Kingdom&quot;</td></tr><tr><td>4</td><td>2011-05-06</td><td>1.25</td><td>&quot;United Kingdom&quot;</td></tr><tr><td>6</td><td>2011-06-14</td><td>2.89</td><td>&quot;United Kingdom&quot;</td></tr><tr><td>1</td><td>2010-12-08</td><td>5.49</td><td>&quot;United Kingdom&quot;</td></tr><tr><td>&hellip;</td><td>&hellip;</td><td>&hellip;</td><td>&hellip;</td></tr><tr><td>6</td><td>2010-12-05</td><td>1.25</td><td>&quot;United Kingdom&quot;</td></tr><tr><td>2</td><td>2011-03-31</td><td>7.46</td><td>&quot;United Kingdom&quot;</td></tr><tr><td>1</td><td>2011-02-27</td><td>5.95</td><td>&quot;United Kingdom&quot;</td></tr><tr><td>12</td><td>2011-06-19</td><td>2.95</td><td>&quot;United Kingdom&quot;</td></tr><tr><td>2</td><td>2011-11-27</td><td>3.25</td><td>&quot;United Kingdom&quot;</td></tr></tbody></table></div>"
            ],
            "text/plain": [
              "shape: (442_815, 4)\n",
              "┌──────────┬─────────────┬───────────┬────────────────┐\n",
              "│ Quantity ┆ InvoiceDate ┆ UnitPrice ┆ Country        │\n",
              "│ ---      ┆ ---         ┆ ---       ┆ ---            │\n",
              "│ i64      ┆ date        ┆ f64       ┆ str            │\n",
              "╞══════════╪═════════════╪═══════════╪════════════════╡\n",
              "│ 1        ┆ 2011-08-31  ┆ 0.42      ┆ United Kingdom │\n",
              "│ 1        ┆ 2011-07-10  ┆ 2.1       ┆ United Kingdom │\n",
              "│ 4        ┆ 2011-05-06  ┆ 1.25      ┆ United Kingdom │\n",
              "│ 6        ┆ 2011-06-14  ┆ 2.89      ┆ United Kingdom │\n",
              "│ 1        ┆ 2010-12-08  ┆ 5.49      ┆ United Kingdom │\n",
              "│ …        ┆ …           ┆ …         ┆ …              │\n",
              "│ 6        ┆ 2010-12-05  ┆ 1.25      ┆ United Kingdom │\n",
              "│ 2        ┆ 2011-03-31  ┆ 7.46      ┆ United Kingdom │\n",
              "│ 1        ┆ 2011-02-27  ┆ 5.95      ┆ United Kingdom │\n",
              "│ 12       ┆ 2011-06-19  ┆ 2.95      ┆ United Kingdom │\n",
              "│ 2        ┆ 2011-11-27  ┆ 3.25      ┆ United Kingdom │\n",
              "└──────────┴─────────────┴───────────┴────────────────┘"
            ]
          },
          "execution_count": 18,
          "metadata": {},
          "output_type": "execute_result"
        }
      ],
      "source": [
        "df = df.drop(\"InvoiceNo\",\"StockCode\",\"Description\", \"CustomerID\")\n",
        "df"
      ]
    },
    {
      "cell_type": "markdown",
      "metadata": {
        "id": "EJzyC7MOiEgj"
      },
      "source": [
        "Tambien necesitaremos crear una columna extra de Ventas totales, que sea el calculo de cantidad por precio por unidad.\n"
      ]
    },
    {
      "cell_type": "code",
      "execution_count": null,
      "metadata": {
        "id": "1RJKVy5LiEgj",
        "outputId": "75b9a2e0-6656-4817-f287-5bcd2c2da5a2"
      },
      "outputs": [
        {
          "data": {
            "text/html": [
              "<div><style>\n",
              ".dataframe > thead > tr,\n",
              ".dataframe > tbody > tr {\n",
              "  text-align: right;\n",
              "  white-space: pre-wrap;\n",
              "}\n",
              "</style>\n",
              "<small>shape: (442_815, 5)</small><table border=\"1\" class=\"dataframe\"><thead><tr><th>Quantity</th><th>InvoiceDate</th><th>UnitPrice</th><th>Country</th><th>TotalSales</th></tr><tr><td>i64</td><td>date</td><td>f64</td><td>str</td><td>f64</td></tr></thead><tbody><tr><td>1</td><td>2011-08-31</td><td>0.42</td><td>&quot;United Kingdom&quot;</td><td>0.42</td></tr><tr><td>1</td><td>2011-07-10</td><td>2.1</td><td>&quot;United Kingdom&quot;</td><td>2.1</td></tr><tr><td>4</td><td>2011-05-06</td><td>1.25</td><td>&quot;United Kingdom&quot;</td><td>5.0</td></tr><tr><td>6</td><td>2011-06-14</td><td>2.89</td><td>&quot;United Kingdom&quot;</td><td>17.34</td></tr><tr><td>1</td><td>2010-12-08</td><td>5.49</td><td>&quot;United Kingdom&quot;</td><td>5.49</td></tr><tr><td>&hellip;</td><td>&hellip;</td><td>&hellip;</td><td>&hellip;</td><td>&hellip;</td></tr><tr><td>6</td><td>2010-12-05</td><td>1.25</td><td>&quot;United Kingdom&quot;</td><td>7.5</td></tr><tr><td>2</td><td>2011-03-31</td><td>7.46</td><td>&quot;United Kingdom&quot;</td><td>14.92</td></tr><tr><td>1</td><td>2011-02-27</td><td>5.95</td><td>&quot;United Kingdom&quot;</td><td>5.95</td></tr><tr><td>12</td><td>2011-06-19</td><td>2.95</td><td>&quot;United Kingdom&quot;</td><td>35.4</td></tr><tr><td>2</td><td>2011-11-27</td><td>3.25</td><td>&quot;United Kingdom&quot;</td><td>6.5</td></tr></tbody></table></div>"
            ],
            "text/plain": [
              "shape: (442_815, 5)\n",
              "┌──────────┬─────────────┬───────────┬────────────────┬────────────┐\n",
              "│ Quantity ┆ InvoiceDate ┆ UnitPrice ┆ Country        ┆ TotalSales │\n",
              "│ ---      ┆ ---         ┆ ---       ┆ ---            ┆ ---        │\n",
              "│ i64      ┆ date        ┆ f64       ┆ str            ┆ f64        │\n",
              "╞══════════╪═════════════╪═══════════╪════════════════╪════════════╡\n",
              "│ 1        ┆ 2011-08-31  ┆ 0.42      ┆ United Kingdom ┆ 0.42       │\n",
              "│ 1        ┆ 2011-07-10  ┆ 2.1       ┆ United Kingdom ┆ 2.1        │\n",
              "│ 4        ┆ 2011-05-06  ┆ 1.25      ┆ United Kingdom ┆ 5.0        │\n",
              "│ 6        ┆ 2011-06-14  ┆ 2.89      ┆ United Kingdom ┆ 17.34      │\n",
              "│ 1        ┆ 2010-12-08  ┆ 5.49      ┆ United Kingdom ┆ 5.49       │\n",
              "│ …        ┆ …           ┆ …         ┆ …              ┆ …          │\n",
              "│ 6        ┆ 2010-12-05  ┆ 1.25      ┆ United Kingdom ┆ 7.5        │\n",
              "│ 2        ┆ 2011-03-31  ┆ 7.46      ┆ United Kingdom ┆ 14.92      │\n",
              "│ 1        ┆ 2011-02-27  ┆ 5.95      ┆ United Kingdom ┆ 5.95       │\n",
              "│ 12       ┆ 2011-06-19  ┆ 2.95      ┆ United Kingdom ┆ 35.4       │\n",
              "│ 2        ┆ 2011-11-27  ┆ 3.25      ┆ United Kingdom ┆ 6.5        │\n",
              "└──────────┴─────────────┴───────────┴────────────────┴────────────┘"
            ]
          },
          "execution_count": 19,
          "metadata": {},
          "output_type": "execute_result"
        }
      ],
      "source": [
        "df = df.with_columns(\n",
        "    (pl.col(\"Quantity\") * pl.col(\"UnitPrice\")).alias(\"TotalSales\")\n",
        ")\n",
        "df"
      ]
    },
    {
      "cell_type": "markdown",
      "metadata": {
        "id": "6VUtGrUsiEgk"
      },
      "source": [
        "Ahora agruparemos por dias para ver la suma de todas las ventas totales. De esta forma tendremos una mejor visualizacion de todas las ventas totales en cada dia que se han realizado.\n"
      ]
    },
    {
      "cell_type": "code",
      "execution_count": null,
      "metadata": {
        "id": "ULyE1DTQiEgk",
        "outputId": "a4472f6c-2942-4f46-c58a-4394a490da2e"
      },
      "outputs": [
        {
          "data": {
            "text/html": [
              "<div><style>\n",
              ".dataframe > thead > tr,\n",
              ".dataframe > tbody > tr {\n",
              "  text-align: right;\n",
              "  white-space: pre-wrap;\n",
              "}\n",
              "</style>\n",
              "<small>shape: (305, 3)</small><table border=\"1\" class=\"dataframe\"><thead><tr><th>InvoiceDate</th><th>Total_Quantity</th><th>Total_Sales</th></tr><tr><td>date</td><td>i64</td><td>f64</td></tr></thead><tbody><tr><td>2010-12-01</td><td>12899</td><td>26604.56</td></tr><tr><td>2010-12-02</td><td>12610</td><td>23203.33</td></tr><tr><td>2010-12-03</td><td>8632</td><td>19423.33</td></tr><tr><td>2010-12-05</td><td>10810</td><td>20738.69</td></tr><tr><td>2010-12-06</td><td>13876</td><td>30506.65</td></tr><tr><td>&hellip;</td><td>&hellip;</td><td>&hellip;</td></tr><tr><td>2011-12-05</td><td>24245</td><td>45221.72</td></tr><tr><td>2011-12-06</td><td>16717</td><td>26898.4</td></tr><tr><td>2011-12-07</td><td>16375</td><td>27847.03</td></tr><tr><td>2011-12-08</td><td>20021</td><td>38582.06</td></tr><tr><td>2011-12-09</td><td>7666</td><td>15940.79</td></tr></tbody></table></div>"
            ],
            "text/plain": [
              "shape: (305, 3)\n",
              "┌─────────────┬────────────────┬─────────────┐\n",
              "│ InvoiceDate ┆ Total_Quantity ┆ Total_Sales │\n",
              "│ ---         ┆ ---            ┆ ---         │\n",
              "│ date        ┆ i64            ┆ f64         │\n",
              "╞═════════════╪════════════════╪═════════════╡\n",
              "│ 2010-12-01  ┆ 12899          ┆ 26604.56    │\n",
              "│ 2010-12-02  ┆ 12610          ┆ 23203.33    │\n",
              "│ 2010-12-03  ┆ 8632           ┆ 19423.33    │\n",
              "│ 2010-12-05  ┆ 10810          ┆ 20738.69    │\n",
              "│ 2010-12-06  ┆ 13876          ┆ 30506.65    │\n",
              "│ …           ┆ …              ┆ …           │\n",
              "│ 2011-12-05  ┆ 24245          ┆ 45221.72    │\n",
              "│ 2011-12-06  ┆ 16717          ┆ 26898.4     │\n",
              "│ 2011-12-07  ┆ 16375          ┆ 27847.03    │\n",
              "│ 2011-12-08  ┆ 20021          ┆ 38582.06    │\n",
              "│ 2011-12-09  ┆ 7666           ┆ 15940.79    │\n",
              "└─────────────┴────────────────┴─────────────┘"
            ]
          },
          "execution_count": 20,
          "metadata": {},
          "output_type": "execute_result"
        }
      ],
      "source": [
        "df_daily_sales = df.group_by(\"InvoiceDate\").agg([\n",
        "    pl.col(\"Quantity\").sum().alias(\"Total_Quantity\"),\n",
        "    (pl.col(\"Quantity\") * pl.col(\"UnitPrice\")).sum().alias(\"Total_Sales\")\n",
        "])\n",
        "df_daily_sales = df_daily_sales.sort(\"InvoiceDate\")\n",
        "df_daily_sales"
      ]
    },
    {
      "cell_type": "code",
      "execution_count": null,
      "metadata": {
        "id": "HoawcybCiEgk",
        "outputId": "4441c750-3cb7-42be-8f2b-96617ee2c71a"
      },
      "outputs": [
        {
          "data": {
            "text/html": [
              "<div><style>\n",
              ".dataframe > thead > tr,\n",
              ".dataframe > tbody > tr {\n",
              "  text-align: right;\n",
              "  white-space: pre-wrap;\n",
              "}\n",
              "</style>\n",
              "<small>shape: (442_815, 5)</small><table border=\"1\" class=\"dataframe\"><thead><tr><th>Quantity</th><th>InvoiceDate</th><th>UnitPrice</th><th>Country</th><th>TotalSales</th></tr><tr><td>i64</td><td>date</td><td>f64</td><td>str</td><td>f64</td></tr></thead><tbody><tr><td>1</td><td>2011-08-31</td><td>0.42</td><td>&quot;United Kingdom&quot;</td><td>0.42</td></tr><tr><td>1</td><td>2011-07-10</td><td>2.1</td><td>&quot;United Kingdom&quot;</td><td>2.1</td></tr><tr><td>4</td><td>2011-05-06</td><td>1.25</td><td>&quot;United Kingdom&quot;</td><td>5.0</td></tr><tr><td>6</td><td>2011-06-14</td><td>2.89</td><td>&quot;United Kingdom&quot;</td><td>17.34</td></tr><tr><td>1</td><td>2010-12-08</td><td>5.49</td><td>&quot;United Kingdom&quot;</td><td>5.49</td></tr><tr><td>&hellip;</td><td>&hellip;</td><td>&hellip;</td><td>&hellip;</td><td>&hellip;</td></tr><tr><td>6</td><td>2010-12-05</td><td>1.25</td><td>&quot;United Kingdom&quot;</td><td>7.5</td></tr><tr><td>2</td><td>2011-03-31</td><td>7.46</td><td>&quot;United Kingdom&quot;</td><td>14.92</td></tr><tr><td>1</td><td>2011-02-27</td><td>5.95</td><td>&quot;United Kingdom&quot;</td><td>5.95</td></tr><tr><td>12</td><td>2011-06-19</td><td>2.95</td><td>&quot;United Kingdom&quot;</td><td>35.4</td></tr><tr><td>2</td><td>2011-11-27</td><td>3.25</td><td>&quot;United Kingdom&quot;</td><td>6.5</td></tr></tbody></table></div>"
            ],
            "text/plain": [
              "shape: (442_815, 5)\n",
              "┌──────────┬─────────────┬───────────┬────────────────┬────────────┐\n",
              "│ Quantity ┆ InvoiceDate ┆ UnitPrice ┆ Country        ┆ TotalSales │\n",
              "│ ---      ┆ ---         ┆ ---       ┆ ---            ┆ ---        │\n",
              "│ i64      ┆ date        ┆ f64       ┆ str            ┆ f64        │\n",
              "╞══════════╪═════════════╪═══════════╪════════════════╪════════════╡\n",
              "│ 1        ┆ 2011-08-31  ┆ 0.42      ┆ United Kingdom ┆ 0.42       │\n",
              "│ 1        ┆ 2011-07-10  ┆ 2.1       ┆ United Kingdom ┆ 2.1        │\n",
              "│ 4        ┆ 2011-05-06  ┆ 1.25      ┆ United Kingdom ┆ 5.0        │\n",
              "│ 6        ┆ 2011-06-14  ┆ 2.89      ┆ United Kingdom ┆ 17.34      │\n",
              "│ 1        ┆ 2010-12-08  ┆ 5.49      ┆ United Kingdom ┆ 5.49       │\n",
              "│ …        ┆ …           ┆ …         ┆ …              ┆ …          │\n",
              "│ 6        ┆ 2010-12-05  ┆ 1.25      ┆ United Kingdom ┆ 7.5        │\n",
              "│ 2        ┆ 2011-03-31  ┆ 7.46      ┆ United Kingdom ┆ 14.92      │\n",
              "│ 1        ┆ 2011-02-27  ┆ 5.95      ┆ United Kingdom ┆ 5.95       │\n",
              "│ 12       ┆ 2011-06-19  ┆ 2.95      ┆ United Kingdom ┆ 35.4       │\n",
              "│ 2        ┆ 2011-11-27  ┆ 3.25      ┆ United Kingdom ┆ 6.5        │\n",
              "└──────────┴─────────────┴───────────┴────────────────┴────────────┘"
            ]
          },
          "execution_count": 21,
          "metadata": {},
          "output_type": "execute_result"
        }
      ],
      "source": [
        "df"
      ]
    },
    {
      "cell_type": "markdown",
      "metadata": {
        "id": "JigTHR4miEgm"
      },
      "source": [
        "Aqui hacemos un ultimo describe para ver como ha quedado el dataset, con todos los cambios"
      ]
    },
    {
      "cell_type": "code",
      "execution_count": null,
      "metadata": {
        "id": "-Pqz2DzoiEgm",
        "outputId": "5a1f726c-5c81-4395-d160-3cb5c8c3cc53"
      },
      "outputs": [
        {
          "data": {
            "text/html": [
              "<div><style>\n",
              ".dataframe > thead > tr,\n",
              ".dataframe > tbody > tr {\n",
              "  text-align: right;\n",
              "  white-space: pre-wrap;\n",
              "}\n",
              "</style>\n",
              "<small>shape: (9, 6)</small><table border=\"1\" class=\"dataframe\"><thead><tr><th>statistic</th><th>Quantity</th><th>InvoiceDate</th><th>UnitPrice</th><th>Country</th><th>TotalSales</th></tr><tr><td>str</td><td>f64</td><td>str</td><td>f64</td><td>str</td><td>f64</td></tr></thead><tbody><tr><td>&quot;count&quot;</td><td>442815.0</td><td>&quot;442815&quot;</td><td>442815.0</td><td>&quot;442815&quot;</td><td>442815.0</td></tr><tr><td>&quot;null_count&quot;</td><td>0.0</td><td>&quot;0&quot;</td><td>0.0</td><td>&quot;0&quot;</td><td>0.0</td></tr><tr><td>&quot;mean&quot;</td><td>6.33038</td><td>&quot;2011-07-05 19:17:40.866000&quot;</td><td>2.388613</td><td>null</td><td>11.456598</td></tr><tr><td>&quot;std&quot;</td><td>6.458147</td><td>null</td><td>1.630417</td><td>null</td><td>12.759842</td></tr><tr><td>&quot;min&quot;</td><td>1.0</td><td>&quot;2010-12-01&quot;</td><td>0.12</td><td>&quot;Australia&quot;</td><td>0.12</td></tr><tr><td>&quot;25%&quot;</td><td>1.0</td><td>&quot;2011-03-29&quot;</td><td>1.25</td><td>null</td><td>3.29</td></tr><tr><td>&quot;50%&quot;</td><td>4.0</td><td>&quot;2011-07-22&quot;</td><td>1.95</td><td>null</td><td>7.5</td></tr><tr><td>&quot;75%&quot;</td><td>10.0</td><td>&quot;2011-10-20&quot;</td><td>3.29</td><td>null</td><td>15.3</td></tr><tr><td>&quot;max&quot;</td><td>27.0</td><td>&quot;2011-12-09&quot;</td><td>7.5</td><td>&quot;United Kingdom&quot;</td><td>193.96</td></tr></tbody></table></div>"
            ],
            "text/plain": [
              "shape: (9, 6)\n",
              "┌────────────┬──────────┬────────────────────────────┬───────────┬────────────────┬────────────┐\n",
              "│ statistic  ┆ Quantity ┆ InvoiceDate                ┆ UnitPrice ┆ Country        ┆ TotalSales │\n",
              "│ ---        ┆ ---      ┆ ---                        ┆ ---       ┆ ---            ┆ ---        │\n",
              "│ str        ┆ f64      ┆ str                        ┆ f64       ┆ str            ┆ f64        │\n",
              "╞════════════╪══════════╪════════════════════════════╪═══════════╪════════════════╪════════════╡\n",
              "│ count      ┆ 442815.0 ┆ 442815                     ┆ 442815.0  ┆ 442815         ┆ 442815.0   │\n",
              "│ null_count ┆ 0.0      ┆ 0                          ┆ 0.0       ┆ 0              ┆ 0.0        │\n",
              "│ mean       ┆ 6.33038  ┆ 2011-07-05 19:17:40.866000 ┆ 2.388613  ┆ null           ┆ 11.456598  │\n",
              "│ std        ┆ 6.458147 ┆ null                       ┆ 1.630417  ┆ null           ┆ 12.759842  │\n",
              "│ min        ┆ 1.0      ┆ 2010-12-01                 ┆ 0.12      ┆ Australia      ┆ 0.12       │\n",
              "│ 25%        ┆ 1.0      ┆ 2011-03-29                 ┆ 1.25      ┆ null           ┆ 3.29       │\n",
              "│ 50%        ┆ 4.0      ┆ 2011-07-22                 ┆ 1.95      ┆ null           ┆ 7.5        │\n",
              "│ 75%        ┆ 10.0     ┆ 2011-10-20                 ┆ 3.29      ┆ null           ┆ 15.3       │\n",
              "│ max        ┆ 27.0     ┆ 2011-12-09                 ┆ 7.5       ┆ United Kingdom ┆ 193.96     │\n",
              "└────────────┴──────────┴────────────────────────────┴───────────┴────────────────┴────────────┘"
            ]
          },
          "execution_count": 22,
          "metadata": {},
          "output_type": "execute_result"
        }
      ],
      "source": [
        "df.describe()"
      ]
    },
    {
      "cell_type": "markdown",
      "metadata": {
        "id": "cPqy04DtiEgm"
      },
      "source": [
        "Y al parecer detectamos que hay algo raro en las ventas totales, el maximo es muy superior al tercer percentil (75%). La solucion sera calcular el IQR para comprobar el limite superior.\n"
      ]
    },
    {
      "cell_type": "code",
      "execution_count": null,
      "metadata": {
        "id": "DEizLeppiEgm",
        "outputId": "299b3348-3552-4f9b-ef5f-913e74a0c08d"
      },
      "outputs": [
        {
          "name": "stdout",
          "output_type": "stream",
          "text": [
            "\n",
            "IQR for TotalSales\n",
            "3.29 15.299999999999999 12.009999999999998 -14.724999999999998 33.315\n"
          ]
        }
      ],
      "source": [
        "calc_iqr_from_column_name(\"TotalSales\")"
      ]
    },
    {
      "cell_type": "markdown",
      "metadata": {
        "id": "DOSf2mRviEgm"
      },
      "source": [
        "Ahora filtramos por el limite superior"
      ]
    },
    {
      "cell_type": "code",
      "execution_count": null,
      "metadata": {
        "id": "ibnZc002iEgn",
        "outputId": "c3d7116c-f242-49f9-ec40-eafbbd919c6a"
      },
      "outputs": [
        {
          "data": {
            "text/html": [
              "<div><style>\n",
              ".dataframe > thead > tr,\n",
              ".dataframe > tbody > tr {\n",
              "  text-align: right;\n",
              "  white-space: pre-wrap;\n",
              "}\n",
              "</style>\n",
              "<small>shape: (20_718, 5)</small><table border=\"1\" class=\"dataframe\"><thead><tr><th>Quantity</th><th>InvoiceDate</th><th>UnitPrice</th><th>Country</th><th>TotalSales</th></tr><tr><td>i64</td><td>date</td><td>f64</td><td>str</td><td>f64</td></tr></thead><tbody><tr><td>18</td><td>2011-10-26</td><td>4.25</td><td>&quot;United Kingdom&quot;</td><td>76.5</td></tr><tr><td>18</td><td>2011-11-24</td><td>2.95</td><td>&quot;United Kingdom&quot;</td><td>53.1</td></tr><tr><td>18</td><td>2011-11-22</td><td>2.95</td><td>&quot;United Kingdom&quot;</td><td>53.1</td></tr><tr><td>12</td><td>2011-05-16</td><td>5.39</td><td>&quot;United Kingdom&quot;</td><td>64.68</td></tr><tr><td>15</td><td>2011-09-20</td><td>2.46</td><td>&quot;United Kingdom&quot;</td><td>36.9</td></tr><tr><td>&hellip;</td><td>&hellip;</td><td>&hellip;</td><td>&hellip;</td><td>&hellip;</td></tr><tr><td>9</td><td>2011-05-13</td><td>4.95</td><td>&quot;United Kingdom&quot;</td><td>44.55</td></tr><tr><td>7</td><td>2011-02-22</td><td>5.79</td><td>&quot;United Kingdom&quot;</td><td>40.53</td></tr><tr><td>24</td><td>2011-01-31</td><td>3.45</td><td>&quot;United Kingdom&quot;</td><td>82.8</td></tr><tr><td>24</td><td>2011-07-28</td><td>3.75</td><td>&quot;United Kingdom&quot;</td><td>90.0</td></tr><tr><td>12</td><td>2011-06-19</td><td>2.95</td><td>&quot;United Kingdom&quot;</td><td>35.4</td></tr></tbody></table></div>"
            ],
            "text/plain": [
              "shape: (20_718, 5)\n",
              "┌──────────┬─────────────┬───────────┬────────────────┬────────────┐\n",
              "│ Quantity ┆ InvoiceDate ┆ UnitPrice ┆ Country        ┆ TotalSales │\n",
              "│ ---      ┆ ---         ┆ ---       ┆ ---            ┆ ---        │\n",
              "│ i64      ┆ date        ┆ f64       ┆ str            ┆ f64        │\n",
              "╞══════════╪═════════════╪═══════════╪════════════════╪════════════╡\n",
              "│ 18       ┆ 2011-10-26  ┆ 4.25      ┆ United Kingdom ┆ 76.5       │\n",
              "│ 18       ┆ 2011-11-24  ┆ 2.95      ┆ United Kingdom ┆ 53.1       │\n",
              "│ 18       ┆ 2011-11-22  ┆ 2.95      ┆ United Kingdom ┆ 53.1       │\n",
              "│ 12       ┆ 2011-05-16  ┆ 5.39      ┆ United Kingdom ┆ 64.68      │\n",
              "│ 15       ┆ 2011-09-20  ┆ 2.46      ┆ United Kingdom ┆ 36.9       │\n",
              "│ …        ┆ …           ┆ …         ┆ …              ┆ …          │\n",
              "│ 9        ┆ 2011-05-13  ┆ 4.95      ┆ United Kingdom ┆ 44.55      │\n",
              "│ 7        ┆ 2011-02-22  ┆ 5.79      ┆ United Kingdom ┆ 40.53      │\n",
              "│ 24       ┆ 2011-01-31  ┆ 3.45      ┆ United Kingdom ┆ 82.8       │\n",
              "│ 24       ┆ 2011-07-28  ┆ 3.75      ┆ United Kingdom ┆ 90.0       │\n",
              "│ 12       ┆ 2011-06-19  ┆ 2.95      ┆ United Kingdom ┆ 35.4       │\n",
              "└──────────┴─────────────┴───────────┴────────────────┴────────────┘"
            ]
          },
          "execution_count": 24,
          "metadata": {},
          "output_type": "execute_result"
        }
      ],
      "source": [
        "df.filter(df[\"TotalSales\"] > 33.3)"
      ]
    },
    {
      "cell_type": "markdown",
      "metadata": {
        "id": "j3dABF-HiEgn"
      },
      "source": [
        "Y nos encontramos con mas de 20000 filas con valores mas altos de lo normal, para decidir si eliminarlos o no, vamos a crear dos nuevas variables, una que nos muestre el dia de la semana y otra que nos indique si es festivo en ese pais, todo esto es porque quizas estos valores tan altos son normales en relacion con el dia.\n",
        "\n",
        "Primero el dia de la semana"
      ]
    },
    {
      "cell_type": "code",
      "execution_count": null,
      "metadata": {
        "id": "zB41Twm_iEgn",
        "outputId": "18377a08-9174-4b02-88d7-b814201579e6"
      },
      "outputs": [
        {
          "data": {
            "text/html": [
              "<div><style>\n",
              ".dataframe > thead > tr,\n",
              ".dataframe > tbody > tr {\n",
              "  text-align: right;\n",
              "  white-space: pre-wrap;\n",
              "}\n",
              "</style>\n",
              "<small>shape: (442_815, 6)</small><table border=\"1\" class=\"dataframe\"><thead><tr><th>Quantity</th><th>InvoiceDate</th><th>UnitPrice</th><th>Country</th><th>TotalSales</th><th>weekday</th></tr><tr><td>i64</td><td>date</td><td>f64</td><td>str</td><td>f64</td><td>i8</td></tr></thead><tbody><tr><td>1</td><td>2011-08-31</td><td>0.42</td><td>&quot;United Kingdom&quot;</td><td>0.42</td><td>3</td></tr><tr><td>1</td><td>2011-07-10</td><td>2.1</td><td>&quot;United Kingdom&quot;</td><td>2.1</td><td>7</td></tr><tr><td>4</td><td>2011-05-06</td><td>1.25</td><td>&quot;United Kingdom&quot;</td><td>5.0</td><td>5</td></tr><tr><td>6</td><td>2011-06-14</td><td>2.89</td><td>&quot;United Kingdom&quot;</td><td>17.34</td><td>2</td></tr><tr><td>1</td><td>2010-12-08</td><td>5.49</td><td>&quot;United Kingdom&quot;</td><td>5.49</td><td>3</td></tr><tr><td>&hellip;</td><td>&hellip;</td><td>&hellip;</td><td>&hellip;</td><td>&hellip;</td><td>&hellip;</td></tr><tr><td>6</td><td>2010-12-05</td><td>1.25</td><td>&quot;United Kingdom&quot;</td><td>7.5</td><td>7</td></tr><tr><td>2</td><td>2011-03-31</td><td>7.46</td><td>&quot;United Kingdom&quot;</td><td>14.92</td><td>4</td></tr><tr><td>1</td><td>2011-02-27</td><td>5.95</td><td>&quot;United Kingdom&quot;</td><td>5.95</td><td>7</td></tr><tr><td>12</td><td>2011-06-19</td><td>2.95</td><td>&quot;United Kingdom&quot;</td><td>35.4</td><td>7</td></tr><tr><td>2</td><td>2011-11-27</td><td>3.25</td><td>&quot;United Kingdom&quot;</td><td>6.5</td><td>7</td></tr></tbody></table></div>"
            ],
            "text/plain": [
              "shape: (442_815, 6)\n",
              "┌──────────┬─────────────┬───────────┬────────────────┬────────────┬─────────┐\n",
              "│ Quantity ┆ InvoiceDate ┆ UnitPrice ┆ Country        ┆ TotalSales ┆ weekday │\n",
              "│ ---      ┆ ---         ┆ ---       ┆ ---            ┆ ---        ┆ ---     │\n",
              "│ i64      ┆ date        ┆ f64       ┆ str            ┆ f64        ┆ i8      │\n",
              "╞══════════╪═════════════╪═══════════╪════════════════╪════════════╪═════════╡\n",
              "│ 1        ┆ 2011-08-31  ┆ 0.42      ┆ United Kingdom ┆ 0.42       ┆ 3       │\n",
              "│ 1        ┆ 2011-07-10  ┆ 2.1       ┆ United Kingdom ┆ 2.1        ┆ 7       │\n",
              "│ 4        ┆ 2011-05-06  ┆ 1.25      ┆ United Kingdom ┆ 5.0        ┆ 5       │\n",
              "│ 6        ┆ 2011-06-14  ┆ 2.89      ┆ United Kingdom ┆ 17.34      ┆ 2       │\n",
              "│ 1        ┆ 2010-12-08  ┆ 5.49      ┆ United Kingdom ┆ 5.49       ┆ 3       │\n",
              "│ …        ┆ …           ┆ …         ┆ …              ┆ …          ┆ …       │\n",
              "│ 6        ┆ 2010-12-05  ┆ 1.25      ┆ United Kingdom ┆ 7.5        ┆ 7       │\n",
              "│ 2        ┆ 2011-03-31  ┆ 7.46      ┆ United Kingdom ┆ 14.92      ┆ 4       │\n",
              "│ 1        ┆ 2011-02-27  ┆ 5.95      ┆ United Kingdom ┆ 5.95       ┆ 7       │\n",
              "│ 12       ┆ 2011-06-19  ┆ 2.95      ┆ United Kingdom ┆ 35.4       ┆ 7       │\n",
              "│ 2        ┆ 2011-11-27  ┆ 3.25      ┆ United Kingdom ┆ 6.5        ┆ 7       │\n",
              "└──────────┴─────────────┴───────────┴────────────────┴────────────┴─────────┘"
            ]
          },
          "execution_count": 25,
          "metadata": {},
          "output_type": "execute_result"
        }
      ],
      "source": [
        "import pandas as pd\n",
        "\n",
        "# día de la semana siendo 1 el Lunes hasta 7 el Domingo\n",
        "df = df.with_columns(pl.col(\"InvoiceDate\").dt.weekday().alias(\"weekday\"))\n",
        "\n",
        "df"
      ]
    },
    {
      "cell_type": "markdown",
      "metadata": {
        "id": "EBIdPz2-iEgn"
      },
      "source": [
        "Ahora toca calcular los diferentes festivo:\n",
        "\n",
        "Lo primero es sacar el codigo por pais y cambiar la columna de Country por estos codigos mas sencillos."
      ]
    },
    {
      "cell_type": "code",
      "execution_count": null,
      "metadata": {
        "id": "5ONLsOxCiEgn",
        "outputId": "6344001c-57a8-44ea-9d2a-8ec51a2d47a7"
      },
      "outputs": [
        {
          "data": {
            "text/plain": [
              "{'Spain': 'ES',\n",
              " 'Czech Republic': 'CZ',\n",
              " 'Germany': 'DE',\n",
              " 'Switzerland': 'CH',\n",
              " 'Finland': 'FI',\n",
              " 'Australia': 'AU',\n",
              " 'Poland': 'PL',\n",
              " 'United Kingdom': 'GB',\n",
              " 'Brazil': 'BR',\n",
              " 'Norway': 'NO',\n",
              " 'Netherlands': 'NL',\n",
              " 'Lebanon': 'LB',\n",
              " 'United Arab Emirates': 'AE',\n",
              " 'Saudi Arabia': 'SA',\n",
              " 'Lithuania': 'LT',\n",
              " 'Hong Kong': 'HK',\n",
              " 'Austria': 'AT',\n",
              " 'EIRE': None,\n",
              " 'Malta': 'MT',\n",
              " 'European Community': None,\n",
              " 'Japan': 'JP',\n",
              " 'Cyprus': 'CY',\n",
              " 'Iceland': 'IS',\n",
              " 'Belgium': 'BE',\n",
              " 'Canada': 'CA',\n",
              " 'Bahrain': 'BH',\n",
              " 'Denmark': 'DK',\n",
              " 'Greece': 'GR',\n",
              " 'Italy': 'IT',\n",
              " 'USA': 'US',\n",
              " 'Channel Islands': None,\n",
              " 'Singapore': 'SG',\n",
              " 'Israel': 'IL',\n",
              " 'Portugal': 'PT',\n",
              " 'Sweden': 'SE',\n",
              " 'France': 'FR',\n",
              " 'RSA': None}"
            ]
          },
          "execution_count": 26,
          "metadata": {},
          "output_type": "execute_result"
        }
      ],
      "source": [
        "import pycountry\n",
        "def get_country_code(country_name):\n",
        "    try:\n",
        "        return pycountry.countries.lookup(country_name).alpha_2\n",
        "    except LookupError:\n",
        "        return None\n",
        "countries = df[\"Country\"].unique().to_list()\n",
        "country_codes = {country: get_country_code(country) for country in countries}\n",
        "country_codes\n"
      ]
    },
    {
      "cell_type": "markdown",
      "metadata": {
        "id": "SKm7UekgiEgn"
      },
      "source": [
        "Antes de seguir vemos que hay algunos codigos con None, vamos a filtrarlos"
      ]
    },
    {
      "cell_type": "code",
      "execution_count": null,
      "metadata": {
        "id": "0MgT5KsRiEgn",
        "outputId": "ff16226c-c791-4c5d-f2ca-8efee5eb4fde"
      },
      "outputs": [
        {
          "data": {
            "text/plain": [
              "{'EIRE': None,\n",
              " 'European Community': None,\n",
              " 'Channel Islands': None,\n",
              " 'RSA': None}"
            ]
          },
          "execution_count": 27,
          "metadata": {},
          "output_type": "execute_result"
        }
      ],
      "source": [
        "{k: v for k, v in country_codes.items() if v is None}"
      ]
    },
    {
      "cell_type": "markdown",
      "metadata": {
        "id": "qApEEQMiiEgn"
      },
      "source": [
        "Teniendo claro cuales son, haremos lo siguiente, vamos a eliminar European Community y Channel Islands ya que no son un pais y como tal, y al intentar predecir ventas por pais nos complicaria a la hora de entrenar el modelo."
      ]
    },
    {
      "cell_type": "code",
      "execution_count": null,
      "metadata": {
        "id": "4-mTBD1piEgn",
        "outputId": "f2905e52-a9e4-401b-db71-c920c18f3f10"
      },
      "outputs": [
        {
          "data": {
            "text/html": [
              "<div><style>\n",
              ".dataframe > thead > tr,\n",
              ".dataframe > tbody > tr {\n",
              "  text-align: right;\n",
              "  white-space: pre-wrap;\n",
              "}\n",
              "</style>\n",
              "<small>shape: (442_222, 6)</small><table border=\"1\" class=\"dataframe\"><thead><tr><th>Quantity</th><th>InvoiceDate</th><th>UnitPrice</th><th>Country</th><th>TotalSales</th><th>weekday</th></tr><tr><td>i64</td><td>date</td><td>f64</td><td>str</td><td>f64</td><td>i8</td></tr></thead><tbody><tr><td>1</td><td>2011-08-31</td><td>0.42</td><td>&quot;United Kingdom&quot;</td><td>0.42</td><td>3</td></tr><tr><td>1</td><td>2011-07-10</td><td>2.1</td><td>&quot;United Kingdom&quot;</td><td>2.1</td><td>7</td></tr><tr><td>4</td><td>2011-05-06</td><td>1.25</td><td>&quot;United Kingdom&quot;</td><td>5.0</td><td>5</td></tr><tr><td>6</td><td>2011-06-14</td><td>2.89</td><td>&quot;United Kingdom&quot;</td><td>17.34</td><td>2</td></tr><tr><td>1</td><td>2010-12-08</td><td>5.49</td><td>&quot;United Kingdom&quot;</td><td>5.49</td><td>3</td></tr><tr><td>&hellip;</td><td>&hellip;</td><td>&hellip;</td><td>&hellip;</td><td>&hellip;</td><td>&hellip;</td></tr><tr><td>6</td><td>2010-12-05</td><td>1.25</td><td>&quot;United Kingdom&quot;</td><td>7.5</td><td>7</td></tr><tr><td>2</td><td>2011-03-31</td><td>7.46</td><td>&quot;United Kingdom&quot;</td><td>14.92</td><td>4</td></tr><tr><td>1</td><td>2011-02-27</td><td>5.95</td><td>&quot;United Kingdom&quot;</td><td>5.95</td><td>7</td></tr><tr><td>12</td><td>2011-06-19</td><td>2.95</td><td>&quot;United Kingdom&quot;</td><td>35.4</td><td>7</td></tr><tr><td>2</td><td>2011-11-27</td><td>3.25</td><td>&quot;United Kingdom&quot;</td><td>6.5</td><td>7</td></tr></tbody></table></div>"
            ],
            "text/plain": [
              "shape: (442_222, 6)\n",
              "┌──────────┬─────────────┬───────────┬────────────────┬────────────┬─────────┐\n",
              "│ Quantity ┆ InvoiceDate ┆ UnitPrice ┆ Country        ┆ TotalSales ┆ weekday │\n",
              "│ ---      ┆ ---         ┆ ---       ┆ ---            ┆ ---        ┆ ---     │\n",
              "│ i64      ┆ date        ┆ f64       ┆ str            ┆ f64        ┆ i8      │\n",
              "╞══════════╪═════════════╪═══════════╪════════════════╪════════════╪═════════╡\n",
              "│ 1        ┆ 2011-08-31  ┆ 0.42      ┆ United Kingdom ┆ 0.42       ┆ 3       │\n",
              "│ 1        ┆ 2011-07-10  ┆ 2.1       ┆ United Kingdom ┆ 2.1        ┆ 7       │\n",
              "│ 4        ┆ 2011-05-06  ┆ 1.25      ┆ United Kingdom ┆ 5.0        ┆ 5       │\n",
              "│ 6        ┆ 2011-06-14  ┆ 2.89      ┆ United Kingdom ┆ 17.34      ┆ 2       │\n",
              "│ 1        ┆ 2010-12-08  ┆ 5.49      ┆ United Kingdom ┆ 5.49       ┆ 3       │\n",
              "│ …        ┆ …           ┆ …         ┆ …              ┆ …          ┆ …       │\n",
              "│ 6        ┆ 2010-12-05  ┆ 1.25      ┆ United Kingdom ┆ 7.5        ┆ 7       │\n",
              "│ 2        ┆ 2011-03-31  ┆ 7.46      ┆ United Kingdom ┆ 14.92      ┆ 4       │\n",
              "│ 1        ┆ 2011-02-27  ┆ 5.95      ┆ United Kingdom ┆ 5.95       ┆ 7       │\n",
              "│ 12       ┆ 2011-06-19  ┆ 2.95      ┆ United Kingdom ┆ 35.4       ┆ 7       │\n",
              "│ 2        ┆ 2011-11-27  ┆ 3.25      ┆ United Kingdom ┆ 6.5        ┆ 7       │\n",
              "└──────────┴─────────────┴───────────┴────────────────┴────────────┴─────────┘"
            ]
          },
          "execution_count": 28,
          "metadata": {},
          "output_type": "execute_result"
        }
      ],
      "source": [
        "df = df.filter(~((df[\"Country\"] == \"European Community\") | (df[\"Country\"] == \"Channel Islands\")))\n",
        "df"
      ]
    },
    {
      "cell_type": "markdown",
      "metadata": {
        "id": "-Go4A4LXiEgn"
      },
      "source": [
        "Ahora Modificaremos a mano el nombre de RSA por South Africa y Eire por Ireland"
      ]
    },
    {
      "cell_type": "code",
      "execution_count": null,
      "metadata": {
        "id": "M071_CkPiEgo",
        "outputId": "8f097b0f-e2fd-4dff-f132-0a4a9d552739"
      },
      "outputs": [
        {
          "data": {
            "text/html": [
              "<div><style>\n",
              ".dataframe > thead > tr,\n",
              ".dataframe > tbody > tr {\n",
              "  text-align: right;\n",
              "  white-space: pre-wrap;\n",
              "}\n",
              "</style>\n",
              "<small>shape: (442_222, 6)</small><table border=\"1\" class=\"dataframe\"><thead><tr><th>Quantity</th><th>InvoiceDate</th><th>UnitPrice</th><th>Country</th><th>TotalSales</th><th>weekday</th></tr><tr><td>i64</td><td>date</td><td>f64</td><td>str</td><td>f64</td><td>i8</td></tr></thead><tbody><tr><td>1</td><td>2011-08-31</td><td>0.42</td><td>&quot;United Kingdom&quot;</td><td>0.42</td><td>3</td></tr><tr><td>1</td><td>2011-07-10</td><td>2.1</td><td>&quot;United Kingdom&quot;</td><td>2.1</td><td>7</td></tr><tr><td>4</td><td>2011-05-06</td><td>1.25</td><td>&quot;United Kingdom&quot;</td><td>5.0</td><td>5</td></tr><tr><td>6</td><td>2011-06-14</td><td>2.89</td><td>&quot;United Kingdom&quot;</td><td>17.34</td><td>2</td></tr><tr><td>1</td><td>2010-12-08</td><td>5.49</td><td>&quot;United Kingdom&quot;</td><td>5.49</td><td>3</td></tr><tr><td>&hellip;</td><td>&hellip;</td><td>&hellip;</td><td>&hellip;</td><td>&hellip;</td><td>&hellip;</td></tr><tr><td>6</td><td>2010-12-05</td><td>1.25</td><td>&quot;United Kingdom&quot;</td><td>7.5</td><td>7</td></tr><tr><td>2</td><td>2011-03-31</td><td>7.46</td><td>&quot;United Kingdom&quot;</td><td>14.92</td><td>4</td></tr><tr><td>1</td><td>2011-02-27</td><td>5.95</td><td>&quot;United Kingdom&quot;</td><td>5.95</td><td>7</td></tr><tr><td>12</td><td>2011-06-19</td><td>2.95</td><td>&quot;United Kingdom&quot;</td><td>35.4</td><td>7</td></tr><tr><td>2</td><td>2011-11-27</td><td>3.25</td><td>&quot;United Kingdom&quot;</td><td>6.5</td><td>7</td></tr></tbody></table></div>"
            ],
            "text/plain": [
              "shape: (442_222, 6)\n",
              "┌──────────┬─────────────┬───────────┬────────────────┬────────────┬─────────┐\n",
              "│ Quantity ┆ InvoiceDate ┆ UnitPrice ┆ Country        ┆ TotalSales ┆ weekday │\n",
              "│ ---      ┆ ---         ┆ ---       ┆ ---            ┆ ---        ┆ ---     │\n",
              "│ i64      ┆ date        ┆ f64       ┆ str            ┆ f64        ┆ i8      │\n",
              "╞══════════╪═════════════╪═══════════╪════════════════╪════════════╪═════════╡\n",
              "│ 1        ┆ 2011-08-31  ┆ 0.42      ┆ United Kingdom ┆ 0.42       ┆ 3       │\n",
              "│ 1        ┆ 2011-07-10  ┆ 2.1       ┆ United Kingdom ┆ 2.1        ┆ 7       │\n",
              "│ 4        ┆ 2011-05-06  ┆ 1.25      ┆ United Kingdom ┆ 5.0        ┆ 5       │\n",
              "│ 6        ┆ 2011-06-14  ┆ 2.89      ┆ United Kingdom ┆ 17.34      ┆ 2       │\n",
              "│ 1        ┆ 2010-12-08  ┆ 5.49      ┆ United Kingdom ┆ 5.49       ┆ 3       │\n",
              "│ …        ┆ …           ┆ …         ┆ …              ┆ …          ┆ …       │\n",
              "│ 6        ┆ 2010-12-05  ┆ 1.25      ┆ United Kingdom ┆ 7.5        ┆ 7       │\n",
              "│ 2        ┆ 2011-03-31  ┆ 7.46      ┆ United Kingdom ┆ 14.92      ┆ 4       │\n",
              "│ 1        ┆ 2011-02-27  ┆ 5.95      ┆ United Kingdom ┆ 5.95       ┆ 7       │\n",
              "│ 12       ┆ 2011-06-19  ┆ 2.95      ┆ United Kingdom ┆ 35.4       ┆ 7       │\n",
              "│ 2        ┆ 2011-11-27  ┆ 3.25      ┆ United Kingdom ┆ 6.5        ┆ 7       │\n",
              "└──────────┴─────────────┴───────────┴────────────────┴────────────┴─────────┘"
            ]
          },
          "execution_count": 29,
          "metadata": {},
          "output_type": "execute_result"
        }
      ],
      "source": [
        "manual_replacements = {\n",
        "    \"RSA\": \"South Africa\",\n",
        "    \"EIRE\": \"Ireland\"\n",
        "}\n",
        "df = df.with_columns(\n",
        "    pl.col(\"Country\").replace(manual_replacements)\n",
        ")\n",
        "df"
      ]
    },
    {
      "cell_type": "markdown",
      "metadata": {
        "id": "r5MFtwHfiEgo"
      },
      "source": [
        "Vovlemos a comprobar que los country codes no contienen ningun valor nulo"
      ]
    },
    {
      "cell_type": "code",
      "execution_count": null,
      "metadata": {
        "id": "5kg3NsQDiEgo",
        "outputId": "7637c683-48b3-46c4-affd-dc358e57d283"
      },
      "outputs": [
        {
          "data": {
            "text/plain": [
              "{}"
            ]
          },
          "execution_count": 30,
          "metadata": {},
          "output_type": "execute_result"
        }
      ],
      "source": [
        "countries = df[\"Country\"].unique().to_list()\n",
        "country_codes = {country: get_country_code(country) for country in countries}\n",
        "{k: v for k, v in country_codes.items() if v is None}"
      ]
    },
    {
      "cell_type": "markdown",
      "metadata": {
        "id": "gr2pI5L5iEgo"
      },
      "source": [
        "Y sobreescribiremos los valores de la columna country por los codigos."
      ]
    },
    {
      "cell_type": "code",
      "execution_count": null,
      "metadata": {
        "collapsed": true,
        "id": "_ID0P5LAiEgo"
      },
      "outputs": [],
      "source": [
        "country_codes_without_none = {k: v for k, v in country_codes.items() if v is not None}\n",
        "\n",
        "df = df.with_columns(\n",
        "    pl.col(\"Country\").replace(country_codes_without_none)\n",
        ")\n",
        "df"
      ]
    },
    {
      "cell_type": "markdown",
      "metadata": {
        "id": "LPtxDtn5iEgo"
      },
      "source": [
        "Lo siguiente sera comprobar cuales son dias festivos y cuantos hay, para asi comprobar los dias en los que no se vendio nada."
      ]
    },
    {
      "cell_type": "code",
      "execution_count": null,
      "metadata": {
        "id": "dVM-cNfLiEgo",
        "outputId": "a74cae64-b8b0-470b-d7de-92aba4a47a95"
      },
      "outputs": [
        {
          "name": "stdout",
          "output_type": "stream",
          "text": [
            "LB not found in holidays database\n"
          ]
        },
        {
          "data": {
            "text/plain": [
              "{'NL': {datetime.date(2010, 1, 1): 'Nieuwjaarsdag', datetime.date(2010, 4, 4): 'Eerste paasdag', datetime.date(2010, 4, 5): 'Tweede paasdag', datetime.date(2010, 4, 30): 'Koninginnedag', datetime.date(2010, 5, 5): 'Bevrijdingsdag', datetime.date(2010, 5, 13): 'Hemelvaartsdag', datetime.date(2010, 5, 23): 'Eerste Pinksterdag', datetime.date(2010, 5, 24): 'Tweede Pinksterdag', datetime.date(2010, 12, 25): 'Eerste Kerstdag', datetime.date(2010, 12, 26): 'Tweede Kerstdag', datetime.date(2011, 1, 1): 'Nieuwjaarsdag', datetime.date(2011, 4, 24): 'Eerste paasdag', datetime.date(2011, 4, 25): 'Tweede paasdag', datetime.date(2011, 4, 30): 'Koninginnedag', datetime.date(2011, 6, 2): 'Hemelvaartsdag', datetime.date(2011, 6, 12): 'Eerste Pinksterdag', datetime.date(2011, 6, 13): 'Tweede Pinksterdag', datetime.date(2011, 12, 25): 'Eerste Kerstdag', datetime.date(2011, 12, 26): 'Tweede Kerstdag'},\n",
              " 'BE': {datetime.date(2010, 1, 1): 'Nieuwjaar', datetime.date(2010, 4, 4): 'Pasen', datetime.date(2010, 4, 5): 'Paasmaandag', datetime.date(2010, 5, 1): 'Dag van de Arbeid', datetime.date(2010, 5, 13): 'O. L. H. Hemelvaart', datetime.date(2010, 5, 23): 'Pinksteren', datetime.date(2010, 5, 24): 'Pinkstermaandag', datetime.date(2010, 7, 21): 'Nationale feestdag', datetime.date(2010, 8, 15): 'O. L. V. Hemelvaart', datetime.date(2010, 11, 1): 'Allerheiligen', datetime.date(2010, 11, 11): 'Wapenstilstand', datetime.date(2010, 12, 25): 'Kerstmis', datetime.date(2011, 1, 1): 'Nieuwjaar', datetime.date(2011, 4, 24): 'Pasen', datetime.date(2011, 4, 25): 'Paasmaandag', datetime.date(2011, 5, 1): 'Dag van de Arbeid', datetime.date(2011, 6, 2): 'O. L. H. Hemelvaart', datetime.date(2011, 6, 12): 'Pinksteren', datetime.date(2011, 6, 13): 'Pinkstermaandag', datetime.date(2011, 7, 21): 'Nationale feestdag', datetime.date(2011, 8, 15): 'O. L. V. Hemelvaart', datetime.date(2011, 11, 1): 'Allerheiligen', datetime.date(2011, 11, 11): 'Wapenstilstand', datetime.date(2011, 12, 25): 'Kerstmis'},\n",
              " 'ZA': {datetime.date(2010, 1, 1): \"New Year's Day\", datetime.date(2010, 4, 2): 'Good Friday', datetime.date(2010, 4, 5): 'Family Day', datetime.date(2010, 12, 16): 'Day of Reconciliation', datetime.date(2010, 12, 25): 'Christmas Day', datetime.date(2010, 12, 26): 'Day of Goodwill', datetime.date(2010, 12, 27): 'Day of Goodwill (observed)', datetime.date(2010, 3, 21): 'Human Rights Day', datetime.date(2010, 3, 22): 'Human Rights Day (observed)', datetime.date(2010, 4, 27): 'Freedom Day', datetime.date(2010, 5, 1): \"Workers' Day\", datetime.date(2010, 6, 16): 'Youth Day', datetime.date(2010, 8, 9): \"National Women's Day\", datetime.date(2010, 9, 24): 'Heritage Day', datetime.date(2011, 1, 1): \"New Year's Day\", datetime.date(2011, 4, 22): 'Good Friday', datetime.date(2011, 4, 25): 'Family Day', datetime.date(2011, 12, 16): 'Day of Reconciliation', datetime.date(2011, 12, 25): 'Christmas Day', datetime.date(2011, 12, 26): 'Day of Goodwill', datetime.date(2011, 3, 21): 'Human Rights Day', datetime.date(2011, 4, 27): 'Freedom Day', datetime.date(2011, 5, 1): \"Workers' Day\", datetime.date(2011, 5, 2): \"Workers' Day (observed)\", datetime.date(2011, 6, 16): 'Youth Day', datetime.date(2011, 8, 9): \"National Women's Day\", datetime.date(2011, 9, 24): 'Heritage Day', datetime.date(2011, 5, 18): 'Local government elections', datetime.date(2011, 12, 27): 'Public holiday by presidential decree'},\n",
              " 'FI': {datetime.date(2010, 1, 1): 'Uudenvuodenpäivä', datetime.date(2010, 1, 6): 'Loppiainen', datetime.date(2010, 4, 2): 'Pitkäperjantai', datetime.date(2010, 4, 4): 'Pääsiäispäivä', datetime.date(2010, 4, 5): 'Toinen pääsiäispäivä', datetime.date(2010, 5, 1): 'Vappu', datetime.date(2010, 5, 13): 'Helatorstai', datetime.date(2010, 5, 23): 'Helluntaipäivä', datetime.date(2010, 6, 25): 'Juhannusaatto', datetime.date(2010, 6, 26): 'Juhannuspäivä', datetime.date(2010, 11, 6): 'Pyhäinpäivä', datetime.date(2010, 12, 6): 'Itsenäisyyspäivä', datetime.date(2010, 12, 24): 'Jouluaatto', datetime.date(2010, 12, 25): 'Joulupäivä', datetime.date(2010, 12, 26): 'Tapaninpäivä', datetime.date(2011, 1, 1): 'Uudenvuodenpäivä', datetime.date(2011, 1, 6): 'Loppiainen', datetime.date(2011, 4, 22): 'Pitkäperjantai', datetime.date(2011, 4, 24): 'Pääsiäispäivä', datetime.date(2011, 4, 25): 'Toinen pääsiäispäivä', datetime.date(2011, 5, 1): 'Vappu', datetime.date(2011, 6, 2): 'Helatorstai', datetime.date(2011, 6, 12): 'Helluntaipäivä', datetime.date(2011, 6, 24): 'Juhannusaatto', datetime.date(2011, 6, 25): 'Juhannuspäivä', datetime.date(2011, 11, 5): 'Pyhäinpäivä', datetime.date(2011, 12, 6): 'Itsenäisyyspäivä', datetime.date(2011, 12, 24): 'Jouluaatto', datetime.date(2011, 12, 25): 'Joulupäivä', datetime.date(2011, 12, 26): 'Tapaninpäivä'},\n",
              " 'GB': {datetime.date(2010, 4, 2): 'Good Friday', datetime.date(2010, 5, 3): 'May Day', datetime.date(2010, 5, 31): 'Spring Bank Holiday', datetime.date(2010, 1, 1): \"New Year's Day\", datetime.date(2010, 12, 25): 'Christmas Day', datetime.date(2010, 12, 27): 'Christmas Day (observed)', datetime.date(2010, 12, 26): 'Boxing Day', datetime.date(2010, 12, 28): 'Boxing Day (observed)', datetime.date(2011, 4, 22): 'Good Friday', datetime.date(2011, 5, 2): 'May Day', datetime.date(2011, 5, 30): 'Spring Bank Holiday', datetime.date(2011, 4, 29): 'Wedding of William and Catherine', datetime.date(2011, 1, 1): \"New Year's Day\", datetime.date(2011, 1, 3): \"New Year's Day (observed)\", datetime.date(2011, 12, 25): 'Christmas Day', datetime.date(2011, 12, 27): 'Christmas Day (observed)', datetime.date(2011, 12, 26): 'Boxing Day'},\n",
              " 'BR': {datetime.date(2010, 1, 1): 'Confraternização Universal', datetime.date(2010, 4, 2): 'Sexta-feira Santa', datetime.date(2010, 4, 21): 'Tiradentes', datetime.date(2010, 5, 1): 'Dia do Trabalhador', datetime.date(2010, 9, 7): 'Independência do Brasil', datetime.date(2010, 10, 12): 'Nossa Senhora Aparecida', datetime.date(2010, 11, 2): 'Finados', datetime.date(2010, 11, 15): 'Proclamação da República', datetime.date(2010, 12, 25): 'Natal', datetime.date(2011, 1, 1): 'Confraternização Universal', datetime.date(2011, 4, 22): 'Sexta-feira Santa', datetime.date(2011, 4, 21): 'Tiradentes', datetime.date(2011, 5, 1): 'Dia do Trabalhador', datetime.date(2011, 9, 7): 'Independência do Brasil', datetime.date(2011, 10, 12): 'Nossa Senhora Aparecida', datetime.date(2011, 11, 2): 'Finados', datetime.date(2011, 11, 15): 'Proclamação da República', datetime.date(2011, 12, 25): 'Natal'},\n",
              " 'SA': {datetime.date(2010, 9, 10): '(تقدير) عطلة عيد الفطر', datetime.date(2010, 9, 11): '(تقدير) عطلة عيد الفطر', datetime.date(2010, 9, 12): '(تقدير) عطلة عيد الفطر', datetime.date(2010, 9, 13): '(تقدير) عطلة عيد الفطر', datetime.date(2010, 9, 14): '(تقدير ملاحظة) عطلة عيد الفطر', datetime.date(2010, 11, 15): '(تقدير) يوم عرفة', datetime.date(2010, 11, 16): '(تقدير) عطلة عيد الأضحى', datetime.date(2010, 11, 17): '(تقدير) عطلة عيد الأضحى', datetime.date(2010, 11, 18): '(تقدير) عطلة عيد الأضحى', datetime.date(2010, 11, 20): '(تقدير ملاحظة) عطلة عيد الأضحى', datetime.date(2010, 9, 23): 'اليوم الوطني', datetime.date(2010, 9, 22): '(ملاحظة) اليوم الوطني', datetime.date(2011, 8, 30): '(تقدير) عطلة عيد الفطر', datetime.date(2011, 8, 31): '(تقدير) عطلة عيد الفطر', datetime.date(2011, 9, 1): '(تقدير) عطلة عيد الفطر', datetime.date(2011, 9, 2): '(تقدير) عطلة عيد الفطر', datetime.date(2011, 9, 3): '(تقدير ملاحظة) عطلة عيد الفطر', datetime.date(2011, 9, 4): '(تقدير ملاحظة) عطلة عيد الفطر', datetime.date(2011, 11, 5): '(تقدير) يوم عرفة', datetime.date(2011, 11, 6): '(تقدير) عطلة عيد الأضحى', datetime.date(2011, 11, 7): '(تقدير) عطلة عيد الأضحى', datetime.date(2011, 11, 8): '(تقدير) عطلة عيد الأضحى', datetime.date(2011, 9, 23): 'اليوم الوطني', datetime.date(2011, 9, 24): '(ملاحظة) اليوم الوطني'},\n",
              " 'US': {datetime.date(2010, 1, 1): \"New Year's Day\", datetime.date(2010, 12, 31): \"New Year's Day (observed)\", datetime.date(2010, 5, 31): 'Memorial Day', datetime.date(2010, 7, 4): 'Independence Day', datetime.date(2010, 7, 5): 'Independence Day (observed)', datetime.date(2010, 9, 6): 'Labor Day', datetime.date(2010, 11, 11): 'Veterans Day', datetime.date(2010, 11, 25): 'Thanksgiving', datetime.date(2010, 12, 25): 'Christmas Day', datetime.date(2010, 12, 24): 'Christmas Day (observed)', datetime.date(2010, 1, 18): 'Martin Luther King Jr. Day', datetime.date(2010, 2, 15): \"Washington's Birthday\", datetime.date(2010, 10, 11): 'Columbus Day', datetime.date(2011, 1, 1): \"New Year's Day\", datetime.date(2011, 5, 30): 'Memorial Day', datetime.date(2011, 7, 4): 'Independence Day', datetime.date(2011, 9, 5): 'Labor Day', datetime.date(2011, 11, 11): 'Veterans Day', datetime.date(2011, 11, 24): 'Thanksgiving', datetime.date(2011, 12, 25): 'Christmas Day', datetime.date(2011, 12, 26): 'Christmas Day (observed)', datetime.date(2011, 1, 17): 'Martin Luther King Jr. Day', datetime.date(2011, 2, 21): \"Washington's Birthday\", datetime.date(2011, 10, 10): 'Columbus Day'},\n",
              " 'ES': {datetime.date(2010, 1, 1): 'Año nuevo', datetime.date(2010, 1, 6): 'Epifanía del Señor', datetime.date(2010, 4, 2): 'Viernes Santo', datetime.date(2010, 5, 1): 'Fiesta del Trabajo', datetime.date(2010, 10, 12): 'Fiesta Nacional de España', datetime.date(2010, 11, 1): 'Todos los Santos', datetime.date(2010, 12, 6): 'Día de la Constitución Española', datetime.date(2010, 12, 8): 'Inmaculada Concepción', datetime.date(2010, 12, 25): 'Natividad del Señor', datetime.date(2011, 1, 1): 'Año nuevo', datetime.date(2011, 1, 6): 'Epifanía del Señor', datetime.date(2011, 4, 22): 'Viernes Santo', datetime.date(2011, 8, 15): 'Asunción de la Virgen', datetime.date(2011, 10, 12): 'Fiesta Nacional de España', datetime.date(2011, 11, 1): 'Todos los Santos', datetime.date(2011, 12, 6): 'Día de la Constitución Española', datetime.date(2011, 12, 8): 'Inmaculada Concepción'},\n",
              " 'IL': {datetime.date(2010, 9, 9): 'ראש השנה', datetime.date(2010, 9, 10): 'ראש השנה', datetime.date(2010, 9, 18): 'יום כיפור', datetime.date(2010, 9, 23): 'סוכות', datetime.date(2010, 9, 30): 'שמחת תורה/שמיני עצרת', datetime.date(2010, 3, 30): 'פסח', datetime.date(2010, 4, 5): 'שביעי של פסח', datetime.date(2010, 4, 20): '(נצפה) יום העצמאות', datetime.date(2010, 5, 19): 'שבועות', datetime.date(2011, 9, 29): 'ראש השנה', datetime.date(2011, 9, 30): 'ראש השנה', datetime.date(2011, 10, 8): 'יום כיפור', datetime.date(2011, 10, 13): 'סוכות', datetime.date(2011, 10, 20): 'שמחת תורה/שמיני עצרת', datetime.date(2011, 4, 19): 'פסח', datetime.date(2011, 4, 25): 'שביעי של פסח', datetime.date(2011, 5, 10): '(נצפה) יום העצמאות', datetime.date(2011, 6, 8): 'שבועות'},\n",
              " 'PT': {datetime.date(2010, 1, 1): 'Ano Novo', datetime.date(2010, 4, 2): 'Sexta-feira Santa', datetime.date(2010, 4, 4): 'Páscoa', datetime.date(2010, 6, 3): 'Corpo de Deus', datetime.date(2010, 10, 5): 'Implantação da República', datetime.date(2010, 11, 1): 'Dia de Todos os Santos', datetime.date(2010, 12, 1): 'Restauração da Independência', datetime.date(2010, 4, 25): 'Dia da Liberdade', datetime.date(2010, 5, 1): 'Dia do Trabalhador', datetime.date(2010, 6, 10): 'Dia de Portugal, de Camões e das Comunidades Portuguesas', datetime.date(2010, 8, 15): 'Assunção de Nossa Senhora', datetime.date(2010, 12, 8): 'Imaculada Conceição', datetime.date(2010, 12, 25): 'Dia de Natal', datetime.date(2011, 1, 1): 'Ano Novo', datetime.date(2011, 4, 22): 'Sexta-feira Santa', datetime.date(2011, 4, 24): 'Páscoa', datetime.date(2011, 6, 23): 'Corpo de Deus', datetime.date(2011, 10, 5): 'Implantação da República', datetime.date(2011, 11, 1): 'Dia de Todos os Santos', datetime.date(2011, 12, 1): 'Restauração da Independência', datetime.date(2011, 4, 25): 'Dia da Liberdade', datetime.date(2011, 5, 1): 'Dia do Trabalhador', datetime.date(2011, 6, 10): 'Dia de Portugal, de Camões e das Comunidades Portuguesas', datetime.date(2011, 8, 15): 'Assunção de Nossa Senhora', datetime.date(2011, 12, 8): 'Imaculada Conceição', datetime.date(2011, 12, 25): 'Dia de Natal'},\n",
              " 'CH': {datetime.date(2010, 1, 1): 'Neujahrstag', datetime.date(2010, 5, 13): 'Auffahrt', datetime.date(2010, 8, 1): 'Nationalfeiertag', datetime.date(2010, 12, 25): 'Weihnachten', datetime.date(2011, 1, 1): 'Neujahrstag', datetime.date(2011, 6, 2): 'Auffahrt', datetime.date(2011, 8, 1): 'Nationalfeiertag', datetime.date(2011, 12, 25): 'Weihnachten'},\n",
              " 'LT': {datetime.date(2010, 1, 1): 'Naujųjų metų diena', datetime.date(2010, 2, 16): 'Lietuvos valstybės atkūrimo diena', datetime.date(2010, 3, 11): 'Lietuvos nepriklausomybės atkūrimo diena', datetime.date(2010, 4, 4): 'Šv. Velykos', datetime.date(2010, 4, 5): 'Antroji šv. Velykų diena', datetime.date(2010, 5, 1): 'Tarptautinė darbo diena', datetime.date(2010, 5, 2): 'Motinos diena', datetime.date(2010, 6, 6): 'Tėvo diena', datetime.date(2010, 6, 24): 'Rasos ir Joninių diena', datetime.date(2010, 7, 6): 'Valstybės (Lietuvos karaliaus Mindaugo karūnavimo) ir Tautiškos giesmės diena', datetime.date(2010, 8, 15): 'Žolinė (Švč. Mergelės Marijos ėmimo į dangų diena)', datetime.date(2010, 11, 1): 'Visų Šventųjų diena', datetime.date(2010, 12, 24): 'Kūčių diena', datetime.date(2010, 12, 25): 'Šv. Kalėdų pirma diena', datetime.date(2010, 12, 26): 'Šv. Kalėdų antra diena', datetime.date(2011, 1, 1): 'Naujųjų metų diena', datetime.date(2011, 2, 16): 'Lietuvos valstybės atkūrimo diena', datetime.date(2011, 3, 11): 'Lietuvos nepriklausomybės atkūrimo diena', datetime.date(2011, 4, 24): 'Šv. Velykos', datetime.date(2011, 4, 25): 'Antroji šv. Velykų diena', datetime.date(2011, 5, 1): 'Motinos diena; Tarptautinė darbo diena', datetime.date(2011, 6, 5): 'Tėvo diena', datetime.date(2011, 6, 24): 'Rasos ir Joninių diena', datetime.date(2011, 7, 6): 'Valstybės (Lietuvos karaliaus Mindaugo karūnavimo) ir Tautiškos giesmės diena', datetime.date(2011, 8, 15): 'Žolinė (Švč. Mergelės Marijos ėmimo į dangų diena)', datetime.date(2011, 11, 1): 'Visų Šventųjų diena', datetime.date(2011, 12, 24): 'Kūčių diena', datetime.date(2011, 12, 25): 'Šv. Kalėdų pirma diena', datetime.date(2011, 12, 26): 'Šv. Kalėdų antra diena'},\n",
              " 'HK': {datetime.date(2010, 1, 1): 'The first day of January', datetime.date(2010, 2, 13): \"The day preceding Lunar New Year's Day\", datetime.date(2010, 2, 15): 'The second day of Lunar New Year', datetime.date(2010, 2, 16): 'The third day of Lunar New Year', datetime.date(2010, 4, 5): 'Ching Ming Festival', datetime.date(2010, 5, 1): 'Labour Day', datetime.date(2010, 6, 16): 'Tuen Ng Festival', datetime.date(2010, 7, 1): 'Hong Kong Special Administrative Region Establishment Day', datetime.date(2010, 9, 23): 'The day following the Chinese Mid-Autumn Festival', datetime.date(2010, 10, 16): 'Chung Yeung Festival', datetime.date(2010, 10, 1): 'National Day', datetime.date(2010, 12, 25): 'Christmas Day', datetime.date(2011, 1, 1): 'The first day of January', datetime.date(2011, 2, 3): \"Lunar New Year's Day\", datetime.date(2011, 2, 4): 'The second day of Lunar New Year', datetime.date(2011, 2, 5): 'The third day of Lunar New Year', datetime.date(2011, 4, 5): 'Ching Ming Festival', datetime.date(2011, 5, 1): 'Labour Day', datetime.date(2011, 5, 2): 'Labour Day (observed)', datetime.date(2011, 6, 6): 'Tuen Ng Festival', datetime.date(2011, 7, 1): 'Hong Kong Special Administrative Region Establishment Day', datetime.date(2011, 9, 13): 'The day following the Chinese Mid-Autumn Festival', datetime.date(2011, 10, 5): 'Chung Yeung Festival', datetime.date(2011, 10, 1): 'National Day', datetime.date(2011, 12, 25): 'Christmas Day', datetime.date(2011, 12, 26): 'Christmas Day (observed)'},\n",
              " 'AT': {datetime.date(2010, 1, 1): 'Neujahr', datetime.date(2010, 1, 6): 'Heilige Drei Könige', datetime.date(2010, 4, 5): 'Ostermontag', datetime.date(2010, 5, 1): 'Staatsfeiertag', datetime.date(2010, 5, 13): 'Christi Himmelfahrt', datetime.date(2010, 5, 24): 'Pfingstmontag', datetime.date(2010, 6, 3): 'Fronleichnam', datetime.date(2010, 8, 15): 'Mariä Himmelfahrt', datetime.date(2010, 10, 26): 'Nationalfeiertag', datetime.date(2010, 11, 1): 'Allerheiligen', datetime.date(2010, 12, 8): 'Mariä Empfängnis', datetime.date(2010, 12, 25): 'Christtag', datetime.date(2010, 12, 26): 'Stefanitag', datetime.date(2011, 1, 1): 'Neujahr', datetime.date(2011, 1, 6): 'Heilige Drei Könige', datetime.date(2011, 4, 25): 'Ostermontag', datetime.date(2011, 5, 1): 'Staatsfeiertag', datetime.date(2011, 6, 2): 'Christi Himmelfahrt', datetime.date(2011, 6, 13): 'Pfingstmontag', datetime.date(2011, 6, 23): 'Fronleichnam', datetime.date(2011, 8, 15): 'Mariä Himmelfahrt', datetime.date(2011, 10, 26): 'Nationalfeiertag', datetime.date(2011, 11, 1): 'Allerheiligen', datetime.date(2011, 12, 8): 'Mariä Empfängnis', datetime.date(2011, 12, 25): 'Christtag', datetime.date(2011, 12, 26): 'Stefanitag'},\n",
              " 'IT': {datetime.date(2010, 1, 1): 'Capodanno', datetime.date(2010, 1, 6): 'Epifania del Signore', datetime.date(2010, 4, 4): 'Pasqua di Resurrezione', datetime.date(2010, 4, 5): \"Lunedì dell'Angelo\", datetime.date(2010, 4, 25): 'Festa della Liberazione', datetime.date(2010, 5, 1): 'Festa dei Lavoratori', datetime.date(2010, 6, 2): 'Festa della Repubblica', datetime.date(2010, 8, 15): 'Assunzione della Vergine', datetime.date(2010, 11, 1): 'Tutti i Santi', datetime.date(2010, 12, 8): 'Immacolata Concezione', datetime.date(2010, 12, 25): 'Natale', datetime.date(2010, 12, 26): 'Santo Stefano', datetime.date(2011, 1, 1): 'Capodanno', datetime.date(2011, 1, 6): 'Epifania del Signore', datetime.date(2011, 4, 24): 'Pasqua di Resurrezione', datetime.date(2011, 4, 25): \"Festa della Liberazione; Lunedì dell'Angelo\", datetime.date(2011, 5, 1): 'Festa dei Lavoratori', datetime.date(2011, 6, 2): 'Festa della Repubblica', datetime.date(2011, 8, 15): 'Assunzione della Vergine', datetime.date(2011, 11, 1): 'Tutti i Santi', datetime.date(2011, 12, 8): 'Immacolata Concezione', datetime.date(2011, 12, 25): 'Natale', datetime.date(2011, 12, 26): 'Santo Stefano', datetime.date(2011, 3, 17): \"Anniversario dell'Unità d'Italia\"},\n",
              " 'GR': {datetime.date(2010, 1, 1): 'Πρωτοχρονιά', datetime.date(2010, 1, 6): 'Θεοφάνεια', datetime.date(2010, 2, 15): 'Καθαρά Δευτέρα', datetime.date(2010, 3, 25): 'Εικοστή Πέμπτη Μαρτίου', datetime.date(2010, 4, 2): 'Μεγάλη Παρασκευή', datetime.date(2010, 4, 5): 'Δευτέρα του Πάσχα', datetime.date(2010, 5, 24): 'Δευτέρα του Αγίου Πνεύματος', datetime.date(2010, 5, 1): 'Εργατική Πρωτομαγιά', datetime.date(2010, 8, 15): 'Κοίμηση της Θεοτόκου', datetime.date(2010, 10, 28): 'Ημέρα του Όχι', datetime.date(2010, 12, 25): 'Χριστούγεννα', datetime.date(2010, 12, 26): 'Σύναξη της Υπεραγίας Θεοτόκου', datetime.date(2011, 1, 1): 'Πρωτοχρονιά', datetime.date(2011, 1, 6): 'Θεοφάνεια', datetime.date(2011, 3, 7): 'Καθαρά Δευτέρα', datetime.date(2011, 3, 25): 'Εικοστή Πέμπτη Μαρτίου', datetime.date(2011, 4, 22): 'Μεγάλη Παρασκευή', datetime.date(2011, 4, 25): 'Δευτέρα του Πάσχα', datetime.date(2011, 6, 13): 'Δευτέρα του Αγίου Πνεύματος', datetime.date(2011, 5, 1): 'Εργατική Πρωτομαγιά', datetime.date(2011, 8, 15): 'Κοίμηση της Θεοτόκου', datetime.date(2011, 10, 28): 'Ημέρα του Όχι', datetime.date(2011, 12, 25): 'Χριστούγεννα', datetime.date(2011, 12, 26): 'Σύναξη της Υπεραγίας Θεοτόκου'},\n",
              " 'SE': {datetime.date(2010, 1, 1): 'Nyårsdagen', datetime.date(2010, 1, 6): 'Trettondedag jul', datetime.date(2010, 4, 2): 'Långfredagen', datetime.date(2010, 4, 4): 'Påskdagen; Söndag', datetime.date(2010, 4, 5): 'Annandag påsk', datetime.date(2010, 5, 1): 'Första maj', datetime.date(2010, 5, 13): 'Kristi himmelsfärdsdag', datetime.date(2010, 6, 6): 'Sveriges nationaldag; Söndag', datetime.date(2010, 5, 23): 'Pingstdagen; Söndag', datetime.date(2010, 6, 25): 'Midsommarafton', datetime.date(2010, 6, 26): 'Midsommardagen', datetime.date(2010, 11, 6): 'Alla helgons dag', datetime.date(2010, 12, 24): 'Julafton', datetime.date(2010, 12, 25): 'Juldagen', datetime.date(2010, 12, 26): 'Annandag jul; Söndag', datetime.date(2010, 12, 31): 'Nyårsafton', datetime.date(2010, 1, 3): 'Söndag', datetime.date(2010, 1, 10): 'Söndag', datetime.date(2010, 1, 17): 'Söndag', datetime.date(2010, 1, 24): 'Söndag', datetime.date(2010, 1, 31): 'Söndag', datetime.date(2010, 2, 7): 'Söndag', datetime.date(2010, 2, 14): 'Söndag', datetime.date(2010, 2, 21): 'Söndag', datetime.date(2010, 2, 28): 'Söndag', datetime.date(2010, 3, 7): 'Söndag', datetime.date(2010, 3, 14): 'Söndag', datetime.date(2010, 3, 21): 'Söndag', datetime.date(2010, 3, 28): 'Söndag', datetime.date(2010, 4, 11): 'Söndag', datetime.date(2010, 4, 18): 'Söndag', datetime.date(2010, 4, 25): 'Söndag', datetime.date(2010, 5, 2): 'Söndag', datetime.date(2010, 5, 9): 'Söndag', datetime.date(2010, 5, 16): 'Söndag', datetime.date(2010, 5, 30): 'Söndag', datetime.date(2010, 6, 13): 'Söndag', datetime.date(2010, 6, 20): 'Söndag', datetime.date(2010, 6, 27): 'Söndag', datetime.date(2010, 7, 4): 'Söndag', datetime.date(2010, 7, 11): 'Söndag', datetime.date(2010, 7, 18): 'Söndag', datetime.date(2010, 7, 25): 'Söndag', datetime.date(2010, 8, 1): 'Söndag', datetime.date(2010, 8, 8): 'Söndag', datetime.date(2010, 8, 15): 'Söndag', datetime.date(2010, 8, 22): 'Söndag', datetime.date(2010, 8, 29): 'Söndag', datetime.date(2010, 9, 5): 'Söndag', datetime.date(2010, 9, 12): 'Söndag', datetime.date(2010, 9, 19): 'Söndag', datetime.date(2010, 9, 26): 'Söndag', datetime.date(2010, 10, 3): 'Söndag', datetime.date(2010, 10, 10): 'Söndag', datetime.date(2010, 10, 17): 'Söndag', datetime.date(2010, 10, 24): 'Söndag', datetime.date(2010, 10, 31): 'Söndag', datetime.date(2010, 11, 7): 'Söndag', datetime.date(2010, 11, 14): 'Söndag', datetime.date(2010, 11, 21): 'Söndag', datetime.date(2010, 11, 28): 'Söndag', datetime.date(2010, 12, 5): 'Söndag', datetime.date(2010, 12, 12): 'Söndag', datetime.date(2010, 12, 19): 'Söndag', datetime.date(2011, 1, 1): 'Nyårsdagen', datetime.date(2011, 1, 6): 'Trettondedag jul', datetime.date(2011, 4, 22): 'Långfredagen', datetime.date(2011, 4, 24): 'Påskdagen; Söndag', datetime.date(2011, 4, 25): 'Annandag påsk', datetime.date(2011, 5, 1): 'Första maj; Söndag', datetime.date(2011, 6, 2): 'Kristi himmelsfärdsdag', datetime.date(2011, 6, 6): 'Sveriges nationaldag', datetime.date(2011, 6, 12): 'Pingstdagen; Söndag', datetime.date(2011, 6, 24): 'Midsommarafton', datetime.date(2011, 6, 25): 'Midsommardagen', datetime.date(2011, 11, 5): 'Alla helgons dag', datetime.date(2011, 12, 24): 'Julafton', datetime.date(2011, 12, 25): 'Juldagen; Söndag', datetime.date(2011, 12, 26): 'Annandag jul', datetime.date(2011, 12, 31): 'Nyårsafton', datetime.date(2011, 1, 2): 'Söndag', datetime.date(2011, 1, 9): 'Söndag', datetime.date(2011, 1, 16): 'Söndag', datetime.date(2011, 1, 23): 'Söndag', datetime.date(2011, 1, 30): 'Söndag', datetime.date(2011, 2, 6): 'Söndag', datetime.date(2011, 2, 13): 'Söndag', datetime.date(2011, 2, 20): 'Söndag', datetime.date(2011, 2, 27): 'Söndag', datetime.date(2011, 3, 6): 'Söndag', datetime.date(2011, 3, 13): 'Söndag', datetime.date(2011, 3, 20): 'Söndag', datetime.date(2011, 3, 27): 'Söndag', datetime.date(2011, 4, 3): 'Söndag', datetime.date(2011, 4, 10): 'Söndag', datetime.date(2011, 4, 17): 'Söndag', datetime.date(2011, 5, 8): 'Söndag', datetime.date(2011, 5, 15): 'Söndag', datetime.date(2011, 5, 22): 'Söndag', datetime.date(2011, 5, 29): 'Söndag', datetime.date(2011, 6, 5): 'Söndag', datetime.date(2011, 6, 19): 'Söndag', datetime.date(2011, 6, 26): 'Söndag', datetime.date(2011, 7, 3): 'Söndag', datetime.date(2011, 7, 10): 'Söndag', datetime.date(2011, 7, 17): 'Söndag', datetime.date(2011, 7, 24): 'Söndag', datetime.date(2011, 7, 31): 'Söndag', datetime.date(2011, 8, 7): 'Söndag', datetime.date(2011, 8, 14): 'Söndag', datetime.date(2011, 8, 21): 'Söndag', datetime.date(2011, 8, 28): 'Söndag', datetime.date(2011, 9, 4): 'Söndag', datetime.date(2011, 9, 11): 'Söndag', datetime.date(2011, 9, 18): 'Söndag', datetime.date(2011, 9, 25): 'Söndag', datetime.date(2011, 10, 2): 'Söndag', datetime.date(2011, 10, 9): 'Söndag', datetime.date(2011, 10, 16): 'Söndag', datetime.date(2011, 10, 23): 'Söndag', datetime.date(2011, 10, 30): 'Söndag', datetime.date(2011, 11, 6): 'Söndag', datetime.date(2011, 11, 13): 'Söndag', datetime.date(2011, 11, 20): 'Söndag', datetime.date(2011, 11, 27): 'Söndag', datetime.date(2011, 12, 4): 'Söndag', datetime.date(2011, 12, 11): 'Söndag', datetime.date(2011, 12, 18): 'Söndag'},\n",
              " 'FR': {datetime.date(2010, 1, 1): \"Jour de l'an\", datetime.date(2010, 5, 1): 'Fête du Travail', datetime.date(2010, 5, 8): 'Fête de la Victoire', datetime.date(2010, 7, 14): 'Fête nationale', datetime.date(2010, 11, 11): 'Armistice', datetime.date(2010, 4, 5): 'Lundi de Pâques', datetime.date(2010, 5, 24): 'Lundi de Pentecôte', datetime.date(2010, 5, 13): 'Ascension', datetime.date(2010, 8, 15): 'Assomption', datetime.date(2010, 11, 1): 'Toussaint', datetime.date(2010, 12, 25): 'Noël', datetime.date(2011, 1, 1): \"Jour de l'an\", datetime.date(2011, 5, 1): 'Fête du Travail', datetime.date(2011, 5, 8): 'Fête de la Victoire', datetime.date(2011, 7, 14): 'Fête nationale', datetime.date(2011, 11, 11): 'Armistice', datetime.date(2011, 4, 25): 'Lundi de Pâques', datetime.date(2011, 6, 13): 'Lundi de Pentecôte', datetime.date(2011, 6, 2): 'Ascension', datetime.date(2011, 8, 15): 'Assomption', datetime.date(2011, 11, 1): 'Toussaint', datetime.date(2011, 12, 25): 'Noël'},\n",
              " 'SG': {datetime.date(2010, 1, 1): \"New Year's Day\", datetime.date(2010, 2, 14): 'Chinese New Year', datetime.date(2010, 2, 15): 'Chinese New Year', datetime.date(2010, 9, 10): 'Hari Raya Puasa', datetime.date(2010, 11, 17): 'Hari Raya Haji', datetime.date(2010, 4, 2): 'Good Friday', datetime.date(2010, 5, 1): 'Labour Day', datetime.date(2010, 5, 28): 'Vesak Day', datetime.date(2010, 8, 9): 'National Day', datetime.date(2010, 11, 5): 'Deepavali', datetime.date(2010, 12, 25): 'Christmas Day', datetime.date(2010, 2, 16): 'Chinese New Year (observed)', datetime.date(2011, 1, 1): \"New Year's Day\", datetime.date(2011, 2, 3): 'Chinese New Year', datetime.date(2011, 2, 4): 'Chinese New Year', datetime.date(2011, 8, 30): 'Hari Raya Puasa', datetime.date(2011, 11, 6): 'Hari Raya Haji', datetime.date(2011, 4, 22): 'Good Friday', datetime.date(2011, 5, 1): 'Labour Day', datetime.date(2011, 5, 17): 'Vesak Day', datetime.date(2011, 8, 9): 'National Day', datetime.date(2011, 10, 26): 'Deepavali', datetime.date(2011, 12, 25): 'Christmas Day', datetime.date(2011, 5, 2): 'Labour Day (observed)', datetime.date(2011, 11, 7): 'Hari Raya Haji (observed)', datetime.date(2011, 12, 26): 'Christmas Day (observed)', datetime.date(2011, 5, 7): 'Polling Day'},\n",
              " 'CZ': {datetime.date(2010, 1, 1): 'Den obnovy samostatného českého státu; Nový rok', datetime.date(2010, 4, 5): 'Velikonoční pondělí', datetime.date(2010, 5, 1): 'Svátek práce', datetime.date(2010, 5, 8): 'Den vítězství', datetime.date(2010, 7, 5): 'Den slovanských věrozvěstů Cyrila a Metoděje', datetime.date(2010, 7, 6): 'Den upálení mistra Jana Husa', datetime.date(2010, 9, 28): 'Den české státnosti', datetime.date(2010, 10, 28): 'Den vzniku samostatného československého státu', datetime.date(2010, 11, 17): 'Den boje za svobodu a demokracii', datetime.date(2010, 12, 24): 'Štědrý den', datetime.date(2010, 12, 25): '1. svátek vánoční', datetime.date(2010, 12, 26): '2. svátek vánoční', datetime.date(2011, 1, 1): 'Den obnovy samostatného českého státu; Nový rok', datetime.date(2011, 4, 25): 'Velikonoční pondělí', datetime.date(2011, 5, 1): 'Svátek práce', datetime.date(2011, 5, 8): 'Den vítězství', datetime.date(2011, 7, 5): 'Den slovanských věrozvěstů Cyrila a Metoděje', datetime.date(2011, 7, 6): 'Den upálení mistra Jana Husa', datetime.date(2011, 9, 28): 'Den české státnosti', datetime.date(2011, 10, 28): 'Den vzniku samostatného československého státu', datetime.date(2011, 11, 17): 'Den boje za svobodu a demokracii', datetime.date(2011, 12, 24): 'Štědrý den', datetime.date(2011, 12, 25): '1. svátek vánoční', datetime.date(2011, 12, 26): '2. svátek vánoční'},\n",
              " 'IE': {datetime.date(2010, 1, 1): \"New Year's Day\", datetime.date(2010, 3, 17): \"Saint Patrick's Day\", datetime.date(2010, 4, 5): 'Easter Monday', datetime.date(2010, 5, 3): 'May Day', datetime.date(2010, 6, 7): 'June Bank Holiday', datetime.date(2010, 8, 2): 'August Bank Holiday', datetime.date(2010, 10, 25): 'October Bank Holiday', datetime.date(2010, 12, 25): 'Christmas Day', datetime.date(2010, 12, 26): \"Saint Stephen's Day\", datetime.date(2011, 1, 1): \"New Year's Day\", datetime.date(2011, 3, 17): \"Saint Patrick's Day\", datetime.date(2011, 4, 25): 'Easter Monday', datetime.date(2011, 5, 2): 'May Day', datetime.date(2011, 6, 6): 'June Bank Holiday', datetime.date(2011, 8, 1): 'August Bank Holiday', datetime.date(2011, 10, 31): 'October Bank Holiday', datetime.date(2011, 12, 25): 'Christmas Day', datetime.date(2011, 12, 26): \"Saint Stephen's Day\", datetime.date(2011, 9, 14): 'National Day of Mourning'},\n",
              " 'AE': {datetime.date(2010, 1, 1): 'رأس السنة الميلادية', datetime.date(2010, 12, 2): 'اليوم الوطني', datetime.date(2010, 12, 3): 'اليوم الوطني', datetime.date(2010, 9, 10): '(تقدير) عيد الفطر', datetime.date(2010, 9, 11): '(تقدير) عطلة عيد الفطر', datetime.date(2010, 9, 12): '(تقدير) عطلة عيد الفطر', datetime.date(2010, 11, 15): '(تقدير) وقفة عرفة', datetime.date(2010, 11, 16): '(تقدير) عيد الأضحى', datetime.date(2010, 11, 17): '(تقدير) عطلة عيد الأضحى', datetime.date(2010, 11, 18): '(تقدير) عطلة عيد الأضحى', datetime.date(2010, 12, 7): '(تقدير) رأس السنة الهجرية', datetime.date(2010, 7, 9): '(تقدير) ليلة المعراج', datetime.date(2010, 2, 26): '(تقدير) عيد المولد النبوي', datetime.date(2011, 1, 1): 'رأس السنة الميلادية', datetime.date(2011, 12, 2): 'اليوم الوطني', datetime.date(2011, 12, 3): 'اليوم الوطني', datetime.date(2011, 8, 30): '(تقدير) عيد الفطر', datetime.date(2011, 8, 31): '(تقدير) عطلة عيد الفطر', datetime.date(2011, 9, 1): '(تقدير) عطلة عيد الفطر', datetime.date(2011, 11, 5): '(تقدير) وقفة عرفة', datetime.date(2011, 11, 6): '(تقدير) عيد الأضحى', datetime.date(2011, 11, 7): '(تقدير) عطلة عيد الأضحى', datetime.date(2011, 11, 8): '(تقدير) عطلة عيد الأضحى', datetime.date(2011, 11, 26): '(تقدير) رأس السنة الهجرية', datetime.date(2011, 6, 29): '(تقدير) ليلة المعراج', datetime.date(2011, 2, 15): '(تقدير) عيد المولد النبوي'},\n",
              " 'BH': {datetime.date(2010, 1, 1): 'رأس السنة الميلادية', datetime.date(2010, 5, 1): 'عيد العمال', datetime.date(2010, 9, 10): '(تقدير) عيد الفطر', datetime.date(2010, 9, 11): '(تقدير) عطلة عيد الفطر', datetime.date(2010, 9, 12): '(تقدير) عطلة عيد الفطر', datetime.date(2010, 11, 16): '(تقدير) عيد الأضحى', datetime.date(2010, 11, 17): '(تقدير) عطلة عيد الأضحى', datetime.date(2010, 11, 18): '(تقدير) عطلة عيد الأضحى', datetime.date(2010, 12, 7): '(تقدير) رأس السنة الهجرية', datetime.date(2010, 12, 15): '(تقدير) ليلة عاشورة', datetime.date(2010, 12, 16): '(تقدير) عاشورة; اليوم الوطني', datetime.date(2010, 2, 26): '(تقدير) عيد المولد النبوي', datetime.date(2010, 12, 17): 'اليوم الوطني', datetime.date(2011, 1, 1): 'رأس السنة الميلادية', datetime.date(2011, 5, 1): 'عيد العمال', datetime.date(2011, 8, 30): '(تقدير) عيد الفطر', datetime.date(2011, 8, 31): '(تقدير) عطلة عيد الفطر', datetime.date(2011, 9, 1): '(تقدير) عطلة عيد الفطر', datetime.date(2011, 11, 6): '(تقدير) عيد الأضحى', datetime.date(2011, 11, 7): '(تقدير) عطلة عيد الأضحى', datetime.date(2011, 11, 8): '(تقدير) عطلة عيد الأضحى', datetime.date(2011, 11, 26): '(تقدير) رأس السنة الهجرية', datetime.date(2011, 12, 4): '(تقدير) ليلة عاشورة', datetime.date(2011, 12, 5): '(تقدير) عاشورة', datetime.date(2011, 2, 15): '(تقدير) عيد المولد النبوي', datetime.date(2011, 12, 16): 'اليوم الوطني', datetime.date(2011, 12, 17): 'اليوم الوطني'},\n",
              " 'JP': {datetime.date(2010, 1, 1): '元日', datetime.date(2010, 1, 11): '成人の日', datetime.date(2010, 2, 11): '建国記念の日', datetime.date(2010, 3, 21): '春分の日', datetime.date(2010, 4, 29): '昭和の日', datetime.date(2010, 5, 3): '憲法記念日', datetime.date(2010, 5, 4): 'みどりの日', datetime.date(2010, 5, 5): 'こどもの日', datetime.date(2010, 7, 19): '海の日', datetime.date(2010, 9, 20): '敬老の日', datetime.date(2010, 9, 23): '秋分の日', datetime.date(2010, 10, 11): '体育の日', datetime.date(2010, 11, 3): '文化の日', datetime.date(2010, 11, 23): '勤労感謝の日', datetime.date(2010, 12, 23): '天皇誕生日', datetime.date(2010, 3, 22): '振替休日', datetime.date(2011, 1, 1): '元日', datetime.date(2011, 1, 10): '成人の日', datetime.date(2011, 2, 11): '建国記念の日', datetime.date(2011, 3, 21): '春分の日', datetime.date(2011, 4, 29): '昭和の日', datetime.date(2011, 5, 3): '憲法記念日', datetime.date(2011, 5, 4): 'みどりの日', datetime.date(2011, 5, 5): 'こどもの日', datetime.date(2011, 7, 18): '海の日', datetime.date(2011, 9, 19): '敬老の日', datetime.date(2011, 9, 23): '秋分の日', datetime.date(2011, 10, 10): '体育の日', datetime.date(2011, 11, 3): '文化の日', datetime.date(2011, 11, 23): '勤労感謝の日', datetime.date(2011, 12, 23): '天皇誕生日'},\n",
              " 'NO': {datetime.date(2010, 1, 1): 'Første nyttårsdag', datetime.date(2010, 4, 1): 'Skjærtorsdag', datetime.date(2010, 4, 2): 'Langfredag', datetime.date(2010, 4, 4): 'Første påskedag', datetime.date(2010, 4, 5): 'Andre påskedag', datetime.date(2010, 5, 1): 'Arbeidernes dag', datetime.date(2010, 5, 17): 'Grunnlovsdag', datetime.date(2010, 5, 13): 'Kristi himmelfartsdag', datetime.date(2010, 5, 23): 'Første pinsedag', datetime.date(2010, 5, 24): 'Andre pinsedag', datetime.date(2010, 12, 25): 'Første juledag', datetime.date(2010, 12, 26): 'Andre juledag', datetime.date(2011, 1, 1): 'Første nyttårsdag', datetime.date(2011, 4, 21): 'Skjærtorsdag', datetime.date(2011, 4, 22): 'Langfredag', datetime.date(2011, 4, 24): 'Første påskedag', datetime.date(2011, 4, 25): 'Andre påskedag', datetime.date(2011, 5, 1): 'Arbeidernes dag', datetime.date(2011, 5, 17): 'Grunnlovsdag', datetime.date(2011, 6, 2): 'Kristi himmelfartsdag', datetime.date(2011, 6, 12): 'Første pinsedag', datetime.date(2011, 6, 13): 'Andre pinsedag', datetime.date(2011, 12, 25): 'Første juledag', datetime.date(2011, 12, 26): 'Andre juledag'},\n",
              " 'CA': {datetime.date(2010, 1, 1): \"New Year's Day\", datetime.date(2010, 4, 2): 'Good Friday', datetime.date(2010, 7, 1): 'Canada Day', datetime.date(2010, 9, 6): 'Labour Day', datetime.date(2010, 12, 25): 'Christmas Day', datetime.date(2010, 12, 27): 'Christmas Day (observed)', datetime.date(2011, 1, 1): \"New Year's Day\", datetime.date(2011, 1, 3): \"New Year's Day (observed)\", datetime.date(2011, 4, 22): 'Good Friday', datetime.date(2011, 7, 1): 'Canada Day', datetime.date(2011, 9, 5): 'Labour Day', datetime.date(2011, 12, 25): 'Christmas Day', datetime.date(2011, 12, 26): 'Christmas Day (observed)'},\n",
              " 'MT': {datetime.date(2010, 1, 1): 'L-Ewwel tas-Sena', datetime.date(2010, 2, 10): \"Il-Festa tan-Nawfraġju ta' San Pawl\", datetime.date(2010, 3, 19): \"Il-Festa ta' San Ġużepp\", datetime.date(2010, 3, 31): 'Jum il-Ħelsien', datetime.date(2010, 4, 2): 'Il-Ġimgħa l-Kbira', datetime.date(2010, 5, 1): 'Jum il-Ħaddiem', datetime.date(2010, 6, 7): 'Sette Giugno', datetime.date(2010, 6, 29): \"Il-Festa ta' San Pietru u San Pawl\", datetime.date(2010, 8, 15): \"Il-Festa ta' Santa Marija\", datetime.date(2010, 9, 8): 'Jum il-Vitorja', datetime.date(2010, 9, 21): 'Jum l-Indipendenza', datetime.date(2010, 12, 8): 'Il-Festa tal-Immakulata Kunċizzjoni', datetime.date(2010, 12, 13): 'Jum ir-Repubblika', datetime.date(2010, 12, 25): 'Il-Milied', datetime.date(2011, 1, 1): 'L-Ewwel tas-Sena', datetime.date(2011, 2, 10): \"Il-Festa tan-Nawfraġju ta' San Pawl\", datetime.date(2011, 3, 19): \"Il-Festa ta' San Ġużepp\", datetime.date(2011, 3, 31): 'Jum il-Ħelsien', datetime.date(2011, 4, 22): 'Il-Ġimgħa l-Kbira', datetime.date(2011, 5, 1): 'Jum il-Ħaddiem', datetime.date(2011, 6, 7): 'Sette Giugno', datetime.date(2011, 6, 29): \"Il-Festa ta' San Pietru u San Pawl\", datetime.date(2011, 8, 15): \"Il-Festa ta' Santa Marija\", datetime.date(2011, 9, 8): 'Jum il-Vitorja', datetime.date(2011, 9, 21): 'Jum l-Indipendenza', datetime.date(2011, 12, 8): 'Il-Festa tal-Immakulata Kunċizzjoni', datetime.date(2011, 12, 13): 'Jum ir-Repubblika', datetime.date(2011, 12, 25): 'Il-Milied'},\n",
              " 'CY': {datetime.date(2010, 1, 1): 'Πρωτοχρονιά', datetime.date(2010, 1, 6): 'Ημέρα των Θεοφανίων', datetime.date(2010, 2, 15): 'Καθαρά Δευτέρα', datetime.date(2010, 3, 25): 'Ημέρα της Ελληνικής Ανεξαρτησίας', datetime.date(2010, 4, 1): 'Εθνική Ημέρα Κύπρου', datetime.date(2010, 4, 2): 'Μεγάλη Παρασκευή', datetime.date(2010, 4, 4): 'Κυριακή του Πάσχα', datetime.date(2010, 4, 5): 'Δευτέρα της Διακαινησίμου', datetime.date(2010, 5, 1): 'Πρωτομαγιά', datetime.date(2010, 5, 24): 'Δευτέρα του Αγίου Πνεύματος', datetime.date(2010, 8, 15): 'Κοίμηση της Θεοτόκου', datetime.date(2010, 10, 1): 'Ημέρα της Κυπριακής Ανεξαρτησίας', datetime.date(2010, 10, 28): 'Ημέρα του Όχι', datetime.date(2010, 12, 25): 'Χριστούγεννα', datetime.date(2010, 12, 26): 'Επομένη Χριστουγέννων', datetime.date(2011, 1, 1): 'Πρωτοχρονιά', datetime.date(2011, 1, 6): 'Ημέρα των Θεοφανίων', datetime.date(2011, 3, 7): 'Καθαρά Δευτέρα', datetime.date(2011, 3, 25): 'Ημέρα της Ελληνικής Ανεξαρτησίας', datetime.date(2011, 4, 1): 'Εθνική Ημέρα Κύπρου', datetime.date(2011, 4, 22): 'Μεγάλη Παρασκευή', datetime.date(2011, 4, 24): 'Κυριακή του Πάσχα', datetime.date(2011, 4, 25): 'Δευτέρα της Διακαινησίμου', datetime.date(2011, 5, 1): 'Πρωτομαγιά', datetime.date(2011, 6, 13): 'Δευτέρα του Αγίου Πνεύματος', datetime.date(2011, 8, 15): 'Κοίμηση της Θεοτόκου', datetime.date(2011, 10, 1): 'Ημέρα της Κυπριακής Ανεξαρτησίας', datetime.date(2011, 10, 28): 'Ημέρα του Όχι', datetime.date(2011, 12, 25): 'Χριστούγεννα', datetime.date(2011, 12, 26): 'Επομένη Χριστουγέννων'},\n",
              " 'AU': {datetime.date(2010, 4, 2): 'Good Friday', datetime.date(2010, 4, 5): 'Easter Monday', datetime.date(2010, 1, 1): \"New Year's Day\", datetime.date(2010, 1, 26): 'Australia Day', datetime.date(2010, 4, 25): 'ANZAC Day', datetime.date(2010, 12, 25): 'Christmas Day', datetime.date(2010, 12, 26): 'Boxing Day', datetime.date(2011, 4, 22): 'Good Friday', datetime.date(2011, 4, 25): 'ANZAC Day; Easter Monday', datetime.date(2011, 1, 1): \"New Year's Day\", datetime.date(2011, 1, 26): 'Australia Day', datetime.date(2011, 12, 25): 'Christmas Day', datetime.date(2011, 12, 26): 'Boxing Day'},\n",
              " 'DE': {datetime.date(2010, 1, 1): 'Neujahr', datetime.date(2010, 4, 2): 'Karfreitag', datetime.date(2010, 4, 5): 'Ostermontag', datetime.date(2010, 5, 1): 'Erster Mai', datetime.date(2010, 5, 13): 'Christi Himmelfahrt', datetime.date(2010, 5, 24): 'Pfingstmontag', datetime.date(2010, 10, 3): 'Tag der Deutschen Einheit', datetime.date(2010, 12, 25): 'Erster Weihnachtstag', datetime.date(2010, 12, 26): 'Zweiter Weihnachtstag', datetime.date(2011, 1, 1): 'Neujahr', datetime.date(2011, 4, 22): 'Karfreitag', datetime.date(2011, 4, 25): 'Ostermontag', datetime.date(2011, 5, 1): 'Erster Mai', datetime.date(2011, 6, 2): 'Christi Himmelfahrt', datetime.date(2011, 6, 13): 'Pfingstmontag', datetime.date(2011, 10, 3): 'Tag der Deutschen Einheit', datetime.date(2011, 12, 25): 'Erster Weihnachtstag', datetime.date(2011, 12, 26): 'Zweiter Weihnachtstag'},\n",
              " 'IS': {datetime.date(2010, 1, 1): 'Nýársdagur', datetime.date(2010, 4, 1): 'Skírdagur', datetime.date(2010, 4, 2): 'Föstudagurinn langi', datetime.date(2010, 4, 4): 'Páskadagur', datetime.date(2010, 4, 5): 'Annar í páskum', datetime.date(2010, 4, 22): 'Sumardagurinn fyrsti', datetime.date(2010, 5, 1): 'Verkalýðsdagurinn', datetime.date(2010, 5, 13): 'Uppstigningardagur', datetime.date(2010, 5, 23): 'Hvítasunnudagur', datetime.date(2010, 5, 24): 'Annar í hvítasunnu', datetime.date(2010, 6, 17): 'Þjóðhátíðardagurinn', datetime.date(2010, 8, 2): 'Frídagur verslunarmanna', datetime.date(2010, 12, 25): 'Jóladagur', datetime.date(2010, 12, 26): 'Annar í jólum', datetime.date(2011, 1, 1): 'Nýársdagur', datetime.date(2011, 4, 21): 'Skírdagur; Sumardagurinn fyrsti', datetime.date(2011, 4, 22): 'Föstudagurinn langi', datetime.date(2011, 4, 24): 'Páskadagur', datetime.date(2011, 4, 25): 'Annar í páskum', datetime.date(2011, 5, 1): 'Verkalýðsdagurinn', datetime.date(2011, 6, 2): 'Uppstigningardagur', datetime.date(2011, 6, 12): 'Hvítasunnudagur', datetime.date(2011, 6, 13): 'Annar í hvítasunnu', datetime.date(2011, 6, 17): 'Þjóðhátíðardagurinn', datetime.date(2011, 8, 1): 'Frídagur verslunarmanna', datetime.date(2011, 12, 25): 'Jóladagur', datetime.date(2011, 12, 26): 'Annar í jólum'},\n",
              " 'DK': {datetime.date(2010, 1, 1): 'Nytårsdag', datetime.date(2010, 4, 1): 'Skærtorsdag', datetime.date(2010, 4, 2): 'Langfredag', datetime.date(2010, 4, 4): 'Påskedag', datetime.date(2010, 4, 5): 'Anden påskedag', datetime.date(2010, 4, 30): 'Store bededag', datetime.date(2010, 5, 13): 'Kristi himmelfartsdag', datetime.date(2010, 5, 23): 'Pinsedag', datetime.date(2010, 5, 24): 'Anden pinsedag', datetime.date(2010, 12, 25): 'Juledag', datetime.date(2010, 12, 26): 'Anden juledag', datetime.date(2011, 1, 1): 'Nytårsdag', datetime.date(2011, 4, 21): 'Skærtorsdag', datetime.date(2011, 4, 22): 'Langfredag', datetime.date(2011, 4, 24): 'Påskedag', datetime.date(2011, 4, 25): 'Anden påskedag', datetime.date(2011, 5, 20): 'Store bededag', datetime.date(2011, 6, 2): 'Kristi himmelfartsdag', datetime.date(2011, 6, 12): 'Pinsedag', datetime.date(2011, 6, 13): 'Anden pinsedag', datetime.date(2011, 12, 25): 'Juledag', datetime.date(2011, 12, 26): 'Anden juledag'},\n",
              " 'PL': {datetime.date(2010, 1, 1): 'Nowy Rok', datetime.date(2010, 4, 4): 'Niedziela Wielkanocna', datetime.date(2010, 4, 5): 'Poniedziałek Wielkanocny', datetime.date(2010, 5, 1): 'Święto Państwowe', datetime.date(2010, 5, 3): 'Święto Narodowe Trzeciego Maja', datetime.date(2010, 5, 23): 'Zielone Świątki', datetime.date(2010, 6, 3): 'Dzień Bożego Ciała', datetime.date(2010, 8, 15): 'Wniebowzięcie Najświętszej Marii Panny', datetime.date(2010, 11, 1): 'Uroczystość Wszystkich Świętych', datetime.date(2010, 11, 11): 'Narodowe Święto Niepodległości', datetime.date(2010, 12, 25): 'Boże Narodzenie (pierwszy dzień)', datetime.date(2010, 12, 26): 'Boże Narodzenie (drugi dzień)', datetime.date(2011, 1, 1): 'Nowy Rok', datetime.date(2011, 1, 6): 'Święto Trzech Króli', datetime.date(2011, 4, 24): 'Niedziela Wielkanocna', datetime.date(2011, 4, 25): 'Poniedziałek Wielkanocny', datetime.date(2011, 5, 1): 'Święto Państwowe', datetime.date(2011, 5, 3): 'Święto Narodowe Trzeciego Maja', datetime.date(2011, 6, 12): 'Zielone Świątki', datetime.date(2011, 6, 23): 'Dzień Bożego Ciała', datetime.date(2011, 8, 15): 'Wniebowzięcie Najświętszej Marii Panny', datetime.date(2011, 11, 1): 'Uroczystość Wszystkich Świętych', datetime.date(2011, 11, 11): 'Narodowe Święto Niepodległości', datetime.date(2011, 12, 25): 'Boże Narodzenie (pierwszy dzień)', datetime.date(2011, 12, 26): 'Boże Narodzenie (drugi dzień)'}}"
            ]
          },
          "execution_count": 32,
          "metadata": {},
          "output_type": "execute_result"
        }
      ],
      "source": [
        "import holidays\n",
        "\n",
        "years = df[\"InvoiceDate\"].dt.year().unique().to_list()\n",
        "\n",
        "\n",
        "holidays_dict = {}\n",
        "for country in df[\"Country\"].unique().to_list():\n",
        "        try:\n",
        "            holidays_dict[country] = holidays.country_holidays(country, years=years)\n",
        "        except:\n",
        "            print(f\"{country} not found in holidays database\")\n",
        "\n",
        "\n",
        "holidays_dict\n"
      ]
    },
    {
      "cell_type": "markdown",
      "metadata": {
        "id": "zbBUJumyiEgo"
      },
      "source": [
        "Al parecer tenemos un problema con el Libano, no encontramos sus dias festivos, vamos a medir cuanto impacto tendria en el futuro entrenamiento no tener las vacaciones del libano. Para ello comprobamos cuantas filas hay con el libano."
      ]
    },
    {
      "cell_type": "code",
      "execution_count": null,
      "metadata": {
        "id": "gSANn_iJiEgo",
        "outputId": "f2ff7b16-e28f-4c31-f996-1afb6d654684"
      },
      "outputs": [
        {
          "data": {
            "text/html": [
              "<div><style>\n",
              ".dataframe > thead > tr,\n",
              ".dataframe > tbody > tr {\n",
              "  text-align: right;\n",
              "  white-space: pre-wrap;\n",
              "}\n",
              "</style>\n",
              "<small>shape: (33, 6)</small><table border=\"1\" class=\"dataframe\"><thead><tr><th>Quantity</th><th>InvoiceDate</th><th>UnitPrice</th><th>Country</th><th>TotalSales</th><th>weekday</th></tr><tr><td>i64</td><td>date</td><td>f64</td><td>str</td><td>f64</td><td>i8</td></tr></thead><tbody><tr><td>12</td><td>2011-01-27</td><td>1.69</td><td>&quot;LB&quot;</td><td>20.28</td><td>4</td></tr><tr><td>8</td><td>2011-01-27</td><td>4.95</td><td>&quot;LB&quot;</td><td>39.6</td><td>4</td></tr><tr><td>6</td><td>2011-01-27</td><td>5.95</td><td>&quot;LB&quot;</td><td>35.7</td><td>4</td></tr><tr><td>8</td><td>2011-01-27</td><td>3.95</td><td>&quot;LB&quot;</td><td>31.6</td><td>4</td></tr><tr><td>12</td><td>2011-01-27</td><td>1.25</td><td>&quot;LB&quot;</td><td>15.0</td><td>4</td></tr><tr><td>&hellip;</td><td>&hellip;</td><td>&hellip;</td><td>&hellip;</td><td>&hellip;</td><td>&hellip;</td></tr><tr><td>6</td><td>2011-01-27</td><td>2.55</td><td>&quot;LB&quot;</td><td>15.3</td><td>4</td></tr><tr><td>12</td><td>2011-01-27</td><td>2.95</td><td>&quot;LB&quot;</td><td>35.4</td><td>4</td></tr><tr><td>12</td><td>2011-01-27</td><td>1.45</td><td>&quot;LB&quot;</td><td>17.4</td><td>4</td></tr><tr><td>12</td><td>2011-01-27</td><td>0.85</td><td>&quot;LB&quot;</td><td>10.2</td><td>4</td></tr><tr><td>12</td><td>2011-01-27</td><td>3.75</td><td>&quot;LB&quot;</td><td>45.0</td><td>4</td></tr></tbody></table></div>"
            ],
            "text/plain": [
              "shape: (33, 6)\n",
              "┌──────────┬─────────────┬───────────┬─────────┬────────────┬─────────┐\n",
              "│ Quantity ┆ InvoiceDate ┆ UnitPrice ┆ Country ┆ TotalSales ┆ weekday │\n",
              "│ ---      ┆ ---         ┆ ---       ┆ ---     ┆ ---        ┆ ---     │\n",
              "│ i64      ┆ date        ┆ f64       ┆ str     ┆ f64        ┆ i8      │\n",
              "╞══════════╪═════════════╪═══════════╪═════════╪════════════╪═════════╡\n",
              "│ 12       ┆ 2011-01-27  ┆ 1.69      ┆ LB      ┆ 20.28      ┆ 4       │\n",
              "│ 8        ┆ 2011-01-27  ┆ 4.95      ┆ LB      ┆ 39.6       ┆ 4       │\n",
              "│ 6        ┆ 2011-01-27  ┆ 5.95      ┆ LB      ┆ 35.7       ┆ 4       │\n",
              "│ 8        ┆ 2011-01-27  ┆ 3.95      ┆ LB      ┆ 31.6       ┆ 4       │\n",
              "│ 12       ┆ 2011-01-27  ┆ 1.25      ┆ LB      ┆ 15.0       ┆ 4       │\n",
              "│ …        ┆ …           ┆ …         ┆ …       ┆ …          ┆ …       │\n",
              "│ 6        ┆ 2011-01-27  ┆ 2.55      ┆ LB      ┆ 15.3       ┆ 4       │\n",
              "│ 12       ┆ 2011-01-27  ┆ 2.95      ┆ LB      ┆ 35.4       ┆ 4       │\n",
              "│ 12       ┆ 2011-01-27  ┆ 1.45      ┆ LB      ┆ 17.4       ┆ 4       │\n",
              "│ 12       ┆ 2011-01-27  ┆ 0.85      ┆ LB      ┆ 10.2       ┆ 4       │\n",
              "│ 12       ┆ 2011-01-27  ┆ 3.75      ┆ LB      ┆ 45.0       ┆ 4       │\n",
              "└──────────┴─────────────┴───────────┴─────────┴────────────┴─────────┘"
            ]
          },
          "execution_count": 33,
          "metadata": {},
          "output_type": "execute_result"
        }
      ],
      "source": [
        "df.filter(df[\"Country\"] == \"LB\")"
      ]
    },
    {
      "cell_type": "markdown",
      "metadata": {
        "id": "9zUD8dUSiEgo"
      },
      "source": [
        "Viendo que solo hay 33 lo mejor seria ignorar los festivos del Libano puesto que el impacto del modelo sera minimo o nulo. Tras solucionarlos añadimos una columna extra al dataset que indique si es o no festivo ese dia."
      ]
    },
    {
      "cell_type": "code",
      "execution_count": null,
      "metadata": {
        "id": "HgbuEcdpiEgp",
        "outputId": "ee88f319-95c7-4102-8f00-b9fed3b7341f"
      },
      "outputs": [
        {
          "data": {
            "text/html": [
              "<div><style>\n",
              ".dataframe > thead > tr,\n",
              ".dataframe > tbody > tr {\n",
              "  text-align: right;\n",
              "  white-space: pre-wrap;\n",
              "}\n",
              "</style>\n",
              "<small>shape: (442_222, 7)</small><table border=\"1\" class=\"dataframe\"><thead><tr><th>Quantity</th><th>InvoiceDate</th><th>UnitPrice</th><th>Country</th><th>TotalSales</th><th>weekday</th><th>is_holiday</th></tr><tr><td>i64</td><td>date</td><td>f64</td><td>str</td><td>f64</td><td>i8</td><td>i64</td></tr></thead><tbody><tr><td>1</td><td>2011-08-31</td><td>0.42</td><td>&quot;GB&quot;</td><td>0.42</td><td>3</td><td>0</td></tr><tr><td>1</td><td>2011-07-10</td><td>2.1</td><td>&quot;GB&quot;</td><td>2.1</td><td>7</td><td>0</td></tr><tr><td>4</td><td>2011-05-06</td><td>1.25</td><td>&quot;GB&quot;</td><td>5.0</td><td>5</td><td>0</td></tr><tr><td>6</td><td>2011-06-14</td><td>2.89</td><td>&quot;GB&quot;</td><td>17.34</td><td>2</td><td>0</td></tr><tr><td>1</td><td>2010-12-08</td><td>5.49</td><td>&quot;GB&quot;</td><td>5.49</td><td>3</td><td>0</td></tr><tr><td>&hellip;</td><td>&hellip;</td><td>&hellip;</td><td>&hellip;</td><td>&hellip;</td><td>&hellip;</td><td>&hellip;</td></tr><tr><td>6</td><td>2010-12-05</td><td>1.25</td><td>&quot;GB&quot;</td><td>7.5</td><td>7</td><td>0</td></tr><tr><td>2</td><td>2011-03-31</td><td>7.46</td><td>&quot;GB&quot;</td><td>14.92</td><td>4</td><td>0</td></tr><tr><td>1</td><td>2011-02-27</td><td>5.95</td><td>&quot;GB&quot;</td><td>5.95</td><td>7</td><td>0</td></tr><tr><td>12</td><td>2011-06-19</td><td>2.95</td><td>&quot;GB&quot;</td><td>35.4</td><td>7</td><td>0</td></tr><tr><td>2</td><td>2011-11-27</td><td>3.25</td><td>&quot;GB&quot;</td><td>6.5</td><td>7</td><td>0</td></tr></tbody></table></div>"
            ],
            "text/plain": [
              "shape: (442_222, 7)\n",
              "┌──────────┬─────────────┬───────────┬─────────┬────────────┬─────────┬────────────┐\n",
              "│ Quantity ┆ InvoiceDate ┆ UnitPrice ┆ Country ┆ TotalSales ┆ weekday ┆ is_holiday │\n",
              "│ ---      ┆ ---         ┆ ---       ┆ ---     ┆ ---        ┆ ---     ┆ ---        │\n",
              "│ i64      ┆ date        ┆ f64       ┆ str     ┆ f64        ┆ i8      ┆ i64        │\n",
              "╞══════════╪═════════════╪═══════════╪═════════╪════════════╪═════════╪════════════╡\n",
              "│ 1        ┆ 2011-08-31  ┆ 0.42      ┆ GB      ┆ 0.42       ┆ 3       ┆ 0          │\n",
              "│ 1        ┆ 2011-07-10  ┆ 2.1       ┆ GB      ┆ 2.1        ┆ 7       ┆ 0          │\n",
              "│ 4        ┆ 2011-05-06  ┆ 1.25      ┆ GB      ┆ 5.0        ┆ 5       ┆ 0          │\n",
              "│ 6        ┆ 2011-06-14  ┆ 2.89      ┆ GB      ┆ 17.34      ┆ 2       ┆ 0          │\n",
              "│ 1        ┆ 2010-12-08  ┆ 5.49      ┆ GB      ┆ 5.49       ┆ 3       ┆ 0          │\n",
              "│ …        ┆ …           ┆ …         ┆ …       ┆ …          ┆ …       ┆ …          │\n",
              "│ 6        ┆ 2010-12-05  ┆ 1.25      ┆ GB      ┆ 7.5        ┆ 7       ┆ 0          │\n",
              "│ 2        ┆ 2011-03-31  ┆ 7.46      ┆ GB      ┆ 14.92      ┆ 4       ┆ 0          │\n",
              "│ 1        ┆ 2011-02-27  ┆ 5.95      ┆ GB      ┆ 5.95       ┆ 7       ┆ 0          │\n",
              "│ 12       ┆ 2011-06-19  ┆ 2.95      ┆ GB      ┆ 35.4       ┆ 7       ┆ 0          │\n",
              "│ 2        ┆ 2011-11-27  ┆ 3.25      ┆ GB      ┆ 6.5        ┆ 7       ┆ 0          │\n",
              "└──────────┴─────────────┴───────────┴─────────┴────────────┴─────────┴────────────┘"
            ]
          },
          "execution_count": 34,
          "metadata": {},
          "output_type": "execute_result"
        }
      ],
      "source": [
        "def is_holiday(date, country):\n",
        "    holiday_list = holidays_dict.get(country, {})\n",
        "    return 1 if date in holiday_list else 0\n",
        "is_holiday_col = df.select([\"InvoiceDate\", \"Country\"]).map_rows(lambda row: is_holiday(row[0], row[1]))\n",
        "df = df.with_columns(pl.Series(\"is_holiday\", is_holiday_col))\n",
        "df"
      ]
    },
    {
      "cell_type": "markdown",
      "metadata": {
        "id": "LuXA1wu8iEgp"
      },
      "source": [
        "Vamos a sacar algunas variables temporales adicionales, de las que pueden depender las ventas."
      ]
    },
    {
      "cell_type": "code",
      "execution_count": null,
      "metadata": {
        "id": "UPHaYr9EiEgp",
        "outputId": "50ee347e-b9c4-4e90-d8f0-36c7bb532ccd"
      },
      "outputs": [
        {
          "data": {
            "text/html": [
              "col(\"InvoiceDate\").dt.quarter()"
            ],
            "text/plain": [
              "<Expr ['col(\"InvoiceDate\").dt.quarter(…'] at 0x1CF7FF092D0>"
            ]
          },
          "execution_count": 35,
          "metadata": {},
          "output_type": "execute_result"
        }
      ],
      "source": [
        "pl.col(\"InvoiceDate\").dt.quarter()"
      ]
    },
    {
      "cell_type": "code",
      "execution_count": null,
      "metadata": {
        "id": "qmP40HJ3iEgp",
        "outputId": "fd60bff8-1bc2-4a5c-f58e-4ea99ba9b48f"
      },
      "outputs": [
        {
          "data": {
            "text/html": [
              "<div><style>\n",
              ".dataframe > thead > tr,\n",
              ".dataframe > tbody > tr {\n",
              "  text-align: right;\n",
              "  white-space: pre-wrap;\n",
              "}\n",
              "</style>\n",
              "<small>shape: (442_222, 10)</small><table border=\"1\" class=\"dataframe\"><thead><tr><th>Quantity</th><th>InvoiceDate</th><th>UnitPrice</th><th>Country</th><th>TotalSales</th><th>weekday</th><th>is_holiday</th><th>is_month_start</th><th>is_month_end</th><th>quarter_num</th></tr><tr><td>i64</td><td>date</td><td>f64</td><td>str</td><td>f64</td><td>i8</td><td>i64</td><td>i8</td><td>i8</td><td>i8</td></tr></thead><tbody><tr><td>1</td><td>2011-08-31</td><td>0.42</td><td>&quot;GB&quot;</td><td>0.42</td><td>3</td><td>0</td><td>0</td><td>1</td><td>3</td></tr><tr><td>1</td><td>2011-07-10</td><td>2.1</td><td>&quot;GB&quot;</td><td>2.1</td><td>7</td><td>0</td><td>1</td><td>0</td><td>3</td></tr><tr><td>4</td><td>2011-05-06</td><td>1.25</td><td>&quot;GB&quot;</td><td>5.0</td><td>5</td><td>0</td><td>1</td><td>0</td><td>2</td></tr><tr><td>6</td><td>2011-06-14</td><td>2.89</td><td>&quot;GB&quot;</td><td>17.34</td><td>2</td><td>0</td><td>0</td><td>0</td><td>2</td></tr><tr><td>1</td><td>2010-12-08</td><td>5.49</td><td>&quot;GB&quot;</td><td>5.49</td><td>3</td><td>0</td><td>1</td><td>0</td><td>4</td></tr><tr><td>&hellip;</td><td>&hellip;</td><td>&hellip;</td><td>&hellip;</td><td>&hellip;</td><td>&hellip;</td><td>&hellip;</td><td>&hellip;</td><td>&hellip;</td><td>&hellip;</td></tr><tr><td>6</td><td>2010-12-05</td><td>1.25</td><td>&quot;GB&quot;</td><td>7.5</td><td>7</td><td>0</td><td>1</td><td>0</td><td>4</td></tr><tr><td>2</td><td>2011-03-31</td><td>7.46</td><td>&quot;GB&quot;</td><td>14.92</td><td>4</td><td>0</td><td>0</td><td>1</td><td>1</td></tr><tr><td>1</td><td>2011-02-27</td><td>5.95</td><td>&quot;GB&quot;</td><td>5.95</td><td>7</td><td>0</td><td>0</td><td>1</td><td>1</td></tr><tr><td>12</td><td>2011-06-19</td><td>2.95</td><td>&quot;GB&quot;</td><td>35.4</td><td>7</td><td>0</td><td>0</td><td>0</td><td>2</td></tr><tr><td>2</td><td>2011-11-27</td><td>3.25</td><td>&quot;GB&quot;</td><td>6.5</td><td>7</td><td>0</td><td>0</td><td>1</td><td>4</td></tr></tbody></table></div>"
            ],
            "text/plain": [
              "shape: (442_222, 10)\n",
              "┌──────────┬────────────┬───────────┬─────────┬───┬────────────┬───────────┬───────────┬───────────┐\n",
              "│ Quantity ┆ InvoiceDat ┆ UnitPrice ┆ Country ┆ … ┆ is_holiday ┆ is_month_ ┆ is_month_ ┆ quarter_n │\n",
              "│ ---      ┆ e          ┆ ---       ┆ ---     ┆   ┆ ---        ┆ start     ┆ end       ┆ um        │\n",
              "│ i64      ┆ ---        ┆ f64       ┆ str     ┆   ┆ i64        ┆ ---       ┆ ---       ┆ ---       │\n",
              "│          ┆ date       ┆           ┆         ┆   ┆            ┆ i8        ┆ i8        ┆ i8        │\n",
              "╞══════════╪════════════╪═══════════╪═════════╪═══╪════════════╪═══════════╪═══════════╪═══════════╡\n",
              "│ 1        ┆ 2011-08-31 ┆ 0.42      ┆ GB      ┆ … ┆ 0          ┆ 0         ┆ 1         ┆ 3         │\n",
              "│ 1        ┆ 2011-07-10 ┆ 2.1       ┆ GB      ┆ … ┆ 0          ┆ 1         ┆ 0         ┆ 3         │\n",
              "│ 4        ┆ 2011-05-06 ┆ 1.25      ┆ GB      ┆ … ┆ 0          ┆ 1         ┆ 0         ┆ 2         │\n",
              "│ 6        ┆ 2011-06-14 ┆ 2.89      ┆ GB      ┆ … ┆ 0          ┆ 0         ┆ 0         ┆ 2         │\n",
              "│ 1        ┆ 2010-12-08 ┆ 5.49      ┆ GB      ┆ … ┆ 0          ┆ 1         ┆ 0         ┆ 4         │\n",
              "│ …        ┆ …          ┆ …         ┆ …       ┆ … ┆ …          ┆ …         ┆ …         ┆ …         │\n",
              "│ 6        ┆ 2010-12-05 ┆ 1.25      ┆ GB      ┆ … ┆ 0          ┆ 1         ┆ 0         ┆ 4         │\n",
              "│ 2        ┆ 2011-03-31 ┆ 7.46      ┆ GB      ┆ … ┆ 0          ┆ 0         ┆ 1         ┆ 1         │\n",
              "│ 1        ┆ 2011-02-27 ┆ 5.95      ┆ GB      ┆ … ┆ 0          ┆ 0         ┆ 1         ┆ 1         │\n",
              "│ 12       ┆ 2011-06-19 ┆ 2.95      ┆ GB      ┆ … ┆ 0          ┆ 0         ┆ 0         ┆ 2         │\n",
              "│ 2        ┆ 2011-11-27 ┆ 3.25      ┆ GB      ┆ … ┆ 0          ┆ 0         ┆ 1         ┆ 4         │\n",
              "└──────────┴────────────┴───────────┴─────────┴───┴────────────┴───────────┴───────────┴───────────┘"
            ]
          },
          "execution_count": 36,
          "metadata": {},
          "output_type": "execute_result"
        }
      ],
      "source": [
        "\n",
        "df = df.with_columns([\n",
        "   ((pl.col(\"InvoiceDate\").dt.day() <= 10)).cast(pl.Int8).alias(\"is_month_start\"),\n",
        "    ((pl.col(\"InvoiceDate\").dt.day() >= (pl.col(\"InvoiceDate\").dt.month_end().dt.day() - 9))).cast(pl.Int8).alias(\"is_month_end\"),\n",
        "    pl.col(\"InvoiceDate\").dt.quarter().alias(\"quarter_num\"),\n",
        "])\n",
        "df"
      ]
    },
    {
      "cell_type": "markdown",
      "metadata": {
        "id": "_5cWiAKbiEgp"
      },
      "source": [
        "Ahora es el turno de variables \"lag\" que indican las ventas totales hace un dia, una semana o un mes, el objetivo es que el el modelo aprenda si hay una correlacion entre ellas.\n"
      ]
    },
    {
      "cell_type": "code",
      "execution_count": null,
      "metadata": {
        "id": "SwCf4wqLiEgp",
        "outputId": "a7ac2230-f2f5-4bb1-ef49-6b60bc6e310e"
      },
      "outputs": [
        {
          "data": {
            "text/html": [
              "<div><style>\n",
              ".dataframe > thead > tr,\n",
              ".dataframe > tbody > tr {\n",
              "  text-align: right;\n",
              "  white-space: pre-wrap;\n",
              "}\n",
              "</style>\n",
              "<small>shape: (305, 7)</small><table border=\"1\" class=\"dataframe\"><thead><tr><th>InvoiceDate</th><th>TotalSales</th><th>weekday</th><th>is_holiday</th><th>is_month_start</th><th>is_month_end</th><th>quarter_num</th></tr><tr><td>date</td><td>f64</td><td>i8</td><td>i64</td><td>i8</td><td>i8</td><td>i8</td></tr></thead><tbody><tr><td>2010-12-01</td><td>26604.56</td><td>3</td><td>0</td><td>1</td><td>0</td><td>4</td></tr><tr><td>2010-12-02</td><td>23203.33</td><td>4</td><td>0</td><td>1</td><td>0</td><td>4</td></tr><tr><td>2010-12-03</td><td>19423.33</td><td>5</td><td>0</td><td>1</td><td>0</td><td>4</td></tr><tr><td>2010-12-05</td><td>20738.69</td><td>7</td><td>0</td><td>1</td><td>0</td><td>4</td></tr><tr><td>2010-12-06</td><td>30506.65</td><td>1</td><td>0</td><td>1</td><td>0</td><td>4</td></tr><tr><td>&hellip;</td><td>&hellip;</td><td>&hellip;</td><td>&hellip;</td><td>&hellip;</td><td>&hellip;</td><td>&hellip;</td></tr><tr><td>2011-12-05</td><td>45057.32</td><td>1</td><td>0</td><td>1</td><td>0</td><td>4</td></tr><tr><td>2011-12-06</td><td>26898.4</td><td>2</td><td>0</td><td>1</td><td>0</td><td>4</td></tr><tr><td>2011-12-07</td><td>27847.03</td><td>3</td><td>0</td><td>1</td><td>0</td><td>4</td></tr><tr><td>2011-12-08</td><td>38582.06</td><td>4</td><td>0</td><td>1</td><td>0</td><td>4</td></tr><tr><td>2011-12-09</td><td>15940.79</td><td>5</td><td>0</td><td>1</td><td>0</td><td>4</td></tr></tbody></table></div>"
            ],
            "text/plain": [
              "shape: (305, 7)\n",
              "┌─────────────┬────────────┬─────────┬────────────┬────────────────┬──────────────┬─────────────┐\n",
              "│ InvoiceDate ┆ TotalSales ┆ weekday ┆ is_holiday ┆ is_month_start ┆ is_month_end ┆ quarter_num │\n",
              "│ ---         ┆ ---        ┆ ---     ┆ ---        ┆ ---            ┆ ---          ┆ ---         │\n",
              "│ date        ┆ f64        ┆ i8      ┆ i64        ┆ i8             ┆ i8           ┆ i8          │\n",
              "╞═════════════╪════════════╪═════════╪════════════╪════════════════╪══════════════╪═════════════╡\n",
              "│ 2010-12-01  ┆ 26604.56   ┆ 3       ┆ 0          ┆ 1              ┆ 0            ┆ 4           │\n",
              "│ 2010-12-02  ┆ 23203.33   ┆ 4       ┆ 0          ┆ 1              ┆ 0            ┆ 4           │\n",
              "│ 2010-12-03  ┆ 19423.33   ┆ 5       ┆ 0          ┆ 1              ┆ 0            ┆ 4           │\n",
              "│ 2010-12-05  ┆ 20738.69   ┆ 7       ┆ 0          ┆ 1              ┆ 0            ┆ 4           │\n",
              "│ 2010-12-06  ┆ 30506.65   ┆ 1       ┆ 0          ┆ 1              ┆ 0            ┆ 4           │\n",
              "│ …           ┆ …          ┆ …       ┆ …          ┆ …              ┆ …            ┆ …           │\n",
              "│ 2011-12-05  ┆ 45057.32   ┆ 1       ┆ 0          ┆ 1              ┆ 0            ┆ 4           │\n",
              "│ 2011-12-06  ┆ 26898.4    ┆ 2       ┆ 0          ┆ 1              ┆ 0            ┆ 4           │\n",
              "│ 2011-12-07  ┆ 27847.03   ┆ 3       ┆ 0          ┆ 1              ┆ 0            ┆ 4           │\n",
              "│ 2011-12-08  ┆ 38582.06   ┆ 4       ┆ 0          ┆ 1              ┆ 0            ┆ 4           │\n",
              "│ 2011-12-09  ┆ 15940.79   ┆ 5       ┆ 0          ┆ 1              ┆ 0            ┆ 4           │\n",
              "└─────────────┴────────────┴─────────┴────────────┴────────────────┴──────────────┴─────────────┘"
            ]
          },
          "execution_count": 37,
          "metadata": {},
          "output_type": "execute_result"
        }
      ],
      "source": [
        "# POR CIUDAD Y POR FECHA\n",
        "# df_grouped = df.group_by([\"Country\", \"InvoiceDate\"]).agg([\n",
        "#     # pl.sum(\"Quantity\").alias(\"Quantity_sum\"),\n",
        "#     # pl.sum(\"UnitPrice\").alias(\"UnitPrice_avg\"),\n",
        "#     pl.sum(\"TotalSales\").alias(\"TotalSales\"),\n",
        "#     pl.first(\"weekday\").alias(\"weekday\"),\n",
        "#     pl.first(\"is_holiday\").alias(\"is_holiday\"),\n",
        "#     pl.first(\"is_month_start\").alias(\"is_month_start\"),\n",
        "#     pl.first(\"is_month_end\").alias(\"is_month_end\"),\n",
        "#     pl.first(\"quarter_num\").alias(\"quarter_num\"),\n",
        "\n",
        "\n",
        "# ])\n",
        "# SOLO FECHA\n",
        "df_grouped = df.group_by(\"InvoiceDate\").agg([\n",
        "    # pl.sum(\"Quantity\").alias(\"Quantity_sum\"),\n",
        "    # pl.sum(\"UnitPrice\").alias(\"UnitPrice_avg\"),\n",
        "    pl.sum(\"TotalSales\").alias(\"TotalSales\"),\n",
        "    pl.first(\"weekday\").alias(\"weekday\"),\n",
        "    pl.first(\"is_holiday\").alias(\"is_holiday\"),\n",
        "    pl.first(\"is_month_start\").alias(\"is_month_start\"),\n",
        "    pl.first(\"is_month_end\").alias(\"is_month_end\"),\n",
        "    pl.first(\"quarter_num\").alias(\"quarter_num\"),\n",
        "\n",
        "\n",
        "])\n",
        "df_grouped.sort(\"InvoiceDate\")"
      ]
    },
    {
      "cell_type": "code",
      "execution_count": null,
      "metadata": {
        "id": "eZl9ZXqLiEgp",
        "outputId": "733929e8-793e-4719-ca7e-88f392a50e04"
      },
      "outputs": [
        {
          "data": {
            "text/html": [
              "<div><style>\n",
              ".dataframe > thead > tr,\n",
              ".dataframe > tbody > tr {\n",
              "  text-align: right;\n",
              "  white-space: pre-wrap;\n",
              "}\n",
              "</style>\n",
              "<small>shape: (305, 13)</small><table border=\"1\" class=\"dataframe\"><thead><tr><th>InvoiceDate</th><th>TotalSales</th><th>weekday</th><th>is_holiday</th><th>is_month_start</th><th>is_month_end</th><th>quarter_num</th><th>Lag_1</th><th>Lag_7</th><th>Lag_30</th><th>MA_7</th><th>MA_14</th><th>MA_30</th></tr><tr><td>date</td><td>f64</td><td>i8</td><td>i64</td><td>i8</td><td>i8</td><td>i8</td><td>f64</td><td>f64</td><td>f64</td><td>f64</td><td>f64</td><td>f64</td></tr></thead><tbody><tr><td>2010-12-01</td><td>26604.56</td><td>3</td><td>0</td><td>1</td><td>0</td><td>4</td><td>21458.16</td><td>12591.23</td><td>36867.04</td><td>17899.431429</td><td>15234.28</td><td>17913.767333</td></tr><tr><td>2010-12-02</td><td>23203.33</td><td>4</td><td>0</td><td>1</td><td>0</td><td>4</td><td>11153.43</td><td>3981.37</td><td>13652.66</td><td>13151.775714</td><td>13674.501429</td><td>15200.728667</td></tr><tr><td>2010-12-03</td><td>19423.33</td><td>5</td><td>0</td><td>1</td><td>0</td><td>4</td><td>11449.37</td><td>null</td><td>null</td><td>null</td><td>null</td><td>null</td></tr><tr><td>2010-12-05</td><td>20738.69</td><td>7</td><td>0</td><td>1</td><td>0</td><td>4</td><td>16977.64</td><td>22369.06</td><td>10370.63</td><td>17773.847143</td><td>16847.534286</td><td>15992.225333</td></tr><tr><td>2010-12-06</td><td>30506.65</td><td>1</td><td>0</td><td>1</td><td>0</td><td>4</td><td>9940.7</td><td>19423.33</td><td>null</td><td>17767.067143</td><td>null</td><td>null</td></tr><tr><td>&hellip;</td><td>&hellip;</td><td>&hellip;</td><td>&hellip;</td><td>&hellip;</td><td>&hellip;</td><td>&hellip;</td><td>&hellip;</td><td>&hellip;</td><td>&hellip;</td><td>&hellip;</td><td>&hellip;</td><td>&hellip;</td></tr><tr><td>2011-12-05</td><td>45057.32</td><td>1</td><td>0</td><td>1</td><td>0</td><td>4</td><td>15855.32</td><td>35696.84</td><td>7439.5</td><td>17321.857143</td><td>20623.167143</td><td>18314.883</td></tr><tr><td>2011-12-06</td><td>26898.4</td><td>2</td><td>0</td><td>1</td><td>0</td><td>4</td><td>3321.05</td><td>15938.83</td><td>4937.29</td><td>16671.73</td><td>18132.44</td><td>17275.171667</td></tr><tr><td>2011-12-07</td><td>27847.03</td><td>3</td><td>0</td><td>1</td><td>0</td><td>4</td><td>15285.24</td><td>12741.68</td><td>11251.67</td><td>17794.714286</td><td>17413.577143</td><td>17650.127333</td></tr><tr><td>2011-12-08</td><td>38582.06</td><td>4</td><td>0</td><td>1</td><td>0</td><td>4</td><td>45057.32</td><td>10864.33</td><td>24058.29</td><td>21281.532857</td><td>22405.377143</td><td>18799.008667</td></tr><tr><td>2011-12-09</td><td>15940.79</td><td>5</td><td>0</td><td>1</td><td>0</td><td>4</td><td>33820.88</td><td>3321.05</td><td>5836.7</td><td>18373.655714</td><td>16739.866429</td><td>17928.812333</td></tr></tbody></table></div>"
            ],
            "text/plain": [
              "shape: (305, 13)\n",
              "┌────────────┬────────────┬─────────┬───────────┬───┬──────────┬───────────┬───────────┬───────────┐\n",
              "│ InvoiceDat ┆ TotalSales ┆ weekday ┆ is_holida ┆ … ┆ Lag_30   ┆ MA_7      ┆ MA_14     ┆ MA_30     │\n",
              "│ e          ┆ ---        ┆ ---     ┆ y         ┆   ┆ ---      ┆ ---       ┆ ---       ┆ ---       │\n",
              "│ ---        ┆ f64        ┆ i8      ┆ ---       ┆   ┆ f64      ┆ f64       ┆ f64       ┆ f64       │\n",
              "│ date       ┆            ┆         ┆ i64       ┆   ┆          ┆           ┆           ┆           │\n",
              "╞════════════╪════════════╪═════════╪═══════════╪═══╪══════════╪═══════════╪═══════════╪═══════════╡\n",
              "│ 2010-12-01 ┆ 26604.56   ┆ 3       ┆ 0         ┆ … ┆ 36867.04 ┆ 17899.431 ┆ 15234.28  ┆ 17913.767 │\n",
              "│            ┆            ┆         ┆           ┆   ┆          ┆ 429       ┆           ┆ 333       │\n",
              "│ 2010-12-02 ┆ 23203.33   ┆ 4       ┆ 0         ┆ … ┆ 13652.66 ┆ 13151.775 ┆ 13674.501 ┆ 15200.728 │\n",
              "│            ┆            ┆         ┆           ┆   ┆          ┆ 714       ┆ 429       ┆ 667       │\n",
              "│ 2010-12-03 ┆ 19423.33   ┆ 5       ┆ 0         ┆ … ┆ null     ┆ null      ┆ null      ┆ null      │\n",
              "│ 2010-12-05 ┆ 20738.69   ┆ 7       ┆ 0         ┆ … ┆ 10370.63 ┆ 17773.847 ┆ 16847.534 ┆ 15992.225 │\n",
              "│            ┆            ┆         ┆           ┆   ┆          ┆ 143       ┆ 286       ┆ 333       │\n",
              "│ 2010-12-06 ┆ 30506.65   ┆ 1       ┆ 0         ┆ … ┆ null     ┆ 17767.067 ┆ null      ┆ null      │\n",
              "│            ┆            ┆         ┆           ┆   ┆          ┆ 143       ┆           ┆           │\n",
              "│ …          ┆ …          ┆ …       ┆ …         ┆ … ┆ …        ┆ …         ┆ …         ┆ …         │\n",
              "│ 2011-12-05 ┆ 45057.32   ┆ 1       ┆ 0         ┆ … ┆ 7439.5   ┆ 17321.857 ┆ 20623.167 ┆ 18314.883 │\n",
              "│            ┆            ┆         ┆           ┆   ┆          ┆ 143       ┆ 143       ┆           │\n",
              "│ 2011-12-06 ┆ 26898.4    ┆ 2       ┆ 0         ┆ … ┆ 4937.29  ┆ 16671.73  ┆ 18132.44  ┆ 17275.171 │\n",
              "│            ┆            ┆         ┆           ┆   ┆          ┆           ┆           ┆ 667       │\n",
              "│ 2011-12-07 ┆ 27847.03   ┆ 3       ┆ 0         ┆ … ┆ 11251.67 ┆ 17794.714 ┆ 17413.577 ┆ 17650.127 │\n",
              "│            ┆            ┆         ┆           ┆   ┆          ┆ 286       ┆ 143       ┆ 333       │\n",
              "│ 2011-12-08 ┆ 38582.06   ┆ 4       ┆ 0         ┆ … ┆ 24058.29 ┆ 21281.532 ┆ 22405.377 ┆ 18799.008 │\n",
              "│            ┆            ┆         ┆           ┆   ┆          ┆ 857       ┆ 143       ┆ 667       │\n",
              "│ 2011-12-09 ┆ 15940.79   ┆ 5       ┆ 0         ┆ … ┆ 5836.7   ┆ 18373.655 ┆ 16739.866 ┆ 17928.812 │\n",
              "│            ┆            ┆         ┆           ┆   ┆          ┆ 714       ┆ 429       ┆ 333       │\n",
              "└────────────┴────────────┴─────────┴───────────┴───┴──────────┴───────────┴───────────┴───────────┘"
            ]
          },
          "execution_count": 38,
          "metadata": {},
          "output_type": "execute_result"
        }
      ],
      "source": [
        "\n",
        "\n",
        "# SOLO FECHA\n",
        "df_grouped = df_grouped.with_columns([\n",
        "    pl.col(\"TotalSales\").shift(1).alias(\"Lag_1\"),\n",
        "    pl.col(\"TotalSales\").shift(7).alias(\"Lag_7\"),\n",
        "    pl.col(\"TotalSales\").shift(30).alias(\"Lag_30\"),\n",
        "    pl.col(\"TotalSales\").rolling_mean(window_size=7).alias(\"MA_7\"),\n",
        "    pl.col(\"TotalSales\").rolling_mean(window_size=14).alias(\"MA_14\"),\n",
        "    pl.col(\"TotalSales\").rolling_mean(window_size=30).alias(\"MA_30\")\n",
        "])\n",
        "df_grouped = df_grouped.sort(\"InvoiceDate\")\n",
        "df_grouped\n",
        "# POR CIUDAD Y POR FECHA\n",
        "# df_grouped = df_grouped.with_columns([\n",
        "#     pl.col(\"TotalSales\").shift(1).over(\"Country\").alias(\"Lag_1\"),\n",
        "#     pl.col(\"TotalSales\").shift(7).over(\"Country\").alias(\"Lag_7\"),\n",
        "#     pl.col(\"TotalSales\").shift(30).over(\"Country\").alias(\"Lag_30\"),\n",
        "#     pl.col(\"TotalSales\").rolling_mean(window_size=7).over(\"Country\").alias(\"MA_7\"),\n",
        "#     pl.col(\"TotalSales\").rolling_mean(window_size=14).over(\"Country\").alias(\"MA_14\"),\n",
        "#     pl.col(\"TotalSales\").rolling_mean(window_size=30).over(\"Country\").alias(\"MA_30\")\n",
        "# ])\n",
        "# df_grouped = df_grouped.sort([\"Country\", \"InvoiceDate\"])"
      ]
    },
    {
      "cell_type": "code",
      "execution_count": null,
      "metadata": {
        "id": "PZu5zAe5iEgp"
      },
      "outputs": [],
      "source": [
        "\n",
        "# df_grouped.filter(df_grouped[\"Country\"] == \"DE\").sort(\"InvoiceDate\")"
      ]
    },
    {
      "cell_type": "code",
      "execution_count": null,
      "metadata": {
        "id": "06yJady1iEgp",
        "outputId": "2ccb4fab-625f-4608-afe5-ff5f5ba7c036"
      },
      "outputs": [
        {
          "data": {
            "text/html": [
              "<div><style>\n",
              ".dataframe > thead > tr,\n",
              ".dataframe > tbody > tr {\n",
              "  text-align: right;\n",
              "  white-space: pre-wrap;\n",
              "}\n",
              "</style>\n",
              "<small>shape: (275, 13)</small><table border=\"1\" class=\"dataframe\"><thead><tr><th>InvoiceDate</th><th>TotalSales</th><th>weekday</th><th>is_holiday</th><th>is_month_start</th><th>is_month_end</th><th>quarter_num</th><th>Lag_1</th><th>Lag_7</th><th>Lag_30</th><th>MA_7</th><th>MA_14</th><th>MA_30</th></tr><tr><td>date</td><td>f64</td><td>i8</td><td>i64</td><td>i8</td><td>i8</td><td>i8</td><td>f64</td><td>f64</td><td>f64</td><td>f64</td><td>f64</td><td>f64</td></tr></thead><tbody><tr><td>2010-12-01</td><td>26604.56</td><td>3</td><td>0</td><td>1</td><td>0</td><td>4</td><td>21458.16</td><td>12591.23</td><td>36867.04</td><td>17899.431429</td><td>15234.28</td><td>17913.767333</td></tr><tr><td>2010-12-02</td><td>23203.33</td><td>4</td><td>0</td><td>1</td><td>0</td><td>4</td><td>11153.43</td><td>3981.37</td><td>13652.66</td><td>13151.775714</td><td>13674.501429</td><td>15200.728667</td></tr><tr><td>2010-12-05</td><td>20738.69</td><td>7</td><td>0</td><td>1</td><td>0</td><td>4</td><td>16977.64</td><td>22369.06</td><td>10370.63</td><td>17773.847143</td><td>16847.534286</td><td>15992.225333</td></tr><tr><td>2010-12-07</td><td>25345.38</td><td>2</td><td>0</td><td>1</td><td>0</td><td>4</td><td>11789.36</td><td>13215.98</td><td>35696.84</td><td>18000.218571</td><td>16411.863571</td><td>16612.621667</td></tr><tr><td>2010-12-08</td><td>26379.94</td><td>3</td><td>0</td><td>1</td><td>0</td><td>4</td><td>22369.06</td><td>12371.26</td><td>19162.26</td><td>17922.461429</td><td>15320.713571</td><td>15808.637667</td></tr><tr><td>&hellip;</td><td>&hellip;</td><td>&hellip;</td><td>&hellip;</td><td>&hellip;</td><td>&hellip;</td><td>&hellip;</td><td>&hellip;</td><td>&hellip;</td><td>&hellip;</td><td>&hellip;</td><td>&hellip;</td><td>&hellip;</td></tr><tr><td>2011-12-05</td><td>45057.32</td><td>1</td><td>0</td><td>1</td><td>0</td><td>4</td><td>15855.32</td><td>35696.84</td><td>7439.5</td><td>17321.857143</td><td>20623.167143</td><td>18314.883</td></tr><tr><td>2011-12-06</td><td>26898.4</td><td>2</td><td>0</td><td>1</td><td>0</td><td>4</td><td>3321.05</td><td>15938.83</td><td>4937.29</td><td>16671.73</td><td>18132.44</td><td>17275.171667</td></tr><tr><td>2011-12-07</td><td>27847.03</td><td>3</td><td>0</td><td>1</td><td>0</td><td>4</td><td>15285.24</td><td>12741.68</td><td>11251.67</td><td>17794.714286</td><td>17413.577143</td><td>17650.127333</td></tr><tr><td>2011-12-08</td><td>38582.06</td><td>4</td><td>0</td><td>1</td><td>0</td><td>4</td><td>45057.32</td><td>10864.33</td><td>24058.29</td><td>21281.532857</td><td>22405.377143</td><td>18799.008667</td></tr><tr><td>2011-12-09</td><td>15940.79</td><td>5</td><td>0</td><td>1</td><td>0</td><td>4</td><td>33820.88</td><td>3321.05</td><td>5836.7</td><td>18373.655714</td><td>16739.866429</td><td>17928.812333</td></tr></tbody></table></div>"
            ],
            "text/plain": [
              "shape: (275, 13)\n",
              "┌────────────┬────────────┬─────────┬───────────┬───┬──────────┬───────────┬───────────┬───────────┐\n",
              "│ InvoiceDat ┆ TotalSales ┆ weekday ┆ is_holida ┆ … ┆ Lag_30   ┆ MA_7      ┆ MA_14     ┆ MA_30     │\n",
              "│ e          ┆ ---        ┆ ---     ┆ y         ┆   ┆ ---      ┆ ---       ┆ ---       ┆ ---       │\n",
              "│ ---        ┆ f64        ┆ i8      ┆ ---       ┆   ┆ f64      ┆ f64       ┆ f64       ┆ f64       │\n",
              "│ date       ┆            ┆         ┆ i64       ┆   ┆          ┆           ┆           ┆           │\n",
              "╞════════════╪════════════╪═════════╪═══════════╪═══╪══════════╪═══════════╪═══════════╪═══════════╡\n",
              "│ 2010-12-01 ┆ 26604.56   ┆ 3       ┆ 0         ┆ … ┆ 36867.04 ┆ 17899.431 ┆ 15234.28  ┆ 17913.767 │\n",
              "│            ┆            ┆         ┆           ┆   ┆          ┆ 429       ┆           ┆ 333       │\n",
              "│ 2010-12-02 ┆ 23203.33   ┆ 4       ┆ 0         ┆ … ┆ 13652.66 ┆ 13151.775 ┆ 13674.501 ┆ 15200.728 │\n",
              "│            ┆            ┆         ┆           ┆   ┆          ┆ 714       ┆ 429       ┆ 667       │\n",
              "│ 2010-12-05 ┆ 20738.69   ┆ 7       ┆ 0         ┆ … ┆ 10370.63 ┆ 17773.847 ┆ 16847.534 ┆ 15992.225 │\n",
              "│            ┆            ┆         ┆           ┆   ┆          ┆ 143       ┆ 286       ┆ 333       │\n",
              "│ 2010-12-07 ┆ 25345.38   ┆ 2       ┆ 0         ┆ … ┆ 35696.84 ┆ 18000.218 ┆ 16411.863 ┆ 16612.621 │\n",
              "│            ┆            ┆         ┆           ┆   ┆          ┆ 571       ┆ 571       ┆ 667       │\n",
              "│ 2010-12-08 ┆ 26379.94   ┆ 3       ┆ 0         ┆ … ┆ 19162.26 ┆ 17922.461 ┆ 15320.713 ┆ 15808.637 │\n",
              "│            ┆            ┆         ┆           ┆   ┆          ┆ 429       ┆ 571       ┆ 667       │\n",
              "│ …          ┆ …          ┆ …       ┆ …         ┆ … ┆ …        ┆ …         ┆ …         ┆ …         │\n",
              "│ 2011-12-05 ┆ 45057.32   ┆ 1       ┆ 0         ┆ … ┆ 7439.5   ┆ 17321.857 ┆ 20623.167 ┆ 18314.883 │\n",
              "│            ┆            ┆         ┆           ┆   ┆          ┆ 143       ┆ 143       ┆           │\n",
              "│ 2011-12-06 ┆ 26898.4    ┆ 2       ┆ 0         ┆ … ┆ 4937.29  ┆ 16671.73  ┆ 18132.44  ┆ 17275.171 │\n",
              "│            ┆            ┆         ┆           ┆   ┆          ┆           ┆           ┆ 667       │\n",
              "│ 2011-12-07 ┆ 27847.03   ┆ 3       ┆ 0         ┆ … ┆ 11251.67 ┆ 17794.714 ┆ 17413.577 ┆ 17650.127 │\n",
              "│            ┆            ┆         ┆           ┆   ┆          ┆ 286       ┆ 143       ┆ 333       │\n",
              "│ 2011-12-08 ┆ 38582.06   ┆ 4       ┆ 0         ┆ … ┆ 24058.29 ┆ 21281.532 ┆ 22405.377 ┆ 18799.008 │\n",
              "│            ┆            ┆         ┆           ┆   ┆          ┆ 857       ┆ 143       ┆ 667       │\n",
              "│ 2011-12-09 ┆ 15940.79   ┆ 5       ┆ 0         ┆ … ┆ 5836.7   ┆ 18373.655 ┆ 16739.866 ┆ 17928.812 │\n",
              "│            ┆            ┆         ┆           ┆   ┆          ┆ 714       ┆ 429       ┆ 333       │\n",
              "└────────────┴────────────┴─────────┴───────────┴───┴──────────┴───────────┴───────────┴───────────┘"
            ]
          },
          "execution_count": 40,
          "metadata": {},
          "output_type": "execute_result"
        }
      ],
      "source": [
        "# df_grouped.null_count()\n",
        "df_grouped = df_grouped.drop_nulls()\n",
        "df_grouped"
      ]
    },
    {
      "cell_type": "code",
      "execution_count": null,
      "metadata": {
        "id": "O_tJ4iBviEgq",
        "outputId": "7c4a15eb-d46f-4c74-8e5f-3133e4a7af7a"
      },
      "outputs": [
        {
          "data": {
            "text/html": [
              "<div><style>\n",
              ".dataframe > thead > tr,\n",
              ".dataframe > tbody > tr {\n",
              "  text-align: right;\n",
              "  white-space: pre-wrap;\n",
              "}\n",
              "</style>\n",
              "<small>shape: (9, 14)</small><table border=\"1\" class=\"dataframe\"><thead><tr><th>statistic</th><th>InvoiceDate</th><th>TotalSales</th><th>weekday</th><th>is_holiday</th><th>is_month_start</th><th>is_month_end</th><th>quarter_num</th><th>Lag_1</th><th>Lag_7</th><th>Lag_30</th><th>MA_7</th><th>MA_14</th><th>MA_30</th></tr><tr><td>str</td><td>str</td><td>f64</td><td>f64</td><td>f64</td><td>f64</td><td>f64</td><td>f64</td><td>f64</td><td>f64</td><td>f64</td><td>f64</td><td>f64</td><td>f64</td></tr></thead><tbody><tr><td>&quot;count&quot;</td><td>&quot;275&quot;</td><td>275.0</td><td>275.0</td><td>275.0</td><td>275.0</td><td>275.0</td><td>275.0</td><td>275.0</td><td>275.0</td><td>275.0</td><td>275.0</td><td>275.0</td><td>275.0</td></tr><tr><td>&quot;null_count&quot;</td><td>&quot;0&quot;</td><td>0.0</td><td>0.0</td><td>0.0</td><td>0.0</td><td>0.0</td><td>0.0</td><td>0.0</td><td>0.0</td><td>0.0</td><td>0.0</td><td>0.0</td><td>0.0</td></tr><tr><td>&quot;mean&quot;</td><td>&quot;2011-06-12 16:34:54.545000&quot;</td><td>16547.342836</td><td>3.694545</td><td>0.0</td><td>0.356364</td><td>0.290909</td><td>2.505455</td><td>16525.977745</td><td>16662.116218</td><td>16558.541527</td><td>16580.14827</td><td>16644.335657</td><td>16676.587453</td></tr><tr><td>&quot;std&quot;</td><td>null</td><td>7718.068312</td><td>1.946681</td><td>0.0</td><td>0.479798</td><td>0.45501</td><td>1.147421</td><td>7718.919008</td><td>7707.336355</td><td>7513.421801</td><td>2773.745157</td><td>1773.385738</td><td>844.258939</td></tr><tr><td>&quot;min&quot;</td><td>&quot;2010-12-01&quot;</td><td>2146.63</td><td>1.0</td><td>0.0</td><td>0.0</td><td>0.0</td><td>1.0</td><td>2146.63</td><td>2146.63</td><td>2146.63</td><td>10219.54</td><td>12665.376429</td><td>14882.373</td></tr><tr><td>&quot;25%&quot;</td><td>&quot;2011-03-11&quot;</td><td>11395.0</td><td>2.0</td><td>0.0</td><td>0.0</td><td>0.0</td><td>1.0</td><td>11395.0</td><td>11789.36</td><td>11449.37</td><td>14701.134286</td><td>15403.465</td><td>16073.334</td></tr><tr><td>&quot;50%&quot;</td><td>&quot;2011-06-16&quot;</td><td>14783.11</td><td>4.0</td><td>0.0</td><td>0.0</td><td>0.0</td><td>3.0</td><td>14777.64</td><td>15147.89</td><td>15523.88</td><td>16848.7</td><td>16663.458571</td><td>16614.948</td></tr><tr><td>&quot;75%&quot;</td><td>&quot;2011-09-14&quot;</td><td>19970.48</td><td>5.0</td><td>0.0</td><td>1.0</td><td>1.0</td><td>4.0</td><td>19970.48</td><td>20676.17</td><td>20384.66</td><td>18068.437143</td><td>17851.835</td><td>17234.199</td></tr><tr><td>&quot;max&quot;</td><td>&quot;2011-12-09&quot;</td><td>45057.32</td><td>7.0</td><td>0.0</td><td>1.0</td><td>1.0</td><td>4.0</td><td>45057.32</td><td>45057.32</td><td>45057.32</td><td>23924.477143</td><td>22405.377143</td><td>19492.839667</td></tr></tbody></table></div>"
            ],
            "text/plain": [
              "shape: (9, 14)\n",
              "┌───────────┬───────────┬───────────┬──────────┬───┬───────────┬───────────┬───────────┬───────────┐\n",
              "│ statistic ┆ InvoiceDa ┆ TotalSale ┆ weekday  ┆ … ┆ Lag_30    ┆ MA_7      ┆ MA_14     ┆ MA_30     │\n",
              "│ ---       ┆ te        ┆ s         ┆ ---      ┆   ┆ ---       ┆ ---       ┆ ---       ┆ ---       │\n",
              "│ str       ┆ ---       ┆ ---       ┆ f64      ┆   ┆ f64       ┆ f64       ┆ f64       ┆ f64       │\n",
              "│           ┆ str       ┆ f64       ┆          ┆   ┆           ┆           ┆           ┆           │\n",
              "╞═══════════╪═══════════╪═══════════╪══════════╪═══╪═══════════╪═══════════╪═══════════╪═══════════╡\n",
              "│ count     ┆ 275       ┆ 275.0     ┆ 275.0    ┆ … ┆ 275.0     ┆ 275.0     ┆ 275.0     ┆ 275.0     │\n",
              "│ null_coun ┆ 0         ┆ 0.0       ┆ 0.0      ┆ … ┆ 0.0       ┆ 0.0       ┆ 0.0       ┆ 0.0       │\n",
              "│ t         ┆           ┆           ┆          ┆   ┆           ┆           ┆           ┆           │\n",
              "│ mean      ┆ 2011-06-1 ┆ 16547.342 ┆ 3.694545 ┆ … ┆ 16558.541 ┆ 16580.148 ┆ 16644.335 ┆ 16676.587 │\n",
              "│           ┆ 2 16:34:5 ┆ 836       ┆          ┆   ┆ 527       ┆ 27        ┆ 657       ┆ 453       │\n",
              "│           ┆ 4.545000  ┆           ┆          ┆   ┆           ┆           ┆           ┆           │\n",
              "│ std       ┆ null      ┆ 7718.0683 ┆ 1.946681 ┆ … ┆ 7513.4218 ┆ 2773.7451 ┆ 1773.3857 ┆ 844.25893 │\n",
              "│           ┆           ┆ 12        ┆          ┆   ┆ 01        ┆ 57        ┆ 38        ┆ 9         │\n",
              "│ min       ┆ 2010-12-0 ┆ 2146.63   ┆ 1.0      ┆ … ┆ 2146.63   ┆ 10219.54  ┆ 12665.376 ┆ 14882.373 │\n",
              "│           ┆ 1         ┆           ┆          ┆   ┆           ┆           ┆ 429       ┆           │\n",
              "│ 25%       ┆ 2011-03-1 ┆ 11395.0   ┆ 2.0      ┆ … ┆ 11449.37  ┆ 14701.134 ┆ 15403.465 ┆ 16073.334 │\n",
              "│           ┆ 1         ┆           ┆          ┆   ┆           ┆ 286       ┆           ┆           │\n",
              "│ 50%       ┆ 2011-06-1 ┆ 14783.11  ┆ 4.0      ┆ … ┆ 15523.88  ┆ 16848.7   ┆ 16663.458 ┆ 16614.948 │\n",
              "│           ┆ 6         ┆           ┆          ┆   ┆           ┆           ┆ 571       ┆           │\n",
              "│ 75%       ┆ 2011-09-1 ┆ 19970.48  ┆ 5.0      ┆ … ┆ 20384.66  ┆ 18068.437 ┆ 17851.835 ┆ 17234.199 │\n",
              "│           ┆ 4         ┆           ┆          ┆   ┆           ┆ 143       ┆           ┆           │\n",
              "│ max       ┆ 2011-12-0 ┆ 45057.32  ┆ 7.0      ┆ … ┆ 45057.32  ┆ 23924.477 ┆ 22405.377 ┆ 19492.839 │\n",
              "│           ┆ 9         ┆           ┆          ┆   ┆           ┆ 143       ┆ 143       ┆ 667       │\n",
              "└───────────┴───────────┴───────────┴──────────┴───┴───────────┴───────────┴───────────┴───────────┘"
            ]
          },
          "execution_count": 41,
          "metadata": {},
          "output_type": "execute_result"
        }
      ],
      "source": [
        "df_grouped.describe()"
      ]
    },
    {
      "cell_type": "markdown",
      "metadata": {
        "id": "R-69fyzxiEgq"
      },
      "source": [
        "Ademas anadiremos los promedios de los ultimos 7, 14 y 30 dias"
      ]
    },
    {
      "cell_type": "markdown",
      "metadata": {
        "id": "GU4i5nBfiEgq"
      },
      "source": [
        "Como podemos comprobar tenemos 30 filas con valores nulos en el \"lag\" y el promedio. Podriamos rellenar los valores nulos a mano pero ya que son solo 30 y no queremos sesgar el modelo terminaremos por eliminarlas."
      ]
    },
    {
      "cell_type": "code",
      "execution_count": null,
      "metadata": {
        "id": "cIvADnyJiEgq",
        "outputId": "bdd35d07-c871-4c27-c14c-00f2d48f0091"
      },
      "outputs": [
        {
          "data": {
            "text/html": [
              "<div><style>\n",
              ".dataframe > thead > tr,\n",
              ".dataframe > tbody > tr {\n",
              "  text-align: right;\n",
              "  white-space: pre-wrap;\n",
              "}\n",
              "</style>\n",
              "<small>shape: (442_222, 10)</small><table border=\"1\" class=\"dataframe\"><thead><tr><th>Quantity</th><th>InvoiceDate</th><th>UnitPrice</th><th>Country</th><th>TotalSales</th><th>weekday</th><th>is_holiday</th><th>is_month_start</th><th>is_month_end</th><th>quarter_num</th></tr><tr><td>i64</td><td>date</td><td>f64</td><td>str</td><td>f64</td><td>i8</td><td>i64</td><td>i8</td><td>i8</td><td>i8</td></tr></thead><tbody><tr><td>4</td><td>2010-12-01</td><td>3.75</td><td>&quot;GB&quot;</td><td>15.0</td><td>3</td><td>0</td><td>1</td><td>0</td><td>4</td></tr><tr><td>2</td><td>2010-12-01</td><td>6.35</td><td>&quot;GB&quot;</td><td>12.7</td><td>3</td><td>0</td><td>1</td><td>0</td><td>4</td></tr><tr><td>6</td><td>2010-12-01</td><td>2.95</td><td>&quot;GB&quot;</td><td>17.7</td><td>3</td><td>0</td><td>1</td><td>0</td><td>4</td></tr><tr><td>12</td><td>2010-12-01</td><td>1.65</td><td>&quot;GB&quot;</td><td>19.8</td><td>3</td><td>0</td><td>1</td><td>0</td><td>4</td></tr><tr><td>2</td><td>2010-12-01</td><td>5.06</td><td>&quot;GB&quot;</td><td>10.12</td><td>3</td><td>0</td><td>1</td><td>0</td><td>4</td></tr><tr><td>&hellip;</td><td>&hellip;</td><td>&hellip;</td><td>&hellip;</td><td>&hellip;</td><td>&hellip;</td><td>&hellip;</td><td>&hellip;</td><td>&hellip;</td><td>&hellip;</td></tr><tr><td>8</td><td>2011-12-09</td><td>1.95</td><td>&quot;GB&quot;</td><td>15.6</td><td>5</td><td>0</td><td>1</td><td>0</td><td>4</td></tr><tr><td>24</td><td>2011-12-09</td><td>4.25</td><td>&quot;GB&quot;</td><td>102.0</td><td>5</td><td>0</td><td>1</td><td>0</td><td>4</td></tr><tr><td>1</td><td>2011-12-09</td><td>1.25</td><td>&quot;GB&quot;</td><td>1.25</td><td>5</td><td>0</td><td>1</td><td>0</td><td>4</td></tr><tr><td>4</td><td>2011-12-09</td><td>4.13</td><td>&quot;GB&quot;</td><td>16.52</td><td>5</td><td>0</td><td>1</td><td>0</td><td>4</td></tr><tr><td>4</td><td>2011-12-09</td><td>7.46</td><td>&quot;GB&quot;</td><td>29.84</td><td>5</td><td>0</td><td>1</td><td>0</td><td>4</td></tr></tbody></table></div>"
            ],
            "text/plain": [
              "shape: (442_222, 10)\n",
              "┌──────────┬────────────┬───────────┬─────────┬───┬────────────┬───────────┬───────────┬───────────┐\n",
              "│ Quantity ┆ InvoiceDat ┆ UnitPrice ┆ Country ┆ … ┆ is_holiday ┆ is_month_ ┆ is_month_ ┆ quarter_n │\n",
              "│ ---      ┆ e          ┆ ---       ┆ ---     ┆   ┆ ---        ┆ start     ┆ end       ┆ um        │\n",
              "│ i64      ┆ ---        ┆ f64       ┆ str     ┆   ┆ i64        ┆ ---       ┆ ---       ┆ ---       │\n",
              "│          ┆ date       ┆           ┆         ┆   ┆            ┆ i8        ┆ i8        ┆ i8        │\n",
              "╞══════════╪════════════╪═══════════╪═════════╪═══╪════════════╪═══════════╪═══════════╪═══════════╡\n",
              "│ 4        ┆ 2010-12-01 ┆ 3.75      ┆ GB      ┆ … ┆ 0          ┆ 1         ┆ 0         ┆ 4         │\n",
              "│ 2        ┆ 2010-12-01 ┆ 6.35      ┆ GB      ┆ … ┆ 0          ┆ 1         ┆ 0         ┆ 4         │\n",
              "│ 6        ┆ 2010-12-01 ┆ 2.95      ┆ GB      ┆ … ┆ 0          ┆ 1         ┆ 0         ┆ 4         │\n",
              "│ 12       ┆ 2010-12-01 ┆ 1.65      ┆ GB      ┆ … ┆ 0          ┆ 1         ┆ 0         ┆ 4         │\n",
              "│ 2        ┆ 2010-12-01 ┆ 5.06      ┆ GB      ┆ … ┆ 0          ┆ 1         ┆ 0         ┆ 4         │\n",
              "│ …        ┆ …          ┆ …         ┆ …       ┆ … ┆ …          ┆ …         ┆ …         ┆ …         │\n",
              "│ 8        ┆ 2011-12-09 ┆ 1.95      ┆ GB      ┆ … ┆ 0          ┆ 1         ┆ 0         ┆ 4         │\n",
              "│ 24       ┆ 2011-12-09 ┆ 4.25      ┆ GB      ┆ … ┆ 0          ┆ 1         ┆ 0         ┆ 4         │\n",
              "│ 1        ┆ 2011-12-09 ┆ 1.25      ┆ GB      ┆ … ┆ 0          ┆ 1         ┆ 0         ┆ 4         │\n",
              "│ 4        ┆ 2011-12-09 ┆ 4.13      ┆ GB      ┆ … ┆ 0          ┆ 1         ┆ 0         ┆ 4         │\n",
              "│ 4        ┆ 2011-12-09 ┆ 7.46      ┆ GB      ┆ … ┆ 0          ┆ 1         ┆ 0         ┆ 4         │\n",
              "└──────────┴────────────┴───────────┴─────────┴───┴────────────┴───────────┴───────────┴───────────┘"
            ]
          },
          "execution_count": 42,
          "metadata": {},
          "output_type": "execute_result"
        }
      ],
      "source": [
        "df.sort(\"InvoiceDate\")"
      ]
    },
    {
      "cell_type": "code",
      "execution_count": null,
      "metadata": {
        "id": "LWGRTYg2iEgq"
      },
      "outputs": [],
      "source": [
        "df.write_csv(\"data_cleaned.csv\")\n",
        "\n",
        "\n"
      ]
    },
    {
      "cell_type": "code",
      "execution_count": null,
      "metadata": {
        "id": "jXGlvy5QiEgq"
      },
      "outputs": [],
      "source": [
        "import pickle\n",
        "\n",
        "\n",
        "with open(\"datos_cleaned_grouped.pkl\", \"wb\") as file:\n",
        "    pickle.dump(df_grouped, file)\n",
        "\n"
      ]
    }
  ],
  "metadata": {
    "kernelspec": {
      "display_name": "lab_venv",
      "language": "python",
      "name": "python3"
    },
    "language_info": {
      "codemirror_mode": {
        "name": "ipython",
        "version": 3
      },
      "file_extension": ".py",
      "mimetype": "text/x-python",
      "name": "python",
      "nbconvert_exporter": "python",
      "pygments_lexer": "ipython3",
      "version": "3.11.4"
    },
    "colab": {
      "provenance": []
    }
  },
  "nbformat": 4,
  "nbformat_minor": 0
}