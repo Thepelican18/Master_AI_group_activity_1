{
 "cells": [
  {
   "cell_type": "markdown",
   "metadata": {},
   "source": [
    "Lo cargamos desde un pickle para no perder los tipos de datos de las columnas, puesto que con csv los perderiamos"
   ]
  },
  {
   "cell_type": "code",
   "execution_count": 2,
   "metadata": {},
   "outputs": [
    {
     "data": {
      "text/html": [
       "<div><style>\n",
       ".dataframe > thead > tr,\n",
       ".dataframe > tbody > tr {\n",
       "  text-align: right;\n",
       "  white-space: pre-wrap;\n",
       "}\n",
       "</style>\n",
       "<small>shape: (442_815, 5)</small><table border=\"1\" class=\"dataframe\"><thead><tr><th>Quantity</th><th>InvoiceDate</th><th>UnitPrice</th><th>Country</th><th>TotalSales</th></tr><tr><td>i64</td><td>date</td><td>f64</td><td>str</td><td>f64</td></tr></thead><tbody><tr><td>1</td><td>2010-12-20</td><td>1.28</td><td>&quot;United Kingdom&quot;</td><td>1.28</td></tr><tr><td>24</td><td>2011-10-17</td><td>4.25</td><td>&quot;United Kingdom&quot;</td><td>102.0</td></tr><tr><td>10</td><td>2011-08-12</td><td>1.65</td><td>&quot;United Kingdom&quot;</td><td>16.5</td></tr><tr><td>25</td><td>2011-09-21</td><td>0.42</td><td>&quot;United Kingdom&quot;</td><td>10.5</td></tr><tr><td>1</td><td>2010-12-01</td><td>2.51</td><td>&quot;United Kingdom&quot;</td><td>2.51</td></tr><tr><td>&hellip;</td><td>&hellip;</td><td>&hellip;</td><td>&hellip;</td><td>&hellip;</td></tr><tr><td>1</td><td>2011-09-12</td><td>2.08</td><td>&quot;United Kingdom&quot;</td><td>2.08</td></tr><tr><td>1</td><td>2011-07-25</td><td>5.95</td><td>&quot;United Kingdom&quot;</td><td>5.95</td></tr><tr><td>2</td><td>2011-05-13</td><td>0.85</td><td>&quot;United Kingdom&quot;</td><td>1.7</td></tr><tr><td>1</td><td>2011-11-09</td><td>2.1</td><td>&quot;United Kingdom&quot;</td><td>2.1</td></tr><tr><td>1</td><td>2011-10-20</td><td>3.75</td><td>&quot;United Kingdom&quot;</td><td>3.75</td></tr></tbody></table></div>"
      ],
      "text/plain": [
       "shape: (442_815, 5)\n",
       "┌──────────┬─────────────┬───────────┬────────────────┬────────────┐\n",
       "│ Quantity ┆ InvoiceDate ┆ UnitPrice ┆ Country        ┆ TotalSales │\n",
       "│ ---      ┆ ---         ┆ ---       ┆ ---            ┆ ---        │\n",
       "│ i64      ┆ date        ┆ f64       ┆ str            ┆ f64        │\n",
       "╞══════════╪═════════════╪═══════════╪════════════════╪════════════╡\n",
       "│ 1        ┆ 2010-12-20  ┆ 1.28      ┆ United Kingdom ┆ 1.28       │\n",
       "│ 24       ┆ 2011-10-17  ┆ 4.25      ┆ United Kingdom ┆ 102.0      │\n",
       "│ 10       ┆ 2011-08-12  ┆ 1.65      ┆ United Kingdom ┆ 16.5       │\n",
       "│ 25       ┆ 2011-09-21  ┆ 0.42      ┆ United Kingdom ┆ 10.5       │\n",
       "│ 1        ┆ 2010-12-01  ┆ 2.51      ┆ United Kingdom ┆ 2.51       │\n",
       "│ …        ┆ …           ┆ …         ┆ …              ┆ …          │\n",
       "│ 1        ┆ 2011-09-12  ┆ 2.08      ┆ United Kingdom ┆ 2.08       │\n",
       "│ 1        ┆ 2011-07-25  ┆ 5.95      ┆ United Kingdom ┆ 5.95       │\n",
       "│ 2        ┆ 2011-05-13  ┆ 0.85      ┆ United Kingdom ┆ 1.7        │\n",
       "│ 1        ┆ 2011-11-09  ┆ 2.1       ┆ United Kingdom ┆ 2.1        │\n",
       "│ 1        ┆ 2011-10-20  ┆ 3.75      ┆ United Kingdom ┆ 3.75       │\n",
       "└──────────┴─────────────┴───────────┴────────────────┴────────────┘"
      ]
     },
     "execution_count": 2,
     "metadata": {},
     "output_type": "execute_result"
    }
   ],
   "source": [
    "import polars as pl\n",
    "import pickle\n",
    "\n",
    "\n",
    "with open(\"datos_cleaned.pkl\", \"rb\") as file:\n",
    "    df = pickle.load(file)\n",
    "\n",
    "df\n"
   ]
  },
  {
   "cell_type": "code",
   "execution_count": 3,
   "metadata": {},
   "outputs": [
    {
     "data": {
      "text/html": [
       "<div><style>\n",
       ".dataframe > thead > tr,\n",
       ".dataframe > tbody > tr {\n",
       "  text-align: right;\n",
       "  white-space: pre-wrap;\n",
       "}\n",
       "</style>\n",
       "<small>shape: (9, 6)</small><table border=\"1\" class=\"dataframe\"><thead><tr><th>statistic</th><th>Quantity</th><th>InvoiceDate</th><th>UnitPrice</th><th>Country</th><th>TotalSales</th></tr><tr><td>str</td><td>f64</td><td>str</td><td>f64</td><td>str</td><td>f64</td></tr></thead><tbody><tr><td>&quot;count&quot;</td><td>442815.0</td><td>&quot;442815&quot;</td><td>442815.0</td><td>&quot;442815&quot;</td><td>442815.0</td></tr><tr><td>&quot;null_count&quot;</td><td>0.0</td><td>&quot;0&quot;</td><td>0.0</td><td>&quot;0&quot;</td><td>0.0</td></tr><tr><td>&quot;mean&quot;</td><td>6.33038</td><td>&quot;2011-07-05 19:17:40.866000&quot;</td><td>2.388613</td><td>null</td><td>11.456598</td></tr><tr><td>&quot;std&quot;</td><td>6.458147</td><td>null</td><td>1.630417</td><td>null</td><td>12.759842</td></tr><tr><td>&quot;min&quot;</td><td>1.0</td><td>&quot;2010-12-01&quot;</td><td>0.12</td><td>&quot;Australia&quot;</td><td>0.12</td></tr><tr><td>&quot;25%&quot;</td><td>1.0</td><td>&quot;2011-03-29&quot;</td><td>1.25</td><td>null</td><td>3.29</td></tr><tr><td>&quot;50%&quot;</td><td>4.0</td><td>&quot;2011-07-22&quot;</td><td>1.95</td><td>null</td><td>7.5</td></tr><tr><td>&quot;75%&quot;</td><td>10.0</td><td>&quot;2011-10-20&quot;</td><td>3.29</td><td>null</td><td>15.3</td></tr><tr><td>&quot;max&quot;</td><td>27.0</td><td>&quot;2011-12-09&quot;</td><td>7.5</td><td>&quot;United Kingdom&quot;</td><td>193.96</td></tr></tbody></table></div>"
      ],
      "text/plain": [
       "shape: (9, 6)\n",
       "┌────────────┬──────────┬────────────────────────────┬───────────┬────────────────┬────────────┐\n",
       "│ statistic  ┆ Quantity ┆ InvoiceDate                ┆ UnitPrice ┆ Country        ┆ TotalSales │\n",
       "│ ---        ┆ ---      ┆ ---                        ┆ ---       ┆ ---            ┆ ---        │\n",
       "│ str        ┆ f64      ┆ str                        ┆ f64       ┆ str            ┆ f64        │\n",
       "╞════════════╪══════════╪════════════════════════════╪═══════════╪════════════════╪════════════╡\n",
       "│ count      ┆ 442815.0 ┆ 442815                     ┆ 442815.0  ┆ 442815         ┆ 442815.0   │\n",
       "│ null_count ┆ 0.0      ┆ 0                          ┆ 0.0       ┆ 0              ┆ 0.0        │\n",
       "│ mean       ┆ 6.33038  ┆ 2011-07-05 19:17:40.866000 ┆ 2.388613  ┆ null           ┆ 11.456598  │\n",
       "│ std        ┆ 6.458147 ┆ null                       ┆ 1.630417  ┆ null           ┆ 12.759842  │\n",
       "│ min        ┆ 1.0      ┆ 2010-12-01                 ┆ 0.12      ┆ Australia      ┆ 0.12       │\n",
       "│ 25%        ┆ 1.0      ┆ 2011-03-29                 ┆ 1.25      ┆ null           ┆ 3.29       │\n",
       "│ 50%        ┆ 4.0      ┆ 2011-07-22                 ┆ 1.95      ┆ null           ┆ 7.5        │\n",
       "│ 75%        ┆ 10.0     ┆ 2011-10-20                 ┆ 3.29      ┆ null           ┆ 15.3       │\n",
       "│ max        ┆ 27.0     ┆ 2011-12-09                 ┆ 7.5       ┆ United Kingdom ┆ 193.96     │\n",
       "└────────────┴──────────┴────────────────────────────┴───────────┴────────────────┴────────────┘"
      ]
     },
     "execution_count": 3,
     "metadata": {},
     "output_type": "execute_result"
    }
   ],
   "source": [
    "df.describe()"
   ]
  },
  {
   "cell_type": "markdown",
   "metadata": {},
   "source": [
    "Me he dado cuenta que en las ventas totales el maximo es muy superior al tercer percentil, vamos a calcular el IQR para comprobar el limete superior"
   ]
  },
  {
   "cell_type": "code",
   "execution_count": null,
   "metadata": {},
   "outputs": [],
   "source": [
    "def calc_iqr_from_column_name(name:str)-> None:\n",
    "    Q1 = df[name].quantile(0.25)\n",
    "    Q3 = df[name].quantile(0.75)\n",
    "    IQR = Q3 - Q1\n",
    "\n",
    "    lower_bound = Q1 - 1.5 * IQR\n",
    "    upper_bound = Q3 + 1.5 * IQR\n",
    "\n",
    "    print(f\"\\nIQR for {name}\")\n",
    "    print(Q1, Q3, IQR, lower_bound, upper_bound)\n",
    "\n",
    "calc_iqr_from_column_name(\"TotalSales\")"
   ]
  },
  {
   "cell_type": "markdown",
   "metadata": {},
   "source": [
    "Ahora filtramos por el limite superior"
   ]
  },
  {
   "cell_type": "code",
   "execution_count": 8,
   "metadata": {},
   "outputs": [
    {
     "data": {
      "text/html": [
       "<div><style>\n",
       ".dataframe > thead > tr,\n",
       ".dataframe > tbody > tr {\n",
       "  text-align: right;\n",
       "  white-space: pre-wrap;\n",
       "}\n",
       "</style>\n",
       "<small>shape: (21_257, 5)</small><table border=\"1\" class=\"dataframe\"><thead><tr><th>Quantity</th><th>InvoiceDate</th><th>UnitPrice</th><th>Country</th><th>TotalSales</th></tr><tr><td>i64</td><td>date</td><td>f64</td><td>str</td><td>f64</td></tr></thead><tbody><tr><td>24</td><td>2011-10-17</td><td>4.25</td><td>&quot;United Kingdom&quot;</td><td>102.0</td></tr><tr><td>12</td><td>2011-11-08</td><td>2.95</td><td>&quot;United Kingdom&quot;</td><td>35.4</td></tr><tr><td>18</td><td>2011-09-14</td><td>2.55</td><td>&quot;United Kingdom&quot;</td><td>45.9</td></tr><tr><td>10</td><td>2011-08-16</td><td>6.75</td><td>&quot;United Kingdom&quot;</td><td>67.5</td></tr><tr><td>8</td><td>2010-12-01</td><td>4.65</td><td>&quot;United Kingdom&quot;</td><td>37.2</td></tr><tr><td>&hellip;</td><td>&hellip;</td><td>&hellip;</td><td>&hellip;</td><td>&hellip;</td></tr><tr><td>8</td><td>2011-04-21</td><td>4.95</td><td>&quot;United Kingdom&quot;</td><td>39.6</td></tr><tr><td>12</td><td>2011-02-24</td><td>3.95</td><td>&quot;United Kingdom&quot;</td><td>47.4</td></tr><tr><td>12</td><td>2011-06-09</td><td>2.95</td><td>&quot;Denmark&quot;</td><td>35.4</td></tr><tr><td>12</td><td>2011-10-11</td><td>3.75</td><td>&quot;United Kingdom&quot;</td><td>45.0</td></tr><tr><td>8</td><td>2011-07-13</td><td>4.95</td><td>&quot;United Kingdom&quot;</td><td>39.6</td></tr></tbody></table></div>"
      ],
      "text/plain": [
       "shape: (21_257, 5)\n",
       "┌──────────┬─────────────┬───────────┬────────────────┬────────────┐\n",
       "│ Quantity ┆ InvoiceDate ┆ UnitPrice ┆ Country        ┆ TotalSales │\n",
       "│ ---      ┆ ---         ┆ ---       ┆ ---            ┆ ---        │\n",
       "│ i64      ┆ date        ┆ f64       ┆ str            ┆ f64        │\n",
       "╞══════════╪═════════════╪═══════════╪════════════════╪════════════╡\n",
       "│ 24       ┆ 2011-10-17  ┆ 4.25      ┆ United Kingdom ┆ 102.0      │\n",
       "│ 12       ┆ 2011-11-08  ┆ 2.95      ┆ United Kingdom ┆ 35.4       │\n",
       "│ 18       ┆ 2011-09-14  ┆ 2.55      ┆ United Kingdom ┆ 45.9       │\n",
       "│ 10       ┆ 2011-08-16  ┆ 6.75      ┆ United Kingdom ┆ 67.5       │\n",
       "│ 8        ┆ 2010-12-01  ┆ 4.65      ┆ United Kingdom ┆ 37.2       │\n",
       "│ …        ┆ …           ┆ …         ┆ …              ┆ …          │\n",
       "│ 8        ┆ 2011-04-21  ┆ 4.95      ┆ United Kingdom ┆ 39.6       │\n",
       "│ 12       ┆ 2011-02-24  ┆ 3.95      ┆ United Kingdom ┆ 47.4       │\n",
       "│ 12       ┆ 2011-06-09  ┆ 2.95      ┆ Denmark        ┆ 35.4       │\n",
       "│ 12       ┆ 2011-10-11  ┆ 3.75      ┆ United Kingdom ┆ 45.0       │\n",
       "│ 8        ┆ 2011-07-13  ┆ 4.95      ┆ United Kingdom ┆ 39.6       │\n",
       "└──────────┴─────────────┴───────────┴────────────────┴────────────┘"
      ]
     },
     "execution_count": 8,
     "metadata": {},
     "output_type": "execute_result"
    }
   ],
   "source": [
    "df.filter(df[\"TotalSales\"] > 33.3)"
   ]
  },
  {
   "cell_type": "markdown",
   "metadata": {},
   "source": [
    "Nos encontramos con mas de 20000 filas con valores mas altos de lo normal, para decidir si eliminarlos o no, vamos a crear dos nuevas variables, una que nos siga el dia de la semana y otra que nos diga si es\n",
    "festivo en ese pais, todo esto es porque quizas estos valores tan altos son normales en relacion con el dia."
   ]
  },
  {
   "cell_type": "code",
   "execution_count": 7,
   "metadata": {},
   "outputs": [
    {
     "name": "stdout",
     "output_type": "stream",
     "text": [
      "\n",
      "IQR for TotalSales\n",
      "3.29 15.299999999999999 12.009999999999998 -14.724999999999998 33.315\n"
     ]
    }
   ],
   "source": []
  },
  {
   "cell_type": "markdown",
   "metadata": {},
   "source": [
    "Las acciones ejecutadas sobre el dataset como proceso de transformación de datos, justificando las técnicas utilizadas y las decisiones tomadas.\n",
    "\n",
    "Las acciones ejecutadas sobre el dataset para crear los conjuntos de entrenamiento, validación y test, justificando las decisiones tomadas.\n",
    "El entrenamiento de, al menos, un modelo de regresión, explicando la implementación realizada y mostrando claramente el resultado obtenido.\n"
   ]
  },
  {
   "cell_type": "markdown",
   "metadata": {},
   "source": [
    "el dia de la semana puede ser util para detectrar patrones semanales\n",
    "detectar si es dia festivo"
   ]
  },
  {
   "cell_type": "code",
   "execution_count": null,
   "metadata": {},
   "outputs": [],
   "source": []
  }
 ],
 "metadata": {
  "kernelspec": {
   "display_name": "lab_venv",
   "language": "python",
   "name": "python3"
  },
  "language_info": {
   "codemirror_mode": {
    "name": "ipython",
    "version": 3
   },
   "file_extension": ".py",
   "mimetype": "text/x-python",
   "name": "python",
   "nbconvert_exporter": "python",
   "pygments_lexer": "ipython3",
   "version": "3.11.4"
  }
 },
 "nbformat": 4,
 "nbformat_minor": 2
}
