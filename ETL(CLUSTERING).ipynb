{
  "cells": [
    {
      "cell_type": "markdown",
      "metadata": {
        "id": "q8sN4BdQiMz_"
      },
      "source": [
        "Lo primero que hacemos en el proceso de ETL de este proyecto es cargar el csv, lo cargaremos con polars usando un read_csv y lo cargaremos con el codigo ISO.\n"
      ]
    },
    {
      "cell_type": "code",
      "execution_count": 139,
      "metadata": {
        "id": "Q3YfeWoWiEgc",
        "outputId": "53c39d9d-d31d-43af-d663-5813f4746de1"
      },
      "outputs": [
        {
          "data": {
            "text/html": [
              "<div><style>\n",
              ".dataframe > thead > tr,\n",
              ".dataframe > tbody > tr {\n",
              "  text-align: right;\n",
              "  white-space: pre-wrap;\n",
              "}\n",
              "</style>\n",
              "<small>shape: (541_909, 8)</small><table border=\"1\" class=\"dataframe\"><thead><tr><th>InvoiceNo</th><th>StockCode</th><th>Description</th><th>Quantity</th><th>InvoiceDate</th><th>UnitPrice</th><th>CustomerID</th><th>Country</th></tr><tr><td>str</td><td>str</td><td>str</td><td>i64</td><td>str</td><td>f64</td><td>i64</td><td>str</td></tr></thead><tbody><tr><td>&quot;536365&quot;</td><td>&quot;85123A&quot;</td><td>&quot;WHITE HANGING HEART T-LIGHT HO…</td><td>6</td><td>&quot;12/1/2010 8:26&quot;</td><td>2.55</td><td>17850</td><td>&quot;United Kingdom&quot;</td></tr><tr><td>&quot;536365&quot;</td><td>&quot;71053&quot;</td><td>&quot;WHITE METAL LANTERN&quot;</td><td>6</td><td>&quot;12/1/2010 8:26&quot;</td><td>3.39</td><td>17850</td><td>&quot;United Kingdom&quot;</td></tr><tr><td>&quot;536365&quot;</td><td>&quot;84406B&quot;</td><td>&quot;CREAM CUPID HEARTS COAT HANGER&quot;</td><td>8</td><td>&quot;12/1/2010 8:26&quot;</td><td>2.75</td><td>17850</td><td>&quot;United Kingdom&quot;</td></tr><tr><td>&quot;536365&quot;</td><td>&quot;84029G&quot;</td><td>&quot;KNITTED UNION FLAG HOT WATER B…</td><td>6</td><td>&quot;12/1/2010 8:26&quot;</td><td>3.39</td><td>17850</td><td>&quot;United Kingdom&quot;</td></tr><tr><td>&quot;536365&quot;</td><td>&quot;84029E&quot;</td><td>&quot;RED WOOLLY HOTTIE WHITE HEART.&quot;</td><td>6</td><td>&quot;12/1/2010 8:26&quot;</td><td>3.39</td><td>17850</td><td>&quot;United Kingdom&quot;</td></tr><tr><td>&hellip;</td><td>&hellip;</td><td>&hellip;</td><td>&hellip;</td><td>&hellip;</td><td>&hellip;</td><td>&hellip;</td><td>&hellip;</td></tr><tr><td>&quot;581587&quot;</td><td>&quot;22613&quot;</td><td>&quot;PACK OF 20 SPACEBOY NAPKINS&quot;</td><td>12</td><td>&quot;12/9/2011 12:50&quot;</td><td>0.85</td><td>12680</td><td>&quot;France&quot;</td></tr><tr><td>&quot;581587&quot;</td><td>&quot;22899&quot;</td><td>&quot;CHILDREN&#x27;S APRON DOLLY GIRL &quot;</td><td>6</td><td>&quot;12/9/2011 12:50&quot;</td><td>2.1</td><td>12680</td><td>&quot;France&quot;</td></tr><tr><td>&quot;581587&quot;</td><td>&quot;23254&quot;</td><td>&quot;CHILDRENS CUTLERY DOLLY GIRL &quot;</td><td>4</td><td>&quot;12/9/2011 12:50&quot;</td><td>4.15</td><td>12680</td><td>&quot;France&quot;</td></tr><tr><td>&quot;581587&quot;</td><td>&quot;23255&quot;</td><td>&quot;CHILDRENS CUTLERY CIRCUS PARAD…</td><td>4</td><td>&quot;12/9/2011 12:50&quot;</td><td>4.15</td><td>12680</td><td>&quot;France&quot;</td></tr><tr><td>&quot;581587&quot;</td><td>&quot;22138&quot;</td><td>&quot;BAKING SET 9 PIECE RETROSPOT &quot;</td><td>3</td><td>&quot;12/9/2011 12:50&quot;</td><td>4.95</td><td>12680</td><td>&quot;France&quot;</td></tr></tbody></table></div>"
            ],
            "text/plain": [
              "shape: (541_909, 8)\n",
              "┌───────────┬───────────┬──────────────┬──────────┬─────────────┬───────────┬────────────┬─────────┐\n",
              "│ InvoiceNo ┆ StockCode ┆ Description  ┆ Quantity ┆ InvoiceDate ┆ UnitPrice ┆ CustomerID ┆ Country │\n",
              "│ ---       ┆ ---       ┆ ---          ┆ ---      ┆ ---         ┆ ---       ┆ ---        ┆ ---     │\n",
              "│ str       ┆ str       ┆ str          ┆ i64      ┆ str         ┆ f64       ┆ i64        ┆ str     │\n",
              "╞═══════════╪═══════════╪══════════════╪══════════╪═════════════╪═══════════╪════════════╪═════════╡\n",
              "│ 536365    ┆ 85123A    ┆ WHITE        ┆ 6        ┆ 12/1/2010   ┆ 2.55      ┆ 17850      ┆ United  │\n",
              "│           ┆           ┆ HANGING      ┆          ┆ 8:26        ┆           ┆            ┆ Kingdom │\n",
              "│           ┆           ┆ HEART        ┆          ┆             ┆           ┆            ┆         │\n",
              "│           ┆           ┆ T-LIGHT HO…  ┆          ┆             ┆           ┆            ┆         │\n",
              "│ 536365    ┆ 71053     ┆ WHITE METAL  ┆ 6        ┆ 12/1/2010   ┆ 3.39      ┆ 17850      ┆ United  │\n",
              "│           ┆           ┆ LANTERN      ┆          ┆ 8:26        ┆           ┆            ┆ Kingdom │\n",
              "│ 536365    ┆ 84406B    ┆ CREAM CUPID  ┆ 8        ┆ 12/1/2010   ┆ 2.75      ┆ 17850      ┆ United  │\n",
              "│           ┆           ┆ HEARTS COAT  ┆          ┆ 8:26        ┆           ┆            ┆ Kingdom │\n",
              "│           ┆           ┆ HANGER       ┆          ┆             ┆           ┆            ┆         │\n",
              "│ 536365    ┆ 84029G    ┆ KNITTED      ┆ 6        ┆ 12/1/2010   ┆ 3.39      ┆ 17850      ┆ United  │\n",
              "│           ┆           ┆ UNION FLAG   ┆          ┆ 8:26        ┆           ┆            ┆ Kingdom │\n",
              "│           ┆           ┆ HOT WATER B… ┆          ┆             ┆           ┆            ┆         │\n",
              "│ 536365    ┆ 84029E    ┆ RED WOOLLY   ┆ 6        ┆ 12/1/2010   ┆ 3.39      ┆ 17850      ┆ United  │\n",
              "│           ┆           ┆ HOTTIE WHITE ┆          ┆ 8:26        ┆           ┆            ┆ Kingdom │\n",
              "│           ┆           ┆ HEART.       ┆          ┆             ┆           ┆            ┆         │\n",
              "│ …         ┆ …         ┆ …            ┆ …        ┆ …           ┆ …         ┆ …          ┆ …       │\n",
              "│ 581587    ┆ 22613     ┆ PACK OF 20   ┆ 12       ┆ 12/9/2011   ┆ 0.85      ┆ 12680      ┆ France  │\n",
              "│           ┆           ┆ SPACEBOY     ┆          ┆ 12:50       ┆           ┆            ┆         │\n",
              "│           ┆           ┆ NAPKINS      ┆          ┆             ┆           ┆            ┆         │\n",
              "│ 581587    ┆ 22899     ┆ CHILDREN'S   ┆ 6        ┆ 12/9/2011   ┆ 2.1       ┆ 12680      ┆ France  │\n",
              "│           ┆           ┆ APRON DOLLY  ┆          ┆ 12:50       ┆           ┆            ┆         │\n",
              "│           ┆           ┆ GIRL         ┆          ┆             ┆           ┆            ┆         │\n",
              "│ 581587    ┆ 23254     ┆ CHILDRENS    ┆ 4        ┆ 12/9/2011   ┆ 4.15      ┆ 12680      ┆ France  │\n",
              "│           ┆           ┆ CUTLERY      ┆          ┆ 12:50       ┆           ┆            ┆         │\n",
              "│           ┆           ┆ DOLLY GIRL   ┆          ┆             ┆           ┆            ┆         │\n",
              "│ 581587    ┆ 23255     ┆ CHILDRENS    ┆ 4        ┆ 12/9/2011   ┆ 4.15      ┆ 12680      ┆ France  │\n",
              "│           ┆           ┆ CUTLERY      ┆          ┆ 12:50       ┆           ┆            ┆         │\n",
              "│           ┆           ┆ CIRCUS       ┆          ┆             ┆           ┆            ┆         │\n",
              "│           ┆           ┆ PARAD…       ┆          ┆             ┆           ┆            ┆         │\n",
              "│ 581587    ┆ 22138     ┆ BAKING SET 9 ┆ 3        ┆ 12/9/2011   ┆ 4.95      ┆ 12680      ┆ France  │\n",
              "│           ┆           ┆ PIECE        ┆          ┆ 12:50       ┆           ┆            ┆         │\n",
              "│           ┆           ┆ RETROSPOT    ┆          ┆             ┆           ┆            ┆         │\n",
              "└───────────┴───────────┴──────────────┴──────────┴─────────────┴───────────┴────────────┴─────────┘"
            ]
          },
          "execution_count": 139,
          "metadata": {},
          "output_type": "execute_result"
        }
      ],
      "source": [
        "import polars as pl\n",
        "\n",
        "df = pl.read_csv(\"data.csv\", encoding=\"ISO-8859-1\", infer_schema_length=10000)\n",
        "df\n"
      ]
    },
    {
      "cell_type": "markdown",
      "metadata": {
        "id": "2T8E1Bq0iEge"
      },
      "source": [
        "\n",
        "Ahora sobre el dataset vamos a analizar si hay datos que limpiar:\n",
        "\n",
        "Primero comprobaremos si el dataset contiene valores nulos."
      ]
    },
    {
      "cell_type": "code",
      "execution_count": 140,
      "metadata": {
        "id": "a0yzfeRZiEgf",
        "outputId": "b8f270bc-6a0f-48f6-f540-b9fd8ba2bca0"
      },
      "outputs": [
        {
          "data": {
            "text/html": [
              "<div><style>\n",
              ".dataframe > thead > tr,\n",
              ".dataframe > tbody > tr {\n",
              "  text-align: right;\n",
              "  white-space: pre-wrap;\n",
              "}\n",
              "</style>\n",
              "<small>shape: (1, 8)</small><table border=\"1\" class=\"dataframe\"><thead><tr><th>InvoiceNo</th><th>StockCode</th><th>Description</th><th>Quantity</th><th>InvoiceDate</th><th>UnitPrice</th><th>CustomerID</th><th>Country</th></tr><tr><td>u32</td><td>u32</td><td>u32</td><td>u32</td><td>u32</td><td>u32</td><td>u32</td><td>u32</td></tr></thead><tbody><tr><td>0</td><td>0</td><td>1454</td><td>0</td><td>0</td><td>0</td><td>135080</td><td>0</td></tr></tbody></table></div>"
            ],
            "text/plain": [
              "shape: (1, 8)\n",
              "┌───────────┬───────────┬─────────────┬──────────┬─────────────┬───────────┬────────────┬─────────┐\n",
              "│ InvoiceNo ┆ StockCode ┆ Description ┆ Quantity ┆ InvoiceDate ┆ UnitPrice ┆ CustomerID ┆ Country │\n",
              "│ ---       ┆ ---       ┆ ---         ┆ ---      ┆ ---         ┆ ---       ┆ ---        ┆ ---     │\n",
              "│ u32       ┆ u32       ┆ u32         ┆ u32      ┆ u32         ┆ u32       ┆ u32        ┆ u32     │\n",
              "╞═══════════╪═══════════╪═════════════╪══════════╪═════════════╪═══════════╪════════════╪═════════╡\n",
              "│ 0         ┆ 0         ┆ 1454        ┆ 0        ┆ 0           ┆ 0         ┆ 135080     ┆ 0       │\n",
              "└───────────┴───────────┴─────────────┴──────────┴─────────────┴───────────┴────────────┴─────────┘"
            ]
          },
          "execution_count": 140,
          "metadata": {},
          "output_type": "execute_result"
        }
      ],
      "source": [
        "df.null_count()\n"
      ]
    },
    {
      "cell_type": "markdown",
      "metadata": {
        "id": "0PtPc_n0iEgf"
      },
      "source": [
        "Como vemos hay muchos nulls, dado que el objetivo es agrupar por tipo de clientes el custumerID es esencial y no podemos tabajar sin el. y la descripcion seguramente la ignoremos, por que lo mas util a la hora de agrupar por cliente es la cantidad comprada, el valor total de gasto  y pais."
      ]
    },
    {
      "cell_type": "code",
      "execution_count": 141,
      "metadata": {
        "id": "7-e9TN-XiEgg",
        "outputId": "f53391dc-5d77-4289-fb25-245614b3c715"
      },
      "outputs": [
        {
          "data": {
            "text/html": [
              "<div><style>\n",
              ".dataframe > thead > tr,\n",
              ".dataframe > tbody > tr {\n",
              "  text-align: right;\n",
              "  white-space: pre-wrap;\n",
              "}\n",
              "</style>\n",
              "<small>shape: (406_829, 8)</small><table border=\"1\" class=\"dataframe\"><thead><tr><th>InvoiceNo</th><th>StockCode</th><th>Description</th><th>Quantity</th><th>InvoiceDate</th><th>UnitPrice</th><th>CustomerID</th><th>Country</th></tr><tr><td>str</td><td>str</td><td>str</td><td>i64</td><td>str</td><td>f64</td><td>i64</td><td>str</td></tr></thead><tbody><tr><td>&quot;536365&quot;</td><td>&quot;85123A&quot;</td><td>&quot;WHITE HANGING HEART T-LIGHT HO…</td><td>6</td><td>&quot;12/1/2010 8:26&quot;</td><td>2.55</td><td>17850</td><td>&quot;United Kingdom&quot;</td></tr><tr><td>&quot;536365&quot;</td><td>&quot;71053&quot;</td><td>&quot;WHITE METAL LANTERN&quot;</td><td>6</td><td>&quot;12/1/2010 8:26&quot;</td><td>3.39</td><td>17850</td><td>&quot;United Kingdom&quot;</td></tr><tr><td>&quot;536365&quot;</td><td>&quot;84406B&quot;</td><td>&quot;CREAM CUPID HEARTS COAT HANGER&quot;</td><td>8</td><td>&quot;12/1/2010 8:26&quot;</td><td>2.75</td><td>17850</td><td>&quot;United Kingdom&quot;</td></tr><tr><td>&quot;536365&quot;</td><td>&quot;84029G&quot;</td><td>&quot;KNITTED UNION FLAG HOT WATER B…</td><td>6</td><td>&quot;12/1/2010 8:26&quot;</td><td>3.39</td><td>17850</td><td>&quot;United Kingdom&quot;</td></tr><tr><td>&quot;536365&quot;</td><td>&quot;84029E&quot;</td><td>&quot;RED WOOLLY HOTTIE WHITE HEART.&quot;</td><td>6</td><td>&quot;12/1/2010 8:26&quot;</td><td>3.39</td><td>17850</td><td>&quot;United Kingdom&quot;</td></tr><tr><td>&hellip;</td><td>&hellip;</td><td>&hellip;</td><td>&hellip;</td><td>&hellip;</td><td>&hellip;</td><td>&hellip;</td><td>&hellip;</td></tr><tr><td>&quot;581587&quot;</td><td>&quot;22613&quot;</td><td>&quot;PACK OF 20 SPACEBOY NAPKINS&quot;</td><td>12</td><td>&quot;12/9/2011 12:50&quot;</td><td>0.85</td><td>12680</td><td>&quot;France&quot;</td></tr><tr><td>&quot;581587&quot;</td><td>&quot;22899&quot;</td><td>&quot;CHILDREN&#x27;S APRON DOLLY GIRL &quot;</td><td>6</td><td>&quot;12/9/2011 12:50&quot;</td><td>2.1</td><td>12680</td><td>&quot;France&quot;</td></tr><tr><td>&quot;581587&quot;</td><td>&quot;23254&quot;</td><td>&quot;CHILDRENS CUTLERY DOLLY GIRL &quot;</td><td>4</td><td>&quot;12/9/2011 12:50&quot;</td><td>4.15</td><td>12680</td><td>&quot;France&quot;</td></tr><tr><td>&quot;581587&quot;</td><td>&quot;23255&quot;</td><td>&quot;CHILDRENS CUTLERY CIRCUS PARAD…</td><td>4</td><td>&quot;12/9/2011 12:50&quot;</td><td>4.15</td><td>12680</td><td>&quot;France&quot;</td></tr><tr><td>&quot;581587&quot;</td><td>&quot;22138&quot;</td><td>&quot;BAKING SET 9 PIECE RETROSPOT &quot;</td><td>3</td><td>&quot;12/9/2011 12:50&quot;</td><td>4.95</td><td>12680</td><td>&quot;France&quot;</td></tr></tbody></table></div>"
            ],
            "text/plain": [
              "shape: (406_829, 8)\n",
              "┌───────────┬───────────┬──────────────┬──────────┬─────────────┬───────────┬────────────┬─────────┐\n",
              "│ InvoiceNo ┆ StockCode ┆ Description  ┆ Quantity ┆ InvoiceDate ┆ UnitPrice ┆ CustomerID ┆ Country │\n",
              "│ ---       ┆ ---       ┆ ---          ┆ ---      ┆ ---         ┆ ---       ┆ ---        ┆ ---     │\n",
              "│ str       ┆ str       ┆ str          ┆ i64      ┆ str         ┆ f64       ┆ i64        ┆ str     │\n",
              "╞═══════════╪═══════════╪══════════════╪══════════╪═════════════╪═══════════╪════════════╪═════════╡\n",
              "│ 536365    ┆ 85123A    ┆ WHITE        ┆ 6        ┆ 12/1/2010   ┆ 2.55      ┆ 17850      ┆ United  │\n",
              "│           ┆           ┆ HANGING      ┆          ┆ 8:26        ┆           ┆            ┆ Kingdom │\n",
              "│           ┆           ┆ HEART        ┆          ┆             ┆           ┆            ┆         │\n",
              "│           ┆           ┆ T-LIGHT HO…  ┆          ┆             ┆           ┆            ┆         │\n",
              "│ 536365    ┆ 71053     ┆ WHITE METAL  ┆ 6        ┆ 12/1/2010   ┆ 3.39      ┆ 17850      ┆ United  │\n",
              "│           ┆           ┆ LANTERN      ┆          ┆ 8:26        ┆           ┆            ┆ Kingdom │\n",
              "│ 536365    ┆ 84406B    ┆ CREAM CUPID  ┆ 8        ┆ 12/1/2010   ┆ 2.75      ┆ 17850      ┆ United  │\n",
              "│           ┆           ┆ HEARTS COAT  ┆          ┆ 8:26        ┆           ┆            ┆ Kingdom │\n",
              "│           ┆           ┆ HANGER       ┆          ┆             ┆           ┆            ┆         │\n",
              "│ 536365    ┆ 84029G    ┆ KNITTED      ┆ 6        ┆ 12/1/2010   ┆ 3.39      ┆ 17850      ┆ United  │\n",
              "│           ┆           ┆ UNION FLAG   ┆          ┆ 8:26        ┆           ┆            ┆ Kingdom │\n",
              "│           ┆           ┆ HOT WATER B… ┆          ┆             ┆           ┆            ┆         │\n",
              "│ 536365    ┆ 84029E    ┆ RED WOOLLY   ┆ 6        ┆ 12/1/2010   ┆ 3.39      ┆ 17850      ┆ United  │\n",
              "│           ┆           ┆ HOTTIE WHITE ┆          ┆ 8:26        ┆           ┆            ┆ Kingdom │\n",
              "│           ┆           ┆ HEART.       ┆          ┆             ┆           ┆            ┆         │\n",
              "│ …         ┆ …         ┆ …            ┆ …        ┆ …           ┆ …         ┆ …          ┆ …       │\n",
              "│ 581587    ┆ 22613     ┆ PACK OF 20   ┆ 12       ┆ 12/9/2011   ┆ 0.85      ┆ 12680      ┆ France  │\n",
              "│           ┆           ┆ SPACEBOY     ┆          ┆ 12:50       ┆           ┆            ┆         │\n",
              "│           ┆           ┆ NAPKINS      ┆          ┆             ┆           ┆            ┆         │\n",
              "│ 581587    ┆ 22899     ┆ CHILDREN'S   ┆ 6        ┆ 12/9/2011   ┆ 2.1       ┆ 12680      ┆ France  │\n",
              "│           ┆           ┆ APRON DOLLY  ┆          ┆ 12:50       ┆           ┆            ┆         │\n",
              "│           ┆           ┆ GIRL         ┆          ┆             ┆           ┆            ┆         │\n",
              "│ 581587    ┆ 23254     ┆ CHILDRENS    ┆ 4        ┆ 12/9/2011   ┆ 4.15      ┆ 12680      ┆ France  │\n",
              "│           ┆           ┆ CUTLERY      ┆          ┆ 12:50       ┆           ┆            ┆         │\n",
              "│           ┆           ┆ DOLLY GIRL   ┆          ┆             ┆           ┆            ┆         │\n",
              "│ 581587    ┆ 23255     ┆ CHILDRENS    ┆ 4        ┆ 12/9/2011   ┆ 4.15      ┆ 12680      ┆ France  │\n",
              "│           ┆           ┆ CUTLERY      ┆          ┆ 12:50       ┆           ┆            ┆         │\n",
              "│           ┆           ┆ CIRCUS       ┆          ┆             ┆           ┆            ┆         │\n",
              "│           ┆           ┆ PARAD…       ┆          ┆             ┆           ┆            ┆         │\n",
              "│ 581587    ┆ 22138     ┆ BAKING SET 9 ┆ 3        ┆ 12/9/2011   ┆ 4.95      ┆ 12680      ┆ France  │\n",
              "│           ┆           ┆ PIECE        ┆          ┆ 12:50       ┆           ┆            ┆         │\n",
              "│           ┆           ┆ RETROSPOT    ┆          ┆             ┆           ┆            ┆         │\n",
              "└───────────┴───────────┴──────────────┴──────────┴─────────────┴───────────┴────────────┴─────────┘"
            ]
          },
          "execution_count": 141,
          "metadata": {},
          "output_type": "execute_result"
        }
      ],
      "source": [
        "df = df.filter(df[\"Description\"].is_not_null())\n",
        "df = df.filter(df[\"CustomerID\"].is_not_null())\n",
        "df"
      ]
    },
    {
      "cell_type": "markdown",
      "metadata": {
        "id": "rKEJ5zB-iEgg"
      },
      "source": [
        "Habiendonos desecho de todos los datos con valores nulos seguiremos con los valores duplicados de todas las columnas, que tambien es importante por si a la hora de insertar los datos se cometio el error de añadir la misma compra dos veces, con lo cual no nos seria util para nuestra posterior predicción."
      ]
    },
    {
      "cell_type": "code",
      "execution_count": 142,
      "metadata": {
        "id": "Lu7Y5gxriEgg",
        "outputId": "b677f2af-e808-4082-cea7-4979598f9783"
      },
      "outputs": [
        {
          "data": {
            "text/plain": [
              "'Filas duplicadas: 5225'"
            ]
          },
          "execution_count": 142,
          "metadata": {},
          "output_type": "execute_result"
        }
      ],
      "source": [
        "\n",
        "f\"Filas duplicadas: {df.height - df.unique().height}\""
      ]
    },
    {
      "cell_type": "markdown",
      "metadata": {
        "id": "qwyTFLlViEgg"
      },
      "source": [
        "En nuestro caso elimineramos estas filas duplicadas y, como mencionamos anteriormente, es muy probable que se trate de un error de la aplicacion al insertar datos y nos perjudique a la hora de hacer las predicciones."
      ]
    },
    {
      "cell_type": "code",
      "execution_count": 143,
      "metadata": {
        "id": "2OhUoupQiEgh",
        "outputId": "6beb688d-d0f6-4c6e-854a-b615e8a1acdc"
      },
      "outputs": [
        {
          "data": {
            "text/html": [
              "<div><style>\n",
              ".dataframe > thead > tr,\n",
              ".dataframe > tbody > tr {\n",
              "  text-align: right;\n",
              "  white-space: pre-wrap;\n",
              "}\n",
              "</style>\n",
              "<small>shape: (401_604, 8)</small><table border=\"1\" class=\"dataframe\"><thead><tr><th>InvoiceNo</th><th>StockCode</th><th>Description</th><th>Quantity</th><th>InvoiceDate</th><th>UnitPrice</th><th>CustomerID</th><th>Country</th></tr><tr><td>str</td><td>str</td><td>str</td><td>i64</td><td>str</td><td>f64</td><td>i64</td><td>str</td></tr></thead><tbody><tr><td>&quot;559672&quot;</td><td>&quot;85071B&quot;</td><td>&quot;RED CHARLIE+LOLA PERSONAL DOOR…</td><td>18</td><td>&quot;7/11/2011 14:04&quot;</td><td>0.39</td><td>14796</td><td>&quot;United Kingdom&quot;</td></tr><tr><td>&quot;562129&quot;</td><td>&quot;22430&quot;</td><td>&quot;ENAMEL WATERING CAN CREAM&quot;</td><td>4</td><td>&quot;8/3/2011 9:09&quot;</td><td>4.95</td><td>13186</td><td>&quot;United Kingdom&quot;</td></tr><tr><td>&quot;568060&quot;</td><td>&quot;84945&quot;</td><td>&quot;MULTI COLOUR SILVER T-LIGHT HO…</td><td>12</td><td>&quot;9/23/2011 13:11&quot;</td><td>0.85</td><td>14546</td><td>&quot;United Kingdom&quot;</td></tr><tr><td>&quot;575837&quot;</td><td>&quot;23483&quot;</td><td>&quot;HANGING&nbsp;&nbsp;BUTTERFLY T-LIGHT HOL…</td><td>18</td><td>&quot;11/11/2011 11:37&quot;</td><td>1.25</td><td>12748</td><td>&quot;United Kingdom&quot;</td></tr><tr><td>&quot;566408&quot;</td><td>&quot;23415&quot;</td><td>&quot;HOME SWEET HOME HOOK&quot;</td><td>5</td><td>&quot;9/12/2011 13:43&quot;</td><td>1.65</td><td>16984</td><td>&quot;United Kingdom&quot;</td></tr><tr><td>&hellip;</td><td>&hellip;</td><td>&hellip;</td><td>&hellip;</td><td>&hellip;</td><td>&hellip;</td><td>&hellip;</td><td>&hellip;</td></tr><tr><td>&quot;570637&quot;</td><td>&quot;85099B&quot;</td><td>&quot;JUMBO BAG RED RETROSPOT&quot;</td><td>10</td><td>&quot;10/11/2011 12:34&quot;</td><td>2.08</td><td>12530</td><td>&quot;Germany&quot;</td></tr><tr><td>&quot;552883&quot;</td><td>&quot;21672&quot;</td><td>&quot;WHITE SPOT RED CERAMIC DRAWER …</td><td>96</td><td>&quot;5/12/2011 10:13&quot;</td><td>1.06</td><td>14646</td><td>&quot;Netherlands&quot;</td></tr><tr><td>&quot;555405&quot;</td><td>&quot;23147&quot;</td><td>&quot;SINGLE ANTIQUE ROSE HOOK IVORY&quot;</td><td>12</td><td>&quot;6/2/2011 19:17&quot;</td><td>1.45</td><td>17531</td><td>&quot;United Kingdom&quot;</td></tr><tr><td>&quot;569026&quot;</td><td>&quot;23322&quot;</td><td>&quot;LARGE WHITE HEART OF WICKER&quot;</td><td>6</td><td>&quot;9/30/2011 10:18&quot;</td><td>2.95</td><td>16101</td><td>&quot;United Kingdom&quot;</td></tr><tr><td>&quot;577167&quot;</td><td>&quot;23390&quot;</td><td>&quot;DOLLY GIRL MINI BACKPACK&quot;</td><td>2</td><td>&quot;11/18/2011 10:41&quot;</td><td>4.15</td><td>16511</td><td>&quot;United Kingdom&quot;</td></tr></tbody></table></div>"
            ],
            "text/plain": [
              "shape: (401_604, 8)\n",
              "┌───────────┬───────────┬────────────┬──────────┬────────────┬───────────┬────────────┬────────────┐\n",
              "│ InvoiceNo ┆ StockCode ┆ Descriptio ┆ Quantity ┆ InvoiceDat ┆ UnitPrice ┆ CustomerID ┆ Country    │\n",
              "│ ---       ┆ ---       ┆ n          ┆ ---      ┆ e          ┆ ---       ┆ ---        ┆ ---        │\n",
              "│ str       ┆ str       ┆ ---        ┆ i64      ┆ ---        ┆ f64       ┆ i64        ┆ str        │\n",
              "│           ┆           ┆ str        ┆          ┆ str        ┆           ┆            ┆            │\n",
              "╞═══════════╪═══════════╪════════════╪══════════╪════════════╪═══════════╪════════════╪════════════╡\n",
              "│ 559672    ┆ 85071B    ┆ RED CHARLI ┆ 18       ┆ 7/11/2011  ┆ 0.39      ┆ 14796      ┆ United     │\n",
              "│           ┆           ┆ E+LOLA     ┆          ┆ 14:04      ┆           ┆            ┆ Kingdom    │\n",
              "│           ┆           ┆ PERSONAL   ┆          ┆            ┆           ┆            ┆            │\n",
              "│           ┆           ┆ DOOR…      ┆          ┆            ┆           ┆            ┆            │\n",
              "│ 562129    ┆ 22430     ┆ ENAMEL     ┆ 4        ┆ 8/3/2011   ┆ 4.95      ┆ 13186      ┆ United     │\n",
              "│           ┆           ┆ WATERING   ┆          ┆ 9:09       ┆           ┆            ┆ Kingdom    │\n",
              "│           ┆           ┆ CAN CREAM  ┆          ┆            ┆           ┆            ┆            │\n",
              "│ 568060    ┆ 84945     ┆ MULTI      ┆ 12       ┆ 9/23/2011  ┆ 0.85      ┆ 14546      ┆ United     │\n",
              "│           ┆           ┆ COLOUR     ┆          ┆ 13:11      ┆           ┆            ┆ Kingdom    │\n",
              "│           ┆           ┆ SILVER     ┆          ┆            ┆           ┆            ┆            │\n",
              "│           ┆           ┆ T-LIGHT    ┆          ┆            ┆           ┆            ┆            │\n",
              "│           ┆           ┆ HO…        ┆          ┆            ┆           ┆            ┆            │\n",
              "│ 575837    ┆ 23483     ┆ HANGING    ┆ 18       ┆ 11/11/2011 ┆ 1.25      ┆ 12748      ┆ United     │\n",
              "│           ┆           ┆ BUTTERFLY  ┆          ┆ 11:37      ┆           ┆            ┆ Kingdom    │\n",
              "│           ┆           ┆ T-LIGHT    ┆          ┆            ┆           ┆            ┆            │\n",
              "│           ┆           ┆ HOL…       ┆          ┆            ┆           ┆            ┆            │\n",
              "│ 566408    ┆ 23415     ┆ HOME SWEET ┆ 5        ┆ 9/12/2011  ┆ 1.65      ┆ 16984      ┆ United     │\n",
              "│           ┆           ┆ HOME HOOK  ┆          ┆ 13:43      ┆           ┆            ┆ Kingdom    │\n",
              "│ …         ┆ …         ┆ …          ┆ …        ┆ …          ┆ …         ┆ …          ┆ …          │\n",
              "│ 570637    ┆ 85099B    ┆ JUMBO BAG  ┆ 10       ┆ 10/11/2011 ┆ 2.08      ┆ 12530      ┆ Germany    │\n",
              "│           ┆           ┆ RED        ┆          ┆ 12:34      ┆           ┆            ┆            │\n",
              "│           ┆           ┆ RETROSPOT  ┆          ┆            ┆           ┆            ┆            │\n",
              "│ 552883    ┆ 21672     ┆ WHITE SPOT ┆ 96       ┆ 5/12/2011  ┆ 1.06      ┆ 14646      ┆ Netherland │\n",
              "│           ┆           ┆ RED        ┆          ┆ 10:13      ┆           ┆            ┆ s          │\n",
              "│           ┆           ┆ CERAMIC    ┆          ┆            ┆           ┆            ┆            │\n",
              "│           ┆           ┆ DRAWER …   ┆          ┆            ┆           ┆            ┆            │\n",
              "│ 555405    ┆ 23147     ┆ SINGLE     ┆ 12       ┆ 6/2/2011   ┆ 1.45      ┆ 17531      ┆ United     │\n",
              "│           ┆           ┆ ANTIQUE    ┆          ┆ 19:17      ┆           ┆            ┆ Kingdom    │\n",
              "│           ┆           ┆ ROSE HOOK  ┆          ┆            ┆           ┆            ┆            │\n",
              "│           ┆           ┆ IVORY      ┆          ┆            ┆           ┆            ┆            │\n",
              "│ 569026    ┆ 23322     ┆ LARGE      ┆ 6        ┆ 9/30/2011  ┆ 2.95      ┆ 16101      ┆ United     │\n",
              "│           ┆           ┆ WHITE      ┆          ┆ 10:18      ┆           ┆            ┆ Kingdom    │\n",
              "│           ┆           ┆ HEART OF   ┆          ┆            ┆           ┆            ┆            │\n",
              "│           ┆           ┆ WICKER     ┆          ┆            ┆           ┆            ┆            │\n",
              "│ 577167    ┆ 23390     ┆ DOLLY GIRL ┆ 2        ┆ 11/18/2011 ┆ 4.15      ┆ 16511      ┆ United     │\n",
              "│           ┆           ┆ MINI       ┆          ┆ 10:41      ┆           ┆            ┆ Kingdom    │\n",
              "│           ┆           ┆ BACKPACK   ┆          ┆            ┆           ┆            ┆            │\n",
              "└───────────┴───────────┴────────────┴──────────┴────────────┴───────────┴────────────┴────────────┘"
            ]
          },
          "execution_count": 143,
          "metadata": {},
          "output_type": "execute_result"
        }
      ],
      "source": [
        "\n",
        "df = df.unique()\n",
        "df"
      ]
    },
    {
      "cell_type": "markdown",
      "metadata": {
        "id": "Jg0MECIWiEgh"
      },
      "source": [
        "Ahora iremos con los valores negativos tanto en la columna de Quantity como en el UnitPrice, ya que serian los unicos que podrian tener unos valores negativos."
      ]
    },
    {
      "cell_type": "code",
      "execution_count": 144,
      "metadata": {
        "id": "U3wa-jr2iEgh",
        "outputId": "da9258b2-0d38-4db2-b09f-1fcbe43b24f3"
      },
      "outputs": [
        {
          "data": {
            "text/html": [
              "<div><style>\n",
              ".dataframe > thead > tr,\n",
              ".dataframe > tbody > tr {\n",
              "  text-align: right;\n",
              "  white-space: pre-wrap;\n",
              "}\n",
              "</style>\n",
              "<small>shape: (8_872, 8)</small><table border=\"1\" class=\"dataframe\"><thead><tr><th>InvoiceNo</th><th>StockCode</th><th>Description</th><th>Quantity</th><th>InvoiceDate</th><th>UnitPrice</th><th>CustomerID</th><th>Country</th></tr><tr><td>str</td><td>str</td><td>str</td><td>i64</td><td>str</td><td>f64</td><td>i64</td><td>str</td></tr></thead><tbody><tr><td>&quot;C558361&quot;</td><td>&quot;21429&quot;</td><td>&quot;RED GINGHAM ROSE JEWELLERY BOX&quot;</td><td>-2</td><td>&quot;6/28/2011 15:13&quot;</td><td>1.95</td><td>15128</td><td>&quot;United Kingdom&quot;</td></tr><tr><td>&quot;C550962&quot;</td><td>&quot;21754&quot;</td><td>&quot;HOME BUILDING BLOCK WORD&quot;</td><td>-1</td><td>&quot;4/21/2011 16:42&quot;</td><td>5.95</td><td>14834</td><td>&quot;United Kingdom&quot;</td></tr><tr><td>&quot;C569655&quot;</td><td>&quot;22477&quot;</td><td>&quot;WATERING CAN GARDEN MARKER&quot;</td><td>-1</td><td>&quot;10/5/2011 12:58&quot;</td><td>1.25</td><td>14534</td><td>&quot;United Kingdom&quot;</td></tr><tr><td>&quot;C566784&quot;</td><td>&quot;85048&quot;</td><td>&quot;15CM CHRISTMAS GLASS BALL 20 L…</td><td>-7</td><td>&quot;9/15/2011 10:27&quot;</td><td>6.95</td><td>14915</td><td>&quot;United Kingdom&quot;</td></tr><tr><td>&quot;C554849&quot;</td><td>&quot;22055&quot;</td><td>&quot;MINI CAKE STAND&nbsp;&nbsp;HANGING STRAW…</td><td>-1</td><td>&quot;5/26/2011 19:58&quot;</td><td>1.45</td><td>17865</td><td>&quot;United Kingdom&quot;</td></tr><tr><td>&hellip;</td><td>&hellip;</td><td>&hellip;</td><td>&hellip;</td><td>&hellip;</td><td>&hellip;</td><td>&hellip;</td><td>&hellip;</td></tr><tr><td>&quot;C551015&quot;</td><td>&quot;23176&quot;</td><td>&quot;ABC TREASURE BOOK BOX &quot;</td><td>-4</td><td>&quot;4/26/2011 11:06&quot;</td><td>2.25</td><td>12753</td><td>&quot;Japan&quot;</td></tr><tr><td>&quot;C571316&quot;</td><td>&quot;23483&quot;</td><td>&quot;HANGING&nbsp;&nbsp;BUTTERFLY T-LIGHT HOL…</td><td>-3</td><td>&quot;10/17/2011 10:47&quot;</td><td>1.25</td><td>15091</td><td>&quot;United Kingdom&quot;</td></tr><tr><td>&quot;C550181&quot;</td><td>&quot;22381&quot;</td><td>&quot;TOY TIDY PINK POLKADOT&quot;</td><td>-10</td><td>&quot;4/14/2011 17:43&quot;</td><td>2.1</td><td>13069</td><td>&quot;United Kingdom&quot;</td></tr><tr><td>&quot;C561594&quot;</td><td>&quot;23252&quot;</td><td>&quot;VINTAGE RED ENAMEL TRIM JUG &quot;</td><td>-16</td><td>&quot;7/28/2011 11:22&quot;</td><td>3.75</td><td>17671</td><td>&quot;United Kingdom&quot;</td></tr><tr><td>&quot;C542742&quot;</td><td>&quot;84535B&quot;</td><td>&quot;FAIRY CAKES NOTEBOOK A6 SIZE&quot;</td><td>-94</td><td>&quot;1/31/2011 16:26&quot;</td><td>0.65</td><td>15358</td><td>&quot;United Kingdom&quot;</td></tr></tbody></table></div>"
            ],
            "text/plain": [
              "shape: (8_872, 8)\n",
              "┌───────────┬───────────┬──────────────┬──────────┬─────────────┬───────────┬────────────┬─────────┐\n",
              "│ InvoiceNo ┆ StockCode ┆ Description  ┆ Quantity ┆ InvoiceDate ┆ UnitPrice ┆ CustomerID ┆ Country │\n",
              "│ ---       ┆ ---       ┆ ---          ┆ ---      ┆ ---         ┆ ---       ┆ ---        ┆ ---     │\n",
              "│ str       ┆ str       ┆ str          ┆ i64      ┆ str         ┆ f64       ┆ i64        ┆ str     │\n",
              "╞═══════════╪═══════════╪══════════════╪══════════╪═════════════╪═══════════╪════════════╪═════════╡\n",
              "│ C558361   ┆ 21429     ┆ RED GINGHAM  ┆ -2       ┆ 6/28/2011   ┆ 1.95      ┆ 15128      ┆ United  │\n",
              "│           ┆           ┆ ROSE         ┆          ┆ 15:13       ┆           ┆            ┆ Kingdom │\n",
              "│           ┆           ┆ JEWELLERY    ┆          ┆             ┆           ┆            ┆         │\n",
              "│           ┆           ┆ BOX          ┆          ┆             ┆           ┆            ┆         │\n",
              "│ C550962   ┆ 21754     ┆ HOME         ┆ -1       ┆ 4/21/2011   ┆ 5.95      ┆ 14834      ┆ United  │\n",
              "│           ┆           ┆ BUILDING     ┆          ┆ 16:42       ┆           ┆            ┆ Kingdom │\n",
              "│           ┆           ┆ BLOCK WORD   ┆          ┆             ┆           ┆            ┆         │\n",
              "│ C569655   ┆ 22477     ┆ WATERING CAN ┆ -1       ┆ 10/5/2011   ┆ 1.25      ┆ 14534      ┆ United  │\n",
              "│           ┆           ┆ GARDEN       ┆          ┆ 12:58       ┆           ┆            ┆ Kingdom │\n",
              "│           ┆           ┆ MARKER       ┆          ┆             ┆           ┆            ┆         │\n",
              "│ C566784   ┆ 85048     ┆ 15CM         ┆ -7       ┆ 9/15/2011   ┆ 6.95      ┆ 14915      ┆ United  │\n",
              "│           ┆           ┆ CHRISTMAS    ┆          ┆ 10:27       ┆           ┆            ┆ Kingdom │\n",
              "│           ┆           ┆ GLASS BALL   ┆          ┆             ┆           ┆            ┆         │\n",
              "│           ┆           ┆ 20 L…        ┆          ┆             ┆           ┆            ┆         │\n",
              "│ C554849   ┆ 22055     ┆ MINI CAKE    ┆ -1       ┆ 5/26/2011   ┆ 1.45      ┆ 17865      ┆ United  │\n",
              "│           ┆           ┆ STAND        ┆          ┆ 19:58       ┆           ┆            ┆ Kingdom │\n",
              "│           ┆           ┆ HANGING      ┆          ┆             ┆           ┆            ┆         │\n",
              "│           ┆           ┆ STRAW…       ┆          ┆             ┆           ┆            ┆         │\n",
              "│ …         ┆ …         ┆ …            ┆ …        ┆ …           ┆ …         ┆ …          ┆ …       │\n",
              "│ C551015   ┆ 23176     ┆ ABC TREASURE ┆ -4       ┆ 4/26/2011   ┆ 2.25      ┆ 12753      ┆ Japan   │\n",
              "│           ┆           ┆ BOOK BOX     ┆          ┆ 11:06       ┆           ┆            ┆         │\n",
              "│ C571316   ┆ 23483     ┆ HANGING      ┆ -3       ┆ 10/17/2011  ┆ 1.25      ┆ 15091      ┆ United  │\n",
              "│           ┆           ┆ BUTTERFLY    ┆          ┆ 10:47       ┆           ┆            ┆ Kingdom │\n",
              "│           ┆           ┆ T-LIGHT HOL… ┆          ┆             ┆           ┆            ┆         │\n",
              "│ C550181   ┆ 22381     ┆ TOY TIDY     ┆ -10      ┆ 4/14/2011   ┆ 2.1       ┆ 13069      ┆ United  │\n",
              "│           ┆           ┆ PINK         ┆          ┆ 17:43       ┆           ┆            ┆ Kingdom │\n",
              "│           ┆           ┆ POLKADOT     ┆          ┆             ┆           ┆            ┆         │\n",
              "│ C561594   ┆ 23252     ┆ VINTAGE RED  ┆ -16      ┆ 7/28/2011   ┆ 3.75      ┆ 17671      ┆ United  │\n",
              "│           ┆           ┆ ENAMEL TRIM  ┆          ┆ 11:22       ┆           ┆            ┆ Kingdom │\n",
              "│           ┆           ┆ JUG          ┆          ┆             ┆           ┆            ┆         │\n",
              "│ C542742   ┆ 84535B    ┆ FAIRY CAKES  ┆ -94      ┆ 1/31/2011   ┆ 0.65      ┆ 15358      ┆ United  │\n",
              "│           ┆           ┆ NOTEBOOK A6  ┆          ┆ 16:26       ┆           ┆            ┆ Kingdom │\n",
              "│           ┆           ┆ SIZE         ┆          ┆             ┆           ┆            ┆         │\n",
              "└───────────┴───────────┴──────────────┴──────────┴─────────────┴───────────┴────────────┴─────────┘"
            ]
          },
          "execution_count": 144,
          "metadata": {},
          "output_type": "execute_result"
        }
      ],
      "source": [
        "df.filter((pl.col(\"Quantity\") < 0) | (pl.col(\"UnitPrice\") < 0))\n"
      ]
    },
    {
      "cell_type": "markdown",
      "metadata": {
        "id": "w3CDILBLiEgh"
      },
      "source": [
        "En este caso vemos que hay valores negativos en estas dos columnas, se podrian interpretar como devoluciones de los productos, pero en este caso no los vamos a usar de esta forma porque no tendria sentido contar con estos valores si solo queremos calcular las ventas y no devoluciones. Asi que los tendremos que eliminar."
      ]
    },
    {
      "cell_type": "code",
      "execution_count": 145,
      "metadata": {
        "id": "aC_RPE8OiEgh",
        "outputId": "77276cb2-b592-4bcf-abf3-1dde25217cb2"
      },
      "outputs": [
        {
          "data": {
            "text/html": [
              "<div><style>\n",
              ".dataframe > thead > tr,\n",
              ".dataframe > tbody > tr {\n",
              "  text-align: right;\n",
              "  white-space: pre-wrap;\n",
              "}\n",
              "</style>\n",
              "<small>shape: (392_732, 8)</small><table border=\"1\" class=\"dataframe\"><thead><tr><th>InvoiceNo</th><th>StockCode</th><th>Description</th><th>Quantity</th><th>InvoiceDate</th><th>UnitPrice</th><th>CustomerID</th><th>Country</th></tr><tr><td>str</td><td>str</td><td>str</td><td>i64</td><td>str</td><td>f64</td><td>i64</td><td>str</td></tr></thead><tbody><tr><td>&quot;559672&quot;</td><td>&quot;85071B&quot;</td><td>&quot;RED CHARLIE+LOLA PERSONAL DOOR…</td><td>18</td><td>&quot;7/11/2011 14:04&quot;</td><td>0.39</td><td>14796</td><td>&quot;United Kingdom&quot;</td></tr><tr><td>&quot;562129&quot;</td><td>&quot;22430&quot;</td><td>&quot;ENAMEL WATERING CAN CREAM&quot;</td><td>4</td><td>&quot;8/3/2011 9:09&quot;</td><td>4.95</td><td>13186</td><td>&quot;United Kingdom&quot;</td></tr><tr><td>&quot;568060&quot;</td><td>&quot;84945&quot;</td><td>&quot;MULTI COLOUR SILVER T-LIGHT HO…</td><td>12</td><td>&quot;9/23/2011 13:11&quot;</td><td>0.85</td><td>14546</td><td>&quot;United Kingdom&quot;</td></tr><tr><td>&quot;575837&quot;</td><td>&quot;23483&quot;</td><td>&quot;HANGING&nbsp;&nbsp;BUTTERFLY T-LIGHT HOL…</td><td>18</td><td>&quot;11/11/2011 11:37&quot;</td><td>1.25</td><td>12748</td><td>&quot;United Kingdom&quot;</td></tr><tr><td>&quot;566408&quot;</td><td>&quot;23415&quot;</td><td>&quot;HOME SWEET HOME HOOK&quot;</td><td>5</td><td>&quot;9/12/2011 13:43&quot;</td><td>1.65</td><td>16984</td><td>&quot;United Kingdom&quot;</td></tr><tr><td>&hellip;</td><td>&hellip;</td><td>&hellip;</td><td>&hellip;</td><td>&hellip;</td><td>&hellip;</td><td>&hellip;</td><td>&hellip;</td></tr><tr><td>&quot;570637&quot;</td><td>&quot;85099B&quot;</td><td>&quot;JUMBO BAG RED RETROSPOT&quot;</td><td>10</td><td>&quot;10/11/2011 12:34&quot;</td><td>2.08</td><td>12530</td><td>&quot;Germany&quot;</td></tr><tr><td>&quot;552883&quot;</td><td>&quot;21672&quot;</td><td>&quot;WHITE SPOT RED CERAMIC DRAWER …</td><td>96</td><td>&quot;5/12/2011 10:13&quot;</td><td>1.06</td><td>14646</td><td>&quot;Netherlands&quot;</td></tr><tr><td>&quot;555405&quot;</td><td>&quot;23147&quot;</td><td>&quot;SINGLE ANTIQUE ROSE HOOK IVORY&quot;</td><td>12</td><td>&quot;6/2/2011 19:17&quot;</td><td>1.45</td><td>17531</td><td>&quot;United Kingdom&quot;</td></tr><tr><td>&quot;569026&quot;</td><td>&quot;23322&quot;</td><td>&quot;LARGE WHITE HEART OF WICKER&quot;</td><td>6</td><td>&quot;9/30/2011 10:18&quot;</td><td>2.95</td><td>16101</td><td>&quot;United Kingdom&quot;</td></tr><tr><td>&quot;577167&quot;</td><td>&quot;23390&quot;</td><td>&quot;DOLLY GIRL MINI BACKPACK&quot;</td><td>2</td><td>&quot;11/18/2011 10:41&quot;</td><td>4.15</td><td>16511</td><td>&quot;United Kingdom&quot;</td></tr></tbody></table></div>"
            ],
            "text/plain": [
              "shape: (392_732, 8)\n",
              "┌───────────┬───────────┬────────────┬──────────┬────────────┬───────────┬────────────┬────────────┐\n",
              "│ InvoiceNo ┆ StockCode ┆ Descriptio ┆ Quantity ┆ InvoiceDat ┆ UnitPrice ┆ CustomerID ┆ Country    │\n",
              "│ ---       ┆ ---       ┆ n          ┆ ---      ┆ e          ┆ ---       ┆ ---        ┆ ---        │\n",
              "│ str       ┆ str       ┆ ---        ┆ i64      ┆ ---        ┆ f64       ┆ i64        ┆ str        │\n",
              "│           ┆           ┆ str        ┆          ┆ str        ┆           ┆            ┆            │\n",
              "╞═══════════╪═══════════╪════════════╪══════════╪════════════╪═══════════╪════════════╪════════════╡\n",
              "│ 559672    ┆ 85071B    ┆ RED CHARLI ┆ 18       ┆ 7/11/2011  ┆ 0.39      ┆ 14796      ┆ United     │\n",
              "│           ┆           ┆ E+LOLA     ┆          ┆ 14:04      ┆           ┆            ┆ Kingdom    │\n",
              "│           ┆           ┆ PERSONAL   ┆          ┆            ┆           ┆            ┆            │\n",
              "│           ┆           ┆ DOOR…      ┆          ┆            ┆           ┆            ┆            │\n",
              "│ 562129    ┆ 22430     ┆ ENAMEL     ┆ 4        ┆ 8/3/2011   ┆ 4.95      ┆ 13186      ┆ United     │\n",
              "│           ┆           ┆ WATERING   ┆          ┆ 9:09       ┆           ┆            ┆ Kingdom    │\n",
              "│           ┆           ┆ CAN CREAM  ┆          ┆            ┆           ┆            ┆            │\n",
              "│ 568060    ┆ 84945     ┆ MULTI      ┆ 12       ┆ 9/23/2011  ┆ 0.85      ┆ 14546      ┆ United     │\n",
              "│           ┆           ┆ COLOUR     ┆          ┆ 13:11      ┆           ┆            ┆ Kingdom    │\n",
              "│           ┆           ┆ SILVER     ┆          ┆            ┆           ┆            ┆            │\n",
              "│           ┆           ┆ T-LIGHT    ┆          ┆            ┆           ┆            ┆            │\n",
              "│           ┆           ┆ HO…        ┆          ┆            ┆           ┆            ┆            │\n",
              "│ 575837    ┆ 23483     ┆ HANGING    ┆ 18       ┆ 11/11/2011 ┆ 1.25      ┆ 12748      ┆ United     │\n",
              "│           ┆           ┆ BUTTERFLY  ┆          ┆ 11:37      ┆           ┆            ┆ Kingdom    │\n",
              "│           ┆           ┆ T-LIGHT    ┆          ┆            ┆           ┆            ┆            │\n",
              "│           ┆           ┆ HOL…       ┆          ┆            ┆           ┆            ┆            │\n",
              "│ 566408    ┆ 23415     ┆ HOME SWEET ┆ 5        ┆ 9/12/2011  ┆ 1.65      ┆ 16984      ┆ United     │\n",
              "│           ┆           ┆ HOME HOOK  ┆          ┆ 13:43      ┆           ┆            ┆ Kingdom    │\n",
              "│ …         ┆ …         ┆ …          ┆ …        ┆ …          ┆ …         ┆ …          ┆ …          │\n",
              "│ 570637    ┆ 85099B    ┆ JUMBO BAG  ┆ 10       ┆ 10/11/2011 ┆ 2.08      ┆ 12530      ┆ Germany    │\n",
              "│           ┆           ┆ RED        ┆          ┆ 12:34      ┆           ┆            ┆            │\n",
              "│           ┆           ┆ RETROSPOT  ┆          ┆            ┆           ┆            ┆            │\n",
              "│ 552883    ┆ 21672     ┆ WHITE SPOT ┆ 96       ┆ 5/12/2011  ┆ 1.06      ┆ 14646      ┆ Netherland │\n",
              "│           ┆           ┆ RED        ┆          ┆ 10:13      ┆           ┆            ┆ s          │\n",
              "│           ┆           ┆ CERAMIC    ┆          ┆            ┆           ┆            ┆            │\n",
              "│           ┆           ┆ DRAWER …   ┆          ┆            ┆           ┆            ┆            │\n",
              "│ 555405    ┆ 23147     ┆ SINGLE     ┆ 12       ┆ 6/2/2011   ┆ 1.45      ┆ 17531      ┆ United     │\n",
              "│           ┆           ┆ ANTIQUE    ┆          ┆ 19:17      ┆           ┆            ┆ Kingdom    │\n",
              "│           ┆           ┆ ROSE HOOK  ┆          ┆            ┆           ┆            ┆            │\n",
              "│           ┆           ┆ IVORY      ┆          ┆            ┆           ┆            ┆            │\n",
              "│ 569026    ┆ 23322     ┆ LARGE      ┆ 6        ┆ 9/30/2011  ┆ 2.95      ┆ 16101      ┆ United     │\n",
              "│           ┆           ┆ WHITE      ┆          ┆ 10:18      ┆           ┆            ┆ Kingdom    │\n",
              "│           ┆           ┆ HEART OF   ┆          ┆            ┆           ┆            ┆            │\n",
              "│           ┆           ┆ WICKER     ┆          ┆            ┆           ┆            ┆            │\n",
              "│ 577167    ┆ 23390     ┆ DOLLY GIRL ┆ 2        ┆ 11/18/2011 ┆ 4.15      ┆ 16511      ┆ United     │\n",
              "│           ┆           ┆ MINI       ┆          ┆ 10:41      ┆           ┆            ┆ Kingdom    │\n",
              "│           ┆           ┆ BACKPACK   ┆          ┆            ┆           ┆            ┆            │\n",
              "└───────────┴───────────┴────────────┴──────────┴────────────┴───────────┴────────────┴────────────┘"
            ]
          },
          "execution_count": 145,
          "metadata": {},
          "output_type": "execute_result"
        }
      ],
      "source": [
        "df = df.filter(~((pl.col(\"Quantity\") < 0) | (pl.col(\"UnitPrice\") < 0)))\n",
        "df\n"
      ]
    },
    {
      "cell_type": "markdown",
      "metadata": {
        "id": "0M60htNkiEgh"
      },
      "source": [
        "Es el turno de la fecha de facturacion, vamos a transformar la columna a tipo date"
      ]
    },
    {
      "cell_type": "code",
      "execution_count": 146,
      "metadata": {
        "id": "WnbcfF7qiEgi",
        "outputId": "0ebdffce-1d03-4273-a7b0-fa21f64a0681"
      },
      "outputs": [
        {
          "data": {
            "text/html": [
              "<div><style>\n",
              ".dataframe > thead > tr,\n",
              ".dataframe > tbody > tr {\n",
              "  text-align: right;\n",
              "  white-space: pre-wrap;\n",
              "}\n",
              "</style>\n",
              "<small>shape: (392_732, 8)</small><table border=\"1\" class=\"dataframe\"><thead><tr><th>InvoiceNo</th><th>StockCode</th><th>Description</th><th>Quantity</th><th>InvoiceDate</th><th>UnitPrice</th><th>CustomerID</th><th>Country</th></tr><tr><td>str</td><td>str</td><td>str</td><td>i64</td><td>date</td><td>f64</td><td>i64</td><td>str</td></tr></thead><tbody><tr><td>&quot;559672&quot;</td><td>&quot;85071B&quot;</td><td>&quot;RED CHARLIE+LOLA PERSONAL DOOR…</td><td>18</td><td>2011-07-11</td><td>0.39</td><td>14796</td><td>&quot;United Kingdom&quot;</td></tr><tr><td>&quot;562129&quot;</td><td>&quot;22430&quot;</td><td>&quot;ENAMEL WATERING CAN CREAM&quot;</td><td>4</td><td>2011-08-03</td><td>4.95</td><td>13186</td><td>&quot;United Kingdom&quot;</td></tr><tr><td>&quot;568060&quot;</td><td>&quot;84945&quot;</td><td>&quot;MULTI COLOUR SILVER T-LIGHT HO…</td><td>12</td><td>2011-09-23</td><td>0.85</td><td>14546</td><td>&quot;United Kingdom&quot;</td></tr><tr><td>&quot;575837&quot;</td><td>&quot;23483&quot;</td><td>&quot;HANGING&nbsp;&nbsp;BUTTERFLY T-LIGHT HOL…</td><td>18</td><td>2011-11-11</td><td>1.25</td><td>12748</td><td>&quot;United Kingdom&quot;</td></tr><tr><td>&quot;566408&quot;</td><td>&quot;23415&quot;</td><td>&quot;HOME SWEET HOME HOOK&quot;</td><td>5</td><td>2011-09-12</td><td>1.65</td><td>16984</td><td>&quot;United Kingdom&quot;</td></tr><tr><td>&hellip;</td><td>&hellip;</td><td>&hellip;</td><td>&hellip;</td><td>&hellip;</td><td>&hellip;</td><td>&hellip;</td><td>&hellip;</td></tr><tr><td>&quot;570637&quot;</td><td>&quot;85099B&quot;</td><td>&quot;JUMBO BAG RED RETROSPOT&quot;</td><td>10</td><td>2011-10-11</td><td>2.08</td><td>12530</td><td>&quot;Germany&quot;</td></tr><tr><td>&quot;552883&quot;</td><td>&quot;21672&quot;</td><td>&quot;WHITE SPOT RED CERAMIC DRAWER …</td><td>96</td><td>2011-05-12</td><td>1.06</td><td>14646</td><td>&quot;Netherlands&quot;</td></tr><tr><td>&quot;555405&quot;</td><td>&quot;23147&quot;</td><td>&quot;SINGLE ANTIQUE ROSE HOOK IVORY&quot;</td><td>12</td><td>2011-06-02</td><td>1.45</td><td>17531</td><td>&quot;United Kingdom&quot;</td></tr><tr><td>&quot;569026&quot;</td><td>&quot;23322&quot;</td><td>&quot;LARGE WHITE HEART OF WICKER&quot;</td><td>6</td><td>2011-09-30</td><td>2.95</td><td>16101</td><td>&quot;United Kingdom&quot;</td></tr><tr><td>&quot;577167&quot;</td><td>&quot;23390&quot;</td><td>&quot;DOLLY GIRL MINI BACKPACK&quot;</td><td>2</td><td>2011-11-18</td><td>4.15</td><td>16511</td><td>&quot;United Kingdom&quot;</td></tr></tbody></table></div>"
            ],
            "text/plain": [
              "shape: (392_732, 8)\n",
              "┌───────────┬───────────┬────────────┬──────────┬────────────┬───────────┬────────────┬────────────┐\n",
              "│ InvoiceNo ┆ StockCode ┆ Descriptio ┆ Quantity ┆ InvoiceDat ┆ UnitPrice ┆ CustomerID ┆ Country    │\n",
              "│ ---       ┆ ---       ┆ n          ┆ ---      ┆ e          ┆ ---       ┆ ---        ┆ ---        │\n",
              "│ str       ┆ str       ┆ ---        ┆ i64      ┆ ---        ┆ f64       ┆ i64        ┆ str        │\n",
              "│           ┆           ┆ str        ┆          ┆ date       ┆           ┆            ┆            │\n",
              "╞═══════════╪═══════════╪════════════╪══════════╪════════════╪═══════════╪════════════╪════════════╡\n",
              "│ 559672    ┆ 85071B    ┆ RED CHARLI ┆ 18       ┆ 2011-07-11 ┆ 0.39      ┆ 14796      ┆ United     │\n",
              "│           ┆           ┆ E+LOLA     ┆          ┆            ┆           ┆            ┆ Kingdom    │\n",
              "│           ┆           ┆ PERSONAL   ┆          ┆            ┆           ┆            ┆            │\n",
              "│           ┆           ┆ DOOR…      ┆          ┆            ┆           ┆            ┆            │\n",
              "│ 562129    ┆ 22430     ┆ ENAMEL     ┆ 4        ┆ 2011-08-03 ┆ 4.95      ┆ 13186      ┆ United     │\n",
              "│           ┆           ┆ WATERING   ┆          ┆            ┆           ┆            ┆ Kingdom    │\n",
              "│           ┆           ┆ CAN CREAM  ┆          ┆            ┆           ┆            ┆            │\n",
              "│ 568060    ┆ 84945     ┆ MULTI      ┆ 12       ┆ 2011-09-23 ┆ 0.85      ┆ 14546      ┆ United     │\n",
              "│           ┆           ┆ COLOUR     ┆          ┆            ┆           ┆            ┆ Kingdom    │\n",
              "│           ┆           ┆ SILVER     ┆          ┆            ┆           ┆            ┆            │\n",
              "│           ┆           ┆ T-LIGHT    ┆          ┆            ┆           ┆            ┆            │\n",
              "│           ┆           ┆ HO…        ┆          ┆            ┆           ┆            ┆            │\n",
              "│ 575837    ┆ 23483     ┆ HANGING    ┆ 18       ┆ 2011-11-11 ┆ 1.25      ┆ 12748      ┆ United     │\n",
              "│           ┆           ┆ BUTTERFLY  ┆          ┆            ┆           ┆            ┆ Kingdom    │\n",
              "│           ┆           ┆ T-LIGHT    ┆          ┆            ┆           ┆            ┆            │\n",
              "│           ┆           ┆ HOL…       ┆          ┆            ┆           ┆            ┆            │\n",
              "│ 566408    ┆ 23415     ┆ HOME SWEET ┆ 5        ┆ 2011-09-12 ┆ 1.65      ┆ 16984      ┆ United     │\n",
              "│           ┆           ┆ HOME HOOK  ┆          ┆            ┆           ┆            ┆ Kingdom    │\n",
              "│ …         ┆ …         ┆ …          ┆ …        ┆ …          ┆ …         ┆ …          ┆ …          │\n",
              "│ 570637    ┆ 85099B    ┆ JUMBO BAG  ┆ 10       ┆ 2011-10-11 ┆ 2.08      ┆ 12530      ┆ Germany    │\n",
              "│           ┆           ┆ RED        ┆          ┆            ┆           ┆            ┆            │\n",
              "│           ┆           ┆ RETROSPOT  ┆          ┆            ┆           ┆            ┆            │\n",
              "│ 552883    ┆ 21672     ┆ WHITE SPOT ┆ 96       ┆ 2011-05-12 ┆ 1.06      ┆ 14646      ┆ Netherland │\n",
              "│           ┆           ┆ RED        ┆          ┆            ┆           ┆            ┆ s          │\n",
              "│           ┆           ┆ CERAMIC    ┆          ┆            ┆           ┆            ┆            │\n",
              "│           ┆           ┆ DRAWER …   ┆          ┆            ┆           ┆            ┆            │\n",
              "│ 555405    ┆ 23147     ┆ SINGLE     ┆ 12       ┆ 2011-06-02 ┆ 1.45      ┆ 17531      ┆ United     │\n",
              "│           ┆           ┆ ANTIQUE    ┆          ┆            ┆           ┆            ┆ Kingdom    │\n",
              "│           ┆           ┆ ROSE HOOK  ┆          ┆            ┆           ┆            ┆            │\n",
              "│           ┆           ┆ IVORY      ┆          ┆            ┆           ┆            ┆            │\n",
              "│ 569026    ┆ 23322     ┆ LARGE      ┆ 6        ┆ 2011-09-30 ┆ 2.95      ┆ 16101      ┆ United     │\n",
              "│           ┆           ┆ WHITE      ┆          ┆            ┆           ┆            ┆ Kingdom    │\n",
              "│           ┆           ┆ HEART OF   ┆          ┆            ┆           ┆            ┆            │\n",
              "│           ┆           ┆ WICKER     ┆          ┆            ┆           ┆            ┆            │\n",
              "│ 577167    ┆ 23390     ┆ DOLLY GIRL ┆ 2        ┆ 2011-11-18 ┆ 4.15      ┆ 16511      ┆ United     │\n",
              "│           ┆           ┆ MINI       ┆          ┆            ┆           ┆            ┆ Kingdom    │\n",
              "│           ┆           ┆ BACKPACK   ┆          ┆            ┆           ┆            ┆            │\n",
              "└───────────┴───────────┴────────────┴──────────┴────────────┴───────────┴────────────┴────────────┘"
            ]
          },
          "execution_count": 146,
          "metadata": {},
          "output_type": "execute_result"
        }
      ],
      "source": [
        "df = df.with_columns(pl.col(\"InvoiceDate\").str.strptime(pl.Date, \"%m/%d/%Y %H:%M\"))\n",
        "df\n"
      ]
    },
    {
      "cell_type": "markdown",
      "metadata": {
        "id": "_DbC0IkgiEgi"
      },
      "source": [
        "Lo siguiente sera buscar algun outliers, para evitar la distorsion de los patrones, la no normalizacion de los datos y que no afecten a la precisión del modelo."
      ]
    },
    {
      "cell_type": "code",
      "execution_count": 147,
      "metadata": {
        "id": "iZ-g0w_MiEgi",
        "outputId": "f1c6268c-001d-4232-bcb8-ad7179e43049"
      },
      "outputs": [
        {
          "data": {
            "text/html": [
              "<div><style>\n",
              ".dataframe > thead > tr,\n",
              ".dataframe > tbody > tr {\n",
              "  text-align: right;\n",
              "  white-space: pre-wrap;\n",
              "}\n",
              "</style>\n",
              "<small>shape: (9, 9)</small><table border=\"1\" class=\"dataframe\"><thead><tr><th>statistic</th><th>InvoiceNo</th><th>StockCode</th><th>Description</th><th>Quantity</th><th>InvoiceDate</th><th>UnitPrice</th><th>CustomerID</th><th>Country</th></tr><tr><td>str</td><td>str</td><td>str</td><td>str</td><td>f64</td><td>str</td><td>f64</td><td>f64</td><td>str</td></tr></thead><tbody><tr><td>&quot;count&quot;</td><td>&quot;392732&quot;</td><td>&quot;392732&quot;</td><td>&quot;392732&quot;</td><td>392732.0</td><td>&quot;392732&quot;</td><td>392732.0</td><td>392732.0</td><td>&quot;392732&quot;</td></tr><tr><td>&quot;null_count&quot;</td><td>&quot;0&quot;</td><td>&quot;0&quot;</td><td>&quot;0&quot;</td><td>0.0</td><td>&quot;0&quot;</td><td>0.0</td><td>0.0</td><td>&quot;0&quot;</td></tr><tr><td>&quot;mean&quot;</td><td>null</td><td>null</td><td>null</td><td>13.153718</td><td>&quot;2011-07-10 06:01:42.518000&quot;</td><td>3.125596</td><td>15287.734822</td><td>null</td></tr><tr><td>&quot;std&quot;</td><td>null</td><td>null</td><td>null</td><td>181.58842</td><td>null</td><td>22.240725</td><td>1713.567773</td><td>null</td></tr><tr><td>&quot;min&quot;</td><td>&quot;536365&quot;</td><td>&quot;10002&quot;</td><td>&quot; 4 PURPLE FLOCK DINNER CANDLES&quot;</td><td>1.0</td><td>&quot;2010-12-01&quot;</td><td>0.0</td><td>12346.0</td><td>&quot;Australia&quot;</td></tr><tr><td>&quot;25%&quot;</td><td>null</td><td>null</td><td>null</td><td>2.0</td><td>&quot;2011-04-07&quot;</td><td>1.25</td><td>13955.0</td><td>null</td></tr><tr><td>&quot;50%&quot;</td><td>null</td><td>null</td><td>null</td><td>6.0</td><td>&quot;2011-07-31&quot;</td><td>1.95</td><td>15150.0</td><td>null</td></tr><tr><td>&quot;75%&quot;</td><td>null</td><td>null</td><td>null</td><td>12.0</td><td>&quot;2011-10-20&quot;</td><td>3.75</td><td>16791.0</td><td>null</td></tr><tr><td>&quot;max&quot;</td><td>&quot;581587&quot;</td><td>&quot;POST&quot;</td><td>&quot;ZINC WIRE SWEETHEART LETTER TR…</td><td>80995.0</td><td>&quot;2011-12-09&quot;</td><td>8142.75</td><td>18287.0</td><td>&quot;Unspecified&quot;</td></tr></tbody></table></div>"
            ],
            "text/plain": [
              "shape: (9, 9)\n",
              "┌───────────┬───────────┬───────────┬───────────┬───┬───────────┬───────────┬───────────┬──────────┐\n",
              "│ statistic ┆ InvoiceNo ┆ StockCode ┆ Descripti ┆ … ┆ InvoiceDa ┆ UnitPrice ┆ CustomerI ┆ Country  │\n",
              "│ ---       ┆ ---       ┆ ---       ┆ on        ┆   ┆ te        ┆ ---       ┆ D         ┆ ---      │\n",
              "│ str       ┆ str       ┆ str       ┆ ---       ┆   ┆ ---       ┆ f64       ┆ ---       ┆ str      │\n",
              "│           ┆           ┆           ┆ str       ┆   ┆ str       ┆           ┆ f64       ┆          │\n",
              "╞═══════════╪═══════════╪═══════════╪═══════════╪═══╪═══════════╪═══════════╪═══════════╪══════════╡\n",
              "│ count     ┆ 392732    ┆ 392732    ┆ 392732    ┆ … ┆ 392732    ┆ 392732.0  ┆ 392732.0  ┆ 392732   │\n",
              "│ null_coun ┆ 0         ┆ 0         ┆ 0         ┆ … ┆ 0         ┆ 0.0       ┆ 0.0       ┆ 0        │\n",
              "│ t         ┆           ┆           ┆           ┆   ┆           ┆           ┆           ┆          │\n",
              "│ mean      ┆ null      ┆ null      ┆ null      ┆ … ┆ 2011-07-1 ┆ 3.125596  ┆ 15287.734 ┆ null     │\n",
              "│           ┆           ┆           ┆           ┆   ┆ 0 06:01:4 ┆           ┆ 822       ┆          │\n",
              "│           ┆           ┆           ┆           ┆   ┆ 2.518000  ┆           ┆           ┆          │\n",
              "│ std       ┆ null      ┆ null      ┆ null      ┆ … ┆ null      ┆ 22.240725 ┆ 1713.5677 ┆ null     │\n",
              "│           ┆           ┆           ┆           ┆   ┆           ┆           ┆ 73        ┆          │\n",
              "│ min       ┆ 536365    ┆ 10002     ┆ 4 PURPLE  ┆ … ┆ 2010-12-0 ┆ 0.0       ┆ 12346.0   ┆ Australi │\n",
              "│           ┆           ┆           ┆ FLOCK     ┆   ┆ 1         ┆           ┆           ┆ a        │\n",
              "│           ┆           ┆           ┆ DINNER    ┆   ┆           ┆           ┆           ┆          │\n",
              "│           ┆           ┆           ┆ CANDLES   ┆   ┆           ┆           ┆           ┆          │\n",
              "│ 25%       ┆ null      ┆ null      ┆ null      ┆ … ┆ 2011-04-0 ┆ 1.25      ┆ 13955.0   ┆ null     │\n",
              "│           ┆           ┆           ┆           ┆   ┆ 7         ┆           ┆           ┆          │\n",
              "│ 50%       ┆ null      ┆ null      ┆ null      ┆ … ┆ 2011-07-3 ┆ 1.95      ┆ 15150.0   ┆ null     │\n",
              "│           ┆           ┆           ┆           ┆   ┆ 1         ┆           ┆           ┆          │\n",
              "│ 75%       ┆ null      ┆ null      ┆ null      ┆ … ┆ 2011-10-2 ┆ 3.75      ┆ 16791.0   ┆ null     │\n",
              "│           ┆           ┆           ┆           ┆   ┆ 0         ┆           ┆           ┆          │\n",
              "│ max       ┆ 581587    ┆ POST      ┆ ZINC WIRE ┆ … ┆ 2011-12-0 ┆ 8142.75   ┆ 18287.0   ┆ Unspecif │\n",
              "│           ┆           ┆           ┆ SWEETHEAR ┆   ┆ 9         ┆           ┆           ┆ ied      │\n",
              "│           ┆           ┆           ┆ T LETTER  ┆   ┆           ┆           ┆           ┆          │\n",
              "│           ┆           ┆           ┆ TR…       ┆   ┆           ┆           ┆           ┆          │\n",
              "└───────────┴───────────┴───────────┴───────────┴───┴───────────┴───────────┴───────────┴──────────┘"
            ]
          },
          "execution_count": 147,
          "metadata": {},
          "output_type": "execute_result"
        }
      ],
      "source": [
        "df.describe()\n"
      ]
    },
    {
      "cell_type": "markdown",
      "metadata": {},
      "source": [
        "no vamos a liminar las compras que tengan precio de 0, porque entendemos que son regalos de la tienda y ademas nos puede venir bien para agrupar clientes que solo compren cuando hay cosas gratuitas"
      ]
    },
    {
      "cell_type": "markdown",
      "metadata": {
        "id": "ctuFDKpjiEgi"
      },
      "source": [
        "Siguiendo con las cosas un poco raras que habiamos detectado, en la columna Country habiamos visto un \"unspecified\""
      ]
    },
    {
      "cell_type": "code",
      "execution_count": 148,
      "metadata": {
        "id": "zlQHJpr2iEgi",
        "outputId": "76ea206d-5880-4653-dc2d-629ea93e5dba"
      },
      "outputs": [
        {
          "data": {
            "text/html": [
              "<div><style>\n",
              ".dataframe > thead > tr,\n",
              ".dataframe > tbody > tr {\n",
              "  text-align: right;\n",
              "  white-space: pre-wrap;\n",
              "}\n",
              "</style>\n",
              "<small>shape: (241, 8)</small><table border=\"1\" class=\"dataframe\"><thead><tr><th>InvoiceNo</th><th>StockCode</th><th>Description</th><th>Quantity</th><th>InvoiceDate</th><th>UnitPrice</th><th>CustomerID</th><th>Country</th></tr><tr><td>str</td><td>str</td><td>str</td><td>i64</td><td>date</td><td>f64</td><td>i64</td><td>str</td></tr></thead><tbody><tr><td>&quot;559929&quot;</td><td>&quot;22960&quot;</td><td>&quot;JAM MAKING SET WITH JARS&quot;</td><td>6</td><td>2011-07-14</td><td>4.25</td><td>14265</td><td>&quot;Unspecified&quot;</td></tr><tr><td>&quot;552695&quot;</td><td>&quot;22413&quot;</td><td>&quot;METAL SIGN TAKE IT OR LEAVE IT…</td><td>6</td><td>2011-05-10</td><td>2.95</td><td>16320</td><td>&quot;Unspecified&quot;</td></tr><tr><td>&quot;561658&quot;</td><td>&quot;22604&quot;</td><td>&quot;SET OF 4 NAPKIN CHARMS CUTLERY&quot;</td><td>2</td><td>2011-07-28</td><td>2.55</td><td>12743</td><td>&quot;Unspecified&quot;</td></tr><tr><td>&quot;561661&quot;</td><td>&quot;22289&quot;</td><td>&quot;HANGING METAL CHICKEN DECORATI…</td><td>2</td><td>2011-07-28</td><td>1.25</td><td>12743</td><td>&quot;Unspecified&quot;</td></tr><tr><td>&quot;552695&quot;</td><td>&quot;22960&quot;</td><td>&quot;JAM MAKING SET WITH JARS&quot;</td><td>12</td><td>2011-05-10</td><td>3.75</td><td>16320</td><td>&quot;Unspecified&quot;</td></tr><tr><td>&hellip;</td><td>&hellip;</td><td>&hellip;</td><td>&hellip;</td><td>&hellip;</td><td>&hellip;</td><td>&hellip;</td><td>&hellip;</td></tr><tr><td>&quot;561658&quot;</td><td>&quot;21002&quot;</td><td>&quot;ROSE DU SUD DRAWSTRING BAG&quot;</td><td>2</td><td>2011-07-28</td><td>4.25</td><td>12743</td><td>&quot;Unspecified&quot;</td></tr><tr><td>&quot;564051&quot;</td><td>&quot;23046&quot;</td><td>&quot;PAPER LANTERN 9 POINT DELUXE S…</td><td>2</td><td>2011-08-22</td><td>6.65</td><td>14265</td><td>&quot;Unspecified&quot;</td></tr><tr><td>&quot;559929&quot;</td><td>&quot;21628&quot;</td><td>&quot;TRIANGULAR POUFFE VINTAGE &quot;</td><td>2</td><td>2011-07-14</td><td>14.95</td><td>14265</td><td>&quot;Unspecified&quot;</td></tr><tr><td>&quot;561658&quot;</td><td>&quot;22139&quot;</td><td>&quot;RETROSPOT TEA SET CERAMIC 11 P…</td><td>2</td><td>2011-07-28</td><td>4.95</td><td>12743</td><td>&quot;Unspecified&quot;</td></tr><tr><td>&quot;561658&quot;</td><td>&quot;35968&quot;</td><td>&quot;FOLK ART METAL HEART T-LIGHT H…</td><td>5</td><td>2011-07-28</td><td>0.38</td><td>12743</td><td>&quot;Unspecified&quot;</td></tr></tbody></table></div>"
            ],
            "text/plain": [
              "shape: (241, 8)\n",
              "┌───────────┬───────────┬────────────┬──────────┬────────────┬───────────┬────────────┬────────────┐\n",
              "│ InvoiceNo ┆ StockCode ┆ Descriptio ┆ Quantity ┆ InvoiceDat ┆ UnitPrice ┆ CustomerID ┆ Country    │\n",
              "│ ---       ┆ ---       ┆ n          ┆ ---      ┆ e          ┆ ---       ┆ ---        ┆ ---        │\n",
              "│ str       ┆ str       ┆ ---        ┆ i64      ┆ ---        ┆ f64       ┆ i64        ┆ str        │\n",
              "│           ┆           ┆ str        ┆          ┆ date       ┆           ┆            ┆            │\n",
              "╞═══════════╪═══════════╪════════════╪══════════╪════════════╪═══════════╪════════════╪════════════╡\n",
              "│ 559929    ┆ 22960     ┆ JAM MAKING ┆ 6        ┆ 2011-07-14 ┆ 4.25      ┆ 14265      ┆ Unspecifie │\n",
              "│           ┆           ┆ SET WITH   ┆          ┆            ┆           ┆            ┆ d          │\n",
              "│           ┆           ┆ JARS       ┆          ┆            ┆           ┆            ┆            │\n",
              "│ 552695    ┆ 22413     ┆ METAL SIGN ┆ 6        ┆ 2011-05-10 ┆ 2.95      ┆ 16320      ┆ Unspecifie │\n",
              "│           ┆           ┆ TAKE IT OR ┆          ┆            ┆           ┆            ┆ d          │\n",
              "│           ┆           ┆ LEAVE IT…  ┆          ┆            ┆           ┆            ┆            │\n",
              "│ 561658    ┆ 22604     ┆ SET OF 4   ┆ 2        ┆ 2011-07-28 ┆ 2.55      ┆ 12743      ┆ Unspecifie │\n",
              "│           ┆           ┆ NAPKIN     ┆          ┆            ┆           ┆            ┆ d          │\n",
              "│           ┆           ┆ CHARMS     ┆          ┆            ┆           ┆            ┆            │\n",
              "│           ┆           ┆ CUTLERY    ┆          ┆            ┆           ┆            ┆            │\n",
              "│ 561661    ┆ 22289     ┆ HANGING    ┆ 2        ┆ 2011-07-28 ┆ 1.25      ┆ 12743      ┆ Unspecifie │\n",
              "│           ┆           ┆ METAL      ┆          ┆            ┆           ┆            ┆ d          │\n",
              "│           ┆           ┆ CHICKEN    ┆          ┆            ┆           ┆            ┆            │\n",
              "│           ┆           ┆ DECORATI…  ┆          ┆            ┆           ┆            ┆            │\n",
              "│ 552695    ┆ 22960     ┆ JAM MAKING ┆ 12       ┆ 2011-05-10 ┆ 3.75      ┆ 16320      ┆ Unspecifie │\n",
              "│           ┆           ┆ SET WITH   ┆          ┆            ┆           ┆            ┆ d          │\n",
              "│           ┆           ┆ JARS       ┆          ┆            ┆           ┆            ┆            │\n",
              "│ …         ┆ …         ┆ …          ┆ …        ┆ …          ┆ …         ┆ …          ┆ …          │\n",
              "│ 561658    ┆ 21002     ┆ ROSE DU    ┆ 2        ┆ 2011-07-28 ┆ 4.25      ┆ 12743      ┆ Unspecifie │\n",
              "│           ┆           ┆ SUD        ┆          ┆            ┆           ┆            ┆ d          │\n",
              "│           ┆           ┆ DRAWSTRING ┆          ┆            ┆           ┆            ┆            │\n",
              "│           ┆           ┆ BAG        ┆          ┆            ┆           ┆            ┆            │\n",
              "│ 564051    ┆ 23046     ┆ PAPER      ┆ 2        ┆ 2011-08-22 ┆ 6.65      ┆ 14265      ┆ Unspecifie │\n",
              "│           ┆           ┆ LANTERN 9  ┆          ┆            ┆           ┆            ┆ d          │\n",
              "│           ┆           ┆ POINT      ┆          ┆            ┆           ┆            ┆            │\n",
              "│           ┆           ┆ DELUXE S…  ┆          ┆            ┆           ┆            ┆            │\n",
              "│ 559929    ┆ 21628     ┆ TRIANGULAR ┆ 2        ┆ 2011-07-14 ┆ 14.95     ┆ 14265      ┆ Unspecifie │\n",
              "│           ┆           ┆ POUFFE     ┆          ┆            ┆           ┆            ┆ d          │\n",
              "│           ┆           ┆ VINTAGE    ┆          ┆            ┆           ┆            ┆            │\n",
              "│ 561658    ┆ 22139     ┆ RETROSPOT  ┆ 2        ┆ 2011-07-28 ┆ 4.95      ┆ 12743      ┆ Unspecifie │\n",
              "│           ┆           ┆ TEA SET    ┆          ┆            ┆           ┆            ┆ d          │\n",
              "│           ┆           ┆ CERAMIC 11 ┆          ┆            ┆           ┆            ┆            │\n",
              "│           ┆           ┆ P…         ┆          ┆            ┆           ┆            ┆            │\n",
              "│ 561658    ┆ 35968     ┆ FOLK ART   ┆ 5        ┆ 2011-07-28 ┆ 0.38      ┆ 12743      ┆ Unspecifie │\n",
              "│           ┆           ┆ METAL      ┆          ┆            ┆           ┆            ┆ d          │\n",
              "│           ┆           ┆ HEART      ┆          ┆            ┆           ┆            ┆            │\n",
              "│           ┆           ┆ T-LIGHT H… ┆          ┆            ┆           ┆            ┆            │\n",
              "└───────────┴───────────┴────────────┴──────────┴────────────┴───────────┴────────────┴────────────┘"
            ]
          },
          "execution_count": 148,
          "metadata": {},
          "output_type": "execute_result"
        }
      ],
      "source": [
        "df.filter(pl.col(\"Country\") == \"Unspecified\" )\n"
      ]
    },
    {
      "cell_type": "markdown",
      "metadata": {
        "id": "-0Ep7WULiEgi"
      },
      "source": [
        "Como en nuestro caso nos parece util y queremos llegar a agrupar las ventas por paises debemos eliminar las filas que contengan \"Unspecified\" en la columna Country."
      ]
    },
    {
      "cell_type": "code",
      "execution_count": 149,
      "metadata": {
        "id": "rBneF_PNiEgj",
        "outputId": "601f0220-bc46-4e76-a9ad-969199bdaf30"
      },
      "outputs": [
        {
          "data": {
            "text/html": [
              "<div><style>\n",
              ".dataframe > thead > tr,\n",
              ".dataframe > tbody > tr {\n",
              "  text-align: right;\n",
              "  white-space: pre-wrap;\n",
              "}\n",
              "</style>\n",
              "<small>shape: (392_491, 8)</small><table border=\"1\" class=\"dataframe\"><thead><tr><th>InvoiceNo</th><th>StockCode</th><th>Description</th><th>Quantity</th><th>InvoiceDate</th><th>UnitPrice</th><th>CustomerID</th><th>Country</th></tr><tr><td>str</td><td>str</td><td>str</td><td>i64</td><td>date</td><td>f64</td><td>i64</td><td>str</td></tr></thead><tbody><tr><td>&quot;559672&quot;</td><td>&quot;85071B&quot;</td><td>&quot;RED CHARLIE+LOLA PERSONAL DOOR…</td><td>18</td><td>2011-07-11</td><td>0.39</td><td>14796</td><td>&quot;United Kingdom&quot;</td></tr><tr><td>&quot;562129&quot;</td><td>&quot;22430&quot;</td><td>&quot;ENAMEL WATERING CAN CREAM&quot;</td><td>4</td><td>2011-08-03</td><td>4.95</td><td>13186</td><td>&quot;United Kingdom&quot;</td></tr><tr><td>&quot;568060&quot;</td><td>&quot;84945&quot;</td><td>&quot;MULTI COLOUR SILVER T-LIGHT HO…</td><td>12</td><td>2011-09-23</td><td>0.85</td><td>14546</td><td>&quot;United Kingdom&quot;</td></tr><tr><td>&quot;575837&quot;</td><td>&quot;23483&quot;</td><td>&quot;HANGING&nbsp;&nbsp;BUTTERFLY T-LIGHT HOL…</td><td>18</td><td>2011-11-11</td><td>1.25</td><td>12748</td><td>&quot;United Kingdom&quot;</td></tr><tr><td>&quot;566408&quot;</td><td>&quot;23415&quot;</td><td>&quot;HOME SWEET HOME HOOK&quot;</td><td>5</td><td>2011-09-12</td><td>1.65</td><td>16984</td><td>&quot;United Kingdom&quot;</td></tr><tr><td>&hellip;</td><td>&hellip;</td><td>&hellip;</td><td>&hellip;</td><td>&hellip;</td><td>&hellip;</td><td>&hellip;</td><td>&hellip;</td></tr><tr><td>&quot;570637&quot;</td><td>&quot;85099B&quot;</td><td>&quot;JUMBO BAG RED RETROSPOT&quot;</td><td>10</td><td>2011-10-11</td><td>2.08</td><td>12530</td><td>&quot;Germany&quot;</td></tr><tr><td>&quot;552883&quot;</td><td>&quot;21672&quot;</td><td>&quot;WHITE SPOT RED CERAMIC DRAWER …</td><td>96</td><td>2011-05-12</td><td>1.06</td><td>14646</td><td>&quot;Netherlands&quot;</td></tr><tr><td>&quot;555405&quot;</td><td>&quot;23147&quot;</td><td>&quot;SINGLE ANTIQUE ROSE HOOK IVORY&quot;</td><td>12</td><td>2011-06-02</td><td>1.45</td><td>17531</td><td>&quot;United Kingdom&quot;</td></tr><tr><td>&quot;569026&quot;</td><td>&quot;23322&quot;</td><td>&quot;LARGE WHITE HEART OF WICKER&quot;</td><td>6</td><td>2011-09-30</td><td>2.95</td><td>16101</td><td>&quot;United Kingdom&quot;</td></tr><tr><td>&quot;577167&quot;</td><td>&quot;23390&quot;</td><td>&quot;DOLLY GIRL MINI BACKPACK&quot;</td><td>2</td><td>2011-11-18</td><td>4.15</td><td>16511</td><td>&quot;United Kingdom&quot;</td></tr></tbody></table></div>"
            ],
            "text/plain": [
              "shape: (392_491, 8)\n",
              "┌───────────┬───────────┬────────────┬──────────┬────────────┬───────────┬────────────┬────────────┐\n",
              "│ InvoiceNo ┆ StockCode ┆ Descriptio ┆ Quantity ┆ InvoiceDat ┆ UnitPrice ┆ CustomerID ┆ Country    │\n",
              "│ ---       ┆ ---       ┆ n          ┆ ---      ┆ e          ┆ ---       ┆ ---        ┆ ---        │\n",
              "│ str       ┆ str       ┆ ---        ┆ i64      ┆ ---        ┆ f64       ┆ i64        ┆ str        │\n",
              "│           ┆           ┆ str        ┆          ┆ date       ┆           ┆            ┆            │\n",
              "╞═══════════╪═══════════╪════════════╪══════════╪════════════╪═══════════╪════════════╪════════════╡\n",
              "│ 559672    ┆ 85071B    ┆ RED CHARLI ┆ 18       ┆ 2011-07-11 ┆ 0.39      ┆ 14796      ┆ United     │\n",
              "│           ┆           ┆ E+LOLA     ┆          ┆            ┆           ┆            ┆ Kingdom    │\n",
              "│           ┆           ┆ PERSONAL   ┆          ┆            ┆           ┆            ┆            │\n",
              "│           ┆           ┆ DOOR…      ┆          ┆            ┆           ┆            ┆            │\n",
              "│ 562129    ┆ 22430     ┆ ENAMEL     ┆ 4        ┆ 2011-08-03 ┆ 4.95      ┆ 13186      ┆ United     │\n",
              "│           ┆           ┆ WATERING   ┆          ┆            ┆           ┆            ┆ Kingdom    │\n",
              "│           ┆           ┆ CAN CREAM  ┆          ┆            ┆           ┆            ┆            │\n",
              "│ 568060    ┆ 84945     ┆ MULTI      ┆ 12       ┆ 2011-09-23 ┆ 0.85      ┆ 14546      ┆ United     │\n",
              "│           ┆           ┆ COLOUR     ┆          ┆            ┆           ┆            ┆ Kingdom    │\n",
              "│           ┆           ┆ SILVER     ┆          ┆            ┆           ┆            ┆            │\n",
              "│           ┆           ┆ T-LIGHT    ┆          ┆            ┆           ┆            ┆            │\n",
              "│           ┆           ┆ HO…        ┆          ┆            ┆           ┆            ┆            │\n",
              "│ 575837    ┆ 23483     ┆ HANGING    ┆ 18       ┆ 2011-11-11 ┆ 1.25      ┆ 12748      ┆ United     │\n",
              "│           ┆           ┆ BUTTERFLY  ┆          ┆            ┆           ┆            ┆ Kingdom    │\n",
              "│           ┆           ┆ T-LIGHT    ┆          ┆            ┆           ┆            ┆            │\n",
              "│           ┆           ┆ HOL…       ┆          ┆            ┆           ┆            ┆            │\n",
              "│ 566408    ┆ 23415     ┆ HOME SWEET ┆ 5        ┆ 2011-09-12 ┆ 1.65      ┆ 16984      ┆ United     │\n",
              "│           ┆           ┆ HOME HOOK  ┆          ┆            ┆           ┆            ┆ Kingdom    │\n",
              "│ …         ┆ …         ┆ …          ┆ …        ┆ …          ┆ …         ┆ …          ┆ …          │\n",
              "│ 570637    ┆ 85099B    ┆ JUMBO BAG  ┆ 10       ┆ 2011-10-11 ┆ 2.08      ┆ 12530      ┆ Germany    │\n",
              "│           ┆           ┆ RED        ┆          ┆            ┆           ┆            ┆            │\n",
              "│           ┆           ┆ RETROSPOT  ┆          ┆            ┆           ┆            ┆            │\n",
              "│ 552883    ┆ 21672     ┆ WHITE SPOT ┆ 96       ┆ 2011-05-12 ┆ 1.06      ┆ 14646      ┆ Netherland │\n",
              "│           ┆           ┆ RED        ┆          ┆            ┆           ┆            ┆ s          │\n",
              "│           ┆           ┆ CERAMIC    ┆          ┆            ┆           ┆            ┆            │\n",
              "│           ┆           ┆ DRAWER …   ┆          ┆            ┆           ┆            ┆            │\n",
              "│ 555405    ┆ 23147     ┆ SINGLE     ┆ 12       ┆ 2011-06-02 ┆ 1.45      ┆ 17531      ┆ United     │\n",
              "│           ┆           ┆ ANTIQUE    ┆          ┆            ┆           ┆            ┆ Kingdom    │\n",
              "│           ┆           ┆ ROSE HOOK  ┆          ┆            ┆           ┆            ┆            │\n",
              "│           ┆           ┆ IVORY      ┆          ┆            ┆           ┆            ┆            │\n",
              "│ 569026    ┆ 23322     ┆ LARGE      ┆ 6        ┆ 2011-09-30 ┆ 2.95      ┆ 16101      ┆ United     │\n",
              "│           ┆           ┆ WHITE      ┆          ┆            ┆           ┆            ┆ Kingdom    │\n",
              "│           ┆           ┆ HEART OF   ┆          ┆            ┆           ┆            ┆            │\n",
              "│           ┆           ┆ WICKER     ┆          ┆            ┆           ┆            ┆            │\n",
              "│ 577167    ┆ 23390     ┆ DOLLY GIRL ┆ 2        ┆ 2011-11-18 ┆ 4.15      ┆ 16511      ┆ United     │\n",
              "│           ┆           ┆ MINI       ┆          ┆            ┆           ┆            ┆ Kingdom    │\n",
              "│           ┆           ┆ BACKPACK   ┆          ┆            ┆           ┆            ┆            │\n",
              "└───────────┴───────────┴────────────┴──────────┴────────────┴───────────┴────────────┴────────────┘"
            ]
          },
          "execution_count": 149,
          "metadata": {},
          "output_type": "execute_result"
        }
      ],
      "source": [
        "df = df.filter(pl.col(\"Country\") != \"Unspecified\" )\n",
        "df"
      ]
    },
    {
      "cell_type": "markdown",
      "metadata": {
        "id": "LgZQoVMfiEgj"
      },
      "source": [
        "Algo raro tambien es que habia valores maximos muy altos en la cantidad y en el precio, es decir tenemos claramente outliers que habiamos detectado antes. Para solucionar esto usaremos la formula del IQR para ddefinir un limite superior e inderior en los valores.\n",
        "los modelos de agrupacion son muy sensibles a los outliers"
      ]
    },
    {
      "cell_type": "code",
      "execution_count": 150,
      "metadata": {
        "id": "Tzh57tRtiEgj",
        "outputId": "5bca8392-be9e-4bb8-a25d-94141b7d7621"
      },
      "outputs": [
        {
          "name": "stdout",
          "output_type": "stream",
          "text": [
            "\n",
            "IQR for Quantity\n",
            "2.0 12.0 10.0 -13.0 27.0\n",
            "\n",
            "IQR for UnitPrice\n",
            "1.25 3.75 2.5 -2.5 7.5\n"
          ]
        }
      ],
      "source": [
        "def calc_iqr_from_column_name(name:str)-> None:\n",
        "    Q1 = df[name].quantile(0.25)\n",
        "    Q3 = df[name].quantile(0.75)\n",
        "    IQR = Q3 - Q1\n",
        "\n",
        "    lower_bound = Q1 - 1.5 * IQR\n",
        "    upper_bound = Q3 + 1.5 * IQR\n",
        "\n",
        "    print(f\"\\nIQR for {name}\")\n",
        "    print(Q1, Q3, IQR, lower_bound, upper_bound)\n",
        "\n",
        "calc_iqr_from_column_name(\"Quantity\")\n",
        "calc_iqr_from_column_name(\"UnitPrice\")"
      ]
    },
    {
      "cell_type": "code",
      "execution_count": 151,
      "metadata": {
        "id": "rQAlFrCSiEgj",
        "outputId": "980263b3-3fae-42f6-df63-29da6e06ff21"
      },
      "outputs": [
        {
          "data": {
            "text/html": [
              "<div><style>\n",
              ".dataframe > thead > tr,\n",
              ".dataframe > tbody > tr {\n",
              "  text-align: right;\n",
              "  white-space: pre-wrap;\n",
              "}\n",
              "</style>\n",
              "<small>shape: (59_436, 8)</small><table border=\"1\" class=\"dataframe\"><thead><tr><th>InvoiceNo</th><th>StockCode</th><th>Description</th><th>Quantity</th><th>InvoiceDate</th><th>UnitPrice</th><th>CustomerID</th><th>Country</th></tr><tr><td>str</td><td>str</td><td>str</td><td>i64</td><td>date</td><td>f64</td><td>i64</td><td>str</td></tr></thead><tbody><tr><td>&quot;570669&quot;</td><td>&quot;23541&quot;</td><td>&quot;WALL ART CLASSIC PUDDINGS &quot;</td><td>2</td><td>2011-10-11</td><td>8.25</td><td>15955</td><td>&quot;United Kingdom&quot;</td></tr><tr><td>&quot;553671&quot;</td><td>&quot;22501&quot;</td><td>&quot;PICNIC BASKET WICKER LARGE&quot;</td><td>1</td><td>2011-05-18</td><td>9.95</td><td>13659</td><td>&quot;United Kingdom&quot;</td></tr><tr><td>&quot;537126&quot;</td><td>&quot;22635&quot;</td><td>&quot;CHILDS BREAKFAST SET DOLLY GIR…</td><td>2</td><td>2010-12-05</td><td>9.95</td><td>18118</td><td>&quot;United Kingdom&quot;</td></tr><tr><td>&quot;539579&quot;</td><td>&quot;22171&quot;</td><td>&quot;3 HOOK PHOTO SHELF ANTIQUE WHI…</td><td>2</td><td>2010-12-20</td><td>8.5</td><td>16713</td><td>&quot;United Kingdom&quot;</td></tr><tr><td>&quot;574882&quot;</td><td>&quot;23558&quot;</td><td>&quot;LANDMARK FRAME LONDON BRIDGE &quot;</td><td>1</td><td>2011-11-07</td><td>12.5</td><td>13599</td><td>&quot;United Kingdom&quot;</td></tr><tr><td>&hellip;</td><td>&hellip;</td><td>&hellip;</td><td>&hellip;</td><td>&hellip;</td><td>&hellip;</td><td>&hellip;</td><td>&hellip;</td></tr><tr><td>&quot;561320&quot;</td><td>&quot;82484&quot;</td><td>&quot;WOOD BLACK BOARD ANT WHITE FIN…</td><td>3</td><td>2011-07-26</td><td>7.95</td><td>16942</td><td>&quot;United Kingdom&quot;</td></tr><tr><td>&quot;561095&quot;</td><td>&quot;22423&quot;</td><td>&quot;REGENCY CAKESTAND 3 TIER&quot;</td><td>16</td><td>2011-07-25</td><td>10.95</td><td>17040</td><td>&quot;United Kingdom&quot;</td></tr><tr><td>&quot;542098&quot;</td><td>&quot;22526&quot;</td><td>&quot;WHEELBARROW FOR CHILDREN &quot;</td><td>2</td><td>2011-01-25</td><td>12.75</td><td>16531</td><td>&quot;United Kingdom&quot;</td></tr><tr><td>&quot;575627&quot;</td><td>&quot;37340&quot;</td><td>&quot;MULTICOLOUR SPRING FLOWER MUG&quot;</td><td>36</td><td>2011-11-10</td><td>0.39</td><td>17977</td><td>&quot;United Kingdom&quot;</td></tr><tr><td>&quot;552883&quot;</td><td>&quot;21672&quot;</td><td>&quot;WHITE SPOT RED CERAMIC DRAWER …</td><td>96</td><td>2011-05-12</td><td>1.06</td><td>14646</td><td>&quot;Netherlands&quot;</td></tr></tbody></table></div>"
            ],
            "text/plain": [
              "shape: (59_436, 8)\n",
              "┌───────────┬───────────┬────────────┬──────────┬────────────┬───────────┬────────────┬────────────┐\n",
              "│ InvoiceNo ┆ StockCode ┆ Descriptio ┆ Quantity ┆ InvoiceDat ┆ UnitPrice ┆ CustomerID ┆ Country    │\n",
              "│ ---       ┆ ---       ┆ n          ┆ ---      ┆ e          ┆ ---       ┆ ---        ┆ ---        │\n",
              "│ str       ┆ str       ┆ ---        ┆ i64      ┆ ---        ┆ f64       ┆ i64        ┆ str        │\n",
              "│           ┆           ┆ str        ┆          ┆ date       ┆           ┆            ┆            │\n",
              "╞═══════════╪═══════════╪════════════╪══════════╪════════════╪═══════════╪════════════╪════════════╡\n",
              "│ 570669    ┆ 23541     ┆ WALL ART   ┆ 2        ┆ 2011-10-11 ┆ 8.25      ┆ 15955      ┆ United     │\n",
              "│           ┆           ┆ CLASSIC    ┆          ┆            ┆           ┆            ┆ Kingdom    │\n",
              "│           ┆           ┆ PUDDINGS   ┆          ┆            ┆           ┆            ┆            │\n",
              "│ 553671    ┆ 22501     ┆ PICNIC     ┆ 1        ┆ 2011-05-18 ┆ 9.95      ┆ 13659      ┆ United     │\n",
              "│           ┆           ┆ BASKET     ┆          ┆            ┆           ┆            ┆ Kingdom    │\n",
              "│           ┆           ┆ WICKER     ┆          ┆            ┆           ┆            ┆            │\n",
              "│           ┆           ┆ LARGE      ┆          ┆            ┆           ┆            ┆            │\n",
              "│ 537126    ┆ 22635     ┆ CHILDS     ┆ 2        ┆ 2010-12-05 ┆ 9.95      ┆ 18118      ┆ United     │\n",
              "│           ┆           ┆ BREAKFAST  ┆          ┆            ┆           ┆            ┆ Kingdom    │\n",
              "│           ┆           ┆ SET DOLLY  ┆          ┆            ┆           ┆            ┆            │\n",
              "│           ┆           ┆ GIR…       ┆          ┆            ┆           ┆            ┆            │\n",
              "│ 539579    ┆ 22171     ┆ 3 HOOK     ┆ 2        ┆ 2010-12-20 ┆ 8.5       ┆ 16713      ┆ United     │\n",
              "│           ┆           ┆ PHOTO      ┆          ┆            ┆           ┆            ┆ Kingdom    │\n",
              "│           ┆           ┆ SHELF      ┆          ┆            ┆           ┆            ┆            │\n",
              "│           ┆           ┆ ANTIQUE    ┆          ┆            ┆           ┆            ┆            │\n",
              "│           ┆           ┆ WHI…       ┆          ┆            ┆           ┆            ┆            │\n",
              "│ 574882    ┆ 23558     ┆ LANDMARK   ┆ 1        ┆ 2011-11-07 ┆ 12.5      ┆ 13599      ┆ United     │\n",
              "│           ┆           ┆ FRAME      ┆          ┆            ┆           ┆            ┆ Kingdom    │\n",
              "│           ┆           ┆ LONDON     ┆          ┆            ┆           ┆            ┆            │\n",
              "│           ┆           ┆ BRIDGE     ┆          ┆            ┆           ┆            ┆            │\n",
              "│ …         ┆ …         ┆ …          ┆ …        ┆ …          ┆ …         ┆ …          ┆ …          │\n",
              "│ 561320    ┆ 82484     ┆ WOOD BLACK ┆ 3        ┆ 2011-07-26 ┆ 7.95      ┆ 16942      ┆ United     │\n",
              "│           ┆           ┆ BOARD ANT  ┆          ┆            ┆           ┆            ┆ Kingdom    │\n",
              "│           ┆           ┆ WHITE FIN… ┆          ┆            ┆           ┆            ┆            │\n",
              "│ 561095    ┆ 22423     ┆ REGENCY    ┆ 16       ┆ 2011-07-25 ┆ 10.95     ┆ 17040      ┆ United     │\n",
              "│           ┆           ┆ CAKESTAND  ┆          ┆            ┆           ┆            ┆ Kingdom    │\n",
              "│           ┆           ┆ 3 TIER     ┆          ┆            ┆           ┆            ┆            │\n",
              "│ 542098    ┆ 22526     ┆ WHEELBARRO ┆ 2        ┆ 2011-01-25 ┆ 12.75     ┆ 16531      ┆ United     │\n",
              "│           ┆           ┆ W FOR      ┆          ┆            ┆           ┆            ┆ Kingdom    │\n",
              "│           ┆           ┆ CHILDREN   ┆          ┆            ┆           ┆            ┆            │\n",
              "│ 575627    ┆ 37340     ┆ MULTICOLOU ┆ 36       ┆ 2011-11-10 ┆ 0.39      ┆ 17977      ┆ United     │\n",
              "│           ┆           ┆ R SPRING   ┆          ┆            ┆           ┆            ┆ Kingdom    │\n",
              "│           ┆           ┆ FLOWER MUG ┆          ┆            ┆           ┆            ┆            │\n",
              "│ 552883    ┆ 21672     ┆ WHITE SPOT ┆ 96       ┆ 2011-05-12 ┆ 1.06      ┆ 14646      ┆ Netherland │\n",
              "│           ┆           ┆ RED        ┆          ┆            ┆           ┆            ┆ s          │\n",
              "│           ┆           ┆ CERAMIC    ┆          ┆            ┆           ┆            ┆            │\n",
              "│           ┆           ┆ DRAWER …   ┆          ┆            ┆           ┆            ┆            │\n",
              "└───────────┴───────────┴────────────┴──────────┴────────────┴───────────┴────────────┴────────────┘"
            ]
          },
          "execution_count": 151,
          "metadata": {},
          "output_type": "execute_result"
        }
      ],
      "source": [
        "upper_bound_limit_condition = (pl.col(\"Quantity\") > 27) | (pl.col(\"UnitPrice\") > 7.5)\n",
        "\n",
        "df.filter(upper_bound_limit_condition)"
      ]
    },
    {
      "cell_type": "markdown",
      "metadata": {
        "id": "rHflIgtsiEgj"
      },
      "source": [
        "LLevando a cabo esta accion estariamos eliminando bastantes datos, pero la parte positiva es que estariamos normalizando lo maximo posible el flujo de los datos, entonces procederemos a eliminarlos."
      ]
    },
    {
      "cell_type": "code",
      "execution_count": 152,
      "metadata": {
        "id": "8UnCdDyTiEgj",
        "outputId": "b69545af-e436-4835-a5f3-74e0afd79843"
      },
      "outputs": [
        {
          "data": {
            "text/html": [
              "<div><style>\n",
              ".dataframe > thead > tr,\n",
              ".dataframe > tbody > tr {\n",
              "  text-align: right;\n",
              "  white-space: pre-wrap;\n",
              "}\n",
              "</style>\n",
              "<small>shape: (333_055, 8)</small><table border=\"1\" class=\"dataframe\"><thead><tr><th>InvoiceNo</th><th>StockCode</th><th>Description</th><th>Quantity</th><th>InvoiceDate</th><th>UnitPrice</th><th>CustomerID</th><th>Country</th></tr><tr><td>str</td><td>str</td><td>str</td><td>i64</td><td>date</td><td>f64</td><td>i64</td><td>str</td></tr></thead><tbody><tr><td>&quot;559672&quot;</td><td>&quot;85071B&quot;</td><td>&quot;RED CHARLIE+LOLA PERSONAL DOOR…</td><td>18</td><td>2011-07-11</td><td>0.39</td><td>14796</td><td>&quot;United Kingdom&quot;</td></tr><tr><td>&quot;562129&quot;</td><td>&quot;22430&quot;</td><td>&quot;ENAMEL WATERING CAN CREAM&quot;</td><td>4</td><td>2011-08-03</td><td>4.95</td><td>13186</td><td>&quot;United Kingdom&quot;</td></tr><tr><td>&quot;568060&quot;</td><td>&quot;84945&quot;</td><td>&quot;MULTI COLOUR SILVER T-LIGHT HO…</td><td>12</td><td>2011-09-23</td><td>0.85</td><td>14546</td><td>&quot;United Kingdom&quot;</td></tr><tr><td>&quot;575837&quot;</td><td>&quot;23483&quot;</td><td>&quot;HANGING&nbsp;&nbsp;BUTTERFLY T-LIGHT HOL…</td><td>18</td><td>2011-11-11</td><td>1.25</td><td>12748</td><td>&quot;United Kingdom&quot;</td></tr><tr><td>&quot;566408&quot;</td><td>&quot;23415&quot;</td><td>&quot;HOME SWEET HOME HOOK&quot;</td><td>5</td><td>2011-09-12</td><td>1.65</td><td>16984</td><td>&quot;United Kingdom&quot;</td></tr><tr><td>&hellip;</td><td>&hellip;</td><td>&hellip;</td><td>&hellip;</td><td>&hellip;</td><td>&hellip;</td><td>&hellip;</td><td>&hellip;</td></tr><tr><td>&quot;563555&quot;</td><td>&quot;22201&quot;</td><td>&quot;FRYING PAN BLUE POLKADOT&quot;</td><td>1</td><td>2011-08-17</td><td>4.25</td><td>16755</td><td>&quot;United Kingdom&quot;</td></tr><tr><td>&quot;570637&quot;</td><td>&quot;85099B&quot;</td><td>&quot;JUMBO BAG RED RETROSPOT&quot;</td><td>10</td><td>2011-10-11</td><td>2.08</td><td>12530</td><td>&quot;Germany&quot;</td></tr><tr><td>&quot;555405&quot;</td><td>&quot;23147&quot;</td><td>&quot;SINGLE ANTIQUE ROSE HOOK IVORY&quot;</td><td>12</td><td>2011-06-02</td><td>1.45</td><td>17531</td><td>&quot;United Kingdom&quot;</td></tr><tr><td>&quot;569026&quot;</td><td>&quot;23322&quot;</td><td>&quot;LARGE WHITE HEART OF WICKER&quot;</td><td>6</td><td>2011-09-30</td><td>2.95</td><td>16101</td><td>&quot;United Kingdom&quot;</td></tr><tr><td>&quot;577167&quot;</td><td>&quot;23390&quot;</td><td>&quot;DOLLY GIRL MINI BACKPACK&quot;</td><td>2</td><td>2011-11-18</td><td>4.15</td><td>16511</td><td>&quot;United Kingdom&quot;</td></tr></tbody></table></div>"
            ],
            "text/plain": [
              "shape: (333_055, 8)\n",
              "┌───────────┬───────────┬──────────────┬──────────┬─────────────┬───────────┬────────────┬─────────┐\n",
              "│ InvoiceNo ┆ StockCode ┆ Description  ┆ Quantity ┆ InvoiceDate ┆ UnitPrice ┆ CustomerID ┆ Country │\n",
              "│ ---       ┆ ---       ┆ ---          ┆ ---      ┆ ---         ┆ ---       ┆ ---        ┆ ---     │\n",
              "│ str       ┆ str       ┆ str          ┆ i64      ┆ date        ┆ f64       ┆ i64        ┆ str     │\n",
              "╞═══════════╪═══════════╪══════════════╪══════════╪═════════════╪═══════════╪════════════╪═════════╡\n",
              "│ 559672    ┆ 85071B    ┆ RED          ┆ 18       ┆ 2011-07-11  ┆ 0.39      ┆ 14796      ┆ United  │\n",
              "│           ┆           ┆ CHARLIE+LOLA ┆          ┆             ┆           ┆            ┆ Kingdom │\n",
              "│           ┆           ┆ PERSONAL     ┆          ┆             ┆           ┆            ┆         │\n",
              "│           ┆           ┆ DOOR…        ┆          ┆             ┆           ┆            ┆         │\n",
              "│ 562129    ┆ 22430     ┆ ENAMEL       ┆ 4        ┆ 2011-08-03  ┆ 4.95      ┆ 13186      ┆ United  │\n",
              "│           ┆           ┆ WATERING CAN ┆          ┆             ┆           ┆            ┆ Kingdom │\n",
              "│           ┆           ┆ CREAM        ┆          ┆             ┆           ┆            ┆         │\n",
              "│ 568060    ┆ 84945     ┆ MULTI COLOUR ┆ 12       ┆ 2011-09-23  ┆ 0.85      ┆ 14546      ┆ United  │\n",
              "│           ┆           ┆ SILVER       ┆          ┆             ┆           ┆            ┆ Kingdom │\n",
              "│           ┆           ┆ T-LIGHT HO…  ┆          ┆             ┆           ┆            ┆         │\n",
              "│ 575837    ┆ 23483     ┆ HANGING      ┆ 18       ┆ 2011-11-11  ┆ 1.25      ┆ 12748      ┆ United  │\n",
              "│           ┆           ┆ BUTTERFLY    ┆          ┆             ┆           ┆            ┆ Kingdom │\n",
              "│           ┆           ┆ T-LIGHT HOL… ┆          ┆             ┆           ┆            ┆         │\n",
              "│ 566408    ┆ 23415     ┆ HOME SWEET   ┆ 5        ┆ 2011-09-12  ┆ 1.65      ┆ 16984      ┆ United  │\n",
              "│           ┆           ┆ HOME HOOK    ┆          ┆             ┆           ┆            ┆ Kingdom │\n",
              "│ …         ┆ …         ┆ …            ┆ …        ┆ …           ┆ …         ┆ …          ┆ …       │\n",
              "│ 563555    ┆ 22201     ┆ FRYING PAN   ┆ 1        ┆ 2011-08-17  ┆ 4.25      ┆ 16755      ┆ United  │\n",
              "│           ┆           ┆ BLUE         ┆          ┆             ┆           ┆            ┆ Kingdom │\n",
              "│           ┆           ┆ POLKADOT     ┆          ┆             ┆           ┆            ┆         │\n",
              "│ 570637    ┆ 85099B    ┆ JUMBO BAG    ┆ 10       ┆ 2011-10-11  ┆ 2.08      ┆ 12530      ┆ Germany │\n",
              "│           ┆           ┆ RED          ┆          ┆             ┆           ┆            ┆         │\n",
              "│           ┆           ┆ RETROSPOT    ┆          ┆             ┆           ┆            ┆         │\n",
              "│ 555405    ┆ 23147     ┆ SINGLE       ┆ 12       ┆ 2011-06-02  ┆ 1.45      ┆ 17531      ┆ United  │\n",
              "│           ┆           ┆ ANTIQUE ROSE ┆          ┆             ┆           ┆            ┆ Kingdom │\n",
              "│           ┆           ┆ HOOK IVORY   ┆          ┆             ┆           ┆            ┆         │\n",
              "│ 569026    ┆ 23322     ┆ LARGE WHITE  ┆ 6        ┆ 2011-09-30  ┆ 2.95      ┆ 16101      ┆ United  │\n",
              "│           ┆           ┆ HEART OF     ┆          ┆             ┆           ┆            ┆ Kingdom │\n",
              "│           ┆           ┆ WICKER       ┆          ┆             ┆           ┆            ┆         │\n",
              "│ 577167    ┆ 23390     ┆ DOLLY GIRL   ┆ 2        ┆ 2011-11-18  ┆ 4.15      ┆ 16511      ┆ United  │\n",
              "│           ┆           ┆ MINI         ┆          ┆             ┆           ┆            ┆ Kingdom │\n",
              "│           ┆           ┆ BACKPACK     ┆          ┆             ┆           ┆            ┆         │\n",
              "└───────────┴───────────┴──────────────┴──────────┴─────────────┴───────────┴────────────┴─────────┘"
            ]
          },
          "execution_count": 152,
          "metadata": {},
          "output_type": "execute_result"
        }
      ],
      "source": [
        "df = df.filter(~((pl.col(\"Quantity\") > 27) | (pl.col(\"UnitPrice\") > 7.5)))\n",
        "df"
      ]
    },
    {
      "cell_type": "code",
      "execution_count": 153,
      "metadata": {
        "id": "tEfpi3bxiEgj",
        "outputId": "059ff27e-ae58-424d-a9af-6796f60a7d48"
      },
      "outputs": [
        {
          "data": {
            "text/html": [
              "<div><style>\n",
              ".dataframe > thead > tr,\n",
              ".dataframe > tbody > tr {\n",
              "  text-align: right;\n",
              "  white-space: pre-wrap;\n",
              "}\n",
              "</style>\n",
              "<small>shape: (9, 9)</small><table border=\"1\" class=\"dataframe\"><thead><tr><th>statistic</th><th>InvoiceNo</th><th>StockCode</th><th>Description</th><th>Quantity</th><th>InvoiceDate</th><th>UnitPrice</th><th>CustomerID</th><th>Country</th></tr><tr><td>str</td><td>str</td><td>str</td><td>str</td><td>f64</td><td>str</td><td>f64</td><td>f64</td><td>str</td></tr></thead><tbody><tr><td>&quot;count&quot;</td><td>&quot;333055&quot;</td><td>&quot;333055&quot;</td><td>&quot;333055&quot;</td><td>333055.0</td><td>&quot;333055&quot;</td><td>333055.0</td><td>333055.0</td><td>&quot;333055&quot;</td></tr><tr><td>&quot;null_count&quot;</td><td>&quot;0&quot;</td><td>&quot;0&quot;</td><td>&quot;0&quot;</td><td>0.0</td><td>&quot;0&quot;</td><td>0.0</td><td>0.0</td><td>&quot;0&quot;</td></tr><tr><td>&quot;mean&quot;</td><td>null</td><td>null</td><td>null</td><td>7.550321</td><td>&quot;2011-07-12 00:32:44.821000&quot;</td><td>2.194007</td><td>15319.817204</td><td>null</td></tr><tr><td>&quot;std&quot;</td><td>null</td><td>null</td><td>null</td><td>6.775819</td><td>null</td><td>1.546041</td><td>1710.841623</td><td>null</td></tr><tr><td>&quot;min&quot;</td><td>&quot;536365&quot;</td><td>&quot;10002&quot;</td><td>&quot; 4 PURPLE FLOCK DINNER CANDLES&quot;</td><td>1.0</td><td>&quot;2010-12-01&quot;</td><td>0.0</td><td>12347.0</td><td>&quot;Australia&quot;</td></tr><tr><td>&quot;25%&quot;</td><td>null</td><td>null</td><td>null</td><td>2.0</td><td>&quot;2011-04-08&quot;</td><td>1.25</td><td>13988.0</td><td>null</td></tr><tr><td>&quot;50%&quot;</td><td>null</td><td>null</td><td>null</td><td>6.0</td><td>&quot;2011-08-03&quot;</td><td>1.65</td><td>15235.0</td><td>null</td></tr><tr><td>&quot;75%&quot;</td><td>null</td><td>null</td><td>null</td><td>12.0</td><td>&quot;2011-10-23&quot;</td><td>2.95</td><td>16814.0</td><td>null</td></tr><tr><td>&quot;max&quot;</td><td>&quot;581587&quot;</td><td>&quot;POST&quot;</td><td>&quot;ZINC WIRE SWEETHEART LETTER TR…</td><td>27.0</td><td>&quot;2011-12-09&quot;</td><td>7.5</td><td>18287.0</td><td>&quot;United Kingdom&quot;</td></tr></tbody></table></div>"
            ],
            "text/plain": [
              "shape: (9, 9)\n",
              "┌───────────┬───────────┬───────────┬───────────┬───┬───────────┬───────────┬───────────┬──────────┐\n",
              "│ statistic ┆ InvoiceNo ┆ StockCode ┆ Descripti ┆ … ┆ InvoiceDa ┆ UnitPrice ┆ CustomerI ┆ Country  │\n",
              "│ ---       ┆ ---       ┆ ---       ┆ on        ┆   ┆ te        ┆ ---       ┆ D         ┆ ---      │\n",
              "│ str       ┆ str       ┆ str       ┆ ---       ┆   ┆ ---       ┆ f64       ┆ ---       ┆ str      │\n",
              "│           ┆           ┆           ┆ str       ┆   ┆ str       ┆           ┆ f64       ┆          │\n",
              "╞═══════════╪═══════════╪═══════════╪═══════════╪═══╪═══════════╪═══════════╪═══════════╪══════════╡\n",
              "│ count     ┆ 333055    ┆ 333055    ┆ 333055    ┆ … ┆ 333055    ┆ 333055.0  ┆ 333055.0  ┆ 333055   │\n",
              "│ null_coun ┆ 0         ┆ 0         ┆ 0         ┆ … ┆ 0         ┆ 0.0       ┆ 0.0       ┆ 0        │\n",
              "│ t         ┆           ┆           ┆           ┆   ┆           ┆           ┆           ┆          │\n",
              "│ mean      ┆ null      ┆ null      ┆ null      ┆ … ┆ 2011-07-1 ┆ 2.194007  ┆ 15319.817 ┆ null     │\n",
              "│           ┆           ┆           ┆           ┆   ┆ 2 00:32:4 ┆           ┆ 204       ┆          │\n",
              "│           ┆           ┆           ┆           ┆   ┆ 4.821000  ┆           ┆           ┆          │\n",
              "│ std       ┆ null      ┆ null      ┆ null      ┆ … ┆ null      ┆ 1.546041  ┆ 1710.8416 ┆ null     │\n",
              "│           ┆           ┆           ┆           ┆   ┆           ┆           ┆ 23        ┆          │\n",
              "│ min       ┆ 536365    ┆ 10002     ┆ 4 PURPLE  ┆ … ┆ 2010-12-0 ┆ 0.0       ┆ 12347.0   ┆ Australi │\n",
              "│           ┆           ┆           ┆ FLOCK     ┆   ┆ 1         ┆           ┆           ┆ a        │\n",
              "│           ┆           ┆           ┆ DINNER    ┆   ┆           ┆           ┆           ┆          │\n",
              "│           ┆           ┆           ┆ CANDLES   ┆   ┆           ┆           ┆           ┆          │\n",
              "│ 25%       ┆ null      ┆ null      ┆ null      ┆ … ┆ 2011-04-0 ┆ 1.25      ┆ 13988.0   ┆ null     │\n",
              "│           ┆           ┆           ┆           ┆   ┆ 8         ┆           ┆           ┆          │\n",
              "│ 50%       ┆ null      ┆ null      ┆ null      ┆ … ┆ 2011-08-0 ┆ 1.65      ┆ 15235.0   ┆ null     │\n",
              "│           ┆           ┆           ┆           ┆   ┆ 3         ┆           ┆           ┆          │\n",
              "│ 75%       ┆ null      ┆ null      ┆ null      ┆ … ┆ 2011-10-2 ┆ 2.95      ┆ 16814.0   ┆ null     │\n",
              "│           ┆           ┆           ┆           ┆   ┆ 3         ┆           ┆           ┆          │\n",
              "│ max       ┆ 581587    ┆ POST      ┆ ZINC WIRE ┆ … ┆ 2011-12-0 ┆ 7.5       ┆ 18287.0   ┆ United   │\n",
              "│           ┆           ┆           ┆ SWEETHEAR ┆   ┆ 9         ┆           ┆           ┆ Kingdom  │\n",
              "│           ┆           ┆           ┆ T LETTER  ┆   ┆           ┆           ┆           ┆          │\n",
              "│           ┆           ┆           ┆ TR…       ┆   ┆           ┆           ┆           ┆          │\n",
              "└───────────┴───────────┴───────────┴───────────┴───┴───────────┴───────────┴───────────┴──────────┘"
            ]
          },
          "execution_count": 153,
          "metadata": {},
          "output_type": "execute_result"
        }
      ],
      "source": [
        "df.describe()"
      ]
    },
    {
      "cell_type": "markdown",
      "metadata": {
        "id": "2_OFU-wGiEgj"
      },
      "source": [
        "Viendo que el objetivo es agrupar en diferentes tipos de clientes eliminaremos las columnas que no son relevantes\n",
        "\n",
        "CustomerID,InvoiceDate,Quantity, UnitPrice,InvoiceNo, Country: serian las columnas mas interesantes para nuestro modelo de clustering, teniendo en cuenta que country seria opcional y solo seria util si queremos segmentar internacionalmente"
      ]
    },
    {
      "cell_type": "code",
      "execution_count": 154,
      "metadata": {
        "id": "Ej_wN3lOiEgj",
        "outputId": "096ea066-c944-4ede-c8f5-e31de8ee0b45"
      },
      "outputs": [
        {
          "data": {
            "text/html": [
              "<div><style>\n",
              ".dataframe > thead > tr,\n",
              ".dataframe > tbody > tr {\n",
              "  text-align: right;\n",
              "  white-space: pre-wrap;\n",
              "}\n",
              "</style>\n",
              "<small>shape: (333_055, 6)</small><table border=\"1\" class=\"dataframe\"><thead><tr><th>CustomerID</th><th>InvoiceDate</th><th>Quantity</th><th>UnitPrice</th><th>Country</th><th>InvoiceNo</th></tr><tr><td>i64</td><td>date</td><td>i64</td><td>f64</td><td>str</td><td>str</td></tr></thead><tbody><tr><td>14796</td><td>2011-07-11</td><td>18</td><td>0.39</td><td>&quot;United Kingdom&quot;</td><td>&quot;559672&quot;</td></tr><tr><td>13186</td><td>2011-08-03</td><td>4</td><td>4.95</td><td>&quot;United Kingdom&quot;</td><td>&quot;562129&quot;</td></tr><tr><td>14546</td><td>2011-09-23</td><td>12</td><td>0.85</td><td>&quot;United Kingdom&quot;</td><td>&quot;568060&quot;</td></tr><tr><td>12748</td><td>2011-11-11</td><td>18</td><td>1.25</td><td>&quot;United Kingdom&quot;</td><td>&quot;575837&quot;</td></tr><tr><td>16984</td><td>2011-09-12</td><td>5</td><td>1.65</td><td>&quot;United Kingdom&quot;</td><td>&quot;566408&quot;</td></tr><tr><td>&hellip;</td><td>&hellip;</td><td>&hellip;</td><td>&hellip;</td><td>&hellip;</td><td>&hellip;</td></tr><tr><td>16755</td><td>2011-08-17</td><td>1</td><td>4.25</td><td>&quot;United Kingdom&quot;</td><td>&quot;563555&quot;</td></tr><tr><td>12530</td><td>2011-10-11</td><td>10</td><td>2.08</td><td>&quot;Germany&quot;</td><td>&quot;570637&quot;</td></tr><tr><td>17531</td><td>2011-06-02</td><td>12</td><td>1.45</td><td>&quot;United Kingdom&quot;</td><td>&quot;555405&quot;</td></tr><tr><td>16101</td><td>2011-09-30</td><td>6</td><td>2.95</td><td>&quot;United Kingdom&quot;</td><td>&quot;569026&quot;</td></tr><tr><td>16511</td><td>2011-11-18</td><td>2</td><td>4.15</td><td>&quot;United Kingdom&quot;</td><td>&quot;577167&quot;</td></tr></tbody></table></div>"
            ],
            "text/plain": [
              "shape: (333_055, 6)\n",
              "┌────────────┬─────────────┬──────────┬───────────┬────────────────┬───────────┐\n",
              "│ CustomerID ┆ InvoiceDate ┆ Quantity ┆ UnitPrice ┆ Country        ┆ InvoiceNo │\n",
              "│ ---        ┆ ---         ┆ ---      ┆ ---       ┆ ---            ┆ ---       │\n",
              "│ i64        ┆ date        ┆ i64      ┆ f64       ┆ str            ┆ str       │\n",
              "╞════════════╪═════════════╪══════════╪═══════════╪════════════════╪═══════════╡\n",
              "│ 14796      ┆ 2011-07-11  ┆ 18       ┆ 0.39      ┆ United Kingdom ┆ 559672    │\n",
              "│ 13186      ┆ 2011-08-03  ┆ 4        ┆ 4.95      ┆ United Kingdom ┆ 562129    │\n",
              "│ 14546      ┆ 2011-09-23  ┆ 12       ┆ 0.85      ┆ United Kingdom ┆ 568060    │\n",
              "│ 12748      ┆ 2011-11-11  ┆ 18       ┆ 1.25      ┆ United Kingdom ┆ 575837    │\n",
              "│ 16984      ┆ 2011-09-12  ┆ 5        ┆ 1.65      ┆ United Kingdom ┆ 566408    │\n",
              "│ …          ┆ …           ┆ …        ┆ …         ┆ …              ┆ …         │\n",
              "│ 16755      ┆ 2011-08-17  ┆ 1        ┆ 4.25      ┆ United Kingdom ┆ 563555    │\n",
              "│ 12530      ┆ 2011-10-11  ┆ 10       ┆ 2.08      ┆ Germany        ┆ 570637    │\n",
              "│ 17531      ┆ 2011-06-02  ┆ 12       ┆ 1.45      ┆ United Kingdom ┆ 555405    │\n",
              "│ 16101      ┆ 2011-09-30  ┆ 6        ┆ 2.95      ┆ United Kingdom ┆ 569026    │\n",
              "│ 16511      ┆ 2011-11-18  ┆ 2        ┆ 4.15      ┆ United Kingdom ┆ 577167    │\n",
              "└────────────┴─────────────┴──────────┴───────────┴────────────────┴───────────┘"
            ]
          },
          "execution_count": 154,
          "metadata": {},
          "output_type": "execute_result"
        }
      ],
      "source": [
        "df = df[\"CustomerID\",\"InvoiceDate\",\"Quantity\", \"UnitPrice\",\"Country\",\"InvoiceNo\"]\n",
        "df"
      ]
    },
    {
      "cell_type": "markdown",
      "metadata": {
        "id": "EJzyC7MOiEgj"
      },
      "source": [
        "Ahora es el turno de las columnas extra.\n",
        "Hemos pensado las siguientes:\n",
        "\n",
        "TotalPrice ->  Para saber cuanto gastan los clientes.\n",
        "Last_buy ->  Días desde la última compra.\n",
        "Frequency ->  Número de compras (facturas únicas) por cliente.\n",
        "Monetary -> Suma del gasto total por cliente."
      ]
    },
    {
      "cell_type": "markdown",
      "metadata": {},
      "source": [
        "Creando la variable de totalPrice"
      ]
    },
    {
      "cell_type": "code",
      "execution_count": 155,
      "metadata": {
        "id": "1RJKVy5LiEgj",
        "outputId": "75b9a2e0-6656-4817-f287-5bcd2c2da5a2"
      },
      "outputs": [
        {
          "data": {
            "text/html": [
              "<div><style>\n",
              ".dataframe > thead > tr,\n",
              ".dataframe > tbody > tr {\n",
              "  text-align: right;\n",
              "  white-space: pre-wrap;\n",
              "}\n",
              "</style>\n",
              "<small>shape: (333_055, 7)</small><table border=\"1\" class=\"dataframe\"><thead><tr><th>CustomerID</th><th>InvoiceDate</th><th>Quantity</th><th>UnitPrice</th><th>Country</th><th>InvoiceNo</th><th>TotalPrice</th></tr><tr><td>i64</td><td>date</td><td>i64</td><td>f64</td><td>str</td><td>str</td><td>f64</td></tr></thead><tbody><tr><td>14796</td><td>2011-07-11</td><td>18</td><td>0.39</td><td>&quot;United Kingdom&quot;</td><td>&quot;559672&quot;</td><td>7.02</td></tr><tr><td>13186</td><td>2011-08-03</td><td>4</td><td>4.95</td><td>&quot;United Kingdom&quot;</td><td>&quot;562129&quot;</td><td>19.8</td></tr><tr><td>14546</td><td>2011-09-23</td><td>12</td><td>0.85</td><td>&quot;United Kingdom&quot;</td><td>&quot;568060&quot;</td><td>10.2</td></tr><tr><td>12748</td><td>2011-11-11</td><td>18</td><td>1.25</td><td>&quot;United Kingdom&quot;</td><td>&quot;575837&quot;</td><td>22.5</td></tr><tr><td>16984</td><td>2011-09-12</td><td>5</td><td>1.65</td><td>&quot;United Kingdom&quot;</td><td>&quot;566408&quot;</td><td>8.25</td></tr><tr><td>&hellip;</td><td>&hellip;</td><td>&hellip;</td><td>&hellip;</td><td>&hellip;</td><td>&hellip;</td><td>&hellip;</td></tr><tr><td>16755</td><td>2011-08-17</td><td>1</td><td>4.25</td><td>&quot;United Kingdom&quot;</td><td>&quot;563555&quot;</td><td>4.25</td></tr><tr><td>12530</td><td>2011-10-11</td><td>10</td><td>2.08</td><td>&quot;Germany&quot;</td><td>&quot;570637&quot;</td><td>20.8</td></tr><tr><td>17531</td><td>2011-06-02</td><td>12</td><td>1.45</td><td>&quot;United Kingdom&quot;</td><td>&quot;555405&quot;</td><td>17.4</td></tr><tr><td>16101</td><td>2011-09-30</td><td>6</td><td>2.95</td><td>&quot;United Kingdom&quot;</td><td>&quot;569026&quot;</td><td>17.7</td></tr><tr><td>16511</td><td>2011-11-18</td><td>2</td><td>4.15</td><td>&quot;United Kingdom&quot;</td><td>&quot;577167&quot;</td><td>8.3</td></tr></tbody></table></div>"
            ],
            "text/plain": [
              "shape: (333_055, 7)\n",
              "┌────────────┬─────────────┬──────────┬───────────┬────────────────┬───────────┬────────────┐\n",
              "│ CustomerID ┆ InvoiceDate ┆ Quantity ┆ UnitPrice ┆ Country        ┆ InvoiceNo ┆ TotalPrice │\n",
              "│ ---        ┆ ---         ┆ ---      ┆ ---       ┆ ---            ┆ ---       ┆ ---        │\n",
              "│ i64        ┆ date        ┆ i64      ┆ f64       ┆ str            ┆ str       ┆ f64        │\n",
              "╞════════════╪═════════════╪══════════╪═══════════╪════════════════╪═══════════╪════════════╡\n",
              "│ 14796      ┆ 2011-07-11  ┆ 18       ┆ 0.39      ┆ United Kingdom ┆ 559672    ┆ 7.02       │\n",
              "│ 13186      ┆ 2011-08-03  ┆ 4        ┆ 4.95      ┆ United Kingdom ┆ 562129    ┆ 19.8       │\n",
              "│ 14546      ┆ 2011-09-23  ┆ 12       ┆ 0.85      ┆ United Kingdom ┆ 568060    ┆ 10.2       │\n",
              "│ 12748      ┆ 2011-11-11  ┆ 18       ┆ 1.25      ┆ United Kingdom ┆ 575837    ┆ 22.5       │\n",
              "│ 16984      ┆ 2011-09-12  ┆ 5        ┆ 1.65      ┆ United Kingdom ┆ 566408    ┆ 8.25       │\n",
              "│ …          ┆ …           ┆ …        ┆ …         ┆ …              ┆ …         ┆ …          │\n",
              "│ 16755      ┆ 2011-08-17  ┆ 1        ┆ 4.25      ┆ United Kingdom ┆ 563555    ┆ 4.25       │\n",
              "│ 12530      ┆ 2011-10-11  ┆ 10       ┆ 2.08      ┆ Germany        ┆ 570637    ┆ 20.8       │\n",
              "│ 17531      ┆ 2011-06-02  ┆ 12       ┆ 1.45      ┆ United Kingdom ┆ 555405    ┆ 17.4       │\n",
              "│ 16101      ┆ 2011-09-30  ┆ 6        ┆ 2.95      ┆ United Kingdom ┆ 569026    ┆ 17.7       │\n",
              "│ 16511      ┆ 2011-11-18  ┆ 2        ┆ 4.15      ┆ United Kingdom ┆ 577167    ┆ 8.3        │\n",
              "└────────────┴─────────────┴──────────┴───────────┴────────────────┴───────────┴────────────┘"
            ]
          },
          "execution_count": 155,
          "metadata": {},
          "output_type": "execute_result"
        }
      ],
      "source": [
        "df = df.with_columns(\n",
        "    (pl.col(\"Quantity\") * pl.col(\"UnitPrice\")).alias(\"TotalPrice\")\n",
        ")\n",
        "df"
      ]
    },
    {
      "cell_type": "markdown",
      "metadata": {},
      "source": [
        "ahora Last_buy, frequency y monetary"
      ]
    },
    {
      "cell_type": "markdown",
      "metadata": {
        "id": "6VUtGrUsiEgk"
      },
      "source": [
        "Ahora agruparemos por dias para ver la suma de todas las ventas totales. De esta forma tendremos una mejor visualizacion de todas las ventas totales en cada dia que se han realizado.\n"
      ]
    },
    {
      "cell_type": "code",
      "execution_count": 156,
      "metadata": {
        "id": "ULyE1DTQiEgk",
        "outputId": "a4472f6c-2942-4f46-c58a-4394a490da2e"
      },
      "outputs": [
        {
          "data": {
            "text/html": [
              "<div><style>\n",
              ".dataframe > thead > tr,\n",
              ".dataframe > tbody > tr {\n",
              "  text-align: right;\n",
              "  white-space: pre-wrap;\n",
              "}\n",
              "</style>\n",
              "<small>shape: (4_188, 4)</small><table border=\"1\" class=\"dataframe\"><thead><tr><th>CustomerID</th><th>Last_buy</th><th>Frequency</th><th>Monetary</th></tr><tr><td>i64</td><td>f64</td><td>u32</td><td>f64</td></tr></thead><tbody><tr><td>14687</td><td>106.0</td><td>1</td><td>217.02</td></tr><tr><td>12594</td><td>46.0</td><td>8</td><td>2743.43</td></tr><tr><td>15214</td><td>1.0</td><td>8</td><td>1497.14</td></tr><tr><td>16387</td><td>322.0</td><td>1</td><td>94.36</td></tr><tr><td>17962</td><td>142.0</td><td>1</td><td>82.02</td></tr><tr><td>&hellip;</td><td>&hellip;</td><td>&hellip;</td><td>&hellip;</td></tr><tr><td>16637</td><td>32.0</td><td>4</td><td>921.76</td></tr><tr><td>13496</td><td>10.0</td><td>2</td><td>563.63</td></tr><tr><td>15205</td><td>85.0</td><td>2</td><td>425.25</td></tr><tr><td>13356</td><td>80.0</td><td>1</td><td>548.59</td></tr><tr><td>16250</td><td>261.0</td><td>2</td><td>373.54</td></tr></tbody></table></div>"
            ],
            "text/plain": [
              "shape: (4_188, 4)\n",
              "┌────────────┬──────────┬───────────┬──────────┐\n",
              "│ CustomerID ┆ Last_buy ┆ Frequency ┆ Monetary │\n",
              "│ ---        ┆ ---      ┆ ---       ┆ ---      │\n",
              "│ i64        ┆ f64      ┆ u32       ┆ f64      │\n",
              "╞════════════╪══════════╪═══════════╪══════════╡\n",
              "│ 14687      ┆ 106.0    ┆ 1         ┆ 217.02   │\n",
              "│ 12594      ┆ 46.0     ┆ 8         ┆ 2743.43  │\n",
              "│ 15214      ┆ 1.0      ┆ 8         ┆ 1497.14  │\n",
              "│ 16387      ┆ 322.0    ┆ 1         ┆ 94.36    │\n",
              "│ 17962      ┆ 142.0    ┆ 1         ┆ 82.02    │\n",
              "│ …          ┆ …        ┆ …         ┆ …        │\n",
              "│ 16637      ┆ 32.0     ┆ 4         ┆ 921.76   │\n",
              "│ 13496      ┆ 10.0     ┆ 2         ┆ 563.63   │\n",
              "│ 15205      ┆ 85.0     ┆ 2         ┆ 425.25   │\n",
              "│ 13356      ┆ 80.0     ┆ 1         ┆ 548.59   │\n",
              "│ 16250      ┆ 261.0    ┆ 2         ┆ 373.54   │\n",
              "└────────────┴──────────┴───────────┴──────────┘"
            ]
          },
          "execution_count": 156,
          "metadata": {},
          "output_type": "execute_result"
        }
      ],
      "source": [
        "max_date = df.select(pl.col(\"InvoiceDate\").max()).to_series()[0]\n",
        "\n",
        "df = df.group_by(\"CustomerID\").agg([\n",
        "\n",
        "    ((pl.lit(max_date) - pl.col(\"InvoiceDate\").max()) / pl.duration(days=1)).alias(\"Last_buy\"),\n",
        "      \n",
        "\n",
        "    pl.col(\"InvoiceNo\").n_unique().alias(\"Frequency\"),\n",
        "    \n",
        "\n",
        "    pl.col(\"TotalPrice\").sum().alias(\"Monetary\")\n",
        "])\n",
        "df\n"
      ]
    },
    {
      "cell_type": "markdown",
      "metadata": {},
      "source": [
        "Ahora es el turno de otro describe con las nuevas variables"
      ]
    },
    {
      "cell_type": "code",
      "execution_count": 157,
      "metadata": {},
      "outputs": [
        {
          "data": {
            "text/html": [
              "<div><style>\n",
              ".dataframe > thead > tr,\n",
              ".dataframe > tbody > tr {\n",
              "  text-align: right;\n",
              "  white-space: pre-wrap;\n",
              "}\n",
              "</style>\n",
              "<small>shape: (9, 5)</small><table border=\"1\" class=\"dataframe\"><thead><tr><th>statistic</th><th>CustomerID</th><th>Last_buy</th><th>Frequency</th><th>Monetary</th></tr><tr><td>str</td><td>f64</td><td>f64</td><td>f64</td><td>f64</td></tr></thead><tbody><tr><td>&quot;count&quot;</td><td>4188.0</td><td>4188.0</td><td>4188.0</td><td>4188.0</td></tr><tr><td>&quot;null_count&quot;</td><td>0.0</td><td>0.0</td><td>0.0</td><td>0.0</td></tr><tr><td>&quot;mean&quot;</td><td>15291.565186</td><td>91.940306</td><td>4.017908</td><td>1026.10236</td></tr><tr><td>&quot;std&quot;</td><td>1718.981692</td><td>99.933739</td><td>7.025996</td><td>2200.968737</td></tr><tr><td>&quot;min&quot;</td><td>12347.0</td><td>0.0</td><td>1.0</td><td>0.0</td></tr><tr><td>&quot;25%&quot;</td><td>13810.0</td><td>17.0</td><td>1.0</td><td>206.09</td></tr><tr><td>&quot;50%&quot;</td><td>15286.0</td><td>50.0</td><td>2.0</td><td>465.97</td></tr><tr><td>&quot;75%&quot;</td><td>16771.0</td><td>143.0</td><td>4.0</td><td>1128.05</td></tr><tr><td>&quot;max&quot;</td><td>18287.0</td><td>373.0</td><td>197.0</td><td>84980.89</td></tr></tbody></table></div>"
            ],
            "text/plain": [
              "shape: (9, 5)\n",
              "┌────────────┬──────────────┬───────────┬───────────┬─────────────┐\n",
              "│ statistic  ┆ CustomerID   ┆ Last_buy  ┆ Frequency ┆ Monetary    │\n",
              "│ ---        ┆ ---          ┆ ---       ┆ ---       ┆ ---         │\n",
              "│ str        ┆ f64          ┆ f64       ┆ f64       ┆ f64         │\n",
              "╞════════════╪══════════════╪═══════════╪═══════════╪═════════════╡\n",
              "│ count      ┆ 4188.0       ┆ 4188.0    ┆ 4188.0    ┆ 4188.0      │\n",
              "│ null_count ┆ 0.0          ┆ 0.0       ┆ 0.0       ┆ 0.0         │\n",
              "│ mean       ┆ 15291.565186 ┆ 91.940306 ┆ 4.017908  ┆ 1026.10236  │\n",
              "│ std        ┆ 1718.981692  ┆ 99.933739 ┆ 7.025996  ┆ 2200.968737 │\n",
              "│ min        ┆ 12347.0      ┆ 0.0       ┆ 1.0       ┆ 0.0         │\n",
              "│ 25%        ┆ 13810.0      ┆ 17.0      ┆ 1.0       ┆ 206.09      │\n",
              "│ 50%        ┆ 15286.0      ┆ 50.0      ┆ 2.0       ┆ 465.97      │\n",
              "│ 75%        ┆ 16771.0      ┆ 143.0     ┆ 4.0       ┆ 1128.05     │\n",
              "│ max        ┆ 18287.0      ┆ 373.0     ┆ 197.0     ┆ 84980.89    │\n",
              "└────────────┴──────────────┴───────────┴───────────┴─────────────┘"
            ]
          },
          "execution_count": 157,
          "metadata": {},
          "output_type": "execute_result"
        }
      ],
      "source": [
        "df.describe()"
      ]
    },
    {
      "cell_type": "markdown",
      "metadata": {},
      "source": [
        "como vemos en monatery y en frequency tenemos claramente outliers, aplicaremos el logaritmo para no perder informacion y reducir la gran diferencia que hay, eso si tenemos que tener cuidado con los ceros\n",
        "\n",
        "no lo aplicaremos sobre last_buy porque no tiene una destribucion tan extrema como monetary o frequency y los dias son mas uniformes lo que puede probocar que el logaritmo distorsione la interpretacion."
      ]
    },
    {
      "cell_type": "code",
      "execution_count": 158,
      "metadata": {},
      "outputs": [
        {
          "data": {
            "text/html": [
              "<div><style>\n",
              ".dataframe > thead > tr,\n",
              ".dataframe > tbody > tr {\n",
              "  text-align: right;\n",
              "  white-space: pre-wrap;\n",
              "}\n",
              "</style>\n",
              "<small>shape: (4_187, 6)</small><table border=\"1\" class=\"dataframe\"><thead><tr><th>CustomerID</th><th>Last_buy</th><th>Frequency</th><th>Monetary</th><th>Monetary_log</th><th>Frequency_log</th></tr><tr><td>i64</td><td>f64</td><td>u32</td><td>f64</td><td>f64</td><td>f64</td></tr></thead><tbody><tr><td>14687</td><td>106.0</td><td>1</td><td>217.02</td><td>5.384587</td><td>0.693147</td></tr><tr><td>12594</td><td>46.0</td><td>8</td><td>2743.43</td><td>7.917329</td><td>2.197225</td></tr><tr><td>15214</td><td>1.0</td><td>8</td><td>1497.14</td><td>7.31198</td><td>2.197225</td></tr><tr><td>16387</td><td>322.0</td><td>1</td><td>94.36</td><td>4.557659</td><td>0.693147</td></tr><tr><td>17962</td><td>142.0</td><td>1</td><td>82.02</td><td>4.419082</td><td>0.693147</td></tr><tr><td>&hellip;</td><td>&hellip;</td><td>&hellip;</td><td>&hellip;</td><td>&hellip;</td><td>&hellip;</td></tr><tr><td>16637</td><td>32.0</td><td>4</td><td>921.76</td><td>6.827369</td><td>1.609438</td></tr><tr><td>13496</td><td>10.0</td><td>2</td><td>563.63</td><td>6.336171</td><td>1.098612</td></tr><tr><td>15205</td><td>85.0</td><td>2</td><td>425.25</td><td>6.055026</td><td>1.098612</td></tr><tr><td>13356</td><td>80.0</td><td>1</td><td>548.59</td><td>6.309173</td><td>0.693147</td></tr><tr><td>16250</td><td>261.0</td><td>2</td><td>373.54</td><td>5.925699</td><td>1.098612</td></tr></tbody></table></div>"
            ],
            "text/plain": [
              "shape: (4_187, 6)\n",
              "┌────────────┬──────────┬───────────┬──────────┬──────────────┬───────────────┐\n",
              "│ CustomerID ┆ Last_buy ┆ Frequency ┆ Monetary ┆ Monetary_log ┆ Frequency_log │\n",
              "│ ---        ┆ ---      ┆ ---       ┆ ---      ┆ ---          ┆ ---           │\n",
              "│ i64        ┆ f64      ┆ u32       ┆ f64      ┆ f64          ┆ f64           │\n",
              "╞════════════╪══════════╪═══════════╪══════════╪══════════════╪═══════════════╡\n",
              "│ 14687      ┆ 106.0    ┆ 1         ┆ 217.02   ┆ 5.384587     ┆ 0.693147      │\n",
              "│ 12594      ┆ 46.0     ┆ 8         ┆ 2743.43  ┆ 7.917329     ┆ 2.197225      │\n",
              "│ 15214      ┆ 1.0      ┆ 8         ┆ 1497.14  ┆ 7.31198      ┆ 2.197225      │\n",
              "│ 16387      ┆ 322.0    ┆ 1         ┆ 94.36    ┆ 4.557659     ┆ 0.693147      │\n",
              "│ 17962      ┆ 142.0    ┆ 1         ┆ 82.02    ┆ 4.419082     ┆ 0.693147      │\n",
              "│ …          ┆ …        ┆ …         ┆ …        ┆ …            ┆ …             │\n",
              "│ 16637      ┆ 32.0     ┆ 4         ┆ 921.76   ┆ 6.827369     ┆ 1.609438      │\n",
              "│ 13496      ┆ 10.0     ┆ 2         ┆ 563.63   ┆ 6.336171     ┆ 1.098612      │\n",
              "│ 15205      ┆ 85.0     ┆ 2         ┆ 425.25   ┆ 6.055026     ┆ 1.098612      │\n",
              "│ 13356      ┆ 80.0     ┆ 1         ┆ 548.59   ┆ 6.309173     ┆ 0.693147      │\n",
              "│ 16250      ┆ 261.0    ┆ 2         ┆ 373.54   ┆ 5.925699     ┆ 1.098612      │\n",
              "└────────────┴──────────┴───────────┴──────────┴──────────────┴───────────────┘"
            ]
          },
          "execution_count": 158,
          "metadata": {},
          "output_type": "execute_result"
        }
      ],
      "source": [
        "df = df.filter(df[\"Monetary\"]>0)\n",
        "df = df.with_columns(\n",
        "    (pl.col(\"Monetary\") + 1).log().alias(\"Monetary_log\"),\n",
        "    (pl.col(\"Frequency\") + 1).log().alias(\"Frequency_log\")\n",
        ")\n",
        "df"
      ]
    },
    {
      "cell_type": "markdown",
      "metadata": {},
      "source": [
        "Con esto tendriamos casi listo el proceso de ETL\n",
        "\n",
        "Faltaria hacer algunos pasos que son recomendados como el escalado dde variables ya que las metricas estan en escalas muy diferentes.\n",
        "\n",
        "y una gran diferencia en a escala afecta al clustering\n",
        "usaremos un standarscaler, tambien prodiamos usar el minmaxscaler o el Z"
      ]
    },
    {
      "cell_type": "code",
      "execution_count": 159,
      "metadata": {
        "id": "HoawcybCiEgk",
        "outputId": "4441c750-3cb7-42be-8f2b-96617ee2c71a"
      },
      "outputs": [],
      "source": [
        "from sklearn.preprocessing import StandardScaler\n",
        "\n",
        "X = df.select([\"Last_buy\", \"Frequency_log\", \"Monetary_log\"]).to_numpy()\n",
        "\n",
        "\n",
        "scaler = StandardScaler()\n",
        "X_scaled = scaler.fit_transform(X)"
      ]
    },
    {
      "cell_type": "code",
      "execution_count": 160,
      "metadata": {},
      "outputs": [
        {
          "data": {
            "text/html": [
              "<div><style>\n",
              ".dataframe > thead > tr,\n",
              ".dataframe > tbody > tr {\n",
              "  text-align: right;\n",
              "  white-space: pre-wrap;\n",
              "}\n",
              "</style>\n",
              "<small>shape: (4_187, 9)</small><table border=\"1\" class=\"dataframe\"><thead><tr><th>CustomerID</th><th>Last_buy</th><th>Frequency</th><th>Monetary</th><th>Monetary_log</th><th>Frequency_log</th><th>Last_buy_scaled</th><th>Frequency_scaled</th><th>Monetary_scaled</th></tr><tr><td>i64</td><td>f64</td><td>u32</td><td>f64</td><td>f64</td><td>f64</td><td>f64</td><td>f64</td><td>f64</td></tr></thead><tbody><tr><td>14687</td><td>106.0</td><td>1</td><td>217.02</td><td>5.384587</td><td>0.693147</td><td>0.140529</td><td>-0.948408</td><td>-0.627818</td></tr><tr><td>12594</td><td>46.0</td><td>8</td><td>2743.43</td><td>7.917329</td><td>2.197225</td><td>-0.459905</td><td>1.325446</td><td>1.402687</td></tr><tr><td>15214</td><td>1.0</td><td>8</td><td>1497.14</td><td>7.31198</td><td>2.197225</td><td>-0.91023</td><td>1.325446</td><td>0.917377</td></tr><tr><td>16387</td><td>322.0</td><td>1</td><td>94.36</td><td>4.557659</td><td>0.693147</td><td>2.302091</td><td>-0.948408</td><td>-1.290768</td></tr><tr><td>17962</td><td>142.0</td><td>1</td><td>82.02</td><td>4.419082</td><td>0.693147</td><td>0.500789</td><td>-0.948408</td><td>-1.401866</td></tr><tr><td>&hellip;</td><td>&hellip;</td><td>&hellip;</td><td>&hellip;</td><td>&hellip;</td><td>&hellip;</td><td>&hellip;</td><td>&hellip;</td><td>&hellip;</td></tr><tr><td>16637</td><td>32.0</td><td>4</td><td>921.76</td><td>6.827369</td><td>1.609438</td><td>-0.600006</td><td>0.436834</td><td>0.528863</td></tr><tr><td>13496</td><td>10.0</td><td>2</td><td>563.63</td><td>6.336171</td><td>1.098612</td><td>-0.820165</td><td>-0.335428</td><td>0.135069</td></tr><tr><td>15205</td><td>85.0</td><td>2</td><td>425.25</td><td>6.055026</td><td>1.098612</td><td>-0.069623</td><td>-0.335428</td><td>-0.090326</td></tr><tr><td>13356</td><td>80.0</td><td>1</td><td>548.59</td><td>6.309173</td><td>0.693147</td><td>-0.119659</td><td>-0.948408</td><td>0.113424</td></tr><tr><td>16250</td><td>261.0</td><td>2</td><td>373.54</td><td>5.925699</td><td>1.098612</td><td>1.69165</td><td>-0.335428</td><td>-0.194008</td></tr></tbody></table></div>"
            ],
            "text/plain": [
              "shape: (4_187, 9)\n",
              "┌────────────┬──────────┬───────────┬──────────┬───┬───────────┬───────────┬───────────┬───────────┐\n",
              "│ CustomerID ┆ Last_buy ┆ Frequency ┆ Monetary ┆ … ┆ Frequency ┆ Last_buy_ ┆ Frequency ┆ Monetary_ │\n",
              "│ ---        ┆ ---      ┆ ---       ┆ ---      ┆   ┆ _log      ┆ scaled    ┆ _scaled   ┆ scaled    │\n",
              "│ i64        ┆ f64      ┆ u32       ┆ f64      ┆   ┆ ---       ┆ ---       ┆ ---       ┆ ---       │\n",
              "│            ┆          ┆           ┆          ┆   ┆ f64       ┆ f64       ┆ f64       ┆ f64       │\n",
              "╞════════════╪══════════╪═══════════╪══════════╪═══╪═══════════╪═══════════╪═══════════╪═══════════╡\n",
              "│ 14687      ┆ 106.0    ┆ 1         ┆ 217.02   ┆ … ┆ 0.693147  ┆ 0.140529  ┆ -0.948408 ┆ -0.627818 │\n",
              "│ 12594      ┆ 46.0     ┆ 8         ┆ 2743.43  ┆ … ┆ 2.197225  ┆ -0.459905 ┆ 1.325446  ┆ 1.402687  │\n",
              "│ 15214      ┆ 1.0      ┆ 8         ┆ 1497.14  ┆ … ┆ 2.197225  ┆ -0.91023  ┆ 1.325446  ┆ 0.917377  │\n",
              "│ 16387      ┆ 322.0    ┆ 1         ┆ 94.36    ┆ … ┆ 0.693147  ┆ 2.302091  ┆ -0.948408 ┆ -1.290768 │\n",
              "│ 17962      ┆ 142.0    ┆ 1         ┆ 82.02    ┆ … ┆ 0.693147  ┆ 0.500789  ┆ -0.948408 ┆ -1.401866 │\n",
              "│ …          ┆ …        ┆ …         ┆ …        ┆ … ┆ …         ┆ …         ┆ …         ┆ …         │\n",
              "│ 16637      ┆ 32.0     ┆ 4         ┆ 921.76   ┆ … ┆ 1.609438  ┆ -0.600006 ┆ 0.436834  ┆ 0.528863  │\n",
              "│ 13496      ┆ 10.0     ┆ 2         ┆ 563.63   ┆ … ┆ 1.098612  ┆ -0.820165 ┆ -0.335428 ┆ 0.135069  │\n",
              "│ 15205      ┆ 85.0     ┆ 2         ┆ 425.25   ┆ … ┆ 1.098612  ┆ -0.069623 ┆ -0.335428 ┆ -0.090326 │\n",
              "│ 13356      ┆ 80.0     ┆ 1         ┆ 548.59   ┆ … ┆ 0.693147  ┆ -0.119659 ┆ -0.948408 ┆ 0.113424  │\n",
              "│ 16250      ┆ 261.0    ┆ 2         ┆ 373.54   ┆ … ┆ 1.098612  ┆ 1.69165   ┆ -0.335428 ┆ -0.194008 │\n",
              "└────────────┴──────────┴───────────┴──────────┴───┴───────────┴───────────┴───────────┴───────────┘"
            ]
          },
          "execution_count": 160,
          "metadata": {},
          "output_type": "execute_result"
        }
      ],
      "source": [
        "df = df.with_columns([\n",
        "    pl.Series(\"Last_buy_scaled\", X_scaled[:, 0]),\n",
        "    pl.Series(\"Frequency_scaled\", X_scaled[:, 1]),\n",
        "    pl.Series(\"Monetary_scaled\", X_scaled[:, 2])\n",
        "])\n",
        "df"
      ]
    },
    {
      "cell_type": "markdown",
      "metadata": {
        "id": "JigTHR4miEgm"
      },
      "source": [
        "Aqui hacemos un ultimo describe para ver como ha quedado el dataset, con todos los cambios"
      ]
    },
    {
      "cell_type": "code",
      "execution_count": 161,
      "metadata": {
        "id": "-Pqz2DzoiEgm",
        "outputId": "5a1f726c-5c81-4395-d160-3cb5c8c3cc53"
      },
      "outputs": [
        {
          "data": {
            "text/html": [
              "<div><style>\n",
              ".dataframe > thead > tr,\n",
              ".dataframe > tbody > tr {\n",
              "  text-align: right;\n",
              "  white-space: pre-wrap;\n",
              "}\n",
              "</style>\n",
              "<small>shape: (9, 10)</small><table border=\"1\" class=\"dataframe\"><thead><tr><th>statistic</th><th>CustomerID</th><th>Last_buy</th><th>Frequency</th><th>Monetary</th><th>Monetary_log</th><th>Frequency_log</th><th>Last_buy_scaled</th><th>Frequency_scaled</th><th>Monetary_scaled</th></tr><tr><td>str</td><td>f64</td><td>f64</td><td>f64</td><td>f64</td><td>f64</td><td>f64</td><td>f64</td><td>f64</td><td>f64</td></tr></thead><tbody><tr><td>&quot;count&quot;</td><td>4187.0</td><td>4187.0</td><td>4187.0</td><td>4187.0</td><td>4187.0</td><td>4187.0</td><td>4187.0</td><td>4187.0</td><td>4187.0</td></tr><tr><td>&quot;null_count&quot;</td><td>0.0</td><td>0.0</td><td>0.0</td><td>0.0</td><td>0.0</td><td>0.0</td><td>0.0</td><td>0.0</td><td>0.0</td></tr><tr><td>&quot;mean&quot;</td><td>15292.207308</td><td>91.957249</td><td>4.018629</td><td>1026.347429</td><td>6.167694</td><td>1.320487</td><td>-6.1093e-17</td><td>3.3940e-18</td><td>-1.1540e-16</td></tr><tr><td>&quot;std&quot;</td><td>1718.684598</td><td>99.939659</td><td>7.02668</td><td>2201.17447</td><td>1.247495</td><td>0.661545</td><td>1.000119</td><td>1.000119</td><td>1.000119</td></tr><tr><td>&quot;min&quot;</td><td>12347.0</td><td>0.0</td><td>1.0</td><td>1.9</td><td>1.064711</td><td>0.693147</td><td>-0.920238</td><td>-0.948408</td><td>-4.091073</td></tr><tr><td>&quot;25%&quot;</td><td>13812.0</td><td>17.0</td><td>1.0</td><td>206.13</td><td>5.333347</td><td>0.693147</td><td>-0.750115</td><td>-0.948408</td><td>-0.668898</td></tr><tr><td>&quot;50%&quot;</td><td>15286.0</td><td>50.0</td><td>2.0</td><td>465.97</td><td>6.146265</td><td>1.098612</td><td>-0.419876</td><td>-0.335428</td><td>-0.017179</td></tr><tr><td>&quot;75%&quot;</td><td>16773.0</td><td>143.0</td><td>4.0</td><td>1130.31</td><td>7.031132</td><td>1.609438</td><td>0.510797</td><td>0.436834</td><td>0.69222</td></tr><tr><td>&quot;max&quot;</td><td>18287.0</td><td>373.0</td><td>197.0</td><td>84980.89</td><td>11.350193</td><td>5.288267</td><td>2.81246</td><td>5.998462</td><td>4.154822</td></tr></tbody></table></div>"
            ],
            "text/plain": [
              "shape: (9, 10)\n",
              "┌───────────┬───────────┬───────────┬───────────┬───┬───────────┬───────────┬───────────┬──────────┐\n",
              "│ statistic ┆ CustomerI ┆ Last_buy  ┆ Frequency ┆ … ┆ Frequency ┆ Last_buy_ ┆ Frequency ┆ Monetary │\n",
              "│ ---       ┆ D         ┆ ---       ┆ ---       ┆   ┆ _log      ┆ scaled    ┆ _scaled   ┆ _scaled  │\n",
              "│ str       ┆ ---       ┆ f64       ┆ f64       ┆   ┆ ---       ┆ ---       ┆ ---       ┆ ---      │\n",
              "│           ┆ f64       ┆           ┆           ┆   ┆ f64       ┆ f64       ┆ f64       ┆ f64      │\n",
              "╞═══════════╪═══════════╪═══════════╪═══════════╪═══╪═══════════╪═══════════╪═══════════╪══════════╡\n",
              "│ count     ┆ 4187.0    ┆ 4187.0    ┆ 4187.0    ┆ … ┆ 4187.0    ┆ 4187.0    ┆ 4187.0    ┆ 4187.0   │\n",
              "│ null_coun ┆ 0.0       ┆ 0.0       ┆ 0.0       ┆ … ┆ 0.0       ┆ 0.0       ┆ 0.0       ┆ 0.0      │\n",
              "│ t         ┆           ┆           ┆           ┆   ┆           ┆           ┆           ┆          │\n",
              "│ mean      ┆ 15292.207 ┆ 91.957249 ┆ 4.018629  ┆ … ┆ 1.320487  ┆ -6.1093e- ┆ 3.3940e-1 ┆ -1.1540e │\n",
              "│           ┆ 308       ┆           ┆           ┆   ┆           ┆ 17        ┆ 8         ┆ -16      │\n",
              "│ std       ┆ 1718.6845 ┆ 99.939659 ┆ 7.02668   ┆ … ┆ 0.661545  ┆ 1.000119  ┆ 1.000119  ┆ 1.000119 │\n",
              "│           ┆ 98        ┆           ┆           ┆   ┆           ┆           ┆           ┆          │\n",
              "│ min       ┆ 12347.0   ┆ 0.0       ┆ 1.0       ┆ … ┆ 0.693147  ┆ -0.920238 ┆ -0.948408 ┆ -4.09107 │\n",
              "│           ┆           ┆           ┆           ┆   ┆           ┆           ┆           ┆ 3        │\n",
              "│ 25%       ┆ 13812.0   ┆ 17.0      ┆ 1.0       ┆ … ┆ 0.693147  ┆ -0.750115 ┆ -0.948408 ┆ -0.66889 │\n",
              "│           ┆           ┆           ┆           ┆   ┆           ┆           ┆           ┆ 8        │\n",
              "│ 50%       ┆ 15286.0   ┆ 50.0      ┆ 2.0       ┆ … ┆ 1.098612  ┆ -0.419876 ┆ -0.335428 ┆ -0.01717 │\n",
              "│           ┆           ┆           ┆           ┆   ┆           ┆           ┆           ┆ 9        │\n",
              "│ 75%       ┆ 16773.0   ┆ 143.0     ┆ 4.0       ┆ … ┆ 1.609438  ┆ 0.510797  ┆ 0.436834  ┆ 0.69222  │\n",
              "│ max       ┆ 18287.0   ┆ 373.0     ┆ 197.0     ┆ … ┆ 5.288267  ┆ 2.81246   ┆ 5.998462  ┆ 4.154822 │\n",
              "└───────────┴───────────┴───────────┴───────────┴───┴───────────┴───────────┴───────────┴──────────┘"
            ]
          },
          "execution_count": 161,
          "metadata": {},
          "output_type": "execute_result"
        }
      ],
      "source": [
        "df.describe()"
      ]
    },
    {
      "cell_type": "code",
      "execution_count": 162,
      "metadata": {
        "id": "LWGRTYg2iEgq"
      },
      "outputs": [],
      "source": [
        "df.write_csv(\"data_cleaned(clustering).csv\")\n",
        "\n",
        "\n"
      ]
    },
    {
      "cell_type": "code",
      "execution_count": 163,
      "metadata": {
        "id": "jXGlvy5QiEgq"
      },
      "outputs": [],
      "source": [
        "import pickle\n",
        "\n",
        "\n",
        "with open(\"datos_grouped(clustering).pkl\", \"wb\") as file:\n",
        "    pickle.dump(df, file)\n",
        "\n"
      ]
    }
  ],
  "metadata": {
    "colab": {
      "provenance": []
    },
    "kernelspec": {
      "display_name": "lab_venv",
      "language": "python",
      "name": "python3"
    },
    "language_info": {
      "codemirror_mode": {
        "name": "ipython",
        "version": 3
      },
      "file_extension": ".py",
      "mimetype": "text/x-python",
      "name": "python",
      "nbconvert_exporter": "python",
      "pygments_lexer": "ipython3",
      "version": "3.11.4"
    }
  },
  "nbformat": 4,
  "nbformat_minor": 0
}
