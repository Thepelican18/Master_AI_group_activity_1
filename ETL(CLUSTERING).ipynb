{
  "cells": [
    {
      "cell_type": "markdown",
      "metadata": {
        "id": "q8sN4BdQiMz_"
      },
      "source": [
        "Lo primero que hacemos en el proceso de ETL de este proyecto es cargar el csv, lo cargaremos con polars usando un read_csv y lo cargaremos con el codigo ISO.\n"
      ]
    },
    {
      "cell_type": "code",
      "execution_count": null,
      "metadata": {
        "id": "Q3YfeWoWiEgc",
        "outputId": "53c39d9d-d31d-43af-d663-5813f4746de1"
      },
      "outputs": [
        {
          "data": {
            "text/html": [
              "<div><style>\n",
              ".dataframe > thead > tr,\n",
              ".dataframe > tbody > tr {\n",
              "  text-align: right;\n",
              "  white-space: pre-wrap;\n",
              "}\n",
              "</style>\n",
              "<small>shape: (541_909, 8)</small><table border=\"1\" class=\"dataframe\"><thead><tr><th>InvoiceNo</th><th>StockCode</th><th>Description</th><th>Quantity</th><th>InvoiceDate</th><th>UnitPrice</th><th>CustomerID</th><th>Country</th></tr><tr><td>str</td><td>str</td><td>str</td><td>i64</td><td>str</td><td>f64</td><td>i64</td><td>str</td></tr></thead><tbody><tr><td>&quot;536365&quot;</td><td>&quot;85123A&quot;</td><td>&quot;WHITE HANGING HEART T-LIGHT HO…</td><td>6</td><td>&quot;12/1/2010 8:26&quot;</td><td>2.55</td><td>17850</td><td>&quot;United Kingdom&quot;</td></tr><tr><td>&quot;536365&quot;</td><td>&quot;71053&quot;</td><td>&quot;WHITE METAL LANTERN&quot;</td><td>6</td><td>&quot;12/1/2010 8:26&quot;</td><td>3.39</td><td>17850</td><td>&quot;United Kingdom&quot;</td></tr><tr><td>&quot;536365&quot;</td><td>&quot;84406B&quot;</td><td>&quot;CREAM CUPID HEARTS COAT HANGER&quot;</td><td>8</td><td>&quot;12/1/2010 8:26&quot;</td><td>2.75</td><td>17850</td><td>&quot;United Kingdom&quot;</td></tr><tr><td>&quot;536365&quot;</td><td>&quot;84029G&quot;</td><td>&quot;KNITTED UNION FLAG HOT WATER B…</td><td>6</td><td>&quot;12/1/2010 8:26&quot;</td><td>3.39</td><td>17850</td><td>&quot;United Kingdom&quot;</td></tr><tr><td>&quot;536365&quot;</td><td>&quot;84029E&quot;</td><td>&quot;RED WOOLLY HOTTIE WHITE HEART.&quot;</td><td>6</td><td>&quot;12/1/2010 8:26&quot;</td><td>3.39</td><td>17850</td><td>&quot;United Kingdom&quot;</td></tr><tr><td>&hellip;</td><td>&hellip;</td><td>&hellip;</td><td>&hellip;</td><td>&hellip;</td><td>&hellip;</td><td>&hellip;</td><td>&hellip;</td></tr><tr><td>&quot;581587&quot;</td><td>&quot;22613&quot;</td><td>&quot;PACK OF 20 SPACEBOY NAPKINS&quot;</td><td>12</td><td>&quot;12/9/2011 12:50&quot;</td><td>0.85</td><td>12680</td><td>&quot;France&quot;</td></tr><tr><td>&quot;581587&quot;</td><td>&quot;22899&quot;</td><td>&quot;CHILDREN&#x27;S APRON DOLLY GIRL &quot;</td><td>6</td><td>&quot;12/9/2011 12:50&quot;</td><td>2.1</td><td>12680</td><td>&quot;France&quot;</td></tr><tr><td>&quot;581587&quot;</td><td>&quot;23254&quot;</td><td>&quot;CHILDRENS CUTLERY DOLLY GIRL &quot;</td><td>4</td><td>&quot;12/9/2011 12:50&quot;</td><td>4.15</td><td>12680</td><td>&quot;France&quot;</td></tr><tr><td>&quot;581587&quot;</td><td>&quot;23255&quot;</td><td>&quot;CHILDRENS CUTLERY CIRCUS PARAD…</td><td>4</td><td>&quot;12/9/2011 12:50&quot;</td><td>4.15</td><td>12680</td><td>&quot;France&quot;</td></tr><tr><td>&quot;581587&quot;</td><td>&quot;22138&quot;</td><td>&quot;BAKING SET 9 PIECE RETROSPOT &quot;</td><td>3</td><td>&quot;12/9/2011 12:50&quot;</td><td>4.95</td><td>12680</td><td>&quot;France&quot;</td></tr></tbody></table></div>"
            ],
            "text/plain": [
              "shape: (541_909, 8)\n",
              "┌───────────┬───────────┬──────────────┬──────────┬─────────────┬───────────┬────────────┬─────────┐\n",
              "│ InvoiceNo ┆ StockCode ┆ Description  ┆ Quantity ┆ InvoiceDate ┆ UnitPrice ┆ CustomerID ┆ Country │\n",
              "│ ---       ┆ ---       ┆ ---          ┆ ---      ┆ ---         ┆ ---       ┆ ---        ┆ ---     │\n",
              "│ str       ┆ str       ┆ str          ┆ i64      ┆ str         ┆ f64       ┆ i64        ┆ str     │\n",
              "╞═══════════╪═══════════╪══════════════╪══════════╪═════════════╪═══════════╪════════════╪═════════╡\n",
              "│ 536365    ┆ 85123A    ┆ WHITE        ┆ 6        ┆ 12/1/2010   ┆ 2.55      ┆ 17850      ┆ United  │\n",
              "│           ┆           ┆ HANGING      ┆          ┆ 8:26        ┆           ┆            ┆ Kingdom │\n",
              "│           ┆           ┆ HEART        ┆          ┆             ┆           ┆            ┆         │\n",
              "│           ┆           ┆ T-LIGHT HO…  ┆          ┆             ┆           ┆            ┆         │\n",
              "│ 536365    ┆ 71053     ┆ WHITE METAL  ┆ 6        ┆ 12/1/2010   ┆ 3.39      ┆ 17850      ┆ United  │\n",
              "│           ┆           ┆ LANTERN      ┆          ┆ 8:26        ┆           ┆            ┆ Kingdom │\n",
              "│ 536365    ┆ 84406B    ┆ CREAM CUPID  ┆ 8        ┆ 12/1/2010   ┆ 2.75      ┆ 17850      ┆ United  │\n",
              "│           ┆           ┆ HEARTS COAT  ┆          ┆ 8:26        ┆           ┆            ┆ Kingdom │\n",
              "│           ┆           ┆ HANGER       ┆          ┆             ┆           ┆            ┆         │\n",
              "│ 536365    ┆ 84029G    ┆ KNITTED      ┆ 6        ┆ 12/1/2010   ┆ 3.39      ┆ 17850      ┆ United  │\n",
              "│           ┆           ┆ UNION FLAG   ┆          ┆ 8:26        ┆           ┆            ┆ Kingdom │\n",
              "│           ┆           ┆ HOT WATER B… ┆          ┆             ┆           ┆            ┆         │\n",
              "│ 536365    ┆ 84029E    ┆ RED WOOLLY   ┆ 6        ┆ 12/1/2010   ┆ 3.39      ┆ 17850      ┆ United  │\n",
              "│           ┆           ┆ HOTTIE WHITE ┆          ┆ 8:26        ┆           ┆            ┆ Kingdom │\n",
              "│           ┆           ┆ HEART.       ┆          ┆             ┆           ┆            ┆         │\n",
              "│ …         ┆ …         ┆ …            ┆ …        ┆ …           ┆ …         ┆ …          ┆ …       │\n",
              "│ 581587    ┆ 22613     ┆ PACK OF 20   ┆ 12       ┆ 12/9/2011   ┆ 0.85      ┆ 12680      ┆ France  │\n",
              "│           ┆           ┆ SPACEBOY     ┆          ┆ 12:50       ┆           ┆            ┆         │\n",
              "│           ┆           ┆ NAPKINS      ┆          ┆             ┆           ┆            ┆         │\n",
              "│ 581587    ┆ 22899     ┆ CHILDREN'S   ┆ 6        ┆ 12/9/2011   ┆ 2.1       ┆ 12680      ┆ France  │\n",
              "│           ┆           ┆ APRON DOLLY  ┆          ┆ 12:50       ┆           ┆            ┆         │\n",
              "│           ┆           ┆ GIRL         ┆          ┆             ┆           ┆            ┆         │\n",
              "│ 581587    ┆ 23254     ┆ CHILDRENS    ┆ 4        ┆ 12/9/2011   ┆ 4.15      ┆ 12680      ┆ France  │\n",
              "│           ┆           ┆ CUTLERY      ┆          ┆ 12:50       ┆           ┆            ┆         │\n",
              "│           ┆           ┆ DOLLY GIRL   ┆          ┆             ┆           ┆            ┆         │\n",
              "│ 581587    ┆ 23255     ┆ CHILDRENS    ┆ 4        ┆ 12/9/2011   ┆ 4.15      ┆ 12680      ┆ France  │\n",
              "│           ┆           ┆ CUTLERY      ┆          ┆ 12:50       ┆           ┆            ┆         │\n",
              "│           ┆           ┆ CIRCUS       ┆          ┆             ┆           ┆            ┆         │\n",
              "│           ┆           ┆ PARAD…       ┆          ┆             ┆           ┆            ┆         │\n",
              "│ 581587    ┆ 22138     ┆ BAKING SET 9 ┆ 3        ┆ 12/9/2011   ┆ 4.95      ┆ 12680      ┆ France  │\n",
              "│           ┆           ┆ PIECE        ┆          ┆ 12:50       ┆           ┆            ┆         │\n",
              "│           ┆           ┆ RETROSPOT    ┆          ┆             ┆           ┆            ┆         │\n",
              "└───────────┴───────────┴──────────────┴──────────┴─────────────┴───────────┴────────────┴─────────┘"
            ]
          },
          "execution_count": 139,
          "metadata": {},
          "output_type": "execute_result"
        }
      ],
      "source": [
        "import polars as pl\n",
        "\n",
        "df = pl.read_csv(\"data.csv\", encoding=\"ISO-8859-1\", infer_schema_length=10000)\n",
        "df\n"
      ]
    },
    {
      "cell_type": "markdown",
      "metadata": {
        "id": "2T8E1Bq0iEge"
      },
      "source": [
        "\n",
        "Ahora sobre el dataset vamos a analizar si hay datos que limpiar:\n",
        "\n",
        "Primero comprobaremos si el dataset contiene valores nulos."
      ]
    },
    {
      "cell_type": "code",
      "execution_count": null,
      "metadata": {
        "id": "a0yzfeRZiEgf",
        "outputId": "b8f270bc-6a0f-48f6-f540-b9fd8ba2bca0"
      },
      "outputs": [
        {
          "data": {
            "text/html": [
              "<div><style>\n",
              ".dataframe > thead > tr,\n",
              ".dataframe > tbody > tr {\n",
              "  text-align: right;\n",
              "  white-space: pre-wrap;\n",
              "}\n",
              "</style>\n",
              "<small>shape: (1, 8)</small><table border=\"1\" class=\"dataframe\"><thead><tr><th>InvoiceNo</th><th>StockCode</th><th>Description</th><th>Quantity</th><th>InvoiceDate</th><th>UnitPrice</th><th>CustomerID</th><th>Country</th></tr><tr><td>u32</td><td>u32</td><td>u32</td><td>u32</td><td>u32</td><td>u32</td><td>u32</td><td>u32</td></tr></thead><tbody><tr><td>0</td><td>0</td><td>1454</td><td>0</td><td>0</td><td>0</td><td>135080</td><td>0</td></tr></tbody></table></div>"
            ],
            "text/plain": [
              "shape: (1, 8)\n",
              "┌───────────┬───────────┬─────────────┬──────────┬─────────────┬───────────┬────────────┬─────────┐\n",
              "│ InvoiceNo ┆ StockCode ┆ Description ┆ Quantity ┆ InvoiceDate ┆ UnitPrice ┆ CustomerID ┆ Country │\n",
              "│ ---       ┆ ---       ┆ ---         ┆ ---      ┆ ---         ┆ ---       ┆ ---        ┆ ---     │\n",
              "│ u32       ┆ u32       ┆ u32         ┆ u32      ┆ u32         ┆ u32       ┆ u32        ┆ u32     │\n",
              "╞═══════════╪═══════════╪═════════════╪══════════╪═════════════╪═══════════╪════════════╪═════════╡\n",
              "│ 0         ┆ 0         ┆ 1454        ┆ 0        ┆ 0           ┆ 0         ┆ 135080     ┆ 0       │\n",
              "└───────────┴───────────┴─────────────┴──────────┴─────────────┴───────────┴────────────┴─────────┘"
            ]
          },
          "execution_count": 140,
          "metadata": {},
          "output_type": "execute_result"
        }
      ],
      "source": [
        "df.null_count()\n"
      ]
    },
    {
      "cell_type": "markdown",
      "metadata": {
        "id": "0PtPc_n0iEgf"
      },
      "source": [
        "Como vemos hay muchos nulls, dado que el objetivo es agrupar por tipo de clientes el custumerID es esencial y no podemos tabajar sin el. y la descripcion seguramente la ignoremos, por que lo mas util a la hora de agrupar por cliente es la cantidad comprada, el valor total de gasto  y pais."
      ]
    },
    {
      "cell_type": "code",
      "execution_count": null,
      "metadata": {
        "id": "7-e9TN-XiEgg",
        "outputId": "f53391dc-5d77-4289-fb25-245614b3c715"
      },
      "outputs": [
        {
          "data": {
            "text/html": [
              "<div><style>\n",
              ".dataframe > thead > tr,\n",
              ".dataframe > tbody > tr {\n",
              "  text-align: right;\n",
              "  white-space: pre-wrap;\n",
              "}\n",
              "</style>\n",
              "<small>shape: (406_829, 8)</small><table border=\"1\" class=\"dataframe\"><thead><tr><th>InvoiceNo</th><th>StockCode</th><th>Description</th><th>Quantity</th><th>InvoiceDate</th><th>UnitPrice</th><th>CustomerID</th><th>Country</th></tr><tr><td>str</td><td>str</td><td>str</td><td>i64</td><td>str</td><td>f64</td><td>i64</td><td>str</td></tr></thead><tbody><tr><td>&quot;536365&quot;</td><td>&quot;85123A&quot;</td><td>&quot;WHITE HANGING HEART T-LIGHT HO…</td><td>6</td><td>&quot;12/1/2010 8:26&quot;</td><td>2.55</td><td>17850</td><td>&quot;United Kingdom&quot;</td></tr><tr><td>&quot;536365&quot;</td><td>&quot;71053&quot;</td><td>&quot;WHITE METAL LANTERN&quot;</td><td>6</td><td>&quot;12/1/2010 8:26&quot;</td><td>3.39</td><td>17850</td><td>&quot;United Kingdom&quot;</td></tr><tr><td>&quot;536365&quot;</td><td>&quot;84406B&quot;</td><td>&quot;CREAM CUPID HEARTS COAT HANGER&quot;</td><td>8</td><td>&quot;12/1/2010 8:26&quot;</td><td>2.75</td><td>17850</td><td>&quot;United Kingdom&quot;</td></tr><tr><td>&quot;536365&quot;</td><td>&quot;84029G&quot;</td><td>&quot;KNITTED UNION FLAG HOT WATER B…</td><td>6</td><td>&quot;12/1/2010 8:26&quot;</td><td>3.39</td><td>17850</td><td>&quot;United Kingdom&quot;</td></tr><tr><td>&quot;536365&quot;</td><td>&quot;84029E&quot;</td><td>&quot;RED WOOLLY HOTTIE WHITE HEART.&quot;</td><td>6</td><td>&quot;12/1/2010 8:26&quot;</td><td>3.39</td><td>17850</td><td>&quot;United Kingdom&quot;</td></tr><tr><td>&hellip;</td><td>&hellip;</td><td>&hellip;</td><td>&hellip;</td><td>&hellip;</td><td>&hellip;</td><td>&hellip;</td><td>&hellip;</td></tr><tr><td>&quot;581587&quot;</td><td>&quot;22613&quot;</td><td>&quot;PACK OF 20 SPACEBOY NAPKINS&quot;</td><td>12</td><td>&quot;12/9/2011 12:50&quot;</td><td>0.85</td><td>12680</td><td>&quot;France&quot;</td></tr><tr><td>&quot;581587&quot;</td><td>&quot;22899&quot;</td><td>&quot;CHILDREN&#x27;S APRON DOLLY GIRL &quot;</td><td>6</td><td>&quot;12/9/2011 12:50&quot;</td><td>2.1</td><td>12680</td><td>&quot;France&quot;</td></tr><tr><td>&quot;581587&quot;</td><td>&quot;23254&quot;</td><td>&quot;CHILDRENS CUTLERY DOLLY GIRL &quot;</td><td>4</td><td>&quot;12/9/2011 12:50&quot;</td><td>4.15</td><td>12680</td><td>&quot;France&quot;</td></tr><tr><td>&quot;581587&quot;</td><td>&quot;23255&quot;</td><td>&quot;CHILDRENS CUTLERY CIRCUS PARAD…</td><td>4</td><td>&quot;12/9/2011 12:50&quot;</td><td>4.15</td><td>12680</td><td>&quot;France&quot;</td></tr><tr><td>&quot;581587&quot;</td><td>&quot;22138&quot;</td><td>&quot;BAKING SET 9 PIECE RETROSPOT &quot;</td><td>3</td><td>&quot;12/9/2011 12:50&quot;</td><td>4.95</td><td>12680</td><td>&quot;France&quot;</td></tr></tbody></table></div>"
            ],
            "text/plain": [
              "shape: (406_829, 8)\n",
              "┌───────────┬───────────┬──────────────┬──────────┬─────────────┬───────────┬────────────┬─────────┐\n",
              "│ InvoiceNo ┆ StockCode ┆ Description  ┆ Quantity ┆ InvoiceDate ┆ UnitPrice ┆ CustomerID ┆ Country │\n",
              "│ ---       ┆ ---       ┆ ---          ┆ ---      ┆ ---         ┆ ---       ┆ ---        ┆ ---     │\n",
              "│ str       ┆ str       ┆ str          ┆ i64      ┆ str         ┆ f64       ┆ i64        ┆ str     │\n",
              "╞═══════════╪═══════════╪══════════════╪══════════╪═════════════╪═══════════╪════════════╪═════════╡\n",
              "│ 536365    ┆ 85123A    ┆ WHITE        ┆ 6        ┆ 12/1/2010   ┆ 2.55      ┆ 17850      ┆ United  │\n",
              "│           ┆           ┆ HANGING      ┆          ┆ 8:26        ┆           ┆            ┆ Kingdom │\n",
              "│           ┆           ┆ HEART        ┆          ┆             ┆           ┆            ┆         │\n",
              "│           ┆           ┆ T-LIGHT HO…  ┆          ┆             ┆           ┆            ┆         │\n",
              "│ 536365    ┆ 71053     ┆ WHITE METAL  ┆ 6        ┆ 12/1/2010   ┆ 3.39      ┆ 17850      ┆ United  │\n",
              "│           ┆           ┆ LANTERN      ┆          ┆ 8:26        ┆           ┆            ┆ Kingdom │\n",
              "│ 536365    ┆ 84406B    ┆ CREAM CUPID  ┆ 8        ┆ 12/1/2010   ┆ 2.75      ┆ 17850      ┆ United  │\n",
              "│           ┆           ┆ HEARTS COAT  ┆          ┆ 8:26        ┆           ┆            ┆ Kingdom │\n",
              "│           ┆           ┆ HANGER       ┆          ┆             ┆           ┆            ┆         │\n",
              "│ 536365    ┆ 84029G    ┆ KNITTED      ┆ 6        ┆ 12/1/2010   ┆ 3.39      ┆ 17850      ┆ United  │\n",
              "│           ┆           ┆ UNION FLAG   ┆          ┆ 8:26        ┆           ┆            ┆ Kingdom │\n",
              "│           ┆           ┆ HOT WATER B… ┆          ┆             ┆           ┆            ┆         │\n",
              "│ 536365    ┆ 84029E    ┆ RED WOOLLY   ┆ 6        ┆ 12/1/2010   ┆ 3.39      ┆ 17850      ┆ United  │\n",
              "│           ┆           ┆ HOTTIE WHITE ┆          ┆ 8:26        ┆           ┆            ┆ Kingdom │\n",
              "│           ┆           ┆ HEART.       ┆          ┆             ┆           ┆            ┆         │\n",
              "│ …         ┆ …         ┆ …            ┆ …        ┆ …           ┆ …         ┆ …          ┆ …       │\n",
              "│ 581587    ┆ 22613     ┆ PACK OF 20   ┆ 12       ┆ 12/9/2011   ┆ 0.85      ┆ 12680      ┆ France  │\n",
              "│           ┆           ┆ SPACEBOY     ┆          ┆ 12:50       ┆           ┆            ┆         │\n",
              "│           ┆           ┆ NAPKINS      ┆          ┆             ┆           ┆            ┆         │\n",
              "│ 581587    ┆ 22899     ┆ CHILDREN'S   ┆ 6        ┆ 12/9/2011   ┆ 2.1       ┆ 12680      ┆ France  │\n",
              "│           ┆           ┆ APRON DOLLY  ┆          ┆ 12:50       ┆           ┆            ┆         │\n",
              "│           ┆           ┆ GIRL         ┆          ┆             ┆           ┆            ┆         │\n",
              "│ 581587    ┆ 23254     ┆ CHILDRENS    ┆ 4        ┆ 12/9/2011   ┆ 4.15      ┆ 12680      ┆ France  │\n",
              "│           ┆           ┆ CUTLERY      ┆          ┆ 12:50       ┆           ┆            ┆         │\n",
              "│           ┆           ┆ DOLLY GIRL   ┆          ┆             ┆           ┆            ┆         │\n",
              "│ 581587    ┆ 23255     ┆ CHILDRENS    ┆ 4        ┆ 12/9/2011   ┆ 4.15      ┆ 12680      ┆ France  │\n",
              "│           ┆           ┆ CUTLERY      ┆          ┆ 12:50       ┆           ┆            ┆         │\n",
              "│           ┆           ┆ CIRCUS       ┆          ┆             ┆           ┆            ┆         │\n",
              "│           ┆           ┆ PARAD…       ┆          ┆             ┆           ┆            ┆         │\n",
              "│ 581587    ┆ 22138     ┆ BAKING SET 9 ┆ 3        ┆ 12/9/2011   ┆ 4.95      ┆ 12680      ┆ France  │\n",
              "│           ┆           ┆ PIECE        ┆          ┆ 12:50       ┆           ┆            ┆         │\n",
              "│           ┆           ┆ RETROSPOT    ┆          ┆             ┆           ┆            ┆         │\n",
              "└───────────┴───────────┴──────────────┴──────────┴─────────────┴───────────┴────────────┴─────────┘"
            ]
          },
          "execution_count": 141,
          "metadata": {},
          "output_type": "execute_result"
        }
      ],
      "source": [
        "df = df.filter(df[\"Description\"].is_not_null())\n",
        "df = df.filter(df[\"CustomerID\"].is_not_null())\n",
        "df"
      ]
    },
    {
      "cell_type": "markdown",
      "metadata": {
        "id": "rKEJ5zB-iEgg"
      },
      "source": [
        "Habiendonos desecho de todos los datos con valores nulos seguiremos con los valores duplicados de todas las columnas, que tambien es importante por si a la hora de insertar los datos se cometio el error de añadir la misma compra dos veces, con lo cual no nos seria util para nuestra posterior predicción."
      ]
    },
    {
      "cell_type": "code",
      "execution_count": null,
      "metadata": {
        "id": "Lu7Y5gxriEgg",
        "outputId": "b677f2af-e808-4082-cea7-4979598f9783"
      },
      "outputs": [
        {
          "data": {
            "text/plain": [
              "'Filas duplicadas: 5225'"
            ]
          },
          "execution_count": 142,
          "metadata": {},
          "output_type": "execute_result"
        }
      ],
      "source": [
        "\n",
        "f\"Filas duplicadas: {df.height - df.unique().height}\""
      ]
    },
    {
      "cell_type": "markdown",
      "metadata": {
        "id": "qwyTFLlViEgg"
      },
      "source": [
        "En nuestro caso elimineramos estas filas duplicadas y, como mencionamos anteriormente, es muy probable que se trate de un error de la aplicacion al insertar datos y nos perjudique a la hora de hacer las predicciones."
      ]
    },
    {
      "cell_type": "code",
      "execution_count": null,
      "metadata": {
        "id": "2OhUoupQiEgh",
        "outputId": "6beb688d-d0f6-4c6e-854a-b615e8a1acdc"
      },
      "outputs": [
        {
          "data": {
            "text/html": [
              "<div><style>\n",
              ".dataframe > thead > tr,\n",
              ".dataframe > tbody > tr {\n",
              "  text-align: right;\n",
              "  white-space: pre-wrap;\n",
              "}\n",
              "</style>\n",
              "<small>shape: (401_604, 8)</small><table border=\"1\" class=\"dataframe\"><thead><tr><th>InvoiceNo</th><th>StockCode</th><th>Description</th><th>Quantity</th><th>InvoiceDate</th><th>UnitPrice</th><th>CustomerID</th><th>Country</th></tr><tr><td>str</td><td>str</td><td>str</td><td>i64</td><td>str</td><td>f64</td><td>i64</td><td>str</td></tr></thead><tbody><tr><td>&quot;559672&quot;</td><td>&quot;85071B&quot;</td><td>&quot;RED CHARLIE+LOLA PERSONAL DOOR…</td><td>18</td><td>&quot;7/11/2011 14:04&quot;</td><td>0.39</td><td>14796</td><td>&quot;United Kingdom&quot;</td></tr><tr><td>&quot;562129&quot;</td><td>&quot;22430&quot;</td><td>&quot;ENAMEL WATERING CAN CREAM&quot;</td><td>4</td><td>&quot;8/3/2011 9:09&quot;</td><td>4.95</td><td>13186</td><td>&quot;United Kingdom&quot;</td></tr><tr><td>&quot;568060&quot;</td><td>&quot;84945&quot;</td><td>&quot;MULTI COLOUR SILVER T-LIGHT HO…</td><td>12</td><td>&quot;9/23/2011 13:11&quot;</td><td>0.85</td><td>14546</td><td>&quot;United Kingdom&quot;</td></tr><tr><td>&quot;575837&quot;</td><td>&quot;23483&quot;</td><td>&quot;HANGING&nbsp;&nbsp;BUTTERFLY T-LIGHT HOL…</td><td>18</td><td>&quot;11/11/2011 11:37&quot;</td><td>1.25</td><td>12748</td><td>&quot;United Kingdom&quot;</td></tr><tr><td>&quot;566408&quot;</td><td>&quot;23415&quot;</td><td>&quot;HOME SWEET HOME HOOK&quot;</td><td>5</td><td>&quot;9/12/2011 13:43&quot;</td><td>1.65</td><td>16984</td><td>&quot;United Kingdom&quot;</td></tr><tr><td>&hellip;</td><td>&hellip;</td><td>&hellip;</td><td>&hellip;</td><td>&hellip;</td><td>&hellip;</td><td>&hellip;</td><td>&hellip;</td></tr><tr><td>&quot;570637&quot;</td><td>&quot;85099B&quot;</td><td>&quot;JUMBO BAG RED RETROSPOT&quot;</td><td>10</td><td>&quot;10/11/2011 12:34&quot;</td><td>2.08</td><td>12530</td><td>&quot;Germany&quot;</td></tr><tr><td>&quot;552883&quot;</td><td>&quot;21672&quot;</td><td>&quot;WHITE SPOT RED CERAMIC DRAWER …</td><td>96</td><td>&quot;5/12/2011 10:13&quot;</td><td>1.06</td><td>14646</td><td>&quot;Netherlands&quot;</td></tr><tr><td>&quot;555405&quot;</td><td>&quot;23147&quot;</td><td>&quot;SINGLE ANTIQUE ROSE HOOK IVORY&quot;</td><td>12</td><td>&quot;6/2/2011 19:17&quot;</td><td>1.45</td><td>17531</td><td>&quot;United Kingdom&quot;</td></tr><tr><td>&quot;569026&quot;</td><td>&quot;23322&quot;</td><td>&quot;LARGE WHITE HEART OF WICKER&quot;</td><td>6</td><td>&quot;9/30/2011 10:18&quot;</td><td>2.95</td><td>16101</td><td>&quot;United Kingdom&quot;</td></tr><tr><td>&quot;577167&quot;</td><td>&quot;23390&quot;</td><td>&quot;DOLLY GIRL MINI BACKPACK&quot;</td><td>2</td><td>&quot;11/18/2011 10:41&quot;</td><td>4.15</td><td>16511</td><td>&quot;United Kingdom&quot;</td></tr></tbody></table></div>"
            ],
            "text/plain": [
              "shape: (401_604, 8)\n",
              "┌───────────┬───────────┬────────────┬──────────┬────────────┬───────────┬────────────┬────────────┐\n",
              "│ InvoiceNo ┆ StockCode ┆ Descriptio ┆ Quantity ┆ InvoiceDat ┆ UnitPrice ┆ CustomerID ┆ Country    │\n",
              "│ ---       ┆ ---       ┆ n          ┆ ---      ┆ e          ┆ ---       ┆ ---        ┆ ---        │\n",
              "│ str       ┆ str       ┆ ---        ┆ i64      ┆ ---        ┆ f64       ┆ i64        ┆ str        │\n",
              "│           ┆           ┆ str        ┆          ┆ str        ┆           ┆            ┆            │\n",
              "╞═══════════╪═══════════╪════════════╪══════════╪════════════╪═══════════╪════════════╪════════════╡\n",
              "│ 559672    ┆ 85071B    ┆ RED CHARLI ┆ 18       ┆ 7/11/2011  ┆ 0.39      ┆ 14796      ┆ United     │\n",
              "│           ┆           ┆ E+LOLA     ┆          ┆ 14:04      ┆           ┆            ┆ Kingdom    │\n",
              "│           ┆           ┆ PERSONAL   ┆          ┆            ┆           ┆            ┆            │\n",
              "│           ┆           ┆ DOOR…      ┆          ┆            ┆           ┆            ┆            │\n",
              "│ 562129    ┆ 22430     ┆ ENAMEL     ┆ 4        ┆ 8/3/2011   ┆ 4.95      ┆ 13186      ┆ United     │\n",
              "│           ┆           ┆ WATERING   ┆          ┆ 9:09       ┆           ┆            ┆ Kingdom    │\n",
              "│           ┆           ┆ CAN CREAM  ┆          ┆            ┆           ┆            ┆            │\n",
              "│ 568060    ┆ 84945     ┆ MULTI      ┆ 12       ┆ 9/23/2011  ┆ 0.85      ┆ 14546      ┆ United     │\n",
              "│           ┆           ┆ COLOUR     ┆          ┆ 13:11      ┆           ┆            ┆ Kingdom    │\n",
              "│           ┆           ┆ SILVER     ┆          ┆            ┆           ┆            ┆            │\n",
              "│           ┆           ┆ T-LIGHT    ┆          ┆            ┆           ┆            ┆            │\n",
              "│           ┆           ┆ HO…        ┆          ┆            ┆           ┆            ┆            │\n",
              "│ 575837    ┆ 23483     ┆ HANGING    ┆ 18       ┆ 11/11/2011 ┆ 1.25      ┆ 12748      ┆ United     │\n",
              "│           ┆           ┆ BUTTERFLY  ┆          ┆ 11:37      ┆           ┆            ┆ Kingdom    │\n",
              "│           ┆           ┆ T-LIGHT    ┆          ┆            ┆           ┆            ┆            │\n",
              "│           ┆           ┆ HOL…       ┆          ┆            ┆           ┆            ┆            │\n",
              "│ 566408    ┆ 23415     ┆ HOME SWEET ┆ 5        ┆ 9/12/2011  ┆ 1.65      ┆ 16984      ┆ United     │\n",
              "│           ┆           ┆ HOME HOOK  ┆          ┆ 13:43      ┆           ┆            ┆ Kingdom    │\n",
              "│ …         ┆ …         ┆ …          ┆ …        ┆ …          ┆ …         ┆ …          ┆ …          │\n",
              "│ 570637    ┆ 85099B    ┆ JUMBO BAG  ┆ 10       ┆ 10/11/2011 ┆ 2.08      ┆ 12530      ┆ Germany    │\n",
              "│           ┆           ┆ RED        ┆          ┆ 12:34      ┆           ┆            ┆            │\n",
              "│           ┆           ┆ RETROSPOT  ┆          ┆            ┆           ┆            ┆            │\n",
              "│ 552883    ┆ 21672     ┆ WHITE SPOT ┆ 96       ┆ 5/12/2011  ┆ 1.06      ┆ 14646      ┆ Netherland │\n",
              "│           ┆           ┆ RED        ┆          ┆ 10:13      ┆           ┆            ┆ s          │\n",
              "│           ┆           ┆ CERAMIC    ┆          ┆            ┆           ┆            ┆            │\n",
              "│           ┆           ┆ DRAWER …   ┆          ┆            ┆           ┆            ┆            │\n",
              "│ 555405    ┆ 23147     ┆ SINGLE     ┆ 12       ┆ 6/2/2011   ┆ 1.45      ┆ 17531      ┆ United     │\n",
              "│           ┆           ┆ ANTIQUE    ┆          ┆ 19:17      ┆           ┆            ┆ Kingdom    │\n",
              "│           ┆           ┆ ROSE HOOK  ┆          ┆            ┆           ┆            ┆            │\n",
              "│           ┆           ┆ IVORY      ┆          ┆            ┆           ┆            ┆            │\n",
              "│ 569026    ┆ 23322     ┆ LARGE      ┆ 6        ┆ 9/30/2011  ┆ 2.95      ┆ 16101      ┆ United     │\n",
              "│           ┆           ┆ WHITE      ┆          ┆ 10:18      ┆           ┆            ┆ Kingdom    │\n",
              "│           ┆           ┆ HEART OF   ┆          ┆            ┆           ┆            ┆            │\n",
              "│           ┆           ┆ WICKER     ┆          ┆            ┆           ┆            ┆            │\n",
              "│ 577167    ┆ 23390     ┆ DOLLY GIRL ┆ 2        ┆ 11/18/2011 ┆ 4.15      ┆ 16511      ┆ United     │\n",
              "│           ┆           ┆ MINI       ┆          ┆ 10:41      ┆           ┆            ┆ Kingdom    │\n",
              "│           ┆           ┆ BACKPACK   ┆          ┆            ┆           ┆            ┆            │\n",
              "└───────────┴───────────┴────────────┴──────────┴────────────┴───────────┴────────────┴────────────┘"
            ]
          },
          "execution_count": 143,
          "metadata": {},
          "output_type": "execute_result"
        }
      ],
      "source": [
        "\n",
        "df = df.unique()\n",
        "df"
      ]
    },
    {
      "cell_type": "markdown",
      "metadata": {
        "id": "Jg0MECIWiEgh"
      },
      "source": [
        "Ahora iremos con los valores negativos tanto en la columna de Quantity como en el UnitPrice, ya que serian los unicos que podrian tener unos valores negativos."
      ]
    },
    {
      "cell_type": "code",
      "execution_count": null,
      "metadata": {
        "id": "U3wa-jr2iEgh",
        "outputId": "da9258b2-0d38-4db2-b09f-1fcbe43b24f3"
      },
      "outputs": [
        {
          "data": {
            "text/html": [
              "<div><style>\n",
              ".dataframe > thead > tr,\n",
              ".dataframe > tbody > tr {\n",
              "  text-align: right;\n",
              "  white-space: pre-wrap;\n",
              "}\n",
              "</style>\n",
              "<small>shape: (8_872, 8)</small><table border=\"1\" class=\"dataframe\"><thead><tr><th>InvoiceNo</th><th>StockCode</th><th>Description</th><th>Quantity</th><th>InvoiceDate</th><th>UnitPrice</th><th>CustomerID</th><th>Country</th></tr><tr><td>str</td><td>str</td><td>str</td><td>i64</td><td>str</td><td>f64</td><td>i64</td><td>str</td></tr></thead><tbody><tr><td>&quot;C558361&quot;</td><td>&quot;21429&quot;</td><td>&quot;RED GINGHAM ROSE JEWELLERY BOX&quot;</td><td>-2</td><td>&quot;6/28/2011 15:13&quot;</td><td>1.95</td><td>15128</td><td>&quot;United Kingdom&quot;</td></tr><tr><td>&quot;C550962&quot;</td><td>&quot;21754&quot;</td><td>&quot;HOME BUILDING BLOCK WORD&quot;</td><td>-1</td><td>&quot;4/21/2011 16:42&quot;</td><td>5.95</td><td>14834</td><td>&quot;United Kingdom&quot;</td></tr><tr><td>&quot;C569655&quot;</td><td>&quot;22477&quot;</td><td>&quot;WATERING CAN GARDEN MARKER&quot;</td><td>-1</td><td>&quot;10/5/2011 12:58&quot;</td><td>1.25</td><td>14534</td><td>&quot;United Kingdom&quot;</td></tr><tr><td>&quot;C566784&quot;</td><td>&quot;85048&quot;</td><td>&quot;15CM CHRISTMAS GLASS BALL 20 L…</td><td>-7</td><td>&quot;9/15/2011 10:27&quot;</td><td>6.95</td><td>14915</td><td>&quot;United Kingdom&quot;</td></tr><tr><td>&quot;C554849&quot;</td><td>&quot;22055&quot;</td><td>&quot;MINI CAKE STAND&nbsp;&nbsp;HANGING STRAW…</td><td>-1</td><td>&quot;5/26/2011 19:58&quot;</td><td>1.45</td><td>17865</td><td>&quot;United Kingdom&quot;</td></tr><tr><td>&hellip;</td><td>&hellip;</td><td>&hellip;</td><td>&hellip;</td><td>&hellip;</td><td>&hellip;</td><td>&hellip;</td><td>&hellip;</td></tr><tr><td>&quot;C551015&quot;</td><td>&quot;23176&quot;</td><td>&quot;ABC TREASURE BOOK BOX &quot;</td><td>-4</td><td>&quot;4/26/2011 11:06&quot;</td><td>2.25</td><td>12753</td><td>&quot;Japan&quot;</td></tr><tr><td>&quot;C571316&quot;</td><td>&quot;23483&quot;</td><td>&quot;HANGING&nbsp;&nbsp;BUTTERFLY T-LIGHT HOL…</td><td>-3</td><td>&quot;10/17/2011 10:47&quot;</td><td>1.25</td><td>15091</td><td>&quot;United Kingdom&quot;</td></tr><tr><td>&quot;C550181&quot;</td><td>&quot;22381&quot;</td><td>&quot;TOY TIDY PINK POLKADOT&quot;</td><td>-10</td><td>&quot;4/14/2011 17:43&quot;</td><td>2.1</td><td>13069</td><td>&quot;United Kingdom&quot;</td></tr><tr><td>&quot;C561594&quot;</td><td>&quot;23252&quot;</td><td>&quot;VINTAGE RED ENAMEL TRIM JUG &quot;</td><td>-16</td><td>&quot;7/28/2011 11:22&quot;</td><td>3.75</td><td>17671</td><td>&quot;United Kingdom&quot;</td></tr><tr><td>&quot;C542742&quot;</td><td>&quot;84535B&quot;</td><td>&quot;FAIRY CAKES NOTEBOOK A6 SIZE&quot;</td><td>-94</td><td>&quot;1/31/2011 16:26&quot;</td><td>0.65</td><td>15358</td><td>&quot;United Kingdom&quot;</td></tr></tbody></table></div>"
            ],
            "text/plain": [
              "shape: (8_872, 8)\n",
              "┌───────────┬───────────┬──────────────┬──────────┬─────────────┬───────────┬────────────┬─────────┐\n",
              "│ InvoiceNo ┆ StockCode ┆ Description  ┆ Quantity ┆ InvoiceDate ┆ UnitPrice ┆ CustomerID ┆ Country │\n",
              "│ ---       ┆ ---       ┆ ---          ┆ ---      ┆ ---         ┆ ---       ┆ ---        ┆ ---     │\n",
              "│ str       ┆ str       ┆ str          ┆ i64      ┆ str         ┆ f64       ┆ i64        ┆ str     │\n",
              "╞═══════════╪═══════════╪══════════════╪══════════╪═════════════╪═══════════╪════════════╪═════════╡\n",
              "│ C558361   ┆ 21429     ┆ RED GINGHAM  ┆ -2       ┆ 6/28/2011   ┆ 1.95      ┆ 15128      ┆ United  │\n",
              "│           ┆           ┆ ROSE         ┆          ┆ 15:13       ┆           ┆            ┆ Kingdom │\n",
              "│           ┆           ┆ JEWELLERY    ┆          ┆             ┆           ┆            ┆         │\n",
              "│           ┆           ┆ BOX          ┆          ┆             ┆           ┆            ┆         │\n",
              "│ C550962   ┆ 21754     ┆ HOME         ┆ -1       ┆ 4/21/2011   ┆ 5.95      ┆ 14834      ┆ United  │\n",
              "│           ┆           ┆ BUILDING     ┆          ┆ 16:42       ┆           ┆            ┆ Kingdom │\n",
              "│           ┆           ┆ BLOCK WORD   ┆          ┆             ┆           ┆            ┆         │\n",
              "│ C569655   ┆ 22477     ┆ WATERING CAN ┆ -1       ┆ 10/5/2011   ┆ 1.25      ┆ 14534      ┆ United  │\n",
              "│           ┆           ┆ GARDEN       ┆          ┆ 12:58       ┆           ┆            ┆ Kingdom │\n",
              "│           ┆           ┆ MARKER       ┆          ┆             ┆           ┆            ┆         │\n",
              "│ C566784   ┆ 85048     ┆ 15CM         ┆ -7       ┆ 9/15/2011   ┆ 6.95      ┆ 14915      ┆ United  │\n",
              "│           ┆           ┆ CHRISTMAS    ┆          ┆ 10:27       ┆           ┆            ┆ Kingdom │\n",
              "│           ┆           ┆ GLASS BALL   ┆          ┆             ┆           ┆            ┆         │\n",
              "│           ┆           ┆ 20 L…        ┆          ┆             ┆           ┆            ┆         │\n",
              "│ C554849   ┆ 22055     ┆ MINI CAKE    ┆ -1       ┆ 5/26/2011   ┆ 1.45      ┆ 17865      ┆ United  │\n",
              "│           ┆           ┆ STAND        ┆          ┆ 19:58       ┆           ┆            ┆ Kingdom │\n",
              "│           ┆           ┆ HANGING      ┆          ┆             ┆           ┆            ┆         │\n",
              "│           ┆           ┆ STRAW…       ┆          ┆             ┆           ┆            ┆         │\n",
              "│ …         ┆ …         ┆ …            ┆ …        ┆ …           ┆ …         ┆ …          ┆ …       │\n",
              "│ C551015   ┆ 23176     ┆ ABC TREASURE ┆ -4       ┆ 4/26/2011   ┆ 2.25      ┆ 12753      ┆ Japan   │\n",
              "│           ┆           ┆ BOOK BOX     ┆          ┆ 11:06       ┆           ┆            ┆         │\n",
              "│ C571316   ┆ 23483     ┆ HANGING      ┆ -3       ┆ 10/17/2011  ┆ 1.25      ┆ 15091      ┆ United  │\n",
              "│           ┆           ┆ BUTTERFLY    ┆          ┆ 10:47       ┆           ┆            ┆ Kingdom │\n",
              "│           ┆           ┆ T-LIGHT HOL… ┆          ┆             ┆           ┆            ┆         │\n",
              "│ C550181   ┆ 22381     ┆ TOY TIDY     ┆ -10      ┆ 4/14/2011   ┆ 2.1       ┆ 13069      ┆ United  │\n",
              "│           ┆           ┆ PINK         ┆          ┆ 17:43       ┆           ┆            ┆ Kingdom │\n",
              "│           ┆           ┆ POLKADOT     ┆          ┆             ┆           ┆            ┆         │\n",
              "│ C561594   ┆ 23252     ┆ VINTAGE RED  ┆ -16      ┆ 7/28/2011   ┆ 3.75      ┆ 17671      ┆ United  │\n",
              "│           ┆           ┆ ENAMEL TRIM  ┆          ┆ 11:22       ┆           ┆            ┆ Kingdom │\n",
              "│           ┆           ┆ JUG          ┆          ┆             ┆           ┆            ┆         │\n",
              "│ C542742   ┆ 84535B    ┆ FAIRY CAKES  ┆ -94      ┆ 1/31/2011   ┆ 0.65      ┆ 15358      ┆ United  │\n",
              "│           ┆           ┆ NOTEBOOK A6  ┆          ┆ 16:26       ┆           ┆            ┆ Kingdom │\n",
              "│           ┆           ┆ SIZE         ┆          ┆             ┆           ┆            ┆         │\n",
              "└───────────┴───────────┴──────────────┴──────────┴─────────────┴───────────┴────────────┴─────────┘"
            ]
          },
          "execution_count": 144,
          "metadata": {},
          "output_type": "execute_result"
        }
      ],
      "source": [
        "df.filter((pl.col(\"Quantity\") < 0) | (pl.col(\"UnitPrice\") < 0))\n"
      ]
    },
    {
      "cell_type": "markdown",
      "metadata": {
        "id": "w3CDILBLiEgh"
      },
      "source": [
        "En este caso vemos que hay valores negativos en estas dos columnas, se podrian interpretar como devoluciones de los productos, pero en este caso no los vamos a usar de esta forma porque no tendria sentido contar con estos valores si solo queremos calcular las ventas y no devoluciones. Asi que los tendremos que eliminar."
      ]
    },
    {
      "cell_type": "code",
      "execution_count": null,
      "metadata": {
        "id": "aC_RPE8OiEgh",
        "outputId": "77276cb2-b592-4bcf-abf3-1dde25217cb2"
      },
      "outputs": [
        {
          "data": {
            "text/html": [
              "<div><style>\n",
              ".dataframe > thead > tr,\n",
              ".dataframe > tbody > tr {\n",
              "  text-align: right;\n",
              "  white-space: pre-wrap;\n",
              "}\n",
              "</style>\n",
              "<small>shape: (392_732, 8)</small><table border=\"1\" class=\"dataframe\"><thead><tr><th>InvoiceNo</th><th>StockCode</th><th>Description</th><th>Quantity</th><th>InvoiceDate</th><th>UnitPrice</th><th>CustomerID</th><th>Country</th></tr><tr><td>str</td><td>str</td><td>str</td><td>i64</td><td>str</td><td>f64</td><td>i64</td><td>str</td></tr></thead><tbody><tr><td>&quot;559672&quot;</td><td>&quot;85071B&quot;</td><td>&quot;RED CHARLIE+LOLA PERSONAL DOOR…</td><td>18</td><td>&quot;7/11/2011 14:04&quot;</td><td>0.39</td><td>14796</td><td>&quot;United Kingdom&quot;</td></tr><tr><td>&quot;562129&quot;</td><td>&quot;22430&quot;</td><td>&quot;ENAMEL WATERING CAN CREAM&quot;</td><td>4</td><td>&quot;8/3/2011 9:09&quot;</td><td>4.95</td><td>13186</td><td>&quot;United Kingdom&quot;</td></tr><tr><td>&quot;568060&quot;</td><td>&quot;84945&quot;</td><td>&quot;MULTI COLOUR SILVER T-LIGHT HO…</td><td>12</td><td>&quot;9/23/2011 13:11&quot;</td><td>0.85</td><td>14546</td><td>&quot;United Kingdom&quot;</td></tr><tr><td>&quot;575837&quot;</td><td>&quot;23483&quot;</td><td>&quot;HANGING&nbsp;&nbsp;BUTTERFLY T-LIGHT HOL…</td><td>18</td><td>&quot;11/11/2011 11:37&quot;</td><td>1.25</td><td>12748</td><td>&quot;United Kingdom&quot;</td></tr><tr><td>&quot;566408&quot;</td><td>&quot;23415&quot;</td><td>&quot;HOME SWEET HOME HOOK&quot;</td><td>5</td><td>&quot;9/12/2011 13:43&quot;</td><td>1.65</td><td>16984</td><td>&quot;United Kingdom&quot;</td></tr><tr><td>&hellip;</td><td>&hellip;</td><td>&hellip;</td><td>&hellip;</td><td>&hellip;</td><td>&hellip;</td><td>&hellip;</td><td>&hellip;</td></tr><tr><td>&quot;570637&quot;</td><td>&quot;85099B&quot;</td><td>&quot;JUMBO BAG RED RETROSPOT&quot;</td><td>10</td><td>&quot;10/11/2011 12:34&quot;</td><td>2.08</td><td>12530</td><td>&quot;Germany&quot;</td></tr><tr><td>&quot;552883&quot;</td><td>&quot;21672&quot;</td><td>&quot;WHITE SPOT RED CERAMIC DRAWER …</td><td>96</td><td>&quot;5/12/2011 10:13&quot;</td><td>1.06</td><td>14646</td><td>&quot;Netherlands&quot;</td></tr><tr><td>&quot;555405&quot;</td><td>&quot;23147&quot;</td><td>&quot;SINGLE ANTIQUE ROSE HOOK IVORY&quot;</td><td>12</td><td>&quot;6/2/2011 19:17&quot;</td><td>1.45</td><td>17531</td><td>&quot;United Kingdom&quot;</td></tr><tr><td>&quot;569026&quot;</td><td>&quot;23322&quot;</td><td>&quot;LARGE WHITE HEART OF WICKER&quot;</td><td>6</td><td>&quot;9/30/2011 10:18&quot;</td><td>2.95</td><td>16101</td><td>&quot;United Kingdom&quot;</td></tr><tr><td>&quot;577167&quot;</td><td>&quot;23390&quot;</td><td>&quot;DOLLY GIRL MINI BACKPACK&quot;</td><td>2</td><td>&quot;11/18/2011 10:41&quot;</td><td>4.15</td><td>16511</td><td>&quot;United Kingdom&quot;</td></tr></tbody></table></div>"
            ],
            "text/plain": [
              "shape: (392_732, 8)\n",
              "┌───────────┬───────────┬────────────┬──────────┬────────────┬───────────┬────────────┬────────────┐\n",
              "│ InvoiceNo ┆ StockCode ┆ Descriptio ┆ Quantity ┆ InvoiceDat ┆ UnitPrice ┆ CustomerID ┆ Country    │\n",
              "│ ---       ┆ ---       ┆ n          ┆ ---      ┆ e          ┆ ---       ┆ ---        ┆ ---        │\n",
              "│ str       ┆ str       ┆ ---        ┆ i64      ┆ ---        ┆ f64       ┆ i64        ┆ str        │\n",
              "│           ┆           ┆ str        ┆          ┆ str        ┆           ┆            ┆            │\n",
              "╞═══════════╪═══════════╪════════════╪══════════╪════════════╪═══════════╪════════════╪════════════╡\n",
              "│ 559672    ┆ 85071B    ┆ RED CHARLI ┆ 18       ┆ 7/11/2011  ┆ 0.39      ┆ 14796      ┆ United     │\n",
              "│           ┆           ┆ E+LOLA     ┆          ┆ 14:04      ┆           ┆            ┆ Kingdom    │\n",
              "│           ┆           ┆ PERSONAL   ┆          ┆            ┆           ┆            ┆            │\n",
              "│           ┆           ┆ DOOR…      ┆          ┆            ┆           ┆            ┆            │\n",
              "│ 562129    ┆ 22430     ┆ ENAMEL     ┆ 4        ┆ 8/3/2011   ┆ 4.95      ┆ 13186      ┆ United     │\n",
              "│           ┆           ┆ WATERING   ┆          ┆ 9:09       ┆           ┆            ┆ Kingdom    │\n",
              "│           ┆           ┆ CAN CREAM  ┆          ┆            ┆           ┆            ┆            │\n",
              "│ 568060    ┆ 84945     ┆ MULTI      ┆ 12       ┆ 9/23/2011  ┆ 0.85      ┆ 14546      ┆ United     │\n",
              "│           ┆           ┆ COLOUR     ┆          ┆ 13:11      ┆           ┆            ┆ Kingdom    │\n",
              "│           ┆           ┆ SILVER     ┆          ┆            ┆           ┆            ┆            │\n",
              "│           ┆           ┆ T-LIGHT    ┆          ┆            ┆           ┆            ┆            │\n",
              "│           ┆           ┆ HO…        ┆          ┆            ┆           ┆            ┆            │\n",
              "│ 575837    ┆ 23483     ┆ HANGING    ┆ 18       ┆ 11/11/2011 ┆ 1.25      ┆ 12748      ┆ United     │\n",
              "│           ┆           ┆ BUTTERFLY  ┆          ┆ 11:37      ┆           ┆            ┆ Kingdom    │\n",
              "│           ┆           ┆ T-LIGHT    ┆          ┆            ┆           ┆            ┆            │\n",
              "│           ┆           ┆ HOL…       ┆          ┆            ┆           ┆            ┆            │\n",
              "│ 566408    ┆ 23415     ┆ HOME SWEET ┆ 5        ┆ 9/12/2011  ┆ 1.65      ┆ 16984      ┆ United     │\n",
              "│           ┆           ┆ HOME HOOK  ┆          ┆ 13:43      ┆           ┆            ┆ Kingdom    │\n",
              "│ …         ┆ …         ┆ …          ┆ …        ┆ …          ┆ …         ┆ …          ┆ …          │\n",
              "│ 570637    ┆ 85099B    ┆ JUMBO BAG  ┆ 10       ┆ 10/11/2011 ┆ 2.08      ┆ 12530      ┆ Germany    │\n",
              "│           ┆           ┆ RED        ┆          ┆ 12:34      ┆           ┆            ┆            │\n",
              "│           ┆           ┆ RETROSPOT  ┆          ┆            ┆           ┆            ┆            │\n",
              "│ 552883    ┆ 21672     ┆ WHITE SPOT ┆ 96       ┆ 5/12/2011  ┆ 1.06      ┆ 14646      ┆ Netherland │\n",
              "│           ┆           ┆ RED        ┆          ┆ 10:13      ┆           ┆            ┆ s          │\n",
              "│           ┆           ┆ CERAMIC    ┆          ┆            ┆           ┆            ┆            │\n",
              "│           ┆           ┆ DRAWER …   ┆          ┆            ┆           ┆            ┆            │\n",
              "│ 555405    ┆ 23147     ┆ SINGLE     ┆ 12       ┆ 6/2/2011   ┆ 1.45      ┆ 17531      ┆ United     │\n",
              "│           ┆           ┆ ANTIQUE    ┆          ┆ 19:17      ┆           ┆            ┆ Kingdom    │\n",
              "│           ┆           ┆ ROSE HOOK  ┆          ┆            ┆           ┆            ┆            │\n",
              "│           ┆           ┆ IVORY      ┆          ┆            ┆           ┆            ┆            │\n",
              "│ 569026    ┆ 23322     ┆ LARGE      ┆ 6        ┆ 9/30/2011  ┆ 2.95      ┆ 16101      ┆ United     │\n",
              "│           ┆           ┆ WHITE      ┆          ┆ 10:18      ┆           ┆            ┆ Kingdom    │\n",
              "│           ┆           ┆ HEART OF   ┆          ┆            ┆           ┆            ┆            │\n",
              "│           ┆           ┆ WICKER     ┆          ┆            ┆           ┆            ┆            │\n",
              "│ 577167    ┆ 23390     ┆ DOLLY GIRL ┆ 2        ┆ 11/18/2011 ┆ 4.15      ┆ 16511      ┆ United     │\n",
              "│           ┆           ┆ MINI       ┆          ┆ 10:41      ┆           ┆            ┆ Kingdom    │\n",
              "│           ┆           ┆ BACKPACK   ┆          ┆            ┆           ┆            ┆            │\n",
              "└───────────┴───────────┴────────────┴──────────┴────────────┴───────────┴────────────┴────────────┘"
            ]
          },
          "execution_count": 145,
          "metadata": {},
          "output_type": "execute_result"
        }
      ],
      "source": [
        "df = df.filter(~((pl.col(\"Quantity\") < 0) | (pl.col(\"UnitPrice\") < 0)))\n",
        "df\n"
      ]
    },
    {
      "cell_type": "markdown",
      "metadata": {
        "id": "0M60htNkiEgh"
      },
      "source": [
        "Es el turno de la fecha de facturacion, vamos a transformar la columna a tipo date"
      ]
    },
    {
      "cell_type": "code",
      "execution_count": null,
      "metadata": {
        "id": "WnbcfF7qiEgi",
        "outputId": "0ebdffce-1d03-4273-a7b0-fa21f64a0681"
      },
      "outputs": [
        {
          "data": {
            "text/html": [
              "<div><style>\n",
              ".dataframe > thead > tr,\n",
              ".dataframe > tbody > tr {\n",
              "  text-align: right;\n",
              "  white-space: pre-wrap;\n",
              "}\n",
              "</style>\n",
              "<small>shape: (392_732, 8)</small><table border=\"1\" class=\"dataframe\"><thead><tr><th>InvoiceNo</th><th>StockCode</th><th>Description</th><th>Quantity</th><th>InvoiceDate</th><th>UnitPrice</th><th>CustomerID</th><th>Country</th></tr><tr><td>str</td><td>str</td><td>str</td><td>i64</td><td>date</td><td>f64</td><td>i64</td><td>str</td></tr></thead><tbody><tr><td>&quot;559672&quot;</td><td>&quot;85071B&quot;</td><td>&quot;RED CHARLIE+LOLA PERSONAL DOOR…</td><td>18</td><td>2011-07-11</td><td>0.39</td><td>14796</td><td>&quot;United Kingdom&quot;</td></tr><tr><td>&quot;562129&quot;</td><td>&quot;22430&quot;</td><td>&quot;ENAMEL WATERING CAN CREAM&quot;</td><td>4</td><td>2011-08-03</td><td>4.95</td><td>13186</td><td>&quot;United Kingdom&quot;</td></tr><tr><td>&quot;568060&quot;</td><td>&quot;84945&quot;</td><td>&quot;MULTI COLOUR SILVER T-LIGHT HO…</td><td>12</td><td>2011-09-23</td><td>0.85</td><td>14546</td><td>&quot;United Kingdom&quot;</td></tr><tr><td>&quot;575837&quot;</td><td>&quot;23483&quot;</td><td>&quot;HANGING&nbsp;&nbsp;BUTTERFLY T-LIGHT HOL…</td><td>18</td><td>2011-11-11</td><td>1.25</td><td>12748</td><td>&quot;United Kingdom&quot;</td></tr><tr><td>&quot;566408&quot;</td><td>&quot;23415&quot;</td><td>&quot;HOME SWEET HOME HOOK&quot;</td><td>5</td><td>2011-09-12</td><td>1.65</td><td>16984</td><td>&quot;United Kingdom&quot;</td></tr><tr><td>&hellip;</td><td>&hellip;</td><td>&hellip;</td><td>&hellip;</td><td>&hellip;</td><td>&hellip;</td><td>&hellip;</td><td>&hellip;</td></tr><tr><td>&quot;570637&quot;</td><td>&quot;85099B&quot;</td><td>&quot;JUMBO BAG RED RETROSPOT&quot;</td><td>10</td><td>2011-10-11</td><td>2.08</td><td>12530</td><td>&quot;Germany&quot;</td></tr><tr><td>&quot;552883&quot;</td><td>&quot;21672&quot;</td><td>&quot;WHITE SPOT RED CERAMIC DRAWER …</td><td>96</td><td>2011-05-12</td><td>1.06</td><td>14646</td><td>&quot;Netherlands&quot;</td></tr><tr><td>&quot;555405&quot;</td><td>&quot;23147&quot;</td><td>&quot;SINGLE ANTIQUE ROSE HOOK IVORY&quot;</td><td>12</td><td>2011-06-02</td><td>1.45</td><td>17531</td><td>&quot;United Kingdom&quot;</td></tr><tr><td>&quot;569026&quot;</td><td>&quot;23322&quot;</td><td>&quot;LARGE WHITE HEART OF WICKER&quot;</td><td>6</td><td>2011-09-30</td><td>2.95</td><td>16101</td><td>&quot;United Kingdom&quot;</td></tr><tr><td>&quot;577167&quot;</td><td>&quot;23390&quot;</td><td>&quot;DOLLY GIRL MINI BACKPACK&quot;</td><td>2</td><td>2011-11-18</td><td>4.15</td><td>16511</td><td>&quot;United Kingdom&quot;</td></tr></tbody></table></div>"
            ],
            "text/plain": [
              "shape: (392_732, 8)\n",
              "┌───────────┬───────────┬────────────┬──────────┬────────────┬───────────┬────────────┬────────────┐\n",
              "│ InvoiceNo ┆ StockCode ┆ Descriptio ┆ Quantity ┆ InvoiceDat ┆ UnitPrice ┆ CustomerID ┆ Country    │\n",
              "│ ---       ┆ ---       ┆ n          ┆ ---      ┆ e          ┆ ---       ┆ ---        ┆ ---        │\n",
              "│ str       ┆ str       ┆ ---        ┆ i64      ┆ ---        ┆ f64       ┆ i64        ┆ str        │\n",
              "│           ┆           ┆ str        ┆          ┆ date       ┆           ┆            ┆            │\n",
              "╞═══════════╪═══════════╪════════════╪══════════╪════════════╪═══════════╪════════════╪════════════╡\n",
              "│ 559672    ┆ 85071B    ┆ RED CHARLI ┆ 18       ┆ 2011-07-11 ┆ 0.39      ┆ 14796      ┆ United     │\n",
              "│           ┆           ┆ E+LOLA     ┆          ┆            ┆           ┆            ┆ Kingdom    │\n",
              "│           ┆           ┆ PERSONAL   ┆          ┆            ┆           ┆            ┆            │\n",
              "│           ┆           ┆ DOOR…      ┆          ┆            ┆           ┆            ┆            │\n",
              "│ 562129    ┆ 22430     ┆ ENAMEL     ┆ 4        ┆ 2011-08-03 ┆ 4.95      ┆ 13186      ┆ United     │\n",
              "│           ┆           ┆ WATERING   ┆          ┆            ┆           ┆            ┆ Kingdom    │\n",
              "│           ┆           ┆ CAN CREAM  ┆          ┆            ┆           ┆            ┆            │\n",
              "│ 568060    ┆ 84945     ┆ MULTI      ┆ 12       ┆ 2011-09-23 ┆ 0.85      ┆ 14546      ┆ United     │\n",
              "│           ┆           ┆ COLOUR     ┆          ┆            ┆           ┆            ┆ Kingdom    │\n",
              "│           ┆           ┆ SILVER     ┆          ┆            ┆           ┆            ┆            │\n",
              "│           ┆           ┆ T-LIGHT    ┆          ┆            ┆           ┆            ┆            │\n",
              "│           ┆           ┆ HO…        ┆          ┆            ┆           ┆            ┆            │\n",
              "│ 575837    ┆ 23483     ┆ HANGING    ┆ 18       ┆ 2011-11-11 ┆ 1.25      ┆ 12748      ┆ United     │\n",
              "│           ┆           ┆ BUTTERFLY  ┆          ┆            ┆           ┆            ┆ Kingdom    │\n",
              "│           ┆           ┆ T-LIGHT    ┆          ┆            ┆           ┆            ┆            │\n",
              "│           ┆           ┆ HOL…       ┆          ┆            ┆           ┆            ┆            │\n",
              "│ 566408    ┆ 23415     ┆ HOME SWEET ┆ 5        ┆ 2011-09-12 ┆ 1.65      ┆ 16984      ┆ United     │\n",
              "│           ┆           ┆ HOME HOOK  ┆          ┆            ┆           ┆            ┆ Kingdom    │\n",
              "│ …         ┆ …         ┆ …          ┆ …        ┆ …          ┆ …         ┆ …          ┆ …          │\n",
              "│ 570637    ┆ 85099B    ┆ JUMBO BAG  ┆ 10       ┆ 2011-10-11 ┆ 2.08      ┆ 12530      ┆ Germany    │\n",
              "│           ┆           ┆ RED        ┆          ┆            ┆           ┆            ┆            │\n",
              "│           ┆           ┆ RETROSPOT  ┆          ┆            ┆           ┆            ┆            │\n",
              "│ 552883    ┆ 21672     ┆ WHITE SPOT ┆ 96       ┆ 2011-05-12 ┆ 1.06      ┆ 14646      ┆ Netherland │\n",
              "│           ┆           ┆ RED        ┆          ┆            ┆           ┆            ┆ s          │\n",
              "│           ┆           ┆ CERAMIC    ┆          ┆            ┆           ┆            ┆            │\n",
              "│           ┆           ┆ DRAWER …   ┆          ┆            ┆           ┆            ┆            │\n",
              "│ 555405    ┆ 23147     ┆ SINGLE     ┆ 12       ┆ 2011-06-02 ┆ 1.45      ┆ 17531      ┆ United     │\n",
              "│           ┆           ┆ ANTIQUE    ┆          ┆            ┆           ┆            ┆ Kingdom    │\n",
              "│           ┆           ┆ ROSE HOOK  ┆          ┆            ┆           ┆            ┆            │\n",
              "│           ┆           ┆ IVORY      ┆          ┆            ┆           ┆            ┆            │\n",
              "│ 569026    ┆ 23322     ┆ LARGE      ┆ 6        ┆ 2011-09-30 ┆ 2.95      ┆ 16101      ┆ United     │\n",
              "│           ┆           ┆ WHITE      ┆          ┆            ┆           ┆            ┆ Kingdom    │\n",
              "│           ┆           ┆ HEART OF   ┆          ┆            ┆           ┆            ┆            │\n",
              "│           ┆           ┆ WICKER     ┆          ┆            ┆           ┆            ┆            │\n",
              "│ 577167    ┆ 23390     ┆ DOLLY GIRL ┆ 2        ┆ 2011-11-18 ┆ 4.15      ┆ 16511      ┆ United     │\n",
              "│           ┆           ┆ MINI       ┆          ┆            ┆           ┆            ┆ Kingdom    │\n",
              "│           ┆           ┆ BACKPACK   ┆          ┆            ┆           ┆            ┆            │\n",
              "└───────────┴───────────┴────────────┴──────────┴────────────┴───────────┴────────────┴────────────┘"
            ]
          },
          "execution_count": 146,
          "metadata": {},
          "output_type": "execute_result"
        }
      ],
      "source": [
        "df = df.with_columns(pl.col(\"InvoiceDate\").str.strptime(pl.Date, \"%m/%d/%Y %H:%M\"))\n",
        "df\n"
      ]
    },
    {
      "cell_type": "markdown",
      "metadata": {
        "id": "_DbC0IkgiEgi"
      },
      "source": [
        "Lo siguiente sera buscar algun outliers, para evitar la distorsion de los patrones, la no normalizacion de los datos y que no afecten a la precisión del modelo."
      ]
    },
    {
      "cell_type": "code",
      "execution_count": null,
      "metadata": {
        "id": "iZ-g0w_MiEgi",
        "outputId": "f1c6268c-001d-4232-bcb8-ad7179e43049"
      },
      "outputs": [
        {
          "data": {
            "text/html": [
              "<div><style>\n",
              ".dataframe > thead > tr,\n",
              ".dataframe > tbody > tr {\n",
              "  text-align: right;\n",
              "  white-space: pre-wrap;\n",
              "}\n",
              "</style>\n",
              "<small>shape: (9, 9)</small><table border=\"1\" class=\"dataframe\"><thead><tr><th>statistic</th><th>InvoiceNo</th><th>StockCode</th><th>Description</th><th>Quantity</th><th>InvoiceDate</th><th>UnitPrice</th><th>CustomerID</th><th>Country</th></tr><tr><td>str</td><td>str</td><td>str</td><td>str</td><td>f64</td><td>str</td><td>f64</td><td>f64</td><td>str</td></tr></thead><tbody><tr><td>&quot;count&quot;</td><td>&quot;392732&quot;</td><td>&quot;392732&quot;</td><td>&quot;392732&quot;</td><td>392732.0</td><td>&quot;392732&quot;</td><td>392732.0</td><td>392732.0</td><td>&quot;392732&quot;</td></tr><tr><td>&quot;null_count&quot;</td><td>&quot;0&quot;</td><td>&quot;0&quot;</td><td>&quot;0&quot;</td><td>0.0</td><td>&quot;0&quot;</td><td>0.0</td><td>0.0</td><td>&quot;0&quot;</td></tr><tr><td>&quot;mean&quot;</td><td>null</td><td>null</td><td>null</td><td>13.153718</td><td>&quot;2011-07-10 06:01:42.518000&quot;</td><td>3.125596</td><td>15287.734822</td><td>null</td></tr><tr><td>&quot;std&quot;</td><td>null</td><td>null</td><td>null</td><td>181.58842</td><td>null</td><td>22.240725</td><td>1713.567773</td><td>null</td></tr><tr><td>&quot;min&quot;</td><td>&quot;536365&quot;</td><td>&quot;10002&quot;</td><td>&quot; 4 PURPLE FLOCK DINNER CANDLES&quot;</td><td>1.0</td><td>&quot;2010-12-01&quot;</td><td>0.0</td><td>12346.0</td><td>&quot;Australia&quot;</td></tr><tr><td>&quot;25%&quot;</td><td>null</td><td>null</td><td>null</td><td>2.0</td><td>&quot;2011-04-07&quot;</td><td>1.25</td><td>13955.0</td><td>null</td></tr><tr><td>&quot;50%&quot;</td><td>null</td><td>null</td><td>null</td><td>6.0</td><td>&quot;2011-07-31&quot;</td><td>1.95</td><td>15150.0</td><td>null</td></tr><tr><td>&quot;75%&quot;</td><td>null</td><td>null</td><td>null</td><td>12.0</td><td>&quot;2011-10-20&quot;</td><td>3.75</td><td>16791.0</td><td>null</td></tr><tr><td>&quot;max&quot;</td><td>&quot;581587&quot;</td><td>&quot;POST&quot;</td><td>&quot;ZINC WIRE SWEETHEART LETTER TR…</td><td>80995.0</td><td>&quot;2011-12-09&quot;</td><td>8142.75</td><td>18287.0</td><td>&quot;Unspecified&quot;</td></tr></tbody></table></div>"
            ],
            "text/plain": [
              "shape: (9, 9)\n",
              "┌───────────┬───────────┬───────────┬───────────┬───┬───────────┬───────────┬───────────┬──────────┐\n",
              "│ statistic ┆ InvoiceNo ┆ StockCode ┆ Descripti ┆ … ┆ InvoiceDa ┆ UnitPrice ┆ CustomerI ┆ Country  │\n",
              "│ ---       ┆ ---       ┆ ---       ┆ on        ┆   ┆ te        ┆ ---       ┆ D         ┆ ---      │\n",
              "│ str       ┆ str       ┆ str       ┆ ---       ┆   ┆ ---       ┆ f64       ┆ ---       ┆ str      │\n",
              "│           ┆           ┆           ┆ str       ┆   ┆ str       ┆           ┆ f64       ┆          │\n",
              "╞═══════════╪═══════════╪═══════════╪═══════════╪═══╪═══════════╪═══════════╪═══════════╪══════════╡\n",
              "│ count     ┆ 392732    ┆ 392732    ┆ 392732    ┆ … ┆ 392732    ┆ 392732.0  ┆ 392732.0  ┆ 392732   │\n",
              "│ null_coun ┆ 0         ┆ 0         ┆ 0         ┆ … ┆ 0         ┆ 0.0       ┆ 0.0       ┆ 0        │\n",
              "│ t         ┆           ┆           ┆           ┆   ┆           ┆           ┆           ┆          │\n",
              "│ mean      ┆ null      ┆ null      ┆ null      ┆ … ┆ 2011-07-1 ┆ 3.125596  ┆ 15287.734 ┆ null     │\n",
              "│           ┆           ┆           ┆           ┆   ┆ 0 06:01:4 ┆           ┆ 822       ┆          │\n",
              "│           ┆           ┆           ┆           ┆   ┆ 2.518000  ┆           ┆           ┆          │\n",
              "│ std       ┆ null      ┆ null      ┆ null      ┆ … ┆ null      ┆ 22.240725 ┆ 1713.5677 ┆ null     │\n",
              "│           ┆           ┆           ┆           ┆   ┆           ┆           ┆ 73        ┆          │\n",
              "│ min       ┆ 536365    ┆ 10002     ┆ 4 PURPLE  ┆ … ┆ 2010-12-0 ┆ 0.0       ┆ 12346.0   ┆ Australi │\n",
              "│           ┆           ┆           ┆ FLOCK     ┆   ┆ 1         ┆           ┆           ┆ a        │\n",
              "│           ┆           ┆           ┆ DINNER    ┆   ┆           ┆           ┆           ┆          │\n",
              "│           ┆           ┆           ┆ CANDLES   ┆   ┆           ┆           ┆           ┆          │\n",
              "│ 25%       ┆ null      ┆ null      ┆ null      ┆ … ┆ 2011-04-0 ┆ 1.25      ┆ 13955.0   ┆ null     │\n",
              "│           ┆           ┆           ┆           ┆   ┆ 7         ┆           ┆           ┆          │\n",
              "│ 50%       ┆ null      ┆ null      ┆ null      ┆ … ┆ 2011-07-3 ┆ 1.95      ┆ 15150.0   ┆ null     │\n",
              "│           ┆           ┆           ┆           ┆   ┆ 1         ┆           ┆           ┆          │\n",
              "│ 75%       ┆ null      ┆ null      ┆ null      ┆ … ┆ 2011-10-2 ┆ 3.75      ┆ 16791.0   ┆ null     │\n",
              "│           ┆           ┆           ┆           ┆   ┆ 0         ┆           ┆           ┆          │\n",
              "│ max       ┆ 581587    ┆ POST      ┆ ZINC WIRE ┆ … ┆ 2011-12-0 ┆ 8142.75   ┆ 18287.0   ┆ Unspecif │\n",
              "│           ┆           ┆           ┆ SWEETHEAR ┆   ┆ 9         ┆           ┆           ┆ ied      │\n",
              "│           ┆           ┆           ┆ T LETTER  ┆   ┆           ┆           ┆           ┆          │\n",
              "│           ┆           ┆           ┆ TR…       ┆   ┆           ┆           ┆           ┆          │\n",
              "└───────────┴───────────┴───────────┴───────────┴───┴───────────┴───────────┴───────────┴──────────┘"
            ]
          },
          "execution_count": 147,
          "metadata": {},
          "output_type": "execute_result"
        }
      ],
      "source": [
        "df.describe()\n"
      ]
    },
    {
      "cell_type": "markdown",
      "metadata": {
        "id": "1JTEWGu2B6Wq"
      },
      "source": [
        "no vamos a liminar las compras que tengan precio de 0, porque entendemos que son regalos de la tienda y ademas nos puede venir bien para agrupar clientes que solo compren cuando hay cosas gratuitas"
      ]
    },
    {
      "cell_type": "markdown",
      "metadata": {
        "id": "ctuFDKpjiEgi"
      },
      "source": [
        "Siguiendo con las cosas un poco raras que habiamos detectado, en la columna Country habiamos visto un \"unspecified\""
      ]
    },
    {
      "cell_type": "code",
      "execution_count": null,
      "metadata": {
        "id": "zlQHJpr2iEgi",
        "outputId": "76ea206d-5880-4653-dc2d-629ea93e5dba"
      },
      "outputs": [
        {
          "data": {
            "text/html": [
              "<div><style>\n",
              ".dataframe > thead > tr,\n",
              ".dataframe > tbody > tr {\n",
              "  text-align: right;\n",
              "  white-space: pre-wrap;\n",
              "}\n",
              "</style>\n",
              "<small>shape: (241, 8)</small><table border=\"1\" class=\"dataframe\"><thead><tr><th>InvoiceNo</th><th>StockCode</th><th>Description</th><th>Quantity</th><th>InvoiceDate</th><th>UnitPrice</th><th>CustomerID</th><th>Country</th></tr><tr><td>str</td><td>str</td><td>str</td><td>i64</td><td>date</td><td>f64</td><td>i64</td><td>str</td></tr></thead><tbody><tr><td>&quot;559929&quot;</td><td>&quot;22960&quot;</td><td>&quot;JAM MAKING SET WITH JARS&quot;</td><td>6</td><td>2011-07-14</td><td>4.25</td><td>14265</td><td>&quot;Unspecified&quot;</td></tr><tr><td>&quot;552695&quot;</td><td>&quot;22413&quot;</td><td>&quot;METAL SIGN TAKE IT OR LEAVE IT…</td><td>6</td><td>2011-05-10</td><td>2.95</td><td>16320</td><td>&quot;Unspecified&quot;</td></tr><tr><td>&quot;561658&quot;</td><td>&quot;22604&quot;</td><td>&quot;SET OF 4 NAPKIN CHARMS CUTLERY&quot;</td><td>2</td><td>2011-07-28</td><td>2.55</td><td>12743</td><td>&quot;Unspecified&quot;</td></tr><tr><td>&quot;561661&quot;</td><td>&quot;22289&quot;</td><td>&quot;HANGING METAL CHICKEN DECORATI…</td><td>2</td><td>2011-07-28</td><td>1.25</td><td>12743</td><td>&quot;Unspecified&quot;</td></tr><tr><td>&quot;552695&quot;</td><td>&quot;22960&quot;</td><td>&quot;JAM MAKING SET WITH JARS&quot;</td><td>12</td><td>2011-05-10</td><td>3.75</td><td>16320</td><td>&quot;Unspecified&quot;</td></tr><tr><td>&hellip;</td><td>&hellip;</td><td>&hellip;</td><td>&hellip;</td><td>&hellip;</td><td>&hellip;</td><td>&hellip;</td><td>&hellip;</td></tr><tr><td>&quot;561658&quot;</td><td>&quot;21002&quot;</td><td>&quot;ROSE DU SUD DRAWSTRING BAG&quot;</td><td>2</td><td>2011-07-28</td><td>4.25</td><td>12743</td><td>&quot;Unspecified&quot;</td></tr><tr><td>&quot;564051&quot;</td><td>&quot;23046&quot;</td><td>&quot;PAPER LANTERN 9 POINT DELUXE S…</td><td>2</td><td>2011-08-22</td><td>6.65</td><td>14265</td><td>&quot;Unspecified&quot;</td></tr><tr><td>&quot;559929&quot;</td><td>&quot;21628&quot;</td><td>&quot;TRIANGULAR POUFFE VINTAGE &quot;</td><td>2</td><td>2011-07-14</td><td>14.95</td><td>14265</td><td>&quot;Unspecified&quot;</td></tr><tr><td>&quot;561658&quot;</td><td>&quot;22139&quot;</td><td>&quot;RETROSPOT TEA SET CERAMIC 11 P…</td><td>2</td><td>2011-07-28</td><td>4.95</td><td>12743</td><td>&quot;Unspecified&quot;</td></tr><tr><td>&quot;561658&quot;</td><td>&quot;35968&quot;</td><td>&quot;FOLK ART METAL HEART T-LIGHT H…</td><td>5</td><td>2011-07-28</td><td>0.38</td><td>12743</td><td>&quot;Unspecified&quot;</td></tr></tbody></table></div>"
            ],
            "text/plain": [
              "shape: (241, 8)\n",
              "┌───────────┬───────────┬────────────┬──────────┬────────────┬───────────┬────────────┬────────────┐\n",
              "│ InvoiceNo ┆ StockCode ┆ Descriptio ┆ Quantity ┆ InvoiceDat ┆ UnitPrice ┆ CustomerID ┆ Country    │\n",
              "│ ---       ┆ ---       ┆ n          ┆ ---      ┆ e          ┆ ---       ┆ ---        ┆ ---        │\n",
              "│ str       ┆ str       ┆ ---        ┆ i64      ┆ ---        ┆ f64       ┆ i64        ┆ str        │\n",
              "│           ┆           ┆ str        ┆          ┆ date       ┆           ┆            ┆            │\n",
              "╞═══════════╪═══════════╪════════════╪══════════╪════════════╪═══════════╪════════════╪════════════╡\n",
              "│ 559929    ┆ 22960     ┆ JAM MAKING ┆ 6        ┆ 2011-07-14 ┆ 4.25      ┆ 14265      ┆ Unspecifie │\n",
              "│           ┆           ┆ SET WITH   ┆          ┆            ┆           ┆            ┆ d          │\n",
              "│           ┆           ┆ JARS       ┆          ┆            ┆           ┆            ┆            │\n",
              "│ 552695    ┆ 22413     ┆ METAL SIGN ┆ 6        ┆ 2011-05-10 ┆ 2.95      ┆ 16320      ┆ Unspecifie │\n",
              "│           ┆           ┆ TAKE IT OR ┆          ┆            ┆           ┆            ┆ d          │\n",
              "│           ┆           ┆ LEAVE IT…  ┆          ┆            ┆           ┆            ┆            │\n",
              "│ 561658    ┆ 22604     ┆ SET OF 4   ┆ 2        ┆ 2011-07-28 ┆ 2.55      ┆ 12743      ┆ Unspecifie │\n",
              "│           ┆           ┆ NAPKIN     ┆          ┆            ┆           ┆            ┆ d          │\n",
              "│           ┆           ┆ CHARMS     ┆          ┆            ┆           ┆            ┆            │\n",
              "│           ┆           ┆ CUTLERY    ┆          ┆            ┆           ┆            ┆            │\n",
              "│ 561661    ┆ 22289     ┆ HANGING    ┆ 2        ┆ 2011-07-28 ┆ 1.25      ┆ 12743      ┆ Unspecifie │\n",
              "│           ┆           ┆ METAL      ┆          ┆            ┆           ┆            ┆ d          │\n",
              "│           ┆           ┆ CHICKEN    ┆          ┆            ┆           ┆            ┆            │\n",
              "│           ┆           ┆ DECORATI…  ┆          ┆            ┆           ┆            ┆            │\n",
              "│ 552695    ┆ 22960     ┆ JAM MAKING ┆ 12       ┆ 2011-05-10 ┆ 3.75      ┆ 16320      ┆ Unspecifie │\n",
              "│           ┆           ┆ SET WITH   ┆          ┆            ┆           ┆            ┆ d          │\n",
              "│           ┆           ┆ JARS       ┆          ┆            ┆           ┆            ┆            │\n",
              "│ …         ┆ …         ┆ …          ┆ …        ┆ …          ┆ …         ┆ …          ┆ …          │\n",
              "│ 561658    ┆ 21002     ┆ ROSE DU    ┆ 2        ┆ 2011-07-28 ┆ 4.25      ┆ 12743      ┆ Unspecifie │\n",
              "│           ┆           ┆ SUD        ┆          ┆            ┆           ┆            ┆ d          │\n",
              "│           ┆           ┆ DRAWSTRING ┆          ┆            ┆           ┆            ┆            │\n",
              "│           ┆           ┆ BAG        ┆          ┆            ┆           ┆            ┆            │\n",
              "│ 564051    ┆ 23046     ┆ PAPER      ┆ 2        ┆ 2011-08-22 ┆ 6.65      ┆ 14265      ┆ Unspecifie │\n",
              "│           ┆           ┆ LANTERN 9  ┆          ┆            ┆           ┆            ┆ d          │\n",
              "│           ┆           ┆ POINT      ┆          ┆            ┆           ┆            ┆            │\n",
              "│           ┆           ┆ DELUXE S…  ┆          ┆            ┆           ┆            ┆            │\n",
              "│ 559929    ┆ 21628     ┆ TRIANGULAR ┆ 2        ┆ 2011-07-14 ┆ 14.95     ┆ 14265      ┆ Unspecifie │\n",
              "│           ┆           ┆ POUFFE     ┆          ┆            ┆           ┆            ┆ d          │\n",
              "│           ┆           ┆ VINTAGE    ┆          ┆            ┆           ┆            ┆            │\n",
              "│ 561658    ┆ 22139     ┆ RETROSPOT  ┆ 2        ┆ 2011-07-28 ┆ 4.95      ┆ 12743      ┆ Unspecifie │\n",
              "│           ┆           ┆ TEA SET    ┆          ┆            ┆           ┆            ┆ d          │\n",
              "│           ┆           ┆ CERAMIC 11 ┆          ┆            ┆           ┆            ┆            │\n",
              "│           ┆           ┆ P…         ┆          ┆            ┆           ┆            ┆            │\n",
              "│ 561658    ┆ 35968     ┆ FOLK ART   ┆ 5        ┆ 2011-07-28 ┆ 0.38      ┆ 12743      ┆ Unspecifie │\n",
              "│           ┆           ┆ METAL      ┆          ┆            ┆           ┆            ┆ d          │\n",
              "│           ┆           ┆ HEART      ┆          ┆            ┆           ┆            ┆            │\n",
              "│           ┆           ┆ T-LIGHT H… ┆          ┆            ┆           ┆            ┆            │\n",
              "└───────────┴───────────┴────────────┴──────────┴────────────┴───────────┴────────────┴────────────┘"
            ]
          },
          "execution_count": 148,
          "metadata": {},
          "output_type": "execute_result"
        }
      ],
      "source": [
        "df.filter(pl.col(\"Country\") == \"Unspecified\" )\n"
      ]
    },
    {
      "cell_type": "markdown",
      "metadata": {
        "id": "-0Ep7WULiEgi"
      },
      "source": [
        "Como en nuestro caso nos parece util y queremos llegar a agrupar las ventas por paises debemos eliminar las filas que contengan \"Unspecified\" en la columna Country."
      ]
    },
    {
      "cell_type": "code",
      "execution_count": null,
      "metadata": {
        "id": "rBneF_PNiEgj",
        "outputId": "601f0220-bc46-4e76-a9ad-969199bdaf30"
      },
      "outputs": [
        {
          "data": {
            "text/html": [
              "<div><style>\n",
              ".dataframe > thead > tr,\n",
              ".dataframe > tbody > tr {\n",
              "  text-align: right;\n",
              "  white-space: pre-wrap;\n",
              "}\n",
              "</style>\n",
              "<small>shape: (392_491, 8)</small><table border=\"1\" class=\"dataframe\"><thead><tr><th>InvoiceNo</th><th>StockCode</th><th>Description</th><th>Quantity</th><th>InvoiceDate</th><th>UnitPrice</th><th>CustomerID</th><th>Country</th></tr><tr><td>str</td><td>str</td><td>str</td><td>i64</td><td>date</td><td>f64</td><td>i64</td><td>str</td></tr></thead><tbody><tr><td>&quot;559672&quot;</td><td>&quot;85071B&quot;</td><td>&quot;RED CHARLIE+LOLA PERSONAL DOOR…</td><td>18</td><td>2011-07-11</td><td>0.39</td><td>14796</td><td>&quot;United Kingdom&quot;</td></tr><tr><td>&quot;562129&quot;</td><td>&quot;22430&quot;</td><td>&quot;ENAMEL WATERING CAN CREAM&quot;</td><td>4</td><td>2011-08-03</td><td>4.95</td><td>13186</td><td>&quot;United Kingdom&quot;</td></tr><tr><td>&quot;568060&quot;</td><td>&quot;84945&quot;</td><td>&quot;MULTI COLOUR SILVER T-LIGHT HO…</td><td>12</td><td>2011-09-23</td><td>0.85</td><td>14546</td><td>&quot;United Kingdom&quot;</td></tr><tr><td>&quot;575837&quot;</td><td>&quot;23483&quot;</td><td>&quot;HANGING&nbsp;&nbsp;BUTTERFLY T-LIGHT HOL…</td><td>18</td><td>2011-11-11</td><td>1.25</td><td>12748</td><td>&quot;United Kingdom&quot;</td></tr><tr><td>&quot;566408&quot;</td><td>&quot;23415&quot;</td><td>&quot;HOME SWEET HOME HOOK&quot;</td><td>5</td><td>2011-09-12</td><td>1.65</td><td>16984</td><td>&quot;United Kingdom&quot;</td></tr><tr><td>&hellip;</td><td>&hellip;</td><td>&hellip;</td><td>&hellip;</td><td>&hellip;</td><td>&hellip;</td><td>&hellip;</td><td>&hellip;</td></tr><tr><td>&quot;570637&quot;</td><td>&quot;85099B&quot;</td><td>&quot;JUMBO BAG RED RETROSPOT&quot;</td><td>10</td><td>2011-10-11</td><td>2.08</td><td>12530</td><td>&quot;Germany&quot;</td></tr><tr><td>&quot;552883&quot;</td><td>&quot;21672&quot;</td><td>&quot;WHITE SPOT RED CERAMIC DRAWER …</td><td>96</td><td>2011-05-12</td><td>1.06</td><td>14646</td><td>&quot;Netherlands&quot;</td></tr><tr><td>&quot;555405&quot;</td><td>&quot;23147&quot;</td><td>&quot;SINGLE ANTIQUE ROSE HOOK IVORY&quot;</td><td>12</td><td>2011-06-02</td><td>1.45</td><td>17531</td><td>&quot;United Kingdom&quot;</td></tr><tr><td>&quot;569026&quot;</td><td>&quot;23322&quot;</td><td>&quot;LARGE WHITE HEART OF WICKER&quot;</td><td>6</td><td>2011-09-30</td><td>2.95</td><td>16101</td><td>&quot;United Kingdom&quot;</td></tr><tr><td>&quot;577167&quot;</td><td>&quot;23390&quot;</td><td>&quot;DOLLY GIRL MINI BACKPACK&quot;</td><td>2</td><td>2011-11-18</td><td>4.15</td><td>16511</td><td>&quot;United Kingdom&quot;</td></tr></tbody></table></div>"
            ],
            "text/plain": [
              "shape: (392_491, 8)\n",
              "┌───────────┬───────────┬────────────┬──────────┬────────────┬───────────┬────────────┬────────────┐\n",
              "│ InvoiceNo ┆ StockCode ┆ Descriptio ┆ Quantity ┆ InvoiceDat ┆ UnitPrice ┆ CustomerID ┆ Country    │\n",
              "│ ---       ┆ ---       ┆ n          ┆ ---      ┆ e          ┆ ---       ┆ ---        ┆ ---        │\n",
              "│ str       ┆ str       ┆ ---        ┆ i64      ┆ ---        ┆ f64       ┆ i64        ┆ str        │\n",
              "│           ┆           ┆ str        ┆          ┆ date       ┆           ┆            ┆            │\n",
              "╞═══════════╪═══════════╪════════════╪══════════╪════════════╪═══════════╪════════════╪════════════╡\n",
              "│ 559672    ┆ 85071B    ┆ RED CHARLI ┆ 18       ┆ 2011-07-11 ┆ 0.39      ┆ 14796      ┆ United     │\n",
              "│           ┆           ┆ E+LOLA     ┆          ┆            ┆           ┆            ┆ Kingdom    │\n",
              "│           ┆           ┆ PERSONAL   ┆          ┆            ┆           ┆            ┆            │\n",
              "│           ┆           ┆ DOOR…      ┆          ┆            ┆           ┆            ┆            │\n",
              "│ 562129    ┆ 22430     ┆ ENAMEL     ┆ 4        ┆ 2011-08-03 ┆ 4.95      ┆ 13186      ┆ United     │\n",
              "│           ┆           ┆ WATERING   ┆          ┆            ┆           ┆            ┆ Kingdom    │\n",
              "│           ┆           ┆ CAN CREAM  ┆          ┆            ┆           ┆            ┆            │\n",
              "│ 568060    ┆ 84945     ┆ MULTI      ┆ 12       ┆ 2011-09-23 ┆ 0.85      ┆ 14546      ┆ United     │\n",
              "│           ┆           ┆ COLOUR     ┆          ┆            ┆           ┆            ┆ Kingdom    │\n",
              "│           ┆           ┆ SILVER     ┆          ┆            ┆           ┆            ┆            │\n",
              "│           ┆           ┆ T-LIGHT    ┆          ┆            ┆           ┆            ┆            │\n",
              "│           ┆           ┆ HO…        ┆          ┆            ┆           ┆            ┆            │\n",
              "│ 575837    ┆ 23483     ┆ HANGING    ┆ 18       ┆ 2011-11-11 ┆ 1.25      ┆ 12748      ┆ United     │\n",
              "│           ┆           ┆ BUTTERFLY  ┆          ┆            ┆           ┆            ┆ Kingdom    │\n",
              "│           ┆           ┆ T-LIGHT    ┆          ┆            ┆           ┆            ┆            │\n",
              "│           ┆           ┆ HOL…       ┆          ┆            ┆           ┆            ┆            │\n",
              "│ 566408    ┆ 23415     ┆ HOME SWEET ┆ 5        ┆ 2011-09-12 ┆ 1.65      ┆ 16984      ┆ United     │\n",
              "│           ┆           ┆ HOME HOOK  ┆          ┆            ┆           ┆            ┆ Kingdom    │\n",
              "│ …         ┆ …         ┆ …          ┆ …        ┆ …          ┆ …         ┆ …          ┆ …          │\n",
              "│ 570637    ┆ 85099B    ┆ JUMBO BAG  ┆ 10       ┆ 2011-10-11 ┆ 2.08      ┆ 12530      ┆ Germany    │\n",
              "│           ┆           ┆ RED        ┆          ┆            ┆           ┆            ┆            │\n",
              "│           ┆           ┆ RETROSPOT  ┆          ┆            ┆           ┆            ┆            │\n",
              "│ 552883    ┆ 21672     ┆ WHITE SPOT ┆ 96       ┆ 2011-05-12 ┆ 1.06      ┆ 14646      ┆ Netherland │\n",
              "│           ┆           ┆ RED        ┆          ┆            ┆           ┆            ┆ s          │\n",
              "│           ┆           ┆ CERAMIC    ┆          ┆            ┆           ┆            ┆            │\n",
              "│           ┆           ┆ DRAWER …   ┆          ┆            ┆           ┆            ┆            │\n",
              "│ 555405    ┆ 23147     ┆ SINGLE     ┆ 12       ┆ 2011-06-02 ┆ 1.45      ┆ 17531      ┆ United     │\n",
              "│           ┆           ┆ ANTIQUE    ┆          ┆            ┆           ┆            ┆ Kingdom    │\n",
              "│           ┆           ┆ ROSE HOOK  ┆          ┆            ┆           ┆            ┆            │\n",
              "│           ┆           ┆ IVORY      ┆          ┆            ┆           ┆            ┆            │\n",
              "│ 569026    ┆ 23322     ┆ LARGE      ┆ 6        ┆ 2011-09-30 ┆ 2.95      ┆ 16101      ┆ United     │\n",
              "│           ┆           ┆ WHITE      ┆          ┆            ┆           ┆            ┆ Kingdom    │\n",
              "│           ┆           ┆ HEART OF   ┆          ┆            ┆           ┆            ┆            │\n",
              "│           ┆           ┆ WICKER     ┆          ┆            ┆           ┆            ┆            │\n",
              "│ 577167    ┆ 23390     ┆ DOLLY GIRL ┆ 2        ┆ 2011-11-18 ┆ 4.15      ┆ 16511      ┆ United     │\n",
              "│           ┆           ┆ MINI       ┆          ┆            ┆           ┆            ┆ Kingdom    │\n",
              "│           ┆           ┆ BACKPACK   ┆          ┆            ┆           ┆            ┆            │\n",
              "└───────────┴───────────┴────────────┴──────────┴────────────┴───────────┴────────────┴────────────┘"
            ]
          },
          "execution_count": 149,
          "metadata": {},
          "output_type": "execute_result"
        }
      ],
      "source": [
        "df = df.filter(pl.col(\"Country\") != \"Unspecified\" )\n",
        "df"
      ]
    },
    {
      "cell_type": "markdown",
      "metadata": {
        "id": "LgZQoVMfiEgj"
      },
      "source": [
        "Algo raro tambien es que habia valores maximos muy altos en la cantidad y en el precio, es decir tenemos claramente outliers que habiamos detectado antes. Para solucionar esto usaremos la formula del IQR para ddefinir un limite superior e inderior en los valores.\n",
        "los modelos de agrupacion son muy sensibles a los outliers"
      ]
    },
    {
      "cell_type": "code",
      "execution_count": null,
      "metadata": {
        "id": "Tzh57tRtiEgj",
        "outputId": "5bca8392-be9e-4bb8-a25d-94141b7d7621"
      },
      "outputs": [
        {
          "name": "stdout",
          "output_type": "stream",
          "text": [
            "\n",
            "IQR for Quantity\n",
            "2.0 12.0 10.0 -13.0 27.0\n",
            "\n",
            "IQR for UnitPrice\n",
            "1.25 3.75 2.5 -2.5 7.5\n"
          ]
        }
      ],
      "source": [
        "def calc_iqr_from_column_name(name:str)-> None:\n",
        "    Q1 = df[name].quantile(0.25)\n",
        "    Q3 = df[name].quantile(0.75)\n",
        "    IQR = Q3 - Q1\n",
        "\n",
        "    lower_bound = Q1 - 1.5 * IQR\n",
        "    upper_bound = Q3 + 1.5 * IQR\n",
        "\n",
        "    print(f\"\\nIQR for {name}\")\n",
        "    print(Q1, Q3, IQR, lower_bound, upper_bound)\n",
        "\n",
        "calc_iqr_from_column_name(\"Quantity\")\n",
        "calc_iqr_from_column_name(\"UnitPrice\")"
      ]
    },
    {
      "cell_type": "code",
      "execution_count": null,
      "metadata": {
        "id": "rQAlFrCSiEgj",
        "outputId": "980263b3-3fae-42f6-df63-29da6e06ff21"
      },
      "outputs": [
        {
          "data": {
            "text/html": [
              "<div><style>\n",
              ".dataframe > thead > tr,\n",
              ".dataframe > tbody > tr {\n",
              "  text-align: right;\n",
              "  white-space: pre-wrap;\n",
              "}\n",
              "</style>\n",
              "<small>shape: (59_436, 8)</small><table border=\"1\" class=\"dataframe\"><thead><tr><th>InvoiceNo</th><th>StockCode</th><th>Description</th><th>Quantity</th><th>InvoiceDate</th><th>UnitPrice</th><th>CustomerID</th><th>Country</th></tr><tr><td>str</td><td>str</td><td>str</td><td>i64</td><td>date</td><td>f64</td><td>i64</td><td>str</td></tr></thead><tbody><tr><td>&quot;570669&quot;</td><td>&quot;23541&quot;</td><td>&quot;WALL ART CLASSIC PUDDINGS &quot;</td><td>2</td><td>2011-10-11</td><td>8.25</td><td>15955</td><td>&quot;United Kingdom&quot;</td></tr><tr><td>&quot;553671&quot;</td><td>&quot;22501&quot;</td><td>&quot;PICNIC BASKET WICKER LARGE&quot;</td><td>1</td><td>2011-05-18</td><td>9.95</td><td>13659</td><td>&quot;United Kingdom&quot;</td></tr><tr><td>&quot;537126&quot;</td><td>&quot;22635&quot;</td><td>&quot;CHILDS BREAKFAST SET DOLLY GIR…</td><td>2</td><td>2010-12-05</td><td>9.95</td><td>18118</td><td>&quot;United Kingdom&quot;</td></tr><tr><td>&quot;539579&quot;</td><td>&quot;22171&quot;</td><td>&quot;3 HOOK PHOTO SHELF ANTIQUE WHI…</td><td>2</td><td>2010-12-20</td><td>8.5</td><td>16713</td><td>&quot;United Kingdom&quot;</td></tr><tr><td>&quot;574882&quot;</td><td>&quot;23558&quot;</td><td>&quot;LANDMARK FRAME LONDON BRIDGE &quot;</td><td>1</td><td>2011-11-07</td><td>12.5</td><td>13599</td><td>&quot;United Kingdom&quot;</td></tr><tr><td>&hellip;</td><td>&hellip;</td><td>&hellip;</td><td>&hellip;</td><td>&hellip;</td><td>&hellip;</td><td>&hellip;</td><td>&hellip;</td></tr><tr><td>&quot;561320&quot;</td><td>&quot;82484&quot;</td><td>&quot;WOOD BLACK BOARD ANT WHITE FIN…</td><td>3</td><td>2011-07-26</td><td>7.95</td><td>16942</td><td>&quot;United Kingdom&quot;</td></tr><tr><td>&quot;561095&quot;</td><td>&quot;22423&quot;</td><td>&quot;REGENCY CAKESTAND 3 TIER&quot;</td><td>16</td><td>2011-07-25</td><td>10.95</td><td>17040</td><td>&quot;United Kingdom&quot;</td></tr><tr><td>&quot;542098&quot;</td><td>&quot;22526&quot;</td><td>&quot;WHEELBARROW FOR CHILDREN &quot;</td><td>2</td><td>2011-01-25</td><td>12.75</td><td>16531</td><td>&quot;United Kingdom&quot;</td></tr><tr><td>&quot;575627&quot;</td><td>&quot;37340&quot;</td><td>&quot;MULTICOLOUR SPRING FLOWER MUG&quot;</td><td>36</td><td>2011-11-10</td><td>0.39</td><td>17977</td><td>&quot;United Kingdom&quot;</td></tr><tr><td>&quot;552883&quot;</td><td>&quot;21672&quot;</td><td>&quot;WHITE SPOT RED CERAMIC DRAWER …</td><td>96</td><td>2011-05-12</td><td>1.06</td><td>14646</td><td>&quot;Netherlands&quot;</td></tr></tbody></table></div>"
            ],
            "text/plain": [
              "shape: (59_436, 8)\n",
              "┌───────────┬───────────┬────────────┬──────────┬────────────┬───────────┬────────────┬────────────┐\n",
              "│ InvoiceNo ┆ StockCode ┆ Descriptio ┆ Quantity ┆ InvoiceDat ┆ UnitPrice ┆ CustomerID ┆ Country    │\n",
              "│ ---       ┆ ---       ┆ n          ┆ ---      ┆ e          ┆ ---       ┆ ---        ┆ ---        │\n",
              "│ str       ┆ str       ┆ ---        ┆ i64      ┆ ---        ┆ f64       ┆ i64        ┆ str        │\n",
              "│           ┆           ┆ str        ┆          ┆ date       ┆           ┆            ┆            │\n",
              "╞═══════════╪═══════════╪════════════╪══════════╪════════════╪═══════════╪════════════╪════════════╡\n",
              "│ 570669    ┆ 23541     ┆ WALL ART   ┆ 2        ┆ 2011-10-11 ┆ 8.25      ┆ 15955      ┆ United     │\n",
              "│           ┆           ┆ CLASSIC    ┆          ┆            ┆           ┆            ┆ Kingdom    │\n",
              "│           ┆           ┆ PUDDINGS   ┆          ┆            ┆           ┆            ┆            │\n",
              "│ 553671    ┆ 22501     ┆ PICNIC     ┆ 1        ┆ 2011-05-18 ┆ 9.95      ┆ 13659      ┆ United     │\n",
              "│           ┆           ┆ BASKET     ┆          ┆            ┆           ┆            ┆ Kingdom    │\n",
              "│           ┆           ┆ WICKER     ┆          ┆            ┆           ┆            ┆            │\n",
              "│           ┆           ┆ LARGE      ┆          ┆            ┆           ┆            ┆            │\n",
              "│ 537126    ┆ 22635     ┆ CHILDS     ┆ 2        ┆ 2010-12-05 ┆ 9.95      ┆ 18118      ┆ United     │\n",
              "│           ┆           ┆ BREAKFAST  ┆          ┆            ┆           ┆            ┆ Kingdom    │\n",
              "│           ┆           ┆ SET DOLLY  ┆          ┆            ┆           ┆            ┆            │\n",
              "│           ┆           ┆ GIR…       ┆          ┆            ┆           ┆            ┆            │\n",
              "│ 539579    ┆ 22171     ┆ 3 HOOK     ┆ 2        ┆ 2010-12-20 ┆ 8.5       ┆ 16713      ┆ United     │\n",
              "│           ┆           ┆ PHOTO      ┆          ┆            ┆           ┆            ┆ Kingdom    │\n",
              "│           ┆           ┆ SHELF      ┆          ┆            ┆           ┆            ┆            │\n",
              "│           ┆           ┆ ANTIQUE    ┆          ┆            ┆           ┆            ┆            │\n",
              "│           ┆           ┆ WHI…       ┆          ┆            ┆           ┆            ┆            │\n",
              "│ 574882    ┆ 23558     ┆ LANDMARK   ┆ 1        ┆ 2011-11-07 ┆ 12.5      ┆ 13599      ┆ United     │\n",
              "│           ┆           ┆ FRAME      ┆          ┆            ┆           ┆            ┆ Kingdom    │\n",
              "│           ┆           ┆ LONDON     ┆          ┆            ┆           ┆            ┆            │\n",
              "│           ┆           ┆ BRIDGE     ┆          ┆            ┆           ┆            ┆            │\n",
              "│ …         ┆ …         ┆ …          ┆ …        ┆ …          ┆ …         ┆ …          ┆ …          │\n",
              "│ 561320    ┆ 82484     ┆ WOOD BLACK ┆ 3        ┆ 2011-07-26 ┆ 7.95      ┆ 16942      ┆ United     │\n",
              "│           ┆           ┆ BOARD ANT  ┆          ┆            ┆           ┆            ┆ Kingdom    │\n",
              "│           ┆           ┆ WHITE FIN… ┆          ┆            ┆           ┆            ┆            │\n",
              "│ 561095    ┆ 22423     ┆ REGENCY    ┆ 16       ┆ 2011-07-25 ┆ 10.95     ┆ 17040      ┆ United     │\n",
              "│           ┆           ┆ CAKESTAND  ┆          ┆            ┆           ┆            ┆ Kingdom    │\n",
              "│           ┆           ┆ 3 TIER     ┆          ┆            ┆           ┆            ┆            │\n",
              "│ 542098    ┆ 22526     ┆ WHEELBARRO ┆ 2        ┆ 2011-01-25 ┆ 12.75     ┆ 16531      ┆ United     │\n",
              "│           ┆           ┆ W FOR      ┆          ┆            ┆           ┆            ┆ Kingdom    │\n",
              "│           ┆           ┆ CHILDREN   ┆          ┆            ┆           ┆            ┆            │\n",
              "│ 575627    ┆ 37340     ┆ MULTICOLOU ┆ 36       ┆ 2011-11-10 ┆ 0.39      ┆ 17977      ┆ United     │\n",
              "│           ┆           ┆ R SPRING   ┆          ┆            ┆           ┆            ┆ Kingdom    │\n",
              "│           ┆           ┆ FLOWER MUG ┆          ┆            ┆           ┆            ┆            │\n",
              "│ 552883    ┆ 21672     ┆ WHITE SPOT ┆ 96       ┆ 2011-05-12 ┆ 1.06      ┆ 14646      ┆ Netherland │\n",
              "│           ┆           ┆ RED        ┆          ┆            ┆           ┆            ┆ s          │\n",
              "│           ┆           ┆ CERAMIC    ┆          ┆            ┆           ┆            ┆            │\n",
              "│           ┆           ┆ DRAWER …   ┆          ┆            ┆           ┆            ┆            │\n",
              "└───────────┴───────────┴────────────┴──────────┴────────────┴───────────┴────────────┴────────────┘"
            ]
          },
          "execution_count": 151,
          "metadata": {},
          "output_type": "execute_result"
        }
      ],
      "source": [
        "upper_bound_limit_condition = (pl.col(\"Quantity\") > 27) | (pl.col(\"UnitPrice\") > 7.5)\n",
        "\n",
        "df.filter(upper_bound_limit_condition)"
      ]
    },
    {
      "cell_type": "markdown",
      "metadata": {
        "id": "rHflIgtsiEgj"
      },
      "source": [
        "LLevando a cabo esta accion estariamos eliminando bastantes datos, pero la parte positiva es que estariamos normalizando lo maximo posible el flujo de los datos, entonces procederemos a eliminarlos."
      ]
    },
    {
      "cell_type": "code",
      "execution_count": null,
      "metadata": {
        "id": "8UnCdDyTiEgj",
        "outputId": "b69545af-e436-4835-a5f3-74e0afd79843"
      },
      "outputs": [
        {
          "data": {
            "text/html": [
              "<div><style>\n",
              ".dataframe > thead > tr,\n",
              ".dataframe > tbody > tr {\n",
              "  text-align: right;\n",
              "  white-space: pre-wrap;\n",
              "}\n",
              "</style>\n",
              "<small>shape: (333_055, 8)</small><table border=\"1\" class=\"dataframe\"><thead><tr><th>InvoiceNo</th><th>StockCode</th><th>Description</th><th>Quantity</th><th>InvoiceDate</th><th>UnitPrice</th><th>CustomerID</th><th>Country</th></tr><tr><td>str</td><td>str</td><td>str</td><td>i64</td><td>date</td><td>f64</td><td>i64</td><td>str</td></tr></thead><tbody><tr><td>&quot;559672&quot;</td><td>&quot;85071B&quot;</td><td>&quot;RED CHARLIE+LOLA PERSONAL DOOR…</td><td>18</td><td>2011-07-11</td><td>0.39</td><td>14796</td><td>&quot;United Kingdom&quot;</td></tr><tr><td>&quot;562129&quot;</td><td>&quot;22430&quot;</td><td>&quot;ENAMEL WATERING CAN CREAM&quot;</td><td>4</td><td>2011-08-03</td><td>4.95</td><td>13186</td><td>&quot;United Kingdom&quot;</td></tr><tr><td>&quot;568060&quot;</td><td>&quot;84945&quot;</td><td>&quot;MULTI COLOUR SILVER T-LIGHT HO…</td><td>12</td><td>2011-09-23</td><td>0.85</td><td>14546</td><td>&quot;United Kingdom&quot;</td></tr><tr><td>&quot;575837&quot;</td><td>&quot;23483&quot;</td><td>&quot;HANGING&nbsp;&nbsp;BUTTERFLY T-LIGHT HOL…</td><td>18</td><td>2011-11-11</td><td>1.25</td><td>12748</td><td>&quot;United Kingdom&quot;</td></tr><tr><td>&quot;566408&quot;</td><td>&quot;23415&quot;</td><td>&quot;HOME SWEET HOME HOOK&quot;</td><td>5</td><td>2011-09-12</td><td>1.65</td><td>16984</td><td>&quot;United Kingdom&quot;</td></tr><tr><td>&hellip;</td><td>&hellip;</td><td>&hellip;</td><td>&hellip;</td><td>&hellip;</td><td>&hellip;</td><td>&hellip;</td><td>&hellip;</td></tr><tr><td>&quot;563555&quot;</td><td>&quot;22201&quot;</td><td>&quot;FRYING PAN BLUE POLKADOT&quot;</td><td>1</td><td>2011-08-17</td><td>4.25</td><td>16755</td><td>&quot;United Kingdom&quot;</td></tr><tr><td>&quot;570637&quot;</td><td>&quot;85099B&quot;</td><td>&quot;JUMBO BAG RED RETROSPOT&quot;</td><td>10</td><td>2011-10-11</td><td>2.08</td><td>12530</td><td>&quot;Germany&quot;</td></tr><tr><td>&quot;555405&quot;</td><td>&quot;23147&quot;</td><td>&quot;SINGLE ANTIQUE ROSE HOOK IVORY&quot;</td><td>12</td><td>2011-06-02</td><td>1.45</td><td>17531</td><td>&quot;United Kingdom&quot;</td></tr><tr><td>&quot;569026&quot;</td><td>&quot;23322&quot;</td><td>&quot;LARGE WHITE HEART OF WICKER&quot;</td><td>6</td><td>2011-09-30</td><td>2.95</td><td>16101</td><td>&quot;United Kingdom&quot;</td></tr><tr><td>&quot;577167&quot;</td><td>&quot;23390&quot;</td><td>&quot;DOLLY GIRL MINI BACKPACK&quot;</td><td>2</td><td>2011-11-18</td><td>4.15</td><td>16511</td><td>&quot;United Kingdom&quot;</td></tr></tbody></table></div>"
            ],
            "text/plain": [
              "shape: (333_055, 8)\n",
              "┌───────────┬───────────┬──────────────┬──────────┬─────────────┬───────────┬────────────┬─────────┐\n",
              "│ InvoiceNo ┆ StockCode ┆ Description  ┆ Quantity ┆ InvoiceDate ┆ UnitPrice ┆ CustomerID ┆ Country │\n",
              "│ ---       ┆ ---       ┆ ---          ┆ ---      ┆ ---         ┆ ---       ┆ ---        ┆ ---     │\n",
              "│ str       ┆ str       ┆ str          ┆ i64      ┆ date        ┆ f64       ┆ i64        ┆ str     │\n",
              "╞═══════════╪═══════════╪══════════════╪══════════╪═════════════╪═══════════╪════════════╪═════════╡\n",
              "│ 559672    ┆ 85071B    ┆ RED          ┆ 18       ┆ 2011-07-11  ┆ 0.39      ┆ 14796      ┆ United  │\n",
              "│           ┆           ┆ CHARLIE+LOLA ┆          ┆             ┆           ┆            ┆ Kingdom │\n",
              "│           ┆           ┆ PERSONAL     ┆          ┆             ┆           ┆            ┆         │\n",
              "│           ┆           ┆ DOOR…        ┆          ┆             ┆           ┆            ┆         │\n",
              "│ 562129    ┆ 22430     ┆ ENAMEL       ┆ 4        ┆ 2011-08-03  ┆ 4.95      ┆ 13186      ┆ United  │\n",
              "│           ┆           ┆ WATERING CAN ┆          ┆             ┆           ┆            ┆ Kingdom │\n",
              "│           ┆           ┆ CREAM        ┆          ┆             ┆           ┆            ┆         │\n",
              "│ 568060    ┆ 84945     ┆ MULTI COLOUR ┆ 12       ┆ 2011-09-23  ┆ 0.85      ┆ 14546      ┆ United  │\n",
              "│           ┆           ┆ SILVER       ┆          ┆             ┆           ┆            ┆ Kingdom │\n",
              "│           ┆           ┆ T-LIGHT HO…  ┆          ┆             ┆           ┆            ┆         │\n",
              "│ 575837    ┆ 23483     ┆ HANGING      ┆ 18       ┆ 2011-11-11  ┆ 1.25      ┆ 12748      ┆ United  │\n",
              "│           ┆           ┆ BUTTERFLY    ┆          ┆             ┆           ┆            ┆ Kingdom │\n",
              "│           ┆           ┆ T-LIGHT HOL… ┆          ┆             ┆           ┆            ┆         │\n",
              "│ 566408    ┆ 23415     ┆ HOME SWEET   ┆ 5        ┆ 2011-09-12  ┆ 1.65      ┆ 16984      ┆ United  │\n",
              "│           ┆           ┆ HOME HOOK    ┆          ┆             ┆           ┆            ┆ Kingdom │\n",
              "│ …         ┆ …         ┆ …            ┆ …        ┆ …           ┆ …         ┆ …          ┆ …       │\n",
              "│ 563555    ┆ 22201     ┆ FRYING PAN   ┆ 1        ┆ 2011-08-17  ┆ 4.25      ┆ 16755      ┆ United  │\n",
              "│           ┆           ┆ BLUE         ┆          ┆             ┆           ┆            ┆ Kingdom │\n",
              "│           ┆           ┆ POLKADOT     ┆          ┆             ┆           ┆            ┆         │\n",
              "│ 570637    ┆ 85099B    ┆ JUMBO BAG    ┆ 10       ┆ 2011-10-11  ┆ 2.08      ┆ 12530      ┆ Germany │\n",
              "│           ┆           ┆ RED          ┆          ┆             ┆           ┆            ┆         │\n",
              "│           ┆           ┆ RETROSPOT    ┆          ┆             ┆           ┆            ┆         │\n",
              "│ 555405    ┆ 23147     ┆ SINGLE       ┆ 12       ┆ 2011-06-02  ┆ 1.45      ┆ 17531      ┆ United  │\n",
              "│           ┆           ┆ ANTIQUE ROSE ┆          ┆             ┆           ┆            ┆ Kingdom │\n",
              "│           ┆           ┆ HOOK IVORY   ┆          ┆             ┆           ┆            ┆         │\n",
              "│ 569026    ┆ 23322     ┆ LARGE WHITE  ┆ 6        ┆ 2011-09-30  ┆ 2.95      ┆ 16101      ┆ United  │\n",
              "│           ┆           ┆ HEART OF     ┆          ┆             ┆           ┆            ┆ Kingdom │\n",
              "│           ┆           ┆ WICKER       ┆          ┆             ┆           ┆            ┆         │\n",
              "│ 577167    ┆ 23390     ┆ DOLLY GIRL   ┆ 2        ┆ 2011-11-18  ┆ 4.15      ┆ 16511      ┆ United  │\n",
              "│           ┆           ┆ MINI         ┆          ┆             ┆           ┆            ┆ Kingdom │\n",
              "│           ┆           ┆ BACKPACK     ┆          ┆             ┆           ┆            ┆         │\n",
              "└───────────┴───────────┴──────────────┴──────────┴─────────────┴───────────┴────────────┴─────────┘"
            ]
          },
          "execution_count": 152,
          "metadata": {},
          "output_type": "execute_result"
        }
      ],
      "source": [
        "df = df.filter(~((pl.col(\"Quantity\") > 27) | (pl.col(\"UnitPrice\") > 7.5)))\n",
        "df"
      ]
    },
    {
      "cell_type": "code",
      "execution_count": null,
      "metadata": {
        "id": "tEfpi3bxiEgj",
        "outputId": "059ff27e-ae58-424d-a9af-6796f60a7d48"
      },
      "outputs": [
        {
          "data": {
            "text/html": [
              "<div><style>\n",
              ".dataframe > thead > tr,\n",
              ".dataframe > tbody > tr {\n",
              "  text-align: right;\n",
              "  white-space: pre-wrap;\n",
              "}\n",
              "</style>\n",
              "<small>shape: (9, 9)</small><table border=\"1\" class=\"dataframe\"><thead><tr><th>statistic</th><th>InvoiceNo</th><th>StockCode</th><th>Description</th><th>Quantity</th><th>InvoiceDate</th><th>UnitPrice</th><th>CustomerID</th><th>Country</th></tr><tr><td>str</td><td>str</td><td>str</td><td>str</td><td>f64</td><td>str</td><td>f64</td><td>f64</td><td>str</td></tr></thead><tbody><tr><td>&quot;count&quot;</td><td>&quot;333055&quot;</td><td>&quot;333055&quot;</td><td>&quot;333055&quot;</td><td>333055.0</td><td>&quot;333055&quot;</td><td>333055.0</td><td>333055.0</td><td>&quot;333055&quot;</td></tr><tr><td>&quot;null_count&quot;</td><td>&quot;0&quot;</td><td>&quot;0&quot;</td><td>&quot;0&quot;</td><td>0.0</td><td>&quot;0&quot;</td><td>0.0</td><td>0.0</td><td>&quot;0&quot;</td></tr><tr><td>&quot;mean&quot;</td><td>null</td><td>null</td><td>null</td><td>7.550321</td><td>&quot;2011-07-12 00:32:44.821000&quot;</td><td>2.194007</td><td>15319.817204</td><td>null</td></tr><tr><td>&quot;std&quot;</td><td>null</td><td>null</td><td>null</td><td>6.775819</td><td>null</td><td>1.546041</td><td>1710.841623</td><td>null</td></tr><tr><td>&quot;min&quot;</td><td>&quot;536365&quot;</td><td>&quot;10002&quot;</td><td>&quot; 4 PURPLE FLOCK DINNER CANDLES&quot;</td><td>1.0</td><td>&quot;2010-12-01&quot;</td><td>0.0</td><td>12347.0</td><td>&quot;Australia&quot;</td></tr><tr><td>&quot;25%&quot;</td><td>null</td><td>null</td><td>null</td><td>2.0</td><td>&quot;2011-04-08&quot;</td><td>1.25</td><td>13988.0</td><td>null</td></tr><tr><td>&quot;50%&quot;</td><td>null</td><td>null</td><td>null</td><td>6.0</td><td>&quot;2011-08-03&quot;</td><td>1.65</td><td>15235.0</td><td>null</td></tr><tr><td>&quot;75%&quot;</td><td>null</td><td>null</td><td>null</td><td>12.0</td><td>&quot;2011-10-23&quot;</td><td>2.95</td><td>16814.0</td><td>null</td></tr><tr><td>&quot;max&quot;</td><td>&quot;581587&quot;</td><td>&quot;POST&quot;</td><td>&quot;ZINC WIRE SWEETHEART LETTER TR…</td><td>27.0</td><td>&quot;2011-12-09&quot;</td><td>7.5</td><td>18287.0</td><td>&quot;United Kingdom&quot;</td></tr></tbody></table></div>"
            ],
            "text/plain": [
              "shape: (9, 9)\n",
              "┌───────────┬───────────┬───────────┬───────────┬───┬───────────┬───────────┬───────────┬──────────┐\n",
              "│ statistic ┆ InvoiceNo ┆ StockCode ┆ Descripti ┆ … ┆ InvoiceDa ┆ UnitPrice ┆ CustomerI ┆ Country  │\n",
              "│ ---       ┆ ---       ┆ ---       ┆ on        ┆   ┆ te        ┆ ---       ┆ D         ┆ ---      │\n",
              "│ str       ┆ str       ┆ str       ┆ ---       ┆   ┆ ---       ┆ f64       ┆ ---       ┆ str      │\n",
              "│           ┆           ┆           ┆ str       ┆   ┆ str       ┆           ┆ f64       ┆          │\n",
              "╞═══════════╪═══════════╪═══════════╪═══════════╪═══╪═══════════╪═══════════╪═══════════╪══════════╡\n",
              "│ count     ┆ 333055    ┆ 333055    ┆ 333055    ┆ … ┆ 333055    ┆ 333055.0  ┆ 333055.0  ┆ 333055   │\n",
              "│ null_coun ┆ 0         ┆ 0         ┆ 0         ┆ … ┆ 0         ┆ 0.0       ┆ 0.0       ┆ 0        │\n",
              "│ t         ┆           ┆           ┆           ┆   ┆           ┆           ┆           ┆          │\n",
              "│ mean      ┆ null      ┆ null      ┆ null      ┆ … ┆ 2011-07-1 ┆ 2.194007  ┆ 15319.817 ┆ null     │\n",
              "│           ┆           ┆           ┆           ┆   ┆ 2 00:32:4 ┆           ┆ 204       ┆          │\n",
              "│           ┆           ┆           ┆           ┆   ┆ 4.821000  ┆           ┆           ┆          │\n",
              "│ std       ┆ null      ┆ null      ┆ null      ┆ … ┆ null      ┆ 1.546041  ┆ 1710.8416 ┆ null     │\n",
              "│           ┆           ┆           ┆           ┆   ┆           ┆           ┆ 23        ┆          │\n",
              "│ min       ┆ 536365    ┆ 10002     ┆ 4 PURPLE  ┆ … ┆ 2010-12-0 ┆ 0.0       ┆ 12347.0   ┆ Australi │\n",
              "│           ┆           ┆           ┆ FLOCK     ┆   ┆ 1         ┆           ┆           ┆ a        │\n",
              "│           ┆           ┆           ┆ DINNER    ┆   ┆           ┆           ┆           ┆          │\n",
              "│           ┆           ┆           ┆ CANDLES   ┆   ┆           ┆           ┆           ┆          │\n",
              "│ 25%       ┆ null      ┆ null      ┆ null      ┆ … ┆ 2011-04-0 ┆ 1.25      ┆ 13988.0   ┆ null     │\n",
              "│           ┆           ┆           ┆           ┆   ┆ 8         ┆           ┆           ┆          │\n",
              "│ 50%       ┆ null      ┆ null      ┆ null      ┆ … ┆ 2011-08-0 ┆ 1.65      ┆ 15235.0   ┆ null     │\n",
              "│           ┆           ┆           ┆           ┆   ┆ 3         ┆           ┆           ┆          │\n",
              "│ 75%       ┆ null      ┆ null      ┆ null      ┆ … ┆ 2011-10-2 ┆ 2.95      ┆ 16814.0   ┆ null     │\n",
              "│           ┆           ┆           ┆           ┆   ┆ 3         ┆           ┆           ┆          │\n",
              "│ max       ┆ 581587    ┆ POST      ┆ ZINC WIRE ┆ … ┆ 2011-12-0 ┆ 7.5       ┆ 18287.0   ┆ United   │\n",
              "│           ┆           ┆           ┆ SWEETHEAR ┆   ┆ 9         ┆           ┆           ┆ Kingdom  │\n",
              "│           ┆           ┆           ┆ T LETTER  ┆   ┆           ┆           ┆           ┆          │\n",
              "│           ┆           ┆           ┆ TR…       ┆   ┆           ┆           ┆           ┆          │\n",
              "└───────────┴───────────┴───────────┴───────────┴───┴───────────┴───────────┴───────────┴──────────┘"
            ]
          },
          "execution_count": 153,
          "metadata": {},
          "output_type": "execute_result"
        }
      ],
      "source": [
        "df.describe()"
      ]
    },
    {
      "cell_type": "markdown",
      "metadata": {
        "id": "2_OFU-wGiEgj"
      },
      "source": [
        "Viendo que el objetivo es agrupar en diferentes tipos de clientes eliminaremos las columnas que no son relevantes\n",
        "\n",
        "CustomerID,InvoiceDate,Quantity, UnitPrice,InvoiceNo, Country: serian las columnas mas interesantes para nuestro modelo de clustering, teniendo en cuenta que country seria opcional y solo seria util si queremos segmentar internacionalmente"
      ]
    },
    {
      "cell_type": "code",
      "execution_count": null,
      "metadata": {
        "id": "Ej_wN3lOiEgj",
        "outputId": "096ea066-c944-4ede-c8f5-e31de8ee0b45"
      },
      "outputs": [
        {
          "data": {
            "text/html": [
              "<div><style>\n",
              ".dataframe > thead > tr,\n",
              ".dataframe > tbody > tr {\n",
              "  text-align: right;\n",
              "  white-space: pre-wrap;\n",
              "}\n",
              "</style>\n",
              "<small>shape: (333_055, 6)</small><table border=\"1\" class=\"dataframe\"><thead><tr><th>CustomerID</th><th>InvoiceDate</th><th>Quantity</th><th>UnitPrice</th><th>Country</th><th>InvoiceNo</th></tr><tr><td>i64</td><td>date</td><td>i64</td><td>f64</td><td>str</td><td>str</td></tr></thead><tbody><tr><td>14796</td><td>2011-07-11</td><td>18</td><td>0.39</td><td>&quot;United Kingdom&quot;</td><td>&quot;559672&quot;</td></tr><tr><td>13186</td><td>2011-08-03</td><td>4</td><td>4.95</td><td>&quot;United Kingdom&quot;</td><td>&quot;562129&quot;</td></tr><tr><td>14546</td><td>2011-09-23</td><td>12</td><td>0.85</td><td>&quot;United Kingdom&quot;</td><td>&quot;568060&quot;</td></tr><tr><td>12748</td><td>2011-11-11</td><td>18</td><td>1.25</td><td>&quot;United Kingdom&quot;</td><td>&quot;575837&quot;</td></tr><tr><td>16984</td><td>2011-09-12</td><td>5</td><td>1.65</td><td>&quot;United Kingdom&quot;</td><td>&quot;566408&quot;</td></tr><tr><td>&hellip;</td><td>&hellip;</td><td>&hellip;</td><td>&hellip;</td><td>&hellip;</td><td>&hellip;</td></tr><tr><td>16755</td><td>2011-08-17</td><td>1</td><td>4.25</td><td>&quot;United Kingdom&quot;</td><td>&quot;563555&quot;</td></tr><tr><td>12530</td><td>2011-10-11</td><td>10</td><td>2.08</td><td>&quot;Germany&quot;</td><td>&quot;570637&quot;</td></tr><tr><td>17531</td><td>2011-06-02</td><td>12</td><td>1.45</td><td>&quot;United Kingdom&quot;</td><td>&quot;555405&quot;</td></tr><tr><td>16101</td><td>2011-09-30</td><td>6</td><td>2.95</td><td>&quot;United Kingdom&quot;</td><td>&quot;569026&quot;</td></tr><tr><td>16511</td><td>2011-11-18</td><td>2</td><td>4.15</td><td>&quot;United Kingdom&quot;</td><td>&quot;577167&quot;</td></tr></tbody></table></div>"
            ],
            "text/plain": [
              "shape: (333_055, 6)\n",
              "┌────────────┬─────────────┬──────────┬───────────┬────────────────┬───────────┐\n",
              "│ CustomerID ┆ InvoiceDate ┆ Quantity ┆ UnitPrice ┆ Country        ┆ InvoiceNo │\n",
              "│ ---        ┆ ---         ┆ ---      ┆ ---       ┆ ---            ┆ ---       │\n",
              "│ i64        ┆ date        ┆ i64      ┆ f64       ┆ str            ┆ str       │\n",
              "╞════════════╪═════════════╪══════════╪═══════════╪════════════════╪═══════════╡\n",
              "│ 14796      ┆ 2011-07-11  ┆ 18       ┆ 0.39      ┆ United Kingdom ┆ 559672    │\n",
              "│ 13186      ┆ 2011-08-03  ┆ 4        ┆ 4.95      ┆ United Kingdom ┆ 562129    │\n",
              "│ 14546      ┆ 2011-09-23  ┆ 12       ┆ 0.85      ┆ United Kingdom ┆ 568060    │\n",
              "│ 12748      ┆ 2011-11-11  ┆ 18       ┆ 1.25      ┆ United Kingdom ┆ 575837    │\n",
              "│ 16984      ┆ 2011-09-12  ┆ 5        ┆ 1.65      ┆ United Kingdom ┆ 566408    │\n",
              "│ …          ┆ …           ┆ …        ┆ …         ┆ …              ┆ …         │\n",
              "│ 16755      ┆ 2011-08-17  ┆ 1        ┆ 4.25      ┆ United Kingdom ┆ 563555    │\n",
              "│ 12530      ┆ 2011-10-11  ┆ 10       ┆ 2.08      ┆ Germany        ┆ 570637    │\n",
              "│ 17531      ┆ 2011-06-02  ┆ 12       ┆ 1.45      ┆ United Kingdom ┆ 555405    │\n",
              "│ 16101      ┆ 2011-09-30  ┆ 6        ┆ 2.95      ┆ United Kingdom ┆ 569026    │\n",
              "│ 16511      ┆ 2011-11-18  ┆ 2        ┆ 4.15      ┆ United Kingdom ┆ 577167    │\n",
              "└────────────┴─────────────┴──────────┴───────────┴────────────────┴───────────┘"
            ]
          },
          "execution_count": 154,
          "metadata": {},
          "output_type": "execute_result"
        }
      ],
      "source": [
        "df = df[\"CustomerID\",\"InvoiceDate\",\"Quantity\", \"UnitPrice\",\"Country\",\"InvoiceNo\"]\n",
        "df"
      ]
    },
    {
      "cell_type": "markdown",
      "metadata": {
        "id": "EJzyC7MOiEgj"
      },
      "source": [
        "Ahora es el turno de las columnas extra.\n",
        "Hemos pensado las siguientes:\n",
        "\n",
        "TotalPrice ->  Para saber cuanto gastan los clientes.\n",
        "Last_buy ->  Días desde la última compra.\n",
        "Frequency ->  Número de compras (facturas únicas) por cliente.\n",
        "Monetary -> Suma del gasto total por cliente."
      ]
    },
    {
      "cell_type": "markdown",
      "metadata": {
        "id": "VTHZaBjZB6Wr"
      },
      "source": [
        "Creando la variable de totalPrice"
      ]
    },
    {
      "cell_type": "code",
      "execution_count": null,
      "metadata": {
        "id": "1RJKVy5LiEgj",
        "outputId": "75b9a2e0-6656-4817-f287-5bcd2c2da5a2"
      },
      "outputs": [
        {
          "data": {
            "text/html": [
              "<div><style>\n",
              ".dataframe > thead > tr,\n",
              ".dataframe > tbody > tr {\n",
              "  text-align: right;\n",
              "  white-space: pre-wrap;\n",
              "}\n",
              "</style>\n",
              "<small>shape: (333_055, 7)</small><table border=\"1\" class=\"dataframe\"><thead><tr><th>CustomerID</th><th>InvoiceDate</th><th>Quantity</th><th>UnitPrice</th><th>Country</th><th>InvoiceNo</th><th>TotalPrice</th></tr><tr><td>i64</td><td>date</td><td>i64</td><td>f64</td><td>str</td><td>str</td><td>f64</td></tr></thead><tbody><tr><td>14796</td><td>2011-07-11</td><td>18</td><td>0.39</td><td>&quot;United Kingdom&quot;</td><td>&quot;559672&quot;</td><td>7.02</td></tr><tr><td>13186</td><td>2011-08-03</td><td>4</td><td>4.95</td><td>&quot;United Kingdom&quot;</td><td>&quot;562129&quot;</td><td>19.8</td></tr><tr><td>14546</td><td>2011-09-23</td><td>12</td><td>0.85</td><td>&quot;United Kingdom&quot;</td><td>&quot;568060&quot;</td><td>10.2</td></tr><tr><td>12748</td><td>2011-11-11</td><td>18</td><td>1.25</td><td>&quot;United Kingdom&quot;</td><td>&quot;575837&quot;</td><td>22.5</td></tr><tr><td>16984</td><td>2011-09-12</td><td>5</td><td>1.65</td><td>&quot;United Kingdom&quot;</td><td>&quot;566408&quot;</td><td>8.25</td></tr><tr><td>&hellip;</td><td>&hellip;</td><td>&hellip;</td><td>&hellip;</td><td>&hellip;</td><td>&hellip;</td><td>&hellip;</td></tr><tr><td>16755</td><td>2011-08-17</td><td>1</td><td>4.25</td><td>&quot;United Kingdom&quot;</td><td>&quot;563555&quot;</td><td>4.25</td></tr><tr><td>12530</td><td>2011-10-11</td><td>10</td><td>2.08</td><td>&quot;Germany&quot;</td><td>&quot;570637&quot;</td><td>20.8</td></tr><tr><td>17531</td><td>2011-06-02</td><td>12</td><td>1.45</td><td>&quot;United Kingdom&quot;</td><td>&quot;555405&quot;</td><td>17.4</td></tr><tr><td>16101</td><td>2011-09-30</td><td>6</td><td>2.95</td><td>&quot;United Kingdom&quot;</td><td>&quot;569026&quot;</td><td>17.7</td></tr><tr><td>16511</td><td>2011-11-18</td><td>2</td><td>4.15</td><td>&quot;United Kingdom&quot;</td><td>&quot;577167&quot;</td><td>8.3</td></tr></tbody></table></div>"
            ],
            "text/plain": [
              "shape: (333_055, 7)\n",
              "┌────────────┬─────────────┬──────────┬───────────┬────────────────┬───────────┬────────────┐\n",
              "│ CustomerID ┆ InvoiceDate ┆ Quantity ┆ UnitPrice ┆ Country        ┆ InvoiceNo ┆ TotalPrice │\n",
              "│ ---        ┆ ---         ┆ ---      ┆ ---       ┆ ---            ┆ ---       ┆ ---        │\n",
              "│ i64        ┆ date        ┆ i64      ┆ f64       ┆ str            ┆ str       ┆ f64        │\n",
              "╞════════════╪═════════════╪══════════╪═══════════╪════════════════╪═══════════╪════════════╡\n",
              "│ 14796      ┆ 2011-07-11  ┆ 18       ┆ 0.39      ┆ United Kingdom ┆ 559672    ┆ 7.02       │\n",
              "│ 13186      ┆ 2011-08-03  ┆ 4        ┆ 4.95      ┆ United Kingdom ┆ 562129    ┆ 19.8       │\n",
              "│ 14546      ┆ 2011-09-23  ┆ 12       ┆ 0.85      ┆ United Kingdom ┆ 568060    ┆ 10.2       │\n",
              "│ 12748      ┆ 2011-11-11  ┆ 18       ┆ 1.25      ┆ United Kingdom ┆ 575837    ┆ 22.5       │\n",
              "│ 16984      ┆ 2011-09-12  ┆ 5        ┆ 1.65      ┆ United Kingdom ┆ 566408    ┆ 8.25       │\n",
              "│ …          ┆ …           ┆ …        ┆ …         ┆ …              ┆ …         ┆ …          │\n",
              "│ 16755      ┆ 2011-08-17  ┆ 1        ┆ 4.25      ┆ United Kingdom ┆ 563555    ┆ 4.25       │\n",
              "│ 12530      ┆ 2011-10-11  ┆ 10       ┆ 2.08      ┆ Germany        ┆ 570637    ┆ 20.8       │\n",
              "│ 17531      ┆ 2011-06-02  ┆ 12       ┆ 1.45      ┆ United Kingdom ┆ 555405    ┆ 17.4       │\n",
              "│ 16101      ┆ 2011-09-30  ┆ 6        ┆ 2.95      ┆ United Kingdom ┆ 569026    ┆ 17.7       │\n",
              "│ 16511      ┆ 2011-11-18  ┆ 2        ┆ 4.15      ┆ United Kingdom ┆ 577167    ┆ 8.3        │\n",
              "└────────────┴─────────────┴──────────┴───────────┴────────────────┴───────────┴────────────┘"
            ]
          },
          "execution_count": 155,
          "metadata": {},
          "output_type": "execute_result"
        }
      ],
      "source": [
        "df = df.with_columns(\n",
        "    (pl.col(\"Quantity\") * pl.col(\"UnitPrice\")).alias(\"TotalPrice\")\n",
        ")\n",
        "df"
      ]
    },
    {
      "cell_type": "markdown",
      "metadata": {
        "id": "TZASaloBB6Wr"
      },
      "source": [
        "ahora Last_buy, frequency y monetary"
      ]
    },
    {
      "cell_type": "markdown",
      "metadata": {
        "id": "6VUtGrUsiEgk"
      },
      "source": [
        "Ahora agruparemos por dias para ver la suma de todas las ventas totales. De esta forma tendremos una mejor visualizacion de todas las ventas totales en cada dia que se han realizado.\n"
      ]
    },
    {
      "cell_type": "code",
      "execution_count": null,
      "metadata": {
        "id": "ULyE1DTQiEgk",
        "outputId": "a4472f6c-2942-4f46-c58a-4394a490da2e"
      },
      "outputs": [
        {
          "data": {
            "text/html": [
              "<div><style>\n",
              ".dataframe > thead > tr,\n",
              ".dataframe > tbody > tr {\n",
              "  text-align: right;\n",
              "  white-space: pre-wrap;\n",
              "}\n",
              "</style>\n",
              "<small>shape: (4_188, 4)</small><table border=\"1\" class=\"dataframe\"><thead><tr><th>CustomerID</th><th>Last_buy</th><th>Frequency</th><th>Monetary</th></tr><tr><td>i64</td><td>f64</td><td>u32</td><td>f64</td></tr></thead><tbody><tr><td>14687</td><td>106.0</td><td>1</td><td>217.02</td></tr><tr><td>12594</td><td>46.0</td><td>8</td><td>2743.43</td></tr><tr><td>15214</td><td>1.0</td><td>8</td><td>1497.14</td></tr><tr><td>16387</td><td>322.0</td><td>1</td><td>94.36</td></tr><tr><td>17962</td><td>142.0</td><td>1</td><td>82.02</td></tr><tr><td>&hellip;</td><td>&hellip;</td><td>&hellip;</td><td>&hellip;</td></tr><tr><td>16637</td><td>32.0</td><td>4</td><td>921.76</td></tr><tr><td>13496</td><td>10.0</td><td>2</td><td>563.63</td></tr><tr><td>15205</td><td>85.0</td><td>2</td><td>425.25</td></tr><tr><td>13356</td><td>80.0</td><td>1</td><td>548.59</td></tr><tr><td>16250</td><td>261.0</td><td>2</td><td>373.54</td></tr></tbody></table></div>"
            ],
            "text/plain": [
              "shape: (4_188, 4)\n",
              "┌────────────┬──────────┬───────────┬──────────┐\n",
              "│ CustomerID ┆ Last_buy ┆ Frequency ┆ Monetary │\n",
              "│ ---        ┆ ---      ┆ ---       ┆ ---      │\n",
              "│ i64        ┆ f64      ┆ u32       ┆ f64      │\n",
              "╞════════════╪══════════╪═══════════╪══════════╡\n",
              "│ 14687      ┆ 106.0    ┆ 1         ┆ 217.02   │\n",
              "│ 12594      ┆ 46.0     ┆ 8         ┆ 2743.43  │\n",
              "│ 15214      ┆ 1.0      ┆ 8         ┆ 1497.14  │\n",
              "│ 16387      ┆ 322.0    ┆ 1         ┆ 94.36    │\n",
              "│ 17962      ┆ 142.0    ┆ 1         ┆ 82.02    │\n",
              "│ …          ┆ …        ┆ …         ┆ …        │\n",
              "│ 16637      ┆ 32.0     ┆ 4         ┆ 921.76   │\n",
              "│ 13496      ┆ 10.0     ┆ 2         ┆ 563.63   │\n",
              "│ 15205      ┆ 85.0     ┆ 2         ┆ 425.25   │\n",
              "│ 13356      ┆ 80.0     ┆ 1         ┆ 548.59   │\n",
              "│ 16250      ┆ 261.0    ┆ 2         ┆ 373.54   │\n",
              "└────────────┴──────────┴───────────┴──────────┘"
            ]
          },
          "execution_count": 156,
          "metadata": {},
          "output_type": "execute_result"
        }
      ],
      "source": [
        "max_date = df.select(pl.col(\"InvoiceDate\").max()).to_series()[0]\n",
        "\n",
        "df = df.group_by(\"CustomerID\").agg([\n",
        "\n",
        "    ((pl.lit(max_date) - pl.col(\"InvoiceDate\").max()) / pl.duration(days=1)).alias(\"Last_buy\"),\n",
        "\n",
        "\n",
        "    pl.col(\"InvoiceNo\").n_unique().alias(\"Frequency\"),\n",
        "\n",
        "\n",
        "    pl.col(\"TotalPrice\").sum().alias(\"Monetary\")\n",
        "])\n",
        "df\n"
      ]
    },
    {
      "cell_type": "markdown",
      "metadata": {
        "id": "WAEaUA3QB6Ws"
      },
      "source": [
        "Ahora es el turno de otro describe con las nuevas variables"
      ]
    },
    {
      "cell_type": "code",
      "execution_count": null,
      "metadata": {
        "id": "sV5T3KdXB6Ws",
        "outputId": "37042b5f-823b-4096-c1b5-4abdbbbb06cb"
      },
      "outputs": [
        {
          "data": {
            "text/html": [
              "<div><style>\n",
              ".dataframe > thead > tr,\n",
              ".dataframe > tbody > tr {\n",
              "  text-align: right;\n",
              "  white-space: pre-wrap;\n",
              "}\n",
              "</style>\n",
              "<small>shape: (9, 5)</small><table border=\"1\" class=\"dataframe\"><thead><tr><th>statistic</th><th>CustomerID</th><th>Last_buy</th><th>Frequency</th><th>Monetary</th></tr><tr><td>str</td><td>f64</td><td>f64</td><td>f64</td><td>f64</td></tr></thead><tbody><tr><td>&quot;count&quot;</td><td>4188.0</td><td>4188.0</td><td>4188.0</td><td>4188.0</td></tr><tr><td>&quot;null_count&quot;</td><td>0.0</td><td>0.0</td><td>0.0</td><td>0.0</td></tr><tr><td>&quot;mean&quot;</td><td>15291.565186</td><td>91.940306</td><td>4.017908</td><td>1026.10236</td></tr><tr><td>&quot;std&quot;</td><td>1718.981692</td><td>99.933739</td><td>7.025996</td><td>2200.968737</td></tr><tr><td>&quot;min&quot;</td><td>12347.0</td><td>0.0</td><td>1.0</td><td>0.0</td></tr><tr><td>&quot;25%&quot;</td><td>13810.0</td><td>17.0</td><td>1.0</td><td>206.09</td></tr><tr><td>&quot;50%&quot;</td><td>15286.0</td><td>50.0</td><td>2.0</td><td>465.97</td></tr><tr><td>&quot;75%&quot;</td><td>16771.0</td><td>143.0</td><td>4.0</td><td>1128.05</td></tr><tr><td>&quot;max&quot;</td><td>18287.0</td><td>373.0</td><td>197.0</td><td>84980.89</td></tr></tbody></table></div>"
            ],
            "text/plain": [
              "shape: (9, 5)\n",
              "┌────────────┬──────────────┬───────────┬───────────┬─────────────┐\n",
              "│ statistic  ┆ CustomerID   ┆ Last_buy  ┆ Frequency ┆ Monetary    │\n",
              "│ ---        ┆ ---          ┆ ---       ┆ ---       ┆ ---         │\n",
              "│ str        ┆ f64          ┆ f64       ┆ f64       ┆ f64         │\n",
              "╞════════════╪══════════════╪═══════════╪═══════════╪═════════════╡\n",
              "│ count      ┆ 4188.0       ┆ 4188.0    ┆ 4188.0    ┆ 4188.0      │\n",
              "│ null_count ┆ 0.0          ┆ 0.0       ┆ 0.0       ┆ 0.0         │\n",
              "│ mean       ┆ 15291.565186 ┆ 91.940306 ┆ 4.017908  ┆ 1026.10236  │\n",
              "│ std        ┆ 1718.981692  ┆ 99.933739 ┆ 7.025996  ┆ 2200.968737 │\n",
              "│ min        ┆ 12347.0      ┆ 0.0       ┆ 1.0       ┆ 0.0         │\n",
              "│ 25%        ┆ 13810.0      ┆ 17.0      ┆ 1.0       ┆ 206.09      │\n",
              "│ 50%        ┆ 15286.0      ┆ 50.0      ┆ 2.0       ┆ 465.97      │\n",
              "│ 75%        ┆ 16771.0      ┆ 143.0     ┆ 4.0       ┆ 1128.05     │\n",
              "│ max        ┆ 18287.0      ┆ 373.0     ┆ 197.0     ┆ 84980.89    │\n",
              "└────────────┴──────────────┴───────────┴───────────┴─────────────┘"
            ]
          },
          "execution_count": 157,
          "metadata": {},
          "output_type": "execute_result"
        }
      ],
      "source": [
        "df.describe()"
      ]
    },
    {
      "cell_type": "markdown",
      "metadata": {
        "id": "ZIHI9VdjB6Ws"
      },
      "source": [
        "como vemos en monatery y en frequency tenemos claramente outliers, aplicaremos el logaritmo para no perder informacion y reducir la gran diferencia que hay, eso si tenemos que tener cuidado con los ceros\n",
        "\n",
        "no lo aplicaremos sobre last_buy porque no tiene una destribucion tan extrema como monetary o frequency y los dias son mas uniformes lo que puede probocar que el logaritmo distorsione la interpretacion."
      ]
    },
    {
      "cell_type": "code",
      "execution_count": null,
      "metadata": {
        "id": "FmrVtbmrB6Ws",
        "outputId": "9f24a302-6dbd-4a4f-e7cd-76ea52860d89"
      },
      "outputs": [
        {
          "data": {
            "text/html": [
              "<div><style>\n",
              ".dataframe > thead > tr,\n",
              ".dataframe > tbody > tr {\n",
              "  text-align: right;\n",
              "  white-space: pre-wrap;\n",
              "}\n",
              "</style>\n",
              "<small>shape: (4_187, 6)</small><table border=\"1\" class=\"dataframe\"><thead><tr><th>CustomerID</th><th>Last_buy</th><th>Frequency</th><th>Monetary</th><th>Monetary_log</th><th>Frequency_log</th></tr><tr><td>i64</td><td>f64</td><td>u32</td><td>f64</td><td>f64</td><td>f64</td></tr></thead><tbody><tr><td>14687</td><td>106.0</td><td>1</td><td>217.02</td><td>5.384587</td><td>0.693147</td></tr><tr><td>12594</td><td>46.0</td><td>8</td><td>2743.43</td><td>7.917329</td><td>2.197225</td></tr><tr><td>15214</td><td>1.0</td><td>8</td><td>1497.14</td><td>7.31198</td><td>2.197225</td></tr><tr><td>16387</td><td>322.0</td><td>1</td><td>94.36</td><td>4.557659</td><td>0.693147</td></tr><tr><td>17962</td><td>142.0</td><td>1</td><td>82.02</td><td>4.419082</td><td>0.693147</td></tr><tr><td>&hellip;</td><td>&hellip;</td><td>&hellip;</td><td>&hellip;</td><td>&hellip;</td><td>&hellip;</td></tr><tr><td>16637</td><td>32.0</td><td>4</td><td>921.76</td><td>6.827369</td><td>1.609438</td></tr><tr><td>13496</td><td>10.0</td><td>2</td><td>563.63</td><td>6.336171</td><td>1.098612</td></tr><tr><td>15205</td><td>85.0</td><td>2</td><td>425.25</td><td>6.055026</td><td>1.098612</td></tr><tr><td>13356</td><td>80.0</td><td>1</td><td>548.59</td><td>6.309173</td><td>0.693147</td></tr><tr><td>16250</td><td>261.0</td><td>2</td><td>373.54</td><td>5.925699</td><td>1.098612</td></tr></tbody></table></div>"
            ],
            "text/plain": [
              "shape: (4_187, 6)\n",
              "┌────────────┬──────────┬───────────┬──────────┬──────────────┬───────────────┐\n",
              "│ CustomerID ┆ Last_buy ┆ Frequency ┆ Monetary ┆ Monetary_log ┆ Frequency_log │\n",
              "│ ---        ┆ ---      ┆ ---       ┆ ---      ┆ ---          ┆ ---           │\n",
              "│ i64        ┆ f64      ┆ u32       ┆ f64      ┆ f64          ┆ f64           │\n",
              "╞════════════╪══════════╪═══════════╪══════════╪══════════════╪═══════════════╡\n",
              "│ 14687      ┆ 106.0    ┆ 1         ┆ 217.02   ┆ 5.384587     ┆ 0.693147      │\n",
              "│ 12594      ┆ 46.0     ┆ 8         ┆ 2743.43  ┆ 7.917329     ┆ 2.197225      │\n",
              "│ 15214      ┆ 1.0      ┆ 8         ┆ 1497.14  ┆ 7.31198      ┆ 2.197225      │\n",
              "│ 16387      ┆ 322.0    ┆ 1         ┆ 94.36    ┆ 4.557659     ┆ 0.693147      │\n",
              "│ 17962      ┆ 142.0    ┆ 1         ┆ 82.02    ┆ 4.419082     ┆ 0.693147      │\n",
              "│ …          ┆ …        ┆ …         ┆ …        ┆ …            ┆ …             │\n",
              "│ 16637      ┆ 32.0     ┆ 4         ┆ 921.76   ┆ 6.827369     ┆ 1.609438      │\n",
              "│ 13496      ┆ 10.0     ┆ 2         ┆ 563.63   ┆ 6.336171     ┆ 1.098612      │\n",
              "│ 15205      ┆ 85.0     ┆ 2         ┆ 425.25   ┆ 6.055026     ┆ 1.098612      │\n",
              "│ 13356      ┆ 80.0     ┆ 1         ┆ 548.59   ┆ 6.309173     ┆ 0.693147      │\n",
              "│ 16250      ┆ 261.0    ┆ 2         ┆ 373.54   ┆ 5.925699     ┆ 1.098612      │\n",
              "└────────────┴──────────┴───────────┴──────────┴──────────────┴───────────────┘"
            ]
          },
          "execution_count": 158,
          "metadata": {},
          "output_type": "execute_result"
        }
      ],
      "source": [
        "df = df.filter(df[\"Monetary\"]>0)\n",
        "df = df.with_columns(\n",
        "    (pl.col(\"Monetary\") + 1).log().alias(\"Monetary_log\"),\n",
        "    (pl.col(\"Frequency\") + 1).log().alias(\"Frequency_log\")\n",
        ")\n",
        "df"
      ]
    },
    {
      "cell_type": "markdown",
      "metadata": {
        "id": "zZhSKmmFB6Ws"
      },
      "source": [
        "Con esto tendriamos casi listo el proceso de ETL\n",
        "\n",
        "Faltaria hacer algunos pasos que son recomendados como el escalado dde variables ya que las metricas estan en escalas muy diferentes.\n",
        "\n",
        "y una gran diferencia en a escala afecta al clustering\n",
        "usaremos un standarscaler, tambien prodiamos usar el minmaxscaler o el Z"
      ]
    },
    {
      "cell_type": "code",
      "execution_count": null,
      "metadata": {
        "id": "HoawcybCiEgk"
      },
      "outputs": [],
      "source": [
        "from sklearn.preprocessing import StandardScaler\n",
        "\n",
        "X = df.select([\"Last_buy\", \"Frequency_log\", \"Monetary_log\"]).to_numpy()\n",
        "\n",
        "\n",
        "scaler = StandardScaler()\n",
        "X_scaled = scaler.fit_transform(X)"
      ]
    },
    {
      "cell_type": "code",
      "execution_count": null,
      "metadata": {
        "id": "C05GNYlOB6Ws",
        "outputId": "6dbd00db-f0d6-44f7-a3cf-92c2001b3ce4"
      },
      "outputs": [
        {
          "data": {
            "text/html": [
              "<div><style>\n",
              ".dataframe > thead > tr,\n",
              ".dataframe > tbody > tr {\n",
              "  text-align: right;\n",
              "  white-space: pre-wrap;\n",
              "}\n",
              "</style>\n",
              "<small>shape: (4_187, 9)</small><table border=\"1\" class=\"dataframe\"><thead><tr><th>CustomerID</th><th>Last_buy</th><th>Frequency</th><th>Monetary</th><th>Monetary_log</th><th>Frequency_log</th><th>Last_buy_scaled</th><th>Frequency_scaled</th><th>Monetary_scaled</th></tr><tr><td>i64</td><td>f64</td><td>u32</td><td>f64</td><td>f64</td><td>f64</td><td>f64</td><td>f64</td><td>f64</td></tr></thead><tbody><tr><td>14687</td><td>106.0</td><td>1</td><td>217.02</td><td>5.384587</td><td>0.693147</td><td>0.140529</td><td>-0.948408</td><td>-0.627818</td></tr><tr><td>12594</td><td>46.0</td><td>8</td><td>2743.43</td><td>7.917329</td><td>2.197225</td><td>-0.459905</td><td>1.325446</td><td>1.402687</td></tr><tr><td>15214</td><td>1.0</td><td>8</td><td>1497.14</td><td>7.31198</td><td>2.197225</td><td>-0.91023</td><td>1.325446</td><td>0.917377</td></tr><tr><td>16387</td><td>322.0</td><td>1</td><td>94.36</td><td>4.557659</td><td>0.693147</td><td>2.302091</td><td>-0.948408</td><td>-1.290768</td></tr><tr><td>17962</td><td>142.0</td><td>1</td><td>82.02</td><td>4.419082</td><td>0.693147</td><td>0.500789</td><td>-0.948408</td><td>-1.401866</td></tr><tr><td>&hellip;</td><td>&hellip;</td><td>&hellip;</td><td>&hellip;</td><td>&hellip;</td><td>&hellip;</td><td>&hellip;</td><td>&hellip;</td><td>&hellip;</td></tr><tr><td>16637</td><td>32.0</td><td>4</td><td>921.76</td><td>6.827369</td><td>1.609438</td><td>-0.600006</td><td>0.436834</td><td>0.528863</td></tr><tr><td>13496</td><td>10.0</td><td>2</td><td>563.63</td><td>6.336171</td><td>1.098612</td><td>-0.820165</td><td>-0.335428</td><td>0.135069</td></tr><tr><td>15205</td><td>85.0</td><td>2</td><td>425.25</td><td>6.055026</td><td>1.098612</td><td>-0.069623</td><td>-0.335428</td><td>-0.090326</td></tr><tr><td>13356</td><td>80.0</td><td>1</td><td>548.59</td><td>6.309173</td><td>0.693147</td><td>-0.119659</td><td>-0.948408</td><td>0.113424</td></tr><tr><td>16250</td><td>261.0</td><td>2</td><td>373.54</td><td>5.925699</td><td>1.098612</td><td>1.69165</td><td>-0.335428</td><td>-0.194008</td></tr></tbody></table></div>"
            ],
            "text/plain": [
              "shape: (4_187, 9)\n",
              "┌────────────┬──────────┬───────────┬──────────┬───┬───────────┬───────────┬───────────┬───────────┐\n",
              "│ CustomerID ┆ Last_buy ┆ Frequency ┆ Monetary ┆ … ┆ Frequency ┆ Last_buy_ ┆ Frequency ┆ Monetary_ │\n",
              "│ ---        ┆ ---      ┆ ---       ┆ ---      ┆   ┆ _log      ┆ scaled    ┆ _scaled   ┆ scaled    │\n",
              "│ i64        ┆ f64      ┆ u32       ┆ f64      ┆   ┆ ---       ┆ ---       ┆ ---       ┆ ---       │\n",
              "│            ┆          ┆           ┆          ┆   ┆ f64       ┆ f64       ┆ f64       ┆ f64       │\n",
              "╞════════════╪══════════╪═══════════╪══════════╪═══╪═══════════╪═══════════╪═══════════╪═══════════╡\n",
              "│ 14687      ┆ 106.0    ┆ 1         ┆ 217.02   ┆ … ┆ 0.693147  ┆ 0.140529  ┆ -0.948408 ┆ -0.627818 │\n",
              "│ 12594      ┆ 46.0     ┆ 8         ┆ 2743.43  ┆ … ┆ 2.197225  ┆ -0.459905 ┆ 1.325446  ┆ 1.402687  │\n",
              "│ 15214      ┆ 1.0      ┆ 8         ┆ 1497.14  ┆ … ┆ 2.197225  ┆ -0.91023  ┆ 1.325446  ┆ 0.917377  │\n",
              "│ 16387      ┆ 322.0    ┆ 1         ┆ 94.36    ┆ … ┆ 0.693147  ┆ 2.302091  ┆ -0.948408 ┆ -1.290768 │\n",
              "│ 17962      ┆ 142.0    ┆ 1         ┆ 82.02    ┆ … ┆ 0.693147  ┆ 0.500789  ┆ -0.948408 ┆ -1.401866 │\n",
              "│ …          ┆ …        ┆ …         ┆ …        ┆ … ┆ …         ┆ …         ┆ …         ┆ …         │\n",
              "│ 16637      ┆ 32.0     ┆ 4         ┆ 921.76   ┆ … ┆ 1.609438  ┆ -0.600006 ┆ 0.436834  ┆ 0.528863  │\n",
              "│ 13496      ┆ 10.0     ┆ 2         ┆ 563.63   ┆ … ┆ 1.098612  ┆ -0.820165 ┆ -0.335428 ┆ 0.135069  │\n",
              "│ 15205      ┆ 85.0     ┆ 2         ┆ 425.25   ┆ … ┆ 1.098612  ┆ -0.069623 ┆ -0.335428 ┆ -0.090326 │\n",
              "│ 13356      ┆ 80.0     ┆ 1         ┆ 548.59   ┆ … ┆ 0.693147  ┆ -0.119659 ┆ -0.948408 ┆ 0.113424  │\n",
              "│ 16250      ┆ 261.0    ┆ 2         ┆ 373.54   ┆ … ┆ 1.098612  ┆ 1.69165   ┆ -0.335428 ┆ -0.194008 │\n",
              "└────────────┴──────────┴───────────┴──────────┴───┴───────────┴───────────┴───────────┴───────────┘"
            ]
          },
          "execution_count": 160,
          "metadata": {},
          "output_type": "execute_result"
        }
      ],
      "source": [
        "df = df.with_columns([\n",
        "    pl.Series(\"Last_buy_scaled\", X_scaled[:, 0]),\n",
        "    pl.Series(\"Frequency_scaled\", X_scaled[:, 1]),\n",
        "    pl.Series(\"Monetary_scaled\", X_scaled[:, 2])\n",
        "])\n",
        "df"
      ]
    },
    {
      "cell_type": "markdown",
      "metadata": {
        "id": "JigTHR4miEgm"
      },
      "source": [
        "Aqui hacemos un ultimo describe para ver como ha quedado el dataset, con todos los cambios"
      ]
    },
    {
      "cell_type": "code",
      "execution_count": null,
      "metadata": {
        "id": "-Pqz2DzoiEgm",
        "outputId": "5a1f726c-5c81-4395-d160-3cb5c8c3cc53"
      },
      "outputs": [
        {
          "data": {
            "text/html": [
              "<div><style>\n",
              ".dataframe > thead > tr,\n",
              ".dataframe > tbody > tr {\n",
              "  text-align: right;\n",
              "  white-space: pre-wrap;\n",
              "}\n",
              "</style>\n",
              "<small>shape: (9, 10)</small><table border=\"1\" class=\"dataframe\"><thead><tr><th>statistic</th><th>CustomerID</th><th>Last_buy</th><th>Frequency</th><th>Monetary</th><th>Monetary_log</th><th>Frequency_log</th><th>Last_buy_scaled</th><th>Frequency_scaled</th><th>Monetary_scaled</th></tr><tr><td>str</td><td>f64</td><td>f64</td><td>f64</td><td>f64</td><td>f64</td><td>f64</td><td>f64</td><td>f64</td><td>f64</td></tr></thead><tbody><tr><td>&quot;count&quot;</td><td>4187.0</td><td>4187.0</td><td>4187.0</td><td>4187.0</td><td>4187.0</td><td>4187.0</td><td>4187.0</td><td>4187.0</td><td>4187.0</td></tr><tr><td>&quot;null_count&quot;</td><td>0.0</td><td>0.0</td><td>0.0</td><td>0.0</td><td>0.0</td><td>0.0</td><td>0.0</td><td>0.0</td><td>0.0</td></tr><tr><td>&quot;mean&quot;</td><td>15292.207308</td><td>91.957249</td><td>4.018629</td><td>1026.347429</td><td>6.167694</td><td>1.320487</td><td>-6.1093e-17</td><td>3.3940e-18</td><td>-1.1540e-16</td></tr><tr><td>&quot;std&quot;</td><td>1718.684598</td><td>99.939659</td><td>7.02668</td><td>2201.17447</td><td>1.247495</td><td>0.661545</td><td>1.000119</td><td>1.000119</td><td>1.000119</td></tr><tr><td>&quot;min&quot;</td><td>12347.0</td><td>0.0</td><td>1.0</td><td>1.9</td><td>1.064711</td><td>0.693147</td><td>-0.920238</td><td>-0.948408</td><td>-4.091073</td></tr><tr><td>&quot;25%&quot;</td><td>13812.0</td><td>17.0</td><td>1.0</td><td>206.13</td><td>5.333347</td><td>0.693147</td><td>-0.750115</td><td>-0.948408</td><td>-0.668898</td></tr><tr><td>&quot;50%&quot;</td><td>15286.0</td><td>50.0</td><td>2.0</td><td>465.97</td><td>6.146265</td><td>1.098612</td><td>-0.419876</td><td>-0.335428</td><td>-0.017179</td></tr><tr><td>&quot;75%&quot;</td><td>16773.0</td><td>143.0</td><td>4.0</td><td>1130.31</td><td>7.031132</td><td>1.609438</td><td>0.510797</td><td>0.436834</td><td>0.69222</td></tr><tr><td>&quot;max&quot;</td><td>18287.0</td><td>373.0</td><td>197.0</td><td>84980.89</td><td>11.350193</td><td>5.288267</td><td>2.81246</td><td>5.998462</td><td>4.154822</td></tr></tbody></table></div>"
            ],
            "text/plain": [
              "shape: (9, 10)\n",
              "┌───────────┬───────────┬───────────┬───────────┬───┬───────────┬───────────┬───────────┬──────────┐\n",
              "│ statistic ┆ CustomerI ┆ Last_buy  ┆ Frequency ┆ … ┆ Frequency ┆ Last_buy_ ┆ Frequency ┆ Monetary │\n",
              "│ ---       ┆ D         ┆ ---       ┆ ---       ┆   ┆ _log      ┆ scaled    ┆ _scaled   ┆ _scaled  │\n",
              "│ str       ┆ ---       ┆ f64       ┆ f64       ┆   ┆ ---       ┆ ---       ┆ ---       ┆ ---      │\n",
              "│           ┆ f64       ┆           ┆           ┆   ┆ f64       ┆ f64       ┆ f64       ┆ f64      │\n",
              "╞═══════════╪═══════════╪═══════════╪═══════════╪═══╪═══════════╪═══════════╪═══════════╪══════════╡\n",
              "│ count     ┆ 4187.0    ┆ 4187.0    ┆ 4187.0    ┆ … ┆ 4187.0    ┆ 4187.0    ┆ 4187.0    ┆ 4187.0   │\n",
              "│ null_coun ┆ 0.0       ┆ 0.0       ┆ 0.0       ┆ … ┆ 0.0       ┆ 0.0       ┆ 0.0       ┆ 0.0      │\n",
              "│ t         ┆           ┆           ┆           ┆   ┆           ┆           ┆           ┆          │\n",
              "│ mean      ┆ 15292.207 ┆ 91.957249 ┆ 4.018629  ┆ … ┆ 1.320487  ┆ -6.1093e- ┆ 3.3940e-1 ┆ -1.1540e │\n",
              "│           ┆ 308       ┆           ┆           ┆   ┆           ┆ 17        ┆ 8         ┆ -16      │\n",
              "│ std       ┆ 1718.6845 ┆ 99.939659 ┆ 7.02668   ┆ … ┆ 0.661545  ┆ 1.000119  ┆ 1.000119  ┆ 1.000119 │\n",
              "│           ┆ 98        ┆           ┆           ┆   ┆           ┆           ┆           ┆          │\n",
              "│ min       ┆ 12347.0   ┆ 0.0       ┆ 1.0       ┆ … ┆ 0.693147  ┆ -0.920238 ┆ -0.948408 ┆ -4.09107 │\n",
              "│           ┆           ┆           ┆           ┆   ┆           ┆           ┆           ┆ 3        │\n",
              "│ 25%       ┆ 13812.0   ┆ 17.0      ┆ 1.0       ┆ … ┆ 0.693147  ┆ -0.750115 ┆ -0.948408 ┆ -0.66889 │\n",
              "│           ┆           ┆           ┆           ┆   ┆           ┆           ┆           ┆ 8        │\n",
              "│ 50%       ┆ 15286.0   ┆ 50.0      ┆ 2.0       ┆ … ┆ 1.098612  ┆ -0.419876 ┆ -0.335428 ┆ -0.01717 │\n",
              "│           ┆           ┆           ┆           ┆   ┆           ┆           ┆           ┆ 9        │\n",
              "│ 75%       ┆ 16773.0   ┆ 143.0     ┆ 4.0       ┆ … ┆ 1.609438  ┆ 0.510797  ┆ 0.436834  ┆ 0.69222  │\n",
              "│ max       ┆ 18287.0   ┆ 373.0     ┆ 197.0     ┆ … ┆ 5.288267  ┆ 2.81246   ┆ 5.998462  ┆ 4.154822 │\n",
              "└───────────┴───────────┴───────────┴───────────┴───┴───────────┴───────────┴───────────┴──────────┘"
            ]
          },
          "execution_count": 161,
          "metadata": {},
          "output_type": "execute_result"
        }
      ],
      "source": [
        "df.describe()"
      ]
    },
    {
      "cell_type": "code",
      "execution_count": null,
      "metadata": {
        "id": "LWGRTYg2iEgq"
      },
      "outputs": [],
      "source": [
        "df.write_csv(\"data_cleaned(clustering).csv\")\n",
        "\n",
        "\n"
      ]
    },
    {
      "cell_type": "code",
      "execution_count": null,
      "metadata": {
        "id": "jXGlvy5QiEgq"
      },
      "outputs": [],
      "source": [
        "import pickle\n",
        "\n",
        "\n",
        "with open(\"datos_grouped(clustering).pkl\", \"wb\") as file:\n",
        "    pickle.dump(df, file)\n",
        "\n"
      ]
    },
    {
      "cell_type": "markdown",
      "source": [
        "Leemos el archivo CSV y seleccionamos las columnas que vamos a usar. En este caso, utilizaremos las columnas Frequency, Monetory y LastBuy, ya que están escaladas, por lo que no es necesario hacer un preprocesamiento adicional.\n",
        "\n",
        "Dado que en DBSCAN se requieren los valores de Epsilon y Min Samples, y el resultado depende de los valores que elijamos, creamos un conjunto de combinaciones de estos parámetros para probar y encontrar la mejor configuración.\n",
        "\n",
        "Para esta combinación, hemos establecido que los valores de Epsilon varíen desde 0.01 hasta 1, divididos en 25 intervalos con separación igual. Luego, para Min Samples, hemos configurado que los valores vayan desde 2 hasta 30, con saltos de 2."
      ],
      "metadata": {
        "id": "nwbfuJ-bCxWJ"
      }
    },
    {
      "cell_type": "code",
      "source": [
        "import numpy as np\n",
        "import pandas as pd\n",
        "from sklearn.cluster import DBSCAN\n",
        "from sklearn.metrics import silhouette_score as ss\n",
        "import plotly.express as px\n",
        "import itertools\n",
        "\n",
        "\n",
        "df = pd.read_csv(\"https://raw.githubusercontent.com/Thepelican18/Master_AI_group_activity_1/refs/heads/moise/data_cleaned(clustering).csv\")\n",
        "mon_freq_buy = df[[\"Frequency_scaled\", \"Monetary_scaled\", \"Last_buy_scaled\"]]\n",
        "x = mon_freq_buy.to_numpy()\n",
        "epsilons = np.linspace(0.01,1,num=25)\n",
        "min_samples = np.arange(2,30,step = 2)\n",
        "combinations = list(itertools.product(epsilons,min_samples))\n",
        "N = len(combinations)\n",
        "combinations"
      ],
      "metadata": {
        "collapsed": true,
        "id": "_rfhnLMbB9Q7",
        "outputId": "153c4025-b76c-46f4-a3b5-271fcee35f33",
        "colab": {
          "base_uri": "https://localhost:8080/"
        }
      },
      "execution_count": 26,
      "outputs": [
        {
          "output_type": "execute_result",
          "data": {
            "text/plain": [
              "[(0.01, 2),\n",
              " (0.01, 4),\n",
              " (0.01, 6),\n",
              " (0.01, 8),\n",
              " (0.01, 10),\n",
              " (0.01, 12),\n",
              " (0.01, 14),\n",
              " (0.01, 16),\n",
              " (0.01, 18),\n",
              " (0.01, 20),\n",
              " (0.01, 22),\n",
              " (0.01, 24),\n",
              " (0.01, 26),\n",
              " (0.01, 28),\n",
              " (0.051250000000000004, 2),\n",
              " (0.051250000000000004, 4),\n",
              " (0.051250000000000004, 6),\n",
              " (0.051250000000000004, 8),\n",
              " (0.051250000000000004, 10),\n",
              " (0.051250000000000004, 12),\n",
              " (0.051250000000000004, 14),\n",
              " (0.051250000000000004, 16),\n",
              " (0.051250000000000004, 18),\n",
              " (0.051250000000000004, 20),\n",
              " (0.051250000000000004, 22),\n",
              " (0.051250000000000004, 24),\n",
              " (0.051250000000000004, 26),\n",
              " (0.051250000000000004, 28),\n",
              " (0.0925, 2),\n",
              " (0.0925, 4),\n",
              " (0.0925, 6),\n",
              " (0.0925, 8),\n",
              " (0.0925, 10),\n",
              " (0.0925, 12),\n",
              " (0.0925, 14),\n",
              " (0.0925, 16),\n",
              " (0.0925, 18),\n",
              " (0.0925, 20),\n",
              " (0.0925, 22),\n",
              " (0.0925, 24),\n",
              " (0.0925, 26),\n",
              " (0.0925, 28),\n",
              " (0.13375, 2),\n",
              " (0.13375, 4),\n",
              " (0.13375, 6),\n",
              " (0.13375, 8),\n",
              " (0.13375, 10),\n",
              " (0.13375, 12),\n",
              " (0.13375, 14),\n",
              " (0.13375, 16),\n",
              " (0.13375, 18),\n",
              " (0.13375, 20),\n",
              " (0.13375, 22),\n",
              " (0.13375, 24),\n",
              " (0.13375, 26),\n",
              " (0.13375, 28),\n",
              " (0.17500000000000002, 2),\n",
              " (0.17500000000000002, 4),\n",
              " (0.17500000000000002, 6),\n",
              " (0.17500000000000002, 8),\n",
              " (0.17500000000000002, 10),\n",
              " (0.17500000000000002, 12),\n",
              " (0.17500000000000002, 14),\n",
              " (0.17500000000000002, 16),\n",
              " (0.17500000000000002, 18),\n",
              " (0.17500000000000002, 20),\n",
              " (0.17500000000000002, 22),\n",
              " (0.17500000000000002, 24),\n",
              " (0.17500000000000002, 26),\n",
              " (0.17500000000000002, 28),\n",
              " (0.21625000000000003, 2),\n",
              " (0.21625000000000003, 4),\n",
              " (0.21625000000000003, 6),\n",
              " (0.21625000000000003, 8),\n",
              " (0.21625000000000003, 10),\n",
              " (0.21625000000000003, 12),\n",
              " (0.21625000000000003, 14),\n",
              " (0.21625000000000003, 16),\n",
              " (0.21625000000000003, 18),\n",
              " (0.21625000000000003, 20),\n",
              " (0.21625000000000003, 22),\n",
              " (0.21625000000000003, 24),\n",
              " (0.21625000000000003, 26),\n",
              " (0.21625000000000003, 28),\n",
              " (0.2575, 2),\n",
              " (0.2575, 4),\n",
              " (0.2575, 6),\n",
              " (0.2575, 8),\n",
              " (0.2575, 10),\n",
              " (0.2575, 12),\n",
              " (0.2575, 14),\n",
              " (0.2575, 16),\n",
              " (0.2575, 18),\n",
              " (0.2575, 20),\n",
              " (0.2575, 22),\n",
              " (0.2575, 24),\n",
              " (0.2575, 26),\n",
              " (0.2575, 28),\n",
              " (0.29875, 2),\n",
              " (0.29875, 4),\n",
              " (0.29875, 6),\n",
              " (0.29875, 8),\n",
              " (0.29875, 10),\n",
              " (0.29875, 12),\n",
              " (0.29875, 14),\n",
              " (0.29875, 16),\n",
              " (0.29875, 18),\n",
              " (0.29875, 20),\n",
              " (0.29875, 22),\n",
              " (0.29875, 24),\n",
              " (0.29875, 26),\n",
              " (0.29875, 28),\n",
              " (0.34, 2),\n",
              " (0.34, 4),\n",
              " (0.34, 6),\n",
              " (0.34, 8),\n",
              " (0.34, 10),\n",
              " (0.34, 12),\n",
              " (0.34, 14),\n",
              " (0.34, 16),\n",
              " (0.34, 18),\n",
              " (0.34, 20),\n",
              " (0.34, 22),\n",
              " (0.34, 24),\n",
              " (0.34, 26),\n",
              " (0.34, 28),\n",
              " (0.38125000000000003, 2),\n",
              " (0.38125000000000003, 4),\n",
              " (0.38125000000000003, 6),\n",
              " (0.38125000000000003, 8),\n",
              " (0.38125000000000003, 10),\n",
              " (0.38125000000000003, 12),\n",
              " (0.38125000000000003, 14),\n",
              " (0.38125000000000003, 16),\n",
              " (0.38125000000000003, 18),\n",
              " (0.38125000000000003, 20),\n",
              " (0.38125000000000003, 22),\n",
              " (0.38125000000000003, 24),\n",
              " (0.38125000000000003, 26),\n",
              " (0.38125000000000003, 28),\n",
              " (0.42250000000000004, 2),\n",
              " (0.42250000000000004, 4),\n",
              " (0.42250000000000004, 6),\n",
              " (0.42250000000000004, 8),\n",
              " (0.42250000000000004, 10),\n",
              " (0.42250000000000004, 12),\n",
              " (0.42250000000000004, 14),\n",
              " (0.42250000000000004, 16),\n",
              " (0.42250000000000004, 18),\n",
              " (0.42250000000000004, 20),\n",
              " (0.42250000000000004, 22),\n",
              " (0.42250000000000004, 24),\n",
              " (0.42250000000000004, 26),\n",
              " (0.42250000000000004, 28),\n",
              " (0.46375000000000005, 2),\n",
              " (0.46375000000000005, 4),\n",
              " (0.46375000000000005, 6),\n",
              " (0.46375000000000005, 8),\n",
              " (0.46375000000000005, 10),\n",
              " (0.46375000000000005, 12),\n",
              " (0.46375000000000005, 14),\n",
              " (0.46375000000000005, 16),\n",
              " (0.46375000000000005, 18),\n",
              " (0.46375000000000005, 20),\n",
              " (0.46375000000000005, 22),\n",
              " (0.46375000000000005, 24),\n",
              " (0.46375000000000005, 26),\n",
              " (0.46375000000000005, 28),\n",
              " (0.505, 2),\n",
              " (0.505, 4),\n",
              " (0.505, 6),\n",
              " (0.505, 8),\n",
              " (0.505, 10),\n",
              " (0.505, 12),\n",
              " (0.505, 14),\n",
              " (0.505, 16),\n",
              " (0.505, 18),\n",
              " (0.505, 20),\n",
              " (0.505, 22),\n",
              " (0.505, 24),\n",
              " (0.505, 26),\n",
              " (0.505, 28),\n",
              " (0.54625, 2),\n",
              " (0.54625, 4),\n",
              " (0.54625, 6),\n",
              " (0.54625, 8),\n",
              " (0.54625, 10),\n",
              " (0.54625, 12),\n",
              " (0.54625, 14),\n",
              " (0.54625, 16),\n",
              " (0.54625, 18),\n",
              " (0.54625, 20),\n",
              " (0.54625, 22),\n",
              " (0.54625, 24),\n",
              " (0.54625, 26),\n",
              " (0.54625, 28),\n",
              " (0.5875, 2),\n",
              " (0.5875, 4),\n",
              " (0.5875, 6),\n",
              " (0.5875, 8),\n",
              " (0.5875, 10),\n",
              " (0.5875, 12),\n",
              " (0.5875, 14),\n",
              " (0.5875, 16),\n",
              " (0.5875, 18),\n",
              " (0.5875, 20),\n",
              " (0.5875, 22),\n",
              " (0.5875, 24),\n",
              " (0.5875, 26),\n",
              " (0.5875, 28),\n",
              " (0.62875, 2),\n",
              " (0.62875, 4),\n",
              " (0.62875, 6),\n",
              " (0.62875, 8),\n",
              " (0.62875, 10),\n",
              " (0.62875, 12),\n",
              " (0.62875, 14),\n",
              " (0.62875, 16),\n",
              " (0.62875, 18),\n",
              " (0.62875, 20),\n",
              " (0.62875, 22),\n",
              " (0.62875, 24),\n",
              " (0.62875, 26),\n",
              " (0.62875, 28),\n",
              " (0.67, 2),\n",
              " (0.67, 4),\n",
              " (0.67, 6),\n",
              " (0.67, 8),\n",
              " (0.67, 10),\n",
              " (0.67, 12),\n",
              " (0.67, 14),\n",
              " (0.67, 16),\n",
              " (0.67, 18),\n",
              " (0.67, 20),\n",
              " (0.67, 22),\n",
              " (0.67, 24),\n",
              " (0.67, 26),\n",
              " (0.67, 28),\n",
              " (0.71125, 2),\n",
              " (0.71125, 4),\n",
              " (0.71125, 6),\n",
              " (0.71125, 8),\n",
              " (0.71125, 10),\n",
              " (0.71125, 12),\n",
              " (0.71125, 14),\n",
              " (0.71125, 16),\n",
              " (0.71125, 18),\n",
              " (0.71125, 20),\n",
              " (0.71125, 22),\n",
              " (0.71125, 24),\n",
              " (0.71125, 26),\n",
              " (0.71125, 28),\n",
              " (0.7525000000000001, 2),\n",
              " (0.7525000000000001, 4),\n",
              " (0.7525000000000001, 6),\n",
              " (0.7525000000000001, 8),\n",
              " (0.7525000000000001, 10),\n",
              " (0.7525000000000001, 12),\n",
              " (0.7525000000000001, 14),\n",
              " (0.7525000000000001, 16),\n",
              " (0.7525000000000001, 18),\n",
              " (0.7525000000000001, 20),\n",
              " (0.7525000000000001, 22),\n",
              " (0.7525000000000001, 24),\n",
              " (0.7525000000000001, 26),\n",
              " (0.7525000000000001, 28),\n",
              " (0.7937500000000001, 2),\n",
              " (0.7937500000000001, 4),\n",
              " (0.7937500000000001, 6),\n",
              " (0.7937500000000001, 8),\n",
              " (0.7937500000000001, 10),\n",
              " (0.7937500000000001, 12),\n",
              " (0.7937500000000001, 14),\n",
              " (0.7937500000000001, 16),\n",
              " (0.7937500000000001, 18),\n",
              " (0.7937500000000001, 20),\n",
              " (0.7937500000000001, 22),\n",
              " (0.7937500000000001, 24),\n",
              " (0.7937500000000001, 26),\n",
              " (0.7937500000000001, 28),\n",
              " (0.8350000000000001, 2),\n",
              " (0.8350000000000001, 4),\n",
              " (0.8350000000000001, 6),\n",
              " (0.8350000000000001, 8),\n",
              " (0.8350000000000001, 10),\n",
              " (0.8350000000000001, 12),\n",
              " (0.8350000000000001, 14),\n",
              " (0.8350000000000001, 16),\n",
              " (0.8350000000000001, 18),\n",
              " (0.8350000000000001, 20),\n",
              " (0.8350000000000001, 22),\n",
              " (0.8350000000000001, 24),\n",
              " (0.8350000000000001, 26),\n",
              " (0.8350000000000001, 28),\n",
              " (0.8762500000000001, 2),\n",
              " (0.8762500000000001, 4),\n",
              " (0.8762500000000001, 6),\n",
              " (0.8762500000000001, 8),\n",
              " (0.8762500000000001, 10),\n",
              " (0.8762500000000001, 12),\n",
              " (0.8762500000000001, 14),\n",
              " (0.8762500000000001, 16),\n",
              " (0.8762500000000001, 18),\n",
              " (0.8762500000000001, 20),\n",
              " (0.8762500000000001, 22),\n",
              " (0.8762500000000001, 24),\n",
              " (0.8762500000000001, 26),\n",
              " (0.8762500000000001, 28),\n",
              " (0.9175000000000001, 2),\n",
              " (0.9175000000000001, 4),\n",
              " (0.9175000000000001, 6),\n",
              " (0.9175000000000001, 8),\n",
              " (0.9175000000000001, 10),\n",
              " (0.9175000000000001, 12),\n",
              " (0.9175000000000001, 14),\n",
              " (0.9175000000000001, 16),\n",
              " (0.9175000000000001, 18),\n",
              " (0.9175000000000001, 20),\n",
              " (0.9175000000000001, 22),\n",
              " (0.9175000000000001, 24),\n",
              " (0.9175000000000001, 26),\n",
              " (0.9175000000000001, 28),\n",
              " (0.9587500000000001, 2),\n",
              " (0.9587500000000001, 4),\n",
              " (0.9587500000000001, 6),\n",
              " (0.9587500000000001, 8),\n",
              " (0.9587500000000001, 10),\n",
              " (0.9587500000000001, 12),\n",
              " (0.9587500000000001, 14),\n",
              " (0.9587500000000001, 16),\n",
              " (0.9587500000000001, 18),\n",
              " (0.9587500000000001, 20),\n",
              " (0.9587500000000001, 22),\n",
              " (0.9587500000000001, 24),\n",
              " (0.9587500000000001, 26),\n",
              " (0.9587500000000001, 28),\n",
              " (1.0, 2),\n",
              " (1.0, 4),\n",
              " (1.0, 6),\n",
              " (1.0, 8),\n",
              " (1.0, 10),\n",
              " (1.0, 12),\n",
              " (1.0, 14),\n",
              " (1.0, 16),\n",
              " (1.0, 18),\n",
              " (1.0, 20),\n",
              " (1.0, 22),\n",
              " (1.0, 24),\n",
              " (1.0, 26),\n",
              " (1.0, 28)]"
            ]
          },
          "metadata": {},
          "execution_count": 26
        }
      ]
    },
    {
      "cell_type": "markdown",
      "source": [
        "Ahora creamos una función que itere entre estas combinaciones y busque la combinación que tenga el Silhouette Score más alto.\n",
        "\n",
        "Esta función, dentro de un bucle, toma cada combinación de parámetros y la aplica al modelo DBSCAN. Luego, filtra los resultados basándose en la cantidad de clusters, excluyendo el cluster de noise (-1). El filtro se aplica si el número de clusters es mayor que 2 o menor de 10. Finalmente, la función selecciona la combinación con el mejor resultado y la devuelve como un diccionario."
      ],
      "metadata": {
        "id": "yzx5yDQzDT70"
      }
    },
    {
      "cell_type": "code",
      "source": [
        "def get_score_and_labels(combinations,x):\n",
        "    scores = []\n",
        "    all_labels = []\n",
        "    for i,(eps,num_samples) in enumerate(combinations):\n",
        "        dbscan_cluster_model = DBSCAN(eps=eps,min_samples=num_samples).fit(x)\n",
        "        labels = dbscan_cluster_model.labels_\n",
        "        labels_set = set(labels)\n",
        "        num_clusteres = len(labels_set)\n",
        "        if -1 in labels_set:\n",
        "            num_clusteres -=1\n",
        "        if(num_clusteres < 3) or (num_clusteres > 10):\n",
        "            scores.append(-10)\n",
        "            all_labels.append(\"bad\")\n",
        "            c = (eps, num_samples)\n",
        "            print(f\"Combination {c} on iteration {i + 1} of {N} has {num_clusteres} clusters. Moving on\")\n",
        "            continue\n",
        "\n",
        "        scores.append(ss(x,labels))\n",
        "        all_labels.append(labels)\n",
        "        print(f\"Index: {i}, Score: {scores[-1]}, NumClusters: {num_clusteres}, Labels: {all_labels[-1]}\")\n",
        "\n",
        "    best_index = np.argmax(scores)\n",
        "    best_params = combinations[best_index]\n",
        "    best_labels = all_labels[best_index]\n",
        "    best_score = scores[best_index]\n",
        "\n",
        "    return {\n",
        "        \"best_epsilon\":best_params[0],\n",
        "        \"best_min_samples\":best_params[1],\n",
        "        \"best_labels\":best_labels,\n",
        "        \"best_score\":best_score,\n",
        "    }\n",
        "best_dict = get_score_and_labels(combinations,x)"
      ],
      "metadata": {
        "id": "8ZcziK48EGGw",
        "outputId": "324b7b53-db2b-4061-fb81-27e2b68449d9",
        "colab": {
          "base_uri": "https://localhost:8080/"
        }
      },
      "execution_count": 27,
      "outputs": [
        {
          "output_type": "stream",
          "name": "stdout",
          "text": [
            "Combination (0.01, 2) on iteration 1 of 350 has 102 clusters. Moving on\n",
            "Combination (0.01, 4) on iteration 2 of 350 has 0 clusters. Moving on\n",
            "Combination (0.01, 6) on iteration 3 of 350 has 0 clusters. Moving on\n",
            "Combination (0.01, 8) on iteration 4 of 350 has 0 clusters. Moving on\n",
            "Combination (0.01, 10) on iteration 5 of 350 has 0 clusters. Moving on\n",
            "Combination (0.01, 12) on iteration 6 of 350 has 0 clusters. Moving on\n",
            "Combination (0.01, 14) on iteration 7 of 350 has 0 clusters. Moving on\n",
            "Combination (0.01, 16) on iteration 8 of 350 has 0 clusters. Moving on\n",
            "Combination (0.01, 18) on iteration 9 of 350 has 0 clusters. Moving on\n",
            "Combination (0.01, 20) on iteration 10 of 350 has 0 clusters. Moving on\n",
            "Combination (0.01, 22) on iteration 11 of 350 has 0 clusters. Moving on\n",
            "Combination (0.01, 24) on iteration 12 of 350 has 0 clusters. Moving on\n",
            "Combination (0.01, 26) on iteration 13 of 350 has 0 clusters. Moving on\n",
            "Combination (0.01, 28) on iteration 14 of 350 has 0 clusters. Moving on\n",
            "Combination (0.051250000000000004, 2) on iteration 15 of 350 has 578 clusters. Moving on\n",
            "Combination (0.051250000000000004, 4) on iteration 16 of 350 has 159 clusters. Moving on\n",
            "Combination (0.051250000000000004, 6) on iteration 17 of 350 has 82 clusters. Moving on\n",
            "Combination (0.051250000000000004, 8) on iteration 18 of 350 has 27 clusters. Moving on\n",
            "Index: 18, Score: -0.47325269305231626, NumClusters: 6, Labels: [-1 -1 -1 ... -1 -1 -1]\n",
            "Combination (0.051250000000000004, 12) on iteration 20 of 350 has 0 clusters. Moving on\n",
            "Combination (0.051250000000000004, 14) on iteration 21 of 350 has 0 clusters. Moving on\n",
            "Combination (0.051250000000000004, 16) on iteration 22 of 350 has 0 clusters. Moving on\n",
            "Combination (0.051250000000000004, 18) on iteration 23 of 350 has 0 clusters. Moving on\n",
            "Combination (0.051250000000000004, 20) on iteration 24 of 350 has 0 clusters. Moving on\n",
            "Combination (0.051250000000000004, 22) on iteration 25 of 350 has 0 clusters. Moving on\n",
            "Combination (0.051250000000000004, 24) on iteration 26 of 350 has 0 clusters. Moving on\n",
            "Combination (0.051250000000000004, 26) on iteration 27 of 350 has 0 clusters. Moving on\n",
            "Combination (0.051250000000000004, 28) on iteration 28 of 350 has 0 clusters. Moving on\n",
            "Combination (0.0925, 2) on iteration 29 of 350 has 311 clusters. Moving on\n",
            "Combination (0.0925, 4) on iteration 30 of 350 has 110 clusters. Moving on\n",
            "Combination (0.0925, 6) on iteration 31 of 350 has 75 clusters. Moving on\n",
            "Combination (0.0925, 8) on iteration 32 of 350 has 43 clusters. Moving on\n",
            "Combination (0.0925, 10) on iteration 33 of 350 has 30 clusters. Moving on\n",
            "Combination (0.0925, 12) on iteration 34 of 350 has 16 clusters. Moving on\n",
            "Combination (0.0925, 14) on iteration 35 of 350 has 13 clusters. Moving on\n",
            "Combination (0.0925, 16) on iteration 36 of 350 has 18 clusters. Moving on\n",
            "Combination (0.0925, 18) on iteration 37 of 350 has 13 clusters. Moving on\n",
            "Index: 37, Score: -0.4692157464562492, NumClusters: 6, Labels: [-1 -1 -1 ... -1 -1 -1]\n",
            "Index: 38, Score: -0.39155067732055315, NumClusters: 4, Labels: [-1 -1 -1 ... -1 -1 -1]\n",
            "Combination (0.0925, 24) on iteration 40 of 350 has 1 clusters. Moving on\n",
            "Combination (0.0925, 26) on iteration 41 of 350 has 0 clusters. Moving on\n",
            "Combination (0.0925, 28) on iteration 42 of 350 has 0 clusters. Moving on\n",
            "Combination (0.13375, 2) on iteration 43 of 350 has 158 clusters. Moving on\n",
            "Combination (0.13375, 4) on iteration 44 of 350 has 61 clusters. Moving on\n",
            "Combination (0.13375, 6) on iteration 45 of 350 has 33 clusters. Moving on\n",
            "Combination (0.13375, 8) on iteration 46 of 350 has 30 clusters. Moving on\n",
            "Combination (0.13375, 10) on iteration 47 of 350 has 29 clusters. Moving on\n",
            "Combination (0.13375, 12) on iteration 48 of 350 has 24 clusters. Moving on\n",
            "Combination (0.13375, 14) on iteration 49 of 350 has 22 clusters. Moving on\n",
            "Combination (0.13375, 16) on iteration 50 of 350 has 18 clusters. Moving on\n",
            "Index: 50, Score: -0.3017580189572983, NumClusters: 10, Labels: [-1 -1 -1 ...  1 -1 -1]\n",
            "Index: 51, Score: -0.2907311636402831, NumClusters: 8, Labels: [-1 -1 -1 ... -1 -1 -1]\n",
            "Index: 52, Score: -0.344451127020976, NumClusters: 8, Labels: [-1 -1 -1 ... -1 -1 -1]\n",
            "Index: 53, Score: -0.28075292396876106, NumClusters: 7, Labels: [-1 -1 -1 ... -1 -1 -1]\n",
            "Index: 54, Score: -0.24728874196494216, NumClusters: 6, Labels: [-1 -1 -1 ... -1 -1 -1]\n",
            "Index: 55, Score: -0.2623681796451105, NumClusters: 5, Labels: [-1 -1 -1 ... -1 -1 -1]\n",
            "Combination (0.17500000000000002, 2) on iteration 57 of 350 has 91 clusters. Moving on\n",
            "Combination (0.17500000000000002, 4) on iteration 58 of 350 has 37 clusters. Moving on\n",
            "Combination (0.17500000000000002, 6) on iteration 59 of 350 has 23 clusters. Moving on\n",
            "Combination (0.17500000000000002, 8) on iteration 60 of 350 has 18 clusters. Moving on\n",
            "Combination (0.17500000000000002, 10) on iteration 61 of 350 has 13 clusters. Moving on\n",
            "Combination (0.17500000000000002, 12) on iteration 62 of 350 has 13 clusters. Moving on\n",
            "Combination (0.17500000000000002, 14) on iteration 63 of 350 has 13 clusters. Moving on\n",
            "Combination (0.17500000000000002, 16) on iteration 64 of 350 has 16 clusters. Moving on\n",
            "Combination (0.17500000000000002, 18) on iteration 65 of 350 has 16 clusters. Moving on\n",
            "Combination (0.17500000000000002, 20) on iteration 66 of 350 has 16 clusters. Moving on\n",
            "Combination (0.17500000000000002, 22) on iteration 67 of 350 has 16 clusters. Moving on\n",
            "Combination (0.17500000000000002, 24) on iteration 68 of 350 has 15 clusters. Moving on\n",
            "Index: 68, Score: -0.229064449021385, NumClusters: 10, Labels: [-1 -1  9 ...  2 -1 -1]\n",
            "Index: 69, Score: -0.25436806088264674, NumClusters: 10, Labels: [-1 -1  9 ...  1 -1 -1]\n",
            "Combination (0.21625000000000003, 2) on iteration 71 of 350 has 61 clusters. Moving on\n",
            "Combination (0.21625000000000003, 4) on iteration 72 of 350 has 19 clusters. Moving on\n",
            "Combination (0.21625000000000003, 6) on iteration 73 of 350 has 13 clusters. Moving on\n",
            "Index: 73, Score: -0.1358080341034538, NumClusters: 10, Labels: [0 1 1 ... 4 0 4]\n",
            "Combination (0.21625000000000003, 10) on iteration 75 of 350 has 12 clusters. Moving on\n",
            "Index: 75, Score: -0.09477320205959025, NumClusters: 10, Labels: [0 1 1 ... 4 0 4]\n",
            "Index: 76, Score: -0.1265775457917782, NumClusters: 8, Labels: [0 1 1 ... 4 0 7]\n",
            "Index: 77, Score: -0.1083970109975029, NumClusters: 7, Labels: [ 0  1  1 ...  4  0 -1]\n",
            "Index: 78, Score: -0.12082121091542941, NumClusters: 7, Labels: [ 3  0  0 ...  4  3 -1]\n",
            "Index: 79, Score: -0.13372717974346968, NumClusters: 7, Labels: [ 3  0  0 ...  4  3 -1]\n",
            "Index: 80, Score: -0.04562958910673058, NumClusters: 6, Labels: [ 3  0  0 ...  4  3 -1]\n",
            "Index: 81, Score: -0.06319985077710324, NumClusters: 10, Labels: [ 4  0  0 ...  3  4 -1]\n",
            "Index: 82, Score: -0.06802476809184159, NumClusters: 9, Labels: [ 4 -1  0 ...  3  4 -1]\n",
            "Index: 83, Score: -0.09749549173035006, NumClusters: 10, Labels: [ 4 -1  0 ...  2  4 -1]\n",
            "Combination (0.2575, 2) on iteration 85 of 350 has 39 clusters. Moving on\n",
            "Combination (0.2575, 4) on iteration 86 of 350 has 12 clusters. Moving on\n",
            "Index: 86, Score: 0.011974205615463846, NumClusters: 6, Labels: [0 1 1 ... 3 0 3]\n",
            "Index: 87, Score: -0.022525873591526992, NumClusters: 6, Labels: [0 1 1 ... 3 0 3]\n",
            "Index: 88, Score: -0.05215638355077234, NumClusters: 7, Labels: [0 1 1 ... 3 0 3]\n",
            "Index: 89, Score: -0.0428893975104087, NumClusters: 6, Labels: [0 1 1 ... 3 0 3]\n",
            "Index: 90, Score: 0.02737632364339168, NumClusters: 5, Labels: [0 1 1 ... 3 0 3]\n",
            "Index: 91, Score: 0.022968154058605705, NumClusters: 5, Labels: [0 1 1 ... 3 0 3]\n",
            "Index: 92, Score: 0.016455805782954386, NumClusters: 5, Labels: [0 1 1 ... 3 0 3]\n",
            "Index: 93, Score: -0.06961857932857318, NumClusters: 6, Labels: [ 0  1  1 ...  3  0 -1]\n",
            "Index: 94, Score: 0.010070184183782624, NumClusters: 5, Labels: [ 0  1  1 ...  3  0 -1]\n",
            "Index: 95, Score: 0.005654494352308095, NumClusters: 5, Labels: [ 0  1  1 ...  3  0 -1]\n",
            "Index: 96, Score: -0.10061494572720298, NumClusters: 6, Labels: [ 0  1  1 ...  3  0 -1]\n",
            "Index: 97, Score: -0.002309742373921557, NumClusters: 5, Labels: [ 0  1  1 ...  3  0 -1]\n",
            "Combination (0.29875, 2) on iteration 99 of 350 has 27 clusters. Moving on\n",
            "Combination (0.29875, 4) on iteration 100 of 350 has 12 clusters. Moving on\n",
            "Index: 100, Score: 0.05822584198938547, NumClusters: 5, Labels: [0 1 1 ... 2 0 2]\n",
            "Index: 101, Score: 0.05702838809838105, NumClusters: 5, Labels: [0 1 1 ... 2 0 2]\n",
            "Index: 102, Score: -0.006808852630773133, NumClusters: 5, Labels: [0 1 1 ... 2 0 2]\n",
            "Index: 103, Score: 0.07473360596312145, NumClusters: 4, Labels: [0 1 1 ... 2 0 2]\n",
            "Index: 104, Score: 0.06688974670098181, NumClusters: 4, Labels: [0 1 1 ... 2 0 2]\n",
            "Index: 105, Score: -0.01676940798075921, NumClusters: 5, Labels: [0 1 1 ... 2 0 2]\n",
            "Index: 106, Score: 0.05665958498528904, NumClusters: 4, Labels: [0 1 1 ... 2 0 2]\n",
            "Index: 107, Score: 0.05052318051713004, NumClusters: 4, Labels: [0 1 1 ... 2 0 2]\n",
            "Index: 108, Score: 0.04746566127732919, NumClusters: 4, Labels: [0 1 1 ... 2 0 2]\n",
            "Index: 109, Score: 0.04638453616260629, NumClusters: 4, Labels: [ 0  1  1 ...  2  0 -1]\n",
            "Index: 110, Score: 0.0438216161737333, NumClusters: 4, Labels: [ 0  1  1 ...  2  0 -1]\n",
            "Index: 111, Score: 0.03701114614521585, NumClusters: 4, Labels: [ 0  1  1 ...  2  0 -1]\n",
            "Combination (0.34, 2) on iteration 113 of 350 has 19 clusters. Moving on\n",
            "Index: 113, Score: 0.02946439585989058, NumClusters: 7, Labels: [0 1 1 ... 2 0 2]\n",
            "Index: 114, Score: 0.1400729585091885, NumClusters: 4, Labels: [0 1 1 ... 2 0 2]\n",
            "Index: 115, Score: 0.13832527746281578, NumClusters: 4, Labels: [0 1 1 ... 2 0 2]\n",
            "Index: 116, Score: 0.1632609880407344, NumClusters: 3, Labels: [0 1 1 ... 2 0 2]\n",
            "Index: 117, Score: 0.1597300803170484, NumClusters: 3, Labels: [0 1 1 ... 2 0 2]\n",
            "Index: 118, Score: 0.10538307816067317, NumClusters: 4, Labels: [0 1 1 ... 2 0 2]\n",
            "Index: 119, Score: 0.1567152796026334, NumClusters: 3, Labels: [0 1 1 ... 2 0 2]\n",
            "Index: 120, Score: 0.15450672236905139, NumClusters: 3, Labels: [0 1 1 ... 2 0 2]\n",
            "Index: 121, Score: 0.15468571123144484, NumClusters: 3, Labels: [0 1 1 ... 2 0 2]\n",
            "Index: 122, Score: 0.1527760504447721, NumClusters: 3, Labels: [0 1 1 ... 2 0 2]\n",
            "Index: 123, Score: 0.15091701072068864, NumClusters: 3, Labels: [0 1 1 ... 2 0 2]\n",
            "Index: 124, Score: 0.14556749900570032, NumClusters: 3, Labels: [0 1 1 ... 2 0 2]\n",
            "Index: 125, Score: 0.141569115715033, NumClusters: 3, Labels: [0 1 1 ... 2 0 2]\n",
            "Combination (0.38125000000000003, 2) on iteration 127 of 350 has 11 clusters. Moving on\n",
            "Index: 127, Score: 0.08931178875003637, NumClusters: 5, Labels: [0 1 1 ... 2 0 2]\n",
            "Index: 128, Score: 0.1706821617846983, NumClusters: 3, Labels: [0 1 1 ... 2 0 2]\n",
            "Index: 129, Score: 0.1424087773577606, NumClusters: 4, Labels: [0 1 1 ... 2 0 2]\n",
            "Index: 130, Score: 0.13914874595686186, NumClusters: 4, Labels: [0 1 1 ... 2 0 2]\n",
            "Index: 131, Score: 0.16589665077631283, NumClusters: 3, Labels: [0 1 1 ... 2 0 2]\n",
            "Index: 132, Score: 0.16454830721559618, NumClusters: 3, Labels: [0 1 1 ... 2 0 2]\n",
            "Index: 133, Score: 0.16108616919815744, NumClusters: 3, Labels: [0 1 1 ... 2 0 2]\n",
            "Index: 134, Score: 0.16006891195008155, NumClusters: 3, Labels: [0 1 1 ... 2 0 2]\n",
            "Index: 135, Score: 0.15965394852965498, NumClusters: 3, Labels: [0 1 1 ... 2 0 2]\n",
            "Index: 136, Score: 0.15801493478952183, NumClusters: 3, Labels: [0 1 1 ... 2 0 2]\n",
            "Index: 137, Score: 0.15784302634011066, NumClusters: 3, Labels: [0 1 1 ... 2 0 2]\n",
            "Index: 138, Score: 0.1588868838186629, NumClusters: 3, Labels: [0 1 1 ... 2 0 2]\n",
            "Index: 139, Score: 0.1572690432647261, NumClusters: 3, Labels: [0 1 1 ... 2 0 2]\n",
            "Combination (0.42250000000000004, 2) on iteration 141 of 350 has 12 clusters. Moving on\n",
            "Index: 141, Score: 0.17165151428597947, NumClusters: 3, Labels: [0 1 1 ... 2 0 2]\n",
            "Index: 142, Score: 0.17189012687986654, NumClusters: 3, Labels: [0 1 1 ... 2 0 2]\n",
            "Index: 143, Score: 0.16994405116768663, NumClusters: 3, Labels: [0 1 1 ... 2 0 2]\n",
            "Index: 144, Score: 0.1686023191781798, NumClusters: 3, Labels: [0 1 1 ... 2 0 2]\n",
            "Index: 145, Score: 0.1685776439357639, NumClusters: 3, Labels: [0 1 1 ... 2 0 2]\n",
            "Index: 146, Score: 0.16578098069727457, NumClusters: 3, Labels: [0 1 1 ... 2 0 2]\n",
            "Index: 147, Score: 0.16501251719746243, NumClusters: 3, Labels: [0 1 1 ... 2 0 2]\n",
            "Index: 148, Score: 0.16294675028015146, NumClusters: 3, Labels: [0 1 1 ... 2 0 2]\n",
            "Index: 149, Score: 0.16167586226424788, NumClusters: 3, Labels: [0 1 1 ... 2 0 2]\n",
            "Index: 150, Score: 0.15994670397918268, NumClusters: 3, Labels: [0 1 1 ... 2 0 2]\n",
            "Index: 151, Score: 0.1609172679972527, NumClusters: 3, Labels: [0 1 1 ... 2 0 2]\n",
            "Index: 152, Score: 0.16061002319726878, NumClusters: 3, Labels: [0 1 1 ... 2 0 2]\n",
            "Index: 153, Score: 0.1584766140769302, NumClusters: 3, Labels: [0 1 1 ... 2 0 2]\n",
            "Index: 154, Score: 0.06310899102632504, NumClusters: 10, Labels: [0 1 1 ... 1 0 1]\n",
            "Combination (0.46375000000000005, 4) on iteration 156 of 350 has 2 clusters. Moving on\n",
            "Combination (0.46375000000000005, 6) on iteration 157 of 350 has 2 clusters. Moving on\n",
            "Combination (0.46375000000000005, 8) on iteration 158 of 350 has 2 clusters. Moving on\n",
            "Combination (0.46375000000000005, 10) on iteration 159 of 350 has 2 clusters. Moving on\n",
            "Index: 159, Score: 0.26775748747798306, NumClusters: 3, Labels: [0 1 1 ... 1 0 1]\n",
            "Combination (0.46375000000000005, 14) on iteration 161 of 350 has 2 clusters. Moving on\n",
            "Combination (0.46375000000000005, 16) on iteration 162 of 350 has 2 clusters. Moving on\n",
            "Combination (0.46375000000000005, 18) on iteration 163 of 350 has 2 clusters. Moving on\n",
            "Combination (0.46375000000000005, 20) on iteration 164 of 350 has 2 clusters. Moving on\n",
            "Combination (0.46375000000000005, 22) on iteration 165 of 350 has 2 clusters. Moving on\n",
            "Combination (0.46375000000000005, 24) on iteration 166 of 350 has 2 clusters. Moving on\n",
            "Combination (0.46375000000000005, 26) on iteration 167 of 350 has 2 clusters. Moving on\n",
            "Combination (0.46375000000000005, 28) on iteration 168 of 350 has 2 clusters. Moving on\n",
            "Index: 168, Score: 0.12724183656403945, NumClusters: 8, Labels: [0 1 1 ... 1 0 1]\n",
            "Combination (0.505, 4) on iteration 170 of 350 has 2 clusters. Moving on\n",
            "Combination (0.505, 6) on iteration 171 of 350 has 2 clusters. Moving on\n",
            "Combination (0.505, 8) on iteration 172 of 350 has 2 clusters. Moving on\n",
            "Combination (0.505, 10) on iteration 173 of 350 has 2 clusters. Moving on\n",
            "Combination (0.505, 12) on iteration 174 of 350 has 2 clusters. Moving on\n",
            "Combination (0.505, 14) on iteration 175 of 350 has 2 clusters. Moving on\n",
            "Combination (0.505, 16) on iteration 176 of 350 has 2 clusters. Moving on\n",
            "Combination (0.505, 18) on iteration 177 of 350 has 2 clusters. Moving on\n",
            "Combination (0.505, 20) on iteration 178 of 350 has 2 clusters. Moving on\n",
            "Combination (0.505, 22) on iteration 179 of 350 has 2 clusters. Moving on\n",
            "Combination (0.505, 24) on iteration 180 of 350 has 2 clusters. Moving on\n",
            "Combination (0.505, 26) on iteration 181 of 350 has 2 clusters. Moving on\n",
            "Combination (0.505, 28) on iteration 182 of 350 has 2 clusters. Moving on\n",
            "Index: 182, Score: 0.22483657502372967, NumClusters: 4, Labels: [0 1 1 ... 1 0 1]\n",
            "Combination (0.54625, 4) on iteration 184 of 350 has 2 clusters. Moving on\n",
            "Combination (0.54625, 6) on iteration 185 of 350 has 2 clusters. Moving on\n",
            "Combination (0.54625, 8) on iteration 186 of 350 has 2 clusters. Moving on\n",
            "Combination (0.54625, 10) on iteration 187 of 350 has 2 clusters. Moving on\n",
            "Combination (0.54625, 12) on iteration 188 of 350 has 2 clusters. Moving on\n",
            "Combination (0.54625, 14) on iteration 189 of 350 has 2 clusters. Moving on\n",
            "Combination (0.54625, 16) on iteration 190 of 350 has 2 clusters. Moving on\n",
            "Combination (0.54625, 18) on iteration 191 of 350 has 2 clusters. Moving on\n",
            "Combination (0.54625, 20) on iteration 192 of 350 has 2 clusters. Moving on\n",
            "Combination (0.54625, 22) on iteration 193 of 350 has 2 clusters. Moving on\n",
            "Combination (0.54625, 24) on iteration 194 of 350 has 2 clusters. Moving on\n",
            "Combination (0.54625, 26) on iteration 195 of 350 has 2 clusters. Moving on\n",
            "Combination (0.54625, 28) on iteration 196 of 350 has 2 clusters. Moving on\n",
            "Combination (0.5875, 2) on iteration 197 of 350 has 2 clusters. Moving on\n",
            "Combination (0.5875, 4) on iteration 198 of 350 has 2 clusters. Moving on\n",
            "Combination (0.5875, 6) on iteration 199 of 350 has 2 clusters. Moving on\n",
            "Combination (0.5875, 8) on iteration 200 of 350 has 2 clusters. Moving on\n",
            "Combination (0.5875, 10) on iteration 201 of 350 has 2 clusters. Moving on\n",
            "Combination (0.5875, 12) on iteration 202 of 350 has 2 clusters. Moving on\n",
            "Combination (0.5875, 14) on iteration 203 of 350 has 2 clusters. Moving on\n",
            "Combination (0.5875, 16) on iteration 204 of 350 has 2 clusters. Moving on\n",
            "Combination (0.5875, 18) on iteration 205 of 350 has 2 clusters. Moving on\n",
            "Combination (0.5875, 20) on iteration 206 of 350 has 2 clusters. Moving on\n",
            "Combination (0.5875, 22) on iteration 207 of 350 has 2 clusters. Moving on\n",
            "Combination (0.5875, 24) on iteration 208 of 350 has 2 clusters. Moving on\n",
            "Combination (0.5875, 26) on iteration 209 of 350 has 2 clusters. Moving on\n",
            "Combination (0.5875, 28) on iteration 210 of 350 has 2 clusters. Moving on\n",
            "Combination (0.62875, 2) on iteration 211 of 350 has 1 clusters. Moving on\n",
            "Combination (0.62875, 4) on iteration 212 of 350 has 1 clusters. Moving on\n",
            "Combination (0.62875, 6) on iteration 213 of 350 has 1 clusters. Moving on\n",
            "Combination (0.62875, 8) on iteration 214 of 350 has 1 clusters. Moving on\n",
            "Combination (0.62875, 10) on iteration 215 of 350 has 1 clusters. Moving on\n",
            "Combination (0.62875, 12) on iteration 216 of 350 has 1 clusters. Moving on\n",
            "Combination (0.62875, 14) on iteration 217 of 350 has 1 clusters. Moving on\n",
            "Combination (0.62875, 16) on iteration 218 of 350 has 1 clusters. Moving on\n",
            "Combination (0.62875, 18) on iteration 219 of 350 has 1 clusters. Moving on\n",
            "Combination (0.62875, 20) on iteration 220 of 350 has 1 clusters. Moving on\n",
            "Combination (0.62875, 22) on iteration 221 of 350 has 1 clusters. Moving on\n",
            "Combination (0.62875, 24) on iteration 222 of 350 has 1 clusters. Moving on\n",
            "Combination (0.62875, 26) on iteration 223 of 350 has 1 clusters. Moving on\n",
            "Combination (0.62875, 28) on iteration 224 of 350 has 1 clusters. Moving on\n",
            "Combination (0.67, 2) on iteration 225 of 350 has 1 clusters. Moving on\n",
            "Combination (0.67, 4) on iteration 226 of 350 has 2 clusters. Moving on\n",
            "Combination (0.67, 6) on iteration 227 of 350 has 1 clusters. Moving on\n",
            "Combination (0.67, 8) on iteration 228 of 350 has 1 clusters. Moving on\n",
            "Combination (0.67, 10) on iteration 229 of 350 has 1 clusters. Moving on\n",
            "Combination (0.67, 12) on iteration 230 of 350 has 1 clusters. Moving on\n",
            "Combination (0.67, 14) on iteration 231 of 350 has 1 clusters. Moving on\n",
            "Combination (0.67, 16) on iteration 232 of 350 has 1 clusters. Moving on\n",
            "Combination (0.67, 18) on iteration 233 of 350 has 1 clusters. Moving on\n",
            "Combination (0.67, 20) on iteration 234 of 350 has 1 clusters. Moving on\n",
            "Combination (0.67, 22) on iteration 235 of 350 has 1 clusters. Moving on\n",
            "Combination (0.67, 24) on iteration 236 of 350 has 1 clusters. Moving on\n",
            "Combination (0.67, 26) on iteration 237 of 350 has 1 clusters. Moving on\n",
            "Combination (0.67, 28) on iteration 238 of 350 has 1 clusters. Moving on\n",
            "Combination (0.71125, 2) on iteration 239 of 350 has 1 clusters. Moving on\n",
            "Combination (0.71125, 4) on iteration 240 of 350 has 2 clusters. Moving on\n",
            "Combination (0.71125, 6) on iteration 241 of 350 has 1 clusters. Moving on\n",
            "Combination (0.71125, 8) on iteration 242 of 350 has 1 clusters. Moving on\n",
            "Combination (0.71125, 10) on iteration 243 of 350 has 1 clusters. Moving on\n",
            "Combination (0.71125, 12) on iteration 244 of 350 has 1 clusters. Moving on\n",
            "Combination (0.71125, 14) on iteration 245 of 350 has 1 clusters. Moving on\n",
            "Combination (0.71125, 16) on iteration 246 of 350 has 1 clusters. Moving on\n",
            "Combination (0.71125, 18) on iteration 247 of 350 has 1 clusters. Moving on\n",
            "Combination (0.71125, 20) on iteration 248 of 350 has 1 clusters. Moving on\n",
            "Combination (0.71125, 22) on iteration 249 of 350 has 1 clusters. Moving on\n",
            "Combination (0.71125, 24) on iteration 250 of 350 has 1 clusters. Moving on\n",
            "Combination (0.71125, 26) on iteration 251 of 350 has 1 clusters. Moving on\n",
            "Combination (0.71125, 28) on iteration 252 of 350 has 1 clusters. Moving on\n",
            "Combination (0.7525000000000001, 2) on iteration 253 of 350 has 1 clusters. Moving on\n",
            "Combination (0.7525000000000001, 4) on iteration 254 of 350 has 2 clusters. Moving on\n",
            "Combination (0.7525000000000001, 6) on iteration 255 of 350 has 1 clusters. Moving on\n",
            "Combination (0.7525000000000001, 8) on iteration 256 of 350 has 1 clusters. Moving on\n",
            "Combination (0.7525000000000001, 10) on iteration 257 of 350 has 1 clusters. Moving on\n",
            "Combination (0.7525000000000001, 12) on iteration 258 of 350 has 1 clusters. Moving on\n",
            "Combination (0.7525000000000001, 14) on iteration 259 of 350 has 1 clusters. Moving on\n",
            "Combination (0.7525000000000001, 16) on iteration 260 of 350 has 1 clusters. Moving on\n",
            "Combination (0.7525000000000001, 18) on iteration 261 of 350 has 1 clusters. Moving on\n",
            "Combination (0.7525000000000001, 20) on iteration 262 of 350 has 1 clusters. Moving on\n",
            "Combination (0.7525000000000001, 22) on iteration 263 of 350 has 1 clusters. Moving on\n",
            "Combination (0.7525000000000001, 24) on iteration 264 of 350 has 1 clusters. Moving on\n",
            "Combination (0.7525000000000001, 26) on iteration 265 of 350 has 1 clusters. Moving on\n",
            "Combination (0.7525000000000001, 28) on iteration 266 of 350 has 1 clusters. Moving on\n",
            "Combination (0.7937500000000001, 2) on iteration 267 of 350 has 1 clusters. Moving on\n",
            "Combination (0.7937500000000001, 4) on iteration 268 of 350 has 2 clusters. Moving on\n",
            "Combination (0.7937500000000001, 6) on iteration 269 of 350 has 1 clusters. Moving on\n",
            "Combination (0.7937500000000001, 8) on iteration 270 of 350 has 1 clusters. Moving on\n",
            "Combination (0.7937500000000001, 10) on iteration 271 of 350 has 1 clusters. Moving on\n",
            "Combination (0.7937500000000001, 12) on iteration 272 of 350 has 1 clusters. Moving on\n",
            "Combination (0.7937500000000001, 14) on iteration 273 of 350 has 1 clusters. Moving on\n",
            "Combination (0.7937500000000001, 16) on iteration 274 of 350 has 1 clusters. Moving on\n",
            "Combination (0.7937500000000001, 18) on iteration 275 of 350 has 1 clusters. Moving on\n",
            "Combination (0.7937500000000001, 20) on iteration 276 of 350 has 1 clusters. Moving on\n",
            "Combination (0.7937500000000001, 22) on iteration 277 of 350 has 1 clusters. Moving on\n",
            "Combination (0.7937500000000001, 24) on iteration 278 of 350 has 1 clusters. Moving on\n",
            "Combination (0.7937500000000001, 26) on iteration 279 of 350 has 1 clusters. Moving on\n",
            "Combination (0.7937500000000001, 28) on iteration 280 of 350 has 1 clusters. Moving on\n",
            "Combination (0.8350000000000001, 2) on iteration 281 of 350 has 1 clusters. Moving on\n",
            "Combination (0.8350000000000001, 4) on iteration 282 of 350 has 1 clusters. Moving on\n",
            "Combination (0.8350000000000001, 6) on iteration 283 of 350 has 1 clusters. Moving on\n",
            "Combination (0.8350000000000001, 8) on iteration 284 of 350 has 1 clusters. Moving on\n",
            "Combination (0.8350000000000001, 10) on iteration 285 of 350 has 1 clusters. Moving on\n",
            "Combination (0.8350000000000001, 12) on iteration 286 of 350 has 1 clusters. Moving on\n",
            "Combination (0.8350000000000001, 14) on iteration 287 of 350 has 1 clusters. Moving on\n",
            "Combination (0.8350000000000001, 16) on iteration 288 of 350 has 1 clusters. Moving on\n",
            "Combination (0.8350000000000001, 18) on iteration 289 of 350 has 1 clusters. Moving on\n",
            "Combination (0.8350000000000001, 20) on iteration 290 of 350 has 1 clusters. Moving on\n",
            "Combination (0.8350000000000001, 22) on iteration 291 of 350 has 1 clusters. Moving on\n",
            "Combination (0.8350000000000001, 24) on iteration 292 of 350 has 1 clusters. Moving on\n",
            "Combination (0.8350000000000001, 26) on iteration 293 of 350 has 1 clusters. Moving on\n",
            "Combination (0.8350000000000001, 28) on iteration 294 of 350 has 1 clusters. Moving on\n",
            "Combination (0.8762500000000001, 2) on iteration 295 of 350 has 1 clusters. Moving on\n",
            "Combination (0.8762500000000001, 4) on iteration 296 of 350 has 1 clusters. Moving on\n",
            "Combination (0.8762500000000001, 6) on iteration 297 of 350 has 1 clusters. Moving on\n",
            "Combination (0.8762500000000001, 8) on iteration 298 of 350 has 1 clusters. Moving on\n",
            "Combination (0.8762500000000001, 10) on iteration 299 of 350 has 1 clusters. Moving on\n",
            "Combination (0.8762500000000001, 12) on iteration 300 of 350 has 1 clusters. Moving on\n",
            "Combination (0.8762500000000001, 14) on iteration 301 of 350 has 1 clusters. Moving on\n",
            "Combination (0.8762500000000001, 16) on iteration 302 of 350 has 1 clusters. Moving on\n",
            "Combination (0.8762500000000001, 18) on iteration 303 of 350 has 1 clusters. Moving on\n",
            "Combination (0.8762500000000001, 20) on iteration 304 of 350 has 1 clusters. Moving on\n",
            "Combination (0.8762500000000001, 22) on iteration 305 of 350 has 1 clusters. Moving on\n",
            "Combination (0.8762500000000001, 24) on iteration 306 of 350 has 1 clusters. Moving on\n",
            "Combination (0.8762500000000001, 26) on iteration 307 of 350 has 1 clusters. Moving on\n",
            "Combination (0.8762500000000001, 28) on iteration 308 of 350 has 1 clusters. Moving on\n",
            "Combination (0.9175000000000001, 2) on iteration 309 of 350 has 1 clusters. Moving on\n",
            "Combination (0.9175000000000001, 4) on iteration 310 of 350 has 1 clusters. Moving on\n",
            "Combination (0.9175000000000001, 6) on iteration 311 of 350 has 1 clusters. Moving on\n",
            "Combination (0.9175000000000001, 8) on iteration 312 of 350 has 1 clusters. Moving on\n",
            "Combination (0.9175000000000001, 10) on iteration 313 of 350 has 1 clusters. Moving on\n",
            "Combination (0.9175000000000001, 12) on iteration 314 of 350 has 1 clusters. Moving on\n",
            "Combination (0.9175000000000001, 14) on iteration 315 of 350 has 1 clusters. Moving on\n",
            "Combination (0.9175000000000001, 16) on iteration 316 of 350 has 1 clusters. Moving on\n",
            "Combination (0.9175000000000001, 18) on iteration 317 of 350 has 1 clusters. Moving on\n",
            "Combination (0.9175000000000001, 20) on iteration 318 of 350 has 1 clusters. Moving on\n",
            "Combination (0.9175000000000001, 22) on iteration 319 of 350 has 1 clusters. Moving on\n",
            "Combination (0.9175000000000001, 24) on iteration 320 of 350 has 1 clusters. Moving on\n",
            "Combination (0.9175000000000001, 26) on iteration 321 of 350 has 1 clusters. Moving on\n",
            "Combination (0.9175000000000001, 28) on iteration 322 of 350 has 1 clusters. Moving on\n",
            "Combination (0.9587500000000001, 2) on iteration 323 of 350 has 1 clusters. Moving on\n",
            "Combination (0.9587500000000001, 4) on iteration 324 of 350 has 1 clusters. Moving on\n",
            "Combination (0.9587500000000001, 6) on iteration 325 of 350 has 1 clusters. Moving on\n",
            "Combination (0.9587500000000001, 8) on iteration 326 of 350 has 1 clusters. Moving on\n",
            "Combination (0.9587500000000001, 10) on iteration 327 of 350 has 1 clusters. Moving on\n",
            "Combination (0.9587500000000001, 12) on iteration 328 of 350 has 1 clusters. Moving on\n",
            "Combination (0.9587500000000001, 14) on iteration 329 of 350 has 1 clusters. Moving on\n",
            "Combination (0.9587500000000001, 16) on iteration 330 of 350 has 1 clusters. Moving on\n",
            "Combination (0.9587500000000001, 18) on iteration 331 of 350 has 1 clusters. Moving on\n",
            "Combination (0.9587500000000001, 20) on iteration 332 of 350 has 1 clusters. Moving on\n",
            "Combination (0.9587500000000001, 22) on iteration 333 of 350 has 1 clusters. Moving on\n",
            "Combination (0.9587500000000001, 24) on iteration 334 of 350 has 1 clusters. Moving on\n",
            "Combination (0.9587500000000001, 26) on iteration 335 of 350 has 1 clusters. Moving on\n",
            "Combination (0.9587500000000001, 28) on iteration 336 of 350 has 1 clusters. Moving on\n",
            "Combination (1.0, 2) on iteration 337 of 350 has 1 clusters. Moving on\n",
            "Combination (1.0, 4) on iteration 338 of 350 has 1 clusters. Moving on\n",
            "Combination (1.0, 6) on iteration 339 of 350 has 1 clusters. Moving on\n",
            "Combination (1.0, 8) on iteration 340 of 350 has 1 clusters. Moving on\n",
            "Combination (1.0, 10) on iteration 341 of 350 has 1 clusters. Moving on\n",
            "Combination (1.0, 12) on iteration 342 of 350 has 1 clusters. Moving on\n",
            "Combination (1.0, 14) on iteration 343 of 350 has 1 clusters. Moving on\n",
            "Combination (1.0, 16) on iteration 344 of 350 has 1 clusters. Moving on\n",
            "Combination (1.0, 18) on iteration 345 of 350 has 1 clusters. Moving on\n",
            "Combination (1.0, 20) on iteration 346 of 350 has 1 clusters. Moving on\n",
            "Combination (1.0, 22) on iteration 347 of 350 has 1 clusters. Moving on\n",
            "Combination (1.0, 24) on iteration 348 of 350 has 1 clusters. Moving on\n",
            "Combination (1.0, 26) on iteration 349 of 350 has 1 clusters. Moving on\n",
            "Combination (1.0, 28) on iteration 350 of 350 has 1 clusters. Moving on\n"
          ]
        }
      ]
    },
    {
      "cell_type": "markdown",
      "source": [
        "Ahora podemos visualizar el resultado. Observamos que los datos se han dividido en solo 2 grupos, excluyendo los outliers. Además, el Silhouette Score es bastante bajo, con un valor de 0.26."
      ],
      "metadata": {
        "id": "o3zsGFp9GkBv"
      }
    },
    {
      "cell_type": "code",
      "source": [
        "df[\"Cluster\"] = best_dict[\"best_labels\"]\n",
        "fig = px.scatter(x=df[\"Frequency\"],y=df[\"Monetary\"], color=df[\"Cluster\"])\n",
        "fig.show()\n",
        "best_dict[\"best_score\"]"
      ],
      "metadata": {
        "id": "6AN7LR7lGo8W",
        "outputId": "5577d11c-f048-40ab-a5ec-9fc2c51f7c47",
        "colab": {
          "base_uri": "https://localhost:8080/",
          "height": 559
        }
      },
      "execution_count": 29,
      "outputs": [
        {
          "output_type": "display_data",
          "data": {
            "text/html": [
              "<html>\n",
              "<head><meta charset=\"utf-8\" /></head>\n",
              "<body>\n",
              "    <div>            <script src=\"https://cdnjs.cloudflare.com/ajax/libs/mathjax/2.7.5/MathJax.js?config=TeX-AMS-MML_SVG\"></script><script type=\"text/javascript\">if (window.MathJax && window.MathJax.Hub && window.MathJax.Hub.Config) {window.MathJax.Hub.Config({SVG: {font: \"STIX-Web\"}});}</script>                <script type=\"text/javascript\">window.PlotlyConfig = {MathJaxConfig: 'local'};</script>\n",
              "        <script charset=\"utf-8\" src=\"https://cdn.plot.ly/plotly-2.35.2.min.js\"></script>                <div id=\"30a23fc8-d0cf-4cd9-93b7-da1793c30349\" class=\"plotly-graph-div\" style=\"height:525px; width:100%;\"></div>            <script type=\"text/javascript\">                                    window.PLOTLYENV=window.PLOTLYENV || {};                                    if (document.getElementById(\"30a23fc8-d0cf-4cd9-93b7-da1793c30349\")) {                    Plotly.newPlot(                        \"30a23fc8-d0cf-4cd9-93b7-da1793c30349\",                        [{\"hovertemplate\":\"x=%{x}\\u003cbr\\u003ey=%{y}\\u003cbr\\u003ecolor=%{marker.color}\\u003cextra\\u003e\\u003c\\u002fextra\\u003e\",\"legendgroup\":\"\",\"marker\":{\"color\":[0,1,1,0,0,1,1,1,0,1,0,1,0,1,1,0,1,1,0,0,1,1,1,1,1,1,0,1,1,0,0,1,1,1,1,0,1,0,0,1,0,1,1,1,0,1,1,1,1,1,1,0,1,0,1,1,1,0,1,1,1,0,1,0,1,0,1,1,0,1,1,0,0,1,0,0,1,1,1,1,0,1,1,1,1,1,1,0,1,0,1,0,0,-1,0,1,1,1,0,1,1,1,0,1,1,1,0,0,1,1,1,1,0,0,0,1,1,1,1,1,1,1,0,0,1,1,1,0,0,1,1,1,1,1,1,0,1,1,1,1,0,0,0,1,1,0,0,1,1,1,1,1,0,0,1,0,1,1,1,0,1,0,1,1,0,0,1,0,1,1,1,0,0,0,0,1,1,0,1,1,1,1,0,1,1,1,1,1,0,-1,1,1,1,0,1,1,1,1,1,1,1,1,1,1,1,0,1,0,0,0,0,0,1,1,1,-1,0,0,1,1,0,1,1,1,0,1,0,0,0,1,1,1,0,1,0,0,0,1,1,0,1,1,0,1,0,1,0,1,1,-1,1,1,1,1,0,1,0,0,0,1,1,1,1,1,0,1,0,1,1,1,1,1,0,1,0,1,1,1,1,1,1,0,1,1,1,1,1,-1,1,1,0,1,1,0,1,1,0,1,1,0,1,1,1,1,1,0,1,0,1,1,1,1,1,0,0,1,1,1,1,1,1,0,0,1,0,1,1,0,1,0,0,1,1,1,1,1,1,1,1,1,1,0,1,0,1,1,0,1,0,1,0,0,1,1,1,0,1,1,1,0,1,1,1,1,1,0,0,1,1,1,0,0,1,1,1,1,0,1,1,0,1,1,1,1,1,1,1,1,1,1,0,0,1,1,1,1,-1,1,1,1,-1,1,1,1,0,0,1,0,1,1,0,0,1,0,0,1,0,0,1,1,1,-1,1,1,0,1,1,1,0,1,0,1,1,1,0,1,1,0,0,1,1,2,1,0,1,0,1,1,1,1,1,0,1,1,1,1,1,0,0,1,1,1,0,1,1,1,0,1,1,0,-1,1,1,0,1,1,1,0,0,0,0,1,1,1,1,1,0,1,0,1,1,0,1,1,1,0,0,1,0,1,1,1,0,1,1,1,1,1,1,0,0,0,1,0,-1,1,1,1,0,0,1,1,1,0,1,1,1,0,1,1,1,1,0,1,1,1,1,1,1,1,0,1,1,0,0,0,1,0,1,0,1,1,0,1,1,0,0,0,1,1,0,1,0,0,0,1,0,1,0,1,1,1,1,1,1,1,0,-1,0,0,1,1,1,0,1,0,0,0,1,0,1,1,0,1,0,0,1,1,1,-1,1,1,1,0,1,0,0,1,0,0,1,0,1,0,1,0,0,1,1,1,0,0,-1,1,1,0,1,1,1,1,0,1,1,0,1,1,1,1,0,0,1,1,1,0,1,0,1,1,1,1,1,0,0,1,1,1,1,1,0,0,1,0,1,1,0,1,1,1,1,1,0,0,1,0,0,-1,1,1,0,1,1,0,1,0,0,0,1,0,1,1,1,1,-1,1,1,1,0,0,1,0,0,1,0,1,-1,0,0,1,1,1,0,1,0,1,1,1,2,0,1,1,1,0,1,0,1,1,0,0,1,0,0,1,0,1,0,1,0,1,1,0,1,0,1,0,0,1,1,1,1,1,1,0,1,0,1,1,1,1,0,0,-1,0,0,0,1,0,0,0,1,0,0,1,0,-1,0,1,1,0,0,1,1,1,1,1,0,1,1,1,1,1,0,1,1,0,1,1,0,1,1,2,1,0,1,1,1,1,1,1,1,0,1,0,0,0,0,0,1,1,0,0,0,0,1,0,0,0,1,0,1,0,0,0,1,0,1,1,0,1,1,1,0,1,1,0,0,1,0,1,0,0,1,1,1,0,0,1,1,1,0,0,1,1,1,1,0,0,1,1,1,1,1,1,0,1,1,0,1,0,1,1,0,0,-1,0,0,1,0,0,1,1,1,1,1,1,0,0,0,1,0,1,0,0,0,1,1,0,1,0,0,0,1,1,1,1,0,1,1,0,1,1,0,1,1,1,1,1,0,0,0,0,1,1,1,1,1,0,1,1,1,0,1,1,0,-1,0,0,0,0,1,0,0,1,1,0,1,1,1,-1,1,1,1,1,1,0,1,2,1,1,0,1,1,0,1,1,1,1,0,1,1,0,1,1,0,1,1,-1,1,0,1,-1,0,1,1,0,1,1,1,0,1,1,1,1,0,1,1,0,-1,1,1,1,1,1,0,1,0,1,1,1,0,0,1,1,1,1,1,0,1,1,1,1,1,0,1,1,1,0,0,0,1,1,1,0,1,0,1,1,1,1,1,1,1,1,0,0,1,1,-1,0,1,1,1,0,0,1,1,1,0,0,0,1,0,0,1,1,1,1,1,1,1,0,1,1,1,0,1,1,-1,0,1,1,1,1,1,1,0,1,1,1,1,0,1,1,0,0,1,1,1,1,0,0,0,1,1,0,1,1,0,0,1,1,1,1,1,-1,1,0,-1,1,0,0,0,1,1,0,0,1,1,1,0,1,0,1,1,0,1,1,1,-1,1,0,1,0,0,1,1,1,0,0,1,1,0,0,1,0,1,0,0,1,1,1,1,1,1,0,1,1,1,1,1,-1,0,0,0,0,1,1,1,1,0,1,1,0,0,1,-1,1,0,1,0,1,1,0,-1,1,1,1,0,1,1,1,0,0,0,1,0,0,0,1,1,0,0,1,0,0,1,0,1,0,0,0,0,1,0,1,0,0,0,1,0,0,1,0,1,1,0,1,1,0,1,0,1,1,0,1,0,0,1,1,1,1,0,1,1,1,1,1,1,1,0,1,1,1,0,1,0,0,1,0,0,0,1,0,0,1,1,1,0,0,1,0,0,-1,1,1,1,1,1,1,1,1,0,0,1,1,1,1,1,1,0,1,1,1,1,1,1,1,0,1,0,1,0,0,1,1,1,0,1,1,1,1,0,1,1,0,1,1,0,1,0,-1,0,1,1,0,1,1,0,0,0,1,1,0,1,1,1,0,1,1,1,1,0,1,1,0,1,1,1,0,1,1,1,1,1,1,0,1,1,0,0,1,1,1,1,0,1,0,1,0,1,0,1,0,1,0,0,0,1,1,0,1,1,1,0,0,1,1,0,1,1,1,0,0,1,1,1,1,0,1,0,1,1,0,0,1,0,1,1,0,0,1,0,1,0,1,1,1,0,0,0,0,1,0,1,2,1,0,0,0,1,0,1,1,1,1,0,1,1,1,0,1,1,0,-1,0,1,0,0,1,0,1,1,0,1,1,1,-1,1,1,0,1,0,1,1,0,1,1,0,1,1,1,0,0,1,1,0,0,1,1,-1,0,1,1,1,1,1,1,1,1,1,1,1,0,1,1,1,1,1,1,0,1,1,1,1,1,1,1,0,1,1,0,0,1,0,1,0,1,-1,1,1,1,0,1,0,1,0,1,1,1,1,0,1,0,1,1,0,1,1,0,0,0,0,1,0,1,1,0,1,1,0,0,1,1,1,0,0,1,1,1,0,0,0,1,1,0,0,1,0,0,1,0,0,1,1,1,1,0,1,1,1,1,1,1,1,1,1,1,0,1,0,0,1,0,1,0,1,0,1,0,1,0,1,1,1,1,1,-1,1,0,1,1,1,1,1,1,1,1,0,1,1,0,1,1,1,1,1,1,1,1,0,1,1,1,1,0,1,0,0,1,0,1,1,0,1,1,0,1,1,1,0,0,1,1,0,1,0,1,1,1,0,0,0,1,0,1,1,2,0,0,1,2,1,1,0,0,1,1,0,1,0,1,0,1,1,1,0,0,1,1,1,0,1,1,1,1,1,0,1,0,0,1,0,1,1,1,1,0,1,1,-1,1,1,1,0,1,0,1,1,1,1,1,0,1,0,1,0,0,-1,0,0,0,1,0,0,1,0,1,1,0,1,0,1,1,1,1,0,1,1,1,1,1,1,0,1,1,0,0,0,0,1,1,1,0,1,1,1,1,1,1,1,-1,1,1,0,1,1,0,0,1,0,1,1,1,0,0,0,0,0,1,1,0,1,1,0,1,1,0,0,0,1,0,1,1,1,0,1,0,1,0,1,1,1,1,1,1,1,1,1,1,1,1,1,1,1,0,1,0,1,1,1,1,1,0,0,0,1,0,0,1,1,1,1,1,1,1,1,1,0,0,1,1,1,1,1,1,0,1,1,0,1,0,1,1,1,1,1,0,1,1,1,1,1,1,1,0,1,1,0,1,1,0,1,0,1,1,1,0,1,0,0,0,1,1,1,2,1,1,1,0,0,1,1,0,1,0,0,1,0,1,0,1,1,-1,1,1,1,1,0,1,0,1,-1,0,1,1,1,0,0,0,0,0,1,0,1,1,1,0,1,1,1,0,0,1,1,1,0,1,0,0,0,1,1,1,1,0,1,1,1,1,1,1,1,1,0,0,0,0,1,0,0,0,0,0,1,0,0,1,1,1,1,1,1,1,0,1,1,0,1,0,0,1,1,1,1,1,1,1,0,1,0,0,1,1,1,1,1,1,0,1,0,1,0,1,0,1,0,1,1,0,1,1,0,1,1,1,1,1,0,1,1,1,1,1,0,1,0,1,0,1,0,1,0,1,1,1,0,0,1,1,1,1,-1,0,1,0,1,1,0,0,1,1,1,0,1,0,1,0,1,0,0,0,1,1,1,0,1,0,0,1,1,1,1,0,1,1,1,1,1,1,1,-1,1,0,1,0,0,0,1,0,1,-1,1,1,1,1,1,0,0,1,1,1,1,0,0,0,0,1,0,1,1,1,1,1,1,0,0,1,0,0,0,0,0,0,0,1,1,1,1,1,1,1,1,1,0,0,1,-1,1,1,1,1,1,0,0,1,1,1,0,1,1,0,0,0,1,0,1,1,0,-1,0,1,1,0,0,-1,0,0,1,1,1,1,1,1,0,1,0,1,1,0,0,0,0,1,1,0,1,1,1,1,1,0,1,0,0,1,0,0,0,0,1,1,1,1,0,0,0,1,0,1,0,1,1,0,1,0,1,0,1,0,1,0,1,1,0,0,1,-1,1,0,1,0,0,1,0,1,1,0,1,1,1,1,0,0,1,1,1,1,0,1,0,1,0,1,0,1,1,0,1,0,0,1,1,1,0,1,1,0,0,0,1,0,1,1,0,1,1,1,0,0,0,-1,1,1,1,0,1,0,1,1,1,0,1,0,1,0,1,1,0,1,1,0,1,1,1,1,1,0,0,1,1,0,1,0,1,1,0,0,1,0,1,1,1,1,1,0,1,1,1,1,1,1,1,1,0,1,1,-1,1,0,1,0,0,1,1,1,1,1,0,1,1,1,1,0,1,1,1,1,0,0,1,1,0,1,0,1,1,0,-1,1,1,1,1,1,1,0,0,1,1,0,1,1,-1,1,1,0,0,1,1,1,1,-1,0,0,1,1,1,1,0,0,0,1,1,1,0,1,-1,0,0,0,1,0,1,1,0,1,0,0,1,1,1,1,1,1,1,1,1,1,1,1,0,1,1,1,1,0,0,0,0,1,1,0,1,1,0,1,1,1,1,1,1,0,1,1,1,0,1,1,1,0,1,1,1,0,1,0,1,1,1,1,1,1,1,1,0,1,0,0,1,0,0,1,0,1,1,1,0,1,1,0,0,1,1,1,1,1,1,0,1,1,1,-1,-1,1,1,1,1,1,1,0,1,1,0,0,1,1,0,0,0,1,0,1,1,1,0,0,0,1,1,0,1,0,0,1,1,1,1,1,1,1,1,0,1,1,1,1,1,0,1,1,1,0,1,-1,0,1,1,0,0,0,1,1,0,1,1,1,1,1,0,0,0,1,0,1,1,0,1,1,0,1,1,1,1,1,1,0,1,1,1,0,1,1,0,0,0,0,1,0,1,0,1,1,0,1,0,0,1,0,1,1,0,1,0,0,0,1,1,1,1,1,0,1,0,0,1,1,1,1,1,1,0,1,1,1,1,1,1,1,0,0,-1,1,1,1,1,1,1,1,0,0,0,1,1,1,0,0,1,1,0,1,0,0,1,0,0,-1,1,0,1,1,1,0,1,0,1,1,0,0,1,1,1,0,-1,0,1,1,0,0,1,0,1,1,1,1,0,1,1,0,0,1,1,1,1,1,1,1,1,1,1,1,1,-1,1,1,1,0,0,1,0,1,1,1,1,1,0,-1,0,1,1,1,0,1,1,1,1,1,1,1,1,1,1,1,1,1,1,1,0,1,0,1,0,1,1,1,0,1,1,1,1,1,1,0,0,0,1,0,1,1,1,1,1,1,1,0,1,1,0,0,0,0,0,1,0,1,1,0,1,1,0,0,1,1,0,1,1,1,1,-1,1,1,1,1,1,1,1,1,1,1,1,0,0,1,1,0,0,1,1,1,1,1,1,1,1,1,1,0,1,0,1,1,-1,0,1,1,1,1,0,0,0,0,0,1,0,1,1,1,0,0,0,1,1,1,1,1,0,1,1,-1,1,1,1,1,0,0,1,1,1,1,1,1,1,1,0,1,1,1,1,1,0,1,1,1,1,0,1,1,0,1,1,1,1,1,1,1,0,0,0,1,0,1,1,0,1,0,1,0,0,1,0,1,1,0,0,1,1,0,1,0,1,1,1,-1,0,0,0,1,1,0,0,0,1,1,1,0,1,1,1,1,1,1,0,0,0,0,1,0,1,1,1,0,1,1,1,1,0,0,0,1,0,1,1,0,-1,1,0,1,1,-1,1,1,0,0,1,0,1,1,1,1,0,1,1,0,0,0,1,0,0,1,1,1,1,-1,1,0,1,0,0,1,0,1,1,1,0,1,0,1,1,0,1,1,1,1,0,1,0,0,0,1,0,0,0,0,1,1,1,1,1,1,1,1,0,1,1,0,1,0,1,0,1,0,1,0,1,0,1,0,1,-1,1,1,1,1,1,0,0,0,0,1,1,1,1,0,1,1,1,1,1,1,1,0,1,0,1,0,1,0,1,0,1,0,1,-1,1,1,0,1,0,1,0,1,0,0,1,1,1,0,0,1,0,-1,1,1,1,1,1,1,1,1,0,1,1,1,1,0,0,1,1,1,0,1,1,1,1,1,1,1,1,1,1,0,1,0,1,1,0,0,0,1,0,-1,1,0,-1,1,0,-1,1,0,1,1,0,1,0,1,1,1,1,1,0,1,1,0,1,0,0,1,1,1,1,1,1,1,1,0,0,1,1,1,1,1,0,1,1,1,1,1,1,1,1,1,1,1,0,0,1,0,0,0,1,1,1,0,1,1,1,1,0,1,1,1,0,0,1,1,1,1,1,1,1,1,0,1,1,0,1,0,0,1,0,1,1,1,0,1,1,0,0,0,1,0,1,1,0,1,1,1,1,1,1,0,1,1,0,1,1,0,0,1,1,0,1,1,0,0,1,1,1,0,1,0,1,1,0,1,1,0,1,0,0,1,0,1,1,0,1,0,1,0,1,1,0,0,1,1,0,0,1,1,-1,1,0,0,0,1,1,0,1,1,0,1,1,1,0,1,1,1,0,0,1,1,1,1,0,0,0,0,0,0,0,1,1,1,1,1,1,-1,0,0,1,-1,1,0,1,1,0,1,-1,1,0,1,1,1,0,0,1,0,1,1,1,1,-1,1,1,1,-1,1,1,1,0,0,0,0,-1,1,0,1,1,1,1,1,1,1,0,1,0,1,0,1,1,0,1,0,0,1,1,0,1,0,0,1,0,1,1,1,1,0,0,1,1,1,1,1,0,1,0,1,1,0,0,1,1,1,0,0,1,1,1,1,0,1,1,1,1,1,0,0,1,1,1,1,1,0,0,1,1,1,1,1,1,1,0,1,1,0,1,1,1,1,0,0,1,0,1,1,1,1,1,0,0,1,1,1,0,0,0,0,1,1,1,0,1,0,0,0,1,0,1,0,0,0,1,0,1,0,1,0,1,1,1,0,0,1,1,1,1,1,1,1,1,1,1,1,0,1,1,1,1,1,0,0,1,1,1,1,0,1,0,1,0,0,1,1,0,1,1,1,0,1,1,1,0,0,1,1,0,1,1,1,1,1,1,1,-1,1,1,1,1,1,1,1,1,1,0,1,0,1,0,1,0,1,1,0,1,1,1,1,1,0,0,1,-1,1,1,1,1,0,0,0,1,0,0,1,0,1,1,0,1,1,0,1,1,1,0,1,0,0,1,1,1,0,0,1,1,0,1,0,0,1,1,0,0,0,1,1,1,1,1,1,0,0,0,1,0,0,0,1,0,0,1,1,0,1,1,1,1,1,1,1,0,1,0,1,1,1,0,0,1,1,0,1,1,0,1,1,1,1,1,1,1,1,1,1,1,1,1,0,1,1,1,1,0,1,1,1,0,0,0,0,1,1,1,0,1,1,0,0,0,1,1,1,1,0,0,1,1,0,1,0,0,0,1,0,0,1,1,1,1,1,1,1,1,1,1,1,0,1,1,0,1,0,1,1,1,0,0,0,-1,1,1,1,0,1,1,1,0,1,1,1,1,1,0,1,0,1,0,0,1,1,1,1,1,1,0,1,0,1,1,0,1,1,1,1,0,1,1,0,1,1,0,1,0,0,1,1,1,1,1,1,1,1,0,1,1,1,1,1,1,0,1,1,1,1,0,1,0,1,1,1,0,1,1,1,1,1,1,0,1,1,1,1,1,0,0,0,0,0,1,0,1,1,0,1,1,1,0,0,0,0,1,1,1,0,1,0,1,1,1,1,0,1,1,1,0,0,1,1,1,0,1,1,0,1,0,1,0,0,0,1,1,0,0,1,1,1,0,0,1,1,1,0,1,1,1,1,1,1,1,0,0,0,1,1,1,0,0,1,0,0,1,0,1,0,1,1,0,0,1,0,1,0,1,0,0,1,1,1,0,1,1,1,1,0,2,1,0,1,1,1,1,0,0,0,0,1,0,1,0,1,0,1,1,1,1,1,1,1,0,1,0,1,1,0,0,0,0,1,1,0,0,1,1,1,1,1,1,1,-1,1,1,1,0,1,1,1,1,1,1,0,0,0,0,0,1,1,0,1,1,0,1,1,1,1,0,1,0,1,1,1,1,1,0,1,1,1,0,0,1,0,1,1,1,1,0,1,1,1,1,1,1,0,1,1,0,0,1,1,0,1,1,-1,0,1,1,0,1,0,2,1,1,1,1,1,0,0,1,1,0,0,1,0,1,1,1,1,1,1,1,1,1,1,1,1,1,1,0,1,1,0,0,0,0,1,0,0,1,1,1,1,0,1,0,1,0,1,0,1,1,1,1,0,1,0,1,1,0,1,1,0,1,0,1,1,1,0,1,1,0,0,1,1,1,1,0,1,1,1,1,0,1,1,1,1,1,1,0,0,1,1,1,0,1,1,0,1,0,0,1,1,1,1,1,1,0,0,0,1,1,1,1,1,0,0,1,1,1,1,1,0,1],\"coloraxis\":\"coloraxis\",\"symbol\":\"circle\"},\"mode\":\"markers\",\"name\":\"\",\"showlegend\":false,\"x\":[1,8,8,1,1,6,4,5,1,2,1,5,1,2,5,1,2,2,1,1,2,6,2,18,3,2,1,2,5,1,1,5,3,5,2,1,4,1,1,6,1,13,3,17,1,3,11,3,2,2,6,1,6,1,2,4,9,1,2,13,4,1,7,1,5,1,4,2,1,2,10,1,1,7,1,1,2,2,2,17,1,4,4,2,16,3,2,1,24,1,4,1,1,1,1,36,3,9,1,2,4,6,1,3,3,14,1,1,5,5,3,9,1,1,1,3,2,5,6,2,5,4,1,1,11,4,3,1,1,5,2,2,5,4,8,1,9,2,8,9,1,1,1,2,5,1,1,6,4,14,3,4,1,1,7,1,2,2,5,1,2,1,5,4,1,1,6,1,2,3,9,1,1,1,1,7,2,1,4,9,2,5,1,9,2,2,7,3,1,12,6,2,4,1,2,2,6,2,11,2,3,6,3,3,4,1,4,1,1,1,1,1,6,8,6,3,1,1,2,2,1,5,2,2,1,7,1,1,1,4,3,4,1,6,1,1,1,18,6,1,4,11,1,2,1,2,1,3,7,4,2,3,2,7,1,4,1,1,1,6,7,4,7,4,1,5,1,9,2,9,2,2,1,2,1,2,12,2,4,4,4,1,4,2,6,23,2,2,7,2,1,4,7,1,2,4,1,2,2,1,4,3,5,4,3,1,10,1,2,3,4,2,9,1,1,3,3,3,3,17,7,1,1,2,1,4,3,1,5,1,1,3,4,2,2,2,2,5,3,4,2,1,11,1,19,2,1,3,1,4,1,1,10,4,4,1,2,2,2,1,2,10,2,4,2,1,1,2,2,6,1,1,4,11,8,2,1,9,3,1,2,6,2,5,3,15,3,4,3,3,1,1,19,10,2,3,1,3,20,4,1,4,6,2,1,1,4,1,4,3,1,1,8,1,1,2,1,1,10,5,2,1,2,4,1,8,2,4,1,2,1,15,5,2,1,8,2,1,1,3,10,1,5,1,4,1,2,5,7,7,3,1,13,14,3,2,2,1,1,2,5,2,1,6,3,2,1,2,4,1,4,10,5,1,3,2,4,1,1,1,1,3,2,2,2,3,1,4,1,3,2,1,2,3,4,1,1,3,1,3,2,2,1,4,3,2,3,6,4,1,1,1,6,1,6,2,3,11,1,1,4,2,2,1,4,11,8,1,4,2,2,4,1,30,9,2,3,2,8,2,1,5,3,1,1,1,6,1,8,1,2,6,1,4,2,1,1,1,2,2,1,5,1,1,1,4,1,2,1,4,13,4,3,5,4,17,1,2,1,1,9,5,3,1,5,1,1,1,2,1,3,6,1,3,1,1,7,2,4,2,30,4,6,1,10,1,1,2,1,1,5,1,6,1,2,1,1,3,6,6,1,1,2,9,3,1,4,6,2,3,1,4,11,1,8,3,5,3,1,1,2,6,5,1,2,1,2,3,4,5,7,1,1,2,2,2,7,2,1,1,3,1,8,2,1,15,4,2,2,4,1,1,5,1,1,3,2,5,1,8,3,1,2,1,1,1,2,1,3,7,2,5,6,2,7,16,1,1,8,1,1,2,1,11,6,1,1,3,9,3,1,5,1,2,5,4,1,1,5,3,3,1,13,1,2,2,1,1,13,1,1,2,1,2,1,2,1,3,8,1,3,1,3,1,1,5,4,2,4,2,5,1,12,1,2,11,2,17,1,1,9,1,1,1,6,1,1,1,11,1,1,4,1,1,1,3,4,1,1,9,5,15,6,5,1,12,8,3,11,3,1,2,2,1,3,2,1,2,7,1,7,1,4,10,3,9,2,2,3,1,3,1,1,1,1,1,2,2,1,1,1,1,3,1,1,1,2,1,14,1,1,1,2,1,8,4,1,2,4,5,1,2,3,1,1,9,1,2,1,1,7,2,3,1,1,2,10,4,1,1,4,5,10,2,1,1,2,3,5,4,2,2,1,2,7,1,3,1,4,2,1,1,46,1,1,4,1,1,2,3,2,2,10,3,1,1,1,3,1,6,1,1,1,4,3,1,2,1,1,1,2,8,6,3,1,5,8,1,4,2,1,4,3,4,4,2,1,1,1,1,3,14,6,6,6,1,5,5,2,1,2,5,1,2,1,1,1,1,4,1,1,2,2,1,15,2,10,17,3,5,11,3,2,1,2,1,6,2,1,8,3,1,2,8,4,5,1,3,5,1,3,7,1,5,6,45,11,1,10,5,1,6,19,1,11,2,6,1,3,5,6,3,1,11,3,1,1,5,6,5,4,2,1,21,1,2,2,4,1,1,6,5,2,2,2,1,5,3,24,3,4,1,4,5,8,1,1,1,5,2,2,1,12,1,5,14,6,2,2,3,3,3,1,1,16,6,1,1,7,7,10,1,1,2,2,2,1,1,1,2,1,1,3,5,7,4,7,2,4,1,3,4,6,1,4,4,1,1,6,2,22,2,16,2,1,4,5,5,2,1,2,3,1,1,2,2,2,5,1,1,1,2,3,1,2,2,1,1,7,2,2,3,2,2,7,1,193,2,1,1,1,4,5,1,1,2,2,3,1,2,1,2,4,1,3,4,9,54,2,1,3,1,1,2,9,2,1,1,2,2,1,1,4,1,3,1,1,2,4,14,3,3,8,1,10,2,4,6,4,11,1,1,1,1,2,2,2,4,1,8,3,1,1,2,1,4,1,2,1,10,8,1,80,4,3,2,1,4,5,2,1,1,1,6,1,1,1,11,3,1,1,4,1,1,2,1,2,1,1,1,1,25,1,4,1,1,1,10,1,1,4,1,3,5,1,2,3,1,39,1,7,5,1,11,1,1,2,10,2,3,1,18,10,4,3,2,4,3,1,5,2,3,1,18,1,1,6,1,1,1,2,1,1,3,2,11,1,1,7,1,1,1,5,2,3,4,15,3,8,3,1,1,10,13,7,2,2,13,1,11,3,2,5,3,13,3,1,3,1,4,1,1,7,2,2,1,5,3,27,4,1,2,4,1,4,4,1,2,1,2,1,3,2,1,4,3,1,1,1,6,5,1,3,7,3,1,2,5,3,2,1,3,2,1,4,7,3,1,14,10,2,5,4,3,1,2,4,1,1,7,2,2,3,1,2,1,8,1,10,1,2,1,2,1,1,1,4,11,1,2,15,5,1,1,2,7,1,4,25,20,1,1,2,5,13,4,1,11,1,2,12,1,1,7,1,8,4,1,1,3,1,26,1,2,3,7,1,1,1,1,4,1,4,1,2,1,1,1,3,1,4,7,3,4,1,3,2,7,1,7,15,1,40,1,20,1,1,2,1,2,4,1,31,8,2,1,2,2,1,11,1,2,4,1,10,2,1,4,3,5,1,1,2,6,1,1,6,3,2,1,4,9,6,3,8,12,5,4,6,5,2,1,2,3,4,4,6,3,1,9,6,2,2,3,3,5,1,5,2,1,1,2,1,4,1,6,123,2,5,5,1,5,1,12,1,5,6,2,3,1,24,1,4,7,1,9,4,1,1,1,1,2,1,7,2,1,4,19,1,1,2,12,5,1,1,2,7,6,1,1,1,4,4,1,1,13,1,1,2,1,1,5,2,2,2,1,2,7,2,6,2,3,3,2,2,3,1,5,1,1,15,1,5,1,4,1,4,1,4,1,2,2,2,4,9,3,8,1,7,5,23,26,2,7,9,2,1,2,2,1,3,4,2,3,6,3,2,4,1,2,4,3,8,1,5,1,1,2,1,22,3,1,2,10,1,2,7,4,1,1,2,7,1,2,1,2,4,6,1,1,1,2,1,4,7,1,1,1,13,1,5,6,1,1,7,3,1,3,1,3,1,3,2,26,1,1,2,26,3,1,11,4,2,5,4,1,3,1,1,2,1,4,5,2,5,1,2,5,4,3,2,2,1,3,1,8,10,3,2,11,1,2,1,15,1,1,34,1,1,1,10,1,1,6,1,2,3,1,7,1,2,3,3,3,1,2,5,5,3,6,21,1,3,9,1,1,1,1,6,2,28,1,3,2,10,5,2,3,4,7,7,21,1,5,3,1,1,2,1,9,7,4,1,1,1,1,1,3,3,1,2,2,1,3,2,1,1,1,3,1,7,18,19,1,2,1,3,1,2,2,8,3,4,2,7,9,7,3,8,5,17,11,2,1,2,1,3,2,8,2,24,1,1,1,4,1,1,5,10,3,4,10,16,6,6,4,1,1,4,7,3,9,3,3,1,3,2,1,2,1,8,2,6,5,2,1,3,3,3,2,4,7,4,1,7,25,1,3,3,1,5,1,7,2,9,1,2,1,1,1,7,3,3,1,2,5,2,1,1,10,13,1,2,1,1,20,1,3,1,2,4,52,23,3,8,2,1,3,1,3,1,1,7,2,9,1,1,1,1,1,6,1,8,4,3,1,2,2,2,1,1,3,7,8,1,4,1,1,1,10,3,10,2,1,6,2,2,6,3,2,12,2,1,1,1,1,8,1,1,1,1,1,2,1,1,6,2,3,6,2,2,8,1,3,4,1,2,1,1,2,3,9,3,9,2,3,1,4,1,1,4,5,2,3,7,2,1,3,1,2,1,6,1,4,1,2,3,1,4,12,1,4,2,2,19,2,1,5,4,2,2,2,1,4,1,2,1,3,1,2,1,3,2,10,1,1,3,5,4,3,4,1,12,1,2,2,1,1,8,2,2,1,2,1,4,1,2,1,1,1,2,2,2,1,2,1,1,2,3,2,2,1,2,8,2,3,2,5,6,1,3,1,5,1,1,1,7,1,3,4,10,3,2,2,6,1,1,17,4,4,2,1,1,1,1,10,1,2,2,3,2,4,3,1,1,8,1,1,1,1,1,1,1,2,14,2,5,3,26,3,2,3,1,1,16,17,3,2,10,7,2,1,1,2,13,4,1,2,4,1,1,1,3,1,4,3,1,7,1,4,4,1,1,2,1,1,2,16,4,4,5,2,1,4,1,3,2,1,1,1,1,2,7,1,3,8,2,2,13,1,4,1,1,4,1,1,1,1,5,28,3,6,1,1,1,3,1,2,1,8,26,1,3,1,15,1,2,1,5,1,4,9,1,1,4,4,9,1,11,1,1,11,1,6,4,1,6,4,2,2,1,1,5,2,5,7,1,2,1,8,1,6,1,20,3,1,2,1,1,2,11,2,1,4,18,1,1,1,6,1,4,2,1,3,9,2,1,1,1,1,4,7,2,1,2,1,2,2,2,1,3,1,7,1,16,6,1,3,3,1,2,8,3,8,3,1,1,5,26,1,5,1,6,6,1,1,28,1,9,4,2,2,5,1,4,4,2,3,21,2,2,2,1,3,2,1,15,1,7,1,1,5,4,3,2,7,1,4,4,2,3,1,4,14,2,3,1,1,4,2,1,9,1,5,2,1,1,24,2,6,2,2,2,1,1,2,2,1,3,4,3,5,37,1,1,3,2,5,6,5,1,1,6,2,10,3,1,1,1,2,5,3,1,10,1,1,1,1,3,1,2,4,1,4,1,1,21,2,3,2,6,2,8,7,4,6,2,9,1,12,2,16,15,1,1,1,1,4,4,1,15,26,1,2,3,3,5,3,4,1,2,4,5,1,7,8,5,1,3,7,3,1,8,1,4,4,2,2,2,12,2,12,1,5,1,1,31,1,1,3,1,2,6,2,1,2,2,1,1,9,2,5,2,3,4,1,6,5,3,1,91,2,2,2,2,4,18,1,2,8,1,1,2,5,1,1,1,5,1,2,4,4,1,1,1,3,2,1,2,1,1,4,3,8,3,4,6,3,6,1,9,2,3,3,2,1,7,2,2,1,13,11,1,4,5,1,1,1,4,16,1,3,2,3,4,2,1,1,1,4,1,7,3,1,11,4,1,2,19,30,4,2,3,1,2,3,2,1,7,14,1,1,1,1,2,1,2,1,5,39,1,8,1,1,3,1,3,2,1,2,1,1,1,5,2,2,3,3,1,2,1,1,5,2,17,4,13,15,1,2,2,2,7,4,2,25,1,1,3,10,33,14,2,4,24,2,1,1,1,2,4,2,1,1,2,4,1,2,1,1,3,1,1,8,3,1,5,12,2,1,5,1,6,16,1,1,3,2,28,1,78,1,2,2,1,1,6,1,5,2,2,5,1,4,2,1,1,14,4,13,7,9,3,2,2,25,3,18,4,7,3,2,15,1,1,7,1,11,14,6,3,2,1,41,1,3,3,3,1,4,2,2,5,2,2,5,13,2,3,2,6,5,2,2,1,5,1,5,1,2,3,5,1,4,8,2,13,11,2,1,1,1,4,1,3,4,2,2,3,2,11,1,4,3,1,1,1,1,1,9,1,10,2,1,4,2,1,1,4,7,1,2,2,7,2,37,4,6,2,6,8,8,2,9,3,5,2,1,1,2,2,1,1,4,6,3,2,31,12,2,14,2,4,1,16,1,3,2,11,1,3,19,7,8,1,1,1,1,1,2,1,3,3,12,1,1,1,3,8,2,3,7,1,4,2,2,7,4,5,2,1,1,10,2,3,4,2,2,3,3,1,8,7,2,20,4,1,13,3,2,2,1,4,6,1,3,2,36,22,2,4,3,1,1,1,2,1,3,7,1,10,1,6,1,1,8,1,4,4,1,1,2,5,1,3,1,2,11,2,1,1,1,1,2,3,1,1,1,9,4,2,1,3,2,4,5,3,3,1,1,1,1,4,1,4,17,2,1,6,5,4,2,1,1,1,7,1,9,3,1,4,5,1,12,6,17,3,2,1,1,2,1,4,11,6,4,1,2,26,1,1,1,2,1,1,4,2,7,9,7,7,1,7,1,1,22,1,4,11,4,1,6,1,3,2,1,21,3,2,2,1,5,1,1,1,6,1,1,1,1,13,9,10,4,2,4,2,4,1,8,12,1,2,1,24,1,8,1,3,1,7,1,4,1,2,9,3,6,3,4,8,1,1,1,1,3,2,5,5,1,3,4,5,4,4,7,2,1,2,1,3,1,15,1,16,1,18,1,34,1,4,5,1,2,1,3,1,2,1,1,21,2,2,1,1,15,1,1,25,2,7,2,17,6,4,2,1,17,4,3,2,1,1,4,2,9,1,3,8,8,2,6,7,2,19,2,5,1,3,1,5,5,1,1,1,5,1,197,5,1,2,6,1,1,4,1,3,2,1,3,1,5,3,6,2,6,1,7,4,1,10,1,1,5,2,6,11,5,3,2,2,1,1,2,3,3,2,14,1,8,5,6,2,3,3,3,14,7,3,3,1,1,3,1,1,1,2,7,5,1,7,2,5,3,1,13,21,4,1,1,2,4,6,4,4,13,3,2,1,2,6,1,18,1,1,4,1,6,37,4,1,9,2,1,1,1,5,1,3,2,1,2,2,7,4,2,5,1,4,6,1,2,2,1,1,3,7,1,4,5,1,1,16,3,2,1,4,1,3,2,1,3,2,1,5,1,1,3,1,2,2,1,5,1,2,1,5,29,1,1,2,3,1,1,2,2,1,4,1,1,1,8,2,1,2,2,1,8,6,3,1,4,2,4,1,1,8,2,15,5,1,1,1,1,1,1,1,2,3,2,3,2,4,6,1,1,2,12,4,1,4,3,1,3,2,8,1,2,6,2,1,1,3,1,2,7,2,13,1,2,4,3,2,3,3,4,1,1,1,1,90,12,1,2,7,12,2,2,3,2,1,4,1,10,1,2,2,1,8,1,1,4,18,1,3,1,1,5,1,3,2,2,2,1,1,3,3,2,4,4,1,2,1,2,4,1,1,3,2,28,1,1,4,2,2,16,1,2,2,6,6,8,1,1,5,4,3,4,2,1,1,3,9,11,20,2,3,2,1,3,13,1,6,8,8,2,1,1,3,1,4,4,4,3,2,1,1,5,6,10,1,1,1,1,5,11,2,1,17,1,1,1,6,1,6,1,1,1,3,1,17,1,2,1,3,2,4,1,1,3,2,2,9,9,4,3,3,9,6,3,1,3,6,4,4,4,1,1,2,18,3,2,1,8,1,4,1,1,4,11,1,2,3,4,1,6,6,5,1,1,4,3,1,8,2,2,9,11,3,2,2,3,2,3,4,2,3,6,2,2,1,6,1,4,1,4,1,3,2,1,3,2,5,3,2,1,1,2,4,5,2,6,3,1,1,1,3,1,1,2,1,2,5,1,18,16,1,3,3,9,1,7,1,1,5,2,3,1,1,3,37,1,3,1,1,3,3,1,1,1,6,21,2,4,2,3,1,1,1,5,1,1,1,9,1,1,3,4,1,2,2,5,4,4,5,2,1,4,1,3,2,3,1,1,2,12,1,5,5,1,6,7,2,5,5,2,2,4,2,2,11,2,2,1,4,3,4,10,1,4,10,3,1,1,1,1,3,7,5,1,2,2,1,1,1,3,11,6,3,1,1,7,2,1,7,1,1,1,17,1,1,2,2,4,3,2,4,2,2,3,7,5,1,8,3,1,4,1,2,3,19,1,1,1,1,3,6,6,1,2,2,4,1,3,3,12,2,2,1,6,1,4,1,1,17,3,2,2,8,9,1,3,1,2,2,1,14,5,3,9,1,4,4,1,2,2,1,3,1,1,4,4,2,4,8,3,2,2,1,2,2,2,3,2,2,1,2,3,11,5,1,3,1,5,6,14,1,2,2,2,3,4,6,1,2,4,4,8,3,1,1,1,1,1,3,1,5,2,1,5,7,2,1,1,1,1,8,3,3,1,9,1,5,14,7,6,1,9,12,4,1,1,5,2,3,1,3,4,1,2,1,6,1,1,1,4,3,1,1,13,6,4,1,1,3,4,6,1,2,2,3,7,3,7,4,1,1,1,2,3,8,1,1,5,1,1,2,1,2,1,2,10,1,1,2,1,2,1,3,1,1,2,7,2,1,2,3,9,4,1,1,6,1,3,3,3,3,1,1,1,1,2,1,4,1,3,1,3,8,2,17,3,3,12,1,2,1,2,7,1,1,1,1,3,5,1,1,2,2,2,2,4,2,3,1,2,3,3,1,3,3,3,7,13,5,1,1,1,1,1,4,5,1,2,2,1,3,5,2,2,1,2,1,2,2,2,5,2,1,8,2,2,1,1,6,1,4,6,8,3,1,4,6,4,3,2,2,1,2,2,1,1,8,2,1,2,7,4,1,3,4,1,9,1,1,4,12,3,13,2,1,1,3,6,1,1,13,1,5,3,3,6,5,3,5,5,3,2,3,2,2,2,1,2,2,1,1,1,1,10,1,1,2,8,2,10,1,9,1,4,1,3,1,7,5,8,5,1,2,1,7,6,1,3,2,1,25,1,7,2,5,1,15,2,1,1,3,3,4,3,1,2,8,4,3,1,3,3,4,5,3,4,1,1,3,2,11,1,3,2,1,2,1,1,4,2,2,5,6,6,1,1,1,3,4,2,3,9,1,1,7,2,4,2,2,1,2],\"xaxis\":\"x\",\"y\":[217.02,2743.43,1497.1399999999996,94.36,82.02,1906.61,414.7600000000001,1125.9599999999998,230.94,958.93,226.03000000000003,442.57,30.6,315.66,543.6200000000001,91.44,386.79,280.20000000000005,58.25,138.93,398.6000000000001,2721.359999999998,299.3999999999999,4012.62,390.05000000000007,737.2200000000001,342.37,42.44,1984.6400000000003,646.34,303.6599999999999,913.82,213.88000000000005,1628.8700000000006,773.8699999999999,242.6,902.0200000000002,97.5,273.45000000000005,964.8,260.36000000000007,3025.840000000001,2850.5300000000007,5265.910000000006,141.41,1560.3799999999994,2173.0099999999998,772.25,586.2899999999998,268.1999999999999,1960.0300000000016,48.8,818.64,283.05000000000007,1212.9499999999998,206.85,4315.920000000001,230.39,650.77,5344.040000000002,711.7099999999999,161.49,1632.86,113.86,876.0699999999999,480.0200000000002,2144.669999999999,541.53,216.39,670.91,7116.689999999995,87.76,45.4,1750.7400000000007,87.68,403.2099999999999,198.46,119.4,404.73,6826.930000000001,152.20000000000002,1051.61,3042.26,372.22,3804.939999999999,701.8399999999998,763.2,112.46,7926.010000000006,219.81000000000003,2135.3900000000003,43.2,79.64999999999999,6.959999999999999,80.8,7636.659999999993,272.1,2176.88,208.03000000000003,498.5499999999999,2544.0700000000006,1560.45,62.7,351.00000000000006,1350.6200000000017,5198.569999999993,101.4,103.53,1141.9599999999994,2879.15,798.74,2545.3400000000006,100.9,66.42,371.8,1839.49,528.71,795.28,818.5300000000002,332.64,764.04,565.3300000000002,30.0,169.95,3262.4999999999973,2636.8100000000004,724.5400000000003,640.2400000000004,158.04000000000002,1819.27,495.2,325.99999999999994,2365.83,1155.38,3226.9,96.3,4018.510000000001,210.24000000000004,1086.5800000000002,1996.2200000000005,298.25,158.95000000000002,82.23,1789.9399999999996,720.83,178.62999999999997,257.1499999999999,1025.9400000000005,1102.85,2060.6700000000005,651.1000000000003,2029.0600000000009,210.6,35.400000000000006,2032.9000000000003,306.0,726.0999999999999,912.9099999999996,1227.1999999999998,391.14,376.0700000000001,160.36,959.6800000000004,616.6999999999999,121.89999999999998,66.4,3462.6899999999987,323.1,392.45,120.0,2422.9500000000003,180.63,294.4,117.0,137.9,1276.6999999999991,206.06,383.57,532.1199999999997,1766.4500000000005,482.9500000000001,1322.109999999999,712.46,6021.229999999998,79.95,599.8400000000001,2266.4299999999985,820.2000000000002,427.93000000000006,2015.51,899.04,571.49,2250.6400000000003,96.8,215.82,251.23999999999995,2358.5899999999992,77.24000000000001,3472.72,501.9,483.73,1534.7100000000005,102.45,631.0899999999999,884.03,111.0,1372.9100000000003,139.8,81.6,63.0,91.07,64.0,1582.4499999999996,2171.15,1265.0600000000002,64.60000000000001,110.4,75.35000000000001,771.7,331.86,101.7,2408.5099999999998,670.5,358.06,109.13,3314.7300000000005,41.75,201.2,95.29,859.7100000000002,934.69,411.1,195.44999999999996,2014.0299999999995,20.8,81.75000000000001,259.17,3704.690000000001,763.4199999999998,251.28000000000003,899.2200000000003,1786.670000000002,210.30999999999992,469.9799999999999,344.8,551.9899999999999,561.94,1388.46,5052.0300000000025,216.19,525.81,747.23,120.54,1795.5600000000009,356.1700000000001,837.1300000000001,229.47,219.62,133.73,1948.1899999999996,1236.59,1221.8499999999997,1430.71,1161.42,199.02,2181.5800000000004,654.0000000000001,2584.34,74.85000000000001,3050.7900000000004,457.47,557.13,33.45,279.61,220.67000000000004,697.88,1413.3100000000006,1040.08,1712.4900000000005,1370.33,1629.92,113.85,665.16,323.3,2261.9700000000007,5869.209999999989,1355.8199999999997,31.6,1446.489999999999,746.3600000000001,224.39,1062.78,2473.0399999999995,463.81000000000006,203.75,796.74,245.59000000000003,444.55,529.94,479.5900000000001,454.4099999999996,700.66,1549.8800000000006,580.2000000000002,566.8499999999997,128.91,3445.7000000000003,76.12000000000002,208.59999999999997,228.15000000000003,3322.580000000001,120.13,2056.1100000000006,99.6,392.18,984.87,465.4,846.1099999999998,445.8399999999999,2345.5400000000022,1211.8100000000002,63.3,29.300000000000004,612.4399999999999,289.64000000000004,852.5500000000002,2177.5,923.35,3083.479999999999,310.1,50.400000000000006,896.9700000000001,1465.51,321.00000000000006,498.00000000000006,273.7799999999999,332.46000000000004,1457.8100000000002,1200.1900000000005,1552.9899999999998,114.34000000000002,119.62,2685.359999999999,128.25,7699.980000000008,186.39,20.8,516.2899999999996,215.92,1626.8600000000026,312.85,511.82,1554.880000000001,1447.98,530.01,43.5,288.2,374.1600000000001,272.93000000000006,168.6,252.49,1499.0299999999995,956.1300000000002,588.3399999999999,1086.5600000000002,339.4800000000001,192.67000000000004,1468.5899999999997,191.50000000000009,4240.079999999998,204.24,248.85,206.25000000000003,8982.700000000004,1347.01,607.69,290.79,2289.89,331.03,223.36,263.34,625.0600000000001,121.0,363.42,1590.1900000000005,2230.290000000002,426.38,624.52,364.57,64.75,305.29,188.2,4613.870000000005,1385.5700000000006,931.1699999999996,201.54,3.95,297.6,6909.11999999999,1000.88,10.2,341.88,992.3399999999992,205.91000000000005,35.050000000000004,218.13,527.8700000000001,73.72,648.5600000000002,738.2100000000008,67.80000000000001,111.0,992.03,99.79999999999998,128.54,210.51,277.07000000000005,854.1200000000003,1640.4000000000024,1073.26,174.10000000000002,4.95,565.17,401.16,227.65,2012.2599999999995,905.0800000000006,1092.68,112.37,652.6600000000001,72.56,3295.3199999999983,799.4,332.91,324.50000000000006,1606.4399999999998,160.2,23.6,202.44,385.19999999999993,4227.1100000000015,7.6,847.2899999999998,818.6499999999999,620.4000000000001,121.41,2101.58,699.4499999999999,1821.58,2131.3499999999995,452.0999999999999,50.55,3979.479999999998,7973.329999999993,443.16000000000014,200.86,137.0,268.78,225.04,462.98,1178.3999999999987,521.48,221.97000000000008,1524.9599999999996,67.65,576.5,311.65000000000003,191.99000000000004,1281.11,46.9,104.1,4098.9400000000005,2737.7300000000005,60.3,433.9500000000001,591.9100000000001,967.2600000000002,149.44,111.2,132.59999999999997,773.2699999999996,726.94,262.2799999999999,1059.36,492.78,1042.4,122.59000000000002,3161.5800000000004,307.94,1286.28,439.86000000000007,221.06000000000003,215.59,678.5400000000001,336.47,227.82000000000005,137.75,495.7500000000001,189.75,742.7999999999997,471.6299999999999,416.55000000000007,143.1,796.03,1468.3099999999995,737.15,309.21,3675.300000000002,2566.02,486.62,162.8,168.73999999999998,1598.5199999999998,282.35,2112.460000000001,473.38000000000005,741.3000000000001,1296.0700000000002,404.4,288.62,910.87,179.04000000000002,358.75,311.42999999999995,158.55,912.15,2177.1900000000005,235.74000000000004,1406.1799999999998,245.66,361.5199999999999,1307.7400000000002,413.46,4300.249999999997,2362.7,240.22000000000003,1459.609999999999,599.02,2297.02,814.8,123.96,1211.84,398.1,72.8,346.7199999999999,338.41,416.48,101.14,1481.3900000000006,376.97,252.64999999999995,2794.96,161.95000000000002,3007.4599999999987,735.93,61.6,78.3,465.57,335.04999999999995,203.57,434.9799999999997,354.0499999999999,148.61,215.7,495.52000000000015,2176.8500000000004,75.89999999999999,231.86,111.05,1133.4,4800.460000000003,1067.9200000000003,743.77,949.5999999999996,771.8400000000003,1253.1300000000006,952.88,256.44000000000005,297.87,349.6,1761.15,748.6000000000004,450.9,46.92,1171.86,1300.4600000000005,455.44999999999993,117.40000000000002,239.30999999999997,28.5,4164.449999999999,1270.3400000000006,95.28,402.08,50.85,98.45,1803.7199999999996,788.1500000000001,1641.5899999999997,2300.811,4182.42,322.8,1041.2800000000002,183.05,2523.479999999997,116.56000000000004,19.8,342.35999999999984,45.6,113.5,1667.8300000000004,203.86,2119.84,371.89,1076.52,204.28000000000003,47.44,381.63999999999993,392.4199999999999,369.86000000000007,311.92,116.21,1472.5199999999993,2083.25,566.5799999999999,154.67,1738.2499999999995,1216.6199999999997,726.3900000000001,855.5499999999998,168.38000000000008,583.85,3641.2400000000007,81.60000000000001,1467.3200000000006,234.32,1346.74,768.97,779.68,293.09000000000003,321.89,787.58,982.5499999999998,60.55,473.25999999999993,2292.0,510.72000000000014,891.4599999999999,552.1700000000001,938.14,1946.36,608.5599999999997,177.57999999999998,129.81,147.83999999999995,432.26,1700.880000000001,218.25,131.07,173.89999999999998,430.85,266.76,1299.5500000000004,349.2,531.73,1162.3500000000004,1379.94,370.7300000000001,560.98,316.7199999999999,165.62,542.25,1095.2700000000004,51.0,105.84,57.33,355.1,287.28000000000003,108.98,2523.5300000000016,1057.45,443.42,397.88000000000005,309.52,65.13,297.6599999999999,338.21,117.35,237.64999999999984,1955.4699999999984,116.5,1511.3200000000002,1514.0,303.98999999999995,1154.7000000000005,7099.720000000003,255.3,76.5,820.0999999999998,139.59,325.3,232.16,577.3600000000001,2287.71,33.169999999999995,114.0,240.55,380.55999999999983,1470.3300000000002,997.85,1349.44,1505.3400000000004,20.8,285.79999999999995,1088.45,1785.8,10.08,257.24999999999994,1389.7799999999995,1159.2800000000004,492.78,706.18,3794.9899999999966,320.04,126.18,675.38,260.46,157.86,3350.18,391.72000000000014,297.33,915.0399999999996,239.0,738.5100000000001,139.55999999999997,636.13,183.39,1073.0700000000002,904.91,244.33,2787.22,177.66,960.76,128.84,227.96000000000004,2061.5599999999986,2054.2600000000007,854.4199999999996,1256.4900000000002,639.19,1085.74,55.95,1844.57,186.75,343.1899999999998,1277.91,795.51,4707.729999999998,125.65,144.35,1794.8199999999997,169.2,239.55000000000007,157.15,853.7800000000002,691.0500000000001,221.2,291.88000000000005,2661.2200000000003,225.45,32.85,690.98,70.08000000000001,2.95,87.62,1074.4599999999996,1722.63,342.16,96.2,1544.120000000001,499.33,2183.0400000000013,1159.21,1811.4700000000005,171.45000000000002,2013.8900000000017,434.6699999999998,757.8,4569.750000000001,110.54999999999998,138.15,193.85,411.7100000000001,203.7,623.0000000000001,306.8499999999999,69.71000000000001,259.35,1529.8700000000006,15.0,1604.0099999999998,277.12,1353.499999999999,1396.7699999999993,504.4199999999998,2555.6499999999987,125.0,218.1,379.5399999999999,84.77,560.74,241.98,482.93,508.80000000000007,335.3199999999999,147.35,681.7699999999999,396.81,478.46,222.96,327.45000000000005,99.4,275.36000000000007,292.47,288.78000000000003,215.17,342.8400000000001,121.98,3874.81,127.85,377.2999999999999,295.0,574.73,50.400000000000006,1591.4100000000003,398.22,35.7,185.0,592.9,1630.66,282.98,220.98,722.9200000000001,526.7500000000001,301.32000000000005,1259.39,176.95000000000005,798.1,56.4,335.52,2384.36,229.37000000000003,736.5600000000001,91.04000000000002,154.01999999999998,668.4800000000001,2646.259999999999,623.0699999999997,277.85000000000014,140.39999999999998,1307.23,297.58,3271.080000000001,1164.5200000000011,73.35,256.31999999999994,70.96000000000001,675.4500000000002,1407.13,1022.1999999999998,1044.6300000000003,97.2,263.74,104.48,2413.22,197.82,1823.1299999999997,95.69999999999996,1424.5999999999997,235.04000000000013,135.29999999999998,606.73,11901.919999999993,233.1,113.94,685.8000000000001,219.66,238.75,340.20000000000005,721.38,256.04999999999995,192.6,2287.150000000001,531.2200000000001,63.44000000000001,199.44000000000003,869.8700000000002,159.76000000000002,213.7,721.84,62.170000000000016,349.64,343.41,1728.5699999999997,627.8699999999995,111.69000000000004,532.36,229.64,284.90000000000003,223.95,860.0099999999999,2755.0599999999995,1542.5099999999995,668.0799999999999,206.13,649.76,2690.07,276.26,769.3799999999999,728.8600000000002,295.5,744.28,689.4600000000003,1630.2899999999995,703.38,552.0899999999999,305.79,397.58,104.12000000000002,79.2,961.3799999999998,7396.569999999997,1088.32,675.9099999999997,1278.4699999999991,202.6800000000001,1106.9300000000003,1177.25,112.8,259.04,175.63,1186.38,150.10000000000002,48.16,129.49,20.4,465.44,65.69999999999999,516.35,134.4,162.29999999999998,515.6200000000001,371.35,119.76,6863.230000000004,660.19,5424.709999999997,4417.529999999999,159.51,1206.8500000000008,3317.1599999999994,1120.83,321.68,246.16000000000005,278.83,12.65,1651.7599999999995,151.8,258.75,1036.95,545.2,186.90000000000003,494.44000000000005,1359.7999999999995,1233.12,1545.619999999999,38.4,105.4,917.1600000000002,288.3,426.5899999999998,2450.7200000000007,162.37,1739.7399999999998,1681.2500000000025,13964.119999999968,3478.5399999999977,274.23,2927.3700000000013,194.18,299.66,3170.070000000001,2420.0,748.8799999999999,2436.7600000000007,627.0200000000001,1637.3799999999994,133.15,226.03,1196.0700000000006,5218.739999999997,329.8,166.08,3106.88,1536.08,138.41,7.5,635.7700000000001,2664.6600000000003,651.7099999999999,619.0199999999999,577.8500000000001,752.8,9584.400000000009,416.5700000000001,665.64,457.8200000000001,1704.0299999999995,130.4,171.18999999999997,1151.1,1091.04,512.87,1319.92,429.12,95.13,1302.16,341.10999999999984,2557.92,759.0799999999999,1586.91,82.11000000000001,502.7099999999999,675.6799999999998,955.9299999999996,149.89999999999998,497.2099999999999,270.87,2321.370000000001,295.87000000000006,128.48,85.65,2354.8100000000004,263.7,1085.0100000000004,1652.250000000001,1586.0800000000006,165.0,420.61,2376.73,483.4200000000001,1562.7400000000002,314.22,211.83,2018.1400000000003,1069.55,6.959999999999999,99.14,2701.740000000001,1745.9900000000011,2534.95,538.1400000000001,67.95,891.34,913.1800000000002,235.8,262.2,265.11,17.0,110.60000000000002,299.70000000000005,48.0,405.63,1515.8999999999994,2880.8099999999986,1072.85,1178.7399999999998,646.81,506.0400000000001,69.65,714.16,1058.2599999999998,757.4399999999999,171.96,1270.0700000000006,637.2100000000002,6.2,112.44,1982.45,807.0,3506.6400000000003,317.80000000000007,2337.1400000000003,451.0899999999999,563.0599999999998,281.29999999999995,1477.8200000000002,707.4000000000001,513.6599999999999,129.45000000000002,780.2500000000002,326.2599999999998,60.06,206.09,916.26,328.95,605.85,242.6,145.0,698.8199999999997,267.6,777.1599999999999,392.02,52.02,696.7600000000001,467.64,58.08,129.67000000000002,850.4799999999998,551.4300000000001,697.6700000000002,430.1500000000001,144.96,1169.17,273.05,629.5999999999999,84980.8899999996,277.9499999999999,211.50000000000003,109.94,264.88000000000005,1119.5899999999997,615.9300000000001,664.42,165.60000000000002,326.96,663.0799999999998,529.47,92.42,537.1800000000001,41.05,59.16000000000002,711.3599999999998,319.03,1186.1300000000003,964.2600000000006,1438.7800000000009,4320.119999999993,1253.8100000000006,300.23,1868.67,184.64,119.15,624.8399999999999,3415.920000000004,111.55,139.92000000000002,388.94,516.53,271.32,138.44000000000003,216.02,1969.2899999999972,71.0,645.3100000000001,124.62,145.67000000000002,400.8799999999999,2446.9500000000007,3866.049999999999,503.6,1481.480000000001,3639.92,233.76,2933.699999999999,687.6600000000001,1115.2799999999995,2002.19,476.5100000000001,603.9299999999998,106.83,491.86000000000007,1021.98,80.70000000000002,566.5899999999998,373.38,624.9999999999999,1533.79,79.1,2337.110000000001,1145.0700000000002,169.2,327.53000000000003,145.25,4.25,578.0500000000001,94.28000000000002,738.06,316.42,1053.39,4830.429999999999,213.78,36347.880000000085,751.9999999999999,1458.2500000000002,93.02,323.94000000000005,2027.4999999999995,842.9000000000001,261.15,416.3,238.17000000000004,145.92000000000002,1646.19,75.72,137.13000000000002,46.68,3260.2600000000007,731.9000000000001,301.41,104.1,939.28,52.0,119.2,544.9,223.36,218.25,213.72,451.84,92.64,161.73999999999992,5936.089999999999,293.95,2006.68,103.25,870.5699999999998,379.69999999999993,1293.2599999999998,328.8,195.31,310.0499999999999,710.6599999999999,585.07,702.1200000000001,64.8,317.95,236.45,62.4,5601.379999999996,172.88000000000002,1816.0300000000004,266.61,825.4800000000001,2017.5700000000024,122.88,684.9099999999997,298.45000000000005,1125.5499999999995,489.37,451.11000000000007,118.75,2760.54,1616.9200000000003,532.2499999999998,356.1700000000001,109.71,268.74999999999983,3926.34,394.44,3054.5500000000006,410.4899999999998,1010.8,307.03000000000003,1854.59,195.7,491.6000000000001,1757.3999999999987,101.7,606.6599999999999,232.48,384.9099999999999,458.9,123.38,1217.760000000001,471.81000000000006,707.6,283.26,180.84,4067.480000000004,70.19999999999999,701.7900000000001,1.9,712.24,633.32,1655.200000000001,874.5900000000001,5267.89,1250.0000000000002,1387.14,173.74000000000004,65.50000000000001,201.0,943.34,2902.560000000001,3221.0800000000017,242.36,721.5900000000001,6585.430000000001,734.3599999999999,2035.5300000000009,571.6900000000002,607.9399999999999,3621.029999999999,340.8699999999999,2850.439999999999,1436.45,199.8,753.9000000000002,140.43,1092.0,421.12000000000006,85.50999999999999,969.9100000000004,142.42,989.0,60.48,1109.14,144.6,9869.38,1620.1199999999992,126.12,54.79,332.58000000000004,198.38,670.4499999999998,2733.8400000000006,287.45,602.57,123.15,16.439999999999998,178.54999999999998,243.68,114.42999999999998,135.75,977.21,305.28000000000003,1182.3199999999997,296.1,811.5800000000003,1907.180000000001,1175.8,326.8,409.3599999999999,3889.9100000000017,495.69999999999993,132.03,363.2,1334.6399999999996,2830.3200000000006,582.3100000000001,151.4,493.6800000000001,348.05,76.0,570.48,1160.1200000000006,208.38,607.62,5115.120000000003,1807.46,228.94,1044.48,859.27,588.0999999999999,539.4,349.76000000000005,1119.91,137.5,206.19,1033.42,834.8900000000002,154.23000000000005,570.6499999999997,159.78,689.95,100.8,5154.4000000000015,287.67,2117.9600000000005,96.25,452.2,562.8800000000001,439.59,162.54999999999998,303.6000000000001,133.2,567.4600000000002,1271.1100000000006,360.85,500.3200000000001,5099.789999999998,332.5,224.82,199.41,813.8800000000003,694.4599999999998,152.94,611.0399999999998,4424.39,3343.690000000001,314.15,427.4500000000001,774.0300000000003,1201.86,600.0300000000001,1592.6199999999988,175.02,682.7100000000002,145.93,729.9900000000001,1979.3099999999988,27.04,333.87,2103.4299999999994,224.4,2036.24,4571.230000000001,252.42,419.0800000000001,800.16,254.88,4041.789999999999,216.8,96.56,334.8,1050.3200000000002,387.5199999999999,313.7,104.82,451.25,474.72,20.4,420.3,10.08,461.26,376.5,220.06,397.38000000000005,494.24000000000007,248.6,1863.1799999999996,2751.1700000000023,279.54,609.5400000000001,153.7,735.0500000000001,760.0,2877.66,193.65,607.9899999999999,2253.300000000001,765.34,24387.52999999995,162.60000000000002,3705.92,73.78000000000002,82.6,148.23000000000002,271.0799999999999,727.8399999999998,222.34,154.95,9220.620000000014,1594.6999999999996,831.1500000000003,11.9,350.6,612.3800000000001,107.6,1691.0800000000002,287.44,50.400000000000006,580.3300000000002,77.6,3102.650000000001,216.3,821.1,76.5,336.44,1812.0600000000013,186.54,607.18,155.42999999999998,1705.4600000000005,104.90999999999995,228.51,2025.909999999999,427.65,110.93000000000002,96.54000000000002,192.76,1665.3300000000002,508.06000000000006,943.9100000000004,2775.57,1325.28,1861.9399999999991,1948.8999999999996,1485.38,786.4400000000003,275.82,94.79,653.6899999999998,1056.4,833.8200000000002,661.0600000000001,3045.749999999999,878.0200000000001,360.71,2998.21,2326.4100000000003,1033.52,63.45,478.01,468.44000000000005,1480.5199999999998,59.9,378.69999999999993,417.2799999999999,496.78,166.2,1043.31,128.7,2188.7200000000016,374.3999999999999,1977.94,32224.59000000055,74.38,2464.109999999999,662.6800000000001,579.2500000000001,305.63,350.08000000000004,4288.900000000001,202.59,1130.3099999999995,923.5200000000004,379.4500000000001,681.3899999999998,430.38,3286.140000000001,192.95,928.5400000000002,971.2200000000004,377.91,4300.390000000004,1144.9799999999998,61.99999999999999,148.53000000000003,291.2900000000001,334.6900000000001,380.16,301.1699999999999,1550.1000000000006,337.52000000000004,112.4,512.84,2723.000000000001,243.5,226.84,357.46000000000004,4244.350000000001,944.53,356.13000000000017,290.0400000000001,176.07000000000002,619.7,2100.7899999999995,263.12,20.4,211.03,1378.5900000000004,425.7600000000001,81.66,305.62,4341.820000000001,135.99000000000007,118.52000000000002,382.16000000000014,1490.26,111.51000000000002,1737.1400000000008,839.0900000000001,466.56000000000006,587.23,238.70000000000005,222.97,2333.5100000000025,375.07,286.56,252.14,815.8800000000001,354.9699999999999,604.8299999999999,333.85,808.6999999999995,123.93,891.78,317.63,29.5,3669.7200000000025,139.09,1463.5300000000002,532.28,1479.64,134.41,816.7699999999999,148.8,1392.1399999999996,411.70000000000016,452.36000000000007,531.8800000000001,386.8,1143.0200000000004,1504.1900000000007,90.20000000000002,3506.770000000003,344.92,1541.4700000000005,1641.3100000000015,10378.009999999998,11199.469999999998,675.5900000000001,1878.75,2397.8299999999995,189.3,229.43,753.2200000000001,198.52,206.89,292.1700000000001,2886.3999999999983,507.1199999999998,1003.64,2682.6099999999988,851.73,236.17999999999995,1613.5000000000005,99.37,365.3099999999999,4774.929999999998,978.1800000000004,1872.71,155.08,1841.3199999999997,92.46,249.18,183.05,535.44,7616.46,585.84,131.68000000000004,131.0,2807.059999999997,243.08,247.30999999999997,906.5200000000004,216.49,110.4,95.67,615.8,1638.7999999999995,1093.74,89.05000000000001,321.04999999999995,548.67,1690.85,1807.28,322.12,62.85,461.6399999999999,993.1799999999998,146.4,1560.26,1653.0000000000002,12.75,91.80999999999996,304.68,3822.5,14.85,1735.849999999999,1763.8599999999997,426.3499999999999,79.99000000000001,1728.9900000000007,681.3000000000002,109.2,782.52,131.9,392.4,132.29,1344.33,672.88,3443.7700000000023,318.17,211.49,244.13,4644.009999999985,2549.9299999999994,399.85,2946.28,880.0900000000003,139.85,819.5699999999997,451.88,51.56,746.39,139.8,682.69,936.69,181.62,1091.36,371.50999999999993,429.6,580.94,284.33999999999986,377.2699999999998,1147.3300000000004,517.1999999999998,604.3000000000002,562.5600000000001,264.9,129.5,2218.9500000000003,178.26,1246.5600000000002,3530.8300000000004,1207.9499999999998,293.83999999999986,2640.41,258.55,428.5,80.09000000000002,4100.97,246.11000000000004,125.58,4462.160000000004,394.3200000000001,196.04999999999995,150.10000000000002,4455.290000000001,11.52,39.25,1249.4199999999998,430.7,759.8400000000005,245.24,177.5,869.8999999999999,121.5,504.74,458.57,965.54,348.67,81.75,564.95,534.08,1232.52,483.25,527.07,4883.379999999999,361.63,446.52,2663.059999999998,125.22,105.98,109.98,415.94,1988.77,314.29,6530.12,123.85,363.351,163.02,3659.3,1146.7299999999998,395.75999999999993,767.3299999999999,1210.6800000000003,3192.8099999999977,2273.2800000000007,9440.61,52.830000000000005,2642.2900000000004,656.1400000000002,253.32,396.0000000000002,290.48,195.8,1258.33,1416.150000000001,825.7599999999999,144.72,142.46,337.28,87.9,184.98,665.46,386.9599999999999,247.1,137.64,189.19,1274.1600000000003,1490.7600000000002,434.05,296.76,350.75,115.68,1018.8600000000002,20.4,497.8900000000001,6390.819999999995,4126.040000000004,122.04,269.39,50.88,1843.16,83.37,1408.1,285.45000000000005,1469.0700000000022,516.3,843.0600000000001,293.52,951.7500000000006,2681.6400000000003,1247.79,941.1600000000004,681.02,1366.7,8215.220000000001,1638.8800000000003,250.3,114.3,568.5,203.6,490.1199999999998,508.5899999999999,1829.609999999999,1625.8199999999997,2138.11,200.05,423.16,69.0,871.06,71.66,244.4,1495.2000000000005,2650.1599999999985,257.09000000000003,952.0,1877.7400000000005,2591.619999999998,5136.819999999999,2228.74,732.0899999999999,118.8,116.03,687.23,2176.2,212.9,1262.7100000000005,53.93,983.5500000000002,149.70000000000002,450.94999999999976,297.7900000000001,269.68000000000006,90.53,80.8,2874.850000000002,166.06,1541.5899999999992,1695.9699999999991,494.12,348.20000000000005,723.4499999999999,159.4,1339.6800000000003,1818.6299999999983,1091.9600000000005,2451.61,1651.61,191.94,1026.71,6635.390000000003,91.85,952.1600000000004,1125.0600000000009,132.61999999999998,1389.88,333.2,1307.1200000000003,1211.3,1855.9600000000005,176.54999999999993,464.23,194.37,131.42000000000002,107.25,2256.4900000000007,567.91,675.4200000000001,11.9,609.1599999999999,959.69,334.78999999999974,73.2,120.66,1400.0099999999998,4273.100000000001,70.56,93.66,279.45,260.0,6452.220000000006,228.91000000000005,1279.0900000000008,273.66,749.67,1749.3200000000004,9337.799999999996,1838.2200000000005,407.1000000000001,5797.560000000005,602.8700000000002,103.3,486.59,252.19999999999996,1081.0100000000002,3315.41,233.22,2050.4399999999987,376.84,3421.3700000000044,208.05999999999997,171.41999999999996,302.66,94.0,181.32000000000005,3112.86,460.1,5056.840000000001,1193.5,522.1999999999999,272.99999999999994,219.4,124.23000000000002,375.13000000000005,169.48,40.2,517.78,1169.3300000000002,3793.8299999999954,244.85,598.74,168.3,338.71000000000004,56.150000000000006,2636.219999999998,624.75,3007.0199999999995,265.68,254.3,936.72,478.9500000000001,682.1499999999999,1098.5500000000002,495.1999999999999,846.8899999999996,2023.0700000000008,514.84,387.82,251.1,303.54,77.85,1928.3299999999992,57.600000000000016,151.3,53.55,118.8,34.0,306.73999999999995,39.0,240.06,1650.4700000000005,87.6,938.3399999999996,1595.2700000000002,420.42,838.1599999999999,799.7199999999998,47.7,513.0500000000001,437.66,125.00000000000004,286.32,139.05,190.55,948.34,752.5599999999998,2176.71,468.23,2655.950000000001,799.4600000000002,508.5899999999999,151.06000000000003,1743.6899999999991,90.6,90.0,2761.1200000000003,1085.5,113.13,973.9899999999998,1894.0600000000004,203.43,178.22,728.5400000000001,134.4,418.45,139.51000000000002,745.38,134.7,816.6899999999999,185.17,334.2300000000001,644.63,285.64000000000004,569.4,4398.039999999999,74.80000000000001,1050.26,121.1,1677.5999999999992,2576.610000000001,353.9,262.54999999999995,1750.09,821.7600000000001,560.7,276.28,454.7999999999999,157.49,482.1599999999999,823.6000000000001,341.86999999999995,168.45000000000005,1017.15,95.75,133.14999999999998,78.00000000000001,254.91000000000005,326.65,1583.2700000000011,83.2,153.42999999999998,488.6,671.3900000000001,507.7399999999999,692.9000000000001,71.53000000000002,48.0,3643.080000000001,213.46,747.4300000000001,313.0,87.78,146.95999999999998,1798.9500000000007,525.96,159.91999999999996,110.55,244.9,327.24999999999994,493.3399999999997,146.32000000000002,102.0,101.97,114.04,361.22,568.89,254.67,360.9399999999999,140.54,116.05,137.10000000000002,124.5,73.28,1055.63,340.2099999999999,133.92000000000002,190.8,524.0599999999998,3081.5499999999965,561.4000000000001,195.05,283.30000000000007,791.6900000000003,1692.7000000000005,3396.640000000001,609.53,158.01,1253.4600000000005,143.43,346.93,179.35,613.99,92.84,568.4699999999997,20.92,2122.4400000000014,208.6,510.2,587.6300000000001,1272.4800000000002,407.74,329.59,5997.620000000005,2035.82,1051.4199999999996,302.64,193.38999999999996,151.65000000000003,161.56000000000003,166.8,1840.13,195.36,1887.450000000001,267.7199999999999,205.14999999999995,635.4899999999999,645.21,296.71,86.02000000000001,73.5,2047.21,382.0,1089.14,433.50000000000006,71.4,213.50000000000003,49.790000000000006,152.92000000000002,1006.9399999999998,1310.0200000000002,109.07,674.5699999999999,240.92999999999992,5738.939999999994,1184.0100000000002,125.57999999999998,1026.69,200.15,413.59,4665.849999999999,36019.83999999992,725.9999999999998,294.3099999999999,4592.189999999999,1231.9,608.3,580.93,342.05999999999995,82.1,3271.29,633.3600000000001,465.09,679.3500000000001,522.6299999999999,393.63,290.89000000000004,590.93,1035.0500000000004,732.2800000000002,1011.3,762.3900000000001,106.89,579.93,50.1,729.15,1793.91,251.82,44.24,6.9,387.31,255.54,564.9099999999996,7225.190000000004,838.78,916.92,1519.27,123.8,305.28000000000003,1739.9199999999994,411.9000000000001,1015.73,499.06,35.400000000000006,100.23999999999998,117.91000000000004,263.19,331.79,1263.9699999999996,158.5,715.0400000000002,2502.559999999999,221.59,138.14,4698.650000000001,60.2,1295.4799999999998,337.43,144.63,1193.5000000000002,89.2,123.44,99.6,384.18000000000006,1475.1199999999992,12117.419999999998,563.7,1179.81,195.6,262.95,535.4,737.6699999999997,41.78,468.1,80.36,1719.209999999999,9305.389999999996,56.95,286.57000000000005,15.0,4707.8799999999965,157.02,502.2599999999999,294.43000000000006,563.4799999999999,499.03,1243.3399999999997,1900.6800000000003,225.8599999999999,91.62,406.80000000000007,2909.07,2897.3200000000006,176.94,834.1599999999997,266.97,473.2900000000001,2668.7600000000007,185.22,879.6000000000001,1823.61,88.2,1910.63,580.4899999999999,414.69000000000005,2944.9000000000037,317.29,369.2,1330.0899999999997,852.15,688.3000000000005,1368.4199999999998,102.0,318.5400000000001,121.18,1022.95,286.28100000000006,812.9500000000002,395.5,3484.419999999999,1153.3900000000003,285.56000000000006,289.92,293.70000000000005,182.67,583.27,1996.750000000001,533.2999999999997,470.94,798.6800000000001,3920.12,605.8800000000002,236.04,123.44,1417.5,199.48,522.2099999999998,242.4,168.0,1331.9699999999996,2002.96,332.52000000000004,191.04,116.98000000000002,128.44,13.6,523.1699999999996,1851.5500000000009,519.8100000000001,90.12000000000002,544.3599999999999,1104.87,931.84,1325.5499999999995,219.25,310.38,378.78,235.68,1542.3600000000006,168.79999999999998,4015.589999999992,658.1,101.1,202.11,607.2700000000003,195.13,183.75,3008.01,494.86,8261.199999999999,417.7,74.4,269.6,1471.93,2717.4800000000005,283.02,1869.47,110.46,2282.420000000001,2267.24,441.2900000000001,90.0,14334.959999999994,67.19999999999999,1277.8,1040.3700000000003,251.21,285.78,1180.12,100.22,856.9399999999999,932.6999999999998,304.14000000000004,98.34,3836.910000000001,381.02,620.5799999999998,339.39,177.15000000000003,154.7,691.0599999999998,10.2,4039.5,324.4000000000001,2072.650000000001,362.7,80.64999999999999,2087.4700000000003,672.58,801.3,340.15,4808.9000000000015,262.44000000000005,994.09,1521.2199999999998,263.42999999999995,1254.35,243.93,4141.599999999998,1664.7999999999995,465.97,343.6500000000001,82.5,410.2299999999999,520.19,522.5500000000001,199.85,2151.7499999999995,58.86,1796.8200000000004,209.35,126.51,8.2,3445.139999999997,238.8,1031.39,462.21,372.75,504.62,106.1,614.9499999999999,357.81,63.3,75.75000000000001,733.1600000000002,520.8399999999999,32.4,928.78,3762.8899999999967,98.58,639.8600000000001,462.16,251.26,2386.430000000001,2874.47,1016.25,152.95000000000002,477.21,1335.2800000000004,253.44999999999996,3623.6300000000033,1224.5999999999997,615.4800000000001,471.3,70.95,586.9100000000001,852.3999999999995,155.2,448.5800000000001,1388.6999999999998,3659.9700000000025,116.78,60.7,79.93999999999998,3139.0699999999983,76.8,1516.6999999999998,1036.76,399.04,468.3399999999999,135.0,186.06000000000003,2896.070000000001,698.7999999999998,879.4199999999998,245.58000000000004,2161.56,1308.8900000000006,429.36000000000007,2921.96,554.46,4601.580000000003,323.77,2302.7800000000007,197.32,1895.6600000000017,315.0600000000001,994.82,2849.289999999999,59.7,380.3000000000001,168.05,92.66,2313.0400000000004,644.6,120.63,2332.68,7392.889999999997,307.68,284.2,527.4799999999997,324.05,659.3,709.5400000000002,172.5,228.99,240.9499999999999,1909.68,717.84,222.13,809.3700000000002,1713.0399999999995,367.98999999999984,140.34,484.9799999999999,1483.1500000000008,827.9999999999998,298.11,1172.14,218.25,793.7599999999996,1060.36,570.7099999999999,266.6,355.25,3204.1799999999985,208.77999999999997,7840.870000000004,125.1,2451.600000000001,87.50000000000001,270.90000000000003,14162.949999999995,119.7,821.4899999999999,290.56,326.4800000000001,2010.4200000000008,772.7699999999999,1255.2300000000002,185.24,743.2800000000001,376.8,108.38,68.1,2245.810000000001,155.56000000000003,1077.8700000000003,231.32,663.0100000000001,802.0900000000003,620.7,1249.8899999999992,1269.59,1273.8400000000008,2770.0400000000004,17712.959999999995,110.58,265.9,349.8500000000001,585.9300000000002,1561.0799999999997,5265.5400000000045,445.11,219.16,2804.560000000002,77.7,56.76,414.29999999999984,900.2700000000001,98.8,25.43,78.0,1308.9899999999998,108.84,447.62,729.45,678.1999999999999,290.92999999999995,314.05000000000007,207.86,956.7600000000002,281.98,162.38,1746.16,405.04,299.1,1778.3700000000003,1058.9900000000002,1535.61,676.7099999999999,735.0,2437.6500000000005,644.6299999999999,961.96,316.18,952.36,421.07,911.1500000000004,405.26,563.9499999999995,127.83,4798.160000000001,294.55000000000007,965.8800000000008,371.00999999999993,3737.110000000002,17925.530000000028,192.45000000000005,1002.6,1077.06,74.67,110.4,398.65,282.71,2745.05,446.08,1259.63,209.85,211.77000000000007,1175.66,255.0,208.91000000000005,234.84,241.36,611.7999999999998,124.88,880.5200000000001,282.45,40.05,2714.17,2210.640000000001,183.4,517.8200000000002,5224.440000000002,8429.54000000001,847.9300000000001,439.49,1156.54,164.4,434.36,272.7,369.4,168.0,547.6099999999999,1803.159999999999,576.3299999999999,195.9,201.01,167.15999999999997,408.86,91.83000000000004,330.2,304.71,384.76,5114.179999999998,32.720000000000006,1512.38,382.25,126.0,999.55,257.7,198.41,751.7600000000001,241.33,505.3,75.6,292.12,355.56,2366.380000000001,55.6,430.55,1503.61,175.44,155.55,286.79,324.58000000000004,595.6099999999998,506.4399999999999,650.87,7082.729999999983,296.44999999999993,2538.8500000000013,3278.02,142.79,496.02,2055.4700000000003,79.77999999999999,1078.8200000000002,875.42,592.33,5667.59,175.11999999999998,110.8,1266.8600000000004,3910.870000000002,6687.170000000006,2628.529999999998,515.8900000000001,547.2599999999998,4998.690000000001,515.67,161.72000000000003,655.9700000000001,157.5,283.95,328.7,293.1,124.75,67.95,131.88,2642.6200000000003,439.4,100.70000000000002,201.08,106.89,667.3299999999999,185.3,379.79,3429.4700000000003,974.01,77.15,2382.56,3475.62,206.34,324.5700000000001,686.3400000000001,88.25,1609.8499999999997,1136.39,189.03,396.8,441.5399999999997,61.8,2704.690000000001,844.72,5357.929999999995,217.17,562.3299999999999,129.60000000000002,942.58,119.3,3356.9700000000007,604.7500000000001,683.0499999999997,159.35000000000002,2242.96,1116.5400000000004,101.34,824.6400000000003,396.2799999999998,308.40000000000003,265.54999999999995,2036.4500000000016,1490.7500000000005,2586.979999999998,5469.070000000001,1815.6600000000012,435.5799999999999,240.89000000000004,202.9699999999999,9402.580000000007,444.04,3188.3300000000004,2726.77,1395.6900000000005,836.5100000000001,817.5099999999996,3943.2,166.47,58.75,1361.8500000000004,311.71,2404.949999999998,4585.32,2259.5500000000006,1277.2,604.0100000000002,281.01000000000005,18276.110000000008,357.4,729.24,991.01,1043.41,235.84000000000003,3888.640000000001,227.39999999999995,1753.1199999999992,1764.3700000000008,477.2000000000001,278.04,1716.0700000000004,4631.619999999989,1807.9200000000003,830.9499999999999,318.99999999999994,797.3499999999998,733.21,193.64,584.74,157.20000000000002,515.07,134.96,1648.499999999999,106.25,428.73,1517.6399999999996,1103.3900000000006,20.4,847.4200000000001,2328.479999999999,208.32,5144.239999999997,1836.8900000000024,390.2000000000001,356.59000000000003,224.98,516.0000000000001,902.38,169.76000000000002,618.6000000000003,258.29999999999995,347.08000000000004,369.8,521.3599999999998,326.24999999999994,4428.379999999993,114.35,951.16,635.4100000000001,267.26,259.85,30.6,268.78,156.27000000000004,1511.7199999999996,82.19000000000001,1277.23,288.27,53.44,558.5500000000001,575.99,186.2,685.9900000000001,968.9800000000004,2157.3100000000004,259.52,657.8000000000001,283.8,2021.720000000001,972.9500000000002,858.2400000000005,533.57,927.1100000000002,737.1399999999999,2108.189999999999,840.6999999999999,1136.4100000000008,621.49,2818.1199999999994,1477.78,3245.3100000000013,607.9100000000001,33.0,264.15000000000003,282.1000000000001,434.21,224.28000000000003,132.59999999999997,597.0899999999997,2640.8400000000006,834.3100000000001,728.6099999999999,5853.43,2683.0400000000013,575.94,5481.320000000001,825.5199999999998,1134.5200000000002,210.24,6164.409999999997,84.42000000000002,954.5700000000002,162.70000000000005,1592.800000000001,424.63999999999993,217.18,4755.909999999999,948.85,1100.6,58.49,178.7,82.75000000000001,771.3,406.31,205.97,154.75,343.8399999999999,610.5600000000001,1910.760000000001,182.35,197.14000000000004,318.15,2726.1700000000005,2234.8900000000003,198.11000000000004,270.40000000000003,764.3800000000002,403.0700000000001,1991.61,376.1799999999998,22.62,1584.35,807.5100000000002,1983.2000000000007,254.82999999999996,95.29999999999998,279.3299999999999,1116.8400000000008,962.08,109.92,423.79,96.35,328.35,957.37,535.9399999999999,136.16,2180.6100000000006,1414.380000000001,160.06999999999994,3664.7,470.05999999999966,299.48,1786.3500000000013,428.2600000000001,120.9,139.25,104.85,565.7599999999999,792.2299999999998,263.36,460.18,187.79,4204.689999999994,7656.479999999999,180.15,381.87,1663.240000000001,38.1,192.24,104.0,553.9499999999999,335.16,882.9000000000003,2461.5200000000004,707.0899999999999,2138.4700000000003,373.08,2248.680000000002,260.48,311.16,1751.630000000001,152.8,756.4599999999999,1565.0199999999995,211.2,97.14,273.06999999999994,1751.3600000000004,81.60000000000001,200.75,126.8,287.74,4400.21,251.7,10.74,113.4,110.21,308.43999999999994,376.35,1017.9300000000002,237.66,1031.43,656.2499999999999,2570.920000000001,1979.0900000000008,498.17999999999984,155.8,912.7200000000004,862.1899999999998,1016.99,1270.6400000000003,382.1,1017.8100000000009,115.65,391.65,877.26,44.6,923.41,732.96,657.2900000000001,1786.6400000000008,1100.8199999999997,187.88,331.02,983.63,511.5000000000001,1257.9600000000005,270.62,172.03,68.54000000000002,1486.5400000000002,35.400000000000006,1638.9800000000012,1392.999999999999,76.55999999999999,493.0399999999999,2549.160000000001,247.25000000000009,2564.91,2687.0799999999995,1867.2200000000007,202.01,190.20999999999995,104.5,1637.3,188.11999999999995,129.75,2337.5499999999997,3235.349999999999,1567.2899999999995,650.8299999999999,182.96,357.70000000000005,8703.37999999999,215.08,282.64,228.74,505.45000000000016,111.8,218.15,2513.269999999999,333.67,1130.94,1836.0800000000008,99.92,1088.86,118.98000000000002,2594.4700000000025,93.48,90.0,8027.480000000007,205.25,607.1599999999994,2147.150000000002,450.7699999999999,198.97000000000003,1544.05,332.3,1106.18,1215.2700000000004,356.0400000000001,4190.899999999988,2879.890000000001,565.1,231.55000000000004,248.2,247.26,140.09,149.14,479.13,7057.340000000004,924.5200000000002,173.66,384.63,93.6,5060.35,1702.5899999999997,2680.479999999999,576.4299999999996,677.47,1986.51,273.90000000000003,4584.739999999996,300.4,1999.0900000000004,2290.61,177.0,127.8,167.89999999999998,5186.380000000006,571.35,1783.5699999999997,411.7399999999998,707.01,817.9800000000001,3637.29,296.45,414.84,153.0,786.3799999999998,778.7,612.0099999999996,2059.840000000001,752.3,1252.3800000000003,1084.1500000000003,125.8,94.21,446.7099999999999,82.32000000000001,554.5799999999998,626.9,1049.0699999999997,1235.45,180.90000000000003,548.8600000000001,860.5399999999998,882.59,1118.8099999999995,2266.94,1290.7800000000002,163.9,516.0000000000001,319.79,348.99000000000007,647.0600000000001,236.83999999999992,4350.160000000002,129.22000000000003,3224.4800000000005,78.94999999999999,6115.200000000004,276.85,6705.859999999963,5.5,541.6299999999997,1216.8600000000015,60.3,457.89,38.65,1811.16,124.51000000000002,573.46,53.470000000000006,375.58,4238.9900000000025,120.01000000000002,977.75,47.71,292.17999999999984,3787.739999999998,999.15,10.2,1779.8199999999997,348.2800000000001,2115.719999999999,302.84,4005.3000000000006,946.49,2086.87,548.27,344.7,5139.96,739.9509999999999,349.70000000000005,205.66000000000005,204.15,219.0,2598.659999999999,266.02,3505.42,178.02,3904.43,1798.9300000000003,1357.74,187.92,2602.270000000001,1400.6500000000003,740.7800000000002,12077.379999999996,576.9899999999999,1450.89,149.48000000000002,150.0,333.08,1934.1,530.9299999999997,174.90000000000003,316.68000000000006,102.12,939.64,148.73999999999998,20519.880000000147,1168.8,317.25,61.62000000000002,2891.4400000000014,251.53000000000003,1866.6599999999996,462.3,238.80999999999997,709.3399999999998,337.3399999999999,164.13000000000002,1100.14,50.1,275.03,253.49999999999997,977.24,101.76,1609.6200000000017,194.65,3181.5000000000014,2109.5399999999995,128.15999999999997,2024.0,459.86,327.15,987.7600000000002,213.85,720.0699999999999,3091.150000000002,2260.53,757.32,275.04,237.6,236.09,128.23,88.5,1068.52,220.66,399.0700000000001,2785.73,320.08,1264.0999999999997,1079.2700000000004,522.09,649.0600000000001,977.2199999999998,547.68,1106.2800000000002,3922.4200000000014,2316.599999999999,466.3699999999999,272.76,108.45000000000002,39.6,1218.9999999999998,218.4,68.64,125.4,409.2000000000001,1192.4,1903.86,25.200000000000003,3974.030000000001,273.28,783.7500000000001,899.09,47.2,6298.459999999999,4272.650000000002,1351.81,151.03999999999996,173.09999999999997,227.21,1024.0700000000002,1307.8999999999996,545.83,373.8700000000001,4146.400000000001,369.9500000000001,199.2,481.5099999999999,67.85000000000001,1613.2600000000002,277.34,4699.709999999996,222.52,154.57000000000002,375.74,148.55,674.7199999999999,3487.44,504.6,369.74,4945.4900000000025,458.0999999999999,450.83,138.3,157.4,1115.6600000000003,35.7,2203.6000000000004,589.56,97.6,995.4,156.43,522.64,1651.8199999999997,89.57000000000002,683.5300000000001,191.43,876.8600000000002,771.1300000000002,295.73999999999984,609.1099999999999,878.2199999999999,269.1,123.85,431.18,793.85,30.0,1190.5399999999995,734.4100000000001,21.85,20.5,1324.35,431.9799999999999,402.74,140.46,268.54,128.79999999999998,559.0500000000001,517.6600000000001,170.8,547.3899999999998,361.85999999999984,393.74,952.14,304.74999999999994,110.38,445.3399999999999,571.03,100.5,727.62,409.13999999999993,3503.27,150.1,736.4399999999999,254.82,1108.02,3731.290000000001,60.0,182.29,308.81000000000006,665.46,77.48,39.01,1567.0399999999995,749.6400000000003,9.14,885.0899999999999,53.4,576.5,498.25000000000006,1470.2399999999998,574.2500000000001,148.99000000000004,225.09000000000003,627.8199999999999,163.94,615.5299999999999,842.05,1067.1799999999998,30.0,1374.49,1334.22,537.2199999999998,485.8499999999999,73.44,1507.9000000000017,620.05,5428.559999999998,1115.6699999999998,147.25,155.51999999999998,325.91,299.1,74.55000000000001,305.1,15.0,508.57,504.0899999999999,1297.17,323.7,538.41,1082.66,585.1699999999998,133.35000000000002,198.47000000000003,160.35000000000002,15700.62,1097.29,124.1,1091.3900000000008,693.37,168.9,346.13,868.5899999999998,1154.2299999999998,246.72,349.28,722.5799999999999,483.7399999999997,234.17,120.03000000000002,261.51,330.11,386.7600000000001,1076.4399999999998,1075.4499999999998,1616.5300000000002,2.9,417.77,1885.150000000001,1283.8600000000004,53.59000000000001,1184.91,1351.38,1021.53,90.6,47.04999999999999,244.83000000000004,127.05,8207.40999999997,2227.55,615.32,1283.6300000000003,5713.119999999999,1843.8700000000008,331.04,1357.6899999999996,486.7899999999999,169.84000000000003,101.71999999999998,2159.94,70.19999999999999,2138.0299999999997,869.4000000000001,230.22,43.08,417.12,2629.24,320.70000000000005,72.0,1215.7899999999995,3838.849999999998,56.690000000000005,683.0100000000001,137.0,128.9,1022.43,370.74,584.18,126.5,270.48,606.54,208.1,865.3500000000001,491.66,388.75,683.36,1634.4399999999996,1156.1500000000003,163.17000000000002,357.4599999999999,346.53000000000003,666.77,550.5699999999998,520.04,282.93,935.49,895.8100000000002,5609.059999999997,236.43,102.3,501.2799999999996,380.9100000000001,307.82,2002.6300000000017,443.2,175.54999999999998,328.98,1616.12,492.4899999999999,1858.4699999999991,301.76,82.80000000000001,1091.3099999999995,1525.66,273.03000000000003,1234.4999999999995,465.2,75.75,71.4,530.35,1109.6600000000008,3618.93,6634.370000000001,676.9900000000004,1249.3700000000006,613.44,88.51,799.0799999999999,3895.229999999996,197.65000000000003,1303.51,1227.3000000000002,1702.61,588.6899999999997,145.35,115.31,1092.4299999999998,138.75,706.92,251.7999999999999,652.7400000000002,322.29,201.05,218.2,240.45,2608.659999999998,1121.63,1000.21,52.2,113.54,281.42,94.56,2047.03,3289.4300000000007,167.28000000000003,211.64,3278.100000000002,430.52,233.45,532.53,3170.059999999998,282.45,1137.3299999999997,301.29,247.52,76.1,459.2399999999998,246.99,1797.6599999999992,302.20000000000005,1720.0099999999993,341.96000000000004,768.7400000000001,419.11000000000007,437.0000000000001,95.38,806.41,122.66,594.5399999999998,174.35000000000005,3875.840000000001,1588.890000000002,711.8199999999998,261.45,369.88999999999976,3479.2099999999964,7826.279999999999,629.1099999999999,317.83999999999986,1998.53,1781.83,692.37,571.5200000000002,985.74,345.12,290.30000000000007,321.2900000000001,3469.300000000002,351.46,225.85,199.42,6083.639999999999,144.25000000000003,2989.999999999998,71.82,299.29,921.7300000000004,4106.170000000001,45.0,408.8200000000001,793.2599999999999,735.66,406.87999999999977,2224.15,3027.5000000000014,1281.3200000000002,455.47,113.01000000000002,321.40000000000003,1360.91,77.45,2612.19,464.5100000000001,213.71,1126.63,4488.739999999999,1104.0599999999995,122.2,35.45,1259.4600000000005,581.36,259.5799999999999,403.17,152.72,525.0900000000001,3239.6299999999987,395.48,480.9300000000002,138.32,946.3300000000004,94.34,1532.1999999999998,105.2,644.2,242.44,356.26000000000005,255.90000000000003,92.9,1362.02,752.81,1132.15,403.12000000000006,433.68,94.99,139.7,233.96,469.02,1490.42,453.4,727.75,445.2900000000001,828.7299999999999,242.84,325.0,666.6900000000002,67.63,67.87,478.9100000000001,135.9,477.7899999999999,346.79999999999995,45.6,6473.629999999991,3584.3300000000004,115.63,333.0599999999999,810.79,1817.8000000000009,361.95,1841.180000000001,154.86,76.66999999999997,1873.3499999999997,282.62,490.50999999999993,384.0599999999999,114.3,216.16000000000005,13030.370000000008,85.13000000000002,338.5899999999999,337.40000000000003,114.28,671.2200000000001,1087.250000000001,58.8,95.26999999999998,331.18,2466.7000000000003,6351.839999999988,291.92,510.6699999999996,175.17,408.84,66.31,280.62999999999994,205.99000000000004,632.3100000000001,129.0,273.27000000000004,170.08000000000004,2331.809999999999,586.7900000000001,79.8,120.3,2370.5599999999995,382.6299999999999,419.42,349.6,2074.119999999999,474.38,609.9300000000001,1358.16,591.8199999999998,781.4900000000001,884.98,151.48000000000002,108.24,201.48,903.67,87.85000000000001,292.58,132.53,4274.919999999999,30.45,583.85,833.8600000000005,51.96,3181.549999999999,1128.0500000000006,155.25,1643.8300000000004,1385.88,95.97,2871.7800000000025,2665.9999999999995,117.0,196.0,3756.06,859.14,97.7,153.9,670.0399999999998,318.08000000000004,193.96000000000004,2088.790000000002,1478.98,1839.1200000000008,2205.129999999999,445.7000000000001,131.59,201.37,93.35,145.04999999999998,1293.0000000000002,1034.02,794.0600000000002,200.31,609.8499999999999,606.14,329.22,547.3000000000001,75.66000000000001,1646.7899999999995,1239.5400000000009,881.0200000000001,289.16,35.0,167.33999999999995,2998.58,288.45000000000005,419.05,1203.5200000000004,93.6,454.44,81.36,7967.639999999993,191.65,84.74,622.3699999999999,969.5800000000004,703.9300000000001,343.75000000000006,534.06,277.43,255.63000000000005,745.1400000000002,496.69999999999993,1342.44,855.41,75.06,2235.909999999998,684.5899999999999,397.58,879.2199999999998,227.29,123.66,522.48,8175.239999999998,158.77999999999997,91.61,230.68000000000004,3.75,2004.680000000001,2119.570000000001,2505.159999999999,160.91000000000005,150.3,183.44000000000003,664.9,228.80000000000004,391.81,732.2999999999998,2374.7200000000007,485.33,108.75,294.35,383.5399999999997,144.2,690.79,421.7600000000001,540.33,3387.519999999996,1115.04,232.35,192.55,1040.31,2344.23,338.4,465.4699999999999,197.7,312.48,577.1200000000001,100.5,1463.2400000000002,1233.24,653.45,1917.9800000000023,145.0,506.38,712.4200000000001,214.25,416.55,217.16,172.76000000000002,624.94,19.8,396.97,1289.5400000000002,736.97,226.78,374.65,4939.999999999992,911.9,438.88,497.21,138.28,396.86000000000007,274.97,389.61,1408.7300000000007,278.77,315.25,444.42,200.22,809.58,2234.1599999999994,1173.4099999999994,235.4,187.54999999999995,145.09,1949.0499999999988,437.4399999999999,3714.51,418.16,137.29,283.45,361.4000000000001,409.93999999999966,923.62,1291.6,148.79999999999998,958.0499999999998,607.5699999999999,437.81000000000006,3547.04,1022.2100000000002,71.14,126.04,723.9300000000002,141.54999999999998,115.42,519.5899999999999,13.3,1197.28,475.2199999999999,318.0,1708.07,1107.5100000000002,560.3,1261.6999999999998,37.4,329.69999999999993,360.4599999999999,2127.26,290.30000000000007,499.29,281.0799999999999,619.9100000000001,459.50000000000006,1963.0499999999995,5146.409999999998,1892.36,2296.789999999999,633.7899999999998,2439.26,3506.810000000001,342.56,281.9,247.44,1852.4200000000017,703.7200000000003,903.2600000000002,34.4,1188.9199999999996,707.3700000000003,129.43999999999997,1020.2100000000004,75.36000000000001,2929.1400000000035,336.15000000000003,284.90000000000003,293.00000000000006,1165.7099999999998,542.9599999999997,234.71,168.60000000000002,5070.750000000005,1060.0599999999995,1115.6600000000003,341.65,110.1,752.5600000000001,595.7099999999999,979.1200000000003,617.84,78.20000000000002,748.5,195.00000000000003,1460.7999999999995,643.0999999999999,805.1999999999999,795.8799999999999,66.52000000000001,160.91,226.21,792.9399999999998,982.2899999999996,2131.96,81.25999999999999,213.9,220.1,39.48,198.92000000000004,148.43000000000004,49.97,368.6,314.1000000000001,593.8199999999999,6673.580000000007,316.47,300.68,311.48,103.3,511.59,185.65,854.0200000000001,183.71,429.0100000000001,399.96,2667.22,250.26,195.08,547.9399999999999,200.4,3129.209999999998,843.25,247.45,10.5,1387.2500000000005,28.0,538.6800000000001,1684.2900000000004,940.4400000000004,503.0100000000002,167.57999999999996,126.07,428.3699999999999,207.05,420.5200000000001,150.34999999999997,558.0500000000001,142.87000000000003,181.2,173.89999999999998,425.62,1177.36,256.24,5448.250000000001,630.7,724.39,1994.24,385.89,217.68,264.25,652.7700000000002,2677.0299999999997,603.5499999999998,279.35,212.50000000000003,239.41000000000005,754.26,1242.9,165.47,196.2,590.73,400.9800000000001,836.6,177.17000000000002,995.12,352.28,1743.8400000000008,10.2,892.8599999999999,408.8,209.52999999999992,278.28,307.17999999999995,95.85,1344.7200000000005,7947.370000000001,2722.94,1680.2599999999993,202.5,28.5,40.5,201.0,19.5,438.6499999999998,414.1299999999998,17.4,309.2300000000001,172.5,280.95,877.5699999999999,981.53,299.0,1175.5700000000002,428.00999999999993,2191.1800000000003,251.92000000000007,682.9200000000001,334.3499999999999,325.96000000000004,1367.540000000001,363.9599999999999,115.95,3315.760000000001,575.3,349.36,735.6700000000001,174.60000000000002,1078.73,175.47,912.38,577.9000000000001,2953.07,499.93,76.5,294.67,676.8100000000003,790.8799999999999,525.0100000000001,134.32000000000002,1158.68,141.94,502.2,242.7,154.54000000000002,85.0,1372.0500000000006,90.3,314.66,573.86,2036.510000000001,36.56,142.92,401.72,410.00999999999993,283.95,887.7199999999997,223.68,14.85,2686.6399999999994,3555.269999999999,485.0800000000001,2287.1500000000024,578.5699999999999,150.3,401.31,362.94999999999993,811.5599999999998,169.50000000000003,139.10000000000002,2927.1800000000007,1094.69,609.09,413.7300000000001,1232.1500000000012,712.84,1220.91,1309.0400000000002,1203.8300000000004,1819.19,223.69000000000003,189.50000000000009,617.76,540.77,652.4500000000002,270.68000000000006,266.34000000000003,1718.8700000000006,1246.59,111.1,125.1,329.11999999999995,417.52,4084.6799999999976,152.84,307.06,106.2,1664.0599999999995,425.2899999999999,2141.4900000000007,136.68,1626.6600000000012,144.06,368.78,66.0,290.58,218.55999999999997,2499.5599999999995,235.86,754.7599999999993,1225.3100000000002,150.58999999999995,569.1800000000001,722.8499999999998,1955.3900000000003,2353.49,238.0,954.77,313.92,126.03000000000004,3308.7700000000013,175.34999999999997,866.9400000000002,1475.0500000000002,1156.1700000000003,137.00000000000003,2651.88,271.48,147.68,77.4,909.8200000000004,492.83,418.7000000000001,1110.34,423.03,974.65,1180.98,2234.0599999999995,2062.640000000001,110.15000000000002,361.1,279.45000000000005,559.9700000000001,5878.309999999996,1069.7700000000004,342.18000000000006,209.85,56.28,365.15,185.98,1986.7300000000007,29.76,400.11999999999983,366.5300000000001,29.700000000000003,430.18,112.13000000000002,446.98,1124.2800000000002,601.82,254.53,2176.33,3895.289999999999,818.26,304.42,713.2499999999995,416.9,1042.4899999999998,590.12,453.44999999999976,2492.6799999999994,1057.870000000001,281.84000000000003,336.95000000000005,2336.2000000000007,375.7799999999999,921.76,563.63,425.25,548.59,373.54],\"yaxis\":\"y\",\"type\":\"scattergl\"}],                        {\"template\":{\"data\":{\"histogram2dcontour\":[{\"type\":\"histogram2dcontour\",\"colorbar\":{\"outlinewidth\":0,\"ticks\":\"\"},\"colorscale\":[[0.0,\"#0d0887\"],[0.1111111111111111,\"#46039f\"],[0.2222222222222222,\"#7201a8\"],[0.3333333333333333,\"#9c179e\"],[0.4444444444444444,\"#bd3786\"],[0.5555555555555556,\"#d8576b\"],[0.6666666666666666,\"#ed7953\"],[0.7777777777777778,\"#fb9f3a\"],[0.8888888888888888,\"#fdca26\"],[1.0,\"#f0f921\"]]}],\"choropleth\":[{\"type\":\"choropleth\",\"colorbar\":{\"outlinewidth\":0,\"ticks\":\"\"}}],\"histogram2d\":[{\"type\":\"histogram2d\",\"colorbar\":{\"outlinewidth\":0,\"ticks\":\"\"},\"colorscale\":[[0.0,\"#0d0887\"],[0.1111111111111111,\"#46039f\"],[0.2222222222222222,\"#7201a8\"],[0.3333333333333333,\"#9c179e\"],[0.4444444444444444,\"#bd3786\"],[0.5555555555555556,\"#d8576b\"],[0.6666666666666666,\"#ed7953\"],[0.7777777777777778,\"#fb9f3a\"],[0.8888888888888888,\"#fdca26\"],[1.0,\"#f0f921\"]]}],\"heatmap\":[{\"type\":\"heatmap\",\"colorbar\":{\"outlinewidth\":0,\"ticks\":\"\"},\"colorscale\":[[0.0,\"#0d0887\"],[0.1111111111111111,\"#46039f\"],[0.2222222222222222,\"#7201a8\"],[0.3333333333333333,\"#9c179e\"],[0.4444444444444444,\"#bd3786\"],[0.5555555555555556,\"#d8576b\"],[0.6666666666666666,\"#ed7953\"],[0.7777777777777778,\"#fb9f3a\"],[0.8888888888888888,\"#fdca26\"],[1.0,\"#f0f921\"]]}],\"heatmapgl\":[{\"type\":\"heatmapgl\",\"colorbar\":{\"outlinewidth\":0,\"ticks\":\"\"},\"colorscale\":[[0.0,\"#0d0887\"],[0.1111111111111111,\"#46039f\"],[0.2222222222222222,\"#7201a8\"],[0.3333333333333333,\"#9c179e\"],[0.4444444444444444,\"#bd3786\"],[0.5555555555555556,\"#d8576b\"],[0.6666666666666666,\"#ed7953\"],[0.7777777777777778,\"#fb9f3a\"],[0.8888888888888888,\"#fdca26\"],[1.0,\"#f0f921\"]]}],\"contourcarpet\":[{\"type\":\"contourcarpet\",\"colorbar\":{\"outlinewidth\":0,\"ticks\":\"\"}}],\"contour\":[{\"type\":\"contour\",\"colorbar\":{\"outlinewidth\":0,\"ticks\":\"\"},\"colorscale\":[[0.0,\"#0d0887\"],[0.1111111111111111,\"#46039f\"],[0.2222222222222222,\"#7201a8\"],[0.3333333333333333,\"#9c179e\"],[0.4444444444444444,\"#bd3786\"],[0.5555555555555556,\"#d8576b\"],[0.6666666666666666,\"#ed7953\"],[0.7777777777777778,\"#fb9f3a\"],[0.8888888888888888,\"#fdca26\"],[1.0,\"#f0f921\"]]}],\"surface\":[{\"type\":\"surface\",\"colorbar\":{\"outlinewidth\":0,\"ticks\":\"\"},\"colorscale\":[[0.0,\"#0d0887\"],[0.1111111111111111,\"#46039f\"],[0.2222222222222222,\"#7201a8\"],[0.3333333333333333,\"#9c179e\"],[0.4444444444444444,\"#bd3786\"],[0.5555555555555556,\"#d8576b\"],[0.6666666666666666,\"#ed7953\"],[0.7777777777777778,\"#fb9f3a\"],[0.8888888888888888,\"#fdca26\"],[1.0,\"#f0f921\"]]}],\"mesh3d\":[{\"type\":\"mesh3d\",\"colorbar\":{\"outlinewidth\":0,\"ticks\":\"\"}}],\"scatter\":[{\"fillpattern\":{\"fillmode\":\"overlay\",\"size\":10,\"solidity\":0.2},\"type\":\"scatter\"}],\"parcoords\":[{\"type\":\"parcoords\",\"line\":{\"colorbar\":{\"outlinewidth\":0,\"ticks\":\"\"}}}],\"scatterpolargl\":[{\"type\":\"scatterpolargl\",\"marker\":{\"colorbar\":{\"outlinewidth\":0,\"ticks\":\"\"}}}],\"bar\":[{\"error_x\":{\"color\":\"#2a3f5f\"},\"error_y\":{\"color\":\"#2a3f5f\"},\"marker\":{\"line\":{\"color\":\"#E5ECF6\",\"width\":0.5},\"pattern\":{\"fillmode\":\"overlay\",\"size\":10,\"solidity\":0.2}},\"type\":\"bar\"}],\"scattergeo\":[{\"type\":\"scattergeo\",\"marker\":{\"colorbar\":{\"outlinewidth\":0,\"ticks\":\"\"}}}],\"scatterpolar\":[{\"type\":\"scatterpolar\",\"marker\":{\"colorbar\":{\"outlinewidth\":0,\"ticks\":\"\"}}}],\"histogram\":[{\"marker\":{\"pattern\":{\"fillmode\":\"overlay\",\"size\":10,\"solidity\":0.2}},\"type\":\"histogram\"}],\"scattergl\":[{\"type\":\"scattergl\",\"marker\":{\"colorbar\":{\"outlinewidth\":0,\"ticks\":\"\"}}}],\"scatter3d\":[{\"type\":\"scatter3d\",\"line\":{\"colorbar\":{\"outlinewidth\":0,\"ticks\":\"\"}},\"marker\":{\"colorbar\":{\"outlinewidth\":0,\"ticks\":\"\"}}}],\"scattermapbox\":[{\"type\":\"scattermapbox\",\"marker\":{\"colorbar\":{\"outlinewidth\":0,\"ticks\":\"\"}}}],\"scatterternary\":[{\"type\":\"scatterternary\",\"marker\":{\"colorbar\":{\"outlinewidth\":0,\"ticks\":\"\"}}}],\"scattercarpet\":[{\"type\":\"scattercarpet\",\"marker\":{\"colorbar\":{\"outlinewidth\":0,\"ticks\":\"\"}}}],\"carpet\":[{\"aaxis\":{\"endlinecolor\":\"#2a3f5f\",\"gridcolor\":\"white\",\"linecolor\":\"white\",\"minorgridcolor\":\"white\",\"startlinecolor\":\"#2a3f5f\"},\"baxis\":{\"endlinecolor\":\"#2a3f5f\",\"gridcolor\":\"white\",\"linecolor\":\"white\",\"minorgridcolor\":\"white\",\"startlinecolor\":\"#2a3f5f\"},\"type\":\"carpet\"}],\"table\":[{\"cells\":{\"fill\":{\"color\":\"#EBF0F8\"},\"line\":{\"color\":\"white\"}},\"header\":{\"fill\":{\"color\":\"#C8D4E3\"},\"line\":{\"color\":\"white\"}},\"type\":\"table\"}],\"barpolar\":[{\"marker\":{\"line\":{\"color\":\"#E5ECF6\",\"width\":0.5},\"pattern\":{\"fillmode\":\"overlay\",\"size\":10,\"solidity\":0.2}},\"type\":\"barpolar\"}],\"pie\":[{\"automargin\":true,\"type\":\"pie\"}]},\"layout\":{\"autotypenumbers\":\"strict\",\"colorway\":[\"#636efa\",\"#EF553B\",\"#00cc96\",\"#ab63fa\",\"#FFA15A\",\"#19d3f3\",\"#FF6692\",\"#B6E880\",\"#FF97FF\",\"#FECB52\"],\"font\":{\"color\":\"#2a3f5f\"},\"hovermode\":\"closest\",\"hoverlabel\":{\"align\":\"left\"},\"paper_bgcolor\":\"white\",\"plot_bgcolor\":\"#E5ECF6\",\"polar\":{\"bgcolor\":\"#E5ECF6\",\"angularaxis\":{\"gridcolor\":\"white\",\"linecolor\":\"white\",\"ticks\":\"\"},\"radialaxis\":{\"gridcolor\":\"white\",\"linecolor\":\"white\",\"ticks\":\"\"}},\"ternary\":{\"bgcolor\":\"#E5ECF6\",\"aaxis\":{\"gridcolor\":\"white\",\"linecolor\":\"white\",\"ticks\":\"\"},\"baxis\":{\"gridcolor\":\"white\",\"linecolor\":\"white\",\"ticks\":\"\"},\"caxis\":{\"gridcolor\":\"white\",\"linecolor\":\"white\",\"ticks\":\"\"}},\"coloraxis\":{\"colorbar\":{\"outlinewidth\":0,\"ticks\":\"\"}},\"colorscale\":{\"sequential\":[[0.0,\"#0d0887\"],[0.1111111111111111,\"#46039f\"],[0.2222222222222222,\"#7201a8\"],[0.3333333333333333,\"#9c179e\"],[0.4444444444444444,\"#bd3786\"],[0.5555555555555556,\"#d8576b\"],[0.6666666666666666,\"#ed7953\"],[0.7777777777777778,\"#fb9f3a\"],[0.8888888888888888,\"#fdca26\"],[1.0,\"#f0f921\"]],\"sequentialminus\":[[0.0,\"#0d0887\"],[0.1111111111111111,\"#46039f\"],[0.2222222222222222,\"#7201a8\"],[0.3333333333333333,\"#9c179e\"],[0.4444444444444444,\"#bd3786\"],[0.5555555555555556,\"#d8576b\"],[0.6666666666666666,\"#ed7953\"],[0.7777777777777778,\"#fb9f3a\"],[0.8888888888888888,\"#fdca26\"],[1.0,\"#f0f921\"]],\"diverging\":[[0,\"#8e0152\"],[0.1,\"#c51b7d\"],[0.2,\"#de77ae\"],[0.3,\"#f1b6da\"],[0.4,\"#fde0ef\"],[0.5,\"#f7f7f7\"],[0.6,\"#e6f5d0\"],[0.7,\"#b8e186\"],[0.8,\"#7fbc41\"],[0.9,\"#4d9221\"],[1,\"#276419\"]]},\"xaxis\":{\"gridcolor\":\"white\",\"linecolor\":\"white\",\"ticks\":\"\",\"title\":{\"standoff\":15},\"zerolinecolor\":\"white\",\"automargin\":true,\"zerolinewidth\":2},\"yaxis\":{\"gridcolor\":\"white\",\"linecolor\":\"white\",\"ticks\":\"\",\"title\":{\"standoff\":15},\"zerolinecolor\":\"white\",\"automargin\":true,\"zerolinewidth\":2},\"scene\":{\"xaxis\":{\"backgroundcolor\":\"#E5ECF6\",\"gridcolor\":\"white\",\"linecolor\":\"white\",\"showbackground\":true,\"ticks\":\"\",\"zerolinecolor\":\"white\",\"gridwidth\":2},\"yaxis\":{\"backgroundcolor\":\"#E5ECF6\",\"gridcolor\":\"white\",\"linecolor\":\"white\",\"showbackground\":true,\"ticks\":\"\",\"zerolinecolor\":\"white\",\"gridwidth\":2},\"zaxis\":{\"backgroundcolor\":\"#E5ECF6\",\"gridcolor\":\"white\",\"linecolor\":\"white\",\"showbackground\":true,\"ticks\":\"\",\"zerolinecolor\":\"white\",\"gridwidth\":2}},\"shapedefaults\":{\"line\":{\"color\":\"#2a3f5f\"}},\"annotationdefaults\":{\"arrowcolor\":\"#2a3f5f\",\"arrowhead\":0,\"arrowwidth\":1},\"geo\":{\"bgcolor\":\"white\",\"landcolor\":\"#E5ECF6\",\"subunitcolor\":\"white\",\"showland\":true,\"showlakes\":true,\"lakecolor\":\"white\"},\"title\":{\"x\":0.05},\"mapbox\":{\"style\":\"light\"}}},\"xaxis\":{\"anchor\":\"y\",\"domain\":[0.0,1.0],\"title\":{\"text\":\"x\"}},\"yaxis\":{\"anchor\":\"x\",\"domain\":[0.0,1.0],\"title\":{\"text\":\"y\"}},\"coloraxis\":{\"colorbar\":{\"title\":{\"text\":\"color\"}},\"colorscale\":[[0.0,\"#0d0887\"],[0.1111111111111111,\"#46039f\"],[0.2222222222222222,\"#7201a8\"],[0.3333333333333333,\"#9c179e\"],[0.4444444444444444,\"#bd3786\"],[0.5555555555555556,\"#d8576b\"],[0.6666666666666666,\"#ed7953\"],[0.7777777777777778,\"#fb9f3a\"],[0.8888888888888888,\"#fdca26\"],[1.0,\"#f0f921\"]]},\"legend\":{\"tracegroupgap\":0},\"margin\":{\"t\":60}},                        {\"responsive\": true}                    ).then(function(){\n",
              "                            \n",
              "var gd = document.getElementById('30a23fc8-d0cf-4cd9-93b7-da1793c30349');\n",
              "var x = new MutationObserver(function (mutations, observer) {{\n",
              "        var display = window.getComputedStyle(gd).display;\n",
              "        if (!display || display === 'none') {{\n",
              "            console.log([gd, 'removed!']);\n",
              "            Plotly.purge(gd);\n",
              "            observer.disconnect();\n",
              "        }}\n",
              "}});\n",
              "\n",
              "// Listen for the removal of the full notebook cells\n",
              "var notebookContainer = gd.closest('#notebook-container');\n",
              "if (notebookContainer) {{\n",
              "    x.observe(notebookContainer, {childList: true});\n",
              "}}\n",
              "\n",
              "// Listen for the clearing of the current output cell\n",
              "var outputEl = gd.closest('.output');\n",
              "if (outputEl) {{\n",
              "    x.observe(outputEl, {childList: true});\n",
              "}}\n",
              "\n",
              "                        })                };                            </script>        </div>\n",
              "</body>\n",
              "</html>"
            ]
          },
          "metadata": {}
        },
        {
          "output_type": "execute_result",
          "data": {
            "text/plain": [
              "0.26775748747798306"
            ]
          },
          "metadata": {},
          "execution_count": 29
        }
      ]
    }
  ],
  "metadata": {
    "colab": {
      "provenance": []
    },
    "kernelspec": {
      "display_name": "lab_venv",
      "language": "python",
      "name": "python3"
    },
    "language_info": {
      "codemirror_mode": {
        "name": "ipython",
        "version": 3
      },
      "file_extension": ".py",
      "mimetype": "text/x-python",
      "name": "python",
      "nbconvert_exporter": "python",
      "pygments_lexer": "ipython3",
      "version": "3.11.4"
    }
  },
  "nbformat": 4,
  "nbformat_minor": 0
}