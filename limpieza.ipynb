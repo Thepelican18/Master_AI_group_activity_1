{
 "cells": [
  {
   "cell_type": "code",
   "execution_count": 37,
   "metadata": {},
   "outputs": [
    {
     "data": {
      "text/html": [
       "<div><style>\n",
       ".dataframe > thead > tr,\n",
       ".dataframe > tbody > tr {\n",
       "  text-align: right;\n",
       "  white-space: pre-wrap;\n",
       "}\n",
       "</style>\n",
       "<small>shape: (541_909, 8)</small><table border=\"1\" class=\"dataframe\"><thead><tr><th>InvoiceNo</th><th>StockCode</th><th>Description</th><th>Quantity</th><th>InvoiceDate</th><th>UnitPrice</th><th>CustomerID</th><th>Country</th></tr><tr><td>str</td><td>str</td><td>str</td><td>i64</td><td>str</td><td>f64</td><td>i64</td><td>str</td></tr></thead><tbody><tr><td>&quot;536365&quot;</td><td>&quot;85123A&quot;</td><td>&quot;WHITE HANGING HEART T-LIGHT HO…</td><td>6</td><td>&quot;12/1/2010 8:26&quot;</td><td>2.55</td><td>17850</td><td>&quot;United Kingdom&quot;</td></tr><tr><td>&quot;536365&quot;</td><td>&quot;71053&quot;</td><td>&quot;WHITE METAL LANTERN&quot;</td><td>6</td><td>&quot;12/1/2010 8:26&quot;</td><td>3.39</td><td>17850</td><td>&quot;United Kingdom&quot;</td></tr><tr><td>&quot;536365&quot;</td><td>&quot;84406B&quot;</td><td>&quot;CREAM CUPID HEARTS COAT HANGER&quot;</td><td>8</td><td>&quot;12/1/2010 8:26&quot;</td><td>2.75</td><td>17850</td><td>&quot;United Kingdom&quot;</td></tr><tr><td>&quot;536365&quot;</td><td>&quot;84029G&quot;</td><td>&quot;KNITTED UNION FLAG HOT WATER B…</td><td>6</td><td>&quot;12/1/2010 8:26&quot;</td><td>3.39</td><td>17850</td><td>&quot;United Kingdom&quot;</td></tr><tr><td>&quot;536365&quot;</td><td>&quot;84029E&quot;</td><td>&quot;RED WOOLLY HOTTIE WHITE HEART.&quot;</td><td>6</td><td>&quot;12/1/2010 8:26&quot;</td><td>3.39</td><td>17850</td><td>&quot;United Kingdom&quot;</td></tr><tr><td>&hellip;</td><td>&hellip;</td><td>&hellip;</td><td>&hellip;</td><td>&hellip;</td><td>&hellip;</td><td>&hellip;</td><td>&hellip;</td></tr><tr><td>&quot;581587&quot;</td><td>&quot;22613&quot;</td><td>&quot;PACK OF 20 SPACEBOY NAPKINS&quot;</td><td>12</td><td>&quot;12/9/2011 12:50&quot;</td><td>0.85</td><td>12680</td><td>&quot;France&quot;</td></tr><tr><td>&quot;581587&quot;</td><td>&quot;22899&quot;</td><td>&quot;CHILDREN&#x27;S APRON DOLLY GIRL &quot;</td><td>6</td><td>&quot;12/9/2011 12:50&quot;</td><td>2.1</td><td>12680</td><td>&quot;France&quot;</td></tr><tr><td>&quot;581587&quot;</td><td>&quot;23254&quot;</td><td>&quot;CHILDRENS CUTLERY DOLLY GIRL &quot;</td><td>4</td><td>&quot;12/9/2011 12:50&quot;</td><td>4.15</td><td>12680</td><td>&quot;France&quot;</td></tr><tr><td>&quot;581587&quot;</td><td>&quot;23255&quot;</td><td>&quot;CHILDRENS CUTLERY CIRCUS PARAD…</td><td>4</td><td>&quot;12/9/2011 12:50&quot;</td><td>4.15</td><td>12680</td><td>&quot;France&quot;</td></tr><tr><td>&quot;581587&quot;</td><td>&quot;22138&quot;</td><td>&quot;BAKING SET 9 PIECE RETROSPOT &quot;</td><td>3</td><td>&quot;12/9/2011 12:50&quot;</td><td>4.95</td><td>12680</td><td>&quot;France&quot;</td></tr></tbody></table></div>"
      ],
      "text/plain": [
       "shape: (541_909, 8)\n",
       "┌───────────┬───────────┬──────────────┬──────────┬─────────────┬───────────┬────────────┬─────────┐\n",
       "│ InvoiceNo ┆ StockCode ┆ Description  ┆ Quantity ┆ InvoiceDate ┆ UnitPrice ┆ CustomerID ┆ Country │\n",
       "│ ---       ┆ ---       ┆ ---          ┆ ---      ┆ ---         ┆ ---       ┆ ---        ┆ ---     │\n",
       "│ str       ┆ str       ┆ str          ┆ i64      ┆ str         ┆ f64       ┆ i64        ┆ str     │\n",
       "╞═══════════╪═══════════╪══════════════╪══════════╪═════════════╪═══════════╪════════════╪═════════╡\n",
       "│ 536365    ┆ 85123A    ┆ WHITE        ┆ 6        ┆ 12/1/2010   ┆ 2.55      ┆ 17850      ┆ United  │\n",
       "│           ┆           ┆ HANGING      ┆          ┆ 8:26        ┆           ┆            ┆ Kingdom │\n",
       "│           ┆           ┆ HEART        ┆          ┆             ┆           ┆            ┆         │\n",
       "│           ┆           ┆ T-LIGHT HO…  ┆          ┆             ┆           ┆            ┆         │\n",
       "│ 536365    ┆ 71053     ┆ WHITE METAL  ┆ 6        ┆ 12/1/2010   ┆ 3.39      ┆ 17850      ┆ United  │\n",
       "│           ┆           ┆ LANTERN      ┆          ┆ 8:26        ┆           ┆            ┆ Kingdom │\n",
       "│ 536365    ┆ 84406B    ┆ CREAM CUPID  ┆ 8        ┆ 12/1/2010   ┆ 2.75      ┆ 17850      ┆ United  │\n",
       "│           ┆           ┆ HEARTS COAT  ┆          ┆ 8:26        ┆           ┆            ┆ Kingdom │\n",
       "│           ┆           ┆ HANGER       ┆          ┆             ┆           ┆            ┆         │\n",
       "│ 536365    ┆ 84029G    ┆ KNITTED      ┆ 6        ┆ 12/1/2010   ┆ 3.39      ┆ 17850      ┆ United  │\n",
       "│           ┆           ┆ UNION FLAG   ┆          ┆ 8:26        ┆           ┆            ┆ Kingdom │\n",
       "│           ┆           ┆ HOT WATER B… ┆          ┆             ┆           ┆            ┆         │\n",
       "│ 536365    ┆ 84029E    ┆ RED WOOLLY   ┆ 6        ┆ 12/1/2010   ┆ 3.39      ┆ 17850      ┆ United  │\n",
       "│           ┆           ┆ HOTTIE WHITE ┆          ┆ 8:26        ┆           ┆            ┆ Kingdom │\n",
       "│           ┆           ┆ HEART.       ┆          ┆             ┆           ┆            ┆         │\n",
       "│ …         ┆ …         ┆ …            ┆ …        ┆ …           ┆ …         ┆ …          ┆ …       │\n",
       "│ 581587    ┆ 22613     ┆ PACK OF 20   ┆ 12       ┆ 12/9/2011   ┆ 0.85      ┆ 12680      ┆ France  │\n",
       "│           ┆           ┆ SPACEBOY     ┆          ┆ 12:50       ┆           ┆            ┆         │\n",
       "│           ┆           ┆ NAPKINS      ┆          ┆             ┆           ┆            ┆         │\n",
       "│ 581587    ┆ 22899     ┆ CHILDREN'S   ┆ 6        ┆ 12/9/2011   ┆ 2.1       ┆ 12680      ┆ France  │\n",
       "│           ┆           ┆ APRON DOLLY  ┆          ┆ 12:50       ┆           ┆            ┆         │\n",
       "│           ┆           ┆ GIRL         ┆          ┆             ┆           ┆            ┆         │\n",
       "│ 581587    ┆ 23254     ┆ CHILDRENS    ┆ 4        ┆ 12/9/2011   ┆ 4.15      ┆ 12680      ┆ France  │\n",
       "│           ┆           ┆ CUTLERY      ┆          ┆ 12:50       ┆           ┆            ┆         │\n",
       "│           ┆           ┆ DOLLY GIRL   ┆          ┆             ┆           ┆            ┆         │\n",
       "│ 581587    ┆ 23255     ┆ CHILDRENS    ┆ 4        ┆ 12/9/2011   ┆ 4.15      ┆ 12680      ┆ France  │\n",
       "│           ┆           ┆ CUTLERY      ┆          ┆ 12:50       ┆           ┆            ┆         │\n",
       "│           ┆           ┆ CIRCUS       ┆          ┆             ┆           ┆            ┆         │\n",
       "│           ┆           ┆ PARAD…       ┆          ┆             ┆           ┆            ┆         │\n",
       "│ 581587    ┆ 22138     ┆ BAKING SET 9 ┆ 3        ┆ 12/9/2011   ┆ 4.95      ┆ 12680      ┆ France  │\n",
       "│           ┆           ┆ PIECE        ┆          ┆ 12:50       ┆           ┆            ┆         │\n",
       "│           ┆           ┆ RETROSPOT    ┆          ┆             ┆           ┆            ┆         │\n",
       "└───────────┴───────────┴──────────────┴──────────┴─────────────┴───────────┴────────────┴─────────┘"
      ]
     },
     "execution_count": 37,
     "metadata": {},
     "output_type": "execute_result"
    }
   ],
   "source": [
    "import polars as pl\n",
    "\n",
    "df = pl.read_csv(\"data.csv\", encoding=\"ISO-8859-1\", infer_schema_length=10000)\n",
    "df\n"
   ]
  },
  {
   "cell_type": "markdown",
   "metadata": {},
   "source": [
    "\n",
    "Ahora sobre el dataset vamos a analizar si hay datos que limpiar:\n",
    "\n",
    "Primero los valores nulos, es importante que no tengamos ninguno, ya con datos nulos no podemos trabajar."
   ]
  },
  {
   "cell_type": "code",
   "execution_count": 38,
   "metadata": {},
   "outputs": [
    {
     "data": {
      "text/html": [
       "<div><style>\n",
       ".dataframe > thead > tr,\n",
       ".dataframe > tbody > tr {\n",
       "  text-align: right;\n",
       "  white-space: pre-wrap;\n",
       "}\n",
       "</style>\n",
       "<small>shape: (1, 8)</small><table border=\"1\" class=\"dataframe\"><thead><tr><th>InvoiceNo</th><th>StockCode</th><th>Description</th><th>Quantity</th><th>InvoiceDate</th><th>UnitPrice</th><th>CustomerID</th><th>Country</th></tr><tr><td>u32</td><td>u32</td><td>u32</td><td>u32</td><td>u32</td><td>u32</td><td>u32</td><td>u32</td></tr></thead><tbody><tr><td>0</td><td>0</td><td>1454</td><td>0</td><td>0</td><td>0</td><td>135080</td><td>0</td></tr></tbody></table></div>"
      ],
      "text/plain": [
       "shape: (1, 8)\n",
       "┌───────────┬───────────┬─────────────┬──────────┬─────────────┬───────────┬────────────┬─────────┐\n",
       "│ InvoiceNo ┆ StockCode ┆ Description ┆ Quantity ┆ InvoiceDate ┆ UnitPrice ┆ CustomerID ┆ Country │\n",
       "│ ---       ┆ ---       ┆ ---         ┆ ---      ┆ ---         ┆ ---       ┆ ---        ┆ ---     │\n",
       "│ u32       ┆ u32       ┆ u32         ┆ u32      ┆ u32         ┆ u32       ┆ u32        ┆ u32     │\n",
       "╞═══════════╪═══════════╪═════════════╪══════════╪═════════════╪═══════════╪════════════╪═════════╡\n",
       "│ 0         ┆ 0         ┆ 1454        ┆ 0        ┆ 0           ┆ 0         ┆ 135080     ┆ 0       │\n",
       "└───────────┴───────────┴─────────────┴──────────┴─────────────┴───────────┴────────────┴─────────┘"
      ]
     },
     "execution_count": 38,
     "metadata": {},
     "output_type": "execute_result"
    }
   ],
   "source": [
    "df.null_count()\n"
   ]
  },
  {
   "cell_type": "markdown",
   "metadata": {},
   "source": [
    "Como vemos solo hay muchos nulls, aunque en este caso los nulls del custumer ID nos lo tomaremos como compras reales de clientes no registrados, en cambio los valores nulos de Description los eliminaremos por que no podemos saber si ha sido una venta real o un error."
   ]
  },
  {
   "cell_type": "code",
   "execution_count": 39,
   "metadata": {},
   "outputs": [
    {
     "data": {
      "text/html": [
       "<div><style>\n",
       ".dataframe > thead > tr,\n",
       ".dataframe > tbody > tr {\n",
       "  text-align: right;\n",
       "  white-space: pre-wrap;\n",
       "}\n",
       "</style>\n",
       "<small>shape: (540_455, 8)</small><table border=\"1\" class=\"dataframe\"><thead><tr><th>InvoiceNo</th><th>StockCode</th><th>Description</th><th>Quantity</th><th>InvoiceDate</th><th>UnitPrice</th><th>CustomerID</th><th>Country</th></tr><tr><td>str</td><td>str</td><td>str</td><td>i64</td><td>str</td><td>f64</td><td>i64</td><td>str</td></tr></thead><tbody><tr><td>&quot;536365&quot;</td><td>&quot;85123A&quot;</td><td>&quot;WHITE HANGING HEART T-LIGHT HO…</td><td>6</td><td>&quot;12/1/2010 8:26&quot;</td><td>2.55</td><td>17850</td><td>&quot;United Kingdom&quot;</td></tr><tr><td>&quot;536365&quot;</td><td>&quot;71053&quot;</td><td>&quot;WHITE METAL LANTERN&quot;</td><td>6</td><td>&quot;12/1/2010 8:26&quot;</td><td>3.39</td><td>17850</td><td>&quot;United Kingdom&quot;</td></tr><tr><td>&quot;536365&quot;</td><td>&quot;84406B&quot;</td><td>&quot;CREAM CUPID HEARTS COAT HANGER&quot;</td><td>8</td><td>&quot;12/1/2010 8:26&quot;</td><td>2.75</td><td>17850</td><td>&quot;United Kingdom&quot;</td></tr><tr><td>&quot;536365&quot;</td><td>&quot;84029G&quot;</td><td>&quot;KNITTED UNION FLAG HOT WATER B…</td><td>6</td><td>&quot;12/1/2010 8:26&quot;</td><td>3.39</td><td>17850</td><td>&quot;United Kingdom&quot;</td></tr><tr><td>&quot;536365&quot;</td><td>&quot;84029E&quot;</td><td>&quot;RED WOOLLY HOTTIE WHITE HEART.&quot;</td><td>6</td><td>&quot;12/1/2010 8:26&quot;</td><td>3.39</td><td>17850</td><td>&quot;United Kingdom&quot;</td></tr><tr><td>&hellip;</td><td>&hellip;</td><td>&hellip;</td><td>&hellip;</td><td>&hellip;</td><td>&hellip;</td><td>&hellip;</td><td>&hellip;</td></tr><tr><td>&quot;581587&quot;</td><td>&quot;22613&quot;</td><td>&quot;PACK OF 20 SPACEBOY NAPKINS&quot;</td><td>12</td><td>&quot;12/9/2011 12:50&quot;</td><td>0.85</td><td>12680</td><td>&quot;France&quot;</td></tr><tr><td>&quot;581587&quot;</td><td>&quot;22899&quot;</td><td>&quot;CHILDREN&#x27;S APRON DOLLY GIRL &quot;</td><td>6</td><td>&quot;12/9/2011 12:50&quot;</td><td>2.1</td><td>12680</td><td>&quot;France&quot;</td></tr><tr><td>&quot;581587&quot;</td><td>&quot;23254&quot;</td><td>&quot;CHILDRENS CUTLERY DOLLY GIRL &quot;</td><td>4</td><td>&quot;12/9/2011 12:50&quot;</td><td>4.15</td><td>12680</td><td>&quot;France&quot;</td></tr><tr><td>&quot;581587&quot;</td><td>&quot;23255&quot;</td><td>&quot;CHILDRENS CUTLERY CIRCUS PARAD…</td><td>4</td><td>&quot;12/9/2011 12:50&quot;</td><td>4.15</td><td>12680</td><td>&quot;France&quot;</td></tr><tr><td>&quot;581587&quot;</td><td>&quot;22138&quot;</td><td>&quot;BAKING SET 9 PIECE RETROSPOT &quot;</td><td>3</td><td>&quot;12/9/2011 12:50&quot;</td><td>4.95</td><td>12680</td><td>&quot;France&quot;</td></tr></tbody></table></div>"
      ],
      "text/plain": [
       "shape: (540_455, 8)\n",
       "┌───────────┬───────────┬──────────────┬──────────┬─────────────┬───────────┬────────────┬─────────┐\n",
       "│ InvoiceNo ┆ StockCode ┆ Description  ┆ Quantity ┆ InvoiceDate ┆ UnitPrice ┆ CustomerID ┆ Country │\n",
       "│ ---       ┆ ---       ┆ ---          ┆ ---      ┆ ---         ┆ ---       ┆ ---        ┆ ---     │\n",
       "│ str       ┆ str       ┆ str          ┆ i64      ┆ str         ┆ f64       ┆ i64        ┆ str     │\n",
       "╞═══════════╪═══════════╪══════════════╪══════════╪═════════════╪═══════════╪════════════╪═════════╡\n",
       "│ 536365    ┆ 85123A    ┆ WHITE        ┆ 6        ┆ 12/1/2010   ┆ 2.55      ┆ 17850      ┆ United  │\n",
       "│           ┆           ┆ HANGING      ┆          ┆ 8:26        ┆           ┆            ┆ Kingdom │\n",
       "│           ┆           ┆ HEART        ┆          ┆             ┆           ┆            ┆         │\n",
       "│           ┆           ┆ T-LIGHT HO…  ┆          ┆             ┆           ┆            ┆         │\n",
       "│ 536365    ┆ 71053     ┆ WHITE METAL  ┆ 6        ┆ 12/1/2010   ┆ 3.39      ┆ 17850      ┆ United  │\n",
       "│           ┆           ┆ LANTERN      ┆          ┆ 8:26        ┆           ┆            ┆ Kingdom │\n",
       "│ 536365    ┆ 84406B    ┆ CREAM CUPID  ┆ 8        ┆ 12/1/2010   ┆ 2.75      ┆ 17850      ┆ United  │\n",
       "│           ┆           ┆ HEARTS COAT  ┆          ┆ 8:26        ┆           ┆            ┆ Kingdom │\n",
       "│           ┆           ┆ HANGER       ┆          ┆             ┆           ┆            ┆         │\n",
       "│ 536365    ┆ 84029G    ┆ KNITTED      ┆ 6        ┆ 12/1/2010   ┆ 3.39      ┆ 17850      ┆ United  │\n",
       "│           ┆           ┆ UNION FLAG   ┆          ┆ 8:26        ┆           ┆            ┆ Kingdom │\n",
       "│           ┆           ┆ HOT WATER B… ┆          ┆             ┆           ┆            ┆         │\n",
       "│ 536365    ┆ 84029E    ┆ RED WOOLLY   ┆ 6        ┆ 12/1/2010   ┆ 3.39      ┆ 17850      ┆ United  │\n",
       "│           ┆           ┆ HOTTIE WHITE ┆          ┆ 8:26        ┆           ┆            ┆ Kingdom │\n",
       "│           ┆           ┆ HEART.       ┆          ┆             ┆           ┆            ┆         │\n",
       "│ …         ┆ …         ┆ …            ┆ …        ┆ …           ┆ …         ┆ …          ┆ …       │\n",
       "│ 581587    ┆ 22613     ┆ PACK OF 20   ┆ 12       ┆ 12/9/2011   ┆ 0.85      ┆ 12680      ┆ France  │\n",
       "│           ┆           ┆ SPACEBOY     ┆          ┆ 12:50       ┆           ┆            ┆         │\n",
       "│           ┆           ┆ NAPKINS      ┆          ┆             ┆           ┆            ┆         │\n",
       "│ 581587    ┆ 22899     ┆ CHILDREN'S   ┆ 6        ┆ 12/9/2011   ┆ 2.1       ┆ 12680      ┆ France  │\n",
       "│           ┆           ┆ APRON DOLLY  ┆          ┆ 12:50       ┆           ┆            ┆         │\n",
       "│           ┆           ┆ GIRL         ┆          ┆             ┆           ┆            ┆         │\n",
       "│ 581587    ┆ 23254     ┆ CHILDRENS    ┆ 4        ┆ 12/9/2011   ┆ 4.15      ┆ 12680      ┆ France  │\n",
       "│           ┆           ┆ CUTLERY      ┆          ┆ 12:50       ┆           ┆            ┆         │\n",
       "│           ┆           ┆ DOLLY GIRL   ┆          ┆             ┆           ┆            ┆         │\n",
       "│ 581587    ┆ 23255     ┆ CHILDRENS    ┆ 4        ┆ 12/9/2011   ┆ 4.15      ┆ 12680      ┆ France  │\n",
       "│           ┆           ┆ CUTLERY      ┆          ┆ 12:50       ┆           ┆            ┆         │\n",
       "│           ┆           ┆ CIRCUS       ┆          ┆             ┆           ┆            ┆         │\n",
       "│           ┆           ┆ PARAD…       ┆          ┆             ┆           ┆            ┆         │\n",
       "│ 581587    ┆ 22138     ┆ BAKING SET 9 ┆ 3        ┆ 12/9/2011   ┆ 4.95      ┆ 12680      ┆ France  │\n",
       "│           ┆           ┆ PIECE        ┆          ┆ 12:50       ┆           ┆            ┆         │\n",
       "│           ┆           ┆ RETROSPOT    ┆          ┆             ┆           ┆            ┆         │\n",
       "└───────────┴───────────┴──────────────┴──────────┴─────────────┴───────────┴────────────┴─────────┘"
      ]
     },
     "execution_count": 39,
     "metadata": {},
     "output_type": "execute_result"
    }
   ],
   "source": [
    "df = df.filter(df[\"Description\"].is_not_null())\n",
    "df"
   ]
  },
  {
   "cell_type": "markdown",
   "metadata": {},
   "source": [
    "Sabiendo que ya no tenemos nulos vamos a comprobar los duplicados(todas las columnas), que tambien es importante"
   ]
  },
  {
   "cell_type": "code",
   "execution_count": 40,
   "metadata": {},
   "outputs": [
    {
     "data": {
      "text/plain": [
       "'Filas duplicadas: 5268'"
      ]
     },
     "execution_count": 40,
     "metadata": {},
     "output_type": "execute_result"
    }
   ],
   "source": [
    "\n",
    "f\"Filas duplicadas: {df.height - df.unique().height}\""
   ]
  },
  {
   "cell_type": "markdown",
   "metadata": {},
   "source": [
    "En nuestro caso elimineramos estas filas duplicadas porque es muy probable que se trate de un error de la aplicacion al insertar datos."
   ]
  },
  {
   "cell_type": "code",
   "execution_count": 41,
   "metadata": {},
   "outputs": [
    {
     "data": {
      "text/html": [
       "<div><style>\n",
       ".dataframe > thead > tr,\n",
       ".dataframe > tbody > tr {\n",
       "  text-align: right;\n",
       "  white-space: pre-wrap;\n",
       "}\n",
       "</style>\n",
       "<small>shape: (535_187, 8)</small><table border=\"1\" class=\"dataframe\"><thead><tr><th>InvoiceNo</th><th>StockCode</th><th>Description</th><th>Quantity</th><th>InvoiceDate</th><th>UnitPrice</th><th>CustomerID</th><th>Country</th></tr><tr><td>str</td><td>str</td><td>str</td><td>i64</td><td>str</td><td>f64</td><td>i64</td><td>str</td></tr></thead><tbody><tr><td>&quot;C542635&quot;</td><td>&quot;21977&quot;</td><td>&quot;PACK OF 60 PINK PAISLEY CAKE C…</td><td>-1</td><td>&quot;1/31/2011 10:43&quot;</td><td>0.55</td><td>14688</td><td>&quot;United Kingdom&quot;</td></tr><tr><td>&quot;547880&quot;</td><td>&quot;22417&quot;</td><td>&quot;PACK OF 60 SPACEBOY CAKE CASES&quot;</td><td>1</td><td>&quot;3/27/2011 16:05&quot;</td><td>0.55</td><td>15426</td><td>&quot;United Kingdom&quot;</td></tr><tr><td>&quot;554079&quot;</td><td>&quot;23255&quot;</td><td>&quot;CHILDRENS CUTLERY CIRCUS PARAD…</td><td>3</td><td>&quot;5/22/2011 11:41&quot;</td><td>4.15</td><td>14546</td><td>&quot;United Kingdom&quot;</td></tr><tr><td>&quot;565781&quot;</td><td>&quot;22984&quot;</td><td>&quot;CARD GINGHAM ROSE &quot;</td><td>12</td><td>&quot;9/6/2011 15:34&quot;</td><td>0.42</td><td>13098</td><td>&quot;United Kingdom&quot;</td></tr><tr><td>&quot;571061&quot;</td><td>&quot;21935&quot;</td><td>&quot;SUKI&nbsp;&nbsp;SHOULDER BAG&quot;</td><td>1</td><td>&quot;10/13/2011 14:33&quot;</td><td>4.13</td><td>null</td><td>&quot;United Kingdom&quot;</td></tr><tr><td>&hellip;</td><td>&hellip;</td><td>&hellip;</td><td>&hellip;</td><td>&hellip;</td><td>&hellip;</td><td>&hellip;</td><td>&hellip;</td></tr><tr><td>&quot;545687&quot;</td><td>&quot;22792&quot;</td><td>&quot;FLUTED ANTIQUE CANDLE HOLDER&quot;</td><td>24</td><td>&quot;3/6/2011 12:20&quot;</td><td>0.85</td><td>17769</td><td>&quot;United Kingdom&quot;</td></tr><tr><td>&quot;581439&quot;</td><td>&quot;90059C&quot;</td><td>&quot;DIAMANTE HAIR GRIP PACK/2 MONT…</td><td>1</td><td>&quot;12/8/2011 16:30&quot;</td><td>1.65</td><td>null</td><td>&quot;United Kingdom&quot;</td></tr><tr><td>&quot;556067&quot;</td><td>&quot;23169&quot;</td><td>&quot;CLASSIC GLASS COOKIE JAR&quot;</td><td>1</td><td>&quot;6/8/2011 14:35&quot;</td><td>4.15</td><td>12748</td><td>&quot;United Kingdom&quot;</td></tr><tr><td>&quot;558475&quot;</td><td>&quot;22355&quot;</td><td>&quot;CHARLOTTE BAG SUKI DESIGN&quot;</td><td>5</td><td>&quot;6/29/2011 15:58&quot;</td><td>1.63</td><td>null</td><td>&quot;United Kingdom&quot;</td></tr><tr><td>&quot;562024&quot;</td><td>&quot;22379&quot;</td><td>&quot;RECYCLING BAG RETROSPOT &quot;</td><td>1</td><td>&quot;8/1/2011 16:07&quot;</td><td>4.13</td><td>null</td><td>&quot;United Kingdom&quot;</td></tr></tbody></table></div>"
      ],
      "text/plain": [
       "shape: (535_187, 8)\n",
       "┌───────────┬───────────┬──────────────┬──────────┬─────────────┬───────────┬────────────┬─────────┐\n",
       "│ InvoiceNo ┆ StockCode ┆ Description  ┆ Quantity ┆ InvoiceDate ┆ UnitPrice ┆ CustomerID ┆ Country │\n",
       "│ ---       ┆ ---       ┆ ---          ┆ ---      ┆ ---         ┆ ---       ┆ ---        ┆ ---     │\n",
       "│ str       ┆ str       ┆ str          ┆ i64      ┆ str         ┆ f64       ┆ i64        ┆ str     │\n",
       "╞═══════════╪═══════════╪══════════════╪══════════╪═════════════╪═══════════╪════════════╪═════════╡\n",
       "│ C542635   ┆ 21977     ┆ PACK OF 60   ┆ -1       ┆ 1/31/2011   ┆ 0.55      ┆ 14688      ┆ United  │\n",
       "│           ┆           ┆ PINK PAISLEY ┆          ┆ 10:43       ┆           ┆            ┆ Kingdom │\n",
       "│           ┆           ┆ CAKE C…      ┆          ┆             ┆           ┆            ┆         │\n",
       "│ 547880    ┆ 22417     ┆ PACK OF 60   ┆ 1        ┆ 3/27/2011   ┆ 0.55      ┆ 15426      ┆ United  │\n",
       "│           ┆           ┆ SPACEBOY     ┆          ┆ 16:05       ┆           ┆            ┆ Kingdom │\n",
       "│           ┆           ┆ CAKE CASES   ┆          ┆             ┆           ┆            ┆         │\n",
       "│ 554079    ┆ 23255     ┆ CHILDRENS    ┆ 3        ┆ 5/22/2011   ┆ 4.15      ┆ 14546      ┆ United  │\n",
       "│           ┆           ┆ CUTLERY      ┆          ┆ 11:41       ┆           ┆            ┆ Kingdom │\n",
       "│           ┆           ┆ CIRCUS       ┆          ┆             ┆           ┆            ┆         │\n",
       "│           ┆           ┆ PARAD…       ┆          ┆             ┆           ┆            ┆         │\n",
       "│ 565781    ┆ 22984     ┆ CARD GINGHAM ┆ 12       ┆ 9/6/2011    ┆ 0.42      ┆ 13098      ┆ United  │\n",
       "│           ┆           ┆ ROSE         ┆          ┆ 15:34       ┆           ┆            ┆ Kingdom │\n",
       "│ 571061    ┆ 21935     ┆ SUKI         ┆ 1        ┆ 10/13/2011  ┆ 4.13      ┆ null       ┆ United  │\n",
       "│           ┆           ┆ SHOULDER BAG ┆          ┆ 14:33       ┆           ┆            ┆ Kingdom │\n",
       "│ …         ┆ …         ┆ …            ┆ …        ┆ …           ┆ …         ┆ …          ┆ …       │\n",
       "│ 545687    ┆ 22792     ┆ FLUTED       ┆ 24       ┆ 3/6/2011    ┆ 0.85      ┆ 17769      ┆ United  │\n",
       "│           ┆           ┆ ANTIQUE      ┆          ┆ 12:20       ┆           ┆            ┆ Kingdom │\n",
       "│           ┆           ┆ CANDLE       ┆          ┆             ┆           ┆            ┆         │\n",
       "│           ┆           ┆ HOLDER       ┆          ┆             ┆           ┆            ┆         │\n",
       "│ 581439    ┆ 90059C    ┆ DIAMANTE     ┆ 1        ┆ 12/8/2011   ┆ 1.65      ┆ null       ┆ United  │\n",
       "│           ┆           ┆ HAIR GRIP    ┆          ┆ 16:30       ┆           ┆            ┆ Kingdom │\n",
       "│           ┆           ┆ PACK/2 MONT… ┆          ┆             ┆           ┆            ┆         │\n",
       "│ 556067    ┆ 23169     ┆ CLASSIC      ┆ 1        ┆ 6/8/2011    ┆ 4.15      ┆ 12748      ┆ United  │\n",
       "│           ┆           ┆ GLASS COOKIE ┆          ┆ 14:35       ┆           ┆            ┆ Kingdom │\n",
       "│           ┆           ┆ JAR          ┆          ┆             ┆           ┆            ┆         │\n",
       "│ 558475    ┆ 22355     ┆ CHARLOTTE    ┆ 5        ┆ 6/29/2011   ┆ 1.63      ┆ null       ┆ United  │\n",
       "│           ┆           ┆ BAG SUKI     ┆          ┆ 15:58       ┆           ┆            ┆ Kingdom │\n",
       "│           ┆           ┆ DESIGN       ┆          ┆             ┆           ┆            ┆         │\n",
       "│ 562024    ┆ 22379     ┆ RECYCLING    ┆ 1        ┆ 8/1/2011    ┆ 4.13      ┆ null       ┆ United  │\n",
       "│           ┆           ┆ BAG          ┆          ┆ 16:07       ┆           ┆            ┆ Kingdom │\n",
       "│           ┆           ┆ RETROSPOT    ┆          ┆             ┆           ┆            ┆         │\n",
       "└───────────┴───────────┴──────────────┴──────────┴─────────────┴───────────┴────────────┴─────────┘"
      ]
     },
     "execution_count": 41,
     "metadata": {},
     "output_type": "execute_result"
    }
   ],
   "source": [
    "\n",
    "df = df.unique()\n",
    "df"
   ]
  },
  {
   "cell_type": "markdown",
   "metadata": {},
   "source": [
    "Ahora iremos con los valores negativos"
   ]
  },
  {
   "cell_type": "code",
   "execution_count": 42,
   "metadata": {},
   "outputs": [
    {
     "data": {
      "text/html": [
       "<div><style>\n",
       ".dataframe > thead > tr,\n",
       ".dataframe > tbody > tr {\n",
       "  text-align: right;\n",
       "  white-space: pre-wrap;\n",
       "}\n",
       "</style>\n",
       "<small>shape: (9_727, 8)</small><table border=\"1\" class=\"dataframe\"><thead><tr><th>InvoiceNo</th><th>StockCode</th><th>Description</th><th>Quantity</th><th>InvoiceDate</th><th>UnitPrice</th><th>CustomerID</th><th>Country</th></tr><tr><td>str</td><td>str</td><td>str</td><td>i64</td><td>str</td><td>f64</td><td>i64</td><td>str</td></tr></thead><tbody><tr><td>&quot;C542635&quot;</td><td>&quot;21977&quot;</td><td>&quot;PACK OF 60 PINK PAISLEY CAKE C…</td><td>-1</td><td>&quot;1/31/2011 10:43&quot;</td><td>0.55</td><td>14688</td><td>&quot;United Kingdom&quot;</td></tr><tr><td>&quot;C572110&quot;</td><td>&quot;23295&quot;</td><td>&quot;SET OF 12 MINI LOAF BAKING CAS…</td><td>-2</td><td>&quot;10/20/2011 19:11&quot;</td><td>0.83</td><td>14910</td><td>&quot;United Kingdom&quot;</td></tr><tr><td>&quot;C563553&quot;</td><td>&quot;22882&quot;</td><td>&quot;NUMBER TILE VINTAGE FONT 3&quot;</td><td>-1</td><td>&quot;8/17/2011 13:14&quot;</td><td>1.95</td><td>16755</td><td>&quot;United Kingdom&quot;</td></tr><tr><td>&quot;C572187&quot;</td><td>&quot;POST&quot;</td><td>&quot;POSTAGE&quot;</td><td>-1</td><td>&quot;10/21/2011 11:00&quot;</td><td>18.0</td><td>12403</td><td>&quot;Denmark&quot;</td></tr><tr><td>&quot;C541090&quot;</td><td>&quot;22649&quot;</td><td>&quot;STRAWBERRY FAIRY CAKE TEAPOT&quot;</td><td>-1</td><td>&quot;1/13/2011 12:52&quot;</td><td>4.95</td><td>17406</td><td>&quot;United Kingdom&quot;</td></tr><tr><td>&hellip;</td><td>&hellip;</td><td>&hellip;</td><td>&hellip;</td><td>&hellip;</td><td>&hellip;</td><td>&hellip;</td><td>&hellip;</td></tr><tr><td>&quot;C580507&quot;</td><td>&quot;22423&quot;</td><td>&quot;REGENCY CAKESTAND 3 TIER&quot;</td><td>-1</td><td>&quot;12/4/2011 13:37&quot;</td><td>12.75</td><td>15867</td><td>&quot;United Kingdom&quot;</td></tr><tr><td>&quot;C548389&quot;</td><td>&quot;22423&quot;</td><td>&quot;REGENCY CAKESTAND 3 TIER&quot;</td><td>-1</td><td>&quot;3/30/2011 16:54&quot;</td><td>12.75</td><td>16713</td><td>&quot;United Kingdom&quot;</td></tr><tr><td>&quot;C574505&quot;</td><td>&quot;85099B&quot;</td><td>&quot;JUMBO BAG RED RETROSPOT&quot;</td><td>-1</td><td>&quot;11/4/2011 13:22&quot;</td><td>2.08</td><td>13534</td><td>&quot;United Kingdom&quot;</td></tr><tr><td>&quot;C551948&quot;</td><td>&quot;21754&quot;</td><td>&quot;HOME BUILDING BLOCK WORD&quot;</td><td>-1</td><td>&quot;5/5/2011 11:21&quot;</td><td>5.45</td><td>17511</td><td>&quot;United Kingdom&quot;</td></tr><tr><td>&quot;C538647&quot;</td><td>&quot;22467&quot;</td><td>&quot;GUMBALL COAT RACK&quot;</td><td>-1</td><td>&quot;12/13/2010 14:56&quot;</td><td>2.55</td><td>15808</td><td>&quot;United Kingdom&quot;</td></tr></tbody></table></div>"
      ],
      "text/plain": [
       "shape: (9_727, 8)\n",
       "┌───────────┬───────────┬──────────────┬──────────┬─────────────┬───────────┬────────────┬─────────┐\n",
       "│ InvoiceNo ┆ StockCode ┆ Description  ┆ Quantity ┆ InvoiceDate ┆ UnitPrice ┆ CustomerID ┆ Country │\n",
       "│ ---       ┆ ---       ┆ ---          ┆ ---      ┆ ---         ┆ ---       ┆ ---        ┆ ---     │\n",
       "│ str       ┆ str       ┆ str          ┆ i64      ┆ str         ┆ f64       ┆ i64        ┆ str     │\n",
       "╞═══════════╪═══════════╪══════════════╪══════════╪═════════════╪═══════════╪════════════╪═════════╡\n",
       "│ C542635   ┆ 21977     ┆ PACK OF 60   ┆ -1       ┆ 1/31/2011   ┆ 0.55      ┆ 14688      ┆ United  │\n",
       "│           ┆           ┆ PINK PAISLEY ┆          ┆ 10:43       ┆           ┆            ┆ Kingdom │\n",
       "│           ┆           ┆ CAKE C…      ┆          ┆             ┆           ┆            ┆         │\n",
       "│ C572110   ┆ 23295     ┆ SET OF 12    ┆ -2       ┆ 10/20/2011  ┆ 0.83      ┆ 14910      ┆ United  │\n",
       "│           ┆           ┆ MINI LOAF    ┆          ┆ 19:11       ┆           ┆            ┆ Kingdom │\n",
       "│           ┆           ┆ BAKING CAS…  ┆          ┆             ┆           ┆            ┆         │\n",
       "│ C563553   ┆ 22882     ┆ NUMBER TILE  ┆ -1       ┆ 8/17/2011   ┆ 1.95      ┆ 16755      ┆ United  │\n",
       "│           ┆           ┆ VINTAGE FONT ┆          ┆ 13:14       ┆           ┆            ┆ Kingdom │\n",
       "│           ┆           ┆ 3            ┆          ┆             ┆           ┆            ┆         │\n",
       "│ C572187   ┆ POST      ┆ POSTAGE      ┆ -1       ┆ 10/21/2011  ┆ 18.0      ┆ 12403      ┆ Denmark │\n",
       "│           ┆           ┆              ┆          ┆ 11:00       ┆           ┆            ┆         │\n",
       "│ C541090   ┆ 22649     ┆ STRAWBERRY   ┆ -1       ┆ 1/13/2011   ┆ 4.95      ┆ 17406      ┆ United  │\n",
       "│           ┆           ┆ FAIRY CAKE   ┆          ┆ 12:52       ┆           ┆            ┆ Kingdom │\n",
       "│           ┆           ┆ TEAPOT       ┆          ┆             ┆           ┆            ┆         │\n",
       "│ …         ┆ …         ┆ …            ┆ …        ┆ …           ┆ …         ┆ …          ┆ …       │\n",
       "│ C580507   ┆ 22423     ┆ REGENCY      ┆ -1       ┆ 12/4/2011   ┆ 12.75     ┆ 15867      ┆ United  │\n",
       "│           ┆           ┆ CAKESTAND 3  ┆          ┆ 13:37       ┆           ┆            ┆ Kingdom │\n",
       "│           ┆           ┆ TIER         ┆          ┆             ┆           ┆            ┆         │\n",
       "│ C548389   ┆ 22423     ┆ REGENCY      ┆ -1       ┆ 3/30/2011   ┆ 12.75     ┆ 16713      ┆ United  │\n",
       "│           ┆           ┆ CAKESTAND 3  ┆          ┆ 16:54       ┆           ┆            ┆ Kingdom │\n",
       "│           ┆           ┆ TIER         ┆          ┆             ┆           ┆            ┆         │\n",
       "│ C574505   ┆ 85099B    ┆ JUMBO BAG    ┆ -1       ┆ 11/4/2011   ┆ 2.08      ┆ 13534      ┆ United  │\n",
       "│           ┆           ┆ RED          ┆          ┆ 13:22       ┆           ┆            ┆ Kingdom │\n",
       "│           ┆           ┆ RETROSPOT    ┆          ┆             ┆           ┆            ┆         │\n",
       "│ C551948   ┆ 21754     ┆ HOME         ┆ -1       ┆ 5/5/2011    ┆ 5.45      ┆ 17511      ┆ United  │\n",
       "│           ┆           ┆ BUILDING     ┆          ┆ 11:21       ┆           ┆            ┆ Kingdom │\n",
       "│           ┆           ┆ BLOCK WORD   ┆          ┆             ┆           ┆            ┆         │\n",
       "│ C538647   ┆ 22467     ┆ GUMBALL COAT ┆ -1       ┆ 12/13/2010  ┆ 2.55      ┆ 15808      ┆ United  │\n",
       "│           ┆           ┆ RACK         ┆          ┆ 14:56       ┆           ┆            ┆ Kingdom │\n",
       "└───────────┴───────────┴──────────────┴──────────┴─────────────┴───────────┴────────────┴─────────┘"
      ]
     },
     "execution_count": 42,
     "metadata": {},
     "output_type": "execute_result"
    }
   ],
   "source": [
    "df.filter((pl.col(\"Quantity\") < 0) | (pl.col(\"UnitPrice\") < 0))\n"
   ]
  },
  {
   "cell_type": "markdown",
   "metadata": {},
   "source": [
    "EXPLICAR PORQUE LOS NEGATIVOS NO LOS VAMOS A USAR COMO DEVOLUCIONES"
   ]
  },
  {
   "cell_type": "markdown",
   "metadata": {},
   "source": [
    "Tenemos unos cuantos tambien, tanto valores negaticos en la cantidad, como en el precio por unidad. Evidentemente tenemos que eliminar estos valores negativos porque no tienen ni pies ni cabeza."
   ]
  },
  {
   "cell_type": "code",
   "execution_count": 43,
   "metadata": {},
   "outputs": [
    {
     "data": {
      "text/html": [
       "<div><style>\n",
       ".dataframe > thead > tr,\n",
       ".dataframe > tbody > tr {\n",
       "  text-align: right;\n",
       "  white-space: pre-wrap;\n",
       "}\n",
       "</style>\n",
       "<small>shape: (525_460, 8)</small><table border=\"1\" class=\"dataframe\"><thead><tr><th>InvoiceNo</th><th>StockCode</th><th>Description</th><th>Quantity</th><th>InvoiceDate</th><th>UnitPrice</th><th>CustomerID</th><th>Country</th></tr><tr><td>str</td><td>str</td><td>str</td><td>i64</td><td>str</td><td>f64</td><td>i64</td><td>str</td></tr></thead><tbody><tr><td>&quot;547880&quot;</td><td>&quot;22417&quot;</td><td>&quot;PACK OF 60 SPACEBOY CAKE CASES&quot;</td><td>1</td><td>&quot;3/27/2011 16:05&quot;</td><td>0.55</td><td>15426</td><td>&quot;United Kingdom&quot;</td></tr><tr><td>&quot;554079&quot;</td><td>&quot;23255&quot;</td><td>&quot;CHILDRENS CUTLERY CIRCUS PARAD…</td><td>3</td><td>&quot;5/22/2011 11:41&quot;</td><td>4.15</td><td>14546</td><td>&quot;United Kingdom&quot;</td></tr><tr><td>&quot;565781&quot;</td><td>&quot;22984&quot;</td><td>&quot;CARD GINGHAM ROSE &quot;</td><td>12</td><td>&quot;9/6/2011 15:34&quot;</td><td>0.42</td><td>13098</td><td>&quot;United Kingdom&quot;</td></tr><tr><td>&quot;571061&quot;</td><td>&quot;21935&quot;</td><td>&quot;SUKI&nbsp;&nbsp;SHOULDER BAG&quot;</td><td>1</td><td>&quot;10/13/2011 14:33&quot;</td><td>4.13</td><td>null</td><td>&quot;United Kingdom&quot;</td></tr><tr><td>&quot;567959&quot;</td><td>&quot;POST&quot;</td><td>&quot;POSTAGE&quot;</td><td>4</td><td>&quot;9/23/2011 9:13&quot;</td><td>18.0</td><td>12516</td><td>&quot;Germany&quot;</td></tr><tr><td>&hellip;</td><td>&hellip;</td><td>&hellip;</td><td>&hellip;</td><td>&hellip;</td><td>&hellip;</td><td>&hellip;</td><td>&hellip;</td></tr><tr><td>&quot;545687&quot;</td><td>&quot;22792&quot;</td><td>&quot;FLUTED ANTIQUE CANDLE HOLDER&quot;</td><td>24</td><td>&quot;3/6/2011 12:20&quot;</td><td>0.85</td><td>17769</td><td>&quot;United Kingdom&quot;</td></tr><tr><td>&quot;581439&quot;</td><td>&quot;90059C&quot;</td><td>&quot;DIAMANTE HAIR GRIP PACK/2 MONT…</td><td>1</td><td>&quot;12/8/2011 16:30&quot;</td><td>1.65</td><td>null</td><td>&quot;United Kingdom&quot;</td></tr><tr><td>&quot;556067&quot;</td><td>&quot;23169&quot;</td><td>&quot;CLASSIC GLASS COOKIE JAR&quot;</td><td>1</td><td>&quot;6/8/2011 14:35&quot;</td><td>4.15</td><td>12748</td><td>&quot;United Kingdom&quot;</td></tr><tr><td>&quot;558475&quot;</td><td>&quot;22355&quot;</td><td>&quot;CHARLOTTE BAG SUKI DESIGN&quot;</td><td>5</td><td>&quot;6/29/2011 15:58&quot;</td><td>1.63</td><td>null</td><td>&quot;United Kingdom&quot;</td></tr><tr><td>&quot;562024&quot;</td><td>&quot;22379&quot;</td><td>&quot;RECYCLING BAG RETROSPOT &quot;</td><td>1</td><td>&quot;8/1/2011 16:07&quot;</td><td>4.13</td><td>null</td><td>&quot;United Kingdom&quot;</td></tr></tbody></table></div>"
      ],
      "text/plain": [
       "shape: (525_460, 8)\n",
       "┌───────────┬───────────┬──────────────┬──────────┬─────────────┬───────────┬────────────┬─────────┐\n",
       "│ InvoiceNo ┆ StockCode ┆ Description  ┆ Quantity ┆ InvoiceDate ┆ UnitPrice ┆ CustomerID ┆ Country │\n",
       "│ ---       ┆ ---       ┆ ---          ┆ ---      ┆ ---         ┆ ---       ┆ ---        ┆ ---     │\n",
       "│ str       ┆ str       ┆ str          ┆ i64      ┆ str         ┆ f64       ┆ i64        ┆ str     │\n",
       "╞═══════════╪═══════════╪══════════════╪══════════╪═════════════╪═══════════╪════════════╪═════════╡\n",
       "│ 547880    ┆ 22417     ┆ PACK OF 60   ┆ 1        ┆ 3/27/2011   ┆ 0.55      ┆ 15426      ┆ United  │\n",
       "│           ┆           ┆ SPACEBOY     ┆          ┆ 16:05       ┆           ┆            ┆ Kingdom │\n",
       "│           ┆           ┆ CAKE CASES   ┆          ┆             ┆           ┆            ┆         │\n",
       "│ 554079    ┆ 23255     ┆ CHILDRENS    ┆ 3        ┆ 5/22/2011   ┆ 4.15      ┆ 14546      ┆ United  │\n",
       "│           ┆           ┆ CUTLERY      ┆          ┆ 11:41       ┆           ┆            ┆ Kingdom │\n",
       "│           ┆           ┆ CIRCUS       ┆          ┆             ┆           ┆            ┆         │\n",
       "│           ┆           ┆ PARAD…       ┆          ┆             ┆           ┆            ┆         │\n",
       "│ 565781    ┆ 22984     ┆ CARD GINGHAM ┆ 12       ┆ 9/6/2011    ┆ 0.42      ┆ 13098      ┆ United  │\n",
       "│           ┆           ┆ ROSE         ┆          ┆ 15:34       ┆           ┆            ┆ Kingdom │\n",
       "│ 571061    ┆ 21935     ┆ SUKI         ┆ 1        ┆ 10/13/2011  ┆ 4.13      ┆ null       ┆ United  │\n",
       "│           ┆           ┆ SHOULDER BAG ┆          ┆ 14:33       ┆           ┆            ┆ Kingdom │\n",
       "│ 567959    ┆ POST      ┆ POSTAGE      ┆ 4        ┆ 9/23/2011   ┆ 18.0      ┆ 12516      ┆ Germany │\n",
       "│           ┆           ┆              ┆          ┆ 9:13        ┆           ┆            ┆         │\n",
       "│ …         ┆ …         ┆ …            ┆ …        ┆ …           ┆ …         ┆ …          ┆ …       │\n",
       "│ 545687    ┆ 22792     ┆ FLUTED       ┆ 24       ┆ 3/6/2011    ┆ 0.85      ┆ 17769      ┆ United  │\n",
       "│           ┆           ┆ ANTIQUE      ┆          ┆ 12:20       ┆           ┆            ┆ Kingdom │\n",
       "│           ┆           ┆ CANDLE       ┆          ┆             ┆           ┆            ┆         │\n",
       "│           ┆           ┆ HOLDER       ┆          ┆             ┆           ┆            ┆         │\n",
       "│ 581439    ┆ 90059C    ┆ DIAMANTE     ┆ 1        ┆ 12/8/2011   ┆ 1.65      ┆ null       ┆ United  │\n",
       "│           ┆           ┆ HAIR GRIP    ┆          ┆ 16:30       ┆           ┆            ┆ Kingdom │\n",
       "│           ┆           ┆ PACK/2 MONT… ┆          ┆             ┆           ┆            ┆         │\n",
       "│ 556067    ┆ 23169     ┆ CLASSIC      ┆ 1        ┆ 6/8/2011    ┆ 4.15      ┆ 12748      ┆ United  │\n",
       "│           ┆           ┆ GLASS COOKIE ┆          ┆ 14:35       ┆           ┆            ┆ Kingdom │\n",
       "│           ┆           ┆ JAR          ┆          ┆             ┆           ┆            ┆         │\n",
       "│ 558475    ┆ 22355     ┆ CHARLOTTE    ┆ 5        ┆ 6/29/2011   ┆ 1.63      ┆ null       ┆ United  │\n",
       "│           ┆           ┆ BAG SUKI     ┆          ┆ 15:58       ┆           ┆            ┆ Kingdom │\n",
       "│           ┆           ┆ DESIGN       ┆          ┆             ┆           ┆            ┆         │\n",
       "│ 562024    ┆ 22379     ┆ RECYCLING    ┆ 1        ┆ 8/1/2011    ┆ 4.13      ┆ null       ┆ United  │\n",
       "│           ┆           ┆ BAG          ┆          ┆ 16:07       ┆           ┆            ┆ Kingdom │\n",
       "│           ┆           ┆ RETROSPOT    ┆          ┆             ┆           ┆            ┆         │\n",
       "└───────────┴───────────┴──────────────┴──────────┴─────────────┴───────────┴────────────┴─────────┘"
      ]
     },
     "execution_count": 43,
     "metadata": {},
     "output_type": "execute_result"
    }
   ],
   "source": [
    "df = df.filter(~((pl.col(\"Quantity\") < 0) | (pl.col(\"UnitPrice\") < 0)))\n",
    "df\n"
   ]
  },
  {
   "cell_type": "markdown",
   "metadata": {},
   "source": [
    "Es el turno de la fecha de facturacion, vamos a transformar la columna a tipo date"
   ]
  },
  {
   "cell_type": "code",
   "execution_count": 44,
   "metadata": {},
   "outputs": [
    {
     "data": {
      "text/html": [
       "<div><style>\n",
       ".dataframe > thead > tr,\n",
       ".dataframe > tbody > tr {\n",
       "  text-align: right;\n",
       "  white-space: pre-wrap;\n",
       "}\n",
       "</style>\n",
       "<small>shape: (525_460, 8)</small><table border=\"1\" class=\"dataframe\"><thead><tr><th>InvoiceNo</th><th>StockCode</th><th>Description</th><th>Quantity</th><th>InvoiceDate</th><th>UnitPrice</th><th>CustomerID</th><th>Country</th></tr><tr><td>str</td><td>str</td><td>str</td><td>i64</td><td>date</td><td>f64</td><td>i64</td><td>str</td></tr></thead><tbody><tr><td>&quot;547880&quot;</td><td>&quot;22417&quot;</td><td>&quot;PACK OF 60 SPACEBOY CAKE CASES&quot;</td><td>1</td><td>2011-03-27</td><td>0.55</td><td>15426</td><td>&quot;United Kingdom&quot;</td></tr><tr><td>&quot;554079&quot;</td><td>&quot;23255&quot;</td><td>&quot;CHILDRENS CUTLERY CIRCUS PARAD…</td><td>3</td><td>2011-05-22</td><td>4.15</td><td>14546</td><td>&quot;United Kingdom&quot;</td></tr><tr><td>&quot;565781&quot;</td><td>&quot;22984&quot;</td><td>&quot;CARD GINGHAM ROSE &quot;</td><td>12</td><td>2011-09-06</td><td>0.42</td><td>13098</td><td>&quot;United Kingdom&quot;</td></tr><tr><td>&quot;571061&quot;</td><td>&quot;21935&quot;</td><td>&quot;SUKI&nbsp;&nbsp;SHOULDER BAG&quot;</td><td>1</td><td>2011-10-13</td><td>4.13</td><td>null</td><td>&quot;United Kingdom&quot;</td></tr><tr><td>&quot;567959&quot;</td><td>&quot;POST&quot;</td><td>&quot;POSTAGE&quot;</td><td>4</td><td>2011-09-23</td><td>18.0</td><td>12516</td><td>&quot;Germany&quot;</td></tr><tr><td>&hellip;</td><td>&hellip;</td><td>&hellip;</td><td>&hellip;</td><td>&hellip;</td><td>&hellip;</td><td>&hellip;</td><td>&hellip;</td></tr><tr><td>&quot;545687&quot;</td><td>&quot;22792&quot;</td><td>&quot;FLUTED ANTIQUE CANDLE HOLDER&quot;</td><td>24</td><td>2011-03-06</td><td>0.85</td><td>17769</td><td>&quot;United Kingdom&quot;</td></tr><tr><td>&quot;581439&quot;</td><td>&quot;90059C&quot;</td><td>&quot;DIAMANTE HAIR GRIP PACK/2 MONT…</td><td>1</td><td>2011-12-08</td><td>1.65</td><td>null</td><td>&quot;United Kingdom&quot;</td></tr><tr><td>&quot;556067&quot;</td><td>&quot;23169&quot;</td><td>&quot;CLASSIC GLASS COOKIE JAR&quot;</td><td>1</td><td>2011-06-08</td><td>4.15</td><td>12748</td><td>&quot;United Kingdom&quot;</td></tr><tr><td>&quot;558475&quot;</td><td>&quot;22355&quot;</td><td>&quot;CHARLOTTE BAG SUKI DESIGN&quot;</td><td>5</td><td>2011-06-29</td><td>1.63</td><td>null</td><td>&quot;United Kingdom&quot;</td></tr><tr><td>&quot;562024&quot;</td><td>&quot;22379&quot;</td><td>&quot;RECYCLING BAG RETROSPOT &quot;</td><td>1</td><td>2011-08-01</td><td>4.13</td><td>null</td><td>&quot;United Kingdom&quot;</td></tr></tbody></table></div>"
      ],
      "text/plain": [
       "shape: (525_460, 8)\n",
       "┌───────────┬───────────┬──────────────┬──────────┬─────────────┬───────────┬────────────┬─────────┐\n",
       "│ InvoiceNo ┆ StockCode ┆ Description  ┆ Quantity ┆ InvoiceDate ┆ UnitPrice ┆ CustomerID ┆ Country │\n",
       "│ ---       ┆ ---       ┆ ---          ┆ ---      ┆ ---         ┆ ---       ┆ ---        ┆ ---     │\n",
       "│ str       ┆ str       ┆ str          ┆ i64      ┆ date        ┆ f64       ┆ i64        ┆ str     │\n",
       "╞═══════════╪═══════════╪══════════════╪══════════╪═════════════╪═══════════╪════════════╪═════════╡\n",
       "│ 547880    ┆ 22417     ┆ PACK OF 60   ┆ 1        ┆ 2011-03-27  ┆ 0.55      ┆ 15426      ┆ United  │\n",
       "│           ┆           ┆ SPACEBOY     ┆          ┆             ┆           ┆            ┆ Kingdom │\n",
       "│           ┆           ┆ CAKE CASES   ┆          ┆             ┆           ┆            ┆         │\n",
       "│ 554079    ┆ 23255     ┆ CHILDRENS    ┆ 3        ┆ 2011-05-22  ┆ 4.15      ┆ 14546      ┆ United  │\n",
       "│           ┆           ┆ CUTLERY      ┆          ┆             ┆           ┆            ┆ Kingdom │\n",
       "│           ┆           ┆ CIRCUS       ┆          ┆             ┆           ┆            ┆         │\n",
       "│           ┆           ┆ PARAD…       ┆          ┆             ┆           ┆            ┆         │\n",
       "│ 565781    ┆ 22984     ┆ CARD GINGHAM ┆ 12       ┆ 2011-09-06  ┆ 0.42      ┆ 13098      ┆ United  │\n",
       "│           ┆           ┆ ROSE         ┆          ┆             ┆           ┆            ┆ Kingdom │\n",
       "│ 571061    ┆ 21935     ┆ SUKI         ┆ 1        ┆ 2011-10-13  ┆ 4.13      ┆ null       ┆ United  │\n",
       "│           ┆           ┆ SHOULDER BAG ┆          ┆             ┆           ┆            ┆ Kingdom │\n",
       "│ 567959    ┆ POST      ┆ POSTAGE      ┆ 4        ┆ 2011-09-23  ┆ 18.0      ┆ 12516      ┆ Germany │\n",
       "│ …         ┆ …         ┆ …            ┆ …        ┆ …           ┆ …         ┆ …          ┆ …       │\n",
       "│ 545687    ┆ 22792     ┆ FLUTED       ┆ 24       ┆ 2011-03-06  ┆ 0.85      ┆ 17769      ┆ United  │\n",
       "│           ┆           ┆ ANTIQUE      ┆          ┆             ┆           ┆            ┆ Kingdom │\n",
       "│           ┆           ┆ CANDLE       ┆          ┆             ┆           ┆            ┆         │\n",
       "│           ┆           ┆ HOLDER       ┆          ┆             ┆           ┆            ┆         │\n",
       "│ 581439    ┆ 90059C    ┆ DIAMANTE     ┆ 1        ┆ 2011-12-08  ┆ 1.65      ┆ null       ┆ United  │\n",
       "│           ┆           ┆ HAIR GRIP    ┆          ┆             ┆           ┆            ┆ Kingdom │\n",
       "│           ┆           ┆ PACK/2 MONT… ┆          ┆             ┆           ┆            ┆         │\n",
       "│ 556067    ┆ 23169     ┆ CLASSIC      ┆ 1        ┆ 2011-06-08  ┆ 4.15      ┆ 12748      ┆ United  │\n",
       "│           ┆           ┆ GLASS COOKIE ┆          ┆             ┆           ┆            ┆ Kingdom │\n",
       "│           ┆           ┆ JAR          ┆          ┆             ┆           ┆            ┆         │\n",
       "│ 558475    ┆ 22355     ┆ CHARLOTTE    ┆ 5        ┆ 2011-06-29  ┆ 1.63      ┆ null       ┆ United  │\n",
       "│           ┆           ┆ BAG SUKI     ┆          ┆             ┆           ┆            ┆ Kingdom │\n",
       "│           ┆           ┆ DESIGN       ┆          ┆             ┆           ┆            ┆         │\n",
       "│ 562024    ┆ 22379     ┆ RECYCLING    ┆ 1        ┆ 2011-08-01  ┆ 4.13      ┆ null       ┆ United  │\n",
       "│           ┆           ┆ BAG          ┆          ┆             ┆           ┆            ┆ Kingdom │\n",
       "│           ┆           ┆ RETROSPOT    ┆          ┆             ┆           ┆            ┆         │\n",
       "└───────────┴───────────┴──────────────┴──────────┴─────────────┴───────────┴────────────┴─────────┘"
      ]
     },
     "execution_count": 44,
     "metadata": {},
     "output_type": "execute_result"
    }
   ],
   "source": [
    "df = df.with_columns(pl.col(\"InvoiceDate\").str.strptime(pl.Date, \"%m/%d/%Y %H:%M\"))\n",
    "df\n"
   ]
  },
  {
   "cell_type": "markdown",
   "metadata": {},
   "source": [
    "Lo siguiente sera buscar outliers"
   ]
  },
  {
   "cell_type": "code",
   "execution_count": 45,
   "metadata": {},
   "outputs": [
    {
     "data": {
      "text/html": [
       "<div><style>\n",
       ".dataframe > thead > tr,\n",
       ".dataframe > tbody > tr {\n",
       "  text-align: right;\n",
       "  white-space: pre-wrap;\n",
       "}\n",
       "</style>\n",
       "<small>shape: (9, 9)</small><table border=\"1\" class=\"dataframe\"><thead><tr><th>statistic</th><th>InvoiceNo</th><th>StockCode</th><th>Description</th><th>Quantity</th><th>InvoiceDate</th><th>UnitPrice</th><th>CustomerID</th><th>Country</th></tr><tr><td>str</td><td>str</td><td>str</td><td>str</td><td>f64</td><td>str</td><td>f64</td><td>f64</td><td>str</td></tr></thead><tbody><tr><td>&quot;count&quot;</td><td>&quot;525460&quot;</td><td>&quot;525460&quot;</td><td>&quot;525460&quot;</td><td>525460.0</td><td>&quot;525460&quot;</td><td>525460.0</td><td>392732.0</td><td>&quot;525460&quot;</td></tr><tr><td>&quot;null_count&quot;</td><td>&quot;0&quot;</td><td>&quot;0&quot;</td><td>&quot;0&quot;</td><td>0.0</td><td>&quot;0&quot;</td><td>0.0</td><td>132728.0</td><td>&quot;0&quot;</td></tr><tr><td>&quot;mean&quot;</td><td>null</td><td>null</td><td>null</td><td>10.68106</td><td>&quot;2011-07-04 00:41:45.379000&quot;</td><td>3.918228</td><td>15287.734822</td><td>null</td></tr><tr><td>&quot;std&quot;</td><td>null</td><td>null</td><td>null</td><td>157.39957</td><td>null</td><td>36.07327</td><td>1713.567773</td><td>null</td></tr><tr><td>&quot;min&quot;</td><td>&quot;536365&quot;</td><td>&quot;10002&quot;</td><td>&quot; 4 PURPLE FLOCK DINNER CANDLES&quot;</td><td>1.0</td><td>&quot;2010-12-01&quot;</td><td>0.0</td><td>12346.0</td><td>&quot;Australia&quot;</td></tr><tr><td>&quot;25%&quot;</td><td>null</td><td>null</td><td>null</td><td>1.0</td><td>&quot;2011-03-28&quot;</td><td>1.25</td><td>13955.0</td><td>null</td></tr><tr><td>&quot;50%&quot;</td><td>null</td><td>null</td><td>null</td><td>4.0</td><td>&quot;2011-07-20&quot;</td><td>2.08</td><td>15150.0</td><td>null</td></tr><tr><td>&quot;75%&quot;</td><td>null</td><td>null</td><td>null</td><td>11.0</td><td>&quot;2011-10-19&quot;</td><td>4.13</td><td>16791.0</td><td>null</td></tr><tr><td>&quot;max&quot;</td><td>&quot;A563185&quot;</td><td>&quot;m&quot;</td><td>&quot;wrongly sold (22719) barcode&quot;</td><td>80995.0</td><td>&quot;2011-12-09&quot;</td><td>13541.33</td><td>18287.0</td><td>&quot;Unspecified&quot;</td></tr></tbody></table></div>"
      ],
      "text/plain": [
       "shape: (9, 9)\n",
       "┌───────────┬───────────┬───────────┬───────────┬───┬───────────┬───────────┬───────────┬──────────┐\n",
       "│ statistic ┆ InvoiceNo ┆ StockCode ┆ Descripti ┆ … ┆ InvoiceDa ┆ UnitPrice ┆ CustomerI ┆ Country  │\n",
       "│ ---       ┆ ---       ┆ ---       ┆ on        ┆   ┆ te        ┆ ---       ┆ D         ┆ ---      │\n",
       "│ str       ┆ str       ┆ str       ┆ ---       ┆   ┆ ---       ┆ f64       ┆ ---       ┆ str      │\n",
       "│           ┆           ┆           ┆ str       ┆   ┆ str       ┆           ┆ f64       ┆          │\n",
       "╞═══════════╪═══════════╪═══════════╪═══════════╪═══╪═══════════╪═══════════╪═══════════╪══════════╡\n",
       "│ count     ┆ 525460    ┆ 525460    ┆ 525460    ┆ … ┆ 525460    ┆ 525460.0  ┆ 392732.0  ┆ 525460   │\n",
       "│ null_coun ┆ 0         ┆ 0         ┆ 0         ┆ … ┆ 0         ┆ 0.0       ┆ 132728.0  ┆ 0        │\n",
       "│ t         ┆           ┆           ┆           ┆   ┆           ┆           ┆           ┆          │\n",
       "│ mean      ┆ null      ┆ null      ┆ null      ┆ … ┆ 2011-07-0 ┆ 3.918228  ┆ 15287.734 ┆ null     │\n",
       "│           ┆           ┆           ┆           ┆   ┆ 4 00:41:4 ┆           ┆ 822       ┆          │\n",
       "│           ┆           ┆           ┆           ┆   ┆ 5.379000  ┆           ┆           ┆          │\n",
       "│ std       ┆ null      ┆ null      ┆ null      ┆ … ┆ null      ┆ 36.07327  ┆ 1713.5677 ┆ null     │\n",
       "│           ┆           ┆           ┆           ┆   ┆           ┆           ┆ 73        ┆          │\n",
       "│ min       ┆ 536365    ┆ 10002     ┆ 4 PURPLE  ┆ … ┆ 2010-12-0 ┆ 0.0       ┆ 12346.0   ┆ Australi │\n",
       "│           ┆           ┆           ┆ FLOCK     ┆   ┆ 1         ┆           ┆           ┆ a        │\n",
       "│           ┆           ┆           ┆ DINNER    ┆   ┆           ┆           ┆           ┆          │\n",
       "│           ┆           ┆           ┆ CANDLES   ┆   ┆           ┆           ┆           ┆          │\n",
       "│ 25%       ┆ null      ┆ null      ┆ null      ┆ … ┆ 2011-03-2 ┆ 1.25      ┆ 13955.0   ┆ null     │\n",
       "│           ┆           ┆           ┆           ┆   ┆ 8         ┆           ┆           ┆          │\n",
       "│ 50%       ┆ null      ┆ null      ┆ null      ┆ … ┆ 2011-07-2 ┆ 2.08      ┆ 15150.0   ┆ null     │\n",
       "│           ┆           ┆           ┆           ┆   ┆ 0         ┆           ┆           ┆          │\n",
       "│ 75%       ┆ null      ┆ null      ┆ null      ┆ … ┆ 2011-10-1 ┆ 4.13      ┆ 16791.0   ┆ null     │\n",
       "│           ┆           ┆           ┆           ┆   ┆ 9         ┆           ┆           ┆          │\n",
       "│ max       ┆ A563185   ┆ m         ┆ wrongly   ┆ … ┆ 2011-12-0 ┆ 13541.33  ┆ 18287.0   ┆ Unspecif │\n",
       "│           ┆           ┆           ┆ sold      ┆   ┆ 9         ┆           ┆           ┆ ied      │\n",
       "│           ┆           ┆           ┆ (22719)   ┆   ┆           ┆           ┆           ┆          │\n",
       "│           ┆           ┆           ┆ barcode   ┆   ┆           ┆           ┆           ┆          │\n",
       "└───────────┴───────────┴───────────┴───────────┴───┴───────────┴───────────┴───────────┴──────────┘"
      ]
     },
     "execution_count": 45,
     "metadata": {},
     "output_type": "execute_result"
    }
   ],
   "source": [
    "df.describe()\n"
   ]
  },
  {
   "cell_type": "markdown",
   "metadata": {},
   "source": [
    "Encontramos cosas un poco raras:\n",
    "\n",
    "El valor minimo de precio por unidad no puede ser 0, aunque puedan ser regalos que se hacen al comprar ciertos articulos es algo excepcional y necesitamos calcular las ventas por dia lo mas normalizadas posibles.\n",
    "filtraremos por un minimo de .1"
   ]
  },
  {
   "cell_type": "code",
   "execution_count": 46,
   "metadata": {},
   "outputs": [
    {
     "data": {
      "text/html": [
       "<div><style>\n",
       ".dataframe > thead > tr,\n",
       ".dataframe > tbody > tr {\n",
       "  text-align: right;\n",
       "  white-space: pre-wrap;\n",
       "}\n",
       "</style>\n",
       "<small>shape: (829, 8)</small><table border=\"1\" class=\"dataframe\"><thead><tr><th>InvoiceNo</th><th>StockCode</th><th>Description</th><th>Quantity</th><th>InvoiceDate</th><th>UnitPrice</th><th>CustomerID</th><th>Country</th></tr><tr><td>str</td><td>str</td><td>str</td><td>i64</td><td>date</td><td>f64</td><td>i64</td><td>str</td></tr></thead><tbody><tr><td>&quot;553539&quot;</td><td>&quot;22201&quot;</td><td>&quot;FRYING PAN BLUE POLKADOT&quot;</td><td>1</td><td>2011-05-17</td><td>0.0</td><td>null</td><td>&quot;United Kingdom&quot;</td></tr><tr><td>&quot;540355&quot;</td><td>&quot;20724&quot;</td><td>&quot;RED RETROSPOT CHARLOTTE BAG&quot;</td><td>1</td><td>2011-01-06</td><td>0.0</td><td>null</td><td>&quot;United Kingdom&quot;</td></tr><tr><td>&quot;539856&quot;</td><td>&quot;21912&quot;</td><td>&quot;VINTAGE SNAKES &amp; LADDERS&quot;</td><td>1</td><td>2010-12-22</td><td>0.0</td><td>null</td><td>&quot;United Kingdom&quot;</td></tr><tr><td>&quot;553521&quot;</td><td>&quot;22203&quot;</td><td>&quot;MILK PAN RED RETROSPOT&quot;</td><td>1</td><td>2011-05-17</td><td>0.0</td><td>null</td><td>&quot;United Kingdom&quot;</td></tr><tr><td>&quot;539856&quot;</td><td>&quot;22514&quot;</td><td>&quot;CHILDS GARDEN SPADE BLUE&quot;</td><td>1</td><td>2010-12-22</td><td>0.0</td><td>null</td><td>&quot;United Kingdom&quot;</td></tr><tr><td>&hellip;</td><td>&hellip;</td><td>&hellip;</td><td>&hellip;</td><td>&hellip;</td><td>&hellip;</td><td>&hellip;</td><td>&hellip;</td></tr><tr><td>&quot;547704&quot;</td><td>&quot;21621&quot;</td><td>&quot;rcvd be air temp fix for dotco…</td><td>100</td><td>2011-03-24</td><td>0.0</td><td>null</td><td>&quot;United Kingdom&quot;</td></tr><tr><td>&quot;558340&quot;</td><td>&quot;22385&quot;</td><td>&quot;JUMBO BAG SPACEBOY DESIGN&quot;</td><td>1</td><td>2011-06-28</td><td>0.0</td><td>null</td><td>&quot;United Kingdom&quot;</td></tr><tr><td>&quot;571904&quot;</td><td>&quot;16045&quot;</td><td>&quot;POPART WOODEN PENCILS ASST&quot;</td><td>100</td><td>2011-10-19</td><td>0.04</td><td>12522</td><td>&quot;Germany&quot;</td></tr><tr><td>&quot;558028&quot;</td><td>&quot;16218&quot;</td><td>&quot;CARTOON&nbsp;&nbsp;PENCIL SHARPENERS&quot;</td><td>80</td><td>2011-06-24</td><td>0.06</td><td>15128</td><td>&quot;United Kingdom&quot;</td></tr><tr><td>&quot;553539&quot;</td><td>&quot;22523&quot;</td><td>&quot;CHILDS GARDEN FORK PINK&quot;</td><td>1</td><td>2011-05-17</td><td>0.0</td><td>null</td><td>&quot;United Kingdom&quot;</td></tr></tbody></table></div>"
      ],
      "text/plain": [
       "shape: (829, 8)\n",
       "┌───────────┬───────────┬──────────────┬──────────┬─────────────┬───────────┬────────────┬─────────┐\n",
       "│ InvoiceNo ┆ StockCode ┆ Description  ┆ Quantity ┆ InvoiceDate ┆ UnitPrice ┆ CustomerID ┆ Country │\n",
       "│ ---       ┆ ---       ┆ ---          ┆ ---      ┆ ---         ┆ ---       ┆ ---        ┆ ---     │\n",
       "│ str       ┆ str       ┆ str          ┆ i64      ┆ date        ┆ f64       ┆ i64        ┆ str     │\n",
       "╞═══════════╪═══════════╪══════════════╪══════════╪═════════════╪═══════════╪════════════╪═════════╡\n",
       "│ 553539    ┆ 22201     ┆ FRYING PAN   ┆ 1        ┆ 2011-05-17  ┆ 0.0       ┆ null       ┆ United  │\n",
       "│           ┆           ┆ BLUE         ┆          ┆             ┆           ┆            ┆ Kingdom │\n",
       "│           ┆           ┆ POLKADOT     ┆          ┆             ┆           ┆            ┆         │\n",
       "│ 540355    ┆ 20724     ┆ RED          ┆ 1        ┆ 2011-01-06  ┆ 0.0       ┆ null       ┆ United  │\n",
       "│           ┆           ┆ RETROSPOT    ┆          ┆             ┆           ┆            ┆ Kingdom │\n",
       "│           ┆           ┆ CHARLOTTE    ┆          ┆             ┆           ┆            ┆         │\n",
       "│           ┆           ┆ BAG          ┆          ┆             ┆           ┆            ┆         │\n",
       "│ 539856    ┆ 21912     ┆ VINTAGE      ┆ 1        ┆ 2010-12-22  ┆ 0.0       ┆ null       ┆ United  │\n",
       "│           ┆           ┆ SNAKES &     ┆          ┆             ┆           ┆            ┆ Kingdom │\n",
       "│           ┆           ┆ LADDERS      ┆          ┆             ┆           ┆            ┆         │\n",
       "│ 553521    ┆ 22203     ┆ MILK PAN RED ┆ 1        ┆ 2011-05-17  ┆ 0.0       ┆ null       ┆ United  │\n",
       "│           ┆           ┆ RETROSPOT    ┆          ┆             ┆           ┆            ┆ Kingdom │\n",
       "│ 539856    ┆ 22514     ┆ CHILDS       ┆ 1        ┆ 2010-12-22  ┆ 0.0       ┆ null       ┆ United  │\n",
       "│           ┆           ┆ GARDEN SPADE ┆          ┆             ┆           ┆            ┆ Kingdom │\n",
       "│           ┆           ┆ BLUE         ┆          ┆             ┆           ┆            ┆         │\n",
       "│ …         ┆ …         ┆ …            ┆ …        ┆ …           ┆ …         ┆ …          ┆ …       │\n",
       "│ 547704    ┆ 21621     ┆ rcvd be air  ┆ 100      ┆ 2011-03-24  ┆ 0.0       ┆ null       ┆ United  │\n",
       "│           ┆           ┆ temp fix for ┆          ┆             ┆           ┆            ┆ Kingdom │\n",
       "│           ┆           ┆ dotco…       ┆          ┆             ┆           ┆            ┆         │\n",
       "│ 558340    ┆ 22385     ┆ JUMBO BAG    ┆ 1        ┆ 2011-06-28  ┆ 0.0       ┆ null       ┆ United  │\n",
       "│           ┆           ┆ SPACEBOY     ┆          ┆             ┆           ┆            ┆ Kingdom │\n",
       "│           ┆           ┆ DESIGN       ┆          ┆             ┆           ┆            ┆         │\n",
       "│ 571904    ┆ 16045     ┆ POPART       ┆ 100      ┆ 2011-10-19  ┆ 0.04      ┆ 12522      ┆ Germany │\n",
       "│           ┆           ┆ WOODEN       ┆          ┆             ┆           ┆            ┆         │\n",
       "│           ┆           ┆ PENCILS ASST ┆          ┆             ┆           ┆            ┆         │\n",
       "│ 558028    ┆ 16218     ┆ CARTOON      ┆ 80       ┆ 2011-06-24  ┆ 0.06      ┆ 15128      ┆ United  │\n",
       "│           ┆           ┆ PENCIL       ┆          ┆             ┆           ┆            ┆ Kingdom │\n",
       "│           ┆           ┆ SHARPENERS   ┆          ┆             ┆           ┆            ┆         │\n",
       "│ 553539    ┆ 22523     ┆ CHILDS       ┆ 1        ┆ 2011-05-17  ┆ 0.0       ┆ null       ┆ United  │\n",
       "│           ┆           ┆ GARDEN FORK  ┆          ┆             ┆           ┆            ┆ Kingdom │\n",
       "│           ┆           ┆ PINK         ┆          ┆             ┆           ┆            ┆         │\n",
       "└───────────┴───────────┴──────────────┴──────────┴─────────────┴───────────┴────────────┴─────────┘"
      ]
     },
     "execution_count": 46,
     "metadata": {},
     "output_type": "execute_result"
    }
   ],
   "source": [
    "df.filter(pl.col(\"UnitPrice\") < .1)\n"
   ]
  },
  {
   "cell_type": "markdown",
   "metadata": {},
   "source": [
    "Tenemos 40 casos que tenemos que eliminar "
   ]
  },
  {
   "cell_type": "code",
   "execution_count": 47,
   "metadata": {},
   "outputs": [
    {
     "data": {
      "text/html": [
       "<div><style>\n",
       ".dataframe > thead > tr,\n",
       ".dataframe > tbody > tr {\n",
       "  text-align: right;\n",
       "  white-space: pre-wrap;\n",
       "}\n",
       "</style>\n",
       "<small>shape: (524_578, 8)</small><table border=\"1\" class=\"dataframe\"><thead><tr><th>InvoiceNo</th><th>StockCode</th><th>Description</th><th>Quantity</th><th>InvoiceDate</th><th>UnitPrice</th><th>CustomerID</th><th>Country</th></tr><tr><td>str</td><td>str</td><td>str</td><td>i64</td><td>date</td><td>f64</td><td>i64</td><td>str</td></tr></thead><tbody><tr><td>&quot;547880&quot;</td><td>&quot;22417&quot;</td><td>&quot;PACK OF 60 SPACEBOY CAKE CASES&quot;</td><td>1</td><td>2011-03-27</td><td>0.55</td><td>15426</td><td>&quot;United Kingdom&quot;</td></tr><tr><td>&quot;554079&quot;</td><td>&quot;23255&quot;</td><td>&quot;CHILDRENS CUTLERY CIRCUS PARAD…</td><td>3</td><td>2011-05-22</td><td>4.15</td><td>14546</td><td>&quot;United Kingdom&quot;</td></tr><tr><td>&quot;565781&quot;</td><td>&quot;22984&quot;</td><td>&quot;CARD GINGHAM ROSE &quot;</td><td>12</td><td>2011-09-06</td><td>0.42</td><td>13098</td><td>&quot;United Kingdom&quot;</td></tr><tr><td>&quot;571061&quot;</td><td>&quot;21935&quot;</td><td>&quot;SUKI&nbsp;&nbsp;SHOULDER BAG&quot;</td><td>1</td><td>2011-10-13</td><td>4.13</td><td>null</td><td>&quot;United Kingdom&quot;</td></tr><tr><td>&quot;567959&quot;</td><td>&quot;POST&quot;</td><td>&quot;POSTAGE&quot;</td><td>4</td><td>2011-09-23</td><td>18.0</td><td>12516</td><td>&quot;Germany&quot;</td></tr><tr><td>&hellip;</td><td>&hellip;</td><td>&hellip;</td><td>&hellip;</td><td>&hellip;</td><td>&hellip;</td><td>&hellip;</td><td>&hellip;</td></tr><tr><td>&quot;545687&quot;</td><td>&quot;22792&quot;</td><td>&quot;FLUTED ANTIQUE CANDLE HOLDER&quot;</td><td>24</td><td>2011-03-06</td><td>0.85</td><td>17769</td><td>&quot;United Kingdom&quot;</td></tr><tr><td>&quot;581439&quot;</td><td>&quot;90059C&quot;</td><td>&quot;DIAMANTE HAIR GRIP PACK/2 MONT…</td><td>1</td><td>2011-12-08</td><td>1.65</td><td>null</td><td>&quot;United Kingdom&quot;</td></tr><tr><td>&quot;556067&quot;</td><td>&quot;23169&quot;</td><td>&quot;CLASSIC GLASS COOKIE JAR&quot;</td><td>1</td><td>2011-06-08</td><td>4.15</td><td>12748</td><td>&quot;United Kingdom&quot;</td></tr><tr><td>&quot;558475&quot;</td><td>&quot;22355&quot;</td><td>&quot;CHARLOTTE BAG SUKI DESIGN&quot;</td><td>5</td><td>2011-06-29</td><td>1.63</td><td>null</td><td>&quot;United Kingdom&quot;</td></tr><tr><td>&quot;562024&quot;</td><td>&quot;22379&quot;</td><td>&quot;RECYCLING BAG RETROSPOT &quot;</td><td>1</td><td>2011-08-01</td><td>4.13</td><td>null</td><td>&quot;United Kingdom&quot;</td></tr></tbody></table></div>"
      ],
      "text/plain": [
       "shape: (524_578, 8)\n",
       "┌───────────┬───────────┬──────────────┬──────────┬─────────────┬───────────┬────────────┬─────────┐\n",
       "│ InvoiceNo ┆ StockCode ┆ Description  ┆ Quantity ┆ InvoiceDate ┆ UnitPrice ┆ CustomerID ┆ Country │\n",
       "│ ---       ┆ ---       ┆ ---          ┆ ---      ┆ ---         ┆ ---       ┆ ---        ┆ ---     │\n",
       "│ str       ┆ str       ┆ str          ┆ i64      ┆ date        ┆ f64       ┆ i64        ┆ str     │\n",
       "╞═══════════╪═══════════╪══════════════╪══════════╪═════════════╪═══════════╪════════════╪═════════╡\n",
       "│ 547880    ┆ 22417     ┆ PACK OF 60   ┆ 1        ┆ 2011-03-27  ┆ 0.55      ┆ 15426      ┆ United  │\n",
       "│           ┆           ┆ SPACEBOY     ┆          ┆             ┆           ┆            ┆ Kingdom │\n",
       "│           ┆           ┆ CAKE CASES   ┆          ┆             ┆           ┆            ┆         │\n",
       "│ 554079    ┆ 23255     ┆ CHILDRENS    ┆ 3        ┆ 2011-05-22  ┆ 4.15      ┆ 14546      ┆ United  │\n",
       "│           ┆           ┆ CUTLERY      ┆          ┆             ┆           ┆            ┆ Kingdom │\n",
       "│           ┆           ┆ CIRCUS       ┆          ┆             ┆           ┆            ┆         │\n",
       "│           ┆           ┆ PARAD…       ┆          ┆             ┆           ┆            ┆         │\n",
       "│ 565781    ┆ 22984     ┆ CARD GINGHAM ┆ 12       ┆ 2011-09-06  ┆ 0.42      ┆ 13098      ┆ United  │\n",
       "│           ┆           ┆ ROSE         ┆          ┆             ┆           ┆            ┆ Kingdom │\n",
       "│ 571061    ┆ 21935     ┆ SUKI         ┆ 1        ┆ 2011-10-13  ┆ 4.13      ┆ null       ┆ United  │\n",
       "│           ┆           ┆ SHOULDER BAG ┆          ┆             ┆           ┆            ┆ Kingdom │\n",
       "│ 567959    ┆ POST      ┆ POSTAGE      ┆ 4        ┆ 2011-09-23  ┆ 18.0      ┆ 12516      ┆ Germany │\n",
       "│ …         ┆ …         ┆ …            ┆ …        ┆ …           ┆ …         ┆ …          ┆ …       │\n",
       "│ 545687    ┆ 22792     ┆ FLUTED       ┆ 24       ┆ 2011-03-06  ┆ 0.85      ┆ 17769      ┆ United  │\n",
       "│           ┆           ┆ ANTIQUE      ┆          ┆             ┆           ┆            ┆ Kingdom │\n",
       "│           ┆           ┆ CANDLE       ┆          ┆             ┆           ┆            ┆         │\n",
       "│           ┆           ┆ HOLDER       ┆          ┆             ┆           ┆            ┆         │\n",
       "│ 581439    ┆ 90059C    ┆ DIAMANTE     ┆ 1        ┆ 2011-12-08  ┆ 1.65      ┆ null       ┆ United  │\n",
       "│           ┆           ┆ HAIR GRIP    ┆          ┆             ┆           ┆            ┆ Kingdom │\n",
       "│           ┆           ┆ PACK/2 MONT… ┆          ┆             ┆           ┆            ┆         │\n",
       "│ 556067    ┆ 23169     ┆ CLASSIC      ┆ 1        ┆ 2011-06-08  ┆ 4.15      ┆ 12748      ┆ United  │\n",
       "│           ┆           ┆ GLASS COOKIE ┆          ┆             ┆           ┆            ┆ Kingdom │\n",
       "│           ┆           ┆ JAR          ┆          ┆             ┆           ┆            ┆         │\n",
       "│ 558475    ┆ 22355     ┆ CHARLOTTE    ┆ 5        ┆ 2011-06-29  ┆ 1.63      ┆ null       ┆ United  │\n",
       "│           ┆           ┆ BAG SUKI     ┆          ┆             ┆           ┆            ┆ Kingdom │\n",
       "│           ┆           ┆ DESIGN       ┆          ┆             ┆           ┆            ┆         │\n",
       "│ 562024    ┆ 22379     ┆ RECYCLING    ┆ 1        ┆ 2011-08-01  ┆ 4.13      ┆ null       ┆ United  │\n",
       "│           ┆           ┆ BAG          ┆          ┆             ┆           ┆            ┆ Kingdom │\n",
       "│           ┆           ┆ RETROSPOT    ┆          ┆             ┆           ┆            ┆         │\n",
       "└───────────┴───────────┴──────────────┴──────────┴─────────────┴───────────┴────────────┴─────────┘"
      ]
     },
     "execution_count": 47,
     "metadata": {},
     "output_type": "execute_result"
    }
   ],
   "source": [
    "df = df.filter(pl.col(\"UnitPrice\") > .1)\n",
    "df\n"
   ]
  },
  {
   "cell_type": "markdown",
   "metadata": {},
   "source": [
    "Siguiendo con las cosas un poco raras que habiamos detectado, en la parte de country habiamos visto un \"unspecified\""
   ]
  },
  {
   "cell_type": "code",
   "execution_count": 48,
   "metadata": {},
   "outputs": [
    {
     "data": {
      "text/html": [
       "<div><style>\n",
       ".dataframe > thead > tr,\n",
       ".dataframe > tbody > tr {\n",
       "  text-align: right;\n",
       "  white-space: pre-wrap;\n",
       "}\n",
       "</style>\n",
       "<small>shape: (442, 8)</small><table border=\"1\" class=\"dataframe\"><thead><tr><th>InvoiceNo</th><th>StockCode</th><th>Description</th><th>Quantity</th><th>InvoiceDate</th><th>UnitPrice</th><th>CustomerID</th><th>Country</th></tr><tr><td>str</td><td>str</td><td>str</td><td>i64</td><td>date</td><td>f64</td><td>i64</td><td>str</td></tr></thead><tbody><tr><td>&quot;561658&quot;</td><td>&quot;21108&quot;</td><td>&quot;FAIRY CAKE FLANNEL ASSORTED CO…</td><td>1</td><td>2011-07-28</td><td>2.55</td><td>12743</td><td>&quot;Unspecified&quot;</td></tr><tr><td>&quot;561658&quot;</td><td>&quot;22703&quot;</td><td>&quot;PINK CAT BOWL&quot;</td><td>1</td><td>2011-07-28</td><td>2.1</td><td>12743</td><td>&quot;Unspecified&quot;</td></tr><tr><td>&quot;549687&quot;</td><td>&quot;48116&quot;</td><td>&quot;DOORMAT MULTICOLOUR STRIPE&quot;</td><td>2</td><td>2011-04-11</td><td>7.95</td><td>12363</td><td>&quot;Unspecified&quot;</td></tr><tr><td>&quot;552695&quot;</td><td>&quot;21891&quot;</td><td>&quot;TRADITIONAL WOODEN SKIPPING RO…</td><td>12</td><td>2011-05-10</td><td>1.45</td><td>16320</td><td>&quot;Unspecified&quot;</td></tr><tr><td>&quot;561658&quot;</td><td>&quot;22325&quot;</td><td>&quot;MOBILE VINTAGE HEARTS &quot;</td><td>1</td><td>2011-07-28</td><td>4.95</td><td>12743</td><td>&quot;Unspecified&quot;</td></tr><tr><td>&hellip;</td><td>&hellip;</td><td>&hellip;</td><td>&hellip;</td><td>&hellip;</td><td>&hellip;</td><td>&hellip;</td><td>&hellip;</td></tr><tr><td>&quot;561661&quot;</td><td>&quot;85179A&quot;</td><td>&quot;GREEN BITTY LIGHT CHAIN&quot;</td><td>1</td><td>2011-07-28</td><td>4.65</td><td>12743</td><td>&quot;Unspecified&quot;</td></tr><tr><td>&quot;557499&quot;</td><td>&quot;23122&quot;</td><td>&quot;PARTY CHARMS 50 PIECES&quot;</td><td>12</td><td>2011-06-20</td><td>0.83</td><td>16320</td><td>&quot;Unspecified&quot;</td></tr><tr><td>&quot;559521&quot;</td><td>&quot;22991&quot;</td><td>&quot;GIRAFFE WOODEN RULER&quot;</td><td>3</td><td>2011-07-08</td><td>1.95</td><td>null</td><td>&quot;Unspecified&quot;</td></tr><tr><td>&quot;559521&quot;</td><td>&quot;21124&quot;</td><td>&quot;SET/10 BLUE POLKADOT PARTY CAN…</td><td>7</td><td>2011-07-08</td><td>1.25</td><td>null</td><td>&quot;Unspecified&quot;</td></tr><tr><td>&quot;553857&quot;</td><td>&quot;85125&quot;</td><td>&quot;SMALL ROUND CUT GLASS CANDLEST…</td><td>3</td><td>2011-05-19</td><td>4.95</td><td>null</td><td>&quot;Unspecified&quot;</td></tr></tbody></table></div>"
      ],
      "text/plain": [
       "shape: (442, 8)\n",
       "┌───────────┬───────────┬────────────┬──────────┬────────────┬───────────┬────────────┬────────────┐\n",
       "│ InvoiceNo ┆ StockCode ┆ Descriptio ┆ Quantity ┆ InvoiceDat ┆ UnitPrice ┆ CustomerID ┆ Country    │\n",
       "│ ---       ┆ ---       ┆ n          ┆ ---      ┆ e          ┆ ---       ┆ ---        ┆ ---        │\n",
       "│ str       ┆ str       ┆ ---        ┆ i64      ┆ ---        ┆ f64       ┆ i64        ┆ str        │\n",
       "│           ┆           ┆ str        ┆          ┆ date       ┆           ┆            ┆            │\n",
       "╞═══════════╪═══════════╪════════════╪══════════╪════════════╪═══════════╪════════════╪════════════╡\n",
       "│ 561658    ┆ 21108     ┆ FAIRY CAKE ┆ 1        ┆ 2011-07-28 ┆ 2.55      ┆ 12743      ┆ Unspecifie │\n",
       "│           ┆           ┆ FLANNEL    ┆          ┆            ┆           ┆            ┆ d          │\n",
       "│           ┆           ┆ ASSORTED   ┆          ┆            ┆           ┆            ┆            │\n",
       "│           ┆           ┆ CO…        ┆          ┆            ┆           ┆            ┆            │\n",
       "│ 561658    ┆ 22703     ┆ PINK CAT   ┆ 1        ┆ 2011-07-28 ┆ 2.1       ┆ 12743      ┆ Unspecifie │\n",
       "│           ┆           ┆ BOWL       ┆          ┆            ┆           ┆            ┆ d          │\n",
       "│ 549687    ┆ 48116     ┆ DOORMAT    ┆ 2        ┆ 2011-04-11 ┆ 7.95      ┆ 12363      ┆ Unspecifie │\n",
       "│           ┆           ┆ MULTICOLOU ┆          ┆            ┆           ┆            ┆ d          │\n",
       "│           ┆           ┆ R STRIPE   ┆          ┆            ┆           ┆            ┆            │\n",
       "│ 552695    ┆ 21891     ┆ TRADITIONA ┆ 12       ┆ 2011-05-10 ┆ 1.45      ┆ 16320      ┆ Unspecifie │\n",
       "│           ┆           ┆ L WOODEN   ┆          ┆            ┆           ┆            ┆ d          │\n",
       "│           ┆           ┆ SKIPPING   ┆          ┆            ┆           ┆            ┆            │\n",
       "│           ┆           ┆ RO…        ┆          ┆            ┆           ┆            ┆            │\n",
       "│ 561658    ┆ 22325     ┆ MOBILE     ┆ 1        ┆ 2011-07-28 ┆ 4.95      ┆ 12743      ┆ Unspecifie │\n",
       "│           ┆           ┆ VINTAGE    ┆          ┆            ┆           ┆            ┆ d          │\n",
       "│           ┆           ┆ HEARTS     ┆          ┆            ┆           ┆            ┆            │\n",
       "│ …         ┆ …         ┆ …          ┆ …        ┆ …          ┆ …         ┆ …          ┆ …          │\n",
       "│ 561661    ┆ 85179A    ┆ GREEN      ┆ 1        ┆ 2011-07-28 ┆ 4.65      ┆ 12743      ┆ Unspecifie │\n",
       "│           ┆           ┆ BITTY      ┆          ┆            ┆           ┆            ┆ d          │\n",
       "│           ┆           ┆ LIGHT      ┆          ┆            ┆           ┆            ┆            │\n",
       "│           ┆           ┆ CHAIN      ┆          ┆            ┆           ┆            ┆            │\n",
       "│ 557499    ┆ 23122     ┆ PARTY      ┆ 12       ┆ 2011-06-20 ┆ 0.83      ┆ 16320      ┆ Unspecifie │\n",
       "│           ┆           ┆ CHARMS 50  ┆          ┆            ┆           ┆            ┆ d          │\n",
       "│           ┆           ┆ PIECES     ┆          ┆            ┆           ┆            ┆            │\n",
       "│ 559521    ┆ 22991     ┆ GIRAFFE    ┆ 3        ┆ 2011-07-08 ┆ 1.95      ┆ null       ┆ Unspecifie │\n",
       "│           ┆           ┆ WOODEN     ┆          ┆            ┆           ┆            ┆ d          │\n",
       "│           ┆           ┆ RULER      ┆          ┆            ┆           ┆            ┆            │\n",
       "│ 559521    ┆ 21124     ┆ SET/10     ┆ 7        ┆ 2011-07-08 ┆ 1.25      ┆ null       ┆ Unspecifie │\n",
       "│           ┆           ┆ BLUE       ┆          ┆            ┆           ┆            ┆ d          │\n",
       "│           ┆           ┆ POLKADOT   ┆          ┆            ┆           ┆            ┆            │\n",
       "│           ┆           ┆ PARTY CAN… ┆          ┆            ┆           ┆            ┆            │\n",
       "│ 553857    ┆ 85125     ┆ SMALL      ┆ 3        ┆ 2011-05-19 ┆ 4.95      ┆ null       ┆ Unspecifie │\n",
       "│           ┆           ┆ ROUND CUT  ┆          ┆            ┆           ┆            ┆ d          │\n",
       "│           ┆           ┆ GLASS      ┆          ┆            ┆           ┆            ┆            │\n",
       "│           ┆           ┆ CANDLEST…  ┆          ┆            ┆           ┆            ┆            │\n",
       "└───────────┴───────────┴────────────┴──────────┴────────────┴───────────┴────────────┴────────────┘"
      ]
     },
     "execution_count": 48,
     "metadata": {},
     "output_type": "execute_result"
    }
   ],
   "source": [
    "df.filter(pl.col(\"Country\") == \"Unspecified\" )\n"
   ]
  },
  {
   "cell_type": "markdown",
   "metadata": {},
   "source": [
    "Como en nuestro caso nos parece util y queremos agrupar las ventas por paises debemos eliminar las filas con \"Unspecified\""
   ]
  },
  {
   "cell_type": "code",
   "execution_count": 49,
   "metadata": {},
   "outputs": [
    {
     "data": {
      "text/html": [
       "<div><style>\n",
       ".dataframe > thead > tr,\n",
       ".dataframe > tbody > tr {\n",
       "  text-align: right;\n",
       "  white-space: pre-wrap;\n",
       "}\n",
       "</style>\n",
       "<small>shape: (524_136, 8)</small><table border=\"1\" class=\"dataframe\"><thead><tr><th>InvoiceNo</th><th>StockCode</th><th>Description</th><th>Quantity</th><th>InvoiceDate</th><th>UnitPrice</th><th>CustomerID</th><th>Country</th></tr><tr><td>str</td><td>str</td><td>str</td><td>i64</td><td>date</td><td>f64</td><td>i64</td><td>str</td></tr></thead><tbody><tr><td>&quot;547880&quot;</td><td>&quot;22417&quot;</td><td>&quot;PACK OF 60 SPACEBOY CAKE CASES&quot;</td><td>1</td><td>2011-03-27</td><td>0.55</td><td>15426</td><td>&quot;United Kingdom&quot;</td></tr><tr><td>&quot;554079&quot;</td><td>&quot;23255&quot;</td><td>&quot;CHILDRENS CUTLERY CIRCUS PARAD…</td><td>3</td><td>2011-05-22</td><td>4.15</td><td>14546</td><td>&quot;United Kingdom&quot;</td></tr><tr><td>&quot;565781&quot;</td><td>&quot;22984&quot;</td><td>&quot;CARD GINGHAM ROSE &quot;</td><td>12</td><td>2011-09-06</td><td>0.42</td><td>13098</td><td>&quot;United Kingdom&quot;</td></tr><tr><td>&quot;571061&quot;</td><td>&quot;21935&quot;</td><td>&quot;SUKI&nbsp;&nbsp;SHOULDER BAG&quot;</td><td>1</td><td>2011-10-13</td><td>4.13</td><td>null</td><td>&quot;United Kingdom&quot;</td></tr><tr><td>&quot;567959&quot;</td><td>&quot;POST&quot;</td><td>&quot;POSTAGE&quot;</td><td>4</td><td>2011-09-23</td><td>18.0</td><td>12516</td><td>&quot;Germany&quot;</td></tr><tr><td>&hellip;</td><td>&hellip;</td><td>&hellip;</td><td>&hellip;</td><td>&hellip;</td><td>&hellip;</td><td>&hellip;</td><td>&hellip;</td></tr><tr><td>&quot;545687&quot;</td><td>&quot;22792&quot;</td><td>&quot;FLUTED ANTIQUE CANDLE HOLDER&quot;</td><td>24</td><td>2011-03-06</td><td>0.85</td><td>17769</td><td>&quot;United Kingdom&quot;</td></tr><tr><td>&quot;581439&quot;</td><td>&quot;90059C&quot;</td><td>&quot;DIAMANTE HAIR GRIP PACK/2 MONT…</td><td>1</td><td>2011-12-08</td><td>1.65</td><td>null</td><td>&quot;United Kingdom&quot;</td></tr><tr><td>&quot;556067&quot;</td><td>&quot;23169&quot;</td><td>&quot;CLASSIC GLASS COOKIE JAR&quot;</td><td>1</td><td>2011-06-08</td><td>4.15</td><td>12748</td><td>&quot;United Kingdom&quot;</td></tr><tr><td>&quot;558475&quot;</td><td>&quot;22355&quot;</td><td>&quot;CHARLOTTE BAG SUKI DESIGN&quot;</td><td>5</td><td>2011-06-29</td><td>1.63</td><td>null</td><td>&quot;United Kingdom&quot;</td></tr><tr><td>&quot;562024&quot;</td><td>&quot;22379&quot;</td><td>&quot;RECYCLING BAG RETROSPOT &quot;</td><td>1</td><td>2011-08-01</td><td>4.13</td><td>null</td><td>&quot;United Kingdom&quot;</td></tr></tbody></table></div>"
      ],
      "text/plain": [
       "shape: (524_136, 8)\n",
       "┌───────────┬───────────┬──────────────┬──────────┬─────────────┬───────────┬────────────┬─────────┐\n",
       "│ InvoiceNo ┆ StockCode ┆ Description  ┆ Quantity ┆ InvoiceDate ┆ UnitPrice ┆ CustomerID ┆ Country │\n",
       "│ ---       ┆ ---       ┆ ---          ┆ ---      ┆ ---         ┆ ---       ┆ ---        ┆ ---     │\n",
       "│ str       ┆ str       ┆ str          ┆ i64      ┆ date        ┆ f64       ┆ i64        ┆ str     │\n",
       "╞═══════════╪═══════════╪══════════════╪══════════╪═════════════╪═══════════╪════════════╪═════════╡\n",
       "│ 547880    ┆ 22417     ┆ PACK OF 60   ┆ 1        ┆ 2011-03-27  ┆ 0.55      ┆ 15426      ┆ United  │\n",
       "│           ┆           ┆ SPACEBOY     ┆          ┆             ┆           ┆            ┆ Kingdom │\n",
       "│           ┆           ┆ CAKE CASES   ┆          ┆             ┆           ┆            ┆         │\n",
       "│ 554079    ┆ 23255     ┆ CHILDRENS    ┆ 3        ┆ 2011-05-22  ┆ 4.15      ┆ 14546      ┆ United  │\n",
       "│           ┆           ┆ CUTLERY      ┆          ┆             ┆           ┆            ┆ Kingdom │\n",
       "│           ┆           ┆ CIRCUS       ┆          ┆             ┆           ┆            ┆         │\n",
       "│           ┆           ┆ PARAD…       ┆          ┆             ┆           ┆            ┆         │\n",
       "│ 565781    ┆ 22984     ┆ CARD GINGHAM ┆ 12       ┆ 2011-09-06  ┆ 0.42      ┆ 13098      ┆ United  │\n",
       "│           ┆           ┆ ROSE         ┆          ┆             ┆           ┆            ┆ Kingdom │\n",
       "│ 571061    ┆ 21935     ┆ SUKI         ┆ 1        ┆ 2011-10-13  ┆ 4.13      ┆ null       ┆ United  │\n",
       "│           ┆           ┆ SHOULDER BAG ┆          ┆             ┆           ┆            ┆ Kingdom │\n",
       "│ 567959    ┆ POST      ┆ POSTAGE      ┆ 4        ┆ 2011-09-23  ┆ 18.0      ┆ 12516      ┆ Germany │\n",
       "│ …         ┆ …         ┆ …            ┆ …        ┆ …           ┆ …         ┆ …          ┆ …       │\n",
       "│ 545687    ┆ 22792     ┆ FLUTED       ┆ 24       ┆ 2011-03-06  ┆ 0.85      ┆ 17769      ┆ United  │\n",
       "│           ┆           ┆ ANTIQUE      ┆          ┆             ┆           ┆            ┆ Kingdom │\n",
       "│           ┆           ┆ CANDLE       ┆          ┆             ┆           ┆            ┆         │\n",
       "│           ┆           ┆ HOLDER       ┆          ┆             ┆           ┆            ┆         │\n",
       "│ 581439    ┆ 90059C    ┆ DIAMANTE     ┆ 1        ┆ 2011-12-08  ┆ 1.65      ┆ null       ┆ United  │\n",
       "│           ┆           ┆ HAIR GRIP    ┆          ┆             ┆           ┆            ┆ Kingdom │\n",
       "│           ┆           ┆ PACK/2 MONT… ┆          ┆             ┆           ┆            ┆         │\n",
       "│ 556067    ┆ 23169     ┆ CLASSIC      ┆ 1        ┆ 2011-06-08  ┆ 4.15      ┆ 12748      ┆ United  │\n",
       "│           ┆           ┆ GLASS COOKIE ┆          ┆             ┆           ┆            ┆ Kingdom │\n",
       "│           ┆           ┆ JAR          ┆          ┆             ┆           ┆            ┆         │\n",
       "│ 558475    ┆ 22355     ┆ CHARLOTTE    ┆ 5        ┆ 2011-06-29  ┆ 1.63      ┆ null       ┆ United  │\n",
       "│           ┆           ┆ BAG SUKI     ┆          ┆             ┆           ┆            ┆ Kingdom │\n",
       "│           ┆           ┆ DESIGN       ┆          ┆             ┆           ┆            ┆         │\n",
       "│ 562024    ┆ 22379     ┆ RECYCLING    ┆ 1        ┆ 2011-08-01  ┆ 4.13      ┆ null       ┆ United  │\n",
       "│           ┆           ┆ BAG          ┆          ┆             ┆           ┆            ┆ Kingdom │\n",
       "│           ┆           ┆ RETROSPOT    ┆          ┆             ┆           ┆            ┆         │\n",
       "└───────────┴───────────┴──────────────┴──────────┴─────────────┴───────────┴────────────┴─────────┘"
      ]
     },
     "execution_count": 49,
     "metadata": {},
     "output_type": "execute_result"
    }
   ],
   "source": [
    "df = df.filter(pl.col(\"Country\") != \"Unspecified\" )\n",
    "df"
   ]
  },
  {
   "cell_type": "markdown",
   "metadata": {},
   "source": [
    "Algo raro tambien es que habia valores maximos muy altos en la cantidad y en el precio, es decir tenemos claramente outliers\n",
    "\n",
    "Usaremos la formula del IQR para definir un limite superior e inferior\n",
    "\n"
   ]
  },
  {
   "cell_type": "code",
   "execution_count": 50,
   "metadata": {},
   "outputs": [
    {
     "name": "stdout",
     "output_type": "stream",
     "text": [
      "\n",
      "IQR for Quantity\n",
      "1.0 11.0 10.0 -14.0 26.0\n",
      "\n",
      "IQR for UnitPrice\n",
      "1.25 4.13 2.88 -3.0700000000000003 8.45\n"
     ]
    }
   ],
   "source": [
    "def calc_iqr_from_column_name(name:str)-> None:\n",
    "    Q1 = df[name].quantile(0.25)\n",
    "    Q3 = df[name].quantile(0.75)\n",
    "    IQR = Q3 - Q1\n",
    "\n",
    "    lower_bound = Q1 - 1.5 * IQR\n",
    "    upper_bound = Q3 + 1.5 * IQR\n",
    "\n",
    "    print(f\"\\nIQR for {name}\")\n",
    "    print(Q1, Q3, IQR, lower_bound, upper_bound)\n",
    "\n",
    "calc_iqr_from_column_name(\"Quantity\")\n",
    "calc_iqr_from_column_name(\"UnitPrice\")"
   ]
  },
  {
   "cell_type": "code",
   "execution_count": 51,
   "metadata": {},
   "outputs": [
    {
     "data": {
      "text/html": [
       "<div><style>\n",
       ".dataframe > thead > tr,\n",
       ".dataframe > tbody > tr {\n",
       "  text-align: right;\n",
       "  white-space: pre-wrap;\n",
       "}\n",
       "</style>\n",
       "<small>shape: (81_321, 8)</small><table border=\"1\" class=\"dataframe\"><thead><tr><th>InvoiceNo</th><th>StockCode</th><th>Description</th><th>Quantity</th><th>InvoiceDate</th><th>UnitPrice</th><th>CustomerID</th><th>Country</th></tr><tr><td>str</td><td>str</td><td>str</td><td>i64</td><td>date</td><td>f64</td><td>i64</td><td>str</td></tr></thead><tbody><tr><td>&quot;567959&quot;</td><td>&quot;POST&quot;</td><td>&quot;POSTAGE&quot;</td><td>4</td><td>2011-09-23</td><td>18.0</td><td>12516</td><td>&quot;Germany&quot;</td></tr><tr><td>&quot;546306&quot;</td><td>&quot;72807B&quot;</td><td>&quot;SET/3 OCEAN SCENT CANDLE JEWEL…</td><td>1</td><td>2011-03-10</td><td>8.29</td><td>null</td><td>&quot;United Kingdom&quot;</td></tr><tr><td>&quot;538520&quot;</td><td>&quot;22802&quot;</td><td>&quot;FAUX FUR CHOCOLATE THROW&quot;</td><td>1</td><td>2010-12-12</td><td>19.95</td><td>null</td><td>&quot;United Kingdom&quot;</td></tr><tr><td>&quot;562341&quot;</td><td>&quot;23310&quot;</td><td>&quot;BUBBLEGUM RING ASSORTED&quot;</td><td>36</td><td>2011-08-04</td><td>0.42</td><td>15005</td><td>&quot;United Kingdom&quot;</td></tr><tr><td>&quot;556485&quot;</td><td>&quot;21523&quot;</td><td>&quot;DOORMAT FANCY FONT HOME SWEET …</td><td>2</td><td>2011-06-12</td><td>7.95</td><td>17211</td><td>&quot;United Kingdom&quot;</td></tr><tr><td>&hellip;</td><td>&hellip;</td><td>&hellip;</td><td>&hellip;</td><td>&hellip;</td><td>&hellip;</td><td>&hellip;</td><td>&hellip;</td></tr><tr><td>&quot;540496&quot;</td><td>&quot;22194&quot;</td><td>&quot;BLACK DINER WALL CLOCK&quot;</td><td>1</td><td>2011-01-07</td><td>8.5</td><td>15485</td><td>&quot;United Kingdom&quot;</td></tr><tr><td>&quot;572652&quot;</td><td>&quot;23079&quot;</td><td>&quot;TOADSTOOL BEDSIDE LIGHT &quot;</td><td>2</td><td>2011-10-25</td><td>8.95</td><td>15805</td><td>&quot;United Kingdom&quot;</td></tr><tr><td>&quot;579777&quot;</td><td>&quot;23532&quot;</td><td>&quot;WALL ART WORK REST AND PLAY&nbsp;&nbsp;&quot;</td><td>1</td><td>2011-11-30</td><td>10.79</td><td>null</td><td>&quot;United Kingdom&quot;</td></tr><tr><td>&quot;570465&quot;</td><td>&quot;23239&quot;</td><td>&quot;SET OF 4 KNICK KNACK TINS POPP…</td><td>1</td><td>2011-10-10</td><td>8.29</td><td>null</td><td>&quot;United Kingdom&quot;</td></tr><tr><td>&quot;555275&quot;</td><td>&quot;84910A&quot;</td><td>&quot;PINK PAISLEY CUSHION COVER &quot;</td><td>1</td><td>2011-06-01</td><td>8.29</td><td>null</td><td>&quot;United Kingdom&quot;</td></tr></tbody></table></div>"
      ],
      "text/plain": [
       "shape: (81_321, 8)\n",
       "┌───────────┬───────────┬──────────────┬──────────┬─────────────┬───────────┬────────────┬─────────┐\n",
       "│ InvoiceNo ┆ StockCode ┆ Description  ┆ Quantity ┆ InvoiceDate ┆ UnitPrice ┆ CustomerID ┆ Country │\n",
       "│ ---       ┆ ---       ┆ ---          ┆ ---      ┆ ---         ┆ ---       ┆ ---        ┆ ---     │\n",
       "│ str       ┆ str       ┆ str          ┆ i64      ┆ date        ┆ f64       ┆ i64        ┆ str     │\n",
       "╞═══════════╪═══════════╪══════════════╪══════════╪═════════════╪═══════════╪════════════╪═════════╡\n",
       "│ 567959    ┆ POST      ┆ POSTAGE      ┆ 4        ┆ 2011-09-23  ┆ 18.0      ┆ 12516      ┆ Germany │\n",
       "│ 546306    ┆ 72807B    ┆ SET/3 OCEAN  ┆ 1        ┆ 2011-03-10  ┆ 8.29      ┆ null       ┆ United  │\n",
       "│           ┆           ┆ SCENT CANDLE ┆          ┆             ┆           ┆            ┆ Kingdom │\n",
       "│           ┆           ┆ JEWEL…       ┆          ┆             ┆           ┆            ┆         │\n",
       "│ 538520    ┆ 22802     ┆ FAUX FUR     ┆ 1        ┆ 2010-12-12  ┆ 19.95     ┆ null       ┆ United  │\n",
       "│           ┆           ┆ CHOCOLATE    ┆          ┆             ┆           ┆            ┆ Kingdom │\n",
       "│           ┆           ┆ THROW        ┆          ┆             ┆           ┆            ┆         │\n",
       "│ 562341    ┆ 23310     ┆ BUBBLEGUM    ┆ 36       ┆ 2011-08-04  ┆ 0.42      ┆ 15005      ┆ United  │\n",
       "│           ┆           ┆ RING         ┆          ┆             ┆           ┆            ┆ Kingdom │\n",
       "│           ┆           ┆ ASSORTED     ┆          ┆             ┆           ┆            ┆         │\n",
       "│ 556485    ┆ 21523     ┆ DOORMAT      ┆ 2        ┆ 2011-06-12  ┆ 7.95      ┆ 17211      ┆ United  │\n",
       "│           ┆           ┆ FANCY FONT   ┆          ┆             ┆           ┆            ┆ Kingdom │\n",
       "│           ┆           ┆ HOME SWEET … ┆          ┆             ┆           ┆            ┆         │\n",
       "│ …         ┆ …         ┆ …            ┆ …        ┆ …           ┆ …         ┆ …          ┆ …       │\n",
       "│ 540496    ┆ 22194     ┆ BLACK DINER  ┆ 1        ┆ 2011-01-07  ┆ 8.5       ┆ 15485      ┆ United  │\n",
       "│           ┆           ┆ WALL CLOCK   ┆          ┆             ┆           ┆            ┆ Kingdom │\n",
       "│ 572652    ┆ 23079     ┆ TOADSTOOL    ┆ 2        ┆ 2011-10-25  ┆ 8.95      ┆ 15805      ┆ United  │\n",
       "│           ┆           ┆ BEDSIDE      ┆          ┆             ┆           ┆            ┆ Kingdom │\n",
       "│           ┆           ┆ LIGHT        ┆          ┆             ┆           ┆            ┆         │\n",
       "│ 579777    ┆ 23532     ┆ WALL ART     ┆ 1        ┆ 2011-11-30  ┆ 10.79     ┆ null       ┆ United  │\n",
       "│           ┆           ┆ WORK REST    ┆          ┆             ┆           ┆            ┆ Kingdom │\n",
       "│           ┆           ┆ AND PLAY     ┆          ┆             ┆           ┆            ┆         │\n",
       "│ 570465    ┆ 23239     ┆ SET OF 4     ┆ 1        ┆ 2011-10-10  ┆ 8.29      ┆ null       ┆ United  │\n",
       "│           ┆           ┆ KNICK KNACK  ┆          ┆             ┆           ┆            ┆ Kingdom │\n",
       "│           ┆           ┆ TINS POPP…   ┆          ┆             ┆           ┆            ┆         │\n",
       "│ 555275    ┆ 84910A    ┆ PINK PAISLEY ┆ 1        ┆ 2011-06-01  ┆ 8.29      ┆ null       ┆ United  │\n",
       "│           ┆           ┆ CUSHION      ┆          ┆             ┆           ┆            ┆ Kingdom │\n",
       "│           ┆           ┆ COVER        ┆          ┆             ┆           ┆            ┆         │\n",
       "└───────────┴───────────┴──────────────┴──────────┴─────────────┴───────────┴────────────┴─────────┘"
      ]
     },
     "execution_count": 51,
     "metadata": {},
     "output_type": "execute_result"
    }
   ],
   "source": [
    "upper_bound_limit_condition = (pl.col(\"Quantity\") > 27) | (pl.col(\"UnitPrice\") > 7.5)\n",
    "\n",
    "df.filter(upper_bound_limit_condition)"
   ]
  },
  {
   "cell_type": "markdown",
   "metadata": {},
   "source": [
    "Eliminariamos bastantes, pero estaria lo mas normalizado posible, procedemos a eliminarlos"
   ]
  },
  {
   "cell_type": "code",
   "execution_count": 52,
   "metadata": {},
   "outputs": [
    {
     "data": {
      "text/html": [
       "<div><style>\n",
       ".dataframe > thead > tr,\n",
       ".dataframe > tbody > tr {\n",
       "  text-align: right;\n",
       "  white-space: pre-wrap;\n",
       "}\n",
       "</style>\n",
       "<small>shape: (442_815, 8)</small><table border=\"1\" class=\"dataframe\"><thead><tr><th>InvoiceNo</th><th>StockCode</th><th>Description</th><th>Quantity</th><th>InvoiceDate</th><th>UnitPrice</th><th>CustomerID</th><th>Country</th></tr><tr><td>str</td><td>str</td><td>str</td><td>i64</td><td>date</td><td>f64</td><td>i64</td><td>str</td></tr></thead><tbody><tr><td>&quot;547880&quot;</td><td>&quot;22417&quot;</td><td>&quot;PACK OF 60 SPACEBOY CAKE CASES&quot;</td><td>1</td><td>2011-03-27</td><td>0.55</td><td>15426</td><td>&quot;United Kingdom&quot;</td></tr><tr><td>&quot;554079&quot;</td><td>&quot;23255&quot;</td><td>&quot;CHILDRENS CUTLERY CIRCUS PARAD…</td><td>3</td><td>2011-05-22</td><td>4.15</td><td>14546</td><td>&quot;United Kingdom&quot;</td></tr><tr><td>&quot;565781&quot;</td><td>&quot;22984&quot;</td><td>&quot;CARD GINGHAM ROSE &quot;</td><td>12</td><td>2011-09-06</td><td>0.42</td><td>13098</td><td>&quot;United Kingdom&quot;</td></tr><tr><td>&quot;571061&quot;</td><td>&quot;21935&quot;</td><td>&quot;SUKI&nbsp;&nbsp;SHOULDER BAG&quot;</td><td>1</td><td>2011-10-13</td><td>4.13</td><td>null</td><td>&quot;United Kingdom&quot;</td></tr><tr><td>&quot;566816&quot;</td><td>&quot;22629&quot;</td><td>&quot;SPACEBOY LUNCH BOX &quot;</td><td>24</td><td>2011-09-15</td><td>1.95</td><td>12731</td><td>&quot;France&quot;</td></tr><tr><td>&hellip;</td><td>&hellip;</td><td>&hellip;</td><td>&hellip;</td><td>&hellip;</td><td>&hellip;</td><td>&hellip;</td><td>&hellip;</td></tr><tr><td>&quot;545687&quot;</td><td>&quot;22792&quot;</td><td>&quot;FLUTED ANTIQUE CANDLE HOLDER&quot;</td><td>24</td><td>2011-03-06</td><td>0.85</td><td>17769</td><td>&quot;United Kingdom&quot;</td></tr><tr><td>&quot;581439&quot;</td><td>&quot;90059C&quot;</td><td>&quot;DIAMANTE HAIR GRIP PACK/2 MONT…</td><td>1</td><td>2011-12-08</td><td>1.65</td><td>null</td><td>&quot;United Kingdom&quot;</td></tr><tr><td>&quot;556067&quot;</td><td>&quot;23169&quot;</td><td>&quot;CLASSIC GLASS COOKIE JAR&quot;</td><td>1</td><td>2011-06-08</td><td>4.15</td><td>12748</td><td>&quot;United Kingdom&quot;</td></tr><tr><td>&quot;558475&quot;</td><td>&quot;22355&quot;</td><td>&quot;CHARLOTTE BAG SUKI DESIGN&quot;</td><td>5</td><td>2011-06-29</td><td>1.63</td><td>null</td><td>&quot;United Kingdom&quot;</td></tr><tr><td>&quot;562024&quot;</td><td>&quot;22379&quot;</td><td>&quot;RECYCLING BAG RETROSPOT &quot;</td><td>1</td><td>2011-08-01</td><td>4.13</td><td>null</td><td>&quot;United Kingdom&quot;</td></tr></tbody></table></div>"
      ],
      "text/plain": [
       "shape: (442_815, 8)\n",
       "┌───────────┬───────────┬──────────────┬──────────┬─────────────┬───────────┬────────────┬─────────┐\n",
       "│ InvoiceNo ┆ StockCode ┆ Description  ┆ Quantity ┆ InvoiceDate ┆ UnitPrice ┆ CustomerID ┆ Country │\n",
       "│ ---       ┆ ---       ┆ ---          ┆ ---      ┆ ---         ┆ ---       ┆ ---        ┆ ---     │\n",
       "│ str       ┆ str       ┆ str          ┆ i64      ┆ date        ┆ f64       ┆ i64        ┆ str     │\n",
       "╞═══════════╪═══════════╪══════════════╪══════════╪═════════════╪═══════════╪════════════╪═════════╡\n",
       "│ 547880    ┆ 22417     ┆ PACK OF 60   ┆ 1        ┆ 2011-03-27  ┆ 0.55      ┆ 15426      ┆ United  │\n",
       "│           ┆           ┆ SPACEBOY     ┆          ┆             ┆           ┆            ┆ Kingdom │\n",
       "│           ┆           ┆ CAKE CASES   ┆          ┆             ┆           ┆            ┆         │\n",
       "│ 554079    ┆ 23255     ┆ CHILDRENS    ┆ 3        ┆ 2011-05-22  ┆ 4.15      ┆ 14546      ┆ United  │\n",
       "│           ┆           ┆ CUTLERY      ┆          ┆             ┆           ┆            ┆ Kingdom │\n",
       "│           ┆           ┆ CIRCUS       ┆          ┆             ┆           ┆            ┆         │\n",
       "│           ┆           ┆ PARAD…       ┆          ┆             ┆           ┆            ┆         │\n",
       "│ 565781    ┆ 22984     ┆ CARD GINGHAM ┆ 12       ┆ 2011-09-06  ┆ 0.42      ┆ 13098      ┆ United  │\n",
       "│           ┆           ┆ ROSE         ┆          ┆             ┆           ┆            ┆ Kingdom │\n",
       "│ 571061    ┆ 21935     ┆ SUKI         ┆ 1        ┆ 2011-10-13  ┆ 4.13      ┆ null       ┆ United  │\n",
       "│           ┆           ┆ SHOULDER BAG ┆          ┆             ┆           ┆            ┆ Kingdom │\n",
       "│ 566816    ┆ 22629     ┆ SPACEBOY     ┆ 24       ┆ 2011-09-15  ┆ 1.95      ┆ 12731      ┆ France  │\n",
       "│           ┆           ┆ LUNCH BOX    ┆          ┆             ┆           ┆            ┆         │\n",
       "│ …         ┆ …         ┆ …            ┆ …        ┆ …           ┆ …         ┆ …          ┆ …       │\n",
       "│ 545687    ┆ 22792     ┆ FLUTED       ┆ 24       ┆ 2011-03-06  ┆ 0.85      ┆ 17769      ┆ United  │\n",
       "│           ┆           ┆ ANTIQUE      ┆          ┆             ┆           ┆            ┆ Kingdom │\n",
       "│           ┆           ┆ CANDLE       ┆          ┆             ┆           ┆            ┆         │\n",
       "│           ┆           ┆ HOLDER       ┆          ┆             ┆           ┆            ┆         │\n",
       "│ 581439    ┆ 90059C    ┆ DIAMANTE     ┆ 1        ┆ 2011-12-08  ┆ 1.65      ┆ null       ┆ United  │\n",
       "│           ┆           ┆ HAIR GRIP    ┆          ┆             ┆           ┆            ┆ Kingdom │\n",
       "│           ┆           ┆ PACK/2 MONT… ┆          ┆             ┆           ┆            ┆         │\n",
       "│ 556067    ┆ 23169     ┆ CLASSIC      ┆ 1        ┆ 2011-06-08  ┆ 4.15      ┆ 12748      ┆ United  │\n",
       "│           ┆           ┆ GLASS COOKIE ┆          ┆             ┆           ┆            ┆ Kingdom │\n",
       "│           ┆           ┆ JAR          ┆          ┆             ┆           ┆            ┆         │\n",
       "│ 558475    ┆ 22355     ┆ CHARLOTTE    ┆ 5        ┆ 2011-06-29  ┆ 1.63      ┆ null       ┆ United  │\n",
       "│           ┆           ┆ BAG SUKI     ┆          ┆             ┆           ┆            ┆ Kingdom │\n",
       "│           ┆           ┆ DESIGN       ┆          ┆             ┆           ┆            ┆         │\n",
       "│ 562024    ┆ 22379     ┆ RECYCLING    ┆ 1        ┆ 2011-08-01  ┆ 4.13      ┆ null       ┆ United  │\n",
       "│           ┆           ┆ BAG          ┆          ┆             ┆           ┆            ┆ Kingdom │\n",
       "│           ┆           ┆ RETROSPOT    ┆          ┆             ┆           ┆            ┆         │\n",
       "└───────────┴───────────┴──────────────┴──────────┴─────────────┴───────────┴────────────┴─────────┘"
      ]
     },
     "execution_count": 52,
     "metadata": {},
     "output_type": "execute_result"
    }
   ],
   "source": [
    "df = df.filter(~((pl.col(\"Quantity\") > 27) | (pl.col(\"UnitPrice\") > 7.5)))\n",
    "df"
   ]
  },
  {
   "cell_type": "code",
   "execution_count": 53,
   "metadata": {},
   "outputs": [
    {
     "data": {
      "text/html": [
       "<div><style>\n",
       ".dataframe > thead > tr,\n",
       ".dataframe > tbody > tr {\n",
       "  text-align: right;\n",
       "  white-space: pre-wrap;\n",
       "}\n",
       "</style>\n",
       "<small>shape: (9, 9)</small><table border=\"1\" class=\"dataframe\"><thead><tr><th>statistic</th><th>InvoiceNo</th><th>StockCode</th><th>Description</th><th>Quantity</th><th>InvoiceDate</th><th>UnitPrice</th><th>CustomerID</th><th>Country</th></tr><tr><td>str</td><td>str</td><td>str</td><td>str</td><td>f64</td><td>str</td><td>f64</td><td>f64</td><td>str</td></tr></thead><tbody><tr><td>&quot;count&quot;</td><td>&quot;442815&quot;</td><td>&quot;442815&quot;</td><td>&quot;442815&quot;</td><td>442815.0</td><td>&quot;442815&quot;</td><td>442815.0</td><td>332940.0</td><td>&quot;442815&quot;</td></tr><tr><td>&quot;null_count&quot;</td><td>&quot;0&quot;</td><td>&quot;0&quot;</td><td>&quot;0&quot;</td><td>0.0</td><td>&quot;0&quot;</td><td>0.0</td><td>109875.0</td><td>&quot;0&quot;</td></tr><tr><td>&quot;mean&quot;</td><td>null</td><td>null</td><td>null</td><td>6.33038</td><td>&quot;2011-07-05 19:17:40.866000&quot;</td><td>2.388613</td><td>15319.914015</td><td>null</td></tr><tr><td>&quot;std&quot;</td><td>null</td><td>null</td><td>null</td><td>6.458147</td><td>null</td><td>1.630417</td><td>1710.808483</td><td>null</td></tr><tr><td>&quot;min&quot;</td><td>&quot;536365&quot;</td><td>&quot;10002&quot;</td><td>&quot; 4 PURPLE FLOCK DINNER CANDLES&quot;</td><td>1.0</td><td>&quot;2010-12-01&quot;</td><td>0.12</td><td>12347.0</td><td>&quot;Australia&quot;</td></tr><tr><td>&quot;25%&quot;</td><td>null</td><td>null</td><td>null</td><td>1.0</td><td>&quot;2011-03-29&quot;</td><td>1.25</td><td>13988.0</td><td>null</td></tr><tr><td>&quot;50%&quot;</td><td>null</td><td>null</td><td>null</td><td>4.0</td><td>&quot;2011-07-22&quot;</td><td>1.95</td><td>15235.0</td><td>null</td></tr><tr><td>&quot;75%&quot;</td><td>null</td><td>null</td><td>null</td><td>10.0</td><td>&quot;2011-10-20&quot;</td><td>3.29</td><td>16814.0</td><td>null</td></tr><tr><td>&quot;max&quot;</td><td>&quot;581587&quot;</td><td>&quot;m&quot;</td><td>&quot;ZINC WIRE SWEETHEART LETTER TR…</td><td>27.0</td><td>&quot;2011-12-09&quot;</td><td>7.5</td><td>18287.0</td><td>&quot;United Kingdom&quot;</td></tr></tbody></table></div>"
      ],
      "text/plain": [
       "shape: (9, 9)\n",
       "┌───────────┬───────────┬───────────┬───────────┬───┬───────────┬───────────┬───────────┬──────────┐\n",
       "│ statistic ┆ InvoiceNo ┆ StockCode ┆ Descripti ┆ … ┆ InvoiceDa ┆ UnitPrice ┆ CustomerI ┆ Country  │\n",
       "│ ---       ┆ ---       ┆ ---       ┆ on        ┆   ┆ te        ┆ ---       ┆ D         ┆ ---      │\n",
       "│ str       ┆ str       ┆ str       ┆ ---       ┆   ┆ ---       ┆ f64       ┆ ---       ┆ str      │\n",
       "│           ┆           ┆           ┆ str       ┆   ┆ str       ┆           ┆ f64       ┆          │\n",
       "╞═══════════╪═══════════╪═══════════╪═══════════╪═══╪═══════════╪═══════════╪═══════════╪══════════╡\n",
       "│ count     ┆ 442815    ┆ 442815    ┆ 442815    ┆ … ┆ 442815    ┆ 442815.0  ┆ 332940.0  ┆ 442815   │\n",
       "│ null_coun ┆ 0         ┆ 0         ┆ 0         ┆ … ┆ 0         ┆ 0.0       ┆ 109875.0  ┆ 0        │\n",
       "│ t         ┆           ┆           ┆           ┆   ┆           ┆           ┆           ┆          │\n",
       "│ mean      ┆ null      ┆ null      ┆ null      ┆ … ┆ 2011-07-0 ┆ 2.388613  ┆ 15319.914 ┆ null     │\n",
       "│           ┆           ┆           ┆           ┆   ┆ 5 19:17:4 ┆           ┆ 015       ┆          │\n",
       "│           ┆           ┆           ┆           ┆   ┆ 0.866000  ┆           ┆           ┆          │\n",
       "│ std       ┆ null      ┆ null      ┆ null      ┆ … ┆ null      ┆ 1.630417  ┆ 1710.8084 ┆ null     │\n",
       "│           ┆           ┆           ┆           ┆   ┆           ┆           ┆ 83        ┆          │\n",
       "│ min       ┆ 536365    ┆ 10002     ┆ 4 PURPLE  ┆ … ┆ 2010-12-0 ┆ 0.12      ┆ 12347.0   ┆ Australi │\n",
       "│           ┆           ┆           ┆ FLOCK     ┆   ┆ 1         ┆           ┆           ┆ a        │\n",
       "│           ┆           ┆           ┆ DINNER    ┆   ┆           ┆           ┆           ┆          │\n",
       "│           ┆           ┆           ┆ CANDLES   ┆   ┆           ┆           ┆           ┆          │\n",
       "│ 25%       ┆ null      ┆ null      ┆ null      ┆ … ┆ 2011-03-2 ┆ 1.25      ┆ 13988.0   ┆ null     │\n",
       "│           ┆           ┆           ┆           ┆   ┆ 9         ┆           ┆           ┆          │\n",
       "│ 50%       ┆ null      ┆ null      ┆ null      ┆ … ┆ 2011-07-2 ┆ 1.95      ┆ 15235.0   ┆ null     │\n",
       "│           ┆           ┆           ┆           ┆   ┆ 2         ┆           ┆           ┆          │\n",
       "│ 75%       ┆ null      ┆ null      ┆ null      ┆ … ┆ 2011-10-2 ┆ 3.29      ┆ 16814.0   ┆ null     │\n",
       "│           ┆           ┆           ┆           ┆   ┆ 0         ┆           ┆           ┆          │\n",
       "│ max       ┆ 581587    ┆ m         ┆ ZINC WIRE ┆ … ┆ 2011-12-0 ┆ 7.5       ┆ 18287.0   ┆ United   │\n",
       "│           ┆           ┆           ┆ SWEETHEAR ┆   ┆ 9         ┆           ┆           ┆ Kingdom  │\n",
       "│           ┆           ┆           ┆ T LETTER  ┆   ┆           ┆           ┆           ┆          │\n",
       "│           ┆           ┆           ┆ TR…       ┆   ┆           ┆           ┆           ┆          │\n",
       "└───────────┴───────────┴───────────┴───────────┴───┴───────────┴───────────┴───────────┴──────────┘"
      ]
     },
     "execution_count": 53,
     "metadata": {},
     "output_type": "execute_result"
    }
   ],
   "source": [
    "df.describe()"
   ]
  },
  {
   "cell_type": "markdown",
   "metadata": {},
   "source": [
    "Viendo que el objetivo es predecir el valor total de ventas por dia, haremos los siguientes cambios sobre el dataset:\n",
    "\n",
    "InvoiceNO,StockCode,Description, CustomerID: Estas columnas son muy interesantes para por ejemplo saber cuantos clientes habituales tiene cada pais, que productos se compran mas, media de productos por factura\n",
    "\n",
    "Claro, en este caso no las necesitamos para predecir cuanto vamos a ganar en un dia,\n",
    "\n",
    "En nuestro caso yo dejaria la columna de Country, ya que creo que a la hora de predecir las ventas diarias es muy interesante segmentar por paises, para saber cuantas ventas diarias, tiene uno u otro y que sea util para saber en que pais se pueden aumentar las ganancias o cual esta dando muchas perdidas."
   ]
  },
  {
   "cell_type": "code",
   "execution_count": 54,
   "metadata": {},
   "outputs": [
    {
     "data": {
      "text/html": [
       "<div><style>\n",
       ".dataframe > thead > tr,\n",
       ".dataframe > tbody > tr {\n",
       "  text-align: right;\n",
       "  white-space: pre-wrap;\n",
       "}\n",
       "</style>\n",
       "<small>shape: (442_815, 4)</small><table border=\"1\" class=\"dataframe\"><thead><tr><th>Quantity</th><th>InvoiceDate</th><th>UnitPrice</th><th>Country</th></tr><tr><td>i64</td><td>date</td><td>f64</td><td>str</td></tr></thead><tbody><tr><td>1</td><td>2011-03-27</td><td>0.55</td><td>&quot;United Kingdom&quot;</td></tr><tr><td>3</td><td>2011-05-22</td><td>4.15</td><td>&quot;United Kingdom&quot;</td></tr><tr><td>12</td><td>2011-09-06</td><td>0.42</td><td>&quot;United Kingdom&quot;</td></tr><tr><td>1</td><td>2011-10-13</td><td>4.13</td><td>&quot;United Kingdom&quot;</td></tr><tr><td>24</td><td>2011-09-15</td><td>1.95</td><td>&quot;France&quot;</td></tr><tr><td>&hellip;</td><td>&hellip;</td><td>&hellip;</td><td>&hellip;</td></tr><tr><td>24</td><td>2011-03-06</td><td>0.85</td><td>&quot;United Kingdom&quot;</td></tr><tr><td>1</td><td>2011-12-08</td><td>1.65</td><td>&quot;United Kingdom&quot;</td></tr><tr><td>1</td><td>2011-06-08</td><td>4.15</td><td>&quot;United Kingdom&quot;</td></tr><tr><td>5</td><td>2011-06-29</td><td>1.63</td><td>&quot;United Kingdom&quot;</td></tr><tr><td>1</td><td>2011-08-01</td><td>4.13</td><td>&quot;United Kingdom&quot;</td></tr></tbody></table></div>"
      ],
      "text/plain": [
       "shape: (442_815, 4)\n",
       "┌──────────┬─────────────┬───────────┬────────────────┐\n",
       "│ Quantity ┆ InvoiceDate ┆ UnitPrice ┆ Country        │\n",
       "│ ---      ┆ ---         ┆ ---       ┆ ---            │\n",
       "│ i64      ┆ date        ┆ f64       ┆ str            │\n",
       "╞══════════╪═════════════╪═══════════╪════════════════╡\n",
       "│ 1        ┆ 2011-03-27  ┆ 0.55      ┆ United Kingdom │\n",
       "│ 3        ┆ 2011-05-22  ┆ 4.15      ┆ United Kingdom │\n",
       "│ 12       ┆ 2011-09-06  ┆ 0.42      ┆ United Kingdom │\n",
       "│ 1        ┆ 2011-10-13  ┆ 4.13      ┆ United Kingdom │\n",
       "│ 24       ┆ 2011-09-15  ┆ 1.95      ┆ France         │\n",
       "│ …        ┆ …           ┆ …         ┆ …              │\n",
       "│ 24       ┆ 2011-03-06  ┆ 0.85      ┆ United Kingdom │\n",
       "│ 1        ┆ 2011-12-08  ┆ 1.65      ┆ United Kingdom │\n",
       "│ 1        ┆ 2011-06-08  ┆ 4.15      ┆ United Kingdom │\n",
       "│ 5        ┆ 2011-06-29  ┆ 1.63      ┆ United Kingdom │\n",
       "│ 1        ┆ 2011-08-01  ┆ 4.13      ┆ United Kingdom │\n",
       "└──────────┴─────────────┴───────────┴────────────────┘"
      ]
     },
     "execution_count": 54,
     "metadata": {},
     "output_type": "execute_result"
    }
   ],
   "source": [
    "df = df.drop(\"InvoiceNo\",\"StockCode\",\"Description\", \"CustomerID\")\n",
    "df"
   ]
  },
  {
   "cell_type": "markdown",
   "metadata": {},
   "source": [
    "Necesitaremos sacar una columna extra de Ventas totales, que sea el calculo de cantidad por precio por unidad\n"
   ]
  },
  {
   "cell_type": "code",
   "execution_count": 55,
   "metadata": {},
   "outputs": [
    {
     "data": {
      "text/html": [
       "<div><style>\n",
       ".dataframe > thead > tr,\n",
       ".dataframe > tbody > tr {\n",
       "  text-align: right;\n",
       "  white-space: pre-wrap;\n",
       "}\n",
       "</style>\n",
       "<small>shape: (442_815, 5)</small><table border=\"1\" class=\"dataframe\"><thead><tr><th>Quantity</th><th>InvoiceDate</th><th>UnitPrice</th><th>Country</th><th>TotalSales</th></tr><tr><td>i64</td><td>date</td><td>f64</td><td>str</td><td>f64</td></tr></thead><tbody><tr><td>1</td><td>2011-03-27</td><td>0.55</td><td>&quot;United Kingdom&quot;</td><td>0.55</td></tr><tr><td>3</td><td>2011-05-22</td><td>4.15</td><td>&quot;United Kingdom&quot;</td><td>12.45</td></tr><tr><td>12</td><td>2011-09-06</td><td>0.42</td><td>&quot;United Kingdom&quot;</td><td>5.04</td></tr><tr><td>1</td><td>2011-10-13</td><td>4.13</td><td>&quot;United Kingdom&quot;</td><td>4.13</td></tr><tr><td>24</td><td>2011-09-15</td><td>1.95</td><td>&quot;France&quot;</td><td>46.8</td></tr><tr><td>&hellip;</td><td>&hellip;</td><td>&hellip;</td><td>&hellip;</td><td>&hellip;</td></tr><tr><td>24</td><td>2011-03-06</td><td>0.85</td><td>&quot;United Kingdom&quot;</td><td>20.4</td></tr><tr><td>1</td><td>2011-12-08</td><td>1.65</td><td>&quot;United Kingdom&quot;</td><td>1.65</td></tr><tr><td>1</td><td>2011-06-08</td><td>4.15</td><td>&quot;United Kingdom&quot;</td><td>4.15</td></tr><tr><td>5</td><td>2011-06-29</td><td>1.63</td><td>&quot;United Kingdom&quot;</td><td>8.15</td></tr><tr><td>1</td><td>2011-08-01</td><td>4.13</td><td>&quot;United Kingdom&quot;</td><td>4.13</td></tr></tbody></table></div>"
      ],
      "text/plain": [
       "shape: (442_815, 5)\n",
       "┌──────────┬─────────────┬───────────┬────────────────┬────────────┐\n",
       "│ Quantity ┆ InvoiceDate ┆ UnitPrice ┆ Country        ┆ TotalSales │\n",
       "│ ---      ┆ ---         ┆ ---       ┆ ---            ┆ ---        │\n",
       "│ i64      ┆ date        ┆ f64       ┆ str            ┆ f64        │\n",
       "╞══════════╪═════════════╪═══════════╪════════════════╪════════════╡\n",
       "│ 1        ┆ 2011-03-27  ┆ 0.55      ┆ United Kingdom ┆ 0.55       │\n",
       "│ 3        ┆ 2011-05-22  ┆ 4.15      ┆ United Kingdom ┆ 12.45      │\n",
       "│ 12       ┆ 2011-09-06  ┆ 0.42      ┆ United Kingdom ┆ 5.04       │\n",
       "│ 1        ┆ 2011-10-13  ┆ 4.13      ┆ United Kingdom ┆ 4.13       │\n",
       "│ 24       ┆ 2011-09-15  ┆ 1.95      ┆ France         ┆ 46.8       │\n",
       "│ …        ┆ …           ┆ …         ┆ …              ┆ …          │\n",
       "│ 24       ┆ 2011-03-06  ┆ 0.85      ┆ United Kingdom ┆ 20.4       │\n",
       "│ 1        ┆ 2011-12-08  ┆ 1.65      ┆ United Kingdom ┆ 1.65       │\n",
       "│ 1        ┆ 2011-06-08  ┆ 4.15      ┆ United Kingdom ┆ 4.15       │\n",
       "│ 5        ┆ 2011-06-29  ┆ 1.63      ┆ United Kingdom ┆ 8.15       │\n",
       "│ 1        ┆ 2011-08-01  ┆ 4.13      ┆ United Kingdom ┆ 4.13       │\n",
       "└──────────┴─────────────┴───────────┴────────────────┴────────────┘"
      ]
     },
     "execution_count": 55,
     "metadata": {},
     "output_type": "execute_result"
    }
   ],
   "source": [
    "df = df.with_columns(\n",
    "    (pl.col(\"Quantity\") * pl.col(\"UnitPrice\")).alias(\"TotalSales\")\n",
    ")\n",
    "df"
   ]
  },
  {
   "cell_type": "markdown",
   "metadata": {},
   "source": [
    "Podemos agrupar por dias para ver la summa de ventas totales a modo de visualicacion.\n"
   ]
  },
  {
   "cell_type": "code",
   "execution_count": 56,
   "metadata": {},
   "outputs": [
    {
     "data": {
      "text/html": [
       "<div><style>\n",
       ".dataframe > thead > tr,\n",
       ".dataframe > tbody > tr {\n",
       "  text-align: right;\n",
       "  white-space: pre-wrap;\n",
       "}\n",
       "</style>\n",
       "<small>shape: (305, 3)</small><table border=\"1\" class=\"dataframe\"><thead><tr><th>InvoiceDate</th><th>Total_Quantity</th><th>Total_Sales</th></tr><tr><td>date</td><td>i64</td><td>f64</td></tr></thead><tbody><tr><td>2010-12-01</td><td>12899</td><td>26604.56</td></tr><tr><td>2010-12-02</td><td>12610</td><td>23203.33</td></tr><tr><td>2010-12-03</td><td>8632</td><td>19423.33</td></tr><tr><td>2010-12-05</td><td>10810</td><td>20738.69</td></tr><tr><td>2010-12-06</td><td>13876</td><td>30506.65</td></tr><tr><td>&hellip;</td><td>&hellip;</td><td>&hellip;</td></tr><tr><td>2011-12-05</td><td>24245</td><td>45221.72</td></tr><tr><td>2011-12-06</td><td>16717</td><td>26898.4</td></tr><tr><td>2011-12-07</td><td>16375</td><td>27847.03</td></tr><tr><td>2011-12-08</td><td>20021</td><td>38582.06</td></tr><tr><td>2011-12-09</td><td>7666</td><td>15940.79</td></tr></tbody></table></div>"
      ],
      "text/plain": [
       "shape: (305, 3)\n",
       "┌─────────────┬────────────────┬─────────────┐\n",
       "│ InvoiceDate ┆ Total_Quantity ┆ Total_Sales │\n",
       "│ ---         ┆ ---            ┆ ---         │\n",
       "│ date        ┆ i64            ┆ f64         │\n",
       "╞═════════════╪════════════════╪═════════════╡\n",
       "│ 2010-12-01  ┆ 12899          ┆ 26604.56    │\n",
       "│ 2010-12-02  ┆ 12610          ┆ 23203.33    │\n",
       "│ 2010-12-03  ┆ 8632           ┆ 19423.33    │\n",
       "│ 2010-12-05  ┆ 10810          ┆ 20738.69    │\n",
       "│ 2010-12-06  ┆ 13876          ┆ 30506.65    │\n",
       "│ …           ┆ …              ┆ …           │\n",
       "│ 2011-12-05  ┆ 24245          ┆ 45221.72    │\n",
       "│ 2011-12-06  ┆ 16717          ┆ 26898.4     │\n",
       "│ 2011-12-07  ┆ 16375          ┆ 27847.03    │\n",
       "│ 2011-12-08  ┆ 20021          ┆ 38582.06    │\n",
       "│ 2011-12-09  ┆ 7666           ┆ 15940.79    │\n",
       "└─────────────┴────────────────┴─────────────┘"
      ]
     },
     "execution_count": 56,
     "metadata": {},
     "output_type": "execute_result"
    }
   ],
   "source": [
    "df_daily_sales = df.group_by(\"InvoiceDate\").agg([\n",
    "    pl.col(\"Quantity\").sum().alias(\"Total_Quantity\"),\n",
    "    (pl.col(\"Quantity\") * pl.col(\"UnitPrice\")).sum().alias(\"Total_Sales\")  \n",
    "])\n",
    "df_daily_sales = df_daily_sales.sort(\"InvoiceDate\")\n",
    "df_daily_sales"
   ]
  },
  {
   "cell_type": "markdown",
   "metadata": {},
   "source": [
    "Haremos un ultimo describe para ver como ha quedado el dataset"
   ]
  },
  {
   "cell_type": "code",
   "execution_count": 57,
   "metadata": {},
   "outputs": [
    {
     "data": {
      "text/html": [
       "<div><style>\n",
       ".dataframe > thead > tr,\n",
       ".dataframe > tbody > tr {\n",
       "  text-align: right;\n",
       "  white-space: pre-wrap;\n",
       "}\n",
       "</style>\n",
       "<small>shape: (9, 6)</small><table border=\"1\" class=\"dataframe\"><thead><tr><th>statistic</th><th>Quantity</th><th>InvoiceDate</th><th>UnitPrice</th><th>Country</th><th>TotalSales</th></tr><tr><td>str</td><td>f64</td><td>str</td><td>f64</td><td>str</td><td>f64</td></tr></thead><tbody><tr><td>&quot;count&quot;</td><td>442815.0</td><td>&quot;442815&quot;</td><td>442815.0</td><td>&quot;442815&quot;</td><td>442815.0</td></tr><tr><td>&quot;null_count&quot;</td><td>0.0</td><td>&quot;0&quot;</td><td>0.0</td><td>&quot;0&quot;</td><td>0.0</td></tr><tr><td>&quot;mean&quot;</td><td>6.33038</td><td>&quot;2011-07-05 19:17:40.866000&quot;</td><td>2.388613</td><td>null</td><td>11.456598</td></tr><tr><td>&quot;std&quot;</td><td>6.458147</td><td>null</td><td>1.630417</td><td>null</td><td>12.759842</td></tr><tr><td>&quot;min&quot;</td><td>1.0</td><td>&quot;2010-12-01&quot;</td><td>0.12</td><td>&quot;Australia&quot;</td><td>0.12</td></tr><tr><td>&quot;25%&quot;</td><td>1.0</td><td>&quot;2011-03-29&quot;</td><td>1.25</td><td>null</td><td>3.29</td></tr><tr><td>&quot;50%&quot;</td><td>4.0</td><td>&quot;2011-07-22&quot;</td><td>1.95</td><td>null</td><td>7.5</td></tr><tr><td>&quot;75%&quot;</td><td>10.0</td><td>&quot;2011-10-20&quot;</td><td>3.29</td><td>null</td><td>15.3</td></tr><tr><td>&quot;max&quot;</td><td>27.0</td><td>&quot;2011-12-09&quot;</td><td>7.5</td><td>&quot;United Kingdom&quot;</td><td>193.96</td></tr></tbody></table></div>"
      ],
      "text/plain": [
       "shape: (9, 6)\n",
       "┌────────────┬──────────┬────────────────────────────┬───────────┬────────────────┬────────────┐\n",
       "│ statistic  ┆ Quantity ┆ InvoiceDate                ┆ UnitPrice ┆ Country        ┆ TotalSales │\n",
       "│ ---        ┆ ---      ┆ ---                        ┆ ---       ┆ ---            ┆ ---        │\n",
       "│ str        ┆ f64      ┆ str                        ┆ f64       ┆ str            ┆ f64        │\n",
       "╞════════════╪══════════╪════════════════════════════╪═══════════╪════════════════╪════════════╡\n",
       "│ count      ┆ 442815.0 ┆ 442815                     ┆ 442815.0  ┆ 442815         ┆ 442815.0   │\n",
       "│ null_count ┆ 0.0      ┆ 0                          ┆ 0.0       ┆ 0              ┆ 0.0        │\n",
       "│ mean       ┆ 6.33038  ┆ 2011-07-05 19:17:40.866000 ┆ 2.388613  ┆ null           ┆ 11.456598  │\n",
       "│ std        ┆ 6.458147 ┆ null                       ┆ 1.630417  ┆ null           ┆ 12.759842  │\n",
       "│ min        ┆ 1.0      ┆ 2010-12-01                 ┆ 0.12      ┆ Australia      ┆ 0.12       │\n",
       "│ 25%        ┆ 1.0      ┆ 2011-03-29                 ┆ 1.25      ┆ null           ┆ 3.29       │\n",
       "│ 50%        ┆ 4.0      ┆ 2011-07-22                 ┆ 1.95      ┆ null           ┆ 7.5        │\n",
       "│ 75%        ┆ 10.0     ┆ 2011-10-20                 ┆ 3.29      ┆ null           ┆ 15.3       │\n",
       "│ max        ┆ 27.0     ┆ 2011-12-09                 ┆ 7.5       ┆ United Kingdom ┆ 193.96     │\n",
       "└────────────┴──────────┴────────────────────────────┴───────────┴────────────────┴────────────┘"
      ]
     },
     "execution_count": 57,
     "metadata": {},
     "output_type": "execute_result"
    }
   ],
   "source": [
    "df.describe()"
   ]
  },
  {
   "cell_type": "markdown",
   "metadata": {},
   "source": [
    "Al parecer hay algo raro en las ventas totales el maximo es muy superior al tercer percentil, vamos a calcular el IQR para comprobar el limete superior\n"
   ]
  },
  {
   "cell_type": "code",
   "execution_count": 58,
   "metadata": {},
   "outputs": [
    {
     "name": "stdout",
     "output_type": "stream",
     "text": [
      "\n",
      "IQR for TotalSales\n",
      "3.29 15.299999999999999 12.009999999999998 -14.724999999999998 33.315\n"
     ]
    }
   ],
   "source": [
    "calc_iqr_from_column_name(\"TotalSales\")"
   ]
  },
  {
   "cell_type": "markdown",
   "metadata": {},
   "source": [
    "Ahora filtramos por el limite superior"
   ]
  },
  {
   "cell_type": "code",
   "execution_count": 59,
   "metadata": {},
   "outputs": [
    {
     "data": {
      "text/html": [
       "<div><style>\n",
       ".dataframe > thead > tr,\n",
       ".dataframe > tbody > tr {\n",
       "  text-align: right;\n",
       "  white-space: pre-wrap;\n",
       "}\n",
       "</style>\n",
       "<small>shape: (20_718, 5)</small><table border=\"1\" class=\"dataframe\"><thead><tr><th>Quantity</th><th>InvoiceDate</th><th>UnitPrice</th><th>Country</th><th>TotalSales</th></tr><tr><td>i64</td><td>date</td><td>f64</td><td>str</td><td>f64</td></tr></thead><tbody><tr><td>24</td><td>2011-09-15</td><td>1.95</td><td>&quot;France&quot;</td><td>46.8</td></tr><tr><td>12</td><td>2010-12-09</td><td>4.25</td><td>&quot;United Kingdom&quot;</td><td>51.0</td></tr><tr><td>10</td><td>2011-01-28</td><td>6.75</td><td>&quot;United Kingdom&quot;</td><td>67.5</td></tr><tr><td>16</td><td>2011-03-24</td><td>4.95</td><td>&quot;United Kingdom&quot;</td><td>79.2</td></tr><tr><td>24</td><td>2011-11-22</td><td>1.45</td><td>&quot;United Kingdom&quot;</td><td>34.8</td></tr><tr><td>&hellip;</td><td>&hellip;</td><td>&hellip;</td><td>&hellip;</td><td>&hellip;</td></tr><tr><td>6</td><td>2011-04-21</td><td>6.75</td><td>&quot;United Kingdom&quot;</td><td>40.5</td></tr><tr><td>16</td><td>2011-06-20</td><td>4.15</td><td>&quot;United Kingdom&quot;</td><td>66.4</td></tr><tr><td>12</td><td>2011-11-23</td><td>3.39</td><td>&quot;United Kingdom&quot;</td><td>40.68</td></tr><tr><td>12</td><td>2011-09-09</td><td>2.95</td><td>&quot;United Kingdom&quot;</td><td>35.4</td></tr><tr><td>10</td><td>2011-02-25</td><td>6.75</td><td>&quot;United Kingdom&quot;</td><td>67.5</td></tr></tbody></table></div>"
      ],
      "text/plain": [
       "shape: (20_718, 5)\n",
       "┌──────────┬─────────────┬───────────┬────────────────┬────────────┐\n",
       "│ Quantity ┆ InvoiceDate ┆ UnitPrice ┆ Country        ┆ TotalSales │\n",
       "│ ---      ┆ ---         ┆ ---       ┆ ---            ┆ ---        │\n",
       "│ i64      ┆ date        ┆ f64       ┆ str            ┆ f64        │\n",
       "╞══════════╪═════════════╪═══════════╪════════════════╪════════════╡\n",
       "│ 24       ┆ 2011-09-15  ┆ 1.95      ┆ France         ┆ 46.8       │\n",
       "│ 12       ┆ 2010-12-09  ┆ 4.25      ┆ United Kingdom ┆ 51.0       │\n",
       "│ 10       ┆ 2011-01-28  ┆ 6.75      ┆ United Kingdom ┆ 67.5       │\n",
       "│ 16       ┆ 2011-03-24  ┆ 4.95      ┆ United Kingdom ┆ 79.2       │\n",
       "│ 24       ┆ 2011-11-22  ┆ 1.45      ┆ United Kingdom ┆ 34.8       │\n",
       "│ …        ┆ …           ┆ …         ┆ …              ┆ …          │\n",
       "│ 6        ┆ 2011-04-21  ┆ 6.75      ┆ United Kingdom ┆ 40.5       │\n",
       "│ 16       ┆ 2011-06-20  ┆ 4.15      ┆ United Kingdom ┆ 66.4       │\n",
       "│ 12       ┆ 2011-11-23  ┆ 3.39      ┆ United Kingdom ┆ 40.68      │\n",
       "│ 12       ┆ 2011-09-09  ┆ 2.95      ┆ United Kingdom ┆ 35.4       │\n",
       "│ 10       ┆ 2011-02-25  ┆ 6.75      ┆ United Kingdom ┆ 67.5       │\n",
       "└──────────┴─────────────┴───────────┴────────────────┴────────────┘"
      ]
     },
     "execution_count": 59,
     "metadata": {},
     "output_type": "execute_result"
    }
   ],
   "source": [
    "df.filter(df[\"TotalSales\"] > 33.3)"
   ]
  },
  {
   "cell_type": "markdown",
   "metadata": {},
   "source": [
    "Nos encontramos con mas de 20000 filas con valores mas altos de lo normal, para decidir si eliminarlos o no, vamos a crear dos nuevas variables, una que nos siga el dia de la semana y otra que nos diga si es\n",
    "festivo en ese pais, todo esto es porque quizas estos valores tan altos son normales en relacion con el dia.\n",
    "\n",
    "Primero el dia de la semana"
   ]
  },
  {
   "cell_type": "code",
   "execution_count": 60,
   "metadata": {},
   "outputs": [
    {
     "data": {
      "text/html": [
       "<div><style>\n",
       ".dataframe > thead > tr,\n",
       ".dataframe > tbody > tr {\n",
       "  text-align: right;\n",
       "  white-space: pre-wrap;\n",
       "}\n",
       "</style>\n",
       "<small>shape: (442_815, 6)</small><table border=\"1\" class=\"dataframe\"><thead><tr><th>Quantity</th><th>InvoiceDate</th><th>UnitPrice</th><th>Country</th><th>TotalSales</th><th>weekday</th></tr><tr><td>i64</td><td>date</td><td>f64</td><td>str</td><td>f64</td><td>i8</td></tr></thead><tbody><tr><td>1</td><td>2011-03-27</td><td>0.55</td><td>&quot;United Kingdom&quot;</td><td>0.55</td><td>7</td></tr><tr><td>3</td><td>2011-05-22</td><td>4.15</td><td>&quot;United Kingdom&quot;</td><td>12.45</td><td>7</td></tr><tr><td>12</td><td>2011-09-06</td><td>0.42</td><td>&quot;United Kingdom&quot;</td><td>5.04</td><td>2</td></tr><tr><td>1</td><td>2011-10-13</td><td>4.13</td><td>&quot;United Kingdom&quot;</td><td>4.13</td><td>4</td></tr><tr><td>24</td><td>2011-09-15</td><td>1.95</td><td>&quot;France&quot;</td><td>46.8</td><td>4</td></tr><tr><td>&hellip;</td><td>&hellip;</td><td>&hellip;</td><td>&hellip;</td><td>&hellip;</td><td>&hellip;</td></tr><tr><td>24</td><td>2011-03-06</td><td>0.85</td><td>&quot;United Kingdom&quot;</td><td>20.4</td><td>7</td></tr><tr><td>1</td><td>2011-12-08</td><td>1.65</td><td>&quot;United Kingdom&quot;</td><td>1.65</td><td>4</td></tr><tr><td>1</td><td>2011-06-08</td><td>4.15</td><td>&quot;United Kingdom&quot;</td><td>4.15</td><td>3</td></tr><tr><td>5</td><td>2011-06-29</td><td>1.63</td><td>&quot;United Kingdom&quot;</td><td>8.15</td><td>3</td></tr><tr><td>1</td><td>2011-08-01</td><td>4.13</td><td>&quot;United Kingdom&quot;</td><td>4.13</td><td>1</td></tr></tbody></table></div>"
      ],
      "text/plain": [
       "shape: (442_815, 6)\n",
       "┌──────────┬─────────────┬───────────┬────────────────┬────────────┬─────────┐\n",
       "│ Quantity ┆ InvoiceDate ┆ UnitPrice ┆ Country        ┆ TotalSales ┆ weekday │\n",
       "│ ---      ┆ ---         ┆ ---       ┆ ---            ┆ ---        ┆ ---     │\n",
       "│ i64      ┆ date        ┆ f64       ┆ str            ┆ f64        ┆ i8      │\n",
       "╞══════════╪═════════════╪═══════════╪════════════════╪════════════╪═════════╡\n",
       "│ 1        ┆ 2011-03-27  ┆ 0.55      ┆ United Kingdom ┆ 0.55       ┆ 7       │\n",
       "│ 3        ┆ 2011-05-22  ┆ 4.15      ┆ United Kingdom ┆ 12.45      ┆ 7       │\n",
       "│ 12       ┆ 2011-09-06  ┆ 0.42      ┆ United Kingdom ┆ 5.04       ┆ 2       │\n",
       "│ 1        ┆ 2011-10-13  ┆ 4.13      ┆ United Kingdom ┆ 4.13       ┆ 4       │\n",
       "│ 24       ┆ 2011-09-15  ┆ 1.95      ┆ France         ┆ 46.8       ┆ 4       │\n",
       "│ …        ┆ …           ┆ …         ┆ …              ┆ …          ┆ …       │\n",
       "│ 24       ┆ 2011-03-06  ┆ 0.85      ┆ United Kingdom ┆ 20.4       ┆ 7       │\n",
       "│ 1        ┆ 2011-12-08  ┆ 1.65      ┆ United Kingdom ┆ 1.65       ┆ 4       │\n",
       "│ 1        ┆ 2011-06-08  ┆ 4.15      ┆ United Kingdom ┆ 4.15       ┆ 3       │\n",
       "│ 5        ┆ 2011-06-29  ┆ 1.63      ┆ United Kingdom ┆ 8.15       ┆ 3       │\n",
       "│ 1        ┆ 2011-08-01  ┆ 4.13      ┆ United Kingdom ┆ 4.13       ┆ 1       │\n",
       "└──────────┴─────────────┴───────────┴────────────────┴────────────┴─────────┘"
      ]
     },
     "execution_count": 60,
     "metadata": {},
     "output_type": "execute_result"
    }
   ],
   "source": [
    "import pandas as pd\n",
    "\n",
    "# día de la semana siendo 1 el Lunes hasta 7 el Domingo\n",
    "df = df.with_columns(pl.col(\"InvoiceDate\").dt.weekday().alias(\"weekday\"))\n",
    "\n",
    "df"
   ]
  },
  {
   "cell_type": "markdown",
   "metadata": {},
   "source": [
    "Ahora toca calcular el festivo\n",
    "\n",
    "Lo primero es sacar el codigo por pais y cambiar la columna dde Country por estos codigos mas sencillos de usar."
   ]
  },
  {
   "cell_type": "code",
   "execution_count": 61,
   "metadata": {},
   "outputs": [
    {
     "data": {
      "text/plain": [
       "{'Netherlands': 'NL',\n",
       " 'Denmark': 'DK',\n",
       " 'Japan': 'JP',\n",
       " 'Cyprus': 'CY',\n",
       " 'Channel Islands': None,\n",
       " 'France': 'FR',\n",
       " 'Singapore': 'SG',\n",
       " 'Finland': 'FI',\n",
       " 'RSA': None,\n",
       " 'Switzerland': 'CH',\n",
       " 'United Arab Emirates': 'AE',\n",
       " 'Italy': 'IT',\n",
       " 'Saudi Arabia': 'SA',\n",
       " 'Poland': 'PL',\n",
       " 'EIRE': None,\n",
       " 'Lithuania': 'LT',\n",
       " 'Norway': 'NO',\n",
       " 'Malta': 'MT',\n",
       " 'United Kingdom': 'GB',\n",
       " 'Australia': 'AU',\n",
       " 'Lebanon': 'LB',\n",
       " 'Iceland': 'IS',\n",
       " 'Hong Kong': 'HK',\n",
       " 'Germany': 'DE',\n",
       " 'Austria': 'AT',\n",
       " 'Belgium': 'BE',\n",
       " 'Canada': 'CA',\n",
       " 'Brazil': 'BR',\n",
       " 'Greece': 'GR',\n",
       " 'Sweden': 'SE',\n",
       " 'Spain': 'ES',\n",
       " 'European Community': None,\n",
       " 'Bahrain': 'BH',\n",
       " 'USA': 'US',\n",
       " 'Czech Republic': 'CZ',\n",
       " 'Israel': 'IL',\n",
       " 'Portugal': 'PT'}"
      ]
     },
     "execution_count": 61,
     "metadata": {},
     "output_type": "execute_result"
    }
   ],
   "source": [
    "import pycountry\n",
    "def get_country_code(country_name):\n",
    "    try:\n",
    "        return pycountry.countries.lookup(country_name).alpha_2\n",
    "    except LookupError:\n",
    "        return None\n",
    "countries = df[\"Country\"].unique().to_list()\n",
    "country_codes = {country: get_country_code(country) for country in countries}\n",
    "country_codes\n"
   ]
  },
  {
   "cell_type": "markdown",
   "metadata": {},
   "source": [
    "Antes de seguir vemos que hay algunos codigos con None, vamos a filtrarlos"
   ]
  },
  {
   "cell_type": "code",
   "execution_count": 62,
   "metadata": {},
   "outputs": [
    {
     "data": {
      "text/plain": [
       "{'Channel Islands': None,\n",
       " 'RSA': None,\n",
       " 'EIRE': None,\n",
       " 'European Community': None}"
      ]
     },
     "execution_count": 62,
     "metadata": {},
     "output_type": "execute_result"
    }
   ],
   "source": [
    "{k: v for k, v in country_codes.items() if v is None}"
   ]
  },
  {
   "cell_type": "markdown",
   "metadata": {},
   "source": [
    "Teniendo claro cuales son, vamos a hacer lo siguiente, vamos a eliminar European Community y channel islandds ya que no son un pais y como intentaremos predecir ventas por pais nos complica un poco la vida."
   ]
  },
  {
   "cell_type": "code",
   "execution_count": 63,
   "metadata": {},
   "outputs": [
    {
     "data": {
      "text/html": [
       "<div><style>\n",
       ".dataframe > thead > tr,\n",
       ".dataframe > tbody > tr {\n",
       "  text-align: right;\n",
       "  white-space: pre-wrap;\n",
       "}\n",
       "</style>\n",
       "<small>shape: (442_222, 6)</small><table border=\"1\" class=\"dataframe\"><thead><tr><th>Quantity</th><th>InvoiceDate</th><th>UnitPrice</th><th>Country</th><th>TotalSales</th><th>weekday</th></tr><tr><td>i64</td><td>date</td><td>f64</td><td>str</td><td>f64</td><td>i8</td></tr></thead><tbody><tr><td>1</td><td>2011-03-27</td><td>0.55</td><td>&quot;United Kingdom&quot;</td><td>0.55</td><td>7</td></tr><tr><td>3</td><td>2011-05-22</td><td>4.15</td><td>&quot;United Kingdom&quot;</td><td>12.45</td><td>7</td></tr><tr><td>12</td><td>2011-09-06</td><td>0.42</td><td>&quot;United Kingdom&quot;</td><td>5.04</td><td>2</td></tr><tr><td>1</td><td>2011-10-13</td><td>4.13</td><td>&quot;United Kingdom&quot;</td><td>4.13</td><td>4</td></tr><tr><td>24</td><td>2011-09-15</td><td>1.95</td><td>&quot;France&quot;</td><td>46.8</td><td>4</td></tr><tr><td>&hellip;</td><td>&hellip;</td><td>&hellip;</td><td>&hellip;</td><td>&hellip;</td><td>&hellip;</td></tr><tr><td>24</td><td>2011-03-06</td><td>0.85</td><td>&quot;United Kingdom&quot;</td><td>20.4</td><td>7</td></tr><tr><td>1</td><td>2011-12-08</td><td>1.65</td><td>&quot;United Kingdom&quot;</td><td>1.65</td><td>4</td></tr><tr><td>1</td><td>2011-06-08</td><td>4.15</td><td>&quot;United Kingdom&quot;</td><td>4.15</td><td>3</td></tr><tr><td>5</td><td>2011-06-29</td><td>1.63</td><td>&quot;United Kingdom&quot;</td><td>8.15</td><td>3</td></tr><tr><td>1</td><td>2011-08-01</td><td>4.13</td><td>&quot;United Kingdom&quot;</td><td>4.13</td><td>1</td></tr></tbody></table></div>"
      ],
      "text/plain": [
       "shape: (442_222, 6)\n",
       "┌──────────┬─────────────┬───────────┬────────────────┬────────────┬─────────┐\n",
       "│ Quantity ┆ InvoiceDate ┆ UnitPrice ┆ Country        ┆ TotalSales ┆ weekday │\n",
       "│ ---      ┆ ---         ┆ ---       ┆ ---            ┆ ---        ┆ ---     │\n",
       "│ i64      ┆ date        ┆ f64       ┆ str            ┆ f64        ┆ i8      │\n",
       "╞══════════╪═════════════╪═══════════╪════════════════╪════════════╪═════════╡\n",
       "│ 1        ┆ 2011-03-27  ┆ 0.55      ┆ United Kingdom ┆ 0.55       ┆ 7       │\n",
       "│ 3        ┆ 2011-05-22  ┆ 4.15      ┆ United Kingdom ┆ 12.45      ┆ 7       │\n",
       "│ 12       ┆ 2011-09-06  ┆ 0.42      ┆ United Kingdom ┆ 5.04       ┆ 2       │\n",
       "│ 1        ┆ 2011-10-13  ┆ 4.13      ┆ United Kingdom ┆ 4.13       ┆ 4       │\n",
       "│ 24       ┆ 2011-09-15  ┆ 1.95      ┆ France         ┆ 46.8       ┆ 4       │\n",
       "│ …        ┆ …           ┆ …         ┆ …              ┆ …          ┆ …       │\n",
       "│ 24       ┆ 2011-03-06  ┆ 0.85      ┆ United Kingdom ┆ 20.4       ┆ 7       │\n",
       "│ 1        ┆ 2011-12-08  ┆ 1.65      ┆ United Kingdom ┆ 1.65       ┆ 4       │\n",
       "│ 1        ┆ 2011-06-08  ┆ 4.15      ┆ United Kingdom ┆ 4.15       ┆ 3       │\n",
       "│ 5        ┆ 2011-06-29  ┆ 1.63      ┆ United Kingdom ┆ 8.15       ┆ 3       │\n",
       "│ 1        ┆ 2011-08-01  ┆ 4.13      ┆ United Kingdom ┆ 4.13       ┆ 1       │\n",
       "└──────────┴─────────────┴───────────┴────────────────┴────────────┴─────────┘"
      ]
     },
     "execution_count": 63,
     "metadata": {},
     "output_type": "execute_result"
    }
   ],
   "source": [
    "df = df.filter(~((df[\"Country\"] == \"European Community\") | (df[\"Country\"] == \"Channel Islands\")))\n",
    "df"
   ]
  },
  {
   "cell_type": "markdown",
   "metadata": {},
   "source": [
    "Ahora Modificaremos a mano el nombre de RSA por South Africa y Eire por Ireland y dejaremos las Channel island como caso imposible ya que"
   ]
  },
  {
   "cell_type": "code",
   "execution_count": 64,
   "metadata": {},
   "outputs": [
    {
     "data": {
      "text/html": [
       "<div><style>\n",
       ".dataframe > thead > tr,\n",
       ".dataframe > tbody > tr {\n",
       "  text-align: right;\n",
       "  white-space: pre-wrap;\n",
       "}\n",
       "</style>\n",
       "<small>shape: (442_222, 6)</small><table border=\"1\" class=\"dataframe\"><thead><tr><th>Quantity</th><th>InvoiceDate</th><th>UnitPrice</th><th>Country</th><th>TotalSales</th><th>weekday</th></tr><tr><td>i64</td><td>date</td><td>f64</td><td>str</td><td>f64</td><td>i8</td></tr></thead><tbody><tr><td>1</td><td>2011-03-27</td><td>0.55</td><td>&quot;United Kingdom&quot;</td><td>0.55</td><td>7</td></tr><tr><td>3</td><td>2011-05-22</td><td>4.15</td><td>&quot;United Kingdom&quot;</td><td>12.45</td><td>7</td></tr><tr><td>12</td><td>2011-09-06</td><td>0.42</td><td>&quot;United Kingdom&quot;</td><td>5.04</td><td>2</td></tr><tr><td>1</td><td>2011-10-13</td><td>4.13</td><td>&quot;United Kingdom&quot;</td><td>4.13</td><td>4</td></tr><tr><td>24</td><td>2011-09-15</td><td>1.95</td><td>&quot;France&quot;</td><td>46.8</td><td>4</td></tr><tr><td>&hellip;</td><td>&hellip;</td><td>&hellip;</td><td>&hellip;</td><td>&hellip;</td><td>&hellip;</td></tr><tr><td>24</td><td>2011-03-06</td><td>0.85</td><td>&quot;United Kingdom&quot;</td><td>20.4</td><td>7</td></tr><tr><td>1</td><td>2011-12-08</td><td>1.65</td><td>&quot;United Kingdom&quot;</td><td>1.65</td><td>4</td></tr><tr><td>1</td><td>2011-06-08</td><td>4.15</td><td>&quot;United Kingdom&quot;</td><td>4.15</td><td>3</td></tr><tr><td>5</td><td>2011-06-29</td><td>1.63</td><td>&quot;United Kingdom&quot;</td><td>8.15</td><td>3</td></tr><tr><td>1</td><td>2011-08-01</td><td>4.13</td><td>&quot;United Kingdom&quot;</td><td>4.13</td><td>1</td></tr></tbody></table></div>"
      ],
      "text/plain": [
       "shape: (442_222, 6)\n",
       "┌──────────┬─────────────┬───────────┬────────────────┬────────────┬─────────┐\n",
       "│ Quantity ┆ InvoiceDate ┆ UnitPrice ┆ Country        ┆ TotalSales ┆ weekday │\n",
       "│ ---      ┆ ---         ┆ ---       ┆ ---            ┆ ---        ┆ ---     │\n",
       "│ i64      ┆ date        ┆ f64       ┆ str            ┆ f64        ┆ i8      │\n",
       "╞══════════╪═════════════╪═══════════╪════════════════╪════════════╪═════════╡\n",
       "│ 1        ┆ 2011-03-27  ┆ 0.55      ┆ United Kingdom ┆ 0.55       ┆ 7       │\n",
       "│ 3        ┆ 2011-05-22  ┆ 4.15      ┆ United Kingdom ┆ 12.45      ┆ 7       │\n",
       "│ 12       ┆ 2011-09-06  ┆ 0.42      ┆ United Kingdom ┆ 5.04       ┆ 2       │\n",
       "│ 1        ┆ 2011-10-13  ┆ 4.13      ┆ United Kingdom ┆ 4.13       ┆ 4       │\n",
       "│ 24       ┆ 2011-09-15  ┆ 1.95      ┆ France         ┆ 46.8       ┆ 4       │\n",
       "│ …        ┆ …           ┆ …         ┆ …              ┆ …          ┆ …       │\n",
       "│ 24       ┆ 2011-03-06  ┆ 0.85      ┆ United Kingdom ┆ 20.4       ┆ 7       │\n",
       "│ 1        ┆ 2011-12-08  ┆ 1.65      ┆ United Kingdom ┆ 1.65       ┆ 4       │\n",
       "│ 1        ┆ 2011-06-08  ┆ 4.15      ┆ United Kingdom ┆ 4.15       ┆ 3       │\n",
       "│ 5        ┆ 2011-06-29  ┆ 1.63      ┆ United Kingdom ┆ 8.15       ┆ 3       │\n",
       "│ 1        ┆ 2011-08-01  ┆ 4.13      ┆ United Kingdom ┆ 4.13       ┆ 1       │\n",
       "└──────────┴─────────────┴───────────┴────────────────┴────────────┴─────────┘"
      ]
     },
     "execution_count": 64,
     "metadata": {},
     "output_type": "execute_result"
    }
   ],
   "source": [
    "manual_replacements = {\n",
    "    \"RSA\": \"South Africa\",\n",
    "    \"EIRE\": \"Ireland\"\n",
    "}\n",
    "df = df.with_columns(\n",
    "    pl.col(\"Country\").replace(manual_replacements)\n",
    ")\n",
    "df"
   ]
  },
  {
   "cell_type": "markdown",
   "metadata": {},
   "source": [
    "vovlemos a comprobar los country codes con None"
   ]
  },
  {
   "cell_type": "code",
   "execution_count": 65,
   "metadata": {},
   "outputs": [
    {
     "data": {
      "text/plain": [
       "{}"
      ]
     },
     "execution_count": 65,
     "metadata": {},
     "output_type": "execute_result"
    }
   ],
   "source": [
    "countries = df[\"Country\"].unique().to_list()\n",
    "country_codes = {country: get_country_code(country) for country in countries}\n",
    "{k: v for k, v in country_codes.items() if v is None}"
   ]
  },
  {
   "cell_type": "markdown",
   "metadata": {},
   "source": [
    "Perfecto ahora sobreescribiremos los valores de la columna country por los codigos"
   ]
  },
  {
   "cell_type": "code",
   "execution_count": 66,
   "metadata": {},
   "outputs": [
    {
     "data": {
      "text/html": [
       "<div><style>\n",
       ".dataframe > thead > tr,\n",
       ".dataframe > tbody > tr {\n",
       "  text-align: right;\n",
       "  white-space: pre-wrap;\n",
       "}\n",
       "</style>\n",
       "<small>shape: (442_222, 6)</small><table border=\"1\" class=\"dataframe\"><thead><tr><th>Quantity</th><th>InvoiceDate</th><th>UnitPrice</th><th>Country</th><th>TotalSales</th><th>weekday</th></tr><tr><td>i64</td><td>date</td><td>f64</td><td>str</td><td>f64</td><td>i8</td></tr></thead><tbody><tr><td>1</td><td>2011-03-27</td><td>0.55</td><td>&quot;GB&quot;</td><td>0.55</td><td>7</td></tr><tr><td>3</td><td>2011-05-22</td><td>4.15</td><td>&quot;GB&quot;</td><td>12.45</td><td>7</td></tr><tr><td>12</td><td>2011-09-06</td><td>0.42</td><td>&quot;GB&quot;</td><td>5.04</td><td>2</td></tr><tr><td>1</td><td>2011-10-13</td><td>4.13</td><td>&quot;GB&quot;</td><td>4.13</td><td>4</td></tr><tr><td>24</td><td>2011-09-15</td><td>1.95</td><td>&quot;FR&quot;</td><td>46.8</td><td>4</td></tr><tr><td>&hellip;</td><td>&hellip;</td><td>&hellip;</td><td>&hellip;</td><td>&hellip;</td><td>&hellip;</td></tr><tr><td>24</td><td>2011-03-06</td><td>0.85</td><td>&quot;GB&quot;</td><td>20.4</td><td>7</td></tr><tr><td>1</td><td>2011-12-08</td><td>1.65</td><td>&quot;GB&quot;</td><td>1.65</td><td>4</td></tr><tr><td>1</td><td>2011-06-08</td><td>4.15</td><td>&quot;GB&quot;</td><td>4.15</td><td>3</td></tr><tr><td>5</td><td>2011-06-29</td><td>1.63</td><td>&quot;GB&quot;</td><td>8.15</td><td>3</td></tr><tr><td>1</td><td>2011-08-01</td><td>4.13</td><td>&quot;GB&quot;</td><td>4.13</td><td>1</td></tr></tbody></table></div>"
      ],
      "text/plain": [
       "shape: (442_222, 6)\n",
       "┌──────────┬─────────────┬───────────┬─────────┬────────────┬─────────┐\n",
       "│ Quantity ┆ InvoiceDate ┆ UnitPrice ┆ Country ┆ TotalSales ┆ weekday │\n",
       "│ ---      ┆ ---         ┆ ---       ┆ ---     ┆ ---        ┆ ---     │\n",
       "│ i64      ┆ date        ┆ f64       ┆ str     ┆ f64        ┆ i8      │\n",
       "╞══════════╪═════════════╪═══════════╪═════════╪════════════╪═════════╡\n",
       "│ 1        ┆ 2011-03-27  ┆ 0.55      ┆ GB      ┆ 0.55       ┆ 7       │\n",
       "│ 3        ┆ 2011-05-22  ┆ 4.15      ┆ GB      ┆ 12.45      ┆ 7       │\n",
       "│ 12       ┆ 2011-09-06  ┆ 0.42      ┆ GB      ┆ 5.04       ┆ 2       │\n",
       "│ 1        ┆ 2011-10-13  ┆ 4.13      ┆ GB      ┆ 4.13       ┆ 4       │\n",
       "│ 24       ┆ 2011-09-15  ┆ 1.95      ┆ FR      ┆ 46.8       ┆ 4       │\n",
       "│ …        ┆ …           ┆ …         ┆ …       ┆ …          ┆ …       │\n",
       "│ 24       ┆ 2011-03-06  ┆ 0.85      ┆ GB      ┆ 20.4       ┆ 7       │\n",
       "│ 1        ┆ 2011-12-08  ┆ 1.65      ┆ GB      ┆ 1.65       ┆ 4       │\n",
       "│ 1        ┆ 2011-06-08  ┆ 4.15      ┆ GB      ┆ 4.15       ┆ 3       │\n",
       "│ 5        ┆ 2011-06-29  ┆ 1.63      ┆ GB      ┆ 8.15       ┆ 3       │\n",
       "│ 1        ┆ 2011-08-01  ┆ 4.13      ┆ GB      ┆ 4.13       ┆ 1       │\n",
       "└──────────┴─────────────┴───────────┴─────────┴────────────┴─────────┘"
      ]
     },
     "execution_count": 66,
     "metadata": {},
     "output_type": "execute_result"
    }
   ],
   "source": [
    "country_codes_without_none = {k: v for k, v in country_codes.items() if v is not None}\n",
    "\n",
    "df = df.with_columns(\n",
    "    pl.col(\"Country\").replace(country_codes_without_none)\n",
    ")\n",
    "df"
   ]
  },
  {
   "cell_type": "markdown",
   "metadata": {},
   "source": [
    "Lo siguiente es sacar los festivos"
   ]
  },
  {
   "cell_type": "code",
   "execution_count": 67,
   "metadata": {},
   "outputs": [
    {
     "name": "stdout",
     "output_type": "stream",
     "text": [
      "LB not found in holidays database\n"
     ]
    },
    {
     "data": {
      "text/plain": [
       "{'CZ': {datetime.date(2010, 1, 1): 'Den obnovy samostatného českého státu; Nový rok', datetime.date(2010, 4, 5): 'Velikonoční pondělí', datetime.date(2010, 5, 1): 'Svátek práce', datetime.date(2010, 5, 8): 'Den vítězství', datetime.date(2010, 7, 5): 'Den slovanských věrozvěstů Cyrila a Metoděje', datetime.date(2010, 7, 6): 'Den upálení mistra Jana Husa', datetime.date(2010, 9, 28): 'Den české státnosti', datetime.date(2010, 10, 28): 'Den vzniku samostatného československého státu', datetime.date(2010, 11, 17): 'Den boje za svobodu a demokracii', datetime.date(2010, 12, 24): 'Štědrý den', datetime.date(2010, 12, 25): '1. svátek vánoční', datetime.date(2010, 12, 26): '2. svátek vánoční', datetime.date(2011, 1, 1): 'Den obnovy samostatného českého státu; Nový rok', datetime.date(2011, 4, 25): 'Velikonoční pondělí', datetime.date(2011, 5, 1): 'Svátek práce', datetime.date(2011, 5, 8): 'Den vítězství', datetime.date(2011, 7, 5): 'Den slovanských věrozvěstů Cyrila a Metoděje', datetime.date(2011, 7, 6): 'Den upálení mistra Jana Husa', datetime.date(2011, 9, 28): 'Den české státnosti', datetime.date(2011, 10, 28): 'Den vzniku samostatného československého státu', datetime.date(2011, 11, 17): 'Den boje za svobodu a demokracii', datetime.date(2011, 12, 24): 'Štědrý den', datetime.date(2011, 12, 25): '1. svátek vánoční', datetime.date(2011, 12, 26): '2. svátek vánoční'},\n",
       " 'MT': {datetime.date(2010, 1, 1): 'L-Ewwel tas-Sena', datetime.date(2010, 2, 10): \"Il-Festa tan-Nawfraġju ta' San Pawl\", datetime.date(2010, 3, 19): \"Il-Festa ta' San Ġużepp\", datetime.date(2010, 3, 31): 'Jum il-Ħelsien', datetime.date(2010, 4, 2): 'Il-Ġimgħa l-Kbira', datetime.date(2010, 5, 1): 'Jum il-Ħaddiem', datetime.date(2010, 6, 7): 'Sette Giugno', datetime.date(2010, 6, 29): \"Il-Festa ta' San Pietru u San Pawl\", datetime.date(2010, 8, 15): \"Il-Festa ta' Santa Marija\", datetime.date(2010, 9, 8): 'Jum il-Vitorja', datetime.date(2010, 9, 21): 'Jum l-Indipendenza', datetime.date(2010, 12, 8): 'Il-Festa tal-Immakulata Kunċizzjoni', datetime.date(2010, 12, 13): 'Jum ir-Repubblika', datetime.date(2010, 12, 25): 'Il-Milied', datetime.date(2011, 1, 1): 'L-Ewwel tas-Sena', datetime.date(2011, 2, 10): \"Il-Festa tan-Nawfraġju ta' San Pawl\", datetime.date(2011, 3, 19): \"Il-Festa ta' San Ġużepp\", datetime.date(2011, 3, 31): 'Jum il-Ħelsien', datetime.date(2011, 4, 22): 'Il-Ġimgħa l-Kbira', datetime.date(2011, 5, 1): 'Jum il-Ħaddiem', datetime.date(2011, 6, 7): 'Sette Giugno', datetime.date(2011, 6, 29): \"Il-Festa ta' San Pietru u San Pawl\", datetime.date(2011, 8, 15): \"Il-Festa ta' Santa Marija\", datetime.date(2011, 9, 8): 'Jum il-Vitorja', datetime.date(2011, 9, 21): 'Jum l-Indipendenza', datetime.date(2011, 12, 8): 'Il-Festa tal-Immakulata Kunċizzjoni', datetime.date(2011, 12, 13): 'Jum ir-Repubblika', datetime.date(2011, 12, 25): 'Il-Milied'},\n",
       " 'DE': {datetime.date(2010, 1, 1): 'Neujahr', datetime.date(2010, 4, 2): 'Karfreitag', datetime.date(2010, 4, 5): 'Ostermontag', datetime.date(2010, 5, 1): 'Erster Mai', datetime.date(2010, 5, 13): 'Christi Himmelfahrt', datetime.date(2010, 5, 24): 'Pfingstmontag', datetime.date(2010, 10, 3): 'Tag der Deutschen Einheit', datetime.date(2010, 12, 25): 'Erster Weihnachtstag', datetime.date(2010, 12, 26): 'Zweiter Weihnachtstag', datetime.date(2011, 1, 1): 'Neujahr', datetime.date(2011, 4, 22): 'Karfreitag', datetime.date(2011, 4, 25): 'Ostermontag', datetime.date(2011, 5, 1): 'Erster Mai', datetime.date(2011, 6, 2): 'Christi Himmelfahrt', datetime.date(2011, 6, 13): 'Pfingstmontag', datetime.date(2011, 10, 3): 'Tag der Deutschen Einheit', datetime.date(2011, 12, 25): 'Erster Weihnachtstag', datetime.date(2011, 12, 26): 'Zweiter Weihnachtstag'},\n",
       " 'AU': {datetime.date(2010, 4, 2): 'Good Friday', datetime.date(2010, 4, 5): 'Easter Monday', datetime.date(2010, 1, 1): \"New Year's Day\", datetime.date(2010, 1, 26): 'Australia Day', datetime.date(2010, 4, 25): 'ANZAC Day', datetime.date(2010, 12, 25): 'Christmas Day', datetime.date(2010, 12, 26): 'Boxing Day', datetime.date(2011, 4, 22): 'Good Friday', datetime.date(2011, 4, 25): 'ANZAC Day; Easter Monday', datetime.date(2011, 1, 1): \"New Year's Day\", datetime.date(2011, 1, 26): 'Australia Day', datetime.date(2011, 12, 25): 'Christmas Day', datetime.date(2011, 12, 26): 'Boxing Day'},\n",
       " 'GR': {datetime.date(2010, 1, 1): 'Πρωτοχρονιά', datetime.date(2010, 1, 6): 'Θεοφάνεια', datetime.date(2010, 2, 15): 'Καθαρά Δευτέρα', datetime.date(2010, 3, 25): 'Εικοστή Πέμπτη Μαρτίου', datetime.date(2010, 4, 2): 'Μεγάλη Παρασκευή', datetime.date(2010, 4, 5): 'Δευτέρα του Πάσχα', datetime.date(2010, 5, 24): 'Δευτέρα του Αγίου Πνεύματος', datetime.date(2010, 5, 1): 'Εργατική Πρωτομαγιά', datetime.date(2010, 8, 15): 'Κοίμηση της Θεοτόκου', datetime.date(2010, 10, 28): 'Ημέρα του Όχι', datetime.date(2010, 12, 25): 'Χριστούγεννα', datetime.date(2010, 12, 26): 'Σύναξη της Υπεραγίας Θεοτόκου', datetime.date(2011, 1, 1): 'Πρωτοχρονιά', datetime.date(2011, 1, 6): 'Θεοφάνεια', datetime.date(2011, 3, 7): 'Καθαρά Δευτέρα', datetime.date(2011, 3, 25): 'Εικοστή Πέμπτη Μαρτίου', datetime.date(2011, 4, 22): 'Μεγάλη Παρασκευή', datetime.date(2011, 4, 25): 'Δευτέρα του Πάσχα', datetime.date(2011, 6, 13): 'Δευτέρα του Αγίου Πνεύματος', datetime.date(2011, 5, 1): 'Εργατική Πρωτομαγιά', datetime.date(2011, 8, 15): 'Κοίμηση της Θεοτόκου', datetime.date(2011, 10, 28): 'Ημέρα του Όχι', datetime.date(2011, 12, 25): 'Χριστούγεννα', datetime.date(2011, 12, 26): 'Σύναξη της Υπεραγίας Θεοτόκου'},\n",
       " 'SE': {datetime.date(2010, 1, 1): 'Nyårsdagen', datetime.date(2010, 1, 6): 'Trettondedag jul', datetime.date(2010, 4, 2): 'Långfredagen', datetime.date(2010, 4, 4): 'Påskdagen; Söndag', datetime.date(2010, 4, 5): 'Annandag påsk', datetime.date(2010, 5, 1): 'Första maj', datetime.date(2010, 5, 13): 'Kristi himmelsfärdsdag', datetime.date(2010, 6, 6): 'Sveriges nationaldag; Söndag', datetime.date(2010, 5, 23): 'Pingstdagen; Söndag', datetime.date(2010, 6, 25): 'Midsommarafton', datetime.date(2010, 6, 26): 'Midsommardagen', datetime.date(2010, 11, 6): 'Alla helgons dag', datetime.date(2010, 12, 24): 'Julafton', datetime.date(2010, 12, 25): 'Juldagen', datetime.date(2010, 12, 26): 'Annandag jul; Söndag', datetime.date(2010, 12, 31): 'Nyårsafton', datetime.date(2010, 1, 3): 'Söndag', datetime.date(2010, 1, 10): 'Söndag', datetime.date(2010, 1, 17): 'Söndag', datetime.date(2010, 1, 24): 'Söndag', datetime.date(2010, 1, 31): 'Söndag', datetime.date(2010, 2, 7): 'Söndag', datetime.date(2010, 2, 14): 'Söndag', datetime.date(2010, 2, 21): 'Söndag', datetime.date(2010, 2, 28): 'Söndag', datetime.date(2010, 3, 7): 'Söndag', datetime.date(2010, 3, 14): 'Söndag', datetime.date(2010, 3, 21): 'Söndag', datetime.date(2010, 3, 28): 'Söndag', datetime.date(2010, 4, 11): 'Söndag', datetime.date(2010, 4, 18): 'Söndag', datetime.date(2010, 4, 25): 'Söndag', datetime.date(2010, 5, 2): 'Söndag', datetime.date(2010, 5, 9): 'Söndag', datetime.date(2010, 5, 16): 'Söndag', datetime.date(2010, 5, 30): 'Söndag', datetime.date(2010, 6, 13): 'Söndag', datetime.date(2010, 6, 20): 'Söndag', datetime.date(2010, 6, 27): 'Söndag', datetime.date(2010, 7, 4): 'Söndag', datetime.date(2010, 7, 11): 'Söndag', datetime.date(2010, 7, 18): 'Söndag', datetime.date(2010, 7, 25): 'Söndag', datetime.date(2010, 8, 1): 'Söndag', datetime.date(2010, 8, 8): 'Söndag', datetime.date(2010, 8, 15): 'Söndag', datetime.date(2010, 8, 22): 'Söndag', datetime.date(2010, 8, 29): 'Söndag', datetime.date(2010, 9, 5): 'Söndag', datetime.date(2010, 9, 12): 'Söndag', datetime.date(2010, 9, 19): 'Söndag', datetime.date(2010, 9, 26): 'Söndag', datetime.date(2010, 10, 3): 'Söndag', datetime.date(2010, 10, 10): 'Söndag', datetime.date(2010, 10, 17): 'Söndag', datetime.date(2010, 10, 24): 'Söndag', datetime.date(2010, 10, 31): 'Söndag', datetime.date(2010, 11, 7): 'Söndag', datetime.date(2010, 11, 14): 'Söndag', datetime.date(2010, 11, 21): 'Söndag', datetime.date(2010, 11, 28): 'Söndag', datetime.date(2010, 12, 5): 'Söndag', datetime.date(2010, 12, 12): 'Söndag', datetime.date(2010, 12, 19): 'Söndag', datetime.date(2011, 1, 1): 'Nyårsdagen', datetime.date(2011, 1, 6): 'Trettondedag jul', datetime.date(2011, 4, 22): 'Långfredagen', datetime.date(2011, 4, 24): 'Påskdagen; Söndag', datetime.date(2011, 4, 25): 'Annandag påsk', datetime.date(2011, 5, 1): 'Första maj; Söndag', datetime.date(2011, 6, 2): 'Kristi himmelsfärdsdag', datetime.date(2011, 6, 6): 'Sveriges nationaldag', datetime.date(2011, 6, 12): 'Pingstdagen; Söndag', datetime.date(2011, 6, 24): 'Midsommarafton', datetime.date(2011, 6, 25): 'Midsommardagen', datetime.date(2011, 11, 5): 'Alla helgons dag', datetime.date(2011, 12, 24): 'Julafton', datetime.date(2011, 12, 25): 'Juldagen; Söndag', datetime.date(2011, 12, 26): 'Annandag jul', datetime.date(2011, 12, 31): 'Nyårsafton', datetime.date(2011, 1, 2): 'Söndag', datetime.date(2011, 1, 9): 'Söndag', datetime.date(2011, 1, 16): 'Söndag', datetime.date(2011, 1, 23): 'Söndag', datetime.date(2011, 1, 30): 'Söndag', datetime.date(2011, 2, 6): 'Söndag', datetime.date(2011, 2, 13): 'Söndag', datetime.date(2011, 2, 20): 'Söndag', datetime.date(2011, 2, 27): 'Söndag', datetime.date(2011, 3, 6): 'Söndag', datetime.date(2011, 3, 13): 'Söndag', datetime.date(2011, 3, 20): 'Söndag', datetime.date(2011, 3, 27): 'Söndag', datetime.date(2011, 4, 3): 'Söndag', datetime.date(2011, 4, 10): 'Söndag', datetime.date(2011, 4, 17): 'Söndag', datetime.date(2011, 5, 8): 'Söndag', datetime.date(2011, 5, 15): 'Söndag', datetime.date(2011, 5, 22): 'Söndag', datetime.date(2011, 5, 29): 'Söndag', datetime.date(2011, 6, 5): 'Söndag', datetime.date(2011, 6, 19): 'Söndag', datetime.date(2011, 6, 26): 'Söndag', datetime.date(2011, 7, 3): 'Söndag', datetime.date(2011, 7, 10): 'Söndag', datetime.date(2011, 7, 17): 'Söndag', datetime.date(2011, 7, 24): 'Söndag', datetime.date(2011, 7, 31): 'Söndag', datetime.date(2011, 8, 7): 'Söndag', datetime.date(2011, 8, 14): 'Söndag', datetime.date(2011, 8, 21): 'Söndag', datetime.date(2011, 8, 28): 'Söndag', datetime.date(2011, 9, 4): 'Söndag', datetime.date(2011, 9, 11): 'Söndag', datetime.date(2011, 9, 18): 'Söndag', datetime.date(2011, 9, 25): 'Söndag', datetime.date(2011, 10, 2): 'Söndag', datetime.date(2011, 10, 9): 'Söndag', datetime.date(2011, 10, 16): 'Söndag', datetime.date(2011, 10, 23): 'Söndag', datetime.date(2011, 10, 30): 'Söndag', datetime.date(2011, 11, 6): 'Söndag', datetime.date(2011, 11, 13): 'Söndag', datetime.date(2011, 11, 20): 'Söndag', datetime.date(2011, 11, 27): 'Söndag', datetime.date(2011, 12, 4): 'Söndag', datetime.date(2011, 12, 11): 'Söndag', datetime.date(2011, 12, 18): 'Söndag'},\n",
       " 'CY': {datetime.date(2010, 1, 1): 'Πρωτοχρονιά', datetime.date(2010, 1, 6): 'Ημέρα των Θεοφανίων', datetime.date(2010, 2, 15): 'Καθαρά Δευτέρα', datetime.date(2010, 3, 25): 'Ημέρα της Ελληνικής Ανεξαρτησίας', datetime.date(2010, 4, 1): 'Εθνική Ημέρα Κύπρου', datetime.date(2010, 4, 2): 'Μεγάλη Παρασκευή', datetime.date(2010, 4, 4): 'Κυριακή του Πάσχα', datetime.date(2010, 4, 5): 'Δευτέρα της Διακαινησίμου', datetime.date(2010, 5, 1): 'Πρωτομαγιά', datetime.date(2010, 5, 24): 'Δευτέρα του Αγίου Πνεύματος', datetime.date(2010, 8, 15): 'Κοίμηση της Θεοτόκου', datetime.date(2010, 10, 1): 'Ημέρα της Κυπριακής Ανεξαρτησίας', datetime.date(2010, 10, 28): 'Ημέρα του Όχι', datetime.date(2010, 12, 25): 'Χριστούγεννα', datetime.date(2010, 12, 26): 'Επομένη Χριστουγέννων', datetime.date(2011, 1, 1): 'Πρωτοχρονιά', datetime.date(2011, 1, 6): 'Ημέρα των Θεοφανίων', datetime.date(2011, 3, 7): 'Καθαρά Δευτέρα', datetime.date(2011, 3, 25): 'Ημέρα της Ελληνικής Ανεξαρτησίας', datetime.date(2011, 4, 1): 'Εθνική Ημέρα Κύπρου', datetime.date(2011, 4, 22): 'Μεγάλη Παρασκευή', datetime.date(2011, 4, 24): 'Κυριακή του Πάσχα', datetime.date(2011, 4, 25): 'Δευτέρα της Διακαινησίμου', datetime.date(2011, 5, 1): 'Πρωτομαγιά', datetime.date(2011, 6, 13): 'Δευτέρα του Αγίου Πνεύματος', datetime.date(2011, 8, 15): 'Κοίμηση της Θεοτόκου', datetime.date(2011, 10, 1): 'Ημέρα της Κυπριακής Ανεξαρτησίας', datetime.date(2011, 10, 28): 'Ημέρα του Όχι', datetime.date(2011, 12, 25): 'Χριστούγεννα', datetime.date(2011, 12, 26): 'Επομένη Χριστουγέννων'},\n",
       " 'BR': {datetime.date(2010, 1, 1): 'Confraternização Universal', datetime.date(2010, 4, 2): 'Sexta-feira Santa', datetime.date(2010, 4, 21): 'Tiradentes', datetime.date(2010, 5, 1): 'Dia do Trabalhador', datetime.date(2010, 9, 7): 'Independência do Brasil', datetime.date(2010, 10, 12): 'Nossa Senhora Aparecida', datetime.date(2010, 11, 2): 'Finados', datetime.date(2010, 11, 15): 'Proclamação da República', datetime.date(2010, 12, 25): 'Natal', datetime.date(2011, 1, 1): 'Confraternização Universal', datetime.date(2011, 4, 22): 'Sexta-feira Santa', datetime.date(2011, 4, 21): 'Tiradentes', datetime.date(2011, 5, 1): 'Dia do Trabalhador', datetime.date(2011, 9, 7): 'Independência do Brasil', datetime.date(2011, 10, 12): 'Nossa Senhora Aparecida', datetime.date(2011, 11, 2): 'Finados', datetime.date(2011, 11, 15): 'Proclamação da República', datetime.date(2011, 12, 25): 'Natal'},\n",
       " 'ZA': {datetime.date(2010, 1, 1): \"New Year's Day\", datetime.date(2010, 4, 2): 'Good Friday', datetime.date(2010, 4, 5): 'Family Day', datetime.date(2010, 12, 16): 'Day of Reconciliation', datetime.date(2010, 12, 25): 'Christmas Day', datetime.date(2010, 12, 26): 'Day of Goodwill', datetime.date(2010, 12, 27): 'Day of Goodwill (observed)', datetime.date(2010, 3, 21): 'Human Rights Day', datetime.date(2010, 3, 22): 'Human Rights Day (observed)', datetime.date(2010, 4, 27): 'Freedom Day', datetime.date(2010, 5, 1): \"Workers' Day\", datetime.date(2010, 6, 16): 'Youth Day', datetime.date(2010, 8, 9): \"National Women's Day\", datetime.date(2010, 9, 24): 'Heritage Day', datetime.date(2011, 1, 1): \"New Year's Day\", datetime.date(2011, 4, 22): 'Good Friday', datetime.date(2011, 4, 25): 'Family Day', datetime.date(2011, 12, 16): 'Day of Reconciliation', datetime.date(2011, 12, 25): 'Christmas Day', datetime.date(2011, 12, 26): 'Day of Goodwill', datetime.date(2011, 3, 21): 'Human Rights Day', datetime.date(2011, 4, 27): 'Freedom Day', datetime.date(2011, 5, 1): \"Workers' Day\", datetime.date(2011, 5, 2): \"Workers' Day (observed)\", datetime.date(2011, 6, 16): 'Youth Day', datetime.date(2011, 8, 9): \"National Women's Day\", datetime.date(2011, 9, 24): 'Heritage Day', datetime.date(2011, 5, 18): 'Local government elections', datetime.date(2011, 12, 27): 'Public holiday by presidential decree'},\n",
       " 'CA': {datetime.date(2010, 1, 1): \"New Year's Day\", datetime.date(2010, 4, 2): 'Good Friday', datetime.date(2010, 7, 1): 'Canada Day', datetime.date(2010, 9, 6): 'Labour Day', datetime.date(2010, 12, 25): 'Christmas Day', datetime.date(2010, 12, 27): 'Christmas Day (observed)', datetime.date(2011, 1, 1): \"New Year's Day\", datetime.date(2011, 1, 3): \"New Year's Day (observed)\", datetime.date(2011, 4, 22): 'Good Friday', datetime.date(2011, 7, 1): 'Canada Day', datetime.date(2011, 9, 5): 'Labour Day', datetime.date(2011, 12, 25): 'Christmas Day', datetime.date(2011, 12, 26): 'Christmas Day (observed)'},\n",
       " 'BE': {datetime.date(2010, 1, 1): 'Nieuwjaar', datetime.date(2010, 4, 4): 'Pasen', datetime.date(2010, 4, 5): 'Paasmaandag', datetime.date(2010, 5, 1): 'Dag van de Arbeid', datetime.date(2010, 5, 13): 'O. L. H. Hemelvaart', datetime.date(2010, 5, 23): 'Pinksteren', datetime.date(2010, 5, 24): 'Pinkstermaandag', datetime.date(2010, 7, 21): 'Nationale feestdag', datetime.date(2010, 8, 15): 'O. L. V. Hemelvaart', datetime.date(2010, 11, 1): 'Allerheiligen', datetime.date(2010, 11, 11): 'Wapenstilstand', datetime.date(2010, 12, 25): 'Kerstmis', datetime.date(2011, 1, 1): 'Nieuwjaar', datetime.date(2011, 4, 24): 'Pasen', datetime.date(2011, 4, 25): 'Paasmaandag', datetime.date(2011, 5, 1): 'Dag van de Arbeid', datetime.date(2011, 6, 2): 'O. L. H. Hemelvaart', datetime.date(2011, 6, 12): 'Pinksteren', datetime.date(2011, 6, 13): 'Pinkstermaandag', datetime.date(2011, 7, 21): 'Nationale feestdag', datetime.date(2011, 8, 15): 'O. L. V. Hemelvaart', datetime.date(2011, 11, 1): 'Allerheiligen', datetime.date(2011, 11, 11): 'Wapenstilstand', datetime.date(2011, 12, 25): 'Kerstmis'},\n",
       " 'HK': {datetime.date(2010, 1, 1): 'The first day of January', datetime.date(2010, 2, 13): \"The day preceding Lunar New Year's Day\", datetime.date(2010, 2, 15): 'The second day of Lunar New Year', datetime.date(2010, 2, 16): 'The third day of Lunar New Year', datetime.date(2010, 4, 5): 'Ching Ming Festival', datetime.date(2010, 5, 1): 'Labour Day', datetime.date(2010, 6, 16): 'Tuen Ng Festival', datetime.date(2010, 7, 1): 'Hong Kong Special Administrative Region Establishment Day', datetime.date(2010, 9, 23): 'The day following the Chinese Mid-Autumn Festival', datetime.date(2010, 10, 16): 'Chung Yeung Festival', datetime.date(2010, 10, 1): 'National Day', datetime.date(2010, 12, 25): 'Christmas Day', datetime.date(2011, 1, 1): 'The first day of January', datetime.date(2011, 2, 3): \"Lunar New Year's Day\", datetime.date(2011, 2, 4): 'The second day of Lunar New Year', datetime.date(2011, 2, 5): 'The third day of Lunar New Year', datetime.date(2011, 4, 5): 'Ching Ming Festival', datetime.date(2011, 5, 1): 'Labour Day', datetime.date(2011, 5, 2): 'Labour Day (observed)', datetime.date(2011, 6, 6): 'Tuen Ng Festival', datetime.date(2011, 7, 1): 'Hong Kong Special Administrative Region Establishment Day', datetime.date(2011, 9, 13): 'The day following the Chinese Mid-Autumn Festival', datetime.date(2011, 10, 5): 'Chung Yeung Festival', datetime.date(2011, 10, 1): 'National Day', datetime.date(2011, 12, 25): 'Christmas Day', datetime.date(2011, 12, 26): 'Christmas Day (observed)'},\n",
       " 'PL': {datetime.date(2010, 1, 1): 'Nowy Rok', datetime.date(2010, 4, 4): 'Niedziela Wielkanocna', datetime.date(2010, 4, 5): 'Poniedziałek Wielkanocny', datetime.date(2010, 5, 1): 'Święto Państwowe', datetime.date(2010, 5, 3): 'Święto Narodowe Trzeciego Maja', datetime.date(2010, 5, 23): 'Zielone Świątki', datetime.date(2010, 6, 3): 'Dzień Bożego Ciała', datetime.date(2010, 8, 15): 'Wniebowzięcie Najświętszej Marii Panny', datetime.date(2010, 11, 1): 'Uroczystość Wszystkich Świętych', datetime.date(2010, 11, 11): 'Narodowe Święto Niepodległości', datetime.date(2010, 12, 25): 'Boże Narodzenie (pierwszy dzień)', datetime.date(2010, 12, 26): 'Boże Narodzenie (drugi dzień)', datetime.date(2011, 1, 1): 'Nowy Rok', datetime.date(2011, 1, 6): 'Święto Trzech Króli', datetime.date(2011, 4, 24): 'Niedziela Wielkanocna', datetime.date(2011, 4, 25): 'Poniedziałek Wielkanocny', datetime.date(2011, 5, 1): 'Święto Państwowe', datetime.date(2011, 5, 3): 'Święto Narodowe Trzeciego Maja', datetime.date(2011, 6, 12): 'Zielone Świątki', datetime.date(2011, 6, 23): 'Dzień Bożego Ciała', datetime.date(2011, 8, 15): 'Wniebowzięcie Najświętszej Marii Panny', datetime.date(2011, 11, 1): 'Uroczystość Wszystkich Świętych', datetime.date(2011, 11, 11): 'Narodowe Święto Niepodległości', datetime.date(2011, 12, 25): 'Boże Narodzenie (pierwszy dzień)', datetime.date(2011, 12, 26): 'Boże Narodzenie (drugi dzień)'},\n",
       " 'BH': {datetime.date(2010, 1, 1): 'رأس السنة الميلادية', datetime.date(2010, 5, 1): 'عيد العمال', datetime.date(2010, 9, 10): '(تقدير) عيد الفطر', datetime.date(2010, 9, 11): '(تقدير) عطلة عيد الفطر', datetime.date(2010, 9, 12): '(تقدير) عطلة عيد الفطر', datetime.date(2010, 11, 16): '(تقدير) عيد الأضحى', datetime.date(2010, 11, 17): '(تقدير) عطلة عيد الأضحى', datetime.date(2010, 11, 18): '(تقدير) عطلة عيد الأضحى', datetime.date(2010, 12, 7): '(تقدير) رأس السنة الهجرية', datetime.date(2010, 12, 15): '(تقدير) ليلة عاشورة', datetime.date(2010, 12, 16): '(تقدير) عاشورة; اليوم الوطني', datetime.date(2010, 2, 26): '(تقدير) عيد المولد النبوي', datetime.date(2010, 12, 17): 'اليوم الوطني', datetime.date(2011, 1, 1): 'رأس السنة الميلادية', datetime.date(2011, 5, 1): 'عيد العمال', datetime.date(2011, 8, 30): '(تقدير) عيد الفطر', datetime.date(2011, 8, 31): '(تقدير) عطلة عيد الفطر', datetime.date(2011, 9, 1): '(تقدير) عطلة عيد الفطر', datetime.date(2011, 11, 6): '(تقدير) عيد الأضحى', datetime.date(2011, 11, 7): '(تقدير) عطلة عيد الأضحى', datetime.date(2011, 11, 8): '(تقدير) عطلة عيد الأضحى', datetime.date(2011, 11, 26): '(تقدير) رأس السنة الهجرية', datetime.date(2011, 12, 4): '(تقدير) ليلة عاشورة', datetime.date(2011, 12, 5): '(تقدير) عاشورة', datetime.date(2011, 2, 15): '(تقدير) عيد المولد النبوي', datetime.date(2011, 12, 16): 'اليوم الوطني', datetime.date(2011, 12, 17): 'اليوم الوطني'},\n",
       " 'LT': {datetime.date(2010, 1, 1): 'Naujųjų metų diena', datetime.date(2010, 2, 16): 'Lietuvos valstybės atkūrimo diena', datetime.date(2010, 3, 11): 'Lietuvos nepriklausomybės atkūrimo diena', datetime.date(2010, 4, 4): 'Šv. Velykos', datetime.date(2010, 4, 5): 'Antroji šv. Velykų diena', datetime.date(2010, 5, 1): 'Tarptautinė darbo diena', datetime.date(2010, 5, 2): 'Motinos diena', datetime.date(2010, 6, 6): 'Tėvo diena', datetime.date(2010, 6, 24): 'Rasos ir Joninių diena', datetime.date(2010, 7, 6): 'Valstybės (Lietuvos karaliaus Mindaugo karūnavimo) ir Tautiškos giesmės diena', datetime.date(2010, 8, 15): 'Žolinė (Švč. Mergelės Marijos ėmimo į dangų diena)', datetime.date(2010, 11, 1): 'Visų Šventųjų diena', datetime.date(2010, 12, 24): 'Kūčių diena', datetime.date(2010, 12, 25): 'Šv. Kalėdų pirma diena', datetime.date(2010, 12, 26): 'Šv. Kalėdų antra diena', datetime.date(2011, 1, 1): 'Naujųjų metų diena', datetime.date(2011, 2, 16): 'Lietuvos valstybės atkūrimo diena', datetime.date(2011, 3, 11): 'Lietuvos nepriklausomybės atkūrimo diena', datetime.date(2011, 4, 24): 'Šv. Velykos', datetime.date(2011, 4, 25): 'Antroji šv. Velykų diena', datetime.date(2011, 5, 1): 'Motinos diena; Tarptautinė darbo diena', datetime.date(2011, 6, 5): 'Tėvo diena', datetime.date(2011, 6, 24): 'Rasos ir Joninių diena', datetime.date(2011, 7, 6): 'Valstybės (Lietuvos karaliaus Mindaugo karūnavimo) ir Tautiškos giesmės diena', datetime.date(2011, 8, 15): 'Žolinė (Švč. Mergelės Marijos ėmimo į dangų diena)', datetime.date(2011, 11, 1): 'Visų Šventųjų diena', datetime.date(2011, 12, 24): 'Kūčių diena', datetime.date(2011, 12, 25): 'Šv. Kalėdų pirma diena', datetime.date(2011, 12, 26): 'Šv. Kalėdų antra diena'},\n",
       " 'AT': {datetime.date(2010, 1, 1): 'Neujahr', datetime.date(2010, 1, 6): 'Heilige Drei Könige', datetime.date(2010, 4, 5): 'Ostermontag', datetime.date(2010, 5, 1): 'Staatsfeiertag', datetime.date(2010, 5, 13): 'Christi Himmelfahrt', datetime.date(2010, 5, 24): 'Pfingstmontag', datetime.date(2010, 6, 3): 'Fronleichnam', datetime.date(2010, 8, 15): 'Mariä Himmelfahrt', datetime.date(2010, 10, 26): 'Nationalfeiertag', datetime.date(2010, 11, 1): 'Allerheiligen', datetime.date(2010, 12, 8): 'Mariä Empfängnis', datetime.date(2010, 12, 25): 'Christtag', datetime.date(2010, 12, 26): 'Stefanitag', datetime.date(2011, 1, 1): 'Neujahr', datetime.date(2011, 1, 6): 'Heilige Drei Könige', datetime.date(2011, 4, 25): 'Ostermontag', datetime.date(2011, 5, 1): 'Staatsfeiertag', datetime.date(2011, 6, 2): 'Christi Himmelfahrt', datetime.date(2011, 6, 13): 'Pfingstmontag', datetime.date(2011, 6, 23): 'Fronleichnam', datetime.date(2011, 8, 15): 'Mariä Himmelfahrt', datetime.date(2011, 10, 26): 'Nationalfeiertag', datetime.date(2011, 11, 1): 'Allerheiligen', datetime.date(2011, 12, 8): 'Mariä Empfängnis', datetime.date(2011, 12, 25): 'Christtag', datetime.date(2011, 12, 26): 'Stefanitag'},\n",
       " 'ES': {datetime.date(2010, 1, 1): 'Año nuevo', datetime.date(2010, 1, 6): 'Epifanía del Señor', datetime.date(2010, 4, 2): 'Viernes Santo', datetime.date(2010, 5, 1): 'Fiesta del Trabajo', datetime.date(2010, 10, 12): 'Fiesta Nacional de España', datetime.date(2010, 11, 1): 'Todos los Santos', datetime.date(2010, 12, 6): 'Día de la Constitución Española', datetime.date(2010, 12, 8): 'Inmaculada Concepción', datetime.date(2010, 12, 25): 'Natividad del Señor', datetime.date(2011, 1, 1): 'Año nuevo', datetime.date(2011, 1, 6): 'Epifanía del Señor', datetime.date(2011, 4, 22): 'Viernes Santo', datetime.date(2011, 8, 15): 'Asunción de la Virgen', datetime.date(2011, 10, 12): 'Fiesta Nacional de España', datetime.date(2011, 11, 1): 'Todos los Santos', datetime.date(2011, 12, 6): 'Día de la Constitución Española', datetime.date(2011, 12, 8): 'Inmaculada Concepción'},\n",
       " 'IL': {datetime.date(2010, 9, 9): 'ראש השנה', datetime.date(2010, 9, 10): 'ראש השנה', datetime.date(2010, 9, 18): 'יום כיפור', datetime.date(2010, 9, 23): 'סוכות', datetime.date(2010, 9, 30): 'שמחת תורה/שמיני עצרת', datetime.date(2010, 3, 30): 'פסח', datetime.date(2010, 4, 5): 'שביעי של פסח', datetime.date(2010, 4, 20): '(נצפה) יום העצמאות', datetime.date(2010, 5, 19): 'שבועות', datetime.date(2011, 9, 29): 'ראש השנה', datetime.date(2011, 9, 30): 'ראש השנה', datetime.date(2011, 10, 8): 'יום כיפור', datetime.date(2011, 10, 13): 'סוכות', datetime.date(2011, 10, 20): 'שמחת תורה/שמיני עצרת', datetime.date(2011, 4, 19): 'פסח', datetime.date(2011, 4, 25): 'שביעי של פסח', datetime.date(2011, 5, 10): '(נצפה) יום העצמאות', datetime.date(2011, 6, 8): 'שבועות'},\n",
       " 'AE': {datetime.date(2010, 1, 1): 'رأس السنة الميلادية', datetime.date(2010, 12, 2): 'اليوم الوطني', datetime.date(2010, 12, 3): 'اليوم الوطني', datetime.date(2010, 9, 10): '(تقدير) عيد الفطر', datetime.date(2010, 9, 11): '(تقدير) عطلة عيد الفطر', datetime.date(2010, 9, 12): '(تقدير) عطلة عيد الفطر', datetime.date(2010, 11, 15): '(تقدير) وقفة عرفة', datetime.date(2010, 11, 16): '(تقدير) عيد الأضحى', datetime.date(2010, 11, 17): '(تقدير) عطلة عيد الأضحى', datetime.date(2010, 11, 18): '(تقدير) عطلة عيد الأضحى', datetime.date(2010, 12, 7): '(تقدير) رأس السنة الهجرية', datetime.date(2010, 7, 9): '(تقدير) ليلة المعراج', datetime.date(2010, 2, 26): '(تقدير) عيد المولد النبوي', datetime.date(2011, 1, 1): 'رأس السنة الميلادية', datetime.date(2011, 12, 2): 'اليوم الوطني', datetime.date(2011, 12, 3): 'اليوم الوطني', datetime.date(2011, 8, 30): '(تقدير) عيد الفطر', datetime.date(2011, 8, 31): '(تقدير) عطلة عيد الفطر', datetime.date(2011, 9, 1): '(تقدير) عطلة عيد الفطر', datetime.date(2011, 11, 5): '(تقدير) وقفة عرفة', datetime.date(2011, 11, 6): '(تقدير) عيد الأضحى', datetime.date(2011, 11, 7): '(تقدير) عطلة عيد الأضحى', datetime.date(2011, 11, 8): '(تقدير) عطلة عيد الأضحى', datetime.date(2011, 11, 26): '(تقدير) رأس السنة الهجرية', datetime.date(2011, 6, 29): '(تقدير) ليلة المعراج', datetime.date(2011, 2, 15): '(تقدير) عيد المولد النبوي'},\n",
       " 'FI': {datetime.date(2010, 1, 1): 'Uudenvuodenpäivä', datetime.date(2010, 1, 6): 'Loppiainen', datetime.date(2010, 4, 2): 'Pitkäperjantai', datetime.date(2010, 4, 4): 'Pääsiäispäivä', datetime.date(2010, 4, 5): 'Toinen pääsiäispäivä', datetime.date(2010, 5, 1): 'Vappu', datetime.date(2010, 5, 13): 'Helatorstai', datetime.date(2010, 5, 23): 'Helluntaipäivä', datetime.date(2010, 6, 25): 'Juhannusaatto', datetime.date(2010, 6, 26): 'Juhannuspäivä', datetime.date(2010, 11, 6): 'Pyhäinpäivä', datetime.date(2010, 12, 6): 'Itsenäisyyspäivä', datetime.date(2010, 12, 24): 'Jouluaatto', datetime.date(2010, 12, 25): 'Joulupäivä', datetime.date(2010, 12, 26): 'Tapaninpäivä', datetime.date(2011, 1, 1): 'Uudenvuodenpäivä', datetime.date(2011, 1, 6): 'Loppiainen', datetime.date(2011, 4, 22): 'Pitkäperjantai', datetime.date(2011, 4, 24): 'Pääsiäispäivä', datetime.date(2011, 4, 25): 'Toinen pääsiäispäivä', datetime.date(2011, 5, 1): 'Vappu', datetime.date(2011, 6, 2): 'Helatorstai', datetime.date(2011, 6, 12): 'Helluntaipäivä', datetime.date(2011, 6, 24): 'Juhannusaatto', datetime.date(2011, 6, 25): 'Juhannuspäivä', datetime.date(2011, 11, 5): 'Pyhäinpäivä', datetime.date(2011, 12, 6): 'Itsenäisyyspäivä', datetime.date(2011, 12, 24): 'Jouluaatto', datetime.date(2011, 12, 25): 'Joulupäivä', datetime.date(2011, 12, 26): 'Tapaninpäivä'},\n",
       " 'JP': {datetime.date(2010, 1, 1): '元日', datetime.date(2010, 1, 11): '成人の日', datetime.date(2010, 2, 11): '建国記念の日', datetime.date(2010, 3, 21): '春分の日', datetime.date(2010, 4, 29): '昭和の日', datetime.date(2010, 5, 3): '憲法記念日', datetime.date(2010, 5, 4): 'みどりの日', datetime.date(2010, 5, 5): 'こどもの日', datetime.date(2010, 7, 19): '海の日', datetime.date(2010, 9, 20): '敬老の日', datetime.date(2010, 9, 23): '秋分の日', datetime.date(2010, 10, 11): '体育の日', datetime.date(2010, 11, 3): '文化の日', datetime.date(2010, 11, 23): '勤労感謝の日', datetime.date(2010, 12, 23): '天皇誕生日', datetime.date(2010, 3, 22): '振替休日', datetime.date(2011, 1, 1): '元日', datetime.date(2011, 1, 10): '成人の日', datetime.date(2011, 2, 11): '建国記念の日', datetime.date(2011, 3, 21): '春分の日', datetime.date(2011, 4, 29): '昭和の日', datetime.date(2011, 5, 3): '憲法記念日', datetime.date(2011, 5, 4): 'みどりの日', datetime.date(2011, 5, 5): 'こどもの日', datetime.date(2011, 7, 18): '海の日', datetime.date(2011, 9, 19): '敬老の日', datetime.date(2011, 9, 23): '秋分の日', datetime.date(2011, 10, 10): '体育の日', datetime.date(2011, 11, 3): '文化の日', datetime.date(2011, 11, 23): '勤労感謝の日', datetime.date(2011, 12, 23): '天皇誕生日'},\n",
       " 'NO': {datetime.date(2010, 1, 1): 'Første nyttårsdag', datetime.date(2010, 4, 1): 'Skjærtorsdag', datetime.date(2010, 4, 2): 'Langfredag', datetime.date(2010, 4, 4): 'Første påskedag', datetime.date(2010, 4, 5): 'Andre påskedag', datetime.date(2010, 5, 1): 'Arbeidernes dag', datetime.date(2010, 5, 17): 'Grunnlovsdag', datetime.date(2010, 5, 13): 'Kristi himmelfartsdag', datetime.date(2010, 5, 23): 'Første pinsedag', datetime.date(2010, 5, 24): 'Andre pinsedag', datetime.date(2010, 12, 25): 'Første juledag', datetime.date(2010, 12, 26): 'Andre juledag', datetime.date(2011, 1, 1): 'Første nyttårsdag', datetime.date(2011, 4, 21): 'Skjærtorsdag', datetime.date(2011, 4, 22): 'Langfredag', datetime.date(2011, 4, 24): 'Første påskedag', datetime.date(2011, 4, 25): 'Andre påskedag', datetime.date(2011, 5, 1): 'Arbeidernes dag', datetime.date(2011, 5, 17): 'Grunnlovsdag', datetime.date(2011, 6, 2): 'Kristi himmelfartsdag', datetime.date(2011, 6, 12): 'Første pinsedag', datetime.date(2011, 6, 13): 'Andre pinsedag', datetime.date(2011, 12, 25): 'Første juledag', datetime.date(2011, 12, 26): 'Andre juledag'},\n",
       " 'CH': {datetime.date(2010, 1, 1): 'Neujahrstag', datetime.date(2010, 5, 13): 'Auffahrt', datetime.date(2010, 8, 1): 'Nationalfeiertag', datetime.date(2010, 12, 25): 'Weihnachten', datetime.date(2011, 1, 1): 'Neujahrstag', datetime.date(2011, 6, 2): 'Auffahrt', datetime.date(2011, 8, 1): 'Nationalfeiertag', datetime.date(2011, 12, 25): 'Weihnachten'},\n",
       " 'NL': {datetime.date(2010, 1, 1): 'Nieuwjaarsdag', datetime.date(2010, 4, 4): 'Eerste paasdag', datetime.date(2010, 4, 5): 'Tweede paasdag', datetime.date(2010, 4, 30): 'Koninginnedag', datetime.date(2010, 5, 5): 'Bevrijdingsdag', datetime.date(2010, 5, 13): 'Hemelvaartsdag', datetime.date(2010, 5, 23): 'Eerste Pinksterdag', datetime.date(2010, 5, 24): 'Tweede Pinksterdag', datetime.date(2010, 12, 25): 'Eerste Kerstdag', datetime.date(2010, 12, 26): 'Tweede Kerstdag', datetime.date(2011, 1, 1): 'Nieuwjaarsdag', datetime.date(2011, 4, 24): 'Eerste paasdag', datetime.date(2011, 4, 25): 'Tweede paasdag', datetime.date(2011, 4, 30): 'Koninginnedag', datetime.date(2011, 6, 2): 'Hemelvaartsdag', datetime.date(2011, 6, 12): 'Eerste Pinksterdag', datetime.date(2011, 6, 13): 'Tweede Pinksterdag', datetime.date(2011, 12, 25): 'Eerste Kerstdag', datetime.date(2011, 12, 26): 'Tweede Kerstdag'},\n",
       " 'IS': {datetime.date(2010, 1, 1): 'Nýársdagur', datetime.date(2010, 4, 1): 'Skírdagur', datetime.date(2010, 4, 2): 'Föstudagurinn langi', datetime.date(2010, 4, 4): 'Páskadagur', datetime.date(2010, 4, 5): 'Annar í páskum', datetime.date(2010, 4, 22): 'Sumardagurinn fyrsti', datetime.date(2010, 5, 1): 'Verkalýðsdagurinn', datetime.date(2010, 5, 13): 'Uppstigningardagur', datetime.date(2010, 5, 23): 'Hvítasunnudagur', datetime.date(2010, 5, 24): 'Annar í hvítasunnu', datetime.date(2010, 6, 17): 'Þjóðhátíðardagurinn', datetime.date(2010, 8, 2): 'Frídagur verslunarmanna', datetime.date(2010, 12, 25): 'Jóladagur', datetime.date(2010, 12, 26): 'Annar í jólum', datetime.date(2011, 1, 1): 'Nýársdagur', datetime.date(2011, 4, 21): 'Skírdagur; Sumardagurinn fyrsti', datetime.date(2011, 4, 22): 'Föstudagurinn langi', datetime.date(2011, 4, 24): 'Páskadagur', datetime.date(2011, 4, 25): 'Annar í páskum', datetime.date(2011, 5, 1): 'Verkalýðsdagurinn', datetime.date(2011, 6, 2): 'Uppstigningardagur', datetime.date(2011, 6, 12): 'Hvítasunnudagur', datetime.date(2011, 6, 13): 'Annar í hvítasunnu', datetime.date(2011, 6, 17): 'Þjóðhátíðardagurinn', datetime.date(2011, 8, 1): 'Frídagur verslunarmanna', datetime.date(2011, 12, 25): 'Jóladagur', datetime.date(2011, 12, 26): 'Annar í jólum'},\n",
       " 'FR': {datetime.date(2010, 1, 1): \"Jour de l'an\", datetime.date(2010, 5, 1): 'Fête du Travail', datetime.date(2010, 5, 8): 'Fête de la Victoire', datetime.date(2010, 7, 14): 'Fête nationale', datetime.date(2010, 11, 11): 'Armistice', datetime.date(2010, 4, 5): 'Lundi de Pâques', datetime.date(2010, 5, 24): 'Lundi de Pentecôte', datetime.date(2010, 5, 13): 'Ascension', datetime.date(2010, 8, 15): 'Assomption', datetime.date(2010, 11, 1): 'Toussaint', datetime.date(2010, 12, 25): 'Noël', datetime.date(2011, 1, 1): \"Jour de l'an\", datetime.date(2011, 5, 1): 'Fête du Travail', datetime.date(2011, 5, 8): 'Fête de la Victoire', datetime.date(2011, 7, 14): 'Fête nationale', datetime.date(2011, 11, 11): 'Armistice', datetime.date(2011, 4, 25): 'Lundi de Pâques', datetime.date(2011, 6, 13): 'Lundi de Pentecôte', datetime.date(2011, 6, 2): 'Ascension', datetime.date(2011, 8, 15): 'Assomption', datetime.date(2011, 11, 1): 'Toussaint', datetime.date(2011, 12, 25): 'Noël'},\n",
       " 'US': {datetime.date(2010, 1, 1): \"New Year's Day\", datetime.date(2010, 12, 31): \"New Year's Day (observed)\", datetime.date(2010, 5, 31): 'Memorial Day', datetime.date(2010, 7, 4): 'Independence Day', datetime.date(2010, 7, 5): 'Independence Day (observed)', datetime.date(2010, 9, 6): 'Labor Day', datetime.date(2010, 11, 11): 'Veterans Day', datetime.date(2010, 11, 25): 'Thanksgiving', datetime.date(2010, 12, 25): 'Christmas Day', datetime.date(2010, 12, 24): 'Christmas Day (observed)', datetime.date(2010, 1, 18): 'Martin Luther King Jr. Day', datetime.date(2010, 2, 15): \"Washington's Birthday\", datetime.date(2010, 10, 11): 'Columbus Day', datetime.date(2011, 1, 1): \"New Year's Day\", datetime.date(2011, 5, 30): 'Memorial Day', datetime.date(2011, 7, 4): 'Independence Day', datetime.date(2011, 9, 5): 'Labor Day', datetime.date(2011, 11, 11): 'Veterans Day', datetime.date(2011, 11, 24): 'Thanksgiving', datetime.date(2011, 12, 25): 'Christmas Day', datetime.date(2011, 12, 26): 'Christmas Day (observed)', datetime.date(2011, 1, 17): 'Martin Luther King Jr. Day', datetime.date(2011, 2, 21): \"Washington's Birthday\", datetime.date(2011, 10, 10): 'Columbus Day'},\n",
       " 'PT': {datetime.date(2010, 1, 1): 'Ano Novo', datetime.date(2010, 4, 2): 'Sexta-feira Santa', datetime.date(2010, 4, 4): 'Páscoa', datetime.date(2010, 6, 3): 'Corpo de Deus', datetime.date(2010, 10, 5): 'Implantação da República', datetime.date(2010, 11, 1): 'Dia de Todos os Santos', datetime.date(2010, 12, 1): 'Restauração da Independência', datetime.date(2010, 4, 25): 'Dia da Liberdade', datetime.date(2010, 5, 1): 'Dia do Trabalhador', datetime.date(2010, 6, 10): 'Dia de Portugal, de Camões e das Comunidades Portuguesas', datetime.date(2010, 8, 15): 'Assunção de Nossa Senhora', datetime.date(2010, 12, 8): 'Imaculada Conceição', datetime.date(2010, 12, 25): 'Dia de Natal', datetime.date(2011, 1, 1): 'Ano Novo', datetime.date(2011, 4, 22): 'Sexta-feira Santa', datetime.date(2011, 4, 24): 'Páscoa', datetime.date(2011, 6, 23): 'Corpo de Deus', datetime.date(2011, 10, 5): 'Implantação da República', datetime.date(2011, 11, 1): 'Dia de Todos os Santos', datetime.date(2011, 12, 1): 'Restauração da Independência', datetime.date(2011, 4, 25): 'Dia da Liberdade', datetime.date(2011, 5, 1): 'Dia do Trabalhador', datetime.date(2011, 6, 10): 'Dia de Portugal, de Camões e das Comunidades Portuguesas', datetime.date(2011, 8, 15): 'Assunção de Nossa Senhora', datetime.date(2011, 12, 8): 'Imaculada Conceição', datetime.date(2011, 12, 25): 'Dia de Natal'},\n",
       " 'SA': {datetime.date(2010, 9, 10): '(تقدير) عطلة عيد الفطر', datetime.date(2010, 9, 11): '(تقدير) عطلة عيد الفطر', datetime.date(2010, 9, 12): '(تقدير) عطلة عيد الفطر', datetime.date(2010, 9, 13): '(تقدير) عطلة عيد الفطر', datetime.date(2010, 9, 14): '(تقدير ملاحظة) عطلة عيد الفطر', datetime.date(2010, 11, 15): '(تقدير) يوم عرفة', datetime.date(2010, 11, 16): '(تقدير) عطلة عيد الأضحى', datetime.date(2010, 11, 17): '(تقدير) عطلة عيد الأضحى', datetime.date(2010, 11, 18): '(تقدير) عطلة عيد الأضحى', datetime.date(2010, 11, 20): '(تقدير ملاحظة) عطلة عيد الأضحى', datetime.date(2010, 9, 23): 'اليوم الوطني', datetime.date(2010, 9, 22): '(ملاحظة) اليوم الوطني', datetime.date(2011, 8, 30): '(تقدير) عطلة عيد الفطر', datetime.date(2011, 8, 31): '(تقدير) عطلة عيد الفطر', datetime.date(2011, 9, 1): '(تقدير) عطلة عيد الفطر', datetime.date(2011, 9, 2): '(تقدير) عطلة عيد الفطر', datetime.date(2011, 9, 3): '(تقدير ملاحظة) عطلة عيد الفطر', datetime.date(2011, 9, 4): '(تقدير ملاحظة) عطلة عيد الفطر', datetime.date(2011, 11, 5): '(تقدير) يوم عرفة', datetime.date(2011, 11, 6): '(تقدير) عطلة عيد الأضحى', datetime.date(2011, 11, 7): '(تقدير) عطلة عيد الأضحى', datetime.date(2011, 11, 8): '(تقدير) عطلة عيد الأضحى', datetime.date(2011, 9, 23): 'اليوم الوطني', datetime.date(2011, 9, 24): '(ملاحظة) اليوم الوطني'},\n",
       " 'IE': {datetime.date(2010, 1, 1): \"New Year's Day\", datetime.date(2010, 3, 17): \"Saint Patrick's Day\", datetime.date(2010, 4, 5): 'Easter Monday', datetime.date(2010, 5, 3): 'May Day', datetime.date(2010, 6, 7): 'June Bank Holiday', datetime.date(2010, 8, 2): 'August Bank Holiday', datetime.date(2010, 10, 25): 'October Bank Holiday', datetime.date(2010, 12, 25): 'Christmas Day', datetime.date(2010, 12, 26): \"Saint Stephen's Day\", datetime.date(2011, 1, 1): \"New Year's Day\", datetime.date(2011, 3, 17): \"Saint Patrick's Day\", datetime.date(2011, 4, 25): 'Easter Monday', datetime.date(2011, 5, 2): 'May Day', datetime.date(2011, 6, 6): 'June Bank Holiday', datetime.date(2011, 8, 1): 'August Bank Holiday', datetime.date(2011, 10, 31): 'October Bank Holiday', datetime.date(2011, 12, 25): 'Christmas Day', datetime.date(2011, 12, 26): \"Saint Stephen's Day\", datetime.date(2011, 9, 14): 'National Day of Mourning'},\n",
       " 'GB': {datetime.date(2010, 4, 2): 'Good Friday', datetime.date(2010, 5, 3): 'May Day', datetime.date(2010, 5, 31): 'Spring Bank Holiday', datetime.date(2010, 1, 1): \"New Year's Day\", datetime.date(2010, 12, 25): 'Christmas Day', datetime.date(2010, 12, 27): 'Christmas Day (observed)', datetime.date(2010, 12, 26): 'Boxing Day', datetime.date(2010, 12, 28): 'Boxing Day (observed)', datetime.date(2011, 4, 22): 'Good Friday', datetime.date(2011, 5, 2): 'May Day', datetime.date(2011, 5, 30): 'Spring Bank Holiday', datetime.date(2011, 4, 29): 'Wedding of William and Catherine', datetime.date(2011, 1, 1): \"New Year's Day\", datetime.date(2011, 1, 3): \"New Year's Day (observed)\", datetime.date(2011, 12, 25): 'Christmas Day', datetime.date(2011, 12, 27): 'Christmas Day (observed)', datetime.date(2011, 12, 26): 'Boxing Day'},\n",
       " 'DK': {datetime.date(2010, 1, 1): 'Nytårsdag', datetime.date(2010, 4, 1): 'Skærtorsdag', datetime.date(2010, 4, 2): 'Langfredag', datetime.date(2010, 4, 4): 'Påskedag', datetime.date(2010, 4, 5): 'Anden påskedag', datetime.date(2010, 4, 30): 'Store bededag', datetime.date(2010, 5, 13): 'Kristi himmelfartsdag', datetime.date(2010, 5, 23): 'Pinsedag', datetime.date(2010, 5, 24): 'Anden pinsedag', datetime.date(2010, 12, 25): 'Juledag', datetime.date(2010, 12, 26): 'Anden juledag', datetime.date(2011, 1, 1): 'Nytårsdag', datetime.date(2011, 4, 21): 'Skærtorsdag', datetime.date(2011, 4, 22): 'Langfredag', datetime.date(2011, 4, 24): 'Påskedag', datetime.date(2011, 4, 25): 'Anden påskedag', datetime.date(2011, 5, 20): 'Store bededag', datetime.date(2011, 6, 2): 'Kristi himmelfartsdag', datetime.date(2011, 6, 12): 'Pinsedag', datetime.date(2011, 6, 13): 'Anden pinsedag', datetime.date(2011, 12, 25): 'Juledag', datetime.date(2011, 12, 26): 'Anden juledag'},\n",
       " 'IT': {datetime.date(2010, 1, 1): 'Capodanno', datetime.date(2010, 1, 6): 'Epifania del Signore', datetime.date(2010, 4, 4): 'Pasqua di Resurrezione', datetime.date(2010, 4, 5): \"Lunedì dell'Angelo\", datetime.date(2010, 4, 25): 'Festa della Liberazione', datetime.date(2010, 5, 1): 'Festa dei Lavoratori', datetime.date(2010, 6, 2): 'Festa della Repubblica', datetime.date(2010, 8, 15): 'Assunzione della Vergine', datetime.date(2010, 11, 1): 'Tutti i Santi', datetime.date(2010, 12, 8): 'Immacolata Concezione', datetime.date(2010, 12, 25): 'Natale', datetime.date(2010, 12, 26): 'Santo Stefano', datetime.date(2011, 1, 1): 'Capodanno', datetime.date(2011, 1, 6): 'Epifania del Signore', datetime.date(2011, 4, 24): 'Pasqua di Resurrezione', datetime.date(2011, 4, 25): \"Festa della Liberazione; Lunedì dell'Angelo\", datetime.date(2011, 5, 1): 'Festa dei Lavoratori', datetime.date(2011, 6, 2): 'Festa della Repubblica', datetime.date(2011, 8, 15): 'Assunzione della Vergine', datetime.date(2011, 11, 1): 'Tutti i Santi', datetime.date(2011, 12, 8): 'Immacolata Concezione', datetime.date(2011, 12, 25): 'Natale', datetime.date(2011, 12, 26): 'Santo Stefano', datetime.date(2011, 3, 17): \"Anniversario dell'Unità d'Italia\"},\n",
       " 'SG': {datetime.date(2010, 1, 1): \"New Year's Day\", datetime.date(2010, 2, 14): 'Chinese New Year', datetime.date(2010, 2, 15): 'Chinese New Year', datetime.date(2010, 9, 10): 'Hari Raya Puasa', datetime.date(2010, 11, 17): 'Hari Raya Haji', datetime.date(2010, 4, 2): 'Good Friday', datetime.date(2010, 5, 1): 'Labour Day', datetime.date(2010, 5, 28): 'Vesak Day', datetime.date(2010, 8, 9): 'National Day', datetime.date(2010, 11, 5): 'Deepavali', datetime.date(2010, 12, 25): 'Christmas Day', datetime.date(2010, 2, 16): 'Chinese New Year (observed)', datetime.date(2011, 1, 1): \"New Year's Day\", datetime.date(2011, 2, 3): 'Chinese New Year', datetime.date(2011, 2, 4): 'Chinese New Year', datetime.date(2011, 8, 30): 'Hari Raya Puasa', datetime.date(2011, 11, 6): 'Hari Raya Haji', datetime.date(2011, 4, 22): 'Good Friday', datetime.date(2011, 5, 1): 'Labour Day', datetime.date(2011, 5, 17): 'Vesak Day', datetime.date(2011, 8, 9): 'National Day', datetime.date(2011, 10, 26): 'Deepavali', datetime.date(2011, 12, 25): 'Christmas Day', datetime.date(2011, 5, 2): 'Labour Day (observed)', datetime.date(2011, 11, 7): 'Hari Raya Haji (observed)', datetime.date(2011, 12, 26): 'Christmas Day (observed)', datetime.date(2011, 5, 7): 'Polling Day'}}"
      ]
     },
     "execution_count": 67,
     "metadata": {},
     "output_type": "execute_result"
    }
   ],
   "source": [
    "import holidays\n",
    "\n",
    "years = df[\"InvoiceDate\"].dt.year().unique().to_list()\n",
    "\n",
    "\n",
    "holidays_dict = {}\n",
    "for country in df[\"Country\"].unique().to_list():\n",
    "        try:\n",
    "            holidays_dict[country] = holidays.country_holidays(country, years=years)\n",
    "        except:\n",
    "            print(f\"{country} not found in holidays database\")\n",
    "\n",
    "\n",
    "holidays_dict\n"
   ]
  },
  {
   "cell_type": "markdown",
   "metadata": {},
   "source": [
    "Casii parece ser que tenemos un problema con el libano, no encontramos sus dias festivos, vamos a medir cuanto impacto tendria en el futuro entrenamiento no tener las vacaciones del libano.\n",
    "para ello comprobamos cuantas filas hay con el libano."
   ]
  },
  {
   "cell_type": "code",
   "execution_count": 68,
   "metadata": {},
   "outputs": [
    {
     "data": {
      "text/html": [
       "<div><style>\n",
       ".dataframe > thead > tr,\n",
       ".dataframe > tbody > tr {\n",
       "  text-align: right;\n",
       "  white-space: pre-wrap;\n",
       "}\n",
       "</style>\n",
       "<small>shape: (33, 6)</small><table border=\"1\" class=\"dataframe\"><thead><tr><th>Quantity</th><th>InvoiceDate</th><th>UnitPrice</th><th>Country</th><th>TotalSales</th><th>weekday</th></tr><tr><td>i64</td><td>date</td><td>f64</td><td>str</td><td>f64</td><td>i8</td></tr></thead><tbody><tr><td>8</td><td>2011-01-27</td><td>3.95</td><td>&quot;LB&quot;</td><td>31.6</td><td>4</td></tr><tr><td>2</td><td>2011-01-27</td><td>6.35</td><td>&quot;LB&quot;</td><td>12.7</td><td>4</td></tr><tr><td>12</td><td>2011-01-27</td><td>3.95</td><td>&quot;LB&quot;</td><td>47.4</td><td>4</td></tr><tr><td>12</td><td>2011-01-27</td><td>1.45</td><td>&quot;LB&quot;</td><td>17.4</td><td>4</td></tr><tr><td>12</td><td>2011-01-27</td><td>6.75</td><td>&quot;LB&quot;</td><td>81.0</td><td>4</td></tr><tr><td>&hellip;</td><td>&hellip;</td><td>&hellip;</td><td>&hellip;</td><td>&hellip;</td><td>&hellip;</td></tr><tr><td>6</td><td>2011-01-27</td><td>2.55</td><td>&quot;LB&quot;</td><td>15.3</td><td>4</td></tr><tr><td>12</td><td>2011-01-27</td><td>1.25</td><td>&quot;LB&quot;</td><td>15.0</td><td>4</td></tr><tr><td>6</td><td>2011-01-27</td><td>2.55</td><td>&quot;LB&quot;</td><td>15.3</td><td>4</td></tr><tr><td>10</td><td>2011-01-27</td><td>1.65</td><td>&quot;LB&quot;</td><td>16.5</td><td>4</td></tr><tr><td>6</td><td>2011-01-27</td><td>3.75</td><td>&quot;LB&quot;</td><td>22.5</td><td>4</td></tr></tbody></table></div>"
      ],
      "text/plain": [
       "shape: (33, 6)\n",
       "┌──────────┬─────────────┬───────────┬─────────┬────────────┬─────────┐\n",
       "│ Quantity ┆ InvoiceDate ┆ UnitPrice ┆ Country ┆ TotalSales ┆ weekday │\n",
       "│ ---      ┆ ---         ┆ ---       ┆ ---     ┆ ---        ┆ ---     │\n",
       "│ i64      ┆ date        ┆ f64       ┆ str     ┆ f64        ┆ i8      │\n",
       "╞══════════╪═════════════╪═══════════╪═════════╪════════════╪═════════╡\n",
       "│ 8        ┆ 2011-01-27  ┆ 3.95      ┆ LB      ┆ 31.6       ┆ 4       │\n",
       "│ 2        ┆ 2011-01-27  ┆ 6.35      ┆ LB      ┆ 12.7       ┆ 4       │\n",
       "│ 12       ┆ 2011-01-27  ┆ 3.95      ┆ LB      ┆ 47.4       ┆ 4       │\n",
       "│ 12       ┆ 2011-01-27  ┆ 1.45      ┆ LB      ┆ 17.4       ┆ 4       │\n",
       "│ 12       ┆ 2011-01-27  ┆ 6.75      ┆ LB      ┆ 81.0       ┆ 4       │\n",
       "│ …        ┆ …           ┆ …         ┆ …       ┆ …          ┆ …       │\n",
       "│ 6        ┆ 2011-01-27  ┆ 2.55      ┆ LB      ┆ 15.3       ┆ 4       │\n",
       "│ 12       ┆ 2011-01-27  ┆ 1.25      ┆ LB      ┆ 15.0       ┆ 4       │\n",
       "│ 6        ┆ 2011-01-27  ┆ 2.55      ┆ LB      ┆ 15.3       ┆ 4       │\n",
       "│ 10       ┆ 2011-01-27  ┆ 1.65      ┆ LB      ┆ 16.5       ┆ 4       │\n",
       "│ 6        ┆ 2011-01-27  ┆ 3.75      ┆ LB      ┆ 22.5       ┆ 4       │\n",
       "└──────────┴─────────────┴───────────┴─────────┴────────────┴─────────┘"
      ]
     },
     "execution_count": 68,
     "metadata": {},
     "output_type": "execute_result"
    }
   ],
   "source": [
    "df.filter(df[\"Country\"] == \"LB\")"
   ]
  },
  {
   "cell_type": "markdown",
   "metadata": {},
   "source": [
    "viendo que solo hay 33 lo mejor seria ignorar los festivos del Libano puesto que el impacto del modelo sera minimo o nulo\n",
    "Todo arreglado! aniadimos una columna extra al dataset que indique si es o no festivo ese dia. "
   ]
  },
  {
   "cell_type": "code",
   "execution_count": 69,
   "metadata": {},
   "outputs": [
    {
     "data": {
      "text/html": [
       "<div><style>\n",
       ".dataframe > thead > tr,\n",
       ".dataframe > tbody > tr {\n",
       "  text-align: right;\n",
       "  white-space: pre-wrap;\n",
       "}\n",
       "</style>\n",
       "<small>shape: (442_222, 7)</small><table border=\"1\" class=\"dataframe\"><thead><tr><th>Quantity</th><th>InvoiceDate</th><th>UnitPrice</th><th>Country</th><th>TotalSales</th><th>weekday</th><th>is_holiday</th></tr><tr><td>i64</td><td>date</td><td>f64</td><td>str</td><td>f64</td><td>i8</td><td>i64</td></tr></thead><tbody><tr><td>1</td><td>2011-03-27</td><td>0.55</td><td>&quot;GB&quot;</td><td>0.55</td><td>7</td><td>0</td></tr><tr><td>3</td><td>2011-05-22</td><td>4.15</td><td>&quot;GB&quot;</td><td>12.45</td><td>7</td><td>0</td></tr><tr><td>12</td><td>2011-09-06</td><td>0.42</td><td>&quot;GB&quot;</td><td>5.04</td><td>2</td><td>0</td></tr><tr><td>1</td><td>2011-10-13</td><td>4.13</td><td>&quot;GB&quot;</td><td>4.13</td><td>4</td><td>0</td></tr><tr><td>24</td><td>2011-09-15</td><td>1.95</td><td>&quot;FR&quot;</td><td>46.8</td><td>4</td><td>0</td></tr><tr><td>&hellip;</td><td>&hellip;</td><td>&hellip;</td><td>&hellip;</td><td>&hellip;</td><td>&hellip;</td><td>&hellip;</td></tr><tr><td>24</td><td>2011-03-06</td><td>0.85</td><td>&quot;GB&quot;</td><td>20.4</td><td>7</td><td>0</td></tr><tr><td>1</td><td>2011-12-08</td><td>1.65</td><td>&quot;GB&quot;</td><td>1.65</td><td>4</td><td>0</td></tr><tr><td>1</td><td>2011-06-08</td><td>4.15</td><td>&quot;GB&quot;</td><td>4.15</td><td>3</td><td>0</td></tr><tr><td>5</td><td>2011-06-29</td><td>1.63</td><td>&quot;GB&quot;</td><td>8.15</td><td>3</td><td>0</td></tr><tr><td>1</td><td>2011-08-01</td><td>4.13</td><td>&quot;GB&quot;</td><td>4.13</td><td>1</td><td>0</td></tr></tbody></table></div>"
      ],
      "text/plain": [
       "shape: (442_222, 7)\n",
       "┌──────────┬─────────────┬───────────┬─────────┬────────────┬─────────┬────────────┐\n",
       "│ Quantity ┆ InvoiceDate ┆ UnitPrice ┆ Country ┆ TotalSales ┆ weekday ┆ is_holiday │\n",
       "│ ---      ┆ ---         ┆ ---       ┆ ---     ┆ ---        ┆ ---     ┆ ---        │\n",
       "│ i64      ┆ date        ┆ f64       ┆ str     ┆ f64        ┆ i8      ┆ i64        │\n",
       "╞══════════╪═════════════╪═══════════╪═════════╪════════════╪═════════╪════════════╡\n",
       "│ 1        ┆ 2011-03-27  ┆ 0.55      ┆ GB      ┆ 0.55       ┆ 7       ┆ 0          │\n",
       "│ 3        ┆ 2011-05-22  ┆ 4.15      ┆ GB      ┆ 12.45      ┆ 7       ┆ 0          │\n",
       "│ 12       ┆ 2011-09-06  ┆ 0.42      ┆ GB      ┆ 5.04       ┆ 2       ┆ 0          │\n",
       "│ 1        ┆ 2011-10-13  ┆ 4.13      ┆ GB      ┆ 4.13       ┆ 4       ┆ 0          │\n",
       "│ 24       ┆ 2011-09-15  ┆ 1.95      ┆ FR      ┆ 46.8       ┆ 4       ┆ 0          │\n",
       "│ …        ┆ …           ┆ …         ┆ …       ┆ …          ┆ …       ┆ …          │\n",
       "│ 24       ┆ 2011-03-06  ┆ 0.85      ┆ GB      ┆ 20.4       ┆ 7       ┆ 0          │\n",
       "│ 1        ┆ 2011-12-08  ┆ 1.65      ┆ GB      ┆ 1.65       ┆ 4       ┆ 0          │\n",
       "│ 1        ┆ 2011-06-08  ┆ 4.15      ┆ GB      ┆ 4.15       ┆ 3       ┆ 0          │\n",
       "│ 5        ┆ 2011-06-29  ┆ 1.63      ┆ GB      ┆ 8.15       ┆ 3       ┆ 0          │\n",
       "│ 1        ┆ 2011-08-01  ┆ 4.13      ┆ GB      ┆ 4.13       ┆ 1       ┆ 0          │\n",
       "└──────────┴─────────────┴───────────┴─────────┴────────────┴─────────┴────────────┘"
      ]
     },
     "execution_count": 69,
     "metadata": {},
     "output_type": "execute_result"
    }
   ],
   "source": [
    "def is_holiday(date, country):\n",
    "    holiday_list = holidays_dict.get(country, {})\n",
    "    return 1 if date in holiday_list else 0\n",
    "is_holiday_col = df.select([\"InvoiceDate\", \"Country\"]).map_rows(lambda row: is_holiday(row[0], row[1]))\n",
    "df = df.with_columns(pl.Series(\"is_holiday\", is_holiday_col))\n",
    "df"
   ]
  },
  {
   "cell_type": "markdown",
   "metadata": {},
   "source": [
    "Vamos a sacar algunas variables temporales adicionales, de las que puede depender las ventas"
   ]
  },
  {
   "cell_type": "code",
   "execution_count": 70,
   "metadata": {},
   "outputs": [
    {
     "data": {
      "text/html": [
       "col(\"InvoiceDate\").dt.quarter()"
      ],
      "text/plain": [
       "<Expr ['col(\"InvoiceDate\").dt.quarter(…'] at 0x1DF83BDDDD0>"
      ]
     },
     "execution_count": 70,
     "metadata": {},
     "output_type": "execute_result"
    }
   ],
   "source": [
    "pl.col(\"InvoiceDate\").dt.quarter()"
   ]
  },
  {
   "cell_type": "code",
   "execution_count": 73,
   "metadata": {},
   "outputs": [
    {
     "data": {
      "text/html": [
       "<div><style>\n",
       ".dataframe > thead > tr,\n",
       ".dataframe > tbody > tr {\n",
       "  text-align: right;\n",
       "  white-space: pre-wrap;\n",
       "}\n",
       "</style>\n",
       "<small>shape: (442_222, 10)</small><table border=\"1\" class=\"dataframe\"><thead><tr><th>Quantity</th><th>InvoiceDate</th><th>UnitPrice</th><th>Country</th><th>TotalSales</th><th>weekday</th><th>is_holiday</th><th>is_month_start</th><th>is_month_end</th><th>quarter_num</th></tr><tr><td>i64</td><td>date</td><td>f64</td><td>str</td><td>f64</td><td>i8</td><td>i64</td><td>i8</td><td>i8</td><td>i8</td></tr></thead><tbody><tr><td>1</td><td>2011-03-27</td><td>0.55</td><td>&quot;GB&quot;</td><td>0.55</td><td>7</td><td>0</td><td>0</td><td>1</td><td>1</td></tr><tr><td>3</td><td>2011-05-22</td><td>4.15</td><td>&quot;GB&quot;</td><td>12.45</td><td>7</td><td>0</td><td>0</td><td>1</td><td>2</td></tr><tr><td>12</td><td>2011-09-06</td><td>0.42</td><td>&quot;GB&quot;</td><td>5.04</td><td>2</td><td>0</td><td>1</td><td>0</td><td>3</td></tr><tr><td>1</td><td>2011-10-13</td><td>4.13</td><td>&quot;GB&quot;</td><td>4.13</td><td>4</td><td>0</td><td>0</td><td>0</td><td>4</td></tr><tr><td>24</td><td>2011-09-15</td><td>1.95</td><td>&quot;FR&quot;</td><td>46.8</td><td>4</td><td>0</td><td>0</td><td>0</td><td>3</td></tr><tr><td>&hellip;</td><td>&hellip;</td><td>&hellip;</td><td>&hellip;</td><td>&hellip;</td><td>&hellip;</td><td>&hellip;</td><td>&hellip;</td><td>&hellip;</td><td>&hellip;</td></tr><tr><td>24</td><td>2011-03-06</td><td>0.85</td><td>&quot;GB&quot;</td><td>20.4</td><td>7</td><td>0</td><td>1</td><td>0</td><td>1</td></tr><tr><td>1</td><td>2011-12-08</td><td>1.65</td><td>&quot;GB&quot;</td><td>1.65</td><td>4</td><td>0</td><td>1</td><td>0</td><td>4</td></tr><tr><td>1</td><td>2011-06-08</td><td>4.15</td><td>&quot;GB&quot;</td><td>4.15</td><td>3</td><td>0</td><td>1</td><td>0</td><td>2</td></tr><tr><td>5</td><td>2011-06-29</td><td>1.63</td><td>&quot;GB&quot;</td><td>8.15</td><td>3</td><td>0</td><td>0</td><td>1</td><td>2</td></tr><tr><td>1</td><td>2011-08-01</td><td>4.13</td><td>&quot;GB&quot;</td><td>4.13</td><td>1</td><td>0</td><td>1</td><td>0</td><td>3</td></tr></tbody></table></div>"
      ],
      "text/plain": [
       "shape: (442_222, 10)\n",
       "┌──────────┬────────────┬───────────┬─────────┬───┬────────────┬───────────┬───────────┬───────────┐\n",
       "│ Quantity ┆ InvoiceDat ┆ UnitPrice ┆ Country ┆ … ┆ is_holiday ┆ is_month_ ┆ is_month_ ┆ quarter_n │\n",
       "│ ---      ┆ e          ┆ ---       ┆ ---     ┆   ┆ ---        ┆ start     ┆ end       ┆ um        │\n",
       "│ i64      ┆ ---        ┆ f64       ┆ str     ┆   ┆ i64        ┆ ---       ┆ ---       ┆ ---       │\n",
       "│          ┆ date       ┆           ┆         ┆   ┆            ┆ i8        ┆ i8        ┆ i8        │\n",
       "╞══════════╪════════════╪═══════════╪═════════╪═══╪════════════╪═══════════╪═══════════╪═══════════╡\n",
       "│ 1        ┆ 2011-03-27 ┆ 0.55      ┆ GB      ┆ … ┆ 0          ┆ 0         ┆ 1         ┆ 1         │\n",
       "│ 3        ┆ 2011-05-22 ┆ 4.15      ┆ GB      ┆ … ┆ 0          ┆ 0         ┆ 1         ┆ 2         │\n",
       "│ 12       ┆ 2011-09-06 ┆ 0.42      ┆ GB      ┆ … ┆ 0          ┆ 1         ┆ 0         ┆ 3         │\n",
       "│ 1        ┆ 2011-10-13 ┆ 4.13      ┆ GB      ┆ … ┆ 0          ┆ 0         ┆ 0         ┆ 4         │\n",
       "│ 24       ┆ 2011-09-15 ┆ 1.95      ┆ FR      ┆ … ┆ 0          ┆ 0         ┆ 0         ┆ 3         │\n",
       "│ …        ┆ …          ┆ …         ┆ …       ┆ … ┆ …          ┆ …         ┆ …         ┆ …         │\n",
       "│ 24       ┆ 2011-03-06 ┆ 0.85      ┆ GB      ┆ … ┆ 0          ┆ 1         ┆ 0         ┆ 1         │\n",
       "│ 1        ┆ 2011-12-08 ┆ 1.65      ┆ GB      ┆ … ┆ 0          ┆ 1         ┆ 0         ┆ 4         │\n",
       "│ 1        ┆ 2011-06-08 ┆ 4.15      ┆ GB      ┆ … ┆ 0          ┆ 1         ┆ 0         ┆ 2         │\n",
       "│ 5        ┆ 2011-06-29 ┆ 1.63      ┆ GB      ┆ … ┆ 0          ┆ 0         ┆ 1         ┆ 2         │\n",
       "│ 1        ┆ 2011-08-01 ┆ 4.13      ┆ GB      ┆ … ┆ 0          ┆ 1         ┆ 0         ┆ 3         │\n",
       "└──────────┴────────────┴───────────┴─────────┴───┴────────────┴───────────┴───────────┴───────────┘"
      ]
     },
     "execution_count": 73,
     "metadata": {},
     "output_type": "execute_result"
    }
   ],
   "source": [
    "\n",
    "df = df.with_columns([ \n",
    "   ((pl.col(\"InvoiceDate\").dt.day() <= 10)).cast(pl.Int8).alias(\"is_month_start\"),\n",
    "    ((pl.col(\"InvoiceDate\").dt.day() >= (pl.col(\"InvoiceDate\").dt.month_end().dt.day() - 9))).cast(pl.Int8).alias(\"is_month_end\"),\n",
    "    pl.col(\"InvoiceDate\").dt.quarter().alias(\"quarter_num\"),\n",
    "])\n",
    "df"
   ]
  },
  {
   "cell_type": "code",
   "execution_count": 74,
   "metadata": {},
   "outputs": [],
   "source": [
    "df.write_csv(\"data_cleaned.csv\")\n"
   ]
  },
  {
   "cell_type": "code",
   "execution_count": 24,
   "metadata": {},
   "outputs": [],
   "source": [
    "import pickle\n",
    "\n",
    "\n",
    "with open(\"datos_cleaned.pkl\", \"wb\") as file:\n",
    "    pickle.dump(df, file)\n",
    "\n"
   ]
  }
 ],
 "metadata": {
  "kernelspec": {
   "display_name": "lab_venv",
   "language": "python",
   "name": "python3"
  },
  "language_info": {
   "codemirror_mode": {
    "name": "ipython",
    "version": 3
   },
   "file_extension": ".py",
   "mimetype": "text/x-python",
   "name": "python",
   "nbconvert_exporter": "python",
   "pygments_lexer": "ipython3",
   "version": "3.11.4"
  }
 },
 "nbformat": 4,
 "nbformat_minor": 2
}
