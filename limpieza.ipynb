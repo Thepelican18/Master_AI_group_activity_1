{
 "cells": [
  {
   "cell_type": "code",
   "execution_count": 214,
   "metadata": {},
   "outputs": [
    {
     "data": {
      "text/html": [
       "<div><style>\n",
       ".dataframe > thead > tr,\n",
       ".dataframe > tbody > tr {\n",
       "  text-align: right;\n",
       "  white-space: pre-wrap;\n",
       "}\n",
       "</style>\n",
       "<small>shape: (541_909, 8)</small><table border=\"1\" class=\"dataframe\"><thead><tr><th>InvoiceNo</th><th>StockCode</th><th>Description</th><th>Quantity</th><th>InvoiceDate</th><th>UnitPrice</th><th>CustomerID</th><th>Country</th></tr><tr><td>str</td><td>str</td><td>str</td><td>i64</td><td>str</td><td>f64</td><td>i64</td><td>str</td></tr></thead><tbody><tr><td>&quot;536365&quot;</td><td>&quot;85123A&quot;</td><td>&quot;WHITE HANGING HEART T-LIGHT HO…</td><td>6</td><td>&quot;12/1/2010 8:26&quot;</td><td>2.55</td><td>17850</td><td>&quot;United Kingdom&quot;</td></tr><tr><td>&quot;536365&quot;</td><td>&quot;71053&quot;</td><td>&quot;WHITE METAL LANTERN&quot;</td><td>6</td><td>&quot;12/1/2010 8:26&quot;</td><td>3.39</td><td>17850</td><td>&quot;United Kingdom&quot;</td></tr><tr><td>&quot;536365&quot;</td><td>&quot;84406B&quot;</td><td>&quot;CREAM CUPID HEARTS COAT HANGER&quot;</td><td>8</td><td>&quot;12/1/2010 8:26&quot;</td><td>2.75</td><td>17850</td><td>&quot;United Kingdom&quot;</td></tr><tr><td>&quot;536365&quot;</td><td>&quot;84029G&quot;</td><td>&quot;KNITTED UNION FLAG HOT WATER B…</td><td>6</td><td>&quot;12/1/2010 8:26&quot;</td><td>3.39</td><td>17850</td><td>&quot;United Kingdom&quot;</td></tr><tr><td>&quot;536365&quot;</td><td>&quot;84029E&quot;</td><td>&quot;RED WOOLLY HOTTIE WHITE HEART.&quot;</td><td>6</td><td>&quot;12/1/2010 8:26&quot;</td><td>3.39</td><td>17850</td><td>&quot;United Kingdom&quot;</td></tr><tr><td>&hellip;</td><td>&hellip;</td><td>&hellip;</td><td>&hellip;</td><td>&hellip;</td><td>&hellip;</td><td>&hellip;</td><td>&hellip;</td></tr><tr><td>&quot;581587&quot;</td><td>&quot;22613&quot;</td><td>&quot;PACK OF 20 SPACEBOY NAPKINS&quot;</td><td>12</td><td>&quot;12/9/2011 12:50&quot;</td><td>0.85</td><td>12680</td><td>&quot;France&quot;</td></tr><tr><td>&quot;581587&quot;</td><td>&quot;22899&quot;</td><td>&quot;CHILDREN&#x27;S APRON DOLLY GIRL &quot;</td><td>6</td><td>&quot;12/9/2011 12:50&quot;</td><td>2.1</td><td>12680</td><td>&quot;France&quot;</td></tr><tr><td>&quot;581587&quot;</td><td>&quot;23254&quot;</td><td>&quot;CHILDRENS CUTLERY DOLLY GIRL &quot;</td><td>4</td><td>&quot;12/9/2011 12:50&quot;</td><td>4.15</td><td>12680</td><td>&quot;France&quot;</td></tr><tr><td>&quot;581587&quot;</td><td>&quot;23255&quot;</td><td>&quot;CHILDRENS CUTLERY CIRCUS PARAD…</td><td>4</td><td>&quot;12/9/2011 12:50&quot;</td><td>4.15</td><td>12680</td><td>&quot;France&quot;</td></tr><tr><td>&quot;581587&quot;</td><td>&quot;22138&quot;</td><td>&quot;BAKING SET 9 PIECE RETROSPOT &quot;</td><td>3</td><td>&quot;12/9/2011 12:50&quot;</td><td>4.95</td><td>12680</td><td>&quot;France&quot;</td></tr></tbody></table></div>"
      ],
      "text/plain": [
       "shape: (541_909, 8)\n",
       "┌───────────┬───────────┬──────────────┬──────────┬─────────────┬───────────┬────────────┬─────────┐\n",
       "│ InvoiceNo ┆ StockCode ┆ Description  ┆ Quantity ┆ InvoiceDate ┆ UnitPrice ┆ CustomerID ┆ Country │\n",
       "│ ---       ┆ ---       ┆ ---          ┆ ---      ┆ ---         ┆ ---       ┆ ---        ┆ ---     │\n",
       "│ str       ┆ str       ┆ str          ┆ i64      ┆ str         ┆ f64       ┆ i64        ┆ str     │\n",
       "╞═══════════╪═══════════╪══════════════╪══════════╪═════════════╪═══════════╪════════════╪═════════╡\n",
       "│ 536365    ┆ 85123A    ┆ WHITE        ┆ 6        ┆ 12/1/2010   ┆ 2.55      ┆ 17850      ┆ United  │\n",
       "│           ┆           ┆ HANGING      ┆          ┆ 8:26        ┆           ┆            ┆ Kingdom │\n",
       "│           ┆           ┆ HEART        ┆          ┆             ┆           ┆            ┆         │\n",
       "│           ┆           ┆ T-LIGHT HO…  ┆          ┆             ┆           ┆            ┆         │\n",
       "│ 536365    ┆ 71053     ┆ WHITE METAL  ┆ 6        ┆ 12/1/2010   ┆ 3.39      ┆ 17850      ┆ United  │\n",
       "│           ┆           ┆ LANTERN      ┆          ┆ 8:26        ┆           ┆            ┆ Kingdom │\n",
       "│ 536365    ┆ 84406B    ┆ CREAM CUPID  ┆ 8        ┆ 12/1/2010   ┆ 2.75      ┆ 17850      ┆ United  │\n",
       "│           ┆           ┆ HEARTS COAT  ┆          ┆ 8:26        ┆           ┆            ┆ Kingdom │\n",
       "│           ┆           ┆ HANGER       ┆          ┆             ┆           ┆            ┆         │\n",
       "│ 536365    ┆ 84029G    ┆ KNITTED      ┆ 6        ┆ 12/1/2010   ┆ 3.39      ┆ 17850      ┆ United  │\n",
       "│           ┆           ┆ UNION FLAG   ┆          ┆ 8:26        ┆           ┆            ┆ Kingdom │\n",
       "│           ┆           ┆ HOT WATER B… ┆          ┆             ┆           ┆            ┆         │\n",
       "│ 536365    ┆ 84029E    ┆ RED WOOLLY   ┆ 6        ┆ 12/1/2010   ┆ 3.39      ┆ 17850      ┆ United  │\n",
       "│           ┆           ┆ HOTTIE WHITE ┆          ┆ 8:26        ┆           ┆            ┆ Kingdom │\n",
       "│           ┆           ┆ HEART.       ┆          ┆             ┆           ┆            ┆         │\n",
       "│ …         ┆ …         ┆ …            ┆ …        ┆ …           ┆ …         ┆ …          ┆ …       │\n",
       "│ 581587    ┆ 22613     ┆ PACK OF 20   ┆ 12       ┆ 12/9/2011   ┆ 0.85      ┆ 12680      ┆ France  │\n",
       "│           ┆           ┆ SPACEBOY     ┆          ┆ 12:50       ┆           ┆            ┆         │\n",
       "│           ┆           ┆ NAPKINS      ┆          ┆             ┆           ┆            ┆         │\n",
       "│ 581587    ┆ 22899     ┆ CHILDREN'S   ┆ 6        ┆ 12/9/2011   ┆ 2.1       ┆ 12680      ┆ France  │\n",
       "│           ┆           ┆ APRON DOLLY  ┆          ┆ 12:50       ┆           ┆            ┆         │\n",
       "│           ┆           ┆ GIRL         ┆          ┆             ┆           ┆            ┆         │\n",
       "│ 581587    ┆ 23254     ┆ CHILDRENS    ┆ 4        ┆ 12/9/2011   ┆ 4.15      ┆ 12680      ┆ France  │\n",
       "│           ┆           ┆ CUTLERY      ┆          ┆ 12:50       ┆           ┆            ┆         │\n",
       "│           ┆           ┆ DOLLY GIRL   ┆          ┆             ┆           ┆            ┆         │\n",
       "│ 581587    ┆ 23255     ┆ CHILDRENS    ┆ 4        ┆ 12/9/2011   ┆ 4.15      ┆ 12680      ┆ France  │\n",
       "│           ┆           ┆ CUTLERY      ┆          ┆ 12:50       ┆           ┆            ┆         │\n",
       "│           ┆           ┆ CIRCUS       ┆          ┆             ┆           ┆            ┆         │\n",
       "│           ┆           ┆ PARAD…       ┆          ┆             ┆           ┆            ┆         │\n",
       "│ 581587    ┆ 22138     ┆ BAKING SET 9 ┆ 3        ┆ 12/9/2011   ┆ 4.95      ┆ 12680      ┆ France  │\n",
       "│           ┆           ┆ PIECE        ┆          ┆ 12:50       ┆           ┆            ┆         │\n",
       "│           ┆           ┆ RETROSPOT    ┆          ┆             ┆           ┆            ┆         │\n",
       "└───────────┴───────────┴──────────────┴──────────┴─────────────┴───────────┴────────────┴─────────┘"
      ]
     },
     "execution_count": 214,
     "metadata": {},
     "output_type": "execute_result"
    }
   ],
   "source": [
    "import polars as pl\n",
    "\n",
    "df = pl.read_csv(\"data.csv\", encoding=\"ISO-8859-1\", infer_schema_length=10000)\n",
    "df\n"
   ]
  },
  {
   "cell_type": "markdown",
   "metadata": {},
   "source": [
    "\n",
    "Ahora sobre el dataset vamos a analizar si hay datos que limpiar:\n",
    "\n",
    "Primero los valores nulos, es importante que no tengamos ninguno, ya con datos nulos no podemos trabajar."
   ]
  },
  {
   "cell_type": "code",
   "execution_count": 215,
   "metadata": {},
   "outputs": [
    {
     "data": {
      "text/html": [
       "<div><style>\n",
       ".dataframe > thead > tr,\n",
       ".dataframe > tbody > tr {\n",
       "  text-align: right;\n",
       "  white-space: pre-wrap;\n",
       "}\n",
       "</style>\n",
       "<small>shape: (1, 8)</small><table border=\"1\" class=\"dataframe\"><thead><tr><th>InvoiceNo</th><th>StockCode</th><th>Description</th><th>Quantity</th><th>InvoiceDate</th><th>UnitPrice</th><th>CustomerID</th><th>Country</th></tr><tr><td>u32</td><td>u32</td><td>u32</td><td>u32</td><td>u32</td><td>u32</td><td>u32</td><td>u32</td></tr></thead><tbody><tr><td>0</td><td>0</td><td>1454</td><td>0</td><td>0</td><td>0</td><td>135080</td><td>0</td></tr></tbody></table></div>"
      ],
      "text/plain": [
       "shape: (1, 8)\n",
       "┌───────────┬───────────┬─────────────┬──────────┬─────────────┬───────────┬────────────┬─────────┐\n",
       "│ InvoiceNo ┆ StockCode ┆ Description ┆ Quantity ┆ InvoiceDate ┆ UnitPrice ┆ CustomerID ┆ Country │\n",
       "│ ---       ┆ ---       ┆ ---         ┆ ---      ┆ ---         ┆ ---       ┆ ---        ┆ ---     │\n",
       "│ u32       ┆ u32       ┆ u32         ┆ u32      ┆ u32         ┆ u32       ┆ u32        ┆ u32     │\n",
       "╞═══════════╪═══════════╪═════════════╪══════════╪═════════════╪═══════════╪════════════╪═════════╡\n",
       "│ 0         ┆ 0         ┆ 1454        ┆ 0        ┆ 0           ┆ 0         ┆ 135080     ┆ 0       │\n",
       "└───────────┴───────────┴─────────────┴──────────┴─────────────┴───────────┴────────────┴─────────┘"
      ]
     },
     "execution_count": 215,
     "metadata": {},
     "output_type": "execute_result"
    }
   ],
   "source": [
    "df.null_count()\n"
   ]
  },
  {
   "cell_type": "markdown",
   "metadata": {},
   "source": [
    "Como vemos solo hay muchos nulls, aunque en este caso los nulls del custumer ID nos lo tomaremos como compras reales de clientes no registrados, en cambio los valores nulos de Description los eliminaremos por que no podemos saber si ha sido una venta real o un error."
   ]
  },
  {
   "cell_type": "code",
   "execution_count": 216,
   "metadata": {},
   "outputs": [
    {
     "data": {
      "text/html": [
       "<div><style>\n",
       ".dataframe > thead > tr,\n",
       ".dataframe > tbody > tr {\n",
       "  text-align: right;\n",
       "  white-space: pre-wrap;\n",
       "}\n",
       "</style>\n",
       "<small>shape: (540_455, 8)</small><table border=\"1\" class=\"dataframe\"><thead><tr><th>InvoiceNo</th><th>StockCode</th><th>Description</th><th>Quantity</th><th>InvoiceDate</th><th>UnitPrice</th><th>CustomerID</th><th>Country</th></tr><tr><td>str</td><td>str</td><td>str</td><td>i64</td><td>str</td><td>f64</td><td>i64</td><td>str</td></tr></thead><tbody><tr><td>&quot;536365&quot;</td><td>&quot;85123A&quot;</td><td>&quot;WHITE HANGING HEART T-LIGHT HO…</td><td>6</td><td>&quot;12/1/2010 8:26&quot;</td><td>2.55</td><td>17850</td><td>&quot;United Kingdom&quot;</td></tr><tr><td>&quot;536365&quot;</td><td>&quot;71053&quot;</td><td>&quot;WHITE METAL LANTERN&quot;</td><td>6</td><td>&quot;12/1/2010 8:26&quot;</td><td>3.39</td><td>17850</td><td>&quot;United Kingdom&quot;</td></tr><tr><td>&quot;536365&quot;</td><td>&quot;84406B&quot;</td><td>&quot;CREAM CUPID HEARTS COAT HANGER&quot;</td><td>8</td><td>&quot;12/1/2010 8:26&quot;</td><td>2.75</td><td>17850</td><td>&quot;United Kingdom&quot;</td></tr><tr><td>&quot;536365&quot;</td><td>&quot;84029G&quot;</td><td>&quot;KNITTED UNION FLAG HOT WATER B…</td><td>6</td><td>&quot;12/1/2010 8:26&quot;</td><td>3.39</td><td>17850</td><td>&quot;United Kingdom&quot;</td></tr><tr><td>&quot;536365&quot;</td><td>&quot;84029E&quot;</td><td>&quot;RED WOOLLY HOTTIE WHITE HEART.&quot;</td><td>6</td><td>&quot;12/1/2010 8:26&quot;</td><td>3.39</td><td>17850</td><td>&quot;United Kingdom&quot;</td></tr><tr><td>&hellip;</td><td>&hellip;</td><td>&hellip;</td><td>&hellip;</td><td>&hellip;</td><td>&hellip;</td><td>&hellip;</td><td>&hellip;</td></tr><tr><td>&quot;581587&quot;</td><td>&quot;22613&quot;</td><td>&quot;PACK OF 20 SPACEBOY NAPKINS&quot;</td><td>12</td><td>&quot;12/9/2011 12:50&quot;</td><td>0.85</td><td>12680</td><td>&quot;France&quot;</td></tr><tr><td>&quot;581587&quot;</td><td>&quot;22899&quot;</td><td>&quot;CHILDREN&#x27;S APRON DOLLY GIRL &quot;</td><td>6</td><td>&quot;12/9/2011 12:50&quot;</td><td>2.1</td><td>12680</td><td>&quot;France&quot;</td></tr><tr><td>&quot;581587&quot;</td><td>&quot;23254&quot;</td><td>&quot;CHILDRENS CUTLERY DOLLY GIRL &quot;</td><td>4</td><td>&quot;12/9/2011 12:50&quot;</td><td>4.15</td><td>12680</td><td>&quot;France&quot;</td></tr><tr><td>&quot;581587&quot;</td><td>&quot;23255&quot;</td><td>&quot;CHILDRENS CUTLERY CIRCUS PARAD…</td><td>4</td><td>&quot;12/9/2011 12:50&quot;</td><td>4.15</td><td>12680</td><td>&quot;France&quot;</td></tr><tr><td>&quot;581587&quot;</td><td>&quot;22138&quot;</td><td>&quot;BAKING SET 9 PIECE RETROSPOT &quot;</td><td>3</td><td>&quot;12/9/2011 12:50&quot;</td><td>4.95</td><td>12680</td><td>&quot;France&quot;</td></tr></tbody></table></div>"
      ],
      "text/plain": [
       "shape: (540_455, 8)\n",
       "┌───────────┬───────────┬──────────────┬──────────┬─────────────┬───────────┬────────────┬─────────┐\n",
       "│ InvoiceNo ┆ StockCode ┆ Description  ┆ Quantity ┆ InvoiceDate ┆ UnitPrice ┆ CustomerID ┆ Country │\n",
       "│ ---       ┆ ---       ┆ ---          ┆ ---      ┆ ---         ┆ ---       ┆ ---        ┆ ---     │\n",
       "│ str       ┆ str       ┆ str          ┆ i64      ┆ str         ┆ f64       ┆ i64        ┆ str     │\n",
       "╞═══════════╪═══════════╪══════════════╪══════════╪═════════════╪═══════════╪════════════╪═════════╡\n",
       "│ 536365    ┆ 85123A    ┆ WHITE        ┆ 6        ┆ 12/1/2010   ┆ 2.55      ┆ 17850      ┆ United  │\n",
       "│           ┆           ┆ HANGING      ┆          ┆ 8:26        ┆           ┆            ┆ Kingdom │\n",
       "│           ┆           ┆ HEART        ┆          ┆             ┆           ┆            ┆         │\n",
       "│           ┆           ┆ T-LIGHT HO…  ┆          ┆             ┆           ┆            ┆         │\n",
       "│ 536365    ┆ 71053     ┆ WHITE METAL  ┆ 6        ┆ 12/1/2010   ┆ 3.39      ┆ 17850      ┆ United  │\n",
       "│           ┆           ┆ LANTERN      ┆          ┆ 8:26        ┆           ┆            ┆ Kingdom │\n",
       "│ 536365    ┆ 84406B    ┆ CREAM CUPID  ┆ 8        ┆ 12/1/2010   ┆ 2.75      ┆ 17850      ┆ United  │\n",
       "│           ┆           ┆ HEARTS COAT  ┆          ┆ 8:26        ┆           ┆            ┆ Kingdom │\n",
       "│           ┆           ┆ HANGER       ┆          ┆             ┆           ┆            ┆         │\n",
       "│ 536365    ┆ 84029G    ┆ KNITTED      ┆ 6        ┆ 12/1/2010   ┆ 3.39      ┆ 17850      ┆ United  │\n",
       "│           ┆           ┆ UNION FLAG   ┆          ┆ 8:26        ┆           ┆            ┆ Kingdom │\n",
       "│           ┆           ┆ HOT WATER B… ┆          ┆             ┆           ┆            ┆         │\n",
       "│ 536365    ┆ 84029E    ┆ RED WOOLLY   ┆ 6        ┆ 12/1/2010   ┆ 3.39      ┆ 17850      ┆ United  │\n",
       "│           ┆           ┆ HOTTIE WHITE ┆          ┆ 8:26        ┆           ┆            ┆ Kingdom │\n",
       "│           ┆           ┆ HEART.       ┆          ┆             ┆           ┆            ┆         │\n",
       "│ …         ┆ …         ┆ …            ┆ …        ┆ …           ┆ …         ┆ …          ┆ …       │\n",
       "│ 581587    ┆ 22613     ┆ PACK OF 20   ┆ 12       ┆ 12/9/2011   ┆ 0.85      ┆ 12680      ┆ France  │\n",
       "│           ┆           ┆ SPACEBOY     ┆          ┆ 12:50       ┆           ┆            ┆         │\n",
       "│           ┆           ┆ NAPKINS      ┆          ┆             ┆           ┆            ┆         │\n",
       "│ 581587    ┆ 22899     ┆ CHILDREN'S   ┆ 6        ┆ 12/9/2011   ┆ 2.1       ┆ 12680      ┆ France  │\n",
       "│           ┆           ┆ APRON DOLLY  ┆          ┆ 12:50       ┆           ┆            ┆         │\n",
       "│           ┆           ┆ GIRL         ┆          ┆             ┆           ┆            ┆         │\n",
       "│ 581587    ┆ 23254     ┆ CHILDRENS    ┆ 4        ┆ 12/9/2011   ┆ 4.15      ┆ 12680      ┆ France  │\n",
       "│           ┆           ┆ CUTLERY      ┆          ┆ 12:50       ┆           ┆            ┆         │\n",
       "│           ┆           ┆ DOLLY GIRL   ┆          ┆             ┆           ┆            ┆         │\n",
       "│ 581587    ┆ 23255     ┆ CHILDRENS    ┆ 4        ┆ 12/9/2011   ┆ 4.15      ┆ 12680      ┆ France  │\n",
       "│           ┆           ┆ CUTLERY      ┆          ┆ 12:50       ┆           ┆            ┆         │\n",
       "│           ┆           ┆ CIRCUS       ┆          ┆             ┆           ┆            ┆         │\n",
       "│           ┆           ┆ PARAD…       ┆          ┆             ┆           ┆            ┆         │\n",
       "│ 581587    ┆ 22138     ┆ BAKING SET 9 ┆ 3        ┆ 12/9/2011   ┆ 4.95      ┆ 12680      ┆ France  │\n",
       "│           ┆           ┆ PIECE        ┆          ┆ 12:50       ┆           ┆            ┆         │\n",
       "│           ┆           ┆ RETROSPOT    ┆          ┆             ┆           ┆            ┆         │\n",
       "└───────────┴───────────┴──────────────┴──────────┴─────────────┴───────────┴────────────┴─────────┘"
      ]
     },
     "execution_count": 216,
     "metadata": {},
     "output_type": "execute_result"
    }
   ],
   "source": [
    "df = df.filter(df[\"Description\"].is_not_null())\n",
    "df"
   ]
  },
  {
   "cell_type": "markdown",
   "metadata": {},
   "source": [
    "Sabiendo que ya no tenemos nulos vamos a comprobar los duplicados(todas las columnas), que tambien es importante"
   ]
  },
  {
   "cell_type": "code",
   "execution_count": 217,
   "metadata": {},
   "outputs": [
    {
     "data": {
      "text/plain": [
       "'Filas duplicadas: 5268'"
      ]
     },
     "execution_count": 217,
     "metadata": {},
     "output_type": "execute_result"
    }
   ],
   "source": [
    "\n",
    "f\"Filas duplicadas: {df.height - df.unique().height}\""
   ]
  },
  {
   "cell_type": "markdown",
   "metadata": {},
   "source": [
    "En nuestro caso elimineramos estas filas duplicadas porque es muy probable que se trate de un error de la aplicacion al insertar datos."
   ]
  },
  {
   "cell_type": "code",
   "execution_count": 218,
   "metadata": {},
   "outputs": [
    {
     "data": {
      "text/html": [
       "<div><style>\n",
       ".dataframe > thead > tr,\n",
       ".dataframe > tbody > tr {\n",
       "  text-align: right;\n",
       "  white-space: pre-wrap;\n",
       "}\n",
       "</style>\n",
       "<small>shape: (535_187, 8)</small><table border=\"1\" class=\"dataframe\"><thead><tr><th>InvoiceNo</th><th>StockCode</th><th>Description</th><th>Quantity</th><th>InvoiceDate</th><th>UnitPrice</th><th>CustomerID</th><th>Country</th></tr><tr><td>str</td><td>str</td><td>str</td><td>i64</td><td>str</td><td>f64</td><td>i64</td><td>str</td></tr></thead><tbody><tr><td>&quot;560225&quot;</td><td>&quot;22730&quot;</td><td>&quot;ALARM CLOCK BAKELIKE IVORY&quot;</td><td>1</td><td>&quot;7/15/2011 16:27&quot;</td><td>7.46</td><td>null</td><td>&quot;United Kingdom&quot;</td></tr><tr><td>&quot;561515&quot;</td><td>&quot;20902&quot;</td><td>&quot;VINTAGE KEEPSAKE BOX PARIS DAY…</td><td>2</td><td>&quot;7/27/2011 15:16&quot;</td><td>4.13</td><td>null</td><td>&quot;United Kingdom&quot;</td></tr><tr><td>&quot;577258&quot;</td><td>&quot;22698&quot;</td><td>&quot;PINK REGENCY TEACUP AND SAUCER&quot;</td><td>1</td><td>&quot;11/18/2011 12:27&quot;</td><td>2.95</td><td>16764</td><td>&quot;United Kingdom&quot;</td></tr><tr><td>&quot;578263&quot;</td><td>&quot;85019B&quot;</td><td>&quot;BLOSSOM&nbsp;&nbsp;IMAGES NOTEBOOK SET&quot;</td><td>24</td><td>&quot;11/23/2011 13:27&quot;</td><td>1.25</td><td>17422</td><td>&quot;United Kingdom&quot;</td></tr><tr><td>&quot;552018&quot;</td><td>&quot;22431&quot;</td><td>&quot;WATERING CAN BLUE ELEPHANT&quot;</td><td>6</td><td>&quot;5/5/2011 17:42&quot;</td><td>1.95</td><td>16817</td><td>&quot;United Kingdom&quot;</td></tr><tr><td>&hellip;</td><td>&hellip;</td><td>&hellip;</td><td>&hellip;</td><td>&hellip;</td><td>&hellip;</td><td>&hellip;</td><td>&hellip;</td></tr><tr><td>&quot;536846&quot;</td><td>&quot;22469&quot;</td><td>&quot;HEART OF WICKER SMALL&quot;</td><td>2</td><td>&quot;12/2/2010 19:59&quot;</td><td>1.65</td><td>14573</td><td>&quot;United Kingdom&quot;</td></tr><tr><td>&quot;563094&quot;</td><td>&quot;22154&quot;</td><td>&quot;ANGEL DECORATION 3 BUTTONS &quot;</td><td>48</td><td>&quot;8/11/2011 17:35&quot;</td><td>0.42</td><td>14525</td><td>&quot;United Kingdom&quot;</td></tr><tr><td>&quot;548700&quot;</td><td>&quot;22981&quot;</td><td>&quot;PANTRY APPLE CORER&quot;</td><td>1</td><td>&quot;4/3/2011 11:11&quot;</td><td>1.45</td><td>13623</td><td>&quot;United Kingdom&quot;</td></tr><tr><td>&quot;542716&quot;</td><td>&quot;22296&quot;</td><td>&quot;HEART IVORY TRELLIS LARGE&quot;</td><td>24</td><td>&quot;1/31/2011 14:02&quot;</td><td>1.65</td><td>16407</td><td>&quot;United Kingdom&quot;</td></tr><tr><td>&quot;554489&quot;</td><td>&quot;22434&quot;</td><td>&quot;BALLOON PUMP WITH 10 BALLOONS&quot;</td><td>8</td><td>&quot;5/24/2011 13:46&quot;</td><td>1.95</td><td>17272</td><td>&quot;United Kingdom&quot;</td></tr></tbody></table></div>"
      ],
      "text/plain": [
       "shape: (535_187, 8)\n",
       "┌───────────┬───────────┬──────────────┬──────────┬─────────────┬───────────┬────────────┬─────────┐\n",
       "│ InvoiceNo ┆ StockCode ┆ Description  ┆ Quantity ┆ InvoiceDate ┆ UnitPrice ┆ CustomerID ┆ Country │\n",
       "│ ---       ┆ ---       ┆ ---          ┆ ---      ┆ ---         ┆ ---       ┆ ---        ┆ ---     │\n",
       "│ str       ┆ str       ┆ str          ┆ i64      ┆ str         ┆ f64       ┆ i64        ┆ str     │\n",
       "╞═══════════╪═══════════╪══════════════╪══════════╪═════════════╪═══════════╪════════════╪═════════╡\n",
       "│ 560225    ┆ 22730     ┆ ALARM CLOCK  ┆ 1        ┆ 7/15/2011   ┆ 7.46      ┆ null       ┆ United  │\n",
       "│           ┆           ┆ BAKELIKE     ┆          ┆ 16:27       ┆           ┆            ┆ Kingdom │\n",
       "│           ┆           ┆ IVORY        ┆          ┆             ┆           ┆            ┆         │\n",
       "│ 561515    ┆ 20902     ┆ VINTAGE      ┆ 2        ┆ 7/27/2011   ┆ 4.13      ┆ null       ┆ United  │\n",
       "│           ┆           ┆ KEEPSAKE BOX ┆          ┆ 15:16       ┆           ┆            ┆ Kingdom │\n",
       "│           ┆           ┆ PARIS DAY…   ┆          ┆             ┆           ┆            ┆         │\n",
       "│ 577258    ┆ 22698     ┆ PINK REGENCY ┆ 1        ┆ 11/18/2011  ┆ 2.95      ┆ 16764      ┆ United  │\n",
       "│           ┆           ┆ TEACUP AND   ┆          ┆ 12:27       ┆           ┆            ┆ Kingdom │\n",
       "│           ┆           ┆ SAUCER       ┆          ┆             ┆           ┆            ┆         │\n",
       "│ 578263    ┆ 85019B    ┆ BLOSSOM      ┆ 24       ┆ 11/23/2011  ┆ 1.25      ┆ 17422      ┆ United  │\n",
       "│           ┆           ┆ IMAGES       ┆          ┆ 13:27       ┆           ┆            ┆ Kingdom │\n",
       "│           ┆           ┆ NOTEBOOK SET ┆          ┆             ┆           ┆            ┆         │\n",
       "│ 552018    ┆ 22431     ┆ WATERING CAN ┆ 6        ┆ 5/5/2011    ┆ 1.95      ┆ 16817      ┆ United  │\n",
       "│           ┆           ┆ BLUE         ┆          ┆ 17:42       ┆           ┆            ┆ Kingdom │\n",
       "│           ┆           ┆ ELEPHANT     ┆          ┆             ┆           ┆            ┆         │\n",
       "│ …         ┆ …         ┆ …            ┆ …        ┆ …           ┆ …         ┆ …          ┆ …       │\n",
       "│ 536846    ┆ 22469     ┆ HEART OF     ┆ 2        ┆ 12/2/2010   ┆ 1.65      ┆ 14573      ┆ United  │\n",
       "│           ┆           ┆ WICKER SMALL ┆          ┆ 19:59       ┆           ┆            ┆ Kingdom │\n",
       "│ 563094    ┆ 22154     ┆ ANGEL        ┆ 48       ┆ 8/11/2011   ┆ 0.42      ┆ 14525      ┆ United  │\n",
       "│           ┆           ┆ DECORATION 3 ┆          ┆ 17:35       ┆           ┆            ┆ Kingdom │\n",
       "│           ┆           ┆ BUTTONS      ┆          ┆             ┆           ┆            ┆         │\n",
       "│ 548700    ┆ 22981     ┆ PANTRY APPLE ┆ 1        ┆ 4/3/2011    ┆ 1.45      ┆ 13623      ┆ United  │\n",
       "│           ┆           ┆ CORER        ┆          ┆ 11:11       ┆           ┆            ┆ Kingdom │\n",
       "│ 542716    ┆ 22296     ┆ HEART IVORY  ┆ 24       ┆ 1/31/2011   ┆ 1.65      ┆ 16407      ┆ United  │\n",
       "│           ┆           ┆ TRELLIS      ┆          ┆ 14:02       ┆           ┆            ┆ Kingdom │\n",
       "│           ┆           ┆ LARGE        ┆          ┆             ┆           ┆            ┆         │\n",
       "│ 554489    ┆ 22434     ┆ BALLOON PUMP ┆ 8        ┆ 5/24/2011   ┆ 1.95      ┆ 17272      ┆ United  │\n",
       "│           ┆           ┆ WITH 10      ┆          ┆ 13:46       ┆           ┆            ┆ Kingdom │\n",
       "│           ┆           ┆ BALLOONS     ┆          ┆             ┆           ┆            ┆         │\n",
       "└───────────┴───────────┴──────────────┴──────────┴─────────────┴───────────┴────────────┴─────────┘"
      ]
     },
     "execution_count": 218,
     "metadata": {},
     "output_type": "execute_result"
    }
   ],
   "source": [
    "\n",
    "df = df.unique()\n",
    "df"
   ]
  },
  {
   "cell_type": "markdown",
   "metadata": {},
   "source": [
    "Ahora iremos con los valores negativos"
   ]
  },
  {
   "cell_type": "code",
   "execution_count": 219,
   "metadata": {},
   "outputs": [
    {
     "data": {
      "text/html": [
       "<div><style>\n",
       ".dataframe > thead > tr,\n",
       ".dataframe > tbody > tr {\n",
       "  text-align: right;\n",
       "  white-space: pre-wrap;\n",
       "}\n",
       "</style>\n",
       "<small>shape: (9_727, 8)</small><table border=\"1\" class=\"dataframe\"><thead><tr><th>InvoiceNo</th><th>StockCode</th><th>Description</th><th>Quantity</th><th>InvoiceDate</th><th>UnitPrice</th><th>CustomerID</th><th>Country</th></tr><tr><td>str</td><td>str</td><td>str</td><td>i64</td><td>str</td><td>f64</td><td>i64</td><td>str</td></tr></thead><tbody><tr><td>&quot;C556117&quot;</td><td>&quot;47503A&quot;</td><td>&quot;ASS FLORAL PRINT MULTI SCREWDR…</td><td>-12</td><td>&quot;6/9/2011 9:44&quot;</td><td>1.25</td><td>12802</td><td>&quot;Netherlands&quot;</td></tr><tr><td>&quot;C567686&quot;</td><td>&quot;20728&quot;</td><td>&quot;LUNCH BAG CARS BLUE&quot;</td><td>-10</td><td>&quot;9/21/2011 16:42&quot;</td><td>1.65</td><td>17702</td><td>&quot;United Kingdom&quot;</td></tr><tr><td>&quot;C568416&quot;</td><td>&quot;23168&quot;</td><td>&quot;CLASSIC CAFE SUGAR DISPENSER&quot;</td><td>-6</td><td>&quot;9/27/2011 11:08&quot;</td><td>1.04</td><td>14866</td><td>&quot;United Kingdom&quot;</td></tr><tr><td>&quot;C547582&quot;</td><td>&quot;23194&quot;</td><td>&quot;GYMKHANA TREASURE BOOK BOX&quot;</td><td>-3</td><td>&quot;3/24/2011 11:06&quot;</td><td>2.25</td><td>12474</td><td>&quot;Germany&quot;</td></tr><tr><td>&quot;C541735&quot;</td><td>&quot;22908&quot;</td><td>&quot;PACK OF 20 NAPKINS RED APPLES&quot;</td><td>-2</td><td>&quot;1/21/2011 11:35&quot;</td><td>0.85</td><td>12626</td><td>&quot;Germany&quot;</td></tr><tr><td>&hellip;</td><td>&hellip;</td><td>&hellip;</td><td>&hellip;</td><td>&hellip;</td><td>&hellip;</td><td>&hellip;</td><td>&hellip;</td></tr><tr><td>&quot;C577399&quot;</td><td>&quot;22138&quot;</td><td>&quot;BAKING SET 9 PIECE RETROSPOT &quot;</td><td>-1</td><td>&quot;11/18/2011 17:15&quot;</td><td>4.95</td><td>13895</td><td>&quot;United Kingdom&quot;</td></tr><tr><td>&quot;C569946&quot;</td><td>&quot;22487&quot;</td><td>&quot;WHITE WOOD GARDEN PLANT LADDER&quot;</td><td>-4</td><td>&quot;10/6/2011 18:16&quot;</td><td>8.5</td><td>16462</td><td>&quot;United Kingdom&quot;</td></tr><tr><td>&quot;579755&quot;</td><td>&quot;84912B&quot;</td><td>&quot;damaged&quot;</td><td>-14</td><td>&quot;11/30/2011 14:54&quot;</td><td>0.0</td><td>null</td><td>&quot;United Kingdom&quot;</td></tr><tr><td>&quot;C565848&quot;</td><td>&quot;21479&quot;</td><td>&quot;WHITE SKULL HOT WATER BOTTLE &quot;</td><td>-1</td><td>&quot;9/7/2011 12:48&quot;</td><td>4.25</td><td>14606</td><td>&quot;United Kingdom&quot;</td></tr><tr><td>&quot;C556493&quot;</td><td>&quot;82486&quot;</td><td>&quot;WOOD S/3 CABINET ANT WHITE FIN…</td><td>-1</td><td>&quot;6/12/2011 14:56&quot;</td><td>8.95</td><td>17802</td><td>&quot;United Kingdom&quot;</td></tr></tbody></table></div>"
      ],
      "text/plain": [
       "shape: (9_727, 8)\n",
       "┌───────────┬───────────┬────────────┬──────────┬────────────┬───────────┬────────────┬────────────┐\n",
       "│ InvoiceNo ┆ StockCode ┆ Descriptio ┆ Quantity ┆ InvoiceDat ┆ UnitPrice ┆ CustomerID ┆ Country    │\n",
       "│ ---       ┆ ---       ┆ n          ┆ ---      ┆ e          ┆ ---       ┆ ---        ┆ ---        │\n",
       "│ str       ┆ str       ┆ ---        ┆ i64      ┆ ---        ┆ f64       ┆ i64        ┆ str        │\n",
       "│           ┆           ┆ str        ┆          ┆ str        ┆           ┆            ┆            │\n",
       "╞═══════════╪═══════════╪════════════╪══════════╪════════════╪═══════════╪════════════╪════════════╡\n",
       "│ C556117   ┆ 47503A    ┆ ASS FLORAL ┆ -12      ┆ 6/9/2011   ┆ 1.25      ┆ 12802      ┆ Netherland │\n",
       "│           ┆           ┆ PRINT      ┆          ┆ 9:44       ┆           ┆            ┆ s          │\n",
       "│           ┆           ┆ MULTI      ┆          ┆            ┆           ┆            ┆            │\n",
       "│           ┆           ┆ SCREWDR…   ┆          ┆            ┆           ┆            ┆            │\n",
       "│ C567686   ┆ 20728     ┆ LUNCH BAG  ┆ -10      ┆ 9/21/2011  ┆ 1.65      ┆ 17702      ┆ United     │\n",
       "│           ┆           ┆ CARS BLUE  ┆          ┆ 16:42      ┆           ┆            ┆ Kingdom    │\n",
       "│ C568416   ┆ 23168     ┆ CLASSIC    ┆ -6       ┆ 9/27/2011  ┆ 1.04      ┆ 14866      ┆ United     │\n",
       "│           ┆           ┆ CAFE SUGAR ┆          ┆ 11:08      ┆           ┆            ┆ Kingdom    │\n",
       "│           ┆           ┆ DISPENSER  ┆          ┆            ┆           ┆            ┆            │\n",
       "│ C547582   ┆ 23194     ┆ GYMKHANA   ┆ -3       ┆ 3/24/2011  ┆ 2.25      ┆ 12474      ┆ Germany    │\n",
       "│           ┆           ┆ TREASURE   ┆          ┆ 11:06      ┆           ┆            ┆            │\n",
       "│           ┆           ┆ BOOK BOX   ┆          ┆            ┆           ┆            ┆            │\n",
       "│ C541735   ┆ 22908     ┆ PACK OF 20 ┆ -2       ┆ 1/21/2011  ┆ 0.85      ┆ 12626      ┆ Germany    │\n",
       "│           ┆           ┆ NAPKINS    ┆          ┆ 11:35      ┆           ┆            ┆            │\n",
       "│           ┆           ┆ RED APPLES ┆          ┆            ┆           ┆            ┆            │\n",
       "│ …         ┆ …         ┆ …          ┆ …        ┆ …          ┆ …         ┆ …          ┆ …          │\n",
       "│ C577399   ┆ 22138     ┆ BAKING SET ┆ -1       ┆ 11/18/2011 ┆ 4.95      ┆ 13895      ┆ United     │\n",
       "│           ┆           ┆ 9 PIECE    ┆          ┆ 17:15      ┆           ┆            ┆ Kingdom    │\n",
       "│           ┆           ┆ RETROSPOT  ┆          ┆            ┆           ┆            ┆            │\n",
       "│ C569946   ┆ 22487     ┆ WHITE WOOD ┆ -4       ┆ 10/6/2011  ┆ 8.5       ┆ 16462      ┆ United     │\n",
       "│           ┆           ┆ GARDEN     ┆          ┆ 18:16      ┆           ┆            ┆ Kingdom    │\n",
       "│           ┆           ┆ PLANT      ┆          ┆            ┆           ┆            ┆            │\n",
       "│           ┆           ┆ LADDER     ┆          ┆            ┆           ┆            ┆            │\n",
       "│ 579755    ┆ 84912B    ┆ damaged    ┆ -14      ┆ 11/30/2011 ┆ 0.0       ┆ null       ┆ United     │\n",
       "│           ┆           ┆            ┆          ┆ 14:54      ┆           ┆            ┆ Kingdom    │\n",
       "│ C565848   ┆ 21479     ┆ WHITE      ┆ -1       ┆ 9/7/2011   ┆ 4.25      ┆ 14606      ┆ United     │\n",
       "│           ┆           ┆ SKULL HOT  ┆          ┆ 12:48      ┆           ┆            ┆ Kingdom    │\n",
       "│           ┆           ┆ WATER      ┆          ┆            ┆           ┆            ┆            │\n",
       "│           ┆           ┆ BOTTLE     ┆          ┆            ┆           ┆            ┆            │\n",
       "│ C556493   ┆ 82486     ┆ WOOD S/3   ┆ -1       ┆ 6/12/2011  ┆ 8.95      ┆ 17802      ┆ United     │\n",
       "│           ┆           ┆ CABINET    ┆          ┆ 14:56      ┆           ┆            ┆ Kingdom    │\n",
       "│           ┆           ┆ ANT WHITE  ┆          ┆            ┆           ┆            ┆            │\n",
       "│           ┆           ┆ FIN…       ┆          ┆            ┆           ┆            ┆            │\n",
       "└───────────┴───────────┴────────────┴──────────┴────────────┴───────────┴────────────┴────────────┘"
      ]
     },
     "execution_count": 219,
     "metadata": {},
     "output_type": "execute_result"
    }
   ],
   "source": [
    "df.filter((pl.col(\"Quantity\") < 0) | (pl.col(\"UnitPrice\") < 0))\n"
   ]
  },
  {
   "cell_type": "markdown",
   "metadata": {},
   "source": [
    "EXPLICAR PORQUE LOS NEGATIVOS NO LOS VAMOS A USAR COMO DEVOLUCIONES"
   ]
  },
  {
   "cell_type": "markdown",
   "metadata": {},
   "source": [
    "Tenemos unos cuantos tambien, tanto valores negaticos en la cantidad, como en el precio por unidad. Evidentemente tenemos que eliminar estos valores negativos porque no tienen ni pies ni cabeza."
   ]
  },
  {
   "cell_type": "code",
   "execution_count": 220,
   "metadata": {},
   "outputs": [
    {
     "data": {
      "text/html": [
       "<div><style>\n",
       ".dataframe > thead > tr,\n",
       ".dataframe > tbody > tr {\n",
       "  text-align: right;\n",
       "  white-space: pre-wrap;\n",
       "}\n",
       "</style>\n",
       "<small>shape: (525_460, 8)</small><table border=\"1\" class=\"dataframe\"><thead><tr><th>InvoiceNo</th><th>StockCode</th><th>Description</th><th>Quantity</th><th>InvoiceDate</th><th>UnitPrice</th><th>CustomerID</th><th>Country</th></tr><tr><td>str</td><td>str</td><td>str</td><td>i64</td><td>str</td><td>f64</td><td>i64</td><td>str</td></tr></thead><tbody><tr><td>&quot;560225&quot;</td><td>&quot;22730&quot;</td><td>&quot;ALARM CLOCK BAKELIKE IVORY&quot;</td><td>1</td><td>&quot;7/15/2011 16:27&quot;</td><td>7.46</td><td>null</td><td>&quot;United Kingdom&quot;</td></tr><tr><td>&quot;561515&quot;</td><td>&quot;20902&quot;</td><td>&quot;VINTAGE KEEPSAKE BOX PARIS DAY…</td><td>2</td><td>&quot;7/27/2011 15:16&quot;</td><td>4.13</td><td>null</td><td>&quot;United Kingdom&quot;</td></tr><tr><td>&quot;577258&quot;</td><td>&quot;22698&quot;</td><td>&quot;PINK REGENCY TEACUP AND SAUCER&quot;</td><td>1</td><td>&quot;11/18/2011 12:27&quot;</td><td>2.95</td><td>16764</td><td>&quot;United Kingdom&quot;</td></tr><tr><td>&quot;578263&quot;</td><td>&quot;85019B&quot;</td><td>&quot;BLOSSOM&nbsp;&nbsp;IMAGES NOTEBOOK SET&quot;</td><td>24</td><td>&quot;11/23/2011 13:27&quot;</td><td>1.25</td><td>17422</td><td>&quot;United Kingdom&quot;</td></tr><tr><td>&quot;552018&quot;</td><td>&quot;22431&quot;</td><td>&quot;WATERING CAN BLUE ELEPHANT&quot;</td><td>6</td><td>&quot;5/5/2011 17:42&quot;</td><td>1.95</td><td>16817</td><td>&quot;United Kingdom&quot;</td></tr><tr><td>&hellip;</td><td>&hellip;</td><td>&hellip;</td><td>&hellip;</td><td>&hellip;</td><td>&hellip;</td><td>&hellip;</td><td>&hellip;</td></tr><tr><td>&quot;536846&quot;</td><td>&quot;22469&quot;</td><td>&quot;HEART OF WICKER SMALL&quot;</td><td>2</td><td>&quot;12/2/2010 19:59&quot;</td><td>1.65</td><td>14573</td><td>&quot;United Kingdom&quot;</td></tr><tr><td>&quot;563094&quot;</td><td>&quot;22154&quot;</td><td>&quot;ANGEL DECORATION 3 BUTTONS &quot;</td><td>48</td><td>&quot;8/11/2011 17:35&quot;</td><td>0.42</td><td>14525</td><td>&quot;United Kingdom&quot;</td></tr><tr><td>&quot;548700&quot;</td><td>&quot;22981&quot;</td><td>&quot;PANTRY APPLE CORER&quot;</td><td>1</td><td>&quot;4/3/2011 11:11&quot;</td><td>1.45</td><td>13623</td><td>&quot;United Kingdom&quot;</td></tr><tr><td>&quot;542716&quot;</td><td>&quot;22296&quot;</td><td>&quot;HEART IVORY TRELLIS LARGE&quot;</td><td>24</td><td>&quot;1/31/2011 14:02&quot;</td><td>1.65</td><td>16407</td><td>&quot;United Kingdom&quot;</td></tr><tr><td>&quot;554489&quot;</td><td>&quot;22434&quot;</td><td>&quot;BALLOON PUMP WITH 10 BALLOONS&quot;</td><td>8</td><td>&quot;5/24/2011 13:46&quot;</td><td>1.95</td><td>17272</td><td>&quot;United Kingdom&quot;</td></tr></tbody></table></div>"
      ],
      "text/plain": [
       "shape: (525_460, 8)\n",
       "┌───────────┬───────────┬──────────────┬──────────┬─────────────┬───────────┬────────────┬─────────┐\n",
       "│ InvoiceNo ┆ StockCode ┆ Description  ┆ Quantity ┆ InvoiceDate ┆ UnitPrice ┆ CustomerID ┆ Country │\n",
       "│ ---       ┆ ---       ┆ ---          ┆ ---      ┆ ---         ┆ ---       ┆ ---        ┆ ---     │\n",
       "│ str       ┆ str       ┆ str          ┆ i64      ┆ str         ┆ f64       ┆ i64        ┆ str     │\n",
       "╞═══════════╪═══════════╪══════════════╪══════════╪═════════════╪═══════════╪════════════╪═════════╡\n",
       "│ 560225    ┆ 22730     ┆ ALARM CLOCK  ┆ 1        ┆ 7/15/2011   ┆ 7.46      ┆ null       ┆ United  │\n",
       "│           ┆           ┆ BAKELIKE     ┆          ┆ 16:27       ┆           ┆            ┆ Kingdom │\n",
       "│           ┆           ┆ IVORY        ┆          ┆             ┆           ┆            ┆         │\n",
       "│ 561515    ┆ 20902     ┆ VINTAGE      ┆ 2        ┆ 7/27/2011   ┆ 4.13      ┆ null       ┆ United  │\n",
       "│           ┆           ┆ KEEPSAKE BOX ┆          ┆ 15:16       ┆           ┆            ┆ Kingdom │\n",
       "│           ┆           ┆ PARIS DAY…   ┆          ┆             ┆           ┆            ┆         │\n",
       "│ 577258    ┆ 22698     ┆ PINK REGENCY ┆ 1        ┆ 11/18/2011  ┆ 2.95      ┆ 16764      ┆ United  │\n",
       "│           ┆           ┆ TEACUP AND   ┆          ┆ 12:27       ┆           ┆            ┆ Kingdom │\n",
       "│           ┆           ┆ SAUCER       ┆          ┆             ┆           ┆            ┆         │\n",
       "│ 578263    ┆ 85019B    ┆ BLOSSOM      ┆ 24       ┆ 11/23/2011  ┆ 1.25      ┆ 17422      ┆ United  │\n",
       "│           ┆           ┆ IMAGES       ┆          ┆ 13:27       ┆           ┆            ┆ Kingdom │\n",
       "│           ┆           ┆ NOTEBOOK SET ┆          ┆             ┆           ┆            ┆         │\n",
       "│ 552018    ┆ 22431     ┆ WATERING CAN ┆ 6        ┆ 5/5/2011    ┆ 1.95      ┆ 16817      ┆ United  │\n",
       "│           ┆           ┆ BLUE         ┆          ┆ 17:42       ┆           ┆            ┆ Kingdom │\n",
       "│           ┆           ┆ ELEPHANT     ┆          ┆             ┆           ┆            ┆         │\n",
       "│ …         ┆ …         ┆ …            ┆ …        ┆ …           ┆ …         ┆ …          ┆ …       │\n",
       "│ 536846    ┆ 22469     ┆ HEART OF     ┆ 2        ┆ 12/2/2010   ┆ 1.65      ┆ 14573      ┆ United  │\n",
       "│           ┆           ┆ WICKER SMALL ┆          ┆ 19:59       ┆           ┆            ┆ Kingdom │\n",
       "│ 563094    ┆ 22154     ┆ ANGEL        ┆ 48       ┆ 8/11/2011   ┆ 0.42      ┆ 14525      ┆ United  │\n",
       "│           ┆           ┆ DECORATION 3 ┆          ┆ 17:35       ┆           ┆            ┆ Kingdom │\n",
       "│           ┆           ┆ BUTTONS      ┆          ┆             ┆           ┆            ┆         │\n",
       "│ 548700    ┆ 22981     ┆ PANTRY APPLE ┆ 1        ┆ 4/3/2011    ┆ 1.45      ┆ 13623      ┆ United  │\n",
       "│           ┆           ┆ CORER        ┆          ┆ 11:11       ┆           ┆            ┆ Kingdom │\n",
       "│ 542716    ┆ 22296     ┆ HEART IVORY  ┆ 24       ┆ 1/31/2011   ┆ 1.65      ┆ 16407      ┆ United  │\n",
       "│           ┆           ┆ TRELLIS      ┆          ┆ 14:02       ┆           ┆            ┆ Kingdom │\n",
       "│           ┆           ┆ LARGE        ┆          ┆             ┆           ┆            ┆         │\n",
       "│ 554489    ┆ 22434     ┆ BALLOON PUMP ┆ 8        ┆ 5/24/2011   ┆ 1.95      ┆ 17272      ┆ United  │\n",
       "│           ┆           ┆ WITH 10      ┆          ┆ 13:46       ┆           ┆            ┆ Kingdom │\n",
       "│           ┆           ┆ BALLOONS     ┆          ┆             ┆           ┆            ┆         │\n",
       "└───────────┴───────────┴──────────────┴──────────┴─────────────┴───────────┴────────────┴─────────┘"
      ]
     },
     "execution_count": 220,
     "metadata": {},
     "output_type": "execute_result"
    }
   ],
   "source": [
    "df = df.filter(~((pl.col(\"Quantity\") < 0) | (pl.col(\"UnitPrice\") < 0)))\n",
    "df\n"
   ]
  },
  {
   "cell_type": "markdown",
   "metadata": {},
   "source": [
    "Es el turno de la fecha de facturacion, vamos a transformar la columna a tipo date"
   ]
  },
  {
   "cell_type": "code",
   "execution_count": 221,
   "metadata": {},
   "outputs": [
    {
     "data": {
      "text/html": [
       "<div><style>\n",
       ".dataframe > thead > tr,\n",
       ".dataframe > tbody > tr {\n",
       "  text-align: right;\n",
       "  white-space: pre-wrap;\n",
       "}\n",
       "</style>\n",
       "<small>shape: (525_460, 8)</small><table border=\"1\" class=\"dataframe\"><thead><tr><th>InvoiceNo</th><th>StockCode</th><th>Description</th><th>Quantity</th><th>InvoiceDate</th><th>UnitPrice</th><th>CustomerID</th><th>Country</th></tr><tr><td>str</td><td>str</td><td>str</td><td>i64</td><td>date</td><td>f64</td><td>i64</td><td>str</td></tr></thead><tbody><tr><td>&quot;560225&quot;</td><td>&quot;22730&quot;</td><td>&quot;ALARM CLOCK BAKELIKE IVORY&quot;</td><td>1</td><td>2011-07-15</td><td>7.46</td><td>null</td><td>&quot;United Kingdom&quot;</td></tr><tr><td>&quot;561515&quot;</td><td>&quot;20902&quot;</td><td>&quot;VINTAGE KEEPSAKE BOX PARIS DAY…</td><td>2</td><td>2011-07-27</td><td>4.13</td><td>null</td><td>&quot;United Kingdom&quot;</td></tr><tr><td>&quot;577258&quot;</td><td>&quot;22698&quot;</td><td>&quot;PINK REGENCY TEACUP AND SAUCER&quot;</td><td>1</td><td>2011-11-18</td><td>2.95</td><td>16764</td><td>&quot;United Kingdom&quot;</td></tr><tr><td>&quot;578263&quot;</td><td>&quot;85019B&quot;</td><td>&quot;BLOSSOM&nbsp;&nbsp;IMAGES NOTEBOOK SET&quot;</td><td>24</td><td>2011-11-23</td><td>1.25</td><td>17422</td><td>&quot;United Kingdom&quot;</td></tr><tr><td>&quot;552018&quot;</td><td>&quot;22431&quot;</td><td>&quot;WATERING CAN BLUE ELEPHANT&quot;</td><td>6</td><td>2011-05-05</td><td>1.95</td><td>16817</td><td>&quot;United Kingdom&quot;</td></tr><tr><td>&hellip;</td><td>&hellip;</td><td>&hellip;</td><td>&hellip;</td><td>&hellip;</td><td>&hellip;</td><td>&hellip;</td><td>&hellip;</td></tr><tr><td>&quot;536846&quot;</td><td>&quot;22469&quot;</td><td>&quot;HEART OF WICKER SMALL&quot;</td><td>2</td><td>2010-12-02</td><td>1.65</td><td>14573</td><td>&quot;United Kingdom&quot;</td></tr><tr><td>&quot;563094&quot;</td><td>&quot;22154&quot;</td><td>&quot;ANGEL DECORATION 3 BUTTONS &quot;</td><td>48</td><td>2011-08-11</td><td>0.42</td><td>14525</td><td>&quot;United Kingdom&quot;</td></tr><tr><td>&quot;548700&quot;</td><td>&quot;22981&quot;</td><td>&quot;PANTRY APPLE CORER&quot;</td><td>1</td><td>2011-04-03</td><td>1.45</td><td>13623</td><td>&quot;United Kingdom&quot;</td></tr><tr><td>&quot;542716&quot;</td><td>&quot;22296&quot;</td><td>&quot;HEART IVORY TRELLIS LARGE&quot;</td><td>24</td><td>2011-01-31</td><td>1.65</td><td>16407</td><td>&quot;United Kingdom&quot;</td></tr><tr><td>&quot;554489&quot;</td><td>&quot;22434&quot;</td><td>&quot;BALLOON PUMP WITH 10 BALLOONS&quot;</td><td>8</td><td>2011-05-24</td><td>1.95</td><td>17272</td><td>&quot;United Kingdom&quot;</td></tr></tbody></table></div>"
      ],
      "text/plain": [
       "shape: (525_460, 8)\n",
       "┌───────────┬───────────┬──────────────┬──────────┬─────────────┬───────────┬────────────┬─────────┐\n",
       "│ InvoiceNo ┆ StockCode ┆ Description  ┆ Quantity ┆ InvoiceDate ┆ UnitPrice ┆ CustomerID ┆ Country │\n",
       "│ ---       ┆ ---       ┆ ---          ┆ ---      ┆ ---         ┆ ---       ┆ ---        ┆ ---     │\n",
       "│ str       ┆ str       ┆ str          ┆ i64      ┆ date        ┆ f64       ┆ i64        ┆ str     │\n",
       "╞═══════════╪═══════════╪══════════════╪══════════╪═════════════╪═══════════╪════════════╪═════════╡\n",
       "│ 560225    ┆ 22730     ┆ ALARM CLOCK  ┆ 1        ┆ 2011-07-15  ┆ 7.46      ┆ null       ┆ United  │\n",
       "│           ┆           ┆ BAKELIKE     ┆          ┆             ┆           ┆            ┆ Kingdom │\n",
       "│           ┆           ┆ IVORY        ┆          ┆             ┆           ┆            ┆         │\n",
       "│ 561515    ┆ 20902     ┆ VINTAGE      ┆ 2        ┆ 2011-07-27  ┆ 4.13      ┆ null       ┆ United  │\n",
       "│           ┆           ┆ KEEPSAKE BOX ┆          ┆             ┆           ┆            ┆ Kingdom │\n",
       "│           ┆           ┆ PARIS DAY…   ┆          ┆             ┆           ┆            ┆         │\n",
       "│ 577258    ┆ 22698     ┆ PINK REGENCY ┆ 1        ┆ 2011-11-18  ┆ 2.95      ┆ 16764      ┆ United  │\n",
       "│           ┆           ┆ TEACUP AND   ┆          ┆             ┆           ┆            ┆ Kingdom │\n",
       "│           ┆           ┆ SAUCER       ┆          ┆             ┆           ┆            ┆         │\n",
       "│ 578263    ┆ 85019B    ┆ BLOSSOM      ┆ 24       ┆ 2011-11-23  ┆ 1.25      ┆ 17422      ┆ United  │\n",
       "│           ┆           ┆ IMAGES       ┆          ┆             ┆           ┆            ┆ Kingdom │\n",
       "│           ┆           ┆ NOTEBOOK SET ┆          ┆             ┆           ┆            ┆         │\n",
       "│ 552018    ┆ 22431     ┆ WATERING CAN ┆ 6        ┆ 2011-05-05  ┆ 1.95      ┆ 16817      ┆ United  │\n",
       "│           ┆           ┆ BLUE         ┆          ┆             ┆           ┆            ┆ Kingdom │\n",
       "│           ┆           ┆ ELEPHANT     ┆          ┆             ┆           ┆            ┆         │\n",
       "│ …         ┆ …         ┆ …            ┆ …        ┆ …           ┆ …         ┆ …          ┆ …       │\n",
       "│ 536846    ┆ 22469     ┆ HEART OF     ┆ 2        ┆ 2010-12-02  ┆ 1.65      ┆ 14573      ┆ United  │\n",
       "│           ┆           ┆ WICKER SMALL ┆          ┆             ┆           ┆            ┆ Kingdom │\n",
       "│ 563094    ┆ 22154     ┆ ANGEL        ┆ 48       ┆ 2011-08-11  ┆ 0.42      ┆ 14525      ┆ United  │\n",
       "│           ┆           ┆ DECORATION 3 ┆          ┆             ┆           ┆            ┆ Kingdom │\n",
       "│           ┆           ┆ BUTTONS      ┆          ┆             ┆           ┆            ┆         │\n",
       "│ 548700    ┆ 22981     ┆ PANTRY APPLE ┆ 1        ┆ 2011-04-03  ┆ 1.45      ┆ 13623      ┆ United  │\n",
       "│           ┆           ┆ CORER        ┆          ┆             ┆           ┆            ┆ Kingdom │\n",
       "│ 542716    ┆ 22296     ┆ HEART IVORY  ┆ 24       ┆ 2011-01-31  ┆ 1.65      ┆ 16407      ┆ United  │\n",
       "│           ┆           ┆ TRELLIS      ┆          ┆             ┆           ┆            ┆ Kingdom │\n",
       "│           ┆           ┆ LARGE        ┆          ┆             ┆           ┆            ┆         │\n",
       "│ 554489    ┆ 22434     ┆ BALLOON PUMP ┆ 8        ┆ 2011-05-24  ┆ 1.95      ┆ 17272      ┆ United  │\n",
       "│           ┆           ┆ WITH 10      ┆          ┆             ┆           ┆            ┆ Kingdom │\n",
       "│           ┆           ┆ BALLOONS     ┆          ┆             ┆           ┆            ┆         │\n",
       "└───────────┴───────────┴──────────────┴──────────┴─────────────┴───────────┴────────────┴─────────┘"
      ]
     },
     "execution_count": 221,
     "metadata": {},
     "output_type": "execute_result"
    }
   ],
   "source": [
    "df = df.with_columns(pl.col(\"InvoiceDate\").str.strptime(pl.Date, \"%m/%d/%Y %H:%M\"))\n",
    "df\n"
   ]
  },
  {
   "cell_type": "markdown",
   "metadata": {},
   "source": [
    "Lo siguiente sera buscar outliers"
   ]
  },
  {
   "cell_type": "code",
   "execution_count": 222,
   "metadata": {},
   "outputs": [
    {
     "data": {
      "text/html": [
       "<div><style>\n",
       ".dataframe > thead > tr,\n",
       ".dataframe > tbody > tr {\n",
       "  text-align: right;\n",
       "  white-space: pre-wrap;\n",
       "}\n",
       "</style>\n",
       "<small>shape: (9, 9)</small><table border=\"1\" class=\"dataframe\"><thead><tr><th>statistic</th><th>InvoiceNo</th><th>StockCode</th><th>Description</th><th>Quantity</th><th>InvoiceDate</th><th>UnitPrice</th><th>CustomerID</th><th>Country</th></tr><tr><td>str</td><td>str</td><td>str</td><td>str</td><td>f64</td><td>str</td><td>f64</td><td>f64</td><td>str</td></tr></thead><tbody><tr><td>&quot;count&quot;</td><td>&quot;525460&quot;</td><td>&quot;525460&quot;</td><td>&quot;525460&quot;</td><td>525460.0</td><td>&quot;525460&quot;</td><td>525460.0</td><td>392732.0</td><td>&quot;525460&quot;</td></tr><tr><td>&quot;null_count&quot;</td><td>&quot;0&quot;</td><td>&quot;0&quot;</td><td>&quot;0&quot;</td><td>0.0</td><td>&quot;0&quot;</td><td>0.0</td><td>132728.0</td><td>&quot;0&quot;</td></tr><tr><td>&quot;mean&quot;</td><td>null</td><td>null</td><td>null</td><td>10.68106</td><td>&quot;2011-07-04 00:41:45.379000&quot;</td><td>3.918228</td><td>15287.734822</td><td>null</td></tr><tr><td>&quot;std&quot;</td><td>null</td><td>null</td><td>null</td><td>157.39957</td><td>null</td><td>36.07327</td><td>1713.567773</td><td>null</td></tr><tr><td>&quot;min&quot;</td><td>&quot;536365&quot;</td><td>&quot;10002&quot;</td><td>&quot; 4 PURPLE FLOCK DINNER CANDLES&quot;</td><td>1.0</td><td>&quot;2010-12-01&quot;</td><td>0.0</td><td>12346.0</td><td>&quot;Australia&quot;</td></tr><tr><td>&quot;25%&quot;</td><td>null</td><td>null</td><td>null</td><td>1.0</td><td>&quot;2011-03-28&quot;</td><td>1.25</td><td>13955.0</td><td>null</td></tr><tr><td>&quot;50%&quot;</td><td>null</td><td>null</td><td>null</td><td>4.0</td><td>&quot;2011-07-20&quot;</td><td>2.08</td><td>15150.0</td><td>null</td></tr><tr><td>&quot;75%&quot;</td><td>null</td><td>null</td><td>null</td><td>11.0</td><td>&quot;2011-10-19&quot;</td><td>4.13</td><td>16791.0</td><td>null</td></tr><tr><td>&quot;max&quot;</td><td>&quot;A563185&quot;</td><td>&quot;m&quot;</td><td>&quot;wrongly sold (22719) barcode&quot;</td><td>80995.0</td><td>&quot;2011-12-09&quot;</td><td>13541.33</td><td>18287.0</td><td>&quot;Unspecified&quot;</td></tr></tbody></table></div>"
      ],
      "text/plain": [
       "shape: (9, 9)\n",
       "┌───────────┬───────────┬───────────┬───────────┬───┬───────────┬───────────┬───────────┬──────────┐\n",
       "│ statistic ┆ InvoiceNo ┆ StockCode ┆ Descripti ┆ … ┆ InvoiceDa ┆ UnitPrice ┆ CustomerI ┆ Country  │\n",
       "│ ---       ┆ ---       ┆ ---       ┆ on        ┆   ┆ te        ┆ ---       ┆ D         ┆ ---      │\n",
       "│ str       ┆ str       ┆ str       ┆ ---       ┆   ┆ ---       ┆ f64       ┆ ---       ┆ str      │\n",
       "│           ┆           ┆           ┆ str       ┆   ┆ str       ┆           ┆ f64       ┆          │\n",
       "╞═══════════╪═══════════╪═══════════╪═══════════╪═══╪═══════════╪═══════════╪═══════════╪══════════╡\n",
       "│ count     ┆ 525460    ┆ 525460    ┆ 525460    ┆ … ┆ 525460    ┆ 525460.0  ┆ 392732.0  ┆ 525460   │\n",
       "│ null_coun ┆ 0         ┆ 0         ┆ 0         ┆ … ┆ 0         ┆ 0.0       ┆ 132728.0  ┆ 0        │\n",
       "│ t         ┆           ┆           ┆           ┆   ┆           ┆           ┆           ┆          │\n",
       "│ mean      ┆ null      ┆ null      ┆ null      ┆ … ┆ 2011-07-0 ┆ 3.918228  ┆ 15287.734 ┆ null     │\n",
       "│           ┆           ┆           ┆           ┆   ┆ 4 00:41:4 ┆           ┆ 822       ┆          │\n",
       "│           ┆           ┆           ┆           ┆   ┆ 5.379000  ┆           ┆           ┆          │\n",
       "│ std       ┆ null      ┆ null      ┆ null      ┆ … ┆ null      ┆ 36.07327  ┆ 1713.5677 ┆ null     │\n",
       "│           ┆           ┆           ┆           ┆   ┆           ┆           ┆ 73        ┆          │\n",
       "│ min       ┆ 536365    ┆ 10002     ┆ 4 PURPLE  ┆ … ┆ 2010-12-0 ┆ 0.0       ┆ 12346.0   ┆ Australi │\n",
       "│           ┆           ┆           ┆ FLOCK     ┆   ┆ 1         ┆           ┆           ┆ a        │\n",
       "│           ┆           ┆           ┆ DINNER    ┆   ┆           ┆           ┆           ┆          │\n",
       "│           ┆           ┆           ┆ CANDLES   ┆   ┆           ┆           ┆           ┆          │\n",
       "│ 25%       ┆ null      ┆ null      ┆ null      ┆ … ┆ 2011-03-2 ┆ 1.25      ┆ 13955.0   ┆ null     │\n",
       "│           ┆           ┆           ┆           ┆   ┆ 8         ┆           ┆           ┆          │\n",
       "│ 50%       ┆ null      ┆ null      ┆ null      ┆ … ┆ 2011-07-2 ┆ 2.08      ┆ 15150.0   ┆ null     │\n",
       "│           ┆           ┆           ┆           ┆   ┆ 0         ┆           ┆           ┆          │\n",
       "│ 75%       ┆ null      ┆ null      ┆ null      ┆ … ┆ 2011-10-1 ┆ 4.13      ┆ 16791.0   ┆ null     │\n",
       "│           ┆           ┆           ┆           ┆   ┆ 9         ┆           ┆           ┆          │\n",
       "│ max       ┆ A563185   ┆ m         ┆ wrongly   ┆ … ┆ 2011-12-0 ┆ 13541.33  ┆ 18287.0   ┆ Unspecif │\n",
       "│           ┆           ┆           ┆ sold      ┆   ┆ 9         ┆           ┆           ┆ ied      │\n",
       "│           ┆           ┆           ┆ (22719)   ┆   ┆           ┆           ┆           ┆          │\n",
       "│           ┆           ┆           ┆ barcode   ┆   ┆           ┆           ┆           ┆          │\n",
       "└───────────┴───────────┴───────────┴───────────┴───┴───────────┴───────────┴───────────┴──────────┘"
      ]
     },
     "execution_count": 222,
     "metadata": {},
     "output_type": "execute_result"
    }
   ],
   "source": [
    "df.describe()\n"
   ]
  },
  {
   "cell_type": "markdown",
   "metadata": {},
   "source": [
    "Encontramos cosas un poco raras:\n",
    "\n",
    "El valor minimo de precio por unidad no puede ser 0, aunque puedan ser regalos que se hacen al comprar ciertos articulos es algo excepcional y necesitamos calcular las ventas por dia lo mas normalizadas posibles.\n",
    "filtraremos por un minimo de .1"
   ]
  },
  {
   "cell_type": "code",
   "execution_count": 223,
   "metadata": {},
   "outputs": [
    {
     "data": {
      "text/html": [
       "<div><style>\n",
       ".dataframe > thead > tr,\n",
       ".dataframe > tbody > tr {\n",
       "  text-align: right;\n",
       "  white-space: pre-wrap;\n",
       "}\n",
       "</style>\n",
       "<small>shape: (829, 8)</small><table border=\"1\" class=\"dataframe\"><thead><tr><th>InvoiceNo</th><th>StockCode</th><th>Description</th><th>Quantity</th><th>InvoiceDate</th><th>UnitPrice</th><th>CustomerID</th><th>Country</th></tr><tr><td>str</td><td>str</td><td>str</td><td>i64</td><td>date</td><td>f64</td><td>i64</td><td>str</td></tr></thead><tbody><tr><td>&quot;558340&quot;</td><td>&quot;22678&quot;</td><td>&quot;FRENCH BLUE METAL DOOR SIGN 3&quot;</td><td>2</td><td>2011-06-28</td><td>0.0</td><td>null</td><td>&quot;United Kingdom&quot;</td></tr><tr><td>&quot;568703&quot;</td><td>&quot;16218&quot;</td><td>&quot;CARTOON&nbsp;&nbsp;PENCIL SHARPENERS&quot;</td><td>240</td><td>2011-09-28</td><td>0.06</td><td>12748</td><td>&quot;United Kingdom&quot;</td></tr><tr><td>&quot;559466&quot;</td><td>&quot;17136A&quot;</td><td>&quot;BLUE STONES ON WIRE FOR CANDLE&quot;</td><td>24</td><td>2011-07-08</td><td>0.08</td><td>15679</td><td>&quot;United Kingdom&quot;</td></tr><tr><td>&quot;545176&quot;</td><td>&quot;20615&quot;</td><td>&quot;BLUE POLKADOT PASSPORT COVER&quot;</td><td>3</td><td>2011-02-28</td><td>0.0</td><td>null</td><td>&quot;United Kingdom&quot;</td></tr><tr><td>&quot;577947&quot;</td><td>&quot;21992&quot;</td><td>&quot;check&quot;</td><td>13</td><td>2011-11-22</td><td>0.0</td><td>null</td><td>&quot;United Kingdom&quot;</td></tr><tr><td>&hellip;</td><td>&hellip;</td><td>&hellip;</td><td>&hellip;</td><td>&hellip;</td><td>&hellip;</td><td>&hellip;</td><td>&hellip;</td></tr><tr><td>&quot;538348&quot;</td><td>&quot;22734&quot;</td><td>&quot;amazon&quot;</td><td>30</td><td>2010-12-10</td><td>0.0</td><td>null</td><td>&quot;United Kingdom&quot;</td></tr><tr><td>&quot;540832&quot;</td><td>&quot;20724&quot;</td><td>&quot;RED RETROSPOT CHARLOTTE BAG&quot;</td><td>1</td><td>2011-01-11</td><td>0.0</td><td>null</td><td>&quot;United Kingdom&quot;</td></tr><tr><td>&quot;537534&quot;</td><td>&quot;22524&quot;</td><td>&quot;CHILDRENS GARDEN GLOVES BLUE&quot;</td><td>3</td><td>2010-12-07</td><td>0.0</td><td>null</td><td>&quot;United Kingdom&quot;</td></tr><tr><td>&quot;558340&quot;</td><td>&quot;48184&quot;</td><td>&quot;DOORMAT ENGLISH ROSE &quot;</td><td>3</td><td>2011-06-28</td><td>0.0</td><td>null</td><td>&quot;United Kingdom&quot;</td></tr><tr><td>&quot;537534&quot;</td><td>&quot;21116&quot;</td><td>&quot;OWL DOORSTOP&quot;</td><td>1</td><td>2010-12-07</td><td>0.0</td><td>null</td><td>&quot;United Kingdom&quot;</td></tr></tbody></table></div>"
      ],
      "text/plain": [
       "shape: (829, 8)\n",
       "┌───────────┬───────────┬──────────────┬──────────┬─────────────┬───────────┬────────────┬─────────┐\n",
       "│ InvoiceNo ┆ StockCode ┆ Description  ┆ Quantity ┆ InvoiceDate ┆ UnitPrice ┆ CustomerID ┆ Country │\n",
       "│ ---       ┆ ---       ┆ ---          ┆ ---      ┆ ---         ┆ ---       ┆ ---        ┆ ---     │\n",
       "│ str       ┆ str       ┆ str          ┆ i64      ┆ date        ┆ f64       ┆ i64        ┆ str     │\n",
       "╞═══════════╪═══════════╪══════════════╪══════════╪═════════════╪═══════════╪════════════╪═════════╡\n",
       "│ 558340    ┆ 22678     ┆ FRENCH BLUE  ┆ 2        ┆ 2011-06-28  ┆ 0.0       ┆ null       ┆ United  │\n",
       "│           ┆           ┆ METAL DOOR   ┆          ┆             ┆           ┆            ┆ Kingdom │\n",
       "│           ┆           ┆ SIGN 3       ┆          ┆             ┆           ┆            ┆         │\n",
       "│ 568703    ┆ 16218     ┆ CARTOON      ┆ 240      ┆ 2011-09-28  ┆ 0.06      ┆ 12748      ┆ United  │\n",
       "│           ┆           ┆ PENCIL       ┆          ┆             ┆           ┆            ┆ Kingdom │\n",
       "│           ┆           ┆ SHARPENERS   ┆          ┆             ┆           ┆            ┆         │\n",
       "│ 559466    ┆ 17136A    ┆ BLUE STONES  ┆ 24       ┆ 2011-07-08  ┆ 0.08      ┆ 15679      ┆ United  │\n",
       "│           ┆           ┆ ON WIRE FOR  ┆          ┆             ┆           ┆            ┆ Kingdom │\n",
       "│           ┆           ┆ CANDLE       ┆          ┆             ┆           ┆            ┆         │\n",
       "│ 545176    ┆ 20615     ┆ BLUE         ┆ 3        ┆ 2011-02-28  ┆ 0.0       ┆ null       ┆ United  │\n",
       "│           ┆           ┆ POLKADOT     ┆          ┆             ┆           ┆            ┆ Kingdom │\n",
       "│           ┆           ┆ PASSPORT     ┆          ┆             ┆           ┆            ┆         │\n",
       "│           ┆           ┆ COVER        ┆          ┆             ┆           ┆            ┆         │\n",
       "│ 577947    ┆ 21992     ┆ check        ┆ 13       ┆ 2011-11-22  ┆ 0.0       ┆ null       ┆ United  │\n",
       "│           ┆           ┆              ┆          ┆             ┆           ┆            ┆ Kingdom │\n",
       "│ …         ┆ …         ┆ …            ┆ …        ┆ …           ┆ …         ┆ …          ┆ …       │\n",
       "│ 538348    ┆ 22734     ┆ amazon       ┆ 30       ┆ 2010-12-10  ┆ 0.0       ┆ null       ┆ United  │\n",
       "│           ┆           ┆              ┆          ┆             ┆           ┆            ┆ Kingdom │\n",
       "│ 540832    ┆ 20724     ┆ RED          ┆ 1        ┆ 2011-01-11  ┆ 0.0       ┆ null       ┆ United  │\n",
       "│           ┆           ┆ RETROSPOT    ┆          ┆             ┆           ┆            ┆ Kingdom │\n",
       "│           ┆           ┆ CHARLOTTE    ┆          ┆             ┆           ┆            ┆         │\n",
       "│           ┆           ┆ BAG          ┆          ┆             ┆           ┆            ┆         │\n",
       "│ 537534    ┆ 22524     ┆ CHILDRENS    ┆ 3        ┆ 2010-12-07  ┆ 0.0       ┆ null       ┆ United  │\n",
       "│           ┆           ┆ GARDEN       ┆          ┆             ┆           ┆            ┆ Kingdom │\n",
       "│           ┆           ┆ GLOVES BLUE  ┆          ┆             ┆           ┆            ┆         │\n",
       "│ 558340    ┆ 48184     ┆ DOORMAT      ┆ 3        ┆ 2011-06-28  ┆ 0.0       ┆ null       ┆ United  │\n",
       "│           ┆           ┆ ENGLISH ROSE ┆          ┆             ┆           ┆            ┆ Kingdom │\n",
       "│ 537534    ┆ 21116     ┆ OWL DOORSTOP ┆ 1        ┆ 2010-12-07  ┆ 0.0       ┆ null       ┆ United  │\n",
       "│           ┆           ┆              ┆          ┆             ┆           ┆            ┆ Kingdom │\n",
       "└───────────┴───────────┴──────────────┴──────────┴─────────────┴───────────┴────────────┴─────────┘"
      ]
     },
     "execution_count": 223,
     "metadata": {},
     "output_type": "execute_result"
    }
   ],
   "source": [
    "df.filter(pl.col(\"UnitPrice\") < .1)\n"
   ]
  },
  {
   "cell_type": "markdown",
   "metadata": {},
   "source": [
    "Tenemos 40 casos que tenemos que eliminar "
   ]
  },
  {
   "cell_type": "code",
   "execution_count": 224,
   "metadata": {},
   "outputs": [
    {
     "data": {
      "text/html": [
       "<div><style>\n",
       ".dataframe > thead > tr,\n",
       ".dataframe > tbody > tr {\n",
       "  text-align: right;\n",
       "  white-space: pre-wrap;\n",
       "}\n",
       "</style>\n",
       "<small>shape: (524_578, 8)</small><table border=\"1\" class=\"dataframe\"><thead><tr><th>InvoiceNo</th><th>StockCode</th><th>Description</th><th>Quantity</th><th>InvoiceDate</th><th>UnitPrice</th><th>CustomerID</th><th>Country</th></tr><tr><td>str</td><td>str</td><td>str</td><td>i64</td><td>date</td><td>f64</td><td>i64</td><td>str</td></tr></thead><tbody><tr><td>&quot;560225&quot;</td><td>&quot;22730&quot;</td><td>&quot;ALARM CLOCK BAKELIKE IVORY&quot;</td><td>1</td><td>2011-07-15</td><td>7.46</td><td>null</td><td>&quot;United Kingdom&quot;</td></tr><tr><td>&quot;561515&quot;</td><td>&quot;20902&quot;</td><td>&quot;VINTAGE KEEPSAKE BOX PARIS DAY…</td><td>2</td><td>2011-07-27</td><td>4.13</td><td>null</td><td>&quot;United Kingdom&quot;</td></tr><tr><td>&quot;577258&quot;</td><td>&quot;22698&quot;</td><td>&quot;PINK REGENCY TEACUP AND SAUCER&quot;</td><td>1</td><td>2011-11-18</td><td>2.95</td><td>16764</td><td>&quot;United Kingdom&quot;</td></tr><tr><td>&quot;578263&quot;</td><td>&quot;85019B&quot;</td><td>&quot;BLOSSOM&nbsp;&nbsp;IMAGES NOTEBOOK SET&quot;</td><td>24</td><td>2011-11-23</td><td>1.25</td><td>17422</td><td>&quot;United Kingdom&quot;</td></tr><tr><td>&quot;552018&quot;</td><td>&quot;22431&quot;</td><td>&quot;WATERING CAN BLUE ELEPHANT&quot;</td><td>6</td><td>2011-05-05</td><td>1.95</td><td>16817</td><td>&quot;United Kingdom&quot;</td></tr><tr><td>&hellip;</td><td>&hellip;</td><td>&hellip;</td><td>&hellip;</td><td>&hellip;</td><td>&hellip;</td><td>&hellip;</td><td>&hellip;</td></tr><tr><td>&quot;536846&quot;</td><td>&quot;22469&quot;</td><td>&quot;HEART OF WICKER SMALL&quot;</td><td>2</td><td>2010-12-02</td><td>1.65</td><td>14573</td><td>&quot;United Kingdom&quot;</td></tr><tr><td>&quot;563094&quot;</td><td>&quot;22154&quot;</td><td>&quot;ANGEL DECORATION 3 BUTTONS &quot;</td><td>48</td><td>2011-08-11</td><td>0.42</td><td>14525</td><td>&quot;United Kingdom&quot;</td></tr><tr><td>&quot;548700&quot;</td><td>&quot;22981&quot;</td><td>&quot;PANTRY APPLE CORER&quot;</td><td>1</td><td>2011-04-03</td><td>1.45</td><td>13623</td><td>&quot;United Kingdom&quot;</td></tr><tr><td>&quot;542716&quot;</td><td>&quot;22296&quot;</td><td>&quot;HEART IVORY TRELLIS LARGE&quot;</td><td>24</td><td>2011-01-31</td><td>1.65</td><td>16407</td><td>&quot;United Kingdom&quot;</td></tr><tr><td>&quot;554489&quot;</td><td>&quot;22434&quot;</td><td>&quot;BALLOON PUMP WITH 10 BALLOONS&quot;</td><td>8</td><td>2011-05-24</td><td>1.95</td><td>17272</td><td>&quot;United Kingdom&quot;</td></tr></tbody></table></div>"
      ],
      "text/plain": [
       "shape: (524_578, 8)\n",
       "┌───────────┬───────────┬──────────────┬──────────┬─────────────┬───────────┬────────────┬─────────┐\n",
       "│ InvoiceNo ┆ StockCode ┆ Description  ┆ Quantity ┆ InvoiceDate ┆ UnitPrice ┆ CustomerID ┆ Country │\n",
       "│ ---       ┆ ---       ┆ ---          ┆ ---      ┆ ---         ┆ ---       ┆ ---        ┆ ---     │\n",
       "│ str       ┆ str       ┆ str          ┆ i64      ┆ date        ┆ f64       ┆ i64        ┆ str     │\n",
       "╞═══════════╪═══════════╪══════════════╪══════════╪═════════════╪═══════════╪════════════╪═════════╡\n",
       "│ 560225    ┆ 22730     ┆ ALARM CLOCK  ┆ 1        ┆ 2011-07-15  ┆ 7.46      ┆ null       ┆ United  │\n",
       "│           ┆           ┆ BAKELIKE     ┆          ┆             ┆           ┆            ┆ Kingdom │\n",
       "│           ┆           ┆ IVORY        ┆          ┆             ┆           ┆            ┆         │\n",
       "│ 561515    ┆ 20902     ┆ VINTAGE      ┆ 2        ┆ 2011-07-27  ┆ 4.13      ┆ null       ┆ United  │\n",
       "│           ┆           ┆ KEEPSAKE BOX ┆          ┆             ┆           ┆            ┆ Kingdom │\n",
       "│           ┆           ┆ PARIS DAY…   ┆          ┆             ┆           ┆            ┆         │\n",
       "│ 577258    ┆ 22698     ┆ PINK REGENCY ┆ 1        ┆ 2011-11-18  ┆ 2.95      ┆ 16764      ┆ United  │\n",
       "│           ┆           ┆ TEACUP AND   ┆          ┆             ┆           ┆            ┆ Kingdom │\n",
       "│           ┆           ┆ SAUCER       ┆          ┆             ┆           ┆            ┆         │\n",
       "│ 578263    ┆ 85019B    ┆ BLOSSOM      ┆ 24       ┆ 2011-11-23  ┆ 1.25      ┆ 17422      ┆ United  │\n",
       "│           ┆           ┆ IMAGES       ┆          ┆             ┆           ┆            ┆ Kingdom │\n",
       "│           ┆           ┆ NOTEBOOK SET ┆          ┆             ┆           ┆            ┆         │\n",
       "│ 552018    ┆ 22431     ┆ WATERING CAN ┆ 6        ┆ 2011-05-05  ┆ 1.95      ┆ 16817      ┆ United  │\n",
       "│           ┆           ┆ BLUE         ┆          ┆             ┆           ┆            ┆ Kingdom │\n",
       "│           ┆           ┆ ELEPHANT     ┆          ┆             ┆           ┆            ┆         │\n",
       "│ …         ┆ …         ┆ …            ┆ …        ┆ …           ┆ …         ┆ …          ┆ …       │\n",
       "│ 536846    ┆ 22469     ┆ HEART OF     ┆ 2        ┆ 2010-12-02  ┆ 1.65      ┆ 14573      ┆ United  │\n",
       "│           ┆           ┆ WICKER SMALL ┆          ┆             ┆           ┆            ┆ Kingdom │\n",
       "│ 563094    ┆ 22154     ┆ ANGEL        ┆ 48       ┆ 2011-08-11  ┆ 0.42      ┆ 14525      ┆ United  │\n",
       "│           ┆           ┆ DECORATION 3 ┆          ┆             ┆           ┆            ┆ Kingdom │\n",
       "│           ┆           ┆ BUTTONS      ┆          ┆             ┆           ┆            ┆         │\n",
       "│ 548700    ┆ 22981     ┆ PANTRY APPLE ┆ 1        ┆ 2011-04-03  ┆ 1.45      ┆ 13623      ┆ United  │\n",
       "│           ┆           ┆ CORER        ┆          ┆             ┆           ┆            ┆ Kingdom │\n",
       "│ 542716    ┆ 22296     ┆ HEART IVORY  ┆ 24       ┆ 2011-01-31  ┆ 1.65      ┆ 16407      ┆ United  │\n",
       "│           ┆           ┆ TRELLIS      ┆          ┆             ┆           ┆            ┆ Kingdom │\n",
       "│           ┆           ┆ LARGE        ┆          ┆             ┆           ┆            ┆         │\n",
       "│ 554489    ┆ 22434     ┆ BALLOON PUMP ┆ 8        ┆ 2011-05-24  ┆ 1.95      ┆ 17272      ┆ United  │\n",
       "│           ┆           ┆ WITH 10      ┆          ┆             ┆           ┆            ┆ Kingdom │\n",
       "│           ┆           ┆ BALLOONS     ┆          ┆             ┆           ┆            ┆         │\n",
       "└───────────┴───────────┴──────────────┴──────────┴─────────────┴───────────┴────────────┴─────────┘"
      ]
     },
     "execution_count": 224,
     "metadata": {},
     "output_type": "execute_result"
    }
   ],
   "source": [
    "df = df.filter(pl.col(\"UnitPrice\") > .1)\n",
    "df\n"
   ]
  },
  {
   "cell_type": "markdown",
   "metadata": {},
   "source": [
    "Siguiendo con las cosas un poco raras que habiamos detectado, en la parte de country habiamos visto un \"unspecified\""
   ]
  },
  {
   "cell_type": "code",
   "execution_count": 225,
   "metadata": {},
   "outputs": [
    {
     "data": {
      "text/html": [
       "<div><style>\n",
       ".dataframe > thead > tr,\n",
       ".dataframe > tbody > tr {\n",
       "  text-align: right;\n",
       "  white-space: pre-wrap;\n",
       "}\n",
       "</style>\n",
       "<small>shape: (442, 8)</small><table border=\"1\" class=\"dataframe\"><thead><tr><th>InvoiceNo</th><th>StockCode</th><th>Description</th><th>Quantity</th><th>InvoiceDate</th><th>UnitPrice</th><th>CustomerID</th><th>Country</th></tr><tr><td>str</td><td>str</td><td>str</td><td>i64</td><td>date</td><td>f64</td><td>i64</td><td>str</td></tr></thead><tbody><tr><td>&quot;561658&quot;</td><td>&quot;22900&quot;</td><td>&quot;SET 2 TEA TOWELS I LOVE LONDON…</td><td>1</td><td>2011-07-28</td><td>3.25</td><td>12743</td><td>&quot;Unspecified&quot;</td></tr><tr><td>&quot;561661&quot;</td><td>&quot;22437&quot;</td><td>&quot;SET OF 9 BLACK SKULL BALLOONS&quot;</td><td>10</td><td>2011-07-28</td><td>0.85</td><td>12743</td><td>&quot;Unspecified&quot;</td></tr><tr><td>&quot;576646&quot;</td><td>&quot;22326&quot;</td><td>&quot;ROUND SNACK BOXES SET OF4 WOOD…</td><td>6</td><td>2011-11-16</td><td>2.95</td><td>null</td><td>&quot;Unspecified&quot;</td></tr><tr><td>&quot;559521&quot;</td><td>&quot;21892&quot;</td><td>&quot;TRADITIONAL WOODEN CATCH CUP G…</td><td>8</td><td>2011-07-08</td><td>1.25</td><td>null</td><td>&quot;Unspecified&quot;</td></tr><tr><td>&quot;565303&quot;</td><td>&quot;11001&quot;</td><td>&quot;ASSTD DESIGN RACING CAR PEN&quot;</td><td>16</td><td>2011-09-02</td><td>1.69</td><td>null</td><td>&quot;Unspecified&quot;</td></tr><tr><td>&hellip;</td><td>&hellip;</td><td>&hellip;</td><td>&hellip;</td><td>&hellip;</td><td>&hellip;</td><td>&hellip;</td><td>&hellip;</td></tr><tr><td>&quot;559521&quot;</td><td>&quot;23242&quot;</td><td>&quot;TREASURE TIN BUFFALO BILL &quot;</td><td>1</td><td>2011-07-08</td><td>2.08</td><td>null</td><td>&quot;Unspecified&quot;</td></tr><tr><td>&quot;576646&quot;</td><td>&quot;22556&quot;</td><td>&quot;PLASTERS IN TIN CIRCUS PARADE &quot;</td><td>12</td><td>2011-11-16</td><td>1.65</td><td>null</td><td>&quot;Unspecified&quot;</td></tr><tr><td>&quot;565303&quot;</td><td>&quot;22540&quot;</td><td>&quot;MINI JIGSAW CIRCUS PARADE &quot;</td><td>3</td><td>2011-09-02</td><td>0.42</td><td>null</td><td>&quot;Unspecified&quot;</td></tr><tr><td>&quot;565303&quot;</td><td>&quot;22196&quot;</td><td>&quot;SMALL HEART MEASURING SPOONS&quot;</td><td>1</td><td>2011-09-02</td><td>0.85</td><td>null</td><td>&quot;Unspecified&quot;</td></tr><tr><td>&quot;561658&quot;</td><td>&quot;21733&quot;</td><td>&quot;RED HANGING HEART T-LIGHT HOLD…</td><td>1</td><td>2011-07-28</td><td>2.95</td><td>12743</td><td>&quot;Unspecified&quot;</td></tr></tbody></table></div>"
      ],
      "text/plain": [
       "shape: (442, 8)\n",
       "┌───────────┬───────────┬────────────┬──────────┬────────────┬───────────┬────────────┬────────────┐\n",
       "│ InvoiceNo ┆ StockCode ┆ Descriptio ┆ Quantity ┆ InvoiceDat ┆ UnitPrice ┆ CustomerID ┆ Country    │\n",
       "│ ---       ┆ ---       ┆ n          ┆ ---      ┆ e          ┆ ---       ┆ ---        ┆ ---        │\n",
       "│ str       ┆ str       ┆ ---        ┆ i64      ┆ ---        ┆ f64       ┆ i64        ┆ str        │\n",
       "│           ┆           ┆ str        ┆          ┆ date       ┆           ┆            ┆            │\n",
       "╞═══════════╪═══════════╪════════════╪══════════╪════════════╪═══════════╪════════════╪════════════╡\n",
       "│ 561658    ┆ 22900     ┆ SET 2 TEA  ┆ 1        ┆ 2011-07-28 ┆ 3.25      ┆ 12743      ┆ Unspecifie │\n",
       "│           ┆           ┆ TOWELS I   ┆          ┆            ┆           ┆            ┆ d          │\n",
       "│           ┆           ┆ LOVE       ┆          ┆            ┆           ┆            ┆            │\n",
       "│           ┆           ┆ LONDON…    ┆          ┆            ┆           ┆            ┆            │\n",
       "│ 561661    ┆ 22437     ┆ SET OF 9   ┆ 10       ┆ 2011-07-28 ┆ 0.85      ┆ 12743      ┆ Unspecifie │\n",
       "│           ┆           ┆ BLACK      ┆          ┆            ┆           ┆            ┆ d          │\n",
       "│           ┆           ┆ SKULL      ┆          ┆            ┆           ┆            ┆            │\n",
       "│           ┆           ┆ BALLOONS   ┆          ┆            ┆           ┆            ┆            │\n",
       "│ 576646    ┆ 22326     ┆ ROUND      ┆ 6        ┆ 2011-11-16 ┆ 2.95      ┆ null       ┆ Unspecifie │\n",
       "│           ┆           ┆ SNACK      ┆          ┆            ┆           ┆            ┆ d          │\n",
       "│           ┆           ┆ BOXES SET  ┆          ┆            ┆           ┆            ┆            │\n",
       "│           ┆           ┆ OF4 WOOD…  ┆          ┆            ┆           ┆            ┆            │\n",
       "│ 559521    ┆ 21892     ┆ TRADITIONA ┆ 8        ┆ 2011-07-08 ┆ 1.25      ┆ null       ┆ Unspecifie │\n",
       "│           ┆           ┆ L WOODEN   ┆          ┆            ┆           ┆            ┆ d          │\n",
       "│           ┆           ┆ CATCH CUP  ┆          ┆            ┆           ┆            ┆            │\n",
       "│           ┆           ┆ G…         ┆          ┆            ┆           ┆            ┆            │\n",
       "│ 565303    ┆ 11001     ┆ ASSTD      ┆ 16       ┆ 2011-09-02 ┆ 1.69      ┆ null       ┆ Unspecifie │\n",
       "│           ┆           ┆ DESIGN     ┆          ┆            ┆           ┆            ┆ d          │\n",
       "│           ┆           ┆ RACING CAR ┆          ┆            ┆           ┆            ┆            │\n",
       "│           ┆           ┆ PEN        ┆          ┆            ┆           ┆            ┆            │\n",
       "│ …         ┆ …         ┆ …          ┆ …        ┆ …          ┆ …         ┆ …          ┆ …          │\n",
       "│ 559521    ┆ 23242     ┆ TREASURE   ┆ 1        ┆ 2011-07-08 ┆ 2.08      ┆ null       ┆ Unspecifie │\n",
       "│           ┆           ┆ TIN        ┆          ┆            ┆           ┆            ┆ d          │\n",
       "│           ┆           ┆ BUFFALO    ┆          ┆            ┆           ┆            ┆            │\n",
       "│           ┆           ┆ BILL       ┆          ┆            ┆           ┆            ┆            │\n",
       "│ 576646    ┆ 22556     ┆ PLASTERS   ┆ 12       ┆ 2011-11-16 ┆ 1.65      ┆ null       ┆ Unspecifie │\n",
       "│           ┆           ┆ IN TIN     ┆          ┆            ┆           ┆            ┆ d          │\n",
       "│           ┆           ┆ CIRCUS     ┆          ┆            ┆           ┆            ┆            │\n",
       "│           ┆           ┆ PARADE     ┆          ┆            ┆           ┆            ┆            │\n",
       "│ 565303    ┆ 22540     ┆ MINI       ┆ 3        ┆ 2011-09-02 ┆ 0.42      ┆ null       ┆ Unspecifie │\n",
       "│           ┆           ┆ JIGSAW     ┆          ┆            ┆           ┆            ┆ d          │\n",
       "│           ┆           ┆ CIRCUS     ┆          ┆            ┆           ┆            ┆            │\n",
       "│           ┆           ┆ PARADE     ┆          ┆            ┆           ┆            ┆            │\n",
       "│ 565303    ┆ 22196     ┆ SMALL      ┆ 1        ┆ 2011-09-02 ┆ 0.85      ┆ null       ┆ Unspecifie │\n",
       "│           ┆           ┆ HEART      ┆          ┆            ┆           ┆            ┆ d          │\n",
       "│           ┆           ┆ MEASURING  ┆          ┆            ┆           ┆            ┆            │\n",
       "│           ┆           ┆ SPOONS     ┆          ┆            ┆           ┆            ┆            │\n",
       "│ 561658    ┆ 21733     ┆ RED        ┆ 1        ┆ 2011-07-28 ┆ 2.95      ┆ 12743      ┆ Unspecifie │\n",
       "│           ┆           ┆ HANGING    ┆          ┆            ┆           ┆            ┆ d          │\n",
       "│           ┆           ┆ HEART      ┆          ┆            ┆           ┆            ┆            │\n",
       "│           ┆           ┆ T-LIGHT    ┆          ┆            ┆           ┆            ┆            │\n",
       "│           ┆           ┆ HOLD…      ┆          ┆            ┆           ┆            ┆            │\n",
       "└───────────┴───────────┴────────────┴──────────┴────────────┴───────────┴────────────┴────────────┘"
      ]
     },
     "execution_count": 225,
     "metadata": {},
     "output_type": "execute_result"
    }
   ],
   "source": [
    "df.filter(pl.col(\"Country\") == \"Unspecified\" )\n"
   ]
  },
  {
   "cell_type": "markdown",
   "metadata": {},
   "source": [
    "Como en nuestro caso nos parece util y queremos agrupar las ventas por paises debemos eliminar las filas con \"Unspecified\""
   ]
  },
  {
   "cell_type": "code",
   "execution_count": 226,
   "metadata": {},
   "outputs": [
    {
     "data": {
      "text/html": [
       "<div><style>\n",
       ".dataframe > thead > tr,\n",
       ".dataframe > tbody > tr {\n",
       "  text-align: right;\n",
       "  white-space: pre-wrap;\n",
       "}\n",
       "</style>\n",
       "<small>shape: (524_136, 8)</small><table border=\"1\" class=\"dataframe\"><thead><tr><th>InvoiceNo</th><th>StockCode</th><th>Description</th><th>Quantity</th><th>InvoiceDate</th><th>UnitPrice</th><th>CustomerID</th><th>Country</th></tr><tr><td>str</td><td>str</td><td>str</td><td>i64</td><td>date</td><td>f64</td><td>i64</td><td>str</td></tr></thead><tbody><tr><td>&quot;560225&quot;</td><td>&quot;22730&quot;</td><td>&quot;ALARM CLOCK BAKELIKE IVORY&quot;</td><td>1</td><td>2011-07-15</td><td>7.46</td><td>null</td><td>&quot;United Kingdom&quot;</td></tr><tr><td>&quot;561515&quot;</td><td>&quot;20902&quot;</td><td>&quot;VINTAGE KEEPSAKE BOX PARIS DAY…</td><td>2</td><td>2011-07-27</td><td>4.13</td><td>null</td><td>&quot;United Kingdom&quot;</td></tr><tr><td>&quot;577258&quot;</td><td>&quot;22698&quot;</td><td>&quot;PINK REGENCY TEACUP AND SAUCER&quot;</td><td>1</td><td>2011-11-18</td><td>2.95</td><td>16764</td><td>&quot;United Kingdom&quot;</td></tr><tr><td>&quot;578263&quot;</td><td>&quot;85019B&quot;</td><td>&quot;BLOSSOM&nbsp;&nbsp;IMAGES NOTEBOOK SET&quot;</td><td>24</td><td>2011-11-23</td><td>1.25</td><td>17422</td><td>&quot;United Kingdom&quot;</td></tr><tr><td>&quot;552018&quot;</td><td>&quot;22431&quot;</td><td>&quot;WATERING CAN BLUE ELEPHANT&quot;</td><td>6</td><td>2011-05-05</td><td>1.95</td><td>16817</td><td>&quot;United Kingdom&quot;</td></tr><tr><td>&hellip;</td><td>&hellip;</td><td>&hellip;</td><td>&hellip;</td><td>&hellip;</td><td>&hellip;</td><td>&hellip;</td><td>&hellip;</td></tr><tr><td>&quot;536846&quot;</td><td>&quot;22469&quot;</td><td>&quot;HEART OF WICKER SMALL&quot;</td><td>2</td><td>2010-12-02</td><td>1.65</td><td>14573</td><td>&quot;United Kingdom&quot;</td></tr><tr><td>&quot;563094&quot;</td><td>&quot;22154&quot;</td><td>&quot;ANGEL DECORATION 3 BUTTONS &quot;</td><td>48</td><td>2011-08-11</td><td>0.42</td><td>14525</td><td>&quot;United Kingdom&quot;</td></tr><tr><td>&quot;548700&quot;</td><td>&quot;22981&quot;</td><td>&quot;PANTRY APPLE CORER&quot;</td><td>1</td><td>2011-04-03</td><td>1.45</td><td>13623</td><td>&quot;United Kingdom&quot;</td></tr><tr><td>&quot;542716&quot;</td><td>&quot;22296&quot;</td><td>&quot;HEART IVORY TRELLIS LARGE&quot;</td><td>24</td><td>2011-01-31</td><td>1.65</td><td>16407</td><td>&quot;United Kingdom&quot;</td></tr><tr><td>&quot;554489&quot;</td><td>&quot;22434&quot;</td><td>&quot;BALLOON PUMP WITH 10 BALLOONS&quot;</td><td>8</td><td>2011-05-24</td><td>1.95</td><td>17272</td><td>&quot;United Kingdom&quot;</td></tr></tbody></table></div>"
      ],
      "text/plain": [
       "shape: (524_136, 8)\n",
       "┌───────────┬───────────┬──────────────┬──────────┬─────────────┬───────────┬────────────┬─────────┐\n",
       "│ InvoiceNo ┆ StockCode ┆ Description  ┆ Quantity ┆ InvoiceDate ┆ UnitPrice ┆ CustomerID ┆ Country │\n",
       "│ ---       ┆ ---       ┆ ---          ┆ ---      ┆ ---         ┆ ---       ┆ ---        ┆ ---     │\n",
       "│ str       ┆ str       ┆ str          ┆ i64      ┆ date        ┆ f64       ┆ i64        ┆ str     │\n",
       "╞═══════════╪═══════════╪══════════════╪══════════╪═════════════╪═══════════╪════════════╪═════════╡\n",
       "│ 560225    ┆ 22730     ┆ ALARM CLOCK  ┆ 1        ┆ 2011-07-15  ┆ 7.46      ┆ null       ┆ United  │\n",
       "│           ┆           ┆ BAKELIKE     ┆          ┆             ┆           ┆            ┆ Kingdom │\n",
       "│           ┆           ┆ IVORY        ┆          ┆             ┆           ┆            ┆         │\n",
       "│ 561515    ┆ 20902     ┆ VINTAGE      ┆ 2        ┆ 2011-07-27  ┆ 4.13      ┆ null       ┆ United  │\n",
       "│           ┆           ┆ KEEPSAKE BOX ┆          ┆             ┆           ┆            ┆ Kingdom │\n",
       "│           ┆           ┆ PARIS DAY…   ┆          ┆             ┆           ┆            ┆         │\n",
       "│ 577258    ┆ 22698     ┆ PINK REGENCY ┆ 1        ┆ 2011-11-18  ┆ 2.95      ┆ 16764      ┆ United  │\n",
       "│           ┆           ┆ TEACUP AND   ┆          ┆             ┆           ┆            ┆ Kingdom │\n",
       "│           ┆           ┆ SAUCER       ┆          ┆             ┆           ┆            ┆         │\n",
       "│ 578263    ┆ 85019B    ┆ BLOSSOM      ┆ 24       ┆ 2011-11-23  ┆ 1.25      ┆ 17422      ┆ United  │\n",
       "│           ┆           ┆ IMAGES       ┆          ┆             ┆           ┆            ┆ Kingdom │\n",
       "│           ┆           ┆ NOTEBOOK SET ┆          ┆             ┆           ┆            ┆         │\n",
       "│ 552018    ┆ 22431     ┆ WATERING CAN ┆ 6        ┆ 2011-05-05  ┆ 1.95      ┆ 16817      ┆ United  │\n",
       "│           ┆           ┆ BLUE         ┆          ┆             ┆           ┆            ┆ Kingdom │\n",
       "│           ┆           ┆ ELEPHANT     ┆          ┆             ┆           ┆            ┆         │\n",
       "│ …         ┆ …         ┆ …            ┆ …        ┆ …           ┆ …         ┆ …          ┆ …       │\n",
       "│ 536846    ┆ 22469     ┆ HEART OF     ┆ 2        ┆ 2010-12-02  ┆ 1.65      ┆ 14573      ┆ United  │\n",
       "│           ┆           ┆ WICKER SMALL ┆          ┆             ┆           ┆            ┆ Kingdom │\n",
       "│ 563094    ┆ 22154     ┆ ANGEL        ┆ 48       ┆ 2011-08-11  ┆ 0.42      ┆ 14525      ┆ United  │\n",
       "│           ┆           ┆ DECORATION 3 ┆          ┆             ┆           ┆            ┆ Kingdom │\n",
       "│           ┆           ┆ BUTTONS      ┆          ┆             ┆           ┆            ┆         │\n",
       "│ 548700    ┆ 22981     ┆ PANTRY APPLE ┆ 1        ┆ 2011-04-03  ┆ 1.45      ┆ 13623      ┆ United  │\n",
       "│           ┆           ┆ CORER        ┆          ┆             ┆           ┆            ┆ Kingdom │\n",
       "│ 542716    ┆ 22296     ┆ HEART IVORY  ┆ 24       ┆ 2011-01-31  ┆ 1.65      ┆ 16407      ┆ United  │\n",
       "│           ┆           ┆ TRELLIS      ┆          ┆             ┆           ┆            ┆ Kingdom │\n",
       "│           ┆           ┆ LARGE        ┆          ┆             ┆           ┆            ┆         │\n",
       "│ 554489    ┆ 22434     ┆ BALLOON PUMP ┆ 8        ┆ 2011-05-24  ┆ 1.95      ┆ 17272      ┆ United  │\n",
       "│           ┆           ┆ WITH 10      ┆          ┆             ┆           ┆            ┆ Kingdom │\n",
       "│           ┆           ┆ BALLOONS     ┆          ┆             ┆           ┆            ┆         │\n",
       "└───────────┴───────────┴──────────────┴──────────┴─────────────┴───────────┴────────────┴─────────┘"
      ]
     },
     "execution_count": 226,
     "metadata": {},
     "output_type": "execute_result"
    }
   ],
   "source": [
    "df = df.filter(pl.col(\"Country\") != \"Unspecified\" )\n",
    "df"
   ]
  },
  {
   "cell_type": "markdown",
   "metadata": {},
   "source": [
    "Algo raro tambien es que habia valores maximos muy altos en la cantidad y en el precio, es decir tenemos claramente outliers\n",
    "\n",
    "Usaremos la formula del IQR para definir un limite superior e inferior\n",
    "\n"
   ]
  },
  {
   "cell_type": "code",
   "execution_count": 227,
   "metadata": {},
   "outputs": [
    {
     "name": "stdout",
     "output_type": "stream",
     "text": [
      "\n",
      "IQR for Quantity\n",
      "1.0 11.0 10.0 -14.0 26.0\n",
      "\n",
      "IQR for UnitPrice\n",
      "1.25 4.13 2.88 -3.0700000000000003 8.45\n"
     ]
    }
   ],
   "source": [
    "def calc_iqr_from_column_name(name:str)-> None:\n",
    "    Q1 = df[name].quantile(0.25)\n",
    "    Q3 = df[name].quantile(0.75)\n",
    "    IQR = Q3 - Q1\n",
    "\n",
    "    lower_bound = Q1 - 1.5 * IQR\n",
    "    upper_bound = Q3 + 1.5 * IQR\n",
    "\n",
    "    print(f\"\\nIQR for {name}\")\n",
    "    print(Q1, Q3, IQR, lower_bound, upper_bound)\n",
    "\n",
    "calc_iqr_from_column_name(\"Quantity\")\n",
    "calc_iqr_from_column_name(\"UnitPrice\")"
   ]
  },
  {
   "cell_type": "code",
   "execution_count": 228,
   "metadata": {},
   "outputs": [
    {
     "data": {
      "text/html": [
       "<div><style>\n",
       ".dataframe > thead > tr,\n",
       ".dataframe > tbody > tr {\n",
       "  text-align: right;\n",
       "  white-space: pre-wrap;\n",
       "}\n",
       "</style>\n",
       "<small>shape: (81_321, 8)</small><table border=\"1\" class=\"dataframe\"><thead><tr><th>InvoiceNo</th><th>StockCode</th><th>Description</th><th>Quantity</th><th>InvoiceDate</th><th>UnitPrice</th><th>CustomerID</th><th>Country</th></tr><tr><td>str</td><td>str</td><td>str</td><td>i64</td><td>date</td><td>f64</td><td>i64</td><td>str</td></tr></thead><tbody><tr><td>&quot;578270&quot;</td><td>&quot;23284&quot;</td><td>&quot;DOORMAT KEEP CALM AND COME IN&quot;</td><td>2</td><td>2011-11-23</td><td>16.63</td><td>14096</td><td>&quot;United Kingdom&quot;</td></tr><tr><td>&quot;544812&quot;</td><td>&quot;21662&quot;</td><td>&quot;VINTAGE GLASS COFFEE CADDY&quot;</td><td>1</td><td>2011-02-23</td><td>11.63</td><td>null</td><td>&quot;United Kingdom&quot;</td></tr><tr><td>&quot;537256&quot;</td><td>&quot;21137&quot;</td><td>&quot;BLACK RECORD COVER FRAME&quot;</td><td>480</td><td>2010-12-06</td><td>3.39</td><td>16210</td><td>&quot;United Kingdom&quot;</td></tr><tr><td>&quot;559204&quot;</td><td>&quot;21166&quot;</td><td>&quot;COOK WITH WINE METAL SIGN &quot;</td><td>48</td><td>2011-07-07</td><td>1.85</td><td>13798</td><td>&quot;United Kingdom&quot;</td></tr><tr><td>&quot;544672&quot;</td><td>&quot;22356&quot;</td><td>&quot;CHARLOTTE BAG PINK POLKADOT&quot;</td><td>100</td><td>2011-02-22</td><td>0.72</td><td>14646</td><td>&quot;Netherlands&quot;</td></tr><tr><td>&hellip;</td><td>&hellip;</td><td>&hellip;</td><td>&hellip;</td><td>&hellip;</td><td>&hellip;</td><td>&hellip;</td><td>&hellip;</td></tr><tr><td>&quot;540681&quot;</td><td>&quot;84968F&quot;</td><td>&quot;SET OF 16 VINTAGE SKY BLUE CUT…</td><td>1</td><td>2011-01-10</td><td>8.47</td><td>null</td><td>&quot;United Kingdom&quot;</td></tr><tr><td>&quot;551697&quot;</td><td>&quot;POST&quot;</td><td>&quot;POSTAGE&quot;</td><td>1</td><td>2011-05-03</td><td>8142.75</td><td>16029</td><td>&quot;United Kingdom&quot;</td></tr><tr><td>&quot;542602&quot;</td><td>&quot;48194&quot;</td><td>&quot;DOORMAT HEARTS&quot;</td><td>2</td><td>2011-01-30</td><td>7.95</td><td>15579</td><td>&quot;United Kingdom&quot;</td></tr><tr><td>&quot;553406&quot;</td><td>&quot;46000M&quot;</td><td>&quot;POLYESTER FILLER PAD 45x45cm&quot;</td><td>50</td><td>2011-05-17</td><td>1.55</td><td>14952</td><td>&quot;United Kingdom&quot;</td></tr><tr><td>&quot;563094&quot;</td><td>&quot;22154&quot;</td><td>&quot;ANGEL DECORATION 3 BUTTONS &quot;</td><td>48</td><td>2011-08-11</td><td>0.42</td><td>14525</td><td>&quot;United Kingdom&quot;</td></tr></tbody></table></div>"
      ],
      "text/plain": [
       "shape: (81_321, 8)\n",
       "┌───────────┬───────────┬────────────┬──────────┬────────────┬───────────┬────────────┬────────────┐\n",
       "│ InvoiceNo ┆ StockCode ┆ Descriptio ┆ Quantity ┆ InvoiceDat ┆ UnitPrice ┆ CustomerID ┆ Country    │\n",
       "│ ---       ┆ ---       ┆ n          ┆ ---      ┆ e          ┆ ---       ┆ ---        ┆ ---        │\n",
       "│ str       ┆ str       ┆ ---        ┆ i64      ┆ ---        ┆ f64       ┆ i64        ┆ str        │\n",
       "│           ┆           ┆ str        ┆          ┆ date       ┆           ┆            ┆            │\n",
       "╞═══════════╪═══════════╪════════════╪══════════╪════════════╪═══════════╪════════════╪════════════╡\n",
       "│ 578270    ┆ 23284     ┆ DOORMAT    ┆ 2        ┆ 2011-11-23 ┆ 16.63     ┆ 14096      ┆ United     │\n",
       "│           ┆           ┆ KEEP CALM  ┆          ┆            ┆           ┆            ┆ Kingdom    │\n",
       "│           ┆           ┆ AND COME   ┆          ┆            ┆           ┆            ┆            │\n",
       "│           ┆           ┆ IN         ┆          ┆            ┆           ┆            ┆            │\n",
       "│ 544812    ┆ 21662     ┆ VINTAGE    ┆ 1        ┆ 2011-02-23 ┆ 11.63     ┆ null       ┆ United     │\n",
       "│           ┆           ┆ GLASS      ┆          ┆            ┆           ┆            ┆ Kingdom    │\n",
       "│           ┆           ┆ COFFEE     ┆          ┆            ┆           ┆            ┆            │\n",
       "│           ┆           ┆ CADDY      ┆          ┆            ┆           ┆            ┆            │\n",
       "│ 537256    ┆ 21137     ┆ BLACK      ┆ 480      ┆ 2010-12-06 ┆ 3.39      ┆ 16210      ┆ United     │\n",
       "│           ┆           ┆ RECORD     ┆          ┆            ┆           ┆            ┆ Kingdom    │\n",
       "│           ┆           ┆ COVER      ┆          ┆            ┆           ┆            ┆            │\n",
       "│           ┆           ┆ FRAME      ┆          ┆            ┆           ┆            ┆            │\n",
       "│ 559204    ┆ 21166     ┆ COOK WITH  ┆ 48       ┆ 2011-07-07 ┆ 1.85      ┆ 13798      ┆ United     │\n",
       "│           ┆           ┆ WINE METAL ┆          ┆            ┆           ┆            ┆ Kingdom    │\n",
       "│           ┆           ┆ SIGN       ┆          ┆            ┆           ┆            ┆            │\n",
       "│ 544672    ┆ 22356     ┆ CHARLOTTE  ┆ 100      ┆ 2011-02-22 ┆ 0.72      ┆ 14646      ┆ Netherland │\n",
       "│           ┆           ┆ BAG PINK   ┆          ┆            ┆           ┆            ┆ s          │\n",
       "│           ┆           ┆ POLKADOT   ┆          ┆            ┆           ┆            ┆            │\n",
       "│ …         ┆ …         ┆ …          ┆ …        ┆ …          ┆ …         ┆ …          ┆ …          │\n",
       "│ 540681    ┆ 84968F    ┆ SET OF 16  ┆ 1        ┆ 2011-01-10 ┆ 8.47      ┆ null       ┆ United     │\n",
       "│           ┆           ┆ VINTAGE    ┆          ┆            ┆           ┆            ┆ Kingdom    │\n",
       "│           ┆           ┆ SKY BLUE   ┆          ┆            ┆           ┆            ┆            │\n",
       "│           ┆           ┆ CUT…       ┆          ┆            ┆           ┆            ┆            │\n",
       "│ 551697    ┆ POST      ┆ POSTAGE    ┆ 1        ┆ 2011-05-03 ┆ 8142.75   ┆ 16029      ┆ United     │\n",
       "│           ┆           ┆            ┆          ┆            ┆           ┆            ┆ Kingdom    │\n",
       "│ 542602    ┆ 48194     ┆ DOORMAT    ┆ 2        ┆ 2011-01-30 ┆ 7.95      ┆ 15579      ┆ United     │\n",
       "│           ┆           ┆ HEARTS     ┆          ┆            ┆           ┆            ┆ Kingdom    │\n",
       "│ 553406    ┆ 46000M    ┆ POLYESTER  ┆ 50       ┆ 2011-05-17 ┆ 1.55      ┆ 14952      ┆ United     │\n",
       "│           ┆           ┆ FILLER PAD ┆          ┆            ┆           ┆            ┆ Kingdom    │\n",
       "│           ┆           ┆ 45x45cm    ┆          ┆            ┆           ┆            ┆            │\n",
       "│ 563094    ┆ 22154     ┆ ANGEL      ┆ 48       ┆ 2011-08-11 ┆ 0.42      ┆ 14525      ┆ United     │\n",
       "│           ┆           ┆ DECORATION ┆          ┆            ┆           ┆            ┆ Kingdom    │\n",
       "│           ┆           ┆ 3 BUTTONS  ┆          ┆            ┆           ┆            ┆            │\n",
       "└───────────┴───────────┴────────────┴──────────┴────────────┴───────────┴────────────┴────────────┘"
      ]
     },
     "execution_count": 228,
     "metadata": {},
     "output_type": "execute_result"
    }
   ],
   "source": [
    "upper_bound_limit_condition = (pl.col(\"Quantity\") > 27) | (pl.col(\"UnitPrice\") > 7.5)\n",
    "\n",
    "df.filter(upper_bound_limit_condition)"
   ]
  },
  {
   "cell_type": "markdown",
   "metadata": {},
   "source": [
    "Eliminariamos bastantes, pero estaria lo mas normalizado posible, procedemos a eliminarlos"
   ]
  },
  {
   "cell_type": "code",
   "execution_count": 229,
   "metadata": {},
   "outputs": [
    {
     "data": {
      "text/html": [
       "<div><style>\n",
       ".dataframe > thead > tr,\n",
       ".dataframe > tbody > tr {\n",
       "  text-align: right;\n",
       "  white-space: pre-wrap;\n",
       "}\n",
       "</style>\n",
       "<small>shape: (442_815, 8)</small><table border=\"1\" class=\"dataframe\"><thead><tr><th>InvoiceNo</th><th>StockCode</th><th>Description</th><th>Quantity</th><th>InvoiceDate</th><th>UnitPrice</th><th>CustomerID</th><th>Country</th></tr><tr><td>str</td><td>str</td><td>str</td><td>i64</td><td>date</td><td>f64</td><td>i64</td><td>str</td></tr></thead><tbody><tr><td>&quot;560225&quot;</td><td>&quot;22730&quot;</td><td>&quot;ALARM CLOCK BAKELIKE IVORY&quot;</td><td>1</td><td>2011-07-15</td><td>7.46</td><td>null</td><td>&quot;United Kingdom&quot;</td></tr><tr><td>&quot;561515&quot;</td><td>&quot;20902&quot;</td><td>&quot;VINTAGE KEEPSAKE BOX PARIS DAY…</td><td>2</td><td>2011-07-27</td><td>4.13</td><td>null</td><td>&quot;United Kingdom&quot;</td></tr><tr><td>&quot;577258&quot;</td><td>&quot;22698&quot;</td><td>&quot;PINK REGENCY TEACUP AND SAUCER&quot;</td><td>1</td><td>2011-11-18</td><td>2.95</td><td>16764</td><td>&quot;United Kingdom&quot;</td></tr><tr><td>&quot;578263&quot;</td><td>&quot;85019B&quot;</td><td>&quot;BLOSSOM&nbsp;&nbsp;IMAGES NOTEBOOK SET&quot;</td><td>24</td><td>2011-11-23</td><td>1.25</td><td>17422</td><td>&quot;United Kingdom&quot;</td></tr><tr><td>&quot;552018&quot;</td><td>&quot;22431&quot;</td><td>&quot;WATERING CAN BLUE ELEPHANT&quot;</td><td>6</td><td>2011-05-05</td><td>1.95</td><td>16817</td><td>&quot;United Kingdom&quot;</td></tr><tr><td>&hellip;</td><td>&hellip;</td><td>&hellip;</td><td>&hellip;</td><td>&hellip;</td><td>&hellip;</td><td>&hellip;</td><td>&hellip;</td></tr><tr><td>&quot;545154&quot;</td><td>&quot;22780&quot;</td><td>&quot;LIGHT GARLAND BUTTERFILES PINK&quot;</td><td>4</td><td>2011-02-28</td><td>4.25</td><td>12921</td><td>&quot;United Kingdom&quot;</td></tr><tr><td>&quot;536846&quot;</td><td>&quot;22469&quot;</td><td>&quot;HEART OF WICKER SMALL&quot;</td><td>2</td><td>2010-12-02</td><td>1.65</td><td>14573</td><td>&quot;United Kingdom&quot;</td></tr><tr><td>&quot;548700&quot;</td><td>&quot;22981&quot;</td><td>&quot;PANTRY APPLE CORER&quot;</td><td>1</td><td>2011-04-03</td><td>1.45</td><td>13623</td><td>&quot;United Kingdom&quot;</td></tr><tr><td>&quot;542716&quot;</td><td>&quot;22296&quot;</td><td>&quot;HEART IVORY TRELLIS LARGE&quot;</td><td>24</td><td>2011-01-31</td><td>1.65</td><td>16407</td><td>&quot;United Kingdom&quot;</td></tr><tr><td>&quot;554489&quot;</td><td>&quot;22434&quot;</td><td>&quot;BALLOON PUMP WITH 10 BALLOONS&quot;</td><td>8</td><td>2011-05-24</td><td>1.95</td><td>17272</td><td>&quot;United Kingdom&quot;</td></tr></tbody></table></div>"
      ],
      "text/plain": [
       "shape: (442_815, 8)\n",
       "┌───────────┬───────────┬──────────────┬──────────┬─────────────┬───────────┬────────────┬─────────┐\n",
       "│ InvoiceNo ┆ StockCode ┆ Description  ┆ Quantity ┆ InvoiceDate ┆ UnitPrice ┆ CustomerID ┆ Country │\n",
       "│ ---       ┆ ---       ┆ ---          ┆ ---      ┆ ---         ┆ ---       ┆ ---        ┆ ---     │\n",
       "│ str       ┆ str       ┆ str          ┆ i64      ┆ date        ┆ f64       ┆ i64        ┆ str     │\n",
       "╞═══════════╪═══════════╪══════════════╪══════════╪═════════════╪═══════════╪════════════╪═════════╡\n",
       "│ 560225    ┆ 22730     ┆ ALARM CLOCK  ┆ 1        ┆ 2011-07-15  ┆ 7.46      ┆ null       ┆ United  │\n",
       "│           ┆           ┆ BAKELIKE     ┆          ┆             ┆           ┆            ┆ Kingdom │\n",
       "│           ┆           ┆ IVORY        ┆          ┆             ┆           ┆            ┆         │\n",
       "│ 561515    ┆ 20902     ┆ VINTAGE      ┆ 2        ┆ 2011-07-27  ┆ 4.13      ┆ null       ┆ United  │\n",
       "│           ┆           ┆ KEEPSAKE BOX ┆          ┆             ┆           ┆            ┆ Kingdom │\n",
       "│           ┆           ┆ PARIS DAY…   ┆          ┆             ┆           ┆            ┆         │\n",
       "│ 577258    ┆ 22698     ┆ PINK REGENCY ┆ 1        ┆ 2011-11-18  ┆ 2.95      ┆ 16764      ┆ United  │\n",
       "│           ┆           ┆ TEACUP AND   ┆          ┆             ┆           ┆            ┆ Kingdom │\n",
       "│           ┆           ┆ SAUCER       ┆          ┆             ┆           ┆            ┆         │\n",
       "│ 578263    ┆ 85019B    ┆ BLOSSOM      ┆ 24       ┆ 2011-11-23  ┆ 1.25      ┆ 17422      ┆ United  │\n",
       "│           ┆           ┆ IMAGES       ┆          ┆             ┆           ┆            ┆ Kingdom │\n",
       "│           ┆           ┆ NOTEBOOK SET ┆          ┆             ┆           ┆            ┆         │\n",
       "│ 552018    ┆ 22431     ┆ WATERING CAN ┆ 6        ┆ 2011-05-05  ┆ 1.95      ┆ 16817      ┆ United  │\n",
       "│           ┆           ┆ BLUE         ┆          ┆             ┆           ┆            ┆ Kingdom │\n",
       "│           ┆           ┆ ELEPHANT     ┆          ┆             ┆           ┆            ┆         │\n",
       "│ …         ┆ …         ┆ …            ┆ …        ┆ …           ┆ …         ┆ …          ┆ …       │\n",
       "│ 545154    ┆ 22780     ┆ LIGHT        ┆ 4        ┆ 2011-02-28  ┆ 4.25      ┆ 12921      ┆ United  │\n",
       "│           ┆           ┆ GARLAND      ┆          ┆             ┆           ┆            ┆ Kingdom │\n",
       "│           ┆           ┆ BUTTERFILES  ┆          ┆             ┆           ┆            ┆         │\n",
       "│           ┆           ┆ PINK         ┆          ┆             ┆           ┆            ┆         │\n",
       "│ 536846    ┆ 22469     ┆ HEART OF     ┆ 2        ┆ 2010-12-02  ┆ 1.65      ┆ 14573      ┆ United  │\n",
       "│           ┆           ┆ WICKER SMALL ┆          ┆             ┆           ┆            ┆ Kingdom │\n",
       "│ 548700    ┆ 22981     ┆ PANTRY APPLE ┆ 1        ┆ 2011-04-03  ┆ 1.45      ┆ 13623      ┆ United  │\n",
       "│           ┆           ┆ CORER        ┆          ┆             ┆           ┆            ┆ Kingdom │\n",
       "│ 542716    ┆ 22296     ┆ HEART IVORY  ┆ 24       ┆ 2011-01-31  ┆ 1.65      ┆ 16407      ┆ United  │\n",
       "│           ┆           ┆ TRELLIS      ┆          ┆             ┆           ┆            ┆ Kingdom │\n",
       "│           ┆           ┆ LARGE        ┆          ┆             ┆           ┆            ┆         │\n",
       "│ 554489    ┆ 22434     ┆ BALLOON PUMP ┆ 8        ┆ 2011-05-24  ┆ 1.95      ┆ 17272      ┆ United  │\n",
       "│           ┆           ┆ WITH 10      ┆          ┆             ┆           ┆            ┆ Kingdom │\n",
       "│           ┆           ┆ BALLOONS     ┆          ┆             ┆           ┆            ┆         │\n",
       "└───────────┴───────────┴──────────────┴──────────┴─────────────┴───────────┴────────────┴─────────┘"
      ]
     },
     "execution_count": 229,
     "metadata": {},
     "output_type": "execute_result"
    }
   ],
   "source": [
    "df = df.filter(~((pl.col(\"Quantity\") > 27) | (pl.col(\"UnitPrice\") > 7.5)))\n",
    "df"
   ]
  },
  {
   "cell_type": "code",
   "execution_count": 230,
   "metadata": {},
   "outputs": [
    {
     "data": {
      "text/html": [
       "<div><style>\n",
       ".dataframe > thead > tr,\n",
       ".dataframe > tbody > tr {\n",
       "  text-align: right;\n",
       "  white-space: pre-wrap;\n",
       "}\n",
       "</style>\n",
       "<small>shape: (9, 9)</small><table border=\"1\" class=\"dataframe\"><thead><tr><th>statistic</th><th>InvoiceNo</th><th>StockCode</th><th>Description</th><th>Quantity</th><th>InvoiceDate</th><th>UnitPrice</th><th>CustomerID</th><th>Country</th></tr><tr><td>str</td><td>str</td><td>str</td><td>str</td><td>f64</td><td>str</td><td>f64</td><td>f64</td><td>str</td></tr></thead><tbody><tr><td>&quot;count&quot;</td><td>&quot;442815&quot;</td><td>&quot;442815&quot;</td><td>&quot;442815&quot;</td><td>442815.0</td><td>&quot;442815&quot;</td><td>442815.0</td><td>332940.0</td><td>&quot;442815&quot;</td></tr><tr><td>&quot;null_count&quot;</td><td>&quot;0&quot;</td><td>&quot;0&quot;</td><td>&quot;0&quot;</td><td>0.0</td><td>&quot;0&quot;</td><td>0.0</td><td>109875.0</td><td>&quot;0&quot;</td></tr><tr><td>&quot;mean&quot;</td><td>null</td><td>null</td><td>null</td><td>6.33038</td><td>&quot;2011-07-05 19:17:40.866000&quot;</td><td>2.388613</td><td>15319.914015</td><td>null</td></tr><tr><td>&quot;std&quot;</td><td>null</td><td>null</td><td>null</td><td>6.458147</td><td>null</td><td>1.630417</td><td>1710.808483</td><td>null</td></tr><tr><td>&quot;min&quot;</td><td>&quot;536365&quot;</td><td>&quot;10002&quot;</td><td>&quot; 4 PURPLE FLOCK DINNER CANDLES&quot;</td><td>1.0</td><td>&quot;2010-12-01&quot;</td><td>0.12</td><td>12347.0</td><td>&quot;Australia&quot;</td></tr><tr><td>&quot;25%&quot;</td><td>null</td><td>null</td><td>null</td><td>1.0</td><td>&quot;2011-03-29&quot;</td><td>1.25</td><td>13988.0</td><td>null</td></tr><tr><td>&quot;50%&quot;</td><td>null</td><td>null</td><td>null</td><td>4.0</td><td>&quot;2011-07-22&quot;</td><td>1.95</td><td>15235.0</td><td>null</td></tr><tr><td>&quot;75%&quot;</td><td>null</td><td>null</td><td>null</td><td>10.0</td><td>&quot;2011-10-20&quot;</td><td>3.29</td><td>16814.0</td><td>null</td></tr><tr><td>&quot;max&quot;</td><td>&quot;581587&quot;</td><td>&quot;m&quot;</td><td>&quot;ZINC WIRE SWEETHEART LETTER TR…</td><td>27.0</td><td>&quot;2011-12-09&quot;</td><td>7.5</td><td>18287.0</td><td>&quot;United Kingdom&quot;</td></tr></tbody></table></div>"
      ],
      "text/plain": [
       "shape: (9, 9)\n",
       "┌───────────┬───────────┬───────────┬───────────┬───┬───────────┬───────────┬───────────┬──────────┐\n",
       "│ statistic ┆ InvoiceNo ┆ StockCode ┆ Descripti ┆ … ┆ InvoiceDa ┆ UnitPrice ┆ CustomerI ┆ Country  │\n",
       "│ ---       ┆ ---       ┆ ---       ┆ on        ┆   ┆ te        ┆ ---       ┆ D         ┆ ---      │\n",
       "│ str       ┆ str       ┆ str       ┆ ---       ┆   ┆ ---       ┆ f64       ┆ ---       ┆ str      │\n",
       "│           ┆           ┆           ┆ str       ┆   ┆ str       ┆           ┆ f64       ┆          │\n",
       "╞═══════════╪═══════════╪═══════════╪═══════════╪═══╪═══════════╪═══════════╪═══════════╪══════════╡\n",
       "│ count     ┆ 442815    ┆ 442815    ┆ 442815    ┆ … ┆ 442815    ┆ 442815.0  ┆ 332940.0  ┆ 442815   │\n",
       "│ null_coun ┆ 0         ┆ 0         ┆ 0         ┆ … ┆ 0         ┆ 0.0       ┆ 109875.0  ┆ 0        │\n",
       "│ t         ┆           ┆           ┆           ┆   ┆           ┆           ┆           ┆          │\n",
       "│ mean      ┆ null      ┆ null      ┆ null      ┆ … ┆ 2011-07-0 ┆ 2.388613  ┆ 15319.914 ┆ null     │\n",
       "│           ┆           ┆           ┆           ┆   ┆ 5 19:17:4 ┆           ┆ 015       ┆          │\n",
       "│           ┆           ┆           ┆           ┆   ┆ 0.866000  ┆           ┆           ┆          │\n",
       "│ std       ┆ null      ┆ null      ┆ null      ┆ … ┆ null      ┆ 1.630417  ┆ 1710.8084 ┆ null     │\n",
       "│           ┆           ┆           ┆           ┆   ┆           ┆           ┆ 83        ┆          │\n",
       "│ min       ┆ 536365    ┆ 10002     ┆ 4 PURPLE  ┆ … ┆ 2010-12-0 ┆ 0.12      ┆ 12347.0   ┆ Australi │\n",
       "│           ┆           ┆           ┆ FLOCK     ┆   ┆ 1         ┆           ┆           ┆ a        │\n",
       "│           ┆           ┆           ┆ DINNER    ┆   ┆           ┆           ┆           ┆          │\n",
       "│           ┆           ┆           ┆ CANDLES   ┆   ┆           ┆           ┆           ┆          │\n",
       "│ 25%       ┆ null      ┆ null      ┆ null      ┆ … ┆ 2011-03-2 ┆ 1.25      ┆ 13988.0   ┆ null     │\n",
       "│           ┆           ┆           ┆           ┆   ┆ 9         ┆           ┆           ┆          │\n",
       "│ 50%       ┆ null      ┆ null      ┆ null      ┆ … ┆ 2011-07-2 ┆ 1.95      ┆ 15235.0   ┆ null     │\n",
       "│           ┆           ┆           ┆           ┆   ┆ 2         ┆           ┆           ┆          │\n",
       "│ 75%       ┆ null      ┆ null      ┆ null      ┆ … ┆ 2011-10-2 ┆ 3.29      ┆ 16814.0   ┆ null     │\n",
       "│           ┆           ┆           ┆           ┆   ┆ 0         ┆           ┆           ┆          │\n",
       "│ max       ┆ 581587    ┆ m         ┆ ZINC WIRE ┆ … ┆ 2011-12-0 ┆ 7.5       ┆ 18287.0   ┆ United   │\n",
       "│           ┆           ┆           ┆ SWEETHEAR ┆   ┆ 9         ┆           ┆           ┆ Kingdom  │\n",
       "│           ┆           ┆           ┆ T LETTER  ┆   ┆           ┆           ┆           ┆          │\n",
       "│           ┆           ┆           ┆ TR…       ┆   ┆           ┆           ┆           ┆          │\n",
       "└───────────┴───────────┴───────────┴───────────┴───┴───────────┴───────────┴───────────┴──────────┘"
      ]
     },
     "execution_count": 230,
     "metadata": {},
     "output_type": "execute_result"
    }
   ],
   "source": [
    "df.describe()"
   ]
  },
  {
   "cell_type": "markdown",
   "metadata": {},
   "source": [
    "Viendo que el objetivo es predecir el valor total de ventas por dia, haremos los siguientes cambios sobre el dataset:\n",
    "\n",
    "InvoiceNO,StockCode,Description, CustomerID: Estas columnas son muy interesantes para por ejemplo saber cuantos clientes habituales tiene cada pais, que productos se compran mas, media de productos por factura\n",
    "\n",
    "Claro, en este caso no las necesitamos para predecir cuanto vamos a ganar en un dia,\n",
    "\n",
    "En nuestro caso yo dejaria la columna de Country, ya que creo que a la hora de predecir las ventas diarias es muy interesante segmentar por paises, para saber cuantas ventas diarias, tiene uno u otro y que sea util para saber en que pais se pueden aumentar las ganancias o cual esta dando muchas perdidas."
   ]
  },
  {
   "cell_type": "code",
   "execution_count": 231,
   "metadata": {},
   "outputs": [
    {
     "data": {
      "text/html": [
       "<div><style>\n",
       ".dataframe > thead > tr,\n",
       ".dataframe > tbody > tr {\n",
       "  text-align: right;\n",
       "  white-space: pre-wrap;\n",
       "}\n",
       "</style>\n",
       "<small>shape: (442_815, 4)</small><table border=\"1\" class=\"dataframe\"><thead><tr><th>Quantity</th><th>InvoiceDate</th><th>UnitPrice</th><th>Country</th></tr><tr><td>i64</td><td>date</td><td>f64</td><td>str</td></tr></thead><tbody><tr><td>1</td><td>2011-07-15</td><td>7.46</td><td>&quot;United Kingdom&quot;</td></tr><tr><td>2</td><td>2011-07-27</td><td>4.13</td><td>&quot;United Kingdom&quot;</td></tr><tr><td>1</td><td>2011-11-18</td><td>2.95</td><td>&quot;United Kingdom&quot;</td></tr><tr><td>24</td><td>2011-11-23</td><td>1.25</td><td>&quot;United Kingdom&quot;</td></tr><tr><td>6</td><td>2011-05-05</td><td>1.95</td><td>&quot;United Kingdom&quot;</td></tr><tr><td>&hellip;</td><td>&hellip;</td><td>&hellip;</td><td>&hellip;</td></tr><tr><td>4</td><td>2011-02-28</td><td>4.25</td><td>&quot;United Kingdom&quot;</td></tr><tr><td>2</td><td>2010-12-02</td><td>1.65</td><td>&quot;United Kingdom&quot;</td></tr><tr><td>1</td><td>2011-04-03</td><td>1.45</td><td>&quot;United Kingdom&quot;</td></tr><tr><td>24</td><td>2011-01-31</td><td>1.65</td><td>&quot;United Kingdom&quot;</td></tr><tr><td>8</td><td>2011-05-24</td><td>1.95</td><td>&quot;United Kingdom&quot;</td></tr></tbody></table></div>"
      ],
      "text/plain": [
       "shape: (442_815, 4)\n",
       "┌──────────┬─────────────┬───────────┬────────────────┐\n",
       "│ Quantity ┆ InvoiceDate ┆ UnitPrice ┆ Country        │\n",
       "│ ---      ┆ ---         ┆ ---       ┆ ---            │\n",
       "│ i64      ┆ date        ┆ f64       ┆ str            │\n",
       "╞══════════╪═════════════╪═══════════╪════════════════╡\n",
       "│ 1        ┆ 2011-07-15  ┆ 7.46      ┆ United Kingdom │\n",
       "│ 2        ┆ 2011-07-27  ┆ 4.13      ┆ United Kingdom │\n",
       "│ 1        ┆ 2011-11-18  ┆ 2.95      ┆ United Kingdom │\n",
       "│ 24       ┆ 2011-11-23  ┆ 1.25      ┆ United Kingdom │\n",
       "│ 6        ┆ 2011-05-05  ┆ 1.95      ┆ United Kingdom │\n",
       "│ …        ┆ …           ┆ …         ┆ …              │\n",
       "│ 4        ┆ 2011-02-28  ┆ 4.25      ┆ United Kingdom │\n",
       "│ 2        ┆ 2010-12-02  ┆ 1.65      ┆ United Kingdom │\n",
       "│ 1        ┆ 2011-04-03  ┆ 1.45      ┆ United Kingdom │\n",
       "│ 24       ┆ 2011-01-31  ┆ 1.65      ┆ United Kingdom │\n",
       "│ 8        ┆ 2011-05-24  ┆ 1.95      ┆ United Kingdom │\n",
       "└──────────┴─────────────┴───────────┴────────────────┘"
      ]
     },
     "execution_count": 231,
     "metadata": {},
     "output_type": "execute_result"
    }
   ],
   "source": [
    "df = df.drop(\"InvoiceNo\",\"StockCode\",\"Description\", \"CustomerID\")\n",
    "df"
   ]
  },
  {
   "cell_type": "markdown",
   "metadata": {},
   "source": [
    "Necesitaremos sacar una columna extra de Ventas totales, que sea el calculo de cantidad por precio por unidad\n"
   ]
  },
  {
   "cell_type": "code",
   "execution_count": 232,
   "metadata": {},
   "outputs": [
    {
     "data": {
      "text/html": [
       "<div><style>\n",
       ".dataframe > thead > tr,\n",
       ".dataframe > tbody > tr {\n",
       "  text-align: right;\n",
       "  white-space: pre-wrap;\n",
       "}\n",
       "</style>\n",
       "<small>shape: (442_815, 5)</small><table border=\"1\" class=\"dataframe\"><thead><tr><th>Quantity</th><th>InvoiceDate</th><th>UnitPrice</th><th>Country</th><th>TotalSales</th></tr><tr><td>i64</td><td>date</td><td>f64</td><td>str</td><td>f64</td></tr></thead><tbody><tr><td>1</td><td>2011-07-15</td><td>7.46</td><td>&quot;United Kingdom&quot;</td><td>7.46</td></tr><tr><td>2</td><td>2011-07-27</td><td>4.13</td><td>&quot;United Kingdom&quot;</td><td>8.26</td></tr><tr><td>1</td><td>2011-11-18</td><td>2.95</td><td>&quot;United Kingdom&quot;</td><td>2.95</td></tr><tr><td>24</td><td>2011-11-23</td><td>1.25</td><td>&quot;United Kingdom&quot;</td><td>30.0</td></tr><tr><td>6</td><td>2011-05-05</td><td>1.95</td><td>&quot;United Kingdom&quot;</td><td>11.7</td></tr><tr><td>&hellip;</td><td>&hellip;</td><td>&hellip;</td><td>&hellip;</td><td>&hellip;</td></tr><tr><td>4</td><td>2011-02-28</td><td>4.25</td><td>&quot;United Kingdom&quot;</td><td>17.0</td></tr><tr><td>2</td><td>2010-12-02</td><td>1.65</td><td>&quot;United Kingdom&quot;</td><td>3.3</td></tr><tr><td>1</td><td>2011-04-03</td><td>1.45</td><td>&quot;United Kingdom&quot;</td><td>1.45</td></tr><tr><td>24</td><td>2011-01-31</td><td>1.65</td><td>&quot;United Kingdom&quot;</td><td>39.6</td></tr><tr><td>8</td><td>2011-05-24</td><td>1.95</td><td>&quot;United Kingdom&quot;</td><td>15.6</td></tr></tbody></table></div>"
      ],
      "text/plain": [
       "shape: (442_815, 5)\n",
       "┌──────────┬─────────────┬───────────┬────────────────┬────────────┐\n",
       "│ Quantity ┆ InvoiceDate ┆ UnitPrice ┆ Country        ┆ TotalSales │\n",
       "│ ---      ┆ ---         ┆ ---       ┆ ---            ┆ ---        │\n",
       "│ i64      ┆ date        ┆ f64       ┆ str            ┆ f64        │\n",
       "╞══════════╪═════════════╪═══════════╪════════════════╪════════════╡\n",
       "│ 1        ┆ 2011-07-15  ┆ 7.46      ┆ United Kingdom ┆ 7.46       │\n",
       "│ 2        ┆ 2011-07-27  ┆ 4.13      ┆ United Kingdom ┆ 8.26       │\n",
       "│ 1        ┆ 2011-11-18  ┆ 2.95      ┆ United Kingdom ┆ 2.95       │\n",
       "│ 24       ┆ 2011-11-23  ┆ 1.25      ┆ United Kingdom ┆ 30.0       │\n",
       "│ 6        ┆ 2011-05-05  ┆ 1.95      ┆ United Kingdom ┆ 11.7       │\n",
       "│ …        ┆ …           ┆ …         ┆ …              ┆ …          │\n",
       "│ 4        ┆ 2011-02-28  ┆ 4.25      ┆ United Kingdom ┆ 17.0       │\n",
       "│ 2        ┆ 2010-12-02  ┆ 1.65      ┆ United Kingdom ┆ 3.3        │\n",
       "│ 1        ┆ 2011-04-03  ┆ 1.45      ┆ United Kingdom ┆ 1.45       │\n",
       "│ 24       ┆ 2011-01-31  ┆ 1.65      ┆ United Kingdom ┆ 39.6       │\n",
       "│ 8        ┆ 2011-05-24  ┆ 1.95      ┆ United Kingdom ┆ 15.6       │\n",
       "└──────────┴─────────────┴───────────┴────────────────┴────────────┘"
      ]
     },
     "execution_count": 232,
     "metadata": {},
     "output_type": "execute_result"
    }
   ],
   "source": [
    "df = df.with_columns(\n",
    "    (pl.col(\"Quantity\") * pl.col(\"UnitPrice\")).alias(\"TotalSales\")\n",
    ")\n",
    "df"
   ]
  },
  {
   "cell_type": "markdown",
   "metadata": {},
   "source": [
    "Podemos agrupar por dias para ver la summa de ventas totales a modo de visualicacion.\n"
   ]
  },
  {
   "cell_type": "code",
   "execution_count": 233,
   "metadata": {},
   "outputs": [
    {
     "data": {
      "text/html": [
       "<div><style>\n",
       ".dataframe > thead > tr,\n",
       ".dataframe > tbody > tr {\n",
       "  text-align: right;\n",
       "  white-space: pre-wrap;\n",
       "}\n",
       "</style>\n",
       "<small>shape: (305, 3)</small><table border=\"1\" class=\"dataframe\"><thead><tr><th>InvoiceDate</th><th>Total_Quantity</th><th>Total_Sales</th></tr><tr><td>date</td><td>i64</td><td>f64</td></tr></thead><tbody><tr><td>2010-12-01</td><td>12899</td><td>26604.56</td></tr><tr><td>2010-12-02</td><td>12610</td><td>23203.33</td></tr><tr><td>2010-12-03</td><td>8632</td><td>19423.33</td></tr><tr><td>2010-12-05</td><td>10810</td><td>20738.69</td></tr><tr><td>2010-12-06</td><td>13876</td><td>30506.65</td></tr><tr><td>&hellip;</td><td>&hellip;</td><td>&hellip;</td></tr><tr><td>2011-12-05</td><td>24245</td><td>45221.72</td></tr><tr><td>2011-12-06</td><td>16717</td><td>26898.4</td></tr><tr><td>2011-12-07</td><td>16375</td><td>27847.03</td></tr><tr><td>2011-12-08</td><td>20021</td><td>38582.06</td></tr><tr><td>2011-12-09</td><td>7666</td><td>15940.79</td></tr></tbody></table></div>"
      ],
      "text/plain": [
       "shape: (305, 3)\n",
       "┌─────────────┬────────────────┬─────────────┐\n",
       "│ InvoiceDate ┆ Total_Quantity ┆ Total_Sales │\n",
       "│ ---         ┆ ---            ┆ ---         │\n",
       "│ date        ┆ i64            ┆ f64         │\n",
       "╞═════════════╪════════════════╪═════════════╡\n",
       "│ 2010-12-01  ┆ 12899          ┆ 26604.56    │\n",
       "│ 2010-12-02  ┆ 12610          ┆ 23203.33    │\n",
       "│ 2010-12-03  ┆ 8632           ┆ 19423.33    │\n",
       "│ 2010-12-05  ┆ 10810          ┆ 20738.69    │\n",
       "│ 2010-12-06  ┆ 13876          ┆ 30506.65    │\n",
       "│ …           ┆ …              ┆ …           │\n",
       "│ 2011-12-05  ┆ 24245          ┆ 45221.72    │\n",
       "│ 2011-12-06  ┆ 16717          ┆ 26898.4     │\n",
       "│ 2011-12-07  ┆ 16375          ┆ 27847.03    │\n",
       "│ 2011-12-08  ┆ 20021          ┆ 38582.06    │\n",
       "│ 2011-12-09  ┆ 7666           ┆ 15940.79    │\n",
       "└─────────────┴────────────────┴─────────────┘"
      ]
     },
     "execution_count": 233,
     "metadata": {},
     "output_type": "execute_result"
    }
   ],
   "source": [
    "df_daily_sales = df.group_by(\"InvoiceDate\").agg([\n",
    "    pl.col(\"Quantity\").sum().alias(\"Total_Quantity\"),\n",
    "    (pl.col(\"Quantity\") * pl.col(\"UnitPrice\")).sum().alias(\"Total_Sales\")  \n",
    "])\n",
    "df_daily_sales = df_daily_sales.sort(\"InvoiceDate\")\n",
    "df_daily_sales"
   ]
  },
  {
   "cell_type": "markdown",
   "metadata": {},
   "source": [
    "Haremos un ultimo describe para ver como ha quedado el dataset"
   ]
  },
  {
   "cell_type": "code",
   "execution_count": 234,
   "metadata": {},
   "outputs": [
    {
     "data": {
      "text/html": [
       "<div><style>\n",
       ".dataframe > thead > tr,\n",
       ".dataframe > tbody > tr {\n",
       "  text-align: right;\n",
       "  white-space: pre-wrap;\n",
       "}\n",
       "</style>\n",
       "<small>shape: (9, 6)</small><table border=\"1\" class=\"dataframe\"><thead><tr><th>statistic</th><th>Quantity</th><th>InvoiceDate</th><th>UnitPrice</th><th>Country</th><th>TotalSales</th></tr><tr><td>str</td><td>f64</td><td>str</td><td>f64</td><td>str</td><td>f64</td></tr></thead><tbody><tr><td>&quot;count&quot;</td><td>442815.0</td><td>&quot;442815&quot;</td><td>442815.0</td><td>&quot;442815&quot;</td><td>442815.0</td></tr><tr><td>&quot;null_count&quot;</td><td>0.0</td><td>&quot;0&quot;</td><td>0.0</td><td>&quot;0&quot;</td><td>0.0</td></tr><tr><td>&quot;mean&quot;</td><td>6.33038</td><td>&quot;2011-07-05 19:17:40.866000&quot;</td><td>2.388613</td><td>null</td><td>11.456598</td></tr><tr><td>&quot;std&quot;</td><td>6.458147</td><td>null</td><td>1.630417</td><td>null</td><td>12.759842</td></tr><tr><td>&quot;min&quot;</td><td>1.0</td><td>&quot;2010-12-01&quot;</td><td>0.12</td><td>&quot;Australia&quot;</td><td>0.12</td></tr><tr><td>&quot;25%&quot;</td><td>1.0</td><td>&quot;2011-03-29&quot;</td><td>1.25</td><td>null</td><td>3.29</td></tr><tr><td>&quot;50%&quot;</td><td>4.0</td><td>&quot;2011-07-22&quot;</td><td>1.95</td><td>null</td><td>7.5</td></tr><tr><td>&quot;75%&quot;</td><td>10.0</td><td>&quot;2011-10-20&quot;</td><td>3.29</td><td>null</td><td>15.3</td></tr><tr><td>&quot;max&quot;</td><td>27.0</td><td>&quot;2011-12-09&quot;</td><td>7.5</td><td>&quot;United Kingdom&quot;</td><td>193.96</td></tr></tbody></table></div>"
      ],
      "text/plain": [
       "shape: (9, 6)\n",
       "┌────────────┬──────────┬────────────────────────────┬───────────┬────────────────┬────────────┐\n",
       "│ statistic  ┆ Quantity ┆ InvoiceDate                ┆ UnitPrice ┆ Country        ┆ TotalSales │\n",
       "│ ---        ┆ ---      ┆ ---                        ┆ ---       ┆ ---            ┆ ---        │\n",
       "│ str        ┆ f64      ┆ str                        ┆ f64       ┆ str            ┆ f64        │\n",
       "╞════════════╪══════════╪════════════════════════════╪═══════════╪════════════════╪════════════╡\n",
       "│ count      ┆ 442815.0 ┆ 442815                     ┆ 442815.0  ┆ 442815         ┆ 442815.0   │\n",
       "│ null_count ┆ 0.0      ┆ 0                          ┆ 0.0       ┆ 0              ┆ 0.0        │\n",
       "│ mean       ┆ 6.33038  ┆ 2011-07-05 19:17:40.866000 ┆ 2.388613  ┆ null           ┆ 11.456598  │\n",
       "│ std        ┆ 6.458147 ┆ null                       ┆ 1.630417  ┆ null           ┆ 12.759842  │\n",
       "│ min        ┆ 1.0      ┆ 2010-12-01                 ┆ 0.12      ┆ Australia      ┆ 0.12       │\n",
       "│ 25%        ┆ 1.0      ┆ 2011-03-29                 ┆ 1.25      ┆ null           ┆ 3.29       │\n",
       "│ 50%        ┆ 4.0      ┆ 2011-07-22                 ┆ 1.95      ┆ null           ┆ 7.5        │\n",
       "│ 75%        ┆ 10.0     ┆ 2011-10-20                 ┆ 3.29      ┆ null           ┆ 15.3       │\n",
       "│ max        ┆ 27.0     ┆ 2011-12-09                 ┆ 7.5       ┆ United Kingdom ┆ 193.96     │\n",
       "└────────────┴──────────┴────────────────────────────┴───────────┴────────────────┴────────────┘"
      ]
     },
     "execution_count": 234,
     "metadata": {},
     "output_type": "execute_result"
    }
   ],
   "source": [
    "df.describe()"
   ]
  },
  {
   "cell_type": "markdown",
   "metadata": {},
   "source": [
    "Al parecer hay algo raro en las ventas totales el maximo es muy superior al tercer percentil, vamos a calcular el IQR para comprobar el limete superior\n"
   ]
  },
  {
   "cell_type": "code",
   "execution_count": 235,
   "metadata": {},
   "outputs": [
    {
     "name": "stdout",
     "output_type": "stream",
     "text": [
      "\n",
      "IQR for TotalSales\n",
      "3.29 15.299999999999999 12.009999999999998 -14.724999999999998 33.315\n"
     ]
    }
   ],
   "source": [
    "calc_iqr_from_column_name(\"TotalSales\")"
   ]
  },
  {
   "cell_type": "markdown",
   "metadata": {},
   "source": [
    "Ahora filtramos por el limite superior"
   ]
  },
  {
   "cell_type": "code",
   "execution_count": 236,
   "metadata": {},
   "outputs": [
    {
     "data": {
      "text/html": [
       "<div><style>\n",
       ".dataframe > thead > tr,\n",
       ".dataframe > tbody > tr {\n",
       "  text-align: right;\n",
       "  white-space: pre-wrap;\n",
       "}\n",
       "</style>\n",
       "<small>shape: (20_718, 5)</small><table border=\"1\" class=\"dataframe\"><thead><tr><th>Quantity</th><th>InvoiceDate</th><th>UnitPrice</th><th>Country</th><th>TotalSales</th></tr><tr><td>i64</td><td>date</td><td>f64</td><td>str</td><td>f64</td></tr></thead><tbody><tr><td>24</td><td>2011-10-30</td><td>3.75</td><td>&quot;United Kingdom&quot;</td><td>90.0</td></tr><tr><td>12</td><td>2011-10-06</td><td>3.75</td><td>&quot;Australia&quot;</td><td>45.0</td></tr><tr><td>7</td><td>2011-09-27</td><td>4.96</td><td>&quot;United Kingdom&quot;</td><td>34.72</td></tr><tr><td>20</td><td>2011-08-11</td><td>4.96</td><td>&quot;United Kingdom&quot;</td><td>99.2</td></tr><tr><td>24</td><td>2011-08-22</td><td>2.55</td><td>&quot;United Kingdom&quot;</td><td>61.2</td></tr><tr><td>&hellip;</td><td>&hellip;</td><td>&hellip;</td><td>&hellip;</td><td>&hellip;</td></tr><tr><td>24</td><td>2011-10-05</td><td>1.65</td><td>&quot;Germany&quot;</td><td>39.6</td></tr><tr><td>12</td><td>2011-09-22</td><td>3.45</td><td>&quot;United Kingdom&quot;</td><td>41.4</td></tr><tr><td>23</td><td>2011-09-16</td><td>2.46</td><td>&quot;United Kingdom&quot;</td><td>56.58</td></tr><tr><td>24</td><td>2011-11-17</td><td>1.65</td><td>&quot;United Kingdom&quot;</td><td>39.6</td></tr><tr><td>24</td><td>2011-01-31</td><td>1.65</td><td>&quot;United Kingdom&quot;</td><td>39.6</td></tr></tbody></table></div>"
      ],
      "text/plain": [
       "shape: (20_718, 5)\n",
       "┌──────────┬─────────────┬───────────┬────────────────┬────────────┐\n",
       "│ Quantity ┆ InvoiceDate ┆ UnitPrice ┆ Country        ┆ TotalSales │\n",
       "│ ---      ┆ ---         ┆ ---       ┆ ---            ┆ ---        │\n",
       "│ i64      ┆ date        ┆ f64       ┆ str            ┆ f64        │\n",
       "╞══════════╪═════════════╪═══════════╪════════════════╪════════════╡\n",
       "│ 24       ┆ 2011-10-30  ┆ 3.75      ┆ United Kingdom ┆ 90.0       │\n",
       "│ 12       ┆ 2011-10-06  ┆ 3.75      ┆ Australia      ┆ 45.0       │\n",
       "│ 7        ┆ 2011-09-27  ┆ 4.96      ┆ United Kingdom ┆ 34.72      │\n",
       "│ 20       ┆ 2011-08-11  ┆ 4.96      ┆ United Kingdom ┆ 99.2       │\n",
       "│ 24       ┆ 2011-08-22  ┆ 2.55      ┆ United Kingdom ┆ 61.2       │\n",
       "│ …        ┆ …           ┆ …         ┆ …              ┆ …          │\n",
       "│ 24       ┆ 2011-10-05  ┆ 1.65      ┆ Germany        ┆ 39.6       │\n",
       "│ 12       ┆ 2011-09-22  ┆ 3.45      ┆ United Kingdom ┆ 41.4       │\n",
       "│ 23       ┆ 2011-09-16  ┆ 2.46      ┆ United Kingdom ┆ 56.58      │\n",
       "│ 24       ┆ 2011-11-17  ┆ 1.65      ┆ United Kingdom ┆ 39.6       │\n",
       "│ 24       ┆ 2011-01-31  ┆ 1.65      ┆ United Kingdom ┆ 39.6       │\n",
       "└──────────┴─────────────┴───────────┴────────────────┴────────────┘"
      ]
     },
     "execution_count": 236,
     "metadata": {},
     "output_type": "execute_result"
    }
   ],
   "source": [
    "df.filter(df[\"TotalSales\"] > 33.3)"
   ]
  },
  {
   "cell_type": "markdown",
   "metadata": {},
   "source": [
    "Nos encontramos con mas de 20000 filas con valores mas altos de lo normal, para decidir si eliminarlos o no, vamos a crear dos nuevas variables, una que nos siga el dia de la semana y otra que nos diga si es\n",
    "festivo en ese pais, todo esto es porque quizas estos valores tan altos son normales en relacion con el dia.\n",
    "\n",
    "Primero el dia de la semana"
   ]
  },
  {
   "cell_type": "code",
   "execution_count": 237,
   "metadata": {},
   "outputs": [
    {
     "data": {
      "text/html": [
       "<div><style>\n",
       ".dataframe > thead > tr,\n",
       ".dataframe > tbody > tr {\n",
       "  text-align: right;\n",
       "  white-space: pre-wrap;\n",
       "}\n",
       "</style>\n",
       "<small>shape: (442_815, 6)</small><table border=\"1\" class=\"dataframe\"><thead><tr><th>Quantity</th><th>InvoiceDate</th><th>UnitPrice</th><th>Country</th><th>TotalSales</th><th>weekday</th></tr><tr><td>i64</td><td>date</td><td>f64</td><td>str</td><td>f64</td><td>i8</td></tr></thead><tbody><tr><td>1</td><td>2011-07-15</td><td>7.46</td><td>&quot;United Kingdom&quot;</td><td>7.46</td><td>5</td></tr><tr><td>2</td><td>2011-07-27</td><td>4.13</td><td>&quot;United Kingdom&quot;</td><td>8.26</td><td>3</td></tr><tr><td>1</td><td>2011-11-18</td><td>2.95</td><td>&quot;United Kingdom&quot;</td><td>2.95</td><td>5</td></tr><tr><td>24</td><td>2011-11-23</td><td>1.25</td><td>&quot;United Kingdom&quot;</td><td>30.0</td><td>3</td></tr><tr><td>6</td><td>2011-05-05</td><td>1.95</td><td>&quot;United Kingdom&quot;</td><td>11.7</td><td>4</td></tr><tr><td>&hellip;</td><td>&hellip;</td><td>&hellip;</td><td>&hellip;</td><td>&hellip;</td><td>&hellip;</td></tr><tr><td>4</td><td>2011-02-28</td><td>4.25</td><td>&quot;United Kingdom&quot;</td><td>17.0</td><td>1</td></tr><tr><td>2</td><td>2010-12-02</td><td>1.65</td><td>&quot;United Kingdom&quot;</td><td>3.3</td><td>4</td></tr><tr><td>1</td><td>2011-04-03</td><td>1.45</td><td>&quot;United Kingdom&quot;</td><td>1.45</td><td>7</td></tr><tr><td>24</td><td>2011-01-31</td><td>1.65</td><td>&quot;United Kingdom&quot;</td><td>39.6</td><td>1</td></tr><tr><td>8</td><td>2011-05-24</td><td>1.95</td><td>&quot;United Kingdom&quot;</td><td>15.6</td><td>2</td></tr></tbody></table></div>"
      ],
      "text/plain": [
       "shape: (442_815, 6)\n",
       "┌──────────┬─────────────┬───────────┬────────────────┬────────────┬─────────┐\n",
       "│ Quantity ┆ InvoiceDate ┆ UnitPrice ┆ Country        ┆ TotalSales ┆ weekday │\n",
       "│ ---      ┆ ---         ┆ ---       ┆ ---            ┆ ---        ┆ ---     │\n",
       "│ i64      ┆ date        ┆ f64       ┆ str            ┆ f64        ┆ i8      │\n",
       "╞══════════╪═════════════╪═══════════╪════════════════╪════════════╪═════════╡\n",
       "│ 1        ┆ 2011-07-15  ┆ 7.46      ┆ United Kingdom ┆ 7.46       ┆ 5       │\n",
       "│ 2        ┆ 2011-07-27  ┆ 4.13      ┆ United Kingdom ┆ 8.26       ┆ 3       │\n",
       "│ 1        ┆ 2011-11-18  ┆ 2.95      ┆ United Kingdom ┆ 2.95       ┆ 5       │\n",
       "│ 24       ┆ 2011-11-23  ┆ 1.25      ┆ United Kingdom ┆ 30.0       ┆ 3       │\n",
       "│ 6        ┆ 2011-05-05  ┆ 1.95      ┆ United Kingdom ┆ 11.7       ┆ 4       │\n",
       "│ …        ┆ …           ┆ …         ┆ …              ┆ …          ┆ …       │\n",
       "│ 4        ┆ 2011-02-28  ┆ 4.25      ┆ United Kingdom ┆ 17.0       ┆ 1       │\n",
       "│ 2        ┆ 2010-12-02  ┆ 1.65      ┆ United Kingdom ┆ 3.3        ┆ 4       │\n",
       "│ 1        ┆ 2011-04-03  ┆ 1.45      ┆ United Kingdom ┆ 1.45       ┆ 7       │\n",
       "│ 24       ┆ 2011-01-31  ┆ 1.65      ┆ United Kingdom ┆ 39.6       ┆ 1       │\n",
       "│ 8        ┆ 2011-05-24  ┆ 1.95      ┆ United Kingdom ┆ 15.6       ┆ 2       │\n",
       "└──────────┴─────────────┴───────────┴────────────────┴────────────┴─────────┘"
      ]
     },
     "execution_count": 237,
     "metadata": {},
     "output_type": "execute_result"
    }
   ],
   "source": [
    "import pandas as pd\n",
    "\n",
    "# día de la semana siendo 1 el Lunes hasta 7 el Domingo\n",
    "df = df.with_columns(pl.col(\"InvoiceDate\").dt.weekday().alias(\"weekday\"))\n",
    "\n",
    "df"
   ]
  },
  {
   "cell_type": "markdown",
   "metadata": {},
   "source": [
    "Ahora toca calcular el festivo\n",
    "\n",
    "Lo primero es sacar el codigo por pais y cambiar la columna dde Country por estos codigos mas sencillos de usar."
   ]
  },
  {
   "cell_type": "code",
   "execution_count": 238,
   "metadata": {},
   "outputs": [
    {
     "data": {
      "text/plain": [
       "{'Malta': 'MT',\n",
       " 'Lithuania': 'LT',\n",
       " 'Cyprus': 'CY',\n",
       " 'Israel': 'IL',\n",
       " 'Germany': 'DE',\n",
       " 'Saudi Arabia': 'SA',\n",
       " 'Czech Republic': 'CZ',\n",
       " 'Italy': 'IT',\n",
       " 'Poland': 'PL',\n",
       " 'European Community': None,\n",
       " 'United Kingdom': 'GB',\n",
       " 'Hong Kong': 'HK',\n",
       " 'Spain': 'ES',\n",
       " 'Lebanon': 'LB',\n",
       " 'Japan': 'JP',\n",
       " 'Denmark': 'DK',\n",
       " 'Iceland': 'IS',\n",
       " 'USA': 'US',\n",
       " 'Greece': 'GR',\n",
       " 'RSA': None,\n",
       " 'Channel Islands': None,\n",
       " 'Canada': 'CA',\n",
       " 'Austria': 'AT',\n",
       " 'Brazil': 'BR',\n",
       " 'EIRE': None,\n",
       " 'Australia': 'AU',\n",
       " 'Norway': 'NO',\n",
       " 'Bahrain': 'BH',\n",
       " 'United Arab Emirates': 'AE',\n",
       " 'Belgium': 'BE',\n",
       " 'Netherlands': 'NL',\n",
       " 'Singapore': 'SG',\n",
       " 'Switzerland': 'CH',\n",
       " 'Sweden': 'SE',\n",
       " 'Finland': 'FI',\n",
       " 'Portugal': 'PT',\n",
       " 'France': 'FR'}"
      ]
     },
     "execution_count": 238,
     "metadata": {},
     "output_type": "execute_result"
    }
   ],
   "source": [
    "import pycountry\n",
    "def get_country_code(country_name):\n",
    "    try:\n",
    "        return pycountry.countries.lookup(country_name).alpha_2\n",
    "    except LookupError:\n",
    "        return None\n",
    "countries = df[\"Country\"].unique().to_list()\n",
    "country_codes = {country: get_country_code(country) for country in countries}\n",
    "country_codes\n"
   ]
  },
  {
   "cell_type": "markdown",
   "metadata": {},
   "source": [
    "Antes de seguir vemos que hay algunos codigos con None, vamos a filtrarlos"
   ]
  },
  {
   "cell_type": "code",
   "execution_count": 239,
   "metadata": {},
   "outputs": [
    {
     "data": {
      "text/plain": [
       "{'European Community': None,\n",
       " 'RSA': None,\n",
       " 'Channel Islands': None,\n",
       " 'EIRE': None}"
      ]
     },
     "execution_count": 239,
     "metadata": {},
     "output_type": "execute_result"
    }
   ],
   "source": [
    "{k: v for k, v in country_codes.items() if v is None}"
   ]
  },
  {
   "cell_type": "markdown",
   "metadata": {},
   "source": [
    "Teniendo claro cuales son, vamos a hacer lo siguiente, vamos a eliminar European Community y channel islandds ya que no son un pais y como intentaremos predecir ventas por pais nos complica un poco la vida."
   ]
  },
  {
   "cell_type": "code",
   "execution_count": 240,
   "metadata": {},
   "outputs": [
    {
     "data": {
      "text/html": [
       "<div><style>\n",
       ".dataframe > thead > tr,\n",
       ".dataframe > tbody > tr {\n",
       "  text-align: right;\n",
       "  white-space: pre-wrap;\n",
       "}\n",
       "</style>\n",
       "<small>shape: (442_222, 6)</small><table border=\"1\" class=\"dataframe\"><thead><tr><th>Quantity</th><th>InvoiceDate</th><th>UnitPrice</th><th>Country</th><th>TotalSales</th><th>weekday</th></tr><tr><td>i64</td><td>date</td><td>f64</td><td>str</td><td>f64</td><td>i8</td></tr></thead><tbody><tr><td>1</td><td>2011-07-15</td><td>7.46</td><td>&quot;United Kingdom&quot;</td><td>7.46</td><td>5</td></tr><tr><td>2</td><td>2011-07-27</td><td>4.13</td><td>&quot;United Kingdom&quot;</td><td>8.26</td><td>3</td></tr><tr><td>1</td><td>2011-11-18</td><td>2.95</td><td>&quot;United Kingdom&quot;</td><td>2.95</td><td>5</td></tr><tr><td>24</td><td>2011-11-23</td><td>1.25</td><td>&quot;United Kingdom&quot;</td><td>30.0</td><td>3</td></tr><tr><td>6</td><td>2011-05-05</td><td>1.95</td><td>&quot;United Kingdom&quot;</td><td>11.7</td><td>4</td></tr><tr><td>&hellip;</td><td>&hellip;</td><td>&hellip;</td><td>&hellip;</td><td>&hellip;</td><td>&hellip;</td></tr><tr><td>4</td><td>2011-02-28</td><td>4.25</td><td>&quot;United Kingdom&quot;</td><td>17.0</td><td>1</td></tr><tr><td>2</td><td>2010-12-02</td><td>1.65</td><td>&quot;United Kingdom&quot;</td><td>3.3</td><td>4</td></tr><tr><td>1</td><td>2011-04-03</td><td>1.45</td><td>&quot;United Kingdom&quot;</td><td>1.45</td><td>7</td></tr><tr><td>24</td><td>2011-01-31</td><td>1.65</td><td>&quot;United Kingdom&quot;</td><td>39.6</td><td>1</td></tr><tr><td>8</td><td>2011-05-24</td><td>1.95</td><td>&quot;United Kingdom&quot;</td><td>15.6</td><td>2</td></tr></tbody></table></div>"
      ],
      "text/plain": [
       "shape: (442_222, 6)\n",
       "┌──────────┬─────────────┬───────────┬────────────────┬────────────┬─────────┐\n",
       "│ Quantity ┆ InvoiceDate ┆ UnitPrice ┆ Country        ┆ TotalSales ┆ weekday │\n",
       "│ ---      ┆ ---         ┆ ---       ┆ ---            ┆ ---        ┆ ---     │\n",
       "│ i64      ┆ date        ┆ f64       ┆ str            ┆ f64        ┆ i8      │\n",
       "╞══════════╪═════════════╪═══════════╪════════════════╪════════════╪═════════╡\n",
       "│ 1        ┆ 2011-07-15  ┆ 7.46      ┆ United Kingdom ┆ 7.46       ┆ 5       │\n",
       "│ 2        ┆ 2011-07-27  ┆ 4.13      ┆ United Kingdom ┆ 8.26       ┆ 3       │\n",
       "│ 1        ┆ 2011-11-18  ┆ 2.95      ┆ United Kingdom ┆ 2.95       ┆ 5       │\n",
       "│ 24       ┆ 2011-11-23  ┆ 1.25      ┆ United Kingdom ┆ 30.0       ┆ 3       │\n",
       "│ 6        ┆ 2011-05-05  ┆ 1.95      ┆ United Kingdom ┆ 11.7       ┆ 4       │\n",
       "│ …        ┆ …           ┆ …         ┆ …              ┆ …          ┆ …       │\n",
       "│ 4        ┆ 2011-02-28  ┆ 4.25      ┆ United Kingdom ┆ 17.0       ┆ 1       │\n",
       "│ 2        ┆ 2010-12-02  ┆ 1.65      ┆ United Kingdom ┆ 3.3        ┆ 4       │\n",
       "│ 1        ┆ 2011-04-03  ┆ 1.45      ┆ United Kingdom ┆ 1.45       ┆ 7       │\n",
       "│ 24       ┆ 2011-01-31  ┆ 1.65      ┆ United Kingdom ┆ 39.6       ┆ 1       │\n",
       "│ 8        ┆ 2011-05-24  ┆ 1.95      ┆ United Kingdom ┆ 15.6       ┆ 2       │\n",
       "└──────────┴─────────────┴───────────┴────────────────┴────────────┴─────────┘"
      ]
     },
     "execution_count": 240,
     "metadata": {},
     "output_type": "execute_result"
    }
   ],
   "source": [
    "df = df.filter(~((df[\"Country\"] == \"European Community\") | (df[\"Country\"] == \"Channel Islands\")))\n",
    "df"
   ]
  },
  {
   "cell_type": "markdown",
   "metadata": {},
   "source": [
    "Ahora Modificaremos a mano el nombre de RSA por South Africa y Eire por Ireland y dejaremos las Channel island como caso imposible ya que"
   ]
  },
  {
   "cell_type": "code",
   "execution_count": 241,
   "metadata": {},
   "outputs": [
    {
     "data": {
      "text/html": [
       "<div><style>\n",
       ".dataframe > thead > tr,\n",
       ".dataframe > tbody > tr {\n",
       "  text-align: right;\n",
       "  white-space: pre-wrap;\n",
       "}\n",
       "</style>\n",
       "<small>shape: (442_222, 6)</small><table border=\"1\" class=\"dataframe\"><thead><tr><th>Quantity</th><th>InvoiceDate</th><th>UnitPrice</th><th>Country</th><th>TotalSales</th><th>weekday</th></tr><tr><td>i64</td><td>date</td><td>f64</td><td>str</td><td>f64</td><td>i8</td></tr></thead><tbody><tr><td>1</td><td>2011-07-15</td><td>7.46</td><td>&quot;United Kingdom&quot;</td><td>7.46</td><td>5</td></tr><tr><td>2</td><td>2011-07-27</td><td>4.13</td><td>&quot;United Kingdom&quot;</td><td>8.26</td><td>3</td></tr><tr><td>1</td><td>2011-11-18</td><td>2.95</td><td>&quot;United Kingdom&quot;</td><td>2.95</td><td>5</td></tr><tr><td>24</td><td>2011-11-23</td><td>1.25</td><td>&quot;United Kingdom&quot;</td><td>30.0</td><td>3</td></tr><tr><td>6</td><td>2011-05-05</td><td>1.95</td><td>&quot;United Kingdom&quot;</td><td>11.7</td><td>4</td></tr><tr><td>&hellip;</td><td>&hellip;</td><td>&hellip;</td><td>&hellip;</td><td>&hellip;</td><td>&hellip;</td></tr><tr><td>4</td><td>2011-02-28</td><td>4.25</td><td>&quot;United Kingdom&quot;</td><td>17.0</td><td>1</td></tr><tr><td>2</td><td>2010-12-02</td><td>1.65</td><td>&quot;United Kingdom&quot;</td><td>3.3</td><td>4</td></tr><tr><td>1</td><td>2011-04-03</td><td>1.45</td><td>&quot;United Kingdom&quot;</td><td>1.45</td><td>7</td></tr><tr><td>24</td><td>2011-01-31</td><td>1.65</td><td>&quot;United Kingdom&quot;</td><td>39.6</td><td>1</td></tr><tr><td>8</td><td>2011-05-24</td><td>1.95</td><td>&quot;United Kingdom&quot;</td><td>15.6</td><td>2</td></tr></tbody></table></div>"
      ],
      "text/plain": [
       "shape: (442_222, 6)\n",
       "┌──────────┬─────────────┬───────────┬────────────────┬────────────┬─────────┐\n",
       "│ Quantity ┆ InvoiceDate ┆ UnitPrice ┆ Country        ┆ TotalSales ┆ weekday │\n",
       "│ ---      ┆ ---         ┆ ---       ┆ ---            ┆ ---        ┆ ---     │\n",
       "│ i64      ┆ date        ┆ f64       ┆ str            ┆ f64        ┆ i8      │\n",
       "╞══════════╪═════════════╪═══════════╪════════════════╪════════════╪═════════╡\n",
       "│ 1        ┆ 2011-07-15  ┆ 7.46      ┆ United Kingdom ┆ 7.46       ┆ 5       │\n",
       "│ 2        ┆ 2011-07-27  ┆ 4.13      ┆ United Kingdom ┆ 8.26       ┆ 3       │\n",
       "│ 1        ┆ 2011-11-18  ┆ 2.95      ┆ United Kingdom ┆ 2.95       ┆ 5       │\n",
       "│ 24       ┆ 2011-11-23  ┆ 1.25      ┆ United Kingdom ┆ 30.0       ┆ 3       │\n",
       "│ 6        ┆ 2011-05-05  ┆ 1.95      ┆ United Kingdom ┆ 11.7       ┆ 4       │\n",
       "│ …        ┆ …           ┆ …         ┆ …              ┆ …          ┆ …       │\n",
       "│ 4        ┆ 2011-02-28  ┆ 4.25      ┆ United Kingdom ┆ 17.0       ┆ 1       │\n",
       "│ 2        ┆ 2010-12-02  ┆ 1.65      ┆ United Kingdom ┆ 3.3        ┆ 4       │\n",
       "│ 1        ┆ 2011-04-03  ┆ 1.45      ┆ United Kingdom ┆ 1.45       ┆ 7       │\n",
       "│ 24       ┆ 2011-01-31  ┆ 1.65      ┆ United Kingdom ┆ 39.6       ┆ 1       │\n",
       "│ 8        ┆ 2011-05-24  ┆ 1.95      ┆ United Kingdom ┆ 15.6       ┆ 2       │\n",
       "└──────────┴─────────────┴───────────┴────────────────┴────────────┴─────────┘"
      ]
     },
     "execution_count": 241,
     "metadata": {},
     "output_type": "execute_result"
    }
   ],
   "source": [
    "manual_replacements = {\n",
    "    \"RSA\": \"South Africa\",\n",
    "    \"EIRE\": \"Ireland\"\n",
    "}\n",
    "df = df.with_columns(\n",
    "    pl.col(\"Country\").replace(manual_replacements)\n",
    ")\n",
    "df"
   ]
  },
  {
   "cell_type": "markdown",
   "metadata": {},
   "source": [
    "vovlemos a comprobar los country codes con None"
   ]
  },
  {
   "cell_type": "code",
   "execution_count": 242,
   "metadata": {},
   "outputs": [
    {
     "data": {
      "text/plain": [
       "{}"
      ]
     },
     "execution_count": 242,
     "metadata": {},
     "output_type": "execute_result"
    }
   ],
   "source": [
    "countries = df[\"Country\"].unique().to_list()\n",
    "country_codes = {country: get_country_code(country) for country in countries}\n",
    "{k: v for k, v in country_codes.items() if v is None}"
   ]
  },
  {
   "cell_type": "markdown",
   "metadata": {},
   "source": [
    "Perfecto ahora sobreescribiremos los valores de la columna country por los codigos"
   ]
  },
  {
   "cell_type": "code",
   "execution_count": 243,
   "metadata": {},
   "outputs": [
    {
     "data": {
      "text/html": [
       "<div><style>\n",
       ".dataframe > thead > tr,\n",
       ".dataframe > tbody > tr {\n",
       "  text-align: right;\n",
       "  white-space: pre-wrap;\n",
       "}\n",
       "</style>\n",
       "<small>shape: (442_222, 6)</small><table border=\"1\" class=\"dataframe\"><thead><tr><th>Quantity</th><th>InvoiceDate</th><th>UnitPrice</th><th>Country</th><th>TotalSales</th><th>weekday</th></tr><tr><td>i64</td><td>date</td><td>f64</td><td>str</td><td>f64</td><td>i8</td></tr></thead><tbody><tr><td>1</td><td>2011-07-15</td><td>7.46</td><td>&quot;GB&quot;</td><td>7.46</td><td>5</td></tr><tr><td>2</td><td>2011-07-27</td><td>4.13</td><td>&quot;GB&quot;</td><td>8.26</td><td>3</td></tr><tr><td>1</td><td>2011-11-18</td><td>2.95</td><td>&quot;GB&quot;</td><td>2.95</td><td>5</td></tr><tr><td>24</td><td>2011-11-23</td><td>1.25</td><td>&quot;GB&quot;</td><td>30.0</td><td>3</td></tr><tr><td>6</td><td>2011-05-05</td><td>1.95</td><td>&quot;GB&quot;</td><td>11.7</td><td>4</td></tr><tr><td>&hellip;</td><td>&hellip;</td><td>&hellip;</td><td>&hellip;</td><td>&hellip;</td><td>&hellip;</td></tr><tr><td>4</td><td>2011-02-28</td><td>4.25</td><td>&quot;GB&quot;</td><td>17.0</td><td>1</td></tr><tr><td>2</td><td>2010-12-02</td><td>1.65</td><td>&quot;GB&quot;</td><td>3.3</td><td>4</td></tr><tr><td>1</td><td>2011-04-03</td><td>1.45</td><td>&quot;GB&quot;</td><td>1.45</td><td>7</td></tr><tr><td>24</td><td>2011-01-31</td><td>1.65</td><td>&quot;GB&quot;</td><td>39.6</td><td>1</td></tr><tr><td>8</td><td>2011-05-24</td><td>1.95</td><td>&quot;GB&quot;</td><td>15.6</td><td>2</td></tr></tbody></table></div>"
      ],
      "text/plain": [
       "shape: (442_222, 6)\n",
       "┌──────────┬─────────────┬───────────┬─────────┬────────────┬─────────┐\n",
       "│ Quantity ┆ InvoiceDate ┆ UnitPrice ┆ Country ┆ TotalSales ┆ weekday │\n",
       "│ ---      ┆ ---         ┆ ---       ┆ ---     ┆ ---        ┆ ---     │\n",
       "│ i64      ┆ date        ┆ f64       ┆ str     ┆ f64        ┆ i8      │\n",
       "╞══════════╪═════════════╪═══════════╪═════════╪════════════╪═════════╡\n",
       "│ 1        ┆ 2011-07-15  ┆ 7.46      ┆ GB      ┆ 7.46       ┆ 5       │\n",
       "│ 2        ┆ 2011-07-27  ┆ 4.13      ┆ GB      ┆ 8.26       ┆ 3       │\n",
       "│ 1        ┆ 2011-11-18  ┆ 2.95      ┆ GB      ┆ 2.95       ┆ 5       │\n",
       "│ 24       ┆ 2011-11-23  ┆ 1.25      ┆ GB      ┆ 30.0       ┆ 3       │\n",
       "│ 6        ┆ 2011-05-05  ┆ 1.95      ┆ GB      ┆ 11.7       ┆ 4       │\n",
       "│ …        ┆ …           ┆ …         ┆ …       ┆ …          ┆ …       │\n",
       "│ 4        ┆ 2011-02-28  ┆ 4.25      ┆ GB      ┆ 17.0       ┆ 1       │\n",
       "│ 2        ┆ 2010-12-02  ┆ 1.65      ┆ GB      ┆ 3.3        ┆ 4       │\n",
       "│ 1        ┆ 2011-04-03  ┆ 1.45      ┆ GB      ┆ 1.45       ┆ 7       │\n",
       "│ 24       ┆ 2011-01-31  ┆ 1.65      ┆ GB      ┆ 39.6       ┆ 1       │\n",
       "│ 8        ┆ 2011-05-24  ┆ 1.95      ┆ GB      ┆ 15.6       ┆ 2       │\n",
       "└──────────┴─────────────┴───────────┴─────────┴────────────┴─────────┘"
      ]
     },
     "execution_count": 243,
     "metadata": {},
     "output_type": "execute_result"
    }
   ],
   "source": [
    "country_codes_without_none = {k: v for k, v in country_codes.items() if v is not None}\n",
    "\n",
    "df = df.with_columns(\n",
    "    pl.col(\"Country\").replace(country_codes_without_none)\n",
    ")\n",
    "df"
   ]
  },
  {
   "cell_type": "markdown",
   "metadata": {},
   "source": [
    "Lo siguiente es sacar los festivos"
   ]
  },
  {
   "cell_type": "code",
   "execution_count": 244,
   "metadata": {},
   "outputs": [
    {
     "name": "stdout",
     "output_type": "stream",
     "text": [
      "LB not found in holidays database\n"
     ]
    },
    {
     "data": {
      "text/plain": [
       "{'AU': {datetime.date(2010, 4, 2): 'Good Friday', datetime.date(2010, 4, 5): 'Easter Monday', datetime.date(2010, 1, 1): \"New Year's Day\", datetime.date(2010, 1, 26): 'Australia Day', datetime.date(2010, 4, 25): 'ANZAC Day', datetime.date(2010, 12, 25): 'Christmas Day', datetime.date(2010, 12, 26): 'Boxing Day', datetime.date(2011, 4, 22): 'Good Friday', datetime.date(2011, 4, 25): 'ANZAC Day; Easter Monday', datetime.date(2011, 1, 1): \"New Year's Day\", datetime.date(2011, 1, 26): 'Australia Day', datetime.date(2011, 12, 25): 'Christmas Day', datetime.date(2011, 12, 26): 'Boxing Day'},\n",
       " 'CY': {datetime.date(2010, 1, 1): 'Πρωτοχρονιά', datetime.date(2010, 1, 6): 'Ημέρα των Θεοφανίων', datetime.date(2010, 2, 15): 'Καθαρά Δευτέρα', datetime.date(2010, 3, 25): 'Ημέρα της Ελληνικής Ανεξαρτησίας', datetime.date(2010, 4, 1): 'Εθνική Ημέρα Κύπρου', datetime.date(2010, 4, 2): 'Μεγάλη Παρασκευή', datetime.date(2010, 4, 4): 'Κυριακή του Πάσχα', datetime.date(2010, 4, 5): 'Δευτέρα της Διακαινησίμου', datetime.date(2010, 5, 1): 'Πρωτομαγιά', datetime.date(2010, 5, 24): 'Δευτέρα του Αγίου Πνεύματος', datetime.date(2010, 8, 15): 'Κοίμηση της Θεοτόκου', datetime.date(2010, 10, 1): 'Ημέρα της Κυπριακής Ανεξαρτησίας', datetime.date(2010, 10, 28): 'Ημέρα του Όχι', datetime.date(2010, 12, 25): 'Χριστούγεννα', datetime.date(2010, 12, 26): 'Επομένη Χριστουγέννων', datetime.date(2011, 1, 1): 'Πρωτοχρονιά', datetime.date(2011, 1, 6): 'Ημέρα των Θεοφανίων', datetime.date(2011, 3, 7): 'Καθαρά Δευτέρα', datetime.date(2011, 3, 25): 'Ημέρα της Ελληνικής Ανεξαρτησίας', datetime.date(2011, 4, 1): 'Εθνική Ημέρα Κύπρου', datetime.date(2011, 4, 22): 'Μεγάλη Παρασκευή', datetime.date(2011, 4, 24): 'Κυριακή του Πάσχα', datetime.date(2011, 4, 25): 'Δευτέρα της Διακαινησίμου', datetime.date(2011, 5, 1): 'Πρωτομαγιά', datetime.date(2011, 6, 13): 'Δευτέρα του Αγίου Πνεύματος', datetime.date(2011, 8, 15): 'Κοίμηση της Θεοτόκου', datetime.date(2011, 10, 1): 'Ημέρα της Κυπριακής Ανεξαρτησίας', datetime.date(2011, 10, 28): 'Ημέρα του Όχι', datetime.date(2011, 12, 25): 'Χριστούγεννα', datetime.date(2011, 12, 26): 'Επομένη Χριστουγέννων'},\n",
       " 'NO': {datetime.date(2010, 1, 1): 'Første nyttårsdag', datetime.date(2010, 4, 1): 'Skjærtorsdag', datetime.date(2010, 4, 2): 'Langfredag', datetime.date(2010, 4, 4): 'Første påskedag', datetime.date(2010, 4, 5): 'Andre påskedag', datetime.date(2010, 5, 1): 'Arbeidernes dag', datetime.date(2010, 5, 17): 'Grunnlovsdag', datetime.date(2010, 5, 13): 'Kristi himmelfartsdag', datetime.date(2010, 5, 23): 'Første pinsedag', datetime.date(2010, 5, 24): 'Andre pinsedag', datetime.date(2010, 12, 25): 'Første juledag', datetime.date(2010, 12, 26): 'Andre juledag', datetime.date(2011, 1, 1): 'Første nyttårsdag', datetime.date(2011, 4, 21): 'Skjærtorsdag', datetime.date(2011, 4, 22): 'Langfredag', datetime.date(2011, 4, 24): 'Første påskedag', datetime.date(2011, 4, 25): 'Andre påskedag', datetime.date(2011, 5, 1): 'Arbeidernes dag', datetime.date(2011, 5, 17): 'Grunnlovsdag', datetime.date(2011, 6, 2): 'Kristi himmelfartsdag', datetime.date(2011, 6, 12): 'Første pinsedag', datetime.date(2011, 6, 13): 'Andre pinsedag', datetime.date(2011, 12, 25): 'Første juledag', datetime.date(2011, 12, 26): 'Andre juledag'},\n",
       " 'ES': {datetime.date(2010, 1, 1): 'Año nuevo', datetime.date(2010, 1, 6): 'Epifanía del Señor', datetime.date(2010, 4, 2): 'Viernes Santo', datetime.date(2010, 5, 1): 'Fiesta del Trabajo', datetime.date(2010, 10, 12): 'Fiesta Nacional de España', datetime.date(2010, 11, 1): 'Todos los Santos', datetime.date(2010, 12, 6): 'Día de la Constitución Española', datetime.date(2010, 12, 8): 'Inmaculada Concepción', datetime.date(2010, 12, 25): 'Natividad del Señor', datetime.date(2011, 1, 1): 'Año nuevo', datetime.date(2011, 1, 6): 'Epifanía del Señor', datetime.date(2011, 4, 22): 'Viernes Santo', datetime.date(2011, 8, 15): 'Asunción de la Virgen', datetime.date(2011, 10, 12): 'Fiesta Nacional de España', datetime.date(2011, 11, 1): 'Todos los Santos', datetime.date(2011, 12, 6): 'Día de la Constitución Española', datetime.date(2011, 12, 8): 'Inmaculada Concepción'},\n",
       " 'GR': {datetime.date(2010, 1, 1): 'Πρωτοχρονιά', datetime.date(2010, 1, 6): 'Θεοφάνεια', datetime.date(2010, 2, 15): 'Καθαρά Δευτέρα', datetime.date(2010, 3, 25): 'Εικοστή Πέμπτη Μαρτίου', datetime.date(2010, 4, 2): 'Μεγάλη Παρασκευή', datetime.date(2010, 4, 5): 'Δευτέρα του Πάσχα', datetime.date(2010, 5, 24): 'Δευτέρα του Αγίου Πνεύματος', datetime.date(2010, 5, 1): 'Εργατική Πρωτομαγιά', datetime.date(2010, 8, 15): 'Κοίμηση της Θεοτόκου', datetime.date(2010, 10, 28): 'Ημέρα του Όχι', datetime.date(2010, 12, 25): 'Χριστούγεννα', datetime.date(2010, 12, 26): 'Σύναξη της Υπεραγίας Θεοτόκου', datetime.date(2011, 1, 1): 'Πρωτοχρονιά', datetime.date(2011, 1, 6): 'Θεοφάνεια', datetime.date(2011, 3, 7): 'Καθαρά Δευτέρα', datetime.date(2011, 3, 25): 'Εικοστή Πέμπτη Μαρτίου', datetime.date(2011, 4, 22): 'Μεγάλη Παρασκευή', datetime.date(2011, 4, 25): 'Δευτέρα του Πάσχα', datetime.date(2011, 6, 13): 'Δευτέρα του Αγίου Πνεύματος', datetime.date(2011, 5, 1): 'Εργατική Πρωτομαγιά', datetime.date(2011, 8, 15): 'Κοίμηση της Θεοτόκου', datetime.date(2011, 10, 28): 'Ημέρα του Όχι', datetime.date(2011, 12, 25): 'Χριστούγεννα', datetime.date(2011, 12, 26): 'Σύναξη της Υπεραγίας Θεοτόκου'},\n",
       " 'GB': {datetime.date(2010, 4, 2): 'Good Friday', datetime.date(2010, 5, 3): 'May Day', datetime.date(2010, 5, 31): 'Spring Bank Holiday', datetime.date(2010, 1, 1): \"New Year's Day\", datetime.date(2010, 12, 25): 'Christmas Day', datetime.date(2010, 12, 27): 'Christmas Day (observed)', datetime.date(2010, 12, 26): 'Boxing Day', datetime.date(2010, 12, 28): 'Boxing Day (observed)', datetime.date(2011, 4, 22): 'Good Friday', datetime.date(2011, 5, 2): 'May Day', datetime.date(2011, 5, 30): 'Spring Bank Holiday', datetime.date(2011, 4, 29): 'Wedding of William and Catherine', datetime.date(2011, 1, 1): \"New Year's Day\", datetime.date(2011, 1, 3): \"New Year's Day (observed)\", datetime.date(2011, 12, 25): 'Christmas Day', datetime.date(2011, 12, 27): 'Christmas Day (observed)', datetime.date(2011, 12, 26): 'Boxing Day'},\n",
       " 'FR': {datetime.date(2010, 1, 1): \"Jour de l'an\", datetime.date(2010, 5, 1): 'Fête du Travail', datetime.date(2010, 5, 8): 'Fête de la Victoire', datetime.date(2010, 7, 14): 'Fête nationale', datetime.date(2010, 11, 11): 'Armistice', datetime.date(2010, 4, 5): 'Lundi de Pâques', datetime.date(2010, 5, 24): 'Lundi de Pentecôte', datetime.date(2010, 5, 13): 'Ascension', datetime.date(2010, 8, 15): 'Assomption', datetime.date(2010, 11, 1): 'Toussaint', datetime.date(2010, 12, 25): 'Noël', datetime.date(2011, 1, 1): \"Jour de l'an\", datetime.date(2011, 5, 1): 'Fête du Travail', datetime.date(2011, 5, 8): 'Fête de la Victoire', datetime.date(2011, 7, 14): 'Fête nationale', datetime.date(2011, 11, 11): 'Armistice', datetime.date(2011, 4, 25): 'Lundi de Pâques', datetime.date(2011, 6, 13): 'Lundi de Pentecôte', datetime.date(2011, 6, 2): 'Ascension', datetime.date(2011, 8, 15): 'Assomption', datetime.date(2011, 11, 1): 'Toussaint', datetime.date(2011, 12, 25): 'Noël'},\n",
       " 'US': {datetime.date(2010, 1, 1): \"New Year's Day\", datetime.date(2010, 12, 31): \"New Year's Day (observed)\", datetime.date(2010, 5, 31): 'Memorial Day', datetime.date(2010, 7, 4): 'Independence Day', datetime.date(2010, 7, 5): 'Independence Day (observed)', datetime.date(2010, 9, 6): 'Labor Day', datetime.date(2010, 11, 11): 'Veterans Day', datetime.date(2010, 11, 25): 'Thanksgiving', datetime.date(2010, 12, 25): 'Christmas Day', datetime.date(2010, 12, 24): 'Christmas Day (observed)', datetime.date(2010, 1, 18): 'Martin Luther King Jr. Day', datetime.date(2010, 2, 15): \"Washington's Birthday\", datetime.date(2010, 10, 11): 'Columbus Day', datetime.date(2011, 1, 1): \"New Year's Day\", datetime.date(2011, 5, 30): 'Memorial Day', datetime.date(2011, 7, 4): 'Independence Day', datetime.date(2011, 9, 5): 'Labor Day', datetime.date(2011, 11, 11): 'Veterans Day', datetime.date(2011, 11, 24): 'Thanksgiving', datetime.date(2011, 12, 25): 'Christmas Day', datetime.date(2011, 12, 26): 'Christmas Day (observed)', datetime.date(2011, 1, 17): 'Martin Luther King Jr. Day', datetime.date(2011, 2, 21): \"Washington's Birthday\", datetime.date(2011, 10, 10): 'Columbus Day'},\n",
       " 'CH': {datetime.date(2010, 1, 1): 'Neujahrstag', datetime.date(2010, 5, 13): 'Auffahrt', datetime.date(2010, 8, 1): 'Nationalfeiertag', datetime.date(2010, 12, 25): 'Weihnachten', datetime.date(2011, 1, 1): 'Neujahrstag', datetime.date(2011, 6, 2): 'Auffahrt', datetime.date(2011, 8, 1): 'Nationalfeiertag', datetime.date(2011, 12, 25): 'Weihnachten'},\n",
       " 'ZA': {datetime.date(2010, 1, 1): \"New Year's Day\", datetime.date(2010, 4, 2): 'Good Friday', datetime.date(2010, 4, 5): 'Family Day', datetime.date(2010, 12, 16): 'Day of Reconciliation', datetime.date(2010, 12, 25): 'Christmas Day', datetime.date(2010, 12, 26): 'Day of Goodwill', datetime.date(2010, 12, 27): 'Day of Goodwill (observed)', datetime.date(2010, 3, 21): 'Human Rights Day', datetime.date(2010, 3, 22): 'Human Rights Day (observed)', datetime.date(2010, 4, 27): 'Freedom Day', datetime.date(2010, 5, 1): \"Workers' Day\", datetime.date(2010, 6, 16): 'Youth Day', datetime.date(2010, 8, 9): \"National Women's Day\", datetime.date(2010, 9, 24): 'Heritage Day', datetime.date(2011, 1, 1): \"New Year's Day\", datetime.date(2011, 4, 22): 'Good Friday', datetime.date(2011, 4, 25): 'Family Day', datetime.date(2011, 12, 16): 'Day of Reconciliation', datetime.date(2011, 12, 25): 'Christmas Day', datetime.date(2011, 12, 26): 'Day of Goodwill', datetime.date(2011, 3, 21): 'Human Rights Day', datetime.date(2011, 4, 27): 'Freedom Day', datetime.date(2011, 5, 1): \"Workers' Day\", datetime.date(2011, 5, 2): \"Workers' Day (observed)\", datetime.date(2011, 6, 16): 'Youth Day', datetime.date(2011, 8, 9): \"National Women's Day\", datetime.date(2011, 9, 24): 'Heritage Day', datetime.date(2011, 5, 18): 'Local government elections', datetime.date(2011, 12, 27): 'Public holiday by presidential decree'},\n",
       " 'SG': {datetime.date(2010, 1, 1): \"New Year's Day\", datetime.date(2010, 2, 14): 'Chinese New Year', datetime.date(2010, 2, 15): 'Chinese New Year', datetime.date(2010, 9, 10): 'Hari Raya Puasa', datetime.date(2010, 11, 17): 'Hari Raya Haji', datetime.date(2010, 4, 2): 'Good Friday', datetime.date(2010, 5, 1): 'Labour Day', datetime.date(2010, 5, 28): 'Vesak Day', datetime.date(2010, 8, 9): 'National Day', datetime.date(2010, 11, 5): 'Deepavali', datetime.date(2010, 12, 25): 'Christmas Day', datetime.date(2010, 2, 16): 'Chinese New Year (observed)', datetime.date(2011, 1, 1): \"New Year's Day\", datetime.date(2011, 2, 3): 'Chinese New Year', datetime.date(2011, 2, 4): 'Chinese New Year', datetime.date(2011, 8, 30): 'Hari Raya Puasa', datetime.date(2011, 11, 6): 'Hari Raya Haji', datetime.date(2011, 4, 22): 'Good Friday', datetime.date(2011, 5, 1): 'Labour Day', datetime.date(2011, 5, 17): 'Vesak Day', datetime.date(2011, 8, 9): 'National Day', datetime.date(2011, 10, 26): 'Deepavali', datetime.date(2011, 12, 25): 'Christmas Day', datetime.date(2011, 5, 2): 'Labour Day (observed)', datetime.date(2011, 11, 7): 'Hari Raya Haji (observed)', datetime.date(2011, 12, 26): 'Christmas Day (observed)', datetime.date(2011, 5, 7): 'Polling Day'},\n",
       " 'IE': {datetime.date(2010, 1, 1): \"New Year's Day\", datetime.date(2010, 3, 17): \"Saint Patrick's Day\", datetime.date(2010, 4, 5): 'Easter Monday', datetime.date(2010, 5, 3): 'May Day', datetime.date(2010, 6, 7): 'June Bank Holiday', datetime.date(2010, 8, 2): 'August Bank Holiday', datetime.date(2010, 10, 25): 'October Bank Holiday', datetime.date(2010, 12, 25): 'Christmas Day', datetime.date(2010, 12, 26): \"Saint Stephen's Day\", datetime.date(2011, 1, 1): \"New Year's Day\", datetime.date(2011, 3, 17): \"Saint Patrick's Day\", datetime.date(2011, 4, 25): 'Easter Monday', datetime.date(2011, 5, 2): 'May Day', datetime.date(2011, 6, 6): 'June Bank Holiday', datetime.date(2011, 8, 1): 'August Bank Holiday', datetime.date(2011, 10, 31): 'October Bank Holiday', datetime.date(2011, 12, 25): 'Christmas Day', datetime.date(2011, 12, 26): \"Saint Stephen's Day\", datetime.date(2011, 9, 14): 'National Day of Mourning'},\n",
       " 'JP': {datetime.date(2010, 1, 1): '元日', datetime.date(2010, 1, 11): '成人の日', datetime.date(2010, 2, 11): '建国記念の日', datetime.date(2010, 3, 21): '春分の日', datetime.date(2010, 4, 29): '昭和の日', datetime.date(2010, 5, 3): '憲法記念日', datetime.date(2010, 5, 4): 'みどりの日', datetime.date(2010, 5, 5): 'こどもの日', datetime.date(2010, 7, 19): '海の日', datetime.date(2010, 9, 20): '敬老の日', datetime.date(2010, 9, 23): '秋分の日', datetime.date(2010, 10, 11): '体育の日', datetime.date(2010, 11, 3): '文化の日', datetime.date(2010, 11, 23): '勤労感謝の日', datetime.date(2010, 12, 23): '天皇誕生日', datetime.date(2010, 3, 22): '振替休日', datetime.date(2011, 1, 1): '元日', datetime.date(2011, 1, 10): '成人の日', datetime.date(2011, 2, 11): '建国記念の日', datetime.date(2011, 3, 21): '春分の日', datetime.date(2011, 4, 29): '昭和の日', datetime.date(2011, 5, 3): '憲法記念日', datetime.date(2011, 5, 4): 'みどりの日', datetime.date(2011, 5, 5): 'こどもの日', datetime.date(2011, 7, 18): '海の日', datetime.date(2011, 9, 19): '敬老の日', datetime.date(2011, 9, 23): '秋分の日', datetime.date(2011, 10, 10): '体育の日', datetime.date(2011, 11, 3): '文化の日', datetime.date(2011, 11, 23): '勤労感謝の日', datetime.date(2011, 12, 23): '天皇誕生日'},\n",
       " 'MT': {datetime.date(2010, 1, 1): 'L-Ewwel tas-Sena', datetime.date(2010, 2, 10): \"Il-Festa tan-Nawfraġju ta' San Pawl\", datetime.date(2010, 3, 19): \"Il-Festa ta' San Ġużepp\", datetime.date(2010, 3, 31): 'Jum il-Ħelsien', datetime.date(2010, 4, 2): 'Il-Ġimgħa l-Kbira', datetime.date(2010, 5, 1): 'Jum il-Ħaddiem', datetime.date(2010, 6, 7): 'Sette Giugno', datetime.date(2010, 6, 29): \"Il-Festa ta' San Pietru u San Pawl\", datetime.date(2010, 8, 15): \"Il-Festa ta' Santa Marija\", datetime.date(2010, 9, 8): 'Jum il-Vitorja', datetime.date(2010, 9, 21): 'Jum l-Indipendenza', datetime.date(2010, 12, 8): 'Il-Festa tal-Immakulata Kunċizzjoni', datetime.date(2010, 12, 13): 'Jum ir-Repubblika', datetime.date(2010, 12, 25): 'Il-Milied', datetime.date(2011, 1, 1): 'L-Ewwel tas-Sena', datetime.date(2011, 2, 10): \"Il-Festa tan-Nawfraġju ta' San Pawl\", datetime.date(2011, 3, 19): \"Il-Festa ta' San Ġużepp\", datetime.date(2011, 3, 31): 'Jum il-Ħelsien', datetime.date(2011, 4, 22): 'Il-Ġimgħa l-Kbira', datetime.date(2011, 5, 1): 'Jum il-Ħaddiem', datetime.date(2011, 6, 7): 'Sette Giugno', datetime.date(2011, 6, 29): \"Il-Festa ta' San Pietru u San Pawl\", datetime.date(2011, 8, 15): \"Il-Festa ta' Santa Marija\", datetime.date(2011, 9, 8): 'Jum il-Vitorja', datetime.date(2011, 9, 21): 'Jum l-Indipendenza', datetime.date(2011, 12, 8): 'Il-Festa tal-Immakulata Kunċizzjoni', datetime.date(2011, 12, 13): 'Jum ir-Repubblika', datetime.date(2011, 12, 25): 'Il-Milied'},\n",
       " 'CZ': {datetime.date(2010, 1, 1): 'Den obnovy samostatného českého státu; Nový rok', datetime.date(2010, 4, 5): 'Velikonoční pondělí', datetime.date(2010, 5, 1): 'Svátek práce', datetime.date(2010, 5, 8): 'Den vítězství', datetime.date(2010, 7, 5): 'Den slovanských věrozvěstů Cyrila a Metoděje', datetime.date(2010, 7, 6): 'Den upálení mistra Jana Husa', datetime.date(2010, 9, 28): 'Den české státnosti', datetime.date(2010, 10, 28): 'Den vzniku samostatného československého státu', datetime.date(2010, 11, 17): 'Den boje za svobodu a demokracii', datetime.date(2010, 12, 24): 'Štědrý den', datetime.date(2010, 12, 25): '1. svátek vánoční', datetime.date(2010, 12, 26): '2. svátek vánoční', datetime.date(2011, 1, 1): 'Den obnovy samostatného českého státu; Nový rok', datetime.date(2011, 4, 25): 'Velikonoční pondělí', datetime.date(2011, 5, 1): 'Svátek práce', datetime.date(2011, 5, 8): 'Den vítězství', datetime.date(2011, 7, 5): 'Den slovanských věrozvěstů Cyrila a Metoděje', datetime.date(2011, 7, 6): 'Den upálení mistra Jana Husa', datetime.date(2011, 9, 28): 'Den české státnosti', datetime.date(2011, 10, 28): 'Den vzniku samostatného československého státu', datetime.date(2011, 11, 17): 'Den boje za svobodu a demokracii', datetime.date(2011, 12, 24): 'Štědrý den', datetime.date(2011, 12, 25): '1. svátek vánoční', datetime.date(2011, 12, 26): '2. svátek vánoční'},\n",
       " 'NL': {datetime.date(2010, 1, 1): 'Nieuwjaarsdag', datetime.date(2010, 4, 4): 'Eerste paasdag', datetime.date(2010, 4, 5): 'Tweede paasdag', datetime.date(2010, 4, 30): 'Koninginnedag', datetime.date(2010, 5, 5): 'Bevrijdingsdag', datetime.date(2010, 5, 13): 'Hemelvaartsdag', datetime.date(2010, 5, 23): 'Eerste Pinksterdag', datetime.date(2010, 5, 24): 'Tweede Pinksterdag', datetime.date(2010, 12, 25): 'Eerste Kerstdag', datetime.date(2010, 12, 26): 'Tweede Kerstdag', datetime.date(2011, 1, 1): 'Nieuwjaarsdag', datetime.date(2011, 4, 24): 'Eerste paasdag', datetime.date(2011, 4, 25): 'Tweede paasdag', datetime.date(2011, 4, 30): 'Koninginnedag', datetime.date(2011, 6, 2): 'Hemelvaartsdag', datetime.date(2011, 6, 12): 'Eerste Pinksterdag', datetime.date(2011, 6, 13): 'Tweede Pinksterdag', datetime.date(2011, 12, 25): 'Eerste Kerstdag', datetime.date(2011, 12, 26): 'Tweede Kerstdag'},\n",
       " 'IL': {datetime.date(2010, 9, 9): 'ראש השנה', datetime.date(2010, 9, 10): 'ראש השנה', datetime.date(2010, 9, 18): 'יום כיפור', datetime.date(2010, 9, 23): 'סוכות', datetime.date(2010, 9, 30): 'שמחת תורה/שמיני עצרת', datetime.date(2010, 3, 30): 'פסח', datetime.date(2010, 4, 5): 'שביעי של פסח', datetime.date(2010, 4, 20): '(נצפה) יום העצמאות', datetime.date(2010, 5, 19): 'שבועות', datetime.date(2011, 9, 29): 'ראש השנה', datetime.date(2011, 9, 30): 'ראש השנה', datetime.date(2011, 10, 8): 'יום כיפור', datetime.date(2011, 10, 13): 'סוכות', datetime.date(2011, 10, 20): 'שמחת תורה/שמיני עצרת', datetime.date(2011, 4, 19): 'פסח', datetime.date(2011, 4, 25): 'שביעי של פסח', datetime.date(2011, 5, 10): '(נצפה) יום העצמאות', datetime.date(2011, 6, 8): 'שבועות'},\n",
       " 'IT': {datetime.date(2010, 1, 1): 'Capodanno', datetime.date(2010, 1, 6): 'Epifania del Signore', datetime.date(2010, 4, 4): 'Pasqua di Resurrezione', datetime.date(2010, 4, 5): \"Lunedì dell'Angelo\", datetime.date(2010, 4, 25): 'Festa della Liberazione', datetime.date(2010, 5, 1): 'Festa dei Lavoratori', datetime.date(2010, 6, 2): 'Festa della Repubblica', datetime.date(2010, 8, 15): 'Assunzione della Vergine', datetime.date(2010, 11, 1): 'Tutti i Santi', datetime.date(2010, 12, 8): 'Immacolata Concezione', datetime.date(2010, 12, 25): 'Natale', datetime.date(2010, 12, 26): 'Santo Stefano', datetime.date(2011, 1, 1): 'Capodanno', datetime.date(2011, 1, 6): 'Epifania del Signore', datetime.date(2011, 4, 24): 'Pasqua di Resurrezione', datetime.date(2011, 4, 25): \"Festa della Liberazione; Lunedì dell'Angelo\", datetime.date(2011, 5, 1): 'Festa dei Lavoratori', datetime.date(2011, 6, 2): 'Festa della Repubblica', datetime.date(2011, 8, 15): 'Assunzione della Vergine', datetime.date(2011, 11, 1): 'Tutti i Santi', datetime.date(2011, 12, 8): 'Immacolata Concezione', datetime.date(2011, 12, 25): 'Natale', datetime.date(2011, 12, 26): 'Santo Stefano', datetime.date(2011, 3, 17): \"Anniversario dell'Unità d'Italia\"},\n",
       " 'SA': {datetime.date(2010, 9, 10): '(تقدير) عطلة عيد الفطر', datetime.date(2010, 9, 11): '(تقدير) عطلة عيد الفطر', datetime.date(2010, 9, 12): '(تقدير) عطلة عيد الفطر', datetime.date(2010, 9, 13): '(تقدير) عطلة عيد الفطر', datetime.date(2010, 9, 14): '(تقدير ملاحظة) عطلة عيد الفطر', datetime.date(2010, 11, 15): '(تقدير) يوم عرفة', datetime.date(2010, 11, 16): '(تقدير) عطلة عيد الأضحى', datetime.date(2010, 11, 17): '(تقدير) عطلة عيد الأضحى', datetime.date(2010, 11, 18): '(تقدير) عطلة عيد الأضحى', datetime.date(2010, 11, 20): '(تقدير ملاحظة) عطلة عيد الأضحى', datetime.date(2010, 9, 23): 'اليوم الوطني', datetime.date(2010, 9, 22): '(ملاحظة) اليوم الوطني', datetime.date(2011, 8, 30): '(تقدير) عطلة عيد الفطر', datetime.date(2011, 8, 31): '(تقدير) عطلة عيد الفطر', datetime.date(2011, 9, 1): '(تقدير) عطلة عيد الفطر', datetime.date(2011, 9, 2): '(تقدير) عطلة عيد الفطر', datetime.date(2011, 9, 3): '(تقدير ملاحظة) عطلة عيد الفطر', datetime.date(2011, 9, 4): '(تقدير ملاحظة) عطلة عيد الفطر', datetime.date(2011, 11, 5): '(تقدير) يوم عرفة', datetime.date(2011, 11, 6): '(تقدير) عطلة عيد الأضحى', datetime.date(2011, 11, 7): '(تقدير) عطلة عيد الأضحى', datetime.date(2011, 11, 8): '(تقدير) عطلة عيد الأضحى', datetime.date(2011, 9, 23): 'اليوم الوطني', datetime.date(2011, 9, 24): '(ملاحظة) اليوم الوطني'},\n",
       " 'PT': {datetime.date(2010, 1, 1): 'Ano Novo', datetime.date(2010, 4, 2): 'Sexta-feira Santa', datetime.date(2010, 4, 4): 'Páscoa', datetime.date(2010, 6, 3): 'Corpo de Deus', datetime.date(2010, 10, 5): 'Implantação da República', datetime.date(2010, 11, 1): 'Dia de Todos os Santos', datetime.date(2010, 12, 1): 'Restauração da Independência', datetime.date(2010, 4, 25): 'Dia da Liberdade', datetime.date(2010, 5, 1): 'Dia do Trabalhador', datetime.date(2010, 6, 10): 'Dia de Portugal, de Camões e das Comunidades Portuguesas', datetime.date(2010, 8, 15): 'Assunção de Nossa Senhora', datetime.date(2010, 12, 8): 'Imaculada Conceição', datetime.date(2010, 12, 25): 'Dia de Natal', datetime.date(2011, 1, 1): 'Ano Novo', datetime.date(2011, 4, 22): 'Sexta-feira Santa', datetime.date(2011, 4, 24): 'Páscoa', datetime.date(2011, 6, 23): 'Corpo de Deus', datetime.date(2011, 10, 5): 'Implantação da República', datetime.date(2011, 11, 1): 'Dia de Todos os Santos', datetime.date(2011, 12, 1): 'Restauração da Independência', datetime.date(2011, 4, 25): 'Dia da Liberdade', datetime.date(2011, 5, 1): 'Dia do Trabalhador', datetime.date(2011, 6, 10): 'Dia de Portugal, de Camões e das Comunidades Portuguesas', datetime.date(2011, 8, 15): 'Assunção de Nossa Senhora', datetime.date(2011, 12, 8): 'Imaculada Conceição', datetime.date(2011, 12, 25): 'Dia de Natal'},\n",
       " 'BE': {datetime.date(2010, 1, 1): 'Nieuwjaar', datetime.date(2010, 4, 4): 'Pasen', datetime.date(2010, 4, 5): 'Paasmaandag', datetime.date(2010, 5, 1): 'Dag van de Arbeid', datetime.date(2010, 5, 13): 'O. L. H. Hemelvaart', datetime.date(2010, 5, 23): 'Pinksteren', datetime.date(2010, 5, 24): 'Pinkstermaandag', datetime.date(2010, 7, 21): 'Nationale feestdag', datetime.date(2010, 8, 15): 'O. L. V. Hemelvaart', datetime.date(2010, 11, 1): 'Allerheiligen', datetime.date(2010, 11, 11): 'Wapenstilstand', datetime.date(2010, 12, 25): 'Kerstmis', datetime.date(2011, 1, 1): 'Nieuwjaar', datetime.date(2011, 4, 24): 'Pasen', datetime.date(2011, 4, 25): 'Paasmaandag', datetime.date(2011, 5, 1): 'Dag van de Arbeid', datetime.date(2011, 6, 2): 'O. L. H. Hemelvaart', datetime.date(2011, 6, 12): 'Pinksteren', datetime.date(2011, 6, 13): 'Pinkstermaandag', datetime.date(2011, 7, 21): 'Nationale feestdag', datetime.date(2011, 8, 15): 'O. L. V. Hemelvaart', datetime.date(2011, 11, 1): 'Allerheiligen', datetime.date(2011, 11, 11): 'Wapenstilstand', datetime.date(2011, 12, 25): 'Kerstmis'},\n",
       " 'PL': {datetime.date(2010, 1, 1): 'Nowy Rok', datetime.date(2010, 4, 4): 'Niedziela Wielkanocna', datetime.date(2010, 4, 5): 'Poniedziałek Wielkanocny', datetime.date(2010, 5, 1): 'Święto Państwowe', datetime.date(2010, 5, 3): 'Święto Narodowe Trzeciego Maja', datetime.date(2010, 5, 23): 'Zielone Świątki', datetime.date(2010, 6, 3): 'Dzień Bożego Ciała', datetime.date(2010, 8, 15): 'Wniebowzięcie Najświętszej Marii Panny', datetime.date(2010, 11, 1): 'Uroczystość Wszystkich Świętych', datetime.date(2010, 11, 11): 'Narodowe Święto Niepodległości', datetime.date(2010, 12, 25): 'Boże Narodzenie (pierwszy dzień)', datetime.date(2010, 12, 26): 'Boże Narodzenie (drugi dzień)', datetime.date(2011, 1, 1): 'Nowy Rok', datetime.date(2011, 1, 6): 'Święto Trzech Króli', datetime.date(2011, 4, 24): 'Niedziela Wielkanocna', datetime.date(2011, 4, 25): 'Poniedziałek Wielkanocny', datetime.date(2011, 5, 1): 'Święto Państwowe', datetime.date(2011, 5, 3): 'Święto Narodowe Trzeciego Maja', datetime.date(2011, 6, 12): 'Zielone Świątki', datetime.date(2011, 6, 23): 'Dzień Bożego Ciała', datetime.date(2011, 8, 15): 'Wniebowzięcie Najświętszej Marii Panny', datetime.date(2011, 11, 1): 'Uroczystość Wszystkich Świętych', datetime.date(2011, 11, 11): 'Narodowe Święto Niepodległości', datetime.date(2011, 12, 25): 'Boże Narodzenie (pierwszy dzień)', datetime.date(2011, 12, 26): 'Boże Narodzenie (drugi dzień)'},\n",
       " 'DK': {datetime.date(2010, 1, 1): 'Nytårsdag', datetime.date(2010, 4, 1): 'Skærtorsdag', datetime.date(2010, 4, 2): 'Langfredag', datetime.date(2010, 4, 4): 'Påskedag', datetime.date(2010, 4, 5): 'Anden påskedag', datetime.date(2010, 4, 30): 'Store bededag', datetime.date(2010, 5, 13): 'Kristi himmelfartsdag', datetime.date(2010, 5, 23): 'Pinsedag', datetime.date(2010, 5, 24): 'Anden pinsedag', datetime.date(2010, 12, 25): 'Juledag', datetime.date(2010, 12, 26): 'Anden juledag', datetime.date(2011, 1, 1): 'Nytårsdag', datetime.date(2011, 4, 21): 'Skærtorsdag', datetime.date(2011, 4, 22): 'Langfredag', datetime.date(2011, 4, 24): 'Påskedag', datetime.date(2011, 4, 25): 'Anden påskedag', datetime.date(2011, 5, 20): 'Store bededag', datetime.date(2011, 6, 2): 'Kristi himmelfartsdag', datetime.date(2011, 6, 12): 'Pinsedag', datetime.date(2011, 6, 13): 'Anden pinsedag', datetime.date(2011, 12, 25): 'Juledag', datetime.date(2011, 12, 26): 'Anden juledag'},\n",
       " 'BH': {datetime.date(2010, 1, 1): 'رأس السنة الميلادية', datetime.date(2010, 5, 1): 'عيد العمال', datetime.date(2010, 9, 10): '(تقدير) عيد الفطر', datetime.date(2010, 9, 11): '(تقدير) عطلة عيد الفطر', datetime.date(2010, 9, 12): '(تقدير) عطلة عيد الفطر', datetime.date(2010, 11, 16): '(تقدير) عيد الأضحى', datetime.date(2010, 11, 17): '(تقدير) عطلة عيد الأضحى', datetime.date(2010, 11, 18): '(تقدير) عطلة عيد الأضحى', datetime.date(2010, 12, 7): '(تقدير) رأس السنة الهجرية', datetime.date(2010, 12, 15): '(تقدير) ليلة عاشورة', datetime.date(2010, 12, 16): '(تقدير) عاشورة; اليوم الوطني', datetime.date(2010, 2, 26): '(تقدير) عيد المولد النبوي', datetime.date(2010, 12, 17): 'اليوم الوطني', datetime.date(2011, 1, 1): 'رأس السنة الميلادية', datetime.date(2011, 5, 1): 'عيد العمال', datetime.date(2011, 8, 30): '(تقدير) عيد الفطر', datetime.date(2011, 8, 31): '(تقدير) عطلة عيد الفطر', datetime.date(2011, 9, 1): '(تقدير) عطلة عيد الفطر', datetime.date(2011, 11, 6): '(تقدير) عيد الأضحى', datetime.date(2011, 11, 7): '(تقدير) عطلة عيد الأضحى', datetime.date(2011, 11, 8): '(تقدير) عطلة عيد الأضحى', datetime.date(2011, 11, 26): '(تقدير) رأس السنة الهجرية', datetime.date(2011, 12, 4): '(تقدير) ليلة عاشورة', datetime.date(2011, 12, 5): '(تقدير) عاشورة', datetime.date(2011, 2, 15): '(تقدير) عيد المولد النبوي', datetime.date(2011, 12, 16): 'اليوم الوطني', datetime.date(2011, 12, 17): 'اليوم الوطني'},\n",
       " 'AE': {datetime.date(2010, 1, 1): 'رأس السنة الميلادية', datetime.date(2010, 12, 2): 'اليوم الوطني', datetime.date(2010, 12, 3): 'اليوم الوطني', datetime.date(2010, 9, 10): '(تقدير) عيد الفطر', datetime.date(2010, 9, 11): '(تقدير) عطلة عيد الفطر', datetime.date(2010, 9, 12): '(تقدير) عطلة عيد الفطر', datetime.date(2010, 11, 15): '(تقدير) وقفة عرفة', datetime.date(2010, 11, 16): '(تقدير) عيد الأضحى', datetime.date(2010, 11, 17): '(تقدير) عطلة عيد الأضحى', datetime.date(2010, 11, 18): '(تقدير) عطلة عيد الأضحى', datetime.date(2010, 12, 7): '(تقدير) رأس السنة الهجرية', datetime.date(2010, 7, 9): '(تقدير) ليلة المعراج', datetime.date(2010, 2, 26): '(تقدير) عيد المولد النبوي', datetime.date(2011, 1, 1): 'رأس السنة الميلادية', datetime.date(2011, 12, 2): 'اليوم الوطني', datetime.date(2011, 12, 3): 'اليوم الوطني', datetime.date(2011, 8, 30): '(تقدير) عيد الفطر', datetime.date(2011, 8, 31): '(تقدير) عطلة عيد الفطر', datetime.date(2011, 9, 1): '(تقدير) عطلة عيد الفطر', datetime.date(2011, 11, 5): '(تقدير) وقفة عرفة', datetime.date(2011, 11, 6): '(تقدير) عيد الأضحى', datetime.date(2011, 11, 7): '(تقدير) عطلة عيد الأضحى', datetime.date(2011, 11, 8): '(تقدير) عطلة عيد الأضحى', datetime.date(2011, 11, 26): '(تقدير) رأس السنة الهجرية', datetime.date(2011, 6, 29): '(تقدير) ليلة المعراج', datetime.date(2011, 2, 15): '(تقدير) عيد المولد النبوي'},\n",
       " 'IS': {datetime.date(2010, 1, 1): 'Nýársdagur', datetime.date(2010, 4, 1): 'Skírdagur', datetime.date(2010, 4, 2): 'Föstudagurinn langi', datetime.date(2010, 4, 4): 'Páskadagur', datetime.date(2010, 4, 5): 'Annar í páskum', datetime.date(2010, 4, 22): 'Sumardagurinn fyrsti', datetime.date(2010, 5, 1): 'Verkalýðsdagurinn', datetime.date(2010, 5, 13): 'Uppstigningardagur', datetime.date(2010, 5, 23): 'Hvítasunnudagur', datetime.date(2010, 5, 24): 'Annar í hvítasunnu', datetime.date(2010, 6, 17): 'Þjóðhátíðardagurinn', datetime.date(2010, 8, 2): 'Frídagur verslunarmanna', datetime.date(2010, 12, 25): 'Jóladagur', datetime.date(2010, 12, 26): 'Annar í jólum', datetime.date(2011, 1, 1): 'Nýársdagur', datetime.date(2011, 4, 21): 'Skírdagur; Sumardagurinn fyrsti', datetime.date(2011, 4, 22): 'Föstudagurinn langi', datetime.date(2011, 4, 24): 'Páskadagur', datetime.date(2011, 4, 25): 'Annar í páskum', datetime.date(2011, 5, 1): 'Verkalýðsdagurinn', datetime.date(2011, 6, 2): 'Uppstigningardagur', datetime.date(2011, 6, 12): 'Hvítasunnudagur', datetime.date(2011, 6, 13): 'Annar í hvítasunnu', datetime.date(2011, 6, 17): 'Þjóðhátíðardagurinn', datetime.date(2011, 8, 1): 'Frídagur verslunarmanna', datetime.date(2011, 12, 25): 'Jóladagur', datetime.date(2011, 12, 26): 'Annar í jólum'},\n",
       " 'AT': {datetime.date(2010, 1, 1): 'Neujahr', datetime.date(2010, 1, 6): 'Heilige Drei Könige', datetime.date(2010, 4, 5): 'Ostermontag', datetime.date(2010, 5, 1): 'Staatsfeiertag', datetime.date(2010, 5, 13): 'Christi Himmelfahrt', datetime.date(2010, 5, 24): 'Pfingstmontag', datetime.date(2010, 6, 3): 'Fronleichnam', datetime.date(2010, 8, 15): 'Mariä Himmelfahrt', datetime.date(2010, 10, 26): 'Nationalfeiertag', datetime.date(2010, 11, 1): 'Allerheiligen', datetime.date(2010, 12, 8): 'Mariä Empfängnis', datetime.date(2010, 12, 25): 'Christtag', datetime.date(2010, 12, 26): 'Stefanitag', datetime.date(2011, 1, 1): 'Neujahr', datetime.date(2011, 1, 6): 'Heilige Drei Könige', datetime.date(2011, 4, 25): 'Ostermontag', datetime.date(2011, 5, 1): 'Staatsfeiertag', datetime.date(2011, 6, 2): 'Christi Himmelfahrt', datetime.date(2011, 6, 13): 'Pfingstmontag', datetime.date(2011, 6, 23): 'Fronleichnam', datetime.date(2011, 8, 15): 'Mariä Himmelfahrt', datetime.date(2011, 10, 26): 'Nationalfeiertag', datetime.date(2011, 11, 1): 'Allerheiligen', datetime.date(2011, 12, 8): 'Mariä Empfängnis', datetime.date(2011, 12, 25): 'Christtag', datetime.date(2011, 12, 26): 'Stefanitag'},\n",
       " 'LT': {datetime.date(2010, 1, 1): 'Naujųjų metų diena', datetime.date(2010, 2, 16): 'Lietuvos valstybės atkūrimo diena', datetime.date(2010, 3, 11): 'Lietuvos nepriklausomybės atkūrimo diena', datetime.date(2010, 4, 4): 'Šv. Velykos', datetime.date(2010, 4, 5): 'Antroji šv. Velykų diena', datetime.date(2010, 5, 1): 'Tarptautinė darbo diena', datetime.date(2010, 5, 2): 'Motinos diena', datetime.date(2010, 6, 6): 'Tėvo diena', datetime.date(2010, 6, 24): 'Rasos ir Joninių diena', datetime.date(2010, 7, 6): 'Valstybės (Lietuvos karaliaus Mindaugo karūnavimo) ir Tautiškos giesmės diena', datetime.date(2010, 8, 15): 'Žolinė (Švč. Mergelės Marijos ėmimo į dangų diena)', datetime.date(2010, 11, 1): 'Visų Šventųjų diena', datetime.date(2010, 12, 24): 'Kūčių diena', datetime.date(2010, 12, 25): 'Šv. Kalėdų pirma diena', datetime.date(2010, 12, 26): 'Šv. Kalėdų antra diena', datetime.date(2011, 1, 1): 'Naujųjų metų diena', datetime.date(2011, 2, 16): 'Lietuvos valstybės atkūrimo diena', datetime.date(2011, 3, 11): 'Lietuvos nepriklausomybės atkūrimo diena', datetime.date(2011, 4, 24): 'Šv. Velykos', datetime.date(2011, 4, 25): 'Antroji šv. Velykų diena', datetime.date(2011, 5, 1): 'Motinos diena; Tarptautinė darbo diena', datetime.date(2011, 6, 5): 'Tėvo diena', datetime.date(2011, 6, 24): 'Rasos ir Joninių diena', datetime.date(2011, 7, 6): 'Valstybės (Lietuvos karaliaus Mindaugo karūnavimo) ir Tautiškos giesmės diena', datetime.date(2011, 8, 15): 'Žolinė (Švč. Mergelės Marijos ėmimo į dangų diena)', datetime.date(2011, 11, 1): 'Visų Šventųjų diena', datetime.date(2011, 12, 24): 'Kūčių diena', datetime.date(2011, 12, 25): 'Šv. Kalėdų pirma diena', datetime.date(2011, 12, 26): 'Šv. Kalėdų antra diena'},\n",
       " 'CA': {datetime.date(2010, 1, 1): \"New Year's Day\", datetime.date(2010, 4, 2): 'Good Friday', datetime.date(2010, 7, 1): 'Canada Day', datetime.date(2010, 9, 6): 'Labour Day', datetime.date(2010, 12, 25): 'Christmas Day', datetime.date(2010, 12, 27): 'Christmas Day (observed)', datetime.date(2011, 1, 1): \"New Year's Day\", datetime.date(2011, 1, 3): \"New Year's Day (observed)\", datetime.date(2011, 4, 22): 'Good Friday', datetime.date(2011, 7, 1): 'Canada Day', datetime.date(2011, 9, 5): 'Labour Day', datetime.date(2011, 12, 25): 'Christmas Day', datetime.date(2011, 12, 26): 'Christmas Day (observed)'},\n",
       " 'SE': {datetime.date(2010, 1, 1): 'Nyårsdagen', datetime.date(2010, 1, 6): 'Trettondedag jul', datetime.date(2010, 4, 2): 'Långfredagen', datetime.date(2010, 4, 4): 'Påskdagen; Söndag', datetime.date(2010, 4, 5): 'Annandag påsk', datetime.date(2010, 5, 1): 'Första maj', datetime.date(2010, 5, 13): 'Kristi himmelsfärdsdag', datetime.date(2010, 6, 6): 'Sveriges nationaldag; Söndag', datetime.date(2010, 5, 23): 'Pingstdagen; Söndag', datetime.date(2010, 6, 25): 'Midsommarafton', datetime.date(2010, 6, 26): 'Midsommardagen', datetime.date(2010, 11, 6): 'Alla helgons dag', datetime.date(2010, 12, 24): 'Julafton', datetime.date(2010, 12, 25): 'Juldagen', datetime.date(2010, 12, 26): 'Annandag jul; Söndag', datetime.date(2010, 12, 31): 'Nyårsafton', datetime.date(2010, 1, 3): 'Söndag', datetime.date(2010, 1, 10): 'Söndag', datetime.date(2010, 1, 17): 'Söndag', datetime.date(2010, 1, 24): 'Söndag', datetime.date(2010, 1, 31): 'Söndag', datetime.date(2010, 2, 7): 'Söndag', datetime.date(2010, 2, 14): 'Söndag', datetime.date(2010, 2, 21): 'Söndag', datetime.date(2010, 2, 28): 'Söndag', datetime.date(2010, 3, 7): 'Söndag', datetime.date(2010, 3, 14): 'Söndag', datetime.date(2010, 3, 21): 'Söndag', datetime.date(2010, 3, 28): 'Söndag', datetime.date(2010, 4, 11): 'Söndag', datetime.date(2010, 4, 18): 'Söndag', datetime.date(2010, 4, 25): 'Söndag', datetime.date(2010, 5, 2): 'Söndag', datetime.date(2010, 5, 9): 'Söndag', datetime.date(2010, 5, 16): 'Söndag', datetime.date(2010, 5, 30): 'Söndag', datetime.date(2010, 6, 13): 'Söndag', datetime.date(2010, 6, 20): 'Söndag', datetime.date(2010, 6, 27): 'Söndag', datetime.date(2010, 7, 4): 'Söndag', datetime.date(2010, 7, 11): 'Söndag', datetime.date(2010, 7, 18): 'Söndag', datetime.date(2010, 7, 25): 'Söndag', datetime.date(2010, 8, 1): 'Söndag', datetime.date(2010, 8, 8): 'Söndag', datetime.date(2010, 8, 15): 'Söndag', datetime.date(2010, 8, 22): 'Söndag', datetime.date(2010, 8, 29): 'Söndag', datetime.date(2010, 9, 5): 'Söndag', datetime.date(2010, 9, 12): 'Söndag', datetime.date(2010, 9, 19): 'Söndag', datetime.date(2010, 9, 26): 'Söndag', datetime.date(2010, 10, 3): 'Söndag', datetime.date(2010, 10, 10): 'Söndag', datetime.date(2010, 10, 17): 'Söndag', datetime.date(2010, 10, 24): 'Söndag', datetime.date(2010, 10, 31): 'Söndag', datetime.date(2010, 11, 7): 'Söndag', datetime.date(2010, 11, 14): 'Söndag', datetime.date(2010, 11, 21): 'Söndag', datetime.date(2010, 11, 28): 'Söndag', datetime.date(2010, 12, 5): 'Söndag', datetime.date(2010, 12, 12): 'Söndag', datetime.date(2010, 12, 19): 'Söndag', datetime.date(2011, 1, 1): 'Nyårsdagen', datetime.date(2011, 1, 6): 'Trettondedag jul', datetime.date(2011, 4, 22): 'Långfredagen', datetime.date(2011, 4, 24): 'Påskdagen; Söndag', datetime.date(2011, 4, 25): 'Annandag påsk', datetime.date(2011, 5, 1): 'Första maj; Söndag', datetime.date(2011, 6, 2): 'Kristi himmelsfärdsdag', datetime.date(2011, 6, 6): 'Sveriges nationaldag', datetime.date(2011, 6, 12): 'Pingstdagen; Söndag', datetime.date(2011, 6, 24): 'Midsommarafton', datetime.date(2011, 6, 25): 'Midsommardagen', datetime.date(2011, 11, 5): 'Alla helgons dag', datetime.date(2011, 12, 24): 'Julafton', datetime.date(2011, 12, 25): 'Juldagen; Söndag', datetime.date(2011, 12, 26): 'Annandag jul', datetime.date(2011, 12, 31): 'Nyårsafton', datetime.date(2011, 1, 2): 'Söndag', datetime.date(2011, 1, 9): 'Söndag', datetime.date(2011, 1, 16): 'Söndag', datetime.date(2011, 1, 23): 'Söndag', datetime.date(2011, 1, 30): 'Söndag', datetime.date(2011, 2, 6): 'Söndag', datetime.date(2011, 2, 13): 'Söndag', datetime.date(2011, 2, 20): 'Söndag', datetime.date(2011, 2, 27): 'Söndag', datetime.date(2011, 3, 6): 'Söndag', datetime.date(2011, 3, 13): 'Söndag', datetime.date(2011, 3, 20): 'Söndag', datetime.date(2011, 3, 27): 'Söndag', datetime.date(2011, 4, 3): 'Söndag', datetime.date(2011, 4, 10): 'Söndag', datetime.date(2011, 4, 17): 'Söndag', datetime.date(2011, 5, 8): 'Söndag', datetime.date(2011, 5, 15): 'Söndag', datetime.date(2011, 5, 22): 'Söndag', datetime.date(2011, 5, 29): 'Söndag', datetime.date(2011, 6, 5): 'Söndag', datetime.date(2011, 6, 19): 'Söndag', datetime.date(2011, 6, 26): 'Söndag', datetime.date(2011, 7, 3): 'Söndag', datetime.date(2011, 7, 10): 'Söndag', datetime.date(2011, 7, 17): 'Söndag', datetime.date(2011, 7, 24): 'Söndag', datetime.date(2011, 7, 31): 'Söndag', datetime.date(2011, 8, 7): 'Söndag', datetime.date(2011, 8, 14): 'Söndag', datetime.date(2011, 8, 21): 'Söndag', datetime.date(2011, 8, 28): 'Söndag', datetime.date(2011, 9, 4): 'Söndag', datetime.date(2011, 9, 11): 'Söndag', datetime.date(2011, 9, 18): 'Söndag', datetime.date(2011, 9, 25): 'Söndag', datetime.date(2011, 10, 2): 'Söndag', datetime.date(2011, 10, 9): 'Söndag', datetime.date(2011, 10, 16): 'Söndag', datetime.date(2011, 10, 23): 'Söndag', datetime.date(2011, 10, 30): 'Söndag', datetime.date(2011, 11, 6): 'Söndag', datetime.date(2011, 11, 13): 'Söndag', datetime.date(2011, 11, 20): 'Söndag', datetime.date(2011, 11, 27): 'Söndag', datetime.date(2011, 12, 4): 'Söndag', datetime.date(2011, 12, 11): 'Söndag', datetime.date(2011, 12, 18): 'Söndag'},\n",
       " 'BR': {datetime.date(2010, 1, 1): 'Confraternização Universal', datetime.date(2010, 4, 2): 'Sexta-feira Santa', datetime.date(2010, 4, 21): 'Tiradentes', datetime.date(2010, 5, 1): 'Dia do Trabalhador', datetime.date(2010, 9, 7): 'Independência do Brasil', datetime.date(2010, 10, 12): 'Nossa Senhora Aparecida', datetime.date(2010, 11, 2): 'Finados', datetime.date(2010, 11, 15): 'Proclamação da República', datetime.date(2010, 12, 25): 'Natal', datetime.date(2011, 1, 1): 'Confraternização Universal', datetime.date(2011, 4, 22): 'Sexta-feira Santa', datetime.date(2011, 4, 21): 'Tiradentes', datetime.date(2011, 5, 1): 'Dia do Trabalhador', datetime.date(2011, 9, 7): 'Independência do Brasil', datetime.date(2011, 10, 12): 'Nossa Senhora Aparecida', datetime.date(2011, 11, 2): 'Finados', datetime.date(2011, 11, 15): 'Proclamação da República', datetime.date(2011, 12, 25): 'Natal'},\n",
       " 'FI': {datetime.date(2010, 1, 1): 'Uudenvuodenpäivä', datetime.date(2010, 1, 6): 'Loppiainen', datetime.date(2010, 4, 2): 'Pitkäperjantai', datetime.date(2010, 4, 4): 'Pääsiäispäivä', datetime.date(2010, 4, 5): 'Toinen pääsiäispäivä', datetime.date(2010, 5, 1): 'Vappu', datetime.date(2010, 5, 13): 'Helatorstai', datetime.date(2010, 5, 23): 'Helluntaipäivä', datetime.date(2010, 6, 25): 'Juhannusaatto', datetime.date(2010, 6, 26): 'Juhannuspäivä', datetime.date(2010, 11, 6): 'Pyhäinpäivä', datetime.date(2010, 12, 6): 'Itsenäisyyspäivä', datetime.date(2010, 12, 24): 'Jouluaatto', datetime.date(2010, 12, 25): 'Joulupäivä', datetime.date(2010, 12, 26): 'Tapaninpäivä', datetime.date(2011, 1, 1): 'Uudenvuodenpäivä', datetime.date(2011, 1, 6): 'Loppiainen', datetime.date(2011, 4, 22): 'Pitkäperjantai', datetime.date(2011, 4, 24): 'Pääsiäispäivä', datetime.date(2011, 4, 25): 'Toinen pääsiäispäivä', datetime.date(2011, 5, 1): 'Vappu', datetime.date(2011, 6, 2): 'Helatorstai', datetime.date(2011, 6, 12): 'Helluntaipäivä', datetime.date(2011, 6, 24): 'Juhannusaatto', datetime.date(2011, 6, 25): 'Juhannuspäivä', datetime.date(2011, 11, 5): 'Pyhäinpäivä', datetime.date(2011, 12, 6): 'Itsenäisyyspäivä', datetime.date(2011, 12, 24): 'Jouluaatto', datetime.date(2011, 12, 25): 'Joulupäivä', datetime.date(2011, 12, 26): 'Tapaninpäivä'},\n",
       " 'DE': {datetime.date(2010, 1, 1): 'Neujahr', datetime.date(2010, 4, 2): 'Karfreitag', datetime.date(2010, 4, 5): 'Ostermontag', datetime.date(2010, 5, 1): 'Erster Mai', datetime.date(2010, 5, 13): 'Christi Himmelfahrt', datetime.date(2010, 5, 24): 'Pfingstmontag', datetime.date(2010, 10, 3): 'Tag der Deutschen Einheit', datetime.date(2010, 12, 25): 'Erster Weihnachtstag', datetime.date(2010, 12, 26): 'Zweiter Weihnachtstag', datetime.date(2011, 1, 1): 'Neujahr', datetime.date(2011, 4, 22): 'Karfreitag', datetime.date(2011, 4, 25): 'Ostermontag', datetime.date(2011, 5, 1): 'Erster Mai', datetime.date(2011, 6, 2): 'Christi Himmelfahrt', datetime.date(2011, 6, 13): 'Pfingstmontag', datetime.date(2011, 10, 3): 'Tag der Deutschen Einheit', datetime.date(2011, 12, 25): 'Erster Weihnachtstag', datetime.date(2011, 12, 26): 'Zweiter Weihnachtstag'},\n",
       " 'HK': {datetime.date(2010, 1, 1): 'The first day of January', datetime.date(2010, 2, 13): \"The day preceding Lunar New Year's Day\", datetime.date(2010, 2, 15): 'The second day of Lunar New Year', datetime.date(2010, 2, 16): 'The third day of Lunar New Year', datetime.date(2010, 4, 5): 'Ching Ming Festival', datetime.date(2010, 5, 1): 'Labour Day', datetime.date(2010, 6, 16): 'Tuen Ng Festival', datetime.date(2010, 7, 1): 'Hong Kong Special Administrative Region Establishment Day', datetime.date(2010, 9, 23): 'The day following the Chinese Mid-Autumn Festival', datetime.date(2010, 10, 16): 'Chung Yeung Festival', datetime.date(2010, 10, 1): 'National Day', datetime.date(2010, 12, 25): 'Christmas Day', datetime.date(2011, 1, 1): 'The first day of January', datetime.date(2011, 2, 3): \"Lunar New Year's Day\", datetime.date(2011, 2, 4): 'The second day of Lunar New Year', datetime.date(2011, 2, 5): 'The third day of Lunar New Year', datetime.date(2011, 4, 5): 'Ching Ming Festival', datetime.date(2011, 5, 1): 'Labour Day', datetime.date(2011, 5, 2): 'Labour Day (observed)', datetime.date(2011, 6, 6): 'Tuen Ng Festival', datetime.date(2011, 7, 1): 'Hong Kong Special Administrative Region Establishment Day', datetime.date(2011, 9, 13): 'The day following the Chinese Mid-Autumn Festival', datetime.date(2011, 10, 5): 'Chung Yeung Festival', datetime.date(2011, 10, 1): 'National Day', datetime.date(2011, 12, 25): 'Christmas Day', datetime.date(2011, 12, 26): 'Christmas Day (observed)'}}"
      ]
     },
     "execution_count": 244,
     "metadata": {},
     "output_type": "execute_result"
    }
   ],
   "source": [
    "import holidays\n",
    "\n",
    "years = df[\"InvoiceDate\"].dt.year().unique().to_list()\n",
    "\n",
    "\n",
    "holidays_dict = {}\n",
    "for country in df[\"Country\"].unique().to_list():\n",
    "        try:\n",
    "            holidays_dict[country] = holidays.country_holidays(country, years=years)\n",
    "        except:\n",
    "            print(f\"{country} not found in holidays database\")\n",
    "\n",
    "\n",
    "holidays_dict\n"
   ]
  },
  {
   "cell_type": "markdown",
   "metadata": {},
   "source": [
    "Casii parece ser que tenemos un problema con el libano, no encontramos sus dias festivos, vamos a medir cuanto impacto tendria en el futuro entrenamiento no tener las vacaciones del libano.\n",
    "para ello comprobamos cuantas filas hay con el libano."
   ]
  },
  {
   "cell_type": "code",
   "execution_count": 245,
   "metadata": {},
   "outputs": [
    {
     "data": {
      "text/html": [
       "<div><style>\n",
       ".dataframe > thead > tr,\n",
       ".dataframe > tbody > tr {\n",
       "  text-align: right;\n",
       "  white-space: pre-wrap;\n",
       "}\n",
       "</style>\n",
       "<small>shape: (33, 6)</small><table border=\"1\" class=\"dataframe\"><thead><tr><th>Quantity</th><th>InvoiceDate</th><th>UnitPrice</th><th>Country</th><th>TotalSales</th><th>weekday</th></tr><tr><td>i64</td><td>date</td><td>f64</td><td>str</td><td>f64</td><td>i8</td></tr></thead><tbody><tr><td>12</td><td>2011-01-27</td><td>1.25</td><td>&quot;LB&quot;</td><td>15.0</td><td>4</td></tr><tr><td>2</td><td>2011-01-27</td><td>6.35</td><td>&quot;LB&quot;</td><td>12.7</td><td>4</td></tr><tr><td>12</td><td>2011-01-27</td><td>1.45</td><td>&quot;LB&quot;</td><td>17.4</td><td>4</td></tr><tr><td>3</td><td>2011-01-27</td><td>6.45</td><td>&quot;LB&quot;</td><td>19.35</td><td>4</td></tr><tr><td>12</td><td>2011-01-27</td><td>1.69</td><td>&quot;LB&quot;</td><td>20.28</td><td>4</td></tr><tr><td>&hellip;</td><td>&hellip;</td><td>&hellip;</td><td>&hellip;</td><td>&hellip;</td><td>&hellip;</td></tr><tr><td>6</td><td>2011-01-27</td><td>5.95</td><td>&quot;LB&quot;</td><td>35.7</td><td>4</td></tr><tr><td>24</td><td>2011-01-27</td><td>0.55</td><td>&quot;LB&quot;</td><td>13.2</td><td>4</td></tr><tr><td>12</td><td>2011-01-27</td><td>2.55</td><td>&quot;LB&quot;</td><td>30.6</td><td>4</td></tr><tr><td>6</td><td>2011-01-27</td><td>2.1</td><td>&quot;LB&quot;</td><td>12.6</td><td>4</td></tr><tr><td>12</td><td>2011-01-27</td><td>5.95</td><td>&quot;LB&quot;</td><td>71.4</td><td>4</td></tr></tbody></table></div>"
      ],
      "text/plain": [
       "shape: (33, 6)\n",
       "┌──────────┬─────────────┬───────────┬─────────┬────────────┬─────────┐\n",
       "│ Quantity ┆ InvoiceDate ┆ UnitPrice ┆ Country ┆ TotalSales ┆ weekday │\n",
       "│ ---      ┆ ---         ┆ ---       ┆ ---     ┆ ---        ┆ ---     │\n",
       "│ i64      ┆ date        ┆ f64       ┆ str     ┆ f64        ┆ i8      │\n",
       "╞══════════╪═════════════╪═══════════╪═════════╪════════════╪═════════╡\n",
       "│ 12       ┆ 2011-01-27  ┆ 1.25      ┆ LB      ┆ 15.0       ┆ 4       │\n",
       "│ 2        ┆ 2011-01-27  ┆ 6.35      ┆ LB      ┆ 12.7       ┆ 4       │\n",
       "│ 12       ┆ 2011-01-27  ┆ 1.45      ┆ LB      ┆ 17.4       ┆ 4       │\n",
       "│ 3        ┆ 2011-01-27  ┆ 6.45      ┆ LB      ┆ 19.35      ┆ 4       │\n",
       "│ 12       ┆ 2011-01-27  ┆ 1.69      ┆ LB      ┆ 20.28      ┆ 4       │\n",
       "│ …        ┆ …           ┆ …         ┆ …       ┆ …          ┆ …       │\n",
       "│ 6        ┆ 2011-01-27  ┆ 5.95      ┆ LB      ┆ 35.7       ┆ 4       │\n",
       "│ 24       ┆ 2011-01-27  ┆ 0.55      ┆ LB      ┆ 13.2       ┆ 4       │\n",
       "│ 12       ┆ 2011-01-27  ┆ 2.55      ┆ LB      ┆ 30.6       ┆ 4       │\n",
       "│ 6        ┆ 2011-01-27  ┆ 2.1       ┆ LB      ┆ 12.6       ┆ 4       │\n",
       "│ 12       ┆ 2011-01-27  ┆ 5.95      ┆ LB      ┆ 71.4       ┆ 4       │\n",
       "└──────────┴─────────────┴───────────┴─────────┴────────────┴─────────┘"
      ]
     },
     "execution_count": 245,
     "metadata": {},
     "output_type": "execute_result"
    }
   ],
   "source": [
    "df.filter(df[\"Country\"] == \"LB\")"
   ]
  },
  {
   "cell_type": "markdown",
   "metadata": {},
   "source": [
    "viendo que solo hay 33 lo mejor seria ignorar los festivos del Libano puesto que el impacto del modelo sera minimo o nulo\n",
    "Todo arreglado! aniadimos una columna extra al dataset que indique si es o no festivo ese dia. "
   ]
  },
  {
   "cell_type": "code",
   "execution_count": 246,
   "metadata": {},
   "outputs": [
    {
     "data": {
      "text/html": [
       "<div><style>\n",
       ".dataframe > thead > tr,\n",
       ".dataframe > tbody > tr {\n",
       "  text-align: right;\n",
       "  white-space: pre-wrap;\n",
       "}\n",
       "</style>\n",
       "<small>shape: (442_222, 7)</small><table border=\"1\" class=\"dataframe\"><thead><tr><th>Quantity</th><th>InvoiceDate</th><th>UnitPrice</th><th>Country</th><th>TotalSales</th><th>weekday</th><th>is_holiday</th></tr><tr><td>i64</td><td>date</td><td>f64</td><td>str</td><td>f64</td><td>i8</td><td>i64</td></tr></thead><tbody><tr><td>1</td><td>2011-07-15</td><td>7.46</td><td>&quot;GB&quot;</td><td>7.46</td><td>5</td><td>0</td></tr><tr><td>2</td><td>2011-07-27</td><td>4.13</td><td>&quot;GB&quot;</td><td>8.26</td><td>3</td><td>0</td></tr><tr><td>1</td><td>2011-11-18</td><td>2.95</td><td>&quot;GB&quot;</td><td>2.95</td><td>5</td><td>0</td></tr><tr><td>24</td><td>2011-11-23</td><td>1.25</td><td>&quot;GB&quot;</td><td>30.0</td><td>3</td><td>0</td></tr><tr><td>6</td><td>2011-05-05</td><td>1.95</td><td>&quot;GB&quot;</td><td>11.7</td><td>4</td><td>0</td></tr><tr><td>&hellip;</td><td>&hellip;</td><td>&hellip;</td><td>&hellip;</td><td>&hellip;</td><td>&hellip;</td><td>&hellip;</td></tr><tr><td>4</td><td>2011-02-28</td><td>4.25</td><td>&quot;GB&quot;</td><td>17.0</td><td>1</td><td>0</td></tr><tr><td>2</td><td>2010-12-02</td><td>1.65</td><td>&quot;GB&quot;</td><td>3.3</td><td>4</td><td>0</td></tr><tr><td>1</td><td>2011-04-03</td><td>1.45</td><td>&quot;GB&quot;</td><td>1.45</td><td>7</td><td>0</td></tr><tr><td>24</td><td>2011-01-31</td><td>1.65</td><td>&quot;GB&quot;</td><td>39.6</td><td>1</td><td>0</td></tr><tr><td>8</td><td>2011-05-24</td><td>1.95</td><td>&quot;GB&quot;</td><td>15.6</td><td>2</td><td>0</td></tr></tbody></table></div>"
      ],
      "text/plain": [
       "shape: (442_222, 7)\n",
       "┌──────────┬─────────────┬───────────┬─────────┬────────────┬─────────┬────────────┐\n",
       "│ Quantity ┆ InvoiceDate ┆ UnitPrice ┆ Country ┆ TotalSales ┆ weekday ┆ is_holiday │\n",
       "│ ---      ┆ ---         ┆ ---       ┆ ---     ┆ ---        ┆ ---     ┆ ---        │\n",
       "│ i64      ┆ date        ┆ f64       ┆ str     ┆ f64        ┆ i8      ┆ i64        │\n",
       "╞══════════╪═════════════╪═══════════╪═════════╪════════════╪═════════╪════════════╡\n",
       "│ 1        ┆ 2011-07-15  ┆ 7.46      ┆ GB      ┆ 7.46       ┆ 5       ┆ 0          │\n",
       "│ 2        ┆ 2011-07-27  ┆ 4.13      ┆ GB      ┆ 8.26       ┆ 3       ┆ 0          │\n",
       "│ 1        ┆ 2011-11-18  ┆ 2.95      ┆ GB      ┆ 2.95       ┆ 5       ┆ 0          │\n",
       "│ 24       ┆ 2011-11-23  ┆ 1.25      ┆ GB      ┆ 30.0       ┆ 3       ┆ 0          │\n",
       "│ 6        ┆ 2011-05-05  ┆ 1.95      ┆ GB      ┆ 11.7       ┆ 4       ┆ 0          │\n",
       "│ …        ┆ …           ┆ …         ┆ …       ┆ …          ┆ …       ┆ …          │\n",
       "│ 4        ┆ 2011-02-28  ┆ 4.25      ┆ GB      ┆ 17.0       ┆ 1       ┆ 0          │\n",
       "│ 2        ┆ 2010-12-02  ┆ 1.65      ┆ GB      ┆ 3.3        ┆ 4       ┆ 0          │\n",
       "│ 1        ┆ 2011-04-03  ┆ 1.45      ┆ GB      ┆ 1.45       ┆ 7       ┆ 0          │\n",
       "│ 24       ┆ 2011-01-31  ┆ 1.65      ┆ GB      ┆ 39.6       ┆ 1       ┆ 0          │\n",
       "│ 8        ┆ 2011-05-24  ┆ 1.95      ┆ GB      ┆ 15.6       ┆ 2       ┆ 0          │\n",
       "└──────────┴─────────────┴───────────┴─────────┴────────────┴─────────┴────────────┘"
      ]
     },
     "execution_count": 246,
     "metadata": {},
     "output_type": "execute_result"
    }
   ],
   "source": [
    "def is_holiday(date, country):\n",
    "    holiday_list = holidays_dict.get(country, {})\n",
    "    return 1 if date in holiday_list else 0\n",
    "is_holiday_col = df.select([\"InvoiceDate\", \"Country\"]).map_rows(lambda row: is_holiday(row[0], row[1]))\n",
    "df = df.with_columns(pl.Series(\"is_holiday\", is_holiday_col))\n",
    "df"
   ]
  },
  {
   "cell_type": "markdown",
   "metadata": {},
   "source": [
    "Vamos a sacar algunas variables temporales adicionales, de las que puede depender las ventas"
   ]
  },
  {
   "cell_type": "code",
   "execution_count": 247,
   "metadata": {},
   "outputs": [
    {
     "data": {
      "text/html": [
       "col(\"InvoiceDate\").dt.quarter()"
      ],
      "text/plain": [
       "<Expr ['col(\"InvoiceDate\").dt.quarter(…'] at 0x20922FBEDD0>"
      ]
     },
     "execution_count": 247,
     "metadata": {},
     "output_type": "execute_result"
    }
   ],
   "source": [
    "pl.col(\"InvoiceDate\").dt.quarter()"
   ]
  },
  {
   "cell_type": "code",
   "execution_count": 248,
   "metadata": {},
   "outputs": [
    {
     "data": {
      "text/html": [
       "<div><style>\n",
       ".dataframe > thead > tr,\n",
       ".dataframe > tbody > tr {\n",
       "  text-align: right;\n",
       "  white-space: pre-wrap;\n",
       "}\n",
       "</style>\n",
       "<small>shape: (442_222, 10)</small><table border=\"1\" class=\"dataframe\"><thead><tr><th>Quantity</th><th>InvoiceDate</th><th>UnitPrice</th><th>Country</th><th>TotalSales</th><th>weekday</th><th>is_holiday</th><th>is_month_start</th><th>is_month_end</th><th>quarter_num</th></tr><tr><td>i64</td><td>date</td><td>f64</td><td>str</td><td>f64</td><td>i8</td><td>i64</td><td>i8</td><td>i8</td><td>i8</td></tr></thead><tbody><tr><td>1</td><td>2011-07-15</td><td>7.46</td><td>&quot;GB&quot;</td><td>7.46</td><td>5</td><td>0</td><td>0</td><td>0</td><td>3</td></tr><tr><td>2</td><td>2011-07-27</td><td>4.13</td><td>&quot;GB&quot;</td><td>8.26</td><td>3</td><td>0</td><td>0</td><td>1</td><td>3</td></tr><tr><td>1</td><td>2011-11-18</td><td>2.95</td><td>&quot;GB&quot;</td><td>2.95</td><td>5</td><td>0</td><td>0</td><td>0</td><td>4</td></tr><tr><td>24</td><td>2011-11-23</td><td>1.25</td><td>&quot;GB&quot;</td><td>30.0</td><td>3</td><td>0</td><td>0</td><td>1</td><td>4</td></tr><tr><td>6</td><td>2011-05-05</td><td>1.95</td><td>&quot;GB&quot;</td><td>11.7</td><td>4</td><td>0</td><td>1</td><td>0</td><td>2</td></tr><tr><td>&hellip;</td><td>&hellip;</td><td>&hellip;</td><td>&hellip;</td><td>&hellip;</td><td>&hellip;</td><td>&hellip;</td><td>&hellip;</td><td>&hellip;</td><td>&hellip;</td></tr><tr><td>4</td><td>2011-02-28</td><td>4.25</td><td>&quot;GB&quot;</td><td>17.0</td><td>1</td><td>0</td><td>0</td><td>1</td><td>1</td></tr><tr><td>2</td><td>2010-12-02</td><td>1.65</td><td>&quot;GB&quot;</td><td>3.3</td><td>4</td><td>0</td><td>1</td><td>0</td><td>4</td></tr><tr><td>1</td><td>2011-04-03</td><td>1.45</td><td>&quot;GB&quot;</td><td>1.45</td><td>7</td><td>0</td><td>1</td><td>0</td><td>2</td></tr><tr><td>24</td><td>2011-01-31</td><td>1.65</td><td>&quot;GB&quot;</td><td>39.6</td><td>1</td><td>0</td><td>0</td><td>1</td><td>1</td></tr><tr><td>8</td><td>2011-05-24</td><td>1.95</td><td>&quot;GB&quot;</td><td>15.6</td><td>2</td><td>0</td><td>0</td><td>1</td><td>2</td></tr></tbody></table></div>"
      ],
      "text/plain": [
       "shape: (442_222, 10)\n",
       "┌──────────┬────────────┬───────────┬─────────┬───┬────────────┬───────────┬───────────┬───────────┐\n",
       "│ Quantity ┆ InvoiceDat ┆ UnitPrice ┆ Country ┆ … ┆ is_holiday ┆ is_month_ ┆ is_month_ ┆ quarter_n │\n",
       "│ ---      ┆ e          ┆ ---       ┆ ---     ┆   ┆ ---        ┆ start     ┆ end       ┆ um        │\n",
       "│ i64      ┆ ---        ┆ f64       ┆ str     ┆   ┆ i64        ┆ ---       ┆ ---       ┆ ---       │\n",
       "│          ┆ date       ┆           ┆         ┆   ┆            ┆ i8        ┆ i8        ┆ i8        │\n",
       "╞══════════╪════════════╪═══════════╪═════════╪═══╪════════════╪═══════════╪═══════════╪═══════════╡\n",
       "│ 1        ┆ 2011-07-15 ┆ 7.46      ┆ GB      ┆ … ┆ 0          ┆ 0         ┆ 0         ┆ 3         │\n",
       "│ 2        ┆ 2011-07-27 ┆ 4.13      ┆ GB      ┆ … ┆ 0          ┆ 0         ┆ 1         ┆ 3         │\n",
       "│ 1        ┆ 2011-11-18 ┆ 2.95      ┆ GB      ┆ … ┆ 0          ┆ 0         ┆ 0         ┆ 4         │\n",
       "│ 24       ┆ 2011-11-23 ┆ 1.25      ┆ GB      ┆ … ┆ 0          ┆ 0         ┆ 1         ┆ 4         │\n",
       "│ 6        ┆ 2011-05-05 ┆ 1.95      ┆ GB      ┆ … ┆ 0          ┆ 1         ┆ 0         ┆ 2         │\n",
       "│ …        ┆ …          ┆ …         ┆ …       ┆ … ┆ …          ┆ …         ┆ …         ┆ …         │\n",
       "│ 4        ┆ 2011-02-28 ┆ 4.25      ┆ GB      ┆ … ┆ 0          ┆ 0         ┆ 1         ┆ 1         │\n",
       "│ 2        ┆ 2010-12-02 ┆ 1.65      ┆ GB      ┆ … ┆ 0          ┆ 1         ┆ 0         ┆ 4         │\n",
       "│ 1        ┆ 2011-04-03 ┆ 1.45      ┆ GB      ┆ … ┆ 0          ┆ 1         ┆ 0         ┆ 2         │\n",
       "│ 24       ┆ 2011-01-31 ┆ 1.65      ┆ GB      ┆ … ┆ 0          ┆ 0         ┆ 1         ┆ 1         │\n",
       "│ 8        ┆ 2011-05-24 ┆ 1.95      ┆ GB      ┆ … ┆ 0          ┆ 0         ┆ 1         ┆ 2         │\n",
       "└──────────┴────────────┴───────────┴─────────┴───┴────────────┴───────────┴───────────┴───────────┘"
      ]
     },
     "execution_count": 248,
     "metadata": {},
     "output_type": "execute_result"
    }
   ],
   "source": [
    "\n",
    "df = df.with_columns([ \n",
    "   ((pl.col(\"InvoiceDate\").dt.day() <= 10)).cast(pl.Int8).alias(\"is_month_start\"),\n",
    "    ((pl.col(\"InvoiceDate\").dt.day() >= (pl.col(\"InvoiceDate\").dt.month_end().dt.day() - 9))).cast(pl.Int8).alias(\"is_month_end\"),\n",
    "    pl.col(\"InvoiceDate\").dt.quarter().alias(\"quarter_num\"),\n",
    "])\n",
    "df"
   ]
  },
  {
   "cell_type": "markdown",
   "metadata": {},
   "source": []
  },
  {
   "cell_type": "markdown",
   "metadata": {},
   "source": [
    "Ahora es el turno de variables lag que indiquen las ventas totales hace un dia, 7 o 30 dias, el objetivo es que el el modelo aprenda si hay una correlacion entre ellas.\n"
   ]
  },
  {
   "cell_type": "code",
   "execution_count": 249,
   "metadata": {},
   "outputs": [
    {
     "data": {
      "text/html": [
       "<div><style>\n",
       ".dataframe > thead > tr,\n",
       ".dataframe > tbody > tr {\n",
       "  text-align: right;\n",
       "  white-space: pre-wrap;\n",
       "}\n",
       "</style>\n",
       "<small>shape: (305, 7)</small><table border=\"1\" class=\"dataframe\"><thead><tr><th>InvoiceDate</th><th>TotalSales</th><th>weekday</th><th>is_holiday</th><th>is_month_start</th><th>is_month_end</th><th>quarter_num</th></tr><tr><td>date</td><td>f64</td><td>i8</td><td>i64</td><td>i8</td><td>i8</td><td>i8</td></tr></thead><tbody><tr><td>2010-12-01</td><td>26604.56</td><td>3</td><td>0</td><td>1</td><td>0</td><td>4</td></tr><tr><td>2010-12-02</td><td>23203.33</td><td>4</td><td>0</td><td>1</td><td>0</td><td>4</td></tr><tr><td>2010-12-03</td><td>19423.33</td><td>5</td><td>0</td><td>1</td><td>0</td><td>4</td></tr><tr><td>2010-12-05</td><td>20738.69</td><td>7</td><td>0</td><td>1</td><td>0</td><td>4</td></tr><tr><td>2010-12-06</td><td>30506.65</td><td>1</td><td>0</td><td>1</td><td>0</td><td>4</td></tr><tr><td>&hellip;</td><td>&hellip;</td><td>&hellip;</td><td>&hellip;</td><td>&hellip;</td><td>&hellip;</td><td>&hellip;</td></tr><tr><td>2011-12-05</td><td>45057.32</td><td>1</td><td>0</td><td>1</td><td>0</td><td>4</td></tr><tr><td>2011-12-06</td><td>26898.4</td><td>2</td><td>0</td><td>1</td><td>0</td><td>4</td></tr><tr><td>2011-12-07</td><td>27847.03</td><td>3</td><td>0</td><td>1</td><td>0</td><td>4</td></tr><tr><td>2011-12-08</td><td>38582.06</td><td>4</td><td>0</td><td>1</td><td>0</td><td>4</td></tr><tr><td>2011-12-09</td><td>15940.79</td><td>5</td><td>0</td><td>1</td><td>0</td><td>4</td></tr></tbody></table></div>"
      ],
      "text/plain": [
       "shape: (305, 7)\n",
       "┌─────────────┬────────────┬─────────┬────────────┬────────────────┬──────────────┬─────────────┐\n",
       "│ InvoiceDate ┆ TotalSales ┆ weekday ┆ is_holiday ┆ is_month_start ┆ is_month_end ┆ quarter_num │\n",
       "│ ---         ┆ ---        ┆ ---     ┆ ---        ┆ ---            ┆ ---          ┆ ---         │\n",
       "│ date        ┆ f64        ┆ i8      ┆ i64        ┆ i8             ┆ i8           ┆ i8          │\n",
       "╞═════════════╪════════════╪═════════╪════════════╪════════════════╪══════════════╪═════════════╡\n",
       "│ 2010-12-01  ┆ 26604.56   ┆ 3       ┆ 0          ┆ 1              ┆ 0            ┆ 4           │\n",
       "│ 2010-12-02  ┆ 23203.33   ┆ 4       ┆ 0          ┆ 1              ┆ 0            ┆ 4           │\n",
       "│ 2010-12-03  ┆ 19423.33   ┆ 5       ┆ 0          ┆ 1              ┆ 0            ┆ 4           │\n",
       "│ 2010-12-05  ┆ 20738.69   ┆ 7       ┆ 0          ┆ 1              ┆ 0            ┆ 4           │\n",
       "│ 2010-12-06  ┆ 30506.65   ┆ 1       ┆ 0          ┆ 1              ┆ 0            ┆ 4           │\n",
       "│ …           ┆ …          ┆ …       ┆ …          ┆ …              ┆ …            ┆ …           │\n",
       "│ 2011-12-05  ┆ 45057.32   ┆ 1       ┆ 0          ┆ 1              ┆ 0            ┆ 4           │\n",
       "│ 2011-12-06  ┆ 26898.4    ┆ 2       ┆ 0          ┆ 1              ┆ 0            ┆ 4           │\n",
       "│ 2011-12-07  ┆ 27847.03   ┆ 3       ┆ 0          ┆ 1              ┆ 0            ┆ 4           │\n",
       "│ 2011-12-08  ┆ 38582.06   ┆ 4       ┆ 0          ┆ 1              ┆ 0            ┆ 4           │\n",
       "│ 2011-12-09  ┆ 15940.79   ┆ 5       ┆ 0          ┆ 1              ┆ 0            ┆ 4           │\n",
       "└─────────────┴────────────┴─────────┴────────────┴────────────────┴──────────────┴─────────────┘"
      ]
     },
     "execution_count": 249,
     "metadata": {},
     "output_type": "execute_result"
    }
   ],
   "source": [
    "# POR CIUDAD Y POR FECHA\n",
    "# df_grouped = df.group_by([\"Country\", \"InvoiceDate\"]).agg([\n",
    "#     # pl.sum(\"Quantity\").alias(\"Quantity_sum\"),\n",
    "#     # pl.sum(\"UnitPrice\").alias(\"UnitPrice_avg\"),\n",
    "#     pl.sum(\"TotalSales\").alias(\"TotalSales\"),\n",
    "#     pl.first(\"weekday\").alias(\"weekday\"),\n",
    "#     pl.first(\"is_holiday\").alias(\"is_holiday\"),\n",
    "#     pl.first(\"is_month_start\").alias(\"is_month_start\"),\n",
    "#     pl.first(\"is_month_end\").alias(\"is_month_end\"),\n",
    "#     pl.first(\"quarter_num\").alias(\"quarter_num\"),\n",
    "    \n",
    "\n",
    "# ])\n",
    "# SOLO FECHA\n",
    "df_grouped = df.group_by(\"InvoiceDate\").agg([\n",
    "    # pl.sum(\"Quantity\").alias(\"Quantity_sum\"),\n",
    "    # pl.sum(\"UnitPrice\").alias(\"UnitPrice_avg\"),\n",
    "    pl.sum(\"TotalSales\").alias(\"TotalSales\"),\n",
    "    pl.first(\"weekday\").alias(\"weekday\"),\n",
    "    pl.first(\"is_holiday\").alias(\"is_holiday\"),\n",
    "    pl.first(\"is_month_start\").alias(\"is_month_start\"),\n",
    "    pl.first(\"is_month_end\").alias(\"is_month_end\"),\n",
    "    pl.first(\"quarter_num\").alias(\"quarter_num\"),\n",
    "    \n",
    "\n",
    "])\n",
    "df_grouped.sort(\"InvoiceDate\") "
   ]
  },
  {
   "cell_type": "code",
   "execution_count": 252,
   "metadata": {},
   "outputs": [],
   "source": [
    "\n",
    "\n",
    "# SOLO FECHA\n",
    "df_grouped = df_grouped.with_columns([\n",
    "    pl.col(\"TotalSales\").shift(1).alias(\"Lag_1\"),  \n",
    "    pl.col(\"TotalSales\").shift(7).alias(\"Lag_7\"),  \n",
    "    pl.col(\"TotalSales\").shift(30).alias(\"Lag_30\"), \n",
    "    pl.col(\"TotalSales\").rolling_mean(window_size=7).alias(\"MA_7\"),  \n",
    "    pl.col(\"TotalSales\").rolling_mean(window_size=14).alias(\"MA_14\"),  \n",
    "    pl.col(\"TotalSales\").rolling_mean(window_size=30).alias(\"MA_30\")  \n",
    "])\n",
    "df_grouped = df_grouped.sort(\"InvoiceDate\")\n",
    "df_grouped\n",
    "# POR CIUDAD Y POR FECHA\n",
    "# df_grouped = df_grouped.with_columns([\n",
    "#     pl.col(\"TotalSales\").shift(1).over(\"Country\").alias(\"Lag_1\"),  \n",
    "#     pl.col(\"TotalSales\").shift(7).over(\"Country\").alias(\"Lag_7\"),  \n",
    "#     pl.col(\"TotalSales\").shift(30).over(\"Country\").alias(\"Lag_30\"), \n",
    "#     pl.col(\"TotalSales\").rolling_mean(window_size=7).over(\"Country\").alias(\"MA_7\"),  \n",
    "#     pl.col(\"TotalSales\").rolling_mean(window_size=14).over(\"Country\").alias(\"MA_14\"),  \n",
    "#     pl.col(\"TotalSales\").rolling_mean(window_size=30).over(\"Country\").alias(\"MA_30\")  \n",
    "# ])\n",
    "# df_grouped = df_grouped.sort([\"Country\", \"InvoiceDate\"])"
   ]
  },
  {
   "cell_type": "code",
   "execution_count": 254,
   "metadata": {},
   "outputs": [],
   "source": [
    "\n",
    "# df_grouped.filter(df_grouped[\"Country\"] == \"DE\").sort(\"InvoiceDate\")"
   ]
  },
  {
   "cell_type": "code",
   "execution_count": 255,
   "metadata": {},
   "outputs": [
    {
     "data": {
      "text/html": [
       "<div><style>\n",
       ".dataframe > thead > tr,\n",
       ".dataframe > tbody > tr {\n",
       "  text-align: right;\n",
       "  white-space: pre-wrap;\n",
       "}\n",
       "</style>\n",
       "<small>shape: (275, 13)</small><table border=\"1\" class=\"dataframe\"><thead><tr><th>InvoiceDate</th><th>TotalSales</th><th>weekday</th><th>is_holiday</th><th>is_month_start</th><th>is_month_end</th><th>quarter_num</th><th>Lag_1</th><th>Lag_7</th><th>Lag_30</th><th>MA_7</th><th>MA_14</th><th>MA_30</th></tr><tr><td>date</td><td>f64</td><td>i8</td><td>i64</td><td>i8</td><td>i8</td><td>i8</td><td>f64</td><td>f64</td><td>f64</td><td>f64</td><td>f64</td><td>f64</td></tr></thead><tbody><tr><td>2010-12-01</td><td>26604.56</td><td>3</td><td>0</td><td>1</td><td>0</td><td>4</td><td>11789.36</td><td>14443.63</td><td>45057.32</td><td>18338.024286</td><td>15529.130714</td><td>16828.874667</td></tr><tr><td>2010-12-02</td><td>23203.33</td><td>4</td><td>0</td><td>1</td><td>0</td><td>4</td><td>13273.72</td><td>11395.0</td><td>31450.41</td><td>13506.158571</td><td>15078.752143</td><td>16054.451</td></tr><tr><td>2010-12-05</td><td>20738.69</td><td>7</td><td>0</td><td>1</td><td>0</td><td>4</td><td>18822.69</td><td>19970.48</td><td>3321.05</td><td>18169.55</td><td>16412.35</td><td>16233.115333</td></tr><tr><td>2010-12-07</td><td>25345.38</td><td>2</td><td>0</td><td>1</td><td>0</td><td>4</td><td>18170.24</td><td>13215.98</td><td>10864.33</td><td>20008.378571</td><td>17851.835</td><td>17552.771333</td></tr><tr><td>2010-12-08</td><td>26379.94</td><td>3</td><td>0</td><td>1</td><td>0</td><td>4</td><td>20738.69</td><td>22369.06</td><td>16400.78</td><td>18742.532857</td><td>18012.247857</td><td>16565.754</td></tr><tr><td>&hellip;</td><td>&hellip;</td><td>&hellip;</td><td>&hellip;</td><td>&hellip;</td><td>&hellip;</td><td>&hellip;</td><td>&hellip;</td><td>&hellip;</td><td>&hellip;</td><td>&hellip;</td><td>&hellip;</td><td>&hellip;</td></tr><tr><td>2011-12-05</td><td>45057.32</td><td>1</td><td>0</td><td>1</td><td>0</td><td>4</td><td>11241.34</td><td>13631.12</td><td>25131.62</td><td>23963.054286</td><td>20819.674286</td><td>17233.170667</td></tr><tr><td>2011-12-06</td><td>26898.4</td><td>2</td><td>0</td><td>1</td><td>0</td><td>4</td><td>14777.64</td><td>10073.75</td><td>10833.06</td><td>15149.798571</td><td>16274.673571</td><td>16980.735</td></tr><tr><td>2011-12-07</td><td>27847.03</td><td>3</td><td>0</td><td>1</td><td>0</td><td>4</td><td>15285.24</td><td>15147.89</td><td>9878.81</td><td>17293.722857</td><td>17907.64</td><td>17939.978</td></tr><tr><td>2011-12-08</td><td>38582.06</td><td>4</td><td>0</td><td>1</td><td>0</td><td>4</td><td>35696.84</td><td>16895.73</td><td>13272.19</td><td>22336.598571</td><td>21609.13</td><td>19415.498333</td></tr><tr><td>2011-12-09</td><td>15940.79</td><td>5</td><td>0</td><td>1</td><td>0</td><td>4</td><td>26750.39</td><td>31450.41</td><td>22906.06</td><td>20567.707143</td><td>18337.409286</td><td>17161.215</td></tr></tbody></table></div>"
      ],
      "text/plain": [
       "shape: (275, 13)\n",
       "┌────────────┬────────────┬─────────┬───────────┬───┬──────────┬───────────┬───────────┬───────────┐\n",
       "│ InvoiceDat ┆ TotalSales ┆ weekday ┆ is_holida ┆ … ┆ Lag_30   ┆ MA_7      ┆ MA_14     ┆ MA_30     │\n",
       "│ e          ┆ ---        ┆ ---     ┆ y         ┆   ┆ ---      ┆ ---       ┆ ---       ┆ ---       │\n",
       "│ ---        ┆ f64        ┆ i8      ┆ ---       ┆   ┆ f64      ┆ f64       ┆ f64       ┆ f64       │\n",
       "│ date       ┆            ┆         ┆ i64       ┆   ┆          ┆           ┆           ┆           │\n",
       "╞════════════╪════════════╪═════════╪═══════════╪═══╪══════════╪═══════════╪═══════════╪═══════════╡\n",
       "│ 2010-12-01 ┆ 26604.56   ┆ 3       ┆ 0         ┆ … ┆ 45057.32 ┆ 18338.024 ┆ 15529.130 ┆ 16828.874 │\n",
       "│            ┆            ┆         ┆           ┆   ┆          ┆ 286       ┆ 714       ┆ 667       │\n",
       "│ 2010-12-02 ┆ 23203.33   ┆ 4       ┆ 0         ┆ … ┆ 31450.41 ┆ 13506.158 ┆ 15078.752 ┆ 16054.451 │\n",
       "│            ┆            ┆         ┆           ┆   ┆          ┆ 571       ┆ 143       ┆           │\n",
       "│ 2010-12-05 ┆ 20738.69   ┆ 7       ┆ 0         ┆ … ┆ 3321.05  ┆ 18169.55  ┆ 16412.35  ┆ 16233.115 │\n",
       "│            ┆            ┆         ┆           ┆   ┆          ┆           ┆           ┆ 333       │\n",
       "│ 2010-12-07 ┆ 25345.38   ┆ 2       ┆ 0         ┆ … ┆ 10864.33 ┆ 20008.378 ┆ 17851.835 ┆ 17552.771 │\n",
       "│            ┆            ┆         ┆           ┆   ┆          ┆ 571       ┆           ┆ 333       │\n",
       "│ 2010-12-08 ┆ 26379.94   ┆ 3       ┆ 0         ┆ … ┆ 16400.78 ┆ 18742.532 ┆ 18012.247 ┆ 16565.754 │\n",
       "│            ┆            ┆         ┆           ┆   ┆          ┆ 857       ┆ 857       ┆           │\n",
       "│ …          ┆ …          ┆ …       ┆ …         ┆ … ┆ …        ┆ …         ┆ …         ┆ …         │\n",
       "│ 2011-12-05 ┆ 45057.32   ┆ 1       ┆ 0         ┆ … ┆ 25131.62 ┆ 23963.054 ┆ 20819.674 ┆ 17233.170 │\n",
       "│            ┆            ┆         ┆           ┆   ┆          ┆ 286       ┆ 286       ┆ 667       │\n",
       "│ 2011-12-06 ┆ 26898.4    ┆ 2       ┆ 0         ┆ … ┆ 10833.06 ┆ 15149.798 ┆ 16274.673 ┆ 16980.735 │\n",
       "│            ┆            ┆         ┆           ┆   ┆          ┆ 571       ┆ 571       ┆           │\n",
       "│ 2011-12-07 ┆ 27847.03   ┆ 3       ┆ 0         ┆ … ┆ 9878.81  ┆ 17293.722 ┆ 17907.64  ┆ 17939.978 │\n",
       "│            ┆            ┆         ┆           ┆   ┆          ┆ 857       ┆           ┆           │\n",
       "│ 2011-12-08 ┆ 38582.06   ┆ 4       ┆ 0         ┆ … ┆ 13272.19 ┆ 22336.598 ┆ 21609.13  ┆ 19415.498 │\n",
       "│            ┆            ┆         ┆           ┆   ┆          ┆ 571       ┆           ┆ 333       │\n",
       "│ 2011-12-09 ┆ 15940.79   ┆ 5       ┆ 0         ┆ … ┆ 22906.06 ┆ 20567.707 ┆ 18337.409 ┆ 17161.215 │\n",
       "│            ┆            ┆         ┆           ┆   ┆          ┆ 143       ┆ 286       ┆           │\n",
       "└────────────┴────────────┴─────────┴───────────┴───┴──────────┴───────────┴───────────┴───────────┘"
      ]
     },
     "execution_count": 255,
     "metadata": {},
     "output_type": "execute_result"
    }
   ],
   "source": [
    "# df_grouped.null_count()\n",
    "df_grouped = df_grouped.drop_nulls()\n",
    "df_grouped"
   ]
  },
  {
   "cell_type": "code",
   "execution_count": 212,
   "metadata": {},
   "outputs": [
    {
     "data": {
      "text/html": [
       "<div><style>\n",
       ".dataframe > thead > tr,\n",
       ".dataframe > tbody > tr {\n",
       "  text-align: right;\n",
       "  white-space: pre-wrap;\n",
       "}\n",
       "</style>\n",
       "<small>shape: (9, 15)</small><table border=\"1\" class=\"dataframe\"><thead><tr><th>statistic</th><th>Country</th><th>InvoiceDate</th><th>TotalSales</th><th>weekday</th><th>is_holiday</th><th>is_month_start</th><th>is_month_end</th><th>quarter_num</th><th>Lag_1</th><th>Lag_7</th><th>Lag_30</th><th>MA_7</th><th>MA_14</th><th>MA_30</th></tr><tr><td>str</td><td>str</td><td>str</td><td>f64</td><td>f64</td><td>f64</td><td>f64</td><td>f64</td><td>f64</td><td>f64</td><td>f64</td><td>f64</td><td>f64</td><td>f64</td><td>f64</td></tr></thead><tbody><tr><td>&quot;count&quot;</td><td>&quot;890&quot;</td><td>&quot;890&quot;</td><td>890.0</td><td>890.0</td><td>890.0</td><td>890.0</td><td>890.0</td><td>890.0</td><td>890.0</td><td>890.0</td><td>890.0</td><td>890.0</td><td>890.0</td><td>890.0</td></tr><tr><td>&quot;null_count&quot;</td><td>&quot;0&quot;</td><td>&quot;0&quot;</td><td>0.0</td><td>0.0</td><td>0.0</td><td>0.0</td><td>0.0</td><td>0.0</td><td>0.0</td><td>0.0</td><td>0.0</td><td>0.0</td><td>0.0</td><td>0.0</td></tr><tr><td>&quot;mean&quot;</td><td>null</td><td>&quot;2011-07-28 15:40:02.696000&quot;</td><td>4905.274112</td><td>3.567416</td><td>0.014607</td><td>0.330337</td><td>0.323596</td><td>2.785393</td><td>4904.38409</td><td>4794.858876</td><td>4490.407528</td><td>4862.040876</td><td>4799.350848</td><td>4670.357615</td></tr><tr><td>&quot;std&quot;</td><td>null</td><td>null</td><td>7466.458151</td><td>1.827319</td><td>0.12004</td><td>0.470599</td><td>0.468111</td><td>1.035919</td><td>7463.784865</td><td>7206.571817</td><td>6586.124416</td><td>7010.224929</td><td>6858.89108</td><td>6554.9753</td></tr><tr><td>&quot;min&quot;</td><td>&quot;AU&quot;</td><td>&quot;2011-01-16&quot;</td><td>6.96</td><td>1.0</td><td>0.0</td><td>0.0</td><td>0.0</td><td>1.0</td><td>4.95</td><td>4.95</td><td>3.95</td><td>180.421429</td><td>244.102857</td><td>250.827333</td></tr><tr><td>&quot;25%&quot;</td><td>null</td><td>&quot;2011-05-18&quot;</td><td>325.84</td><td>2.0</td><td>0.0</td><td>0.0</td><td>0.0</td><td>2.0</td><td>328.8</td><td>327.94</td><td>301.85</td><td>482.75</td><td>498.575714</td><td>545.274</td></tr><tr><td>&quot;50%&quot;</td><td>null</td><td>&quot;2011-08-09&quot;</td><td>806.26</td><td>3.0</td><td>0.0</td><td>0.0</td><td>0.0</td><td>3.0</td><td>806.26</td><td>783.97</td><td>757.43</td><td>755.958571</td><td>746.587857</td><td>694.674333</td></tr><tr><td>&quot;75%&quot;</td><td>null</td><td>&quot;2011-10-17&quot;</td><td>9216.29</td><td>5.0</td><td>0.0</td><td>1.0</td><td>1.0</td><td>4.0</td><td>9216.29</td><td>9211.58</td><td>8997.63</td><td>10241.327143</td><td>10529.74</td><td>10636.918333</td></tr><tr><td>&quot;max&quot;</td><td>&quot;PT&quot;</td><td>&quot;2011-12-09&quot;</td><td>43187.3</td><td>7.0</td><td>1.0</td><td>1.0</td><td>1.0</td><td>4.0</td><td>43187.3</td><td>36234.18</td><td>29707.21</td><td>28618.262857</td><td>28319.945</td><td>27031.178333</td></tr></tbody></table></div>"
      ],
      "text/plain": [
       "shape: (9, 15)\n",
       "┌────────────┬─────────┬───────────┬───────────┬───┬───────────┬───────────┬───────────┬───────────┐\n",
       "│ statistic  ┆ Country ┆ InvoiceDa ┆ TotalSale ┆ … ┆ Lag_30    ┆ MA_7      ┆ MA_14     ┆ MA_30     │\n",
       "│ ---        ┆ ---     ┆ te        ┆ s         ┆   ┆ ---       ┆ ---       ┆ ---       ┆ ---       │\n",
       "│ str        ┆ str     ┆ ---       ┆ ---       ┆   ┆ f64       ┆ f64       ┆ f64       ┆ f64       │\n",
       "│            ┆         ┆ str       ┆ f64       ┆   ┆           ┆           ┆           ┆           │\n",
       "╞════════════╪═════════╪═══════════╪═══════════╪═══╪═══════════╪═══════════╪═══════════╪═══════════╡\n",
       "│ count      ┆ 890     ┆ 890       ┆ 890.0     ┆ … ┆ 890.0     ┆ 890.0     ┆ 890.0     ┆ 890.0     │\n",
       "│ null_count ┆ 0       ┆ 0         ┆ 0.0       ┆ … ┆ 0.0       ┆ 0.0       ┆ 0.0       ┆ 0.0       │\n",
       "│ mean       ┆ null    ┆ 2011-07-2 ┆ 4905.2741 ┆ … ┆ 4490.4075 ┆ 4862.0408 ┆ 4799.3508 ┆ 4670.3576 │\n",
       "│            ┆         ┆ 8 15:40:0 ┆ 12        ┆   ┆ 28        ┆ 76        ┆ 48        ┆ 15        │\n",
       "│            ┆         ┆ 2.696000  ┆           ┆   ┆           ┆           ┆           ┆           │\n",
       "│ std        ┆ null    ┆ null      ┆ 7466.4581 ┆ … ┆ 6586.1244 ┆ 7010.2249 ┆ 6858.8910 ┆ 6554.9753 │\n",
       "│            ┆         ┆           ┆ 51        ┆   ┆ 16        ┆ 29        ┆ 8         ┆           │\n",
       "│ min        ┆ AU      ┆ 2011-01-1 ┆ 6.96      ┆ … ┆ 3.95      ┆ 180.42142 ┆ 244.10285 ┆ 250.82733 │\n",
       "│            ┆         ┆ 6         ┆           ┆   ┆           ┆ 9         ┆ 7         ┆ 3         │\n",
       "│ 25%        ┆ null    ┆ 2011-05-1 ┆ 325.84    ┆ … ┆ 301.85    ┆ 482.75    ┆ 498.57571 ┆ 545.274   │\n",
       "│            ┆         ┆ 8         ┆           ┆   ┆           ┆           ┆ 4         ┆           │\n",
       "│ 50%        ┆ null    ┆ 2011-08-0 ┆ 806.26    ┆ … ┆ 757.43    ┆ 755.95857 ┆ 746.58785 ┆ 694.67433 │\n",
       "│            ┆         ┆ 9         ┆           ┆   ┆           ┆ 1         ┆ 7         ┆ 3         │\n",
       "│ 75%        ┆ null    ┆ 2011-10-1 ┆ 9216.29   ┆ … ┆ 8997.63   ┆ 10241.327 ┆ 10529.74  ┆ 10636.918 │\n",
       "│            ┆         ┆ 7         ┆           ┆   ┆           ┆ 143       ┆           ┆ 333       │\n",
       "│ max        ┆ PT      ┆ 2011-12-0 ┆ 43187.3   ┆ … ┆ 29707.21  ┆ 28618.262 ┆ 28319.945 ┆ 27031.178 │\n",
       "│            ┆         ┆ 9         ┆           ┆   ┆           ┆ 857       ┆           ┆ 333       │\n",
       "└────────────┴─────────┴───────────┴───────────┴───┴───────────┴───────────┴───────────┴───────────┘"
      ]
     },
     "execution_count": 212,
     "metadata": {},
     "output_type": "execute_result"
    }
   ],
   "source": [
    "df_grouped.describe()"
   ]
  },
  {
   "cell_type": "markdown",
   "metadata": {},
   "source": [
    "Ademas anadiremos los promedios de los ultimos 7,14 y 30 dias"
   ]
  },
  {
   "cell_type": "markdown",
   "metadata": {},
   "source": [
    "Como vemos tenemos filas (en concreto 30) con valores nulos en lag y el promedio, podriamos rellenarlas artificialmente pero ya que son solo 30 y no queremos sesgar el modelo vamos a eliminarlas."
   ]
  },
  {
   "cell_type": "code",
   "execution_count": 40,
   "metadata": {},
   "outputs": [
    {
     "data": {
      "text/html": [
       "<div><style>\n",
       ".dataframe > thead > tr,\n",
       ".dataframe > tbody > tr {\n",
       "  text-align: right;\n",
       "  white-space: pre-wrap;\n",
       "}\n",
       "</style>\n",
       "<small>shape: (442_222, 10)</small><table border=\"1\" class=\"dataframe\"><thead><tr><th>Quantity</th><th>InvoiceDate</th><th>UnitPrice</th><th>Country</th><th>TotalSales</th><th>weekday</th><th>is_holiday</th><th>is_month_start</th><th>is_month_end</th><th>quarter_num</th></tr><tr><td>i64</td><td>date</td><td>f64</td><td>str</td><td>f64</td><td>i8</td><td>i64</td><td>i8</td><td>i8</td><td>i8</td></tr></thead><tbody><tr><td>1</td><td>2010-12-01</td><td>1.28</td><td>&quot;GB&quot;</td><td>1.28</td><td>3</td><td>0</td><td>1</td><td>0</td><td>4</td></tr><tr><td>2</td><td>2010-12-01</td><td>2.51</td><td>&quot;GB&quot;</td><td>5.02</td><td>3</td><td>0</td><td>1</td><td>0</td><td>4</td></tr><tr><td>1</td><td>2010-12-01</td><td>0.85</td><td>&quot;GB&quot;</td><td>0.85</td><td>3</td><td>0</td><td>1</td><td>0</td><td>4</td></tr><tr><td>1</td><td>2010-12-01</td><td>3.36</td><td>&quot;GB&quot;</td><td>3.36</td><td>3</td><td>0</td><td>1</td><td>0</td><td>4</td></tr><tr><td>1</td><td>2010-12-01</td><td>1.49</td><td>&quot;GB&quot;</td><td>1.49</td><td>3</td><td>0</td><td>1</td><td>0</td><td>4</td></tr><tr><td>&hellip;</td><td>&hellip;</td><td>&hellip;</td><td>&hellip;</td><td>&hellip;</td><td>&hellip;</td><td>&hellip;</td><td>&hellip;</td><td>&hellip;</td><td>&hellip;</td></tr><tr><td>8</td><td>2011-12-09</td><td>4.95</td><td>&quot;GB&quot;</td><td>39.6</td><td>5</td><td>0</td><td>1</td><td>0</td><td>4</td></tr><tr><td>2</td><td>2011-12-09</td><td>5.79</td><td>&quot;GB&quot;</td><td>11.58</td><td>5</td><td>0</td><td>1</td><td>0</td><td>4</td></tr><tr><td>12</td><td>2011-12-09</td><td>1.25</td><td>&quot;GB&quot;</td><td>15.0</td><td>5</td><td>0</td><td>1</td><td>0</td><td>4</td></tr><tr><td>10</td><td>2011-12-09</td><td>1.65</td><td>&quot;GB&quot;</td><td>16.5</td><td>5</td><td>0</td><td>1</td><td>0</td><td>4</td></tr><tr><td>1</td><td>2011-12-09</td><td>5.4</td><td>&quot;GB&quot;</td><td>5.4</td><td>5</td><td>0</td><td>1</td><td>0</td><td>4</td></tr></tbody></table></div>"
      ],
      "text/plain": [
       "shape: (442_222, 10)\n",
       "┌──────────┬────────────┬───────────┬─────────┬───┬────────────┬───────────┬───────────┬───────────┐\n",
       "│ Quantity ┆ InvoiceDat ┆ UnitPrice ┆ Country ┆ … ┆ is_holiday ┆ is_month_ ┆ is_month_ ┆ quarter_n │\n",
       "│ ---      ┆ e          ┆ ---       ┆ ---     ┆   ┆ ---        ┆ start     ┆ end       ┆ um        │\n",
       "│ i64      ┆ ---        ┆ f64       ┆ str     ┆   ┆ i64        ┆ ---       ┆ ---       ┆ ---       │\n",
       "│          ┆ date       ┆           ┆         ┆   ┆            ┆ i8        ┆ i8        ┆ i8        │\n",
       "╞══════════╪════════════╪═══════════╪═════════╪═══╪════════════╪═══════════╪═══════════╪═══════════╡\n",
       "│ 1        ┆ 2010-12-01 ┆ 1.28      ┆ GB      ┆ … ┆ 0          ┆ 1         ┆ 0         ┆ 4         │\n",
       "│ 2        ┆ 2010-12-01 ┆ 2.51      ┆ GB      ┆ … ┆ 0          ┆ 1         ┆ 0         ┆ 4         │\n",
       "│ 1        ┆ 2010-12-01 ┆ 0.85      ┆ GB      ┆ … ┆ 0          ┆ 1         ┆ 0         ┆ 4         │\n",
       "│ 1        ┆ 2010-12-01 ┆ 3.36      ┆ GB      ┆ … ┆ 0          ┆ 1         ┆ 0         ┆ 4         │\n",
       "│ 1        ┆ 2010-12-01 ┆ 1.49      ┆ GB      ┆ … ┆ 0          ┆ 1         ┆ 0         ┆ 4         │\n",
       "│ …        ┆ …          ┆ …         ┆ …       ┆ … ┆ …          ┆ …         ┆ …         ┆ …         │\n",
       "│ 8        ┆ 2011-12-09 ┆ 4.95      ┆ GB      ┆ … ┆ 0          ┆ 1         ┆ 0         ┆ 4         │\n",
       "│ 2        ┆ 2011-12-09 ┆ 5.79      ┆ GB      ┆ … ┆ 0          ┆ 1         ┆ 0         ┆ 4         │\n",
       "│ 12       ┆ 2011-12-09 ┆ 1.25      ┆ GB      ┆ … ┆ 0          ┆ 1         ┆ 0         ┆ 4         │\n",
       "│ 10       ┆ 2011-12-09 ┆ 1.65      ┆ GB      ┆ … ┆ 0          ┆ 1         ┆ 0         ┆ 4         │\n",
       "│ 1        ┆ 2011-12-09 ┆ 5.4       ┆ GB      ┆ … ┆ 0          ┆ 1         ┆ 0         ┆ 4         │\n",
       "└──────────┴────────────┴───────────┴─────────┴───┴────────────┴───────────┴───────────┴───────────┘"
      ]
     },
     "execution_count": 40,
     "metadata": {},
     "output_type": "execute_result"
    }
   ],
   "source": [
    "df.sort(\"InvoiceDate\") "
   ]
  },
  {
   "cell_type": "code",
   "execution_count": 74,
   "metadata": {},
   "outputs": [],
   "source": [
    "df.write_csv(\"data_cleaned.csv\")\n"
   ]
  },
  {
   "cell_type": "code",
   "execution_count": 256,
   "metadata": {},
   "outputs": [],
   "source": [
    "import pickle\n",
    "\n",
    "\n",
    "with open(\"datos_cleaned_grouped.pkl\", \"wb\") as file:\n",
    "    pickle.dump(df_grouped, file)\n",
    "\n"
   ]
  }
 ],
 "metadata": {
  "kernelspec": {
   "display_name": "lab_venv",
   "language": "python",
   "name": "python3"
  },
  "language_info": {
   "codemirror_mode": {
    "name": "ipython",
    "version": 3
   },
   "file_extension": ".py",
   "mimetype": "text/x-python",
   "name": "python",
   "nbconvert_exporter": "python",
   "pygments_lexer": "ipython3",
   "version": "3.11.4"
  }
 },
 "nbformat": 4,
 "nbformat_minor": 2
}
