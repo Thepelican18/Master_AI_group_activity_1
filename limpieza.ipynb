{
 "cells": [
  {
   "cell_type": "code",
   "execution_count": 2,
   "metadata": {},
   "outputs": [
    {
     "data": {
      "text/html": [
       "<div><style>\n",
       ".dataframe > thead > tr,\n",
       ".dataframe > tbody > tr {\n",
       "  text-align: right;\n",
       "  white-space: pre-wrap;\n",
       "}\n",
       "</style>\n",
       "<small>shape: (541_909, 8)</small><table border=\"1\" class=\"dataframe\"><thead><tr><th>InvoiceNo</th><th>StockCode</th><th>Description</th><th>Quantity</th><th>InvoiceDate</th><th>UnitPrice</th><th>CustomerID</th><th>Country</th></tr><tr><td>str</td><td>str</td><td>str</td><td>i64</td><td>str</td><td>f64</td><td>i64</td><td>str</td></tr></thead><tbody><tr><td>&quot;536365&quot;</td><td>&quot;85123A&quot;</td><td>&quot;WHITE HANGING HEART T-LIGHT HO…</td><td>6</td><td>&quot;12/1/2010 8:26&quot;</td><td>2.55</td><td>17850</td><td>&quot;United Kingdom&quot;</td></tr><tr><td>&quot;536365&quot;</td><td>&quot;71053&quot;</td><td>&quot;WHITE METAL LANTERN&quot;</td><td>6</td><td>&quot;12/1/2010 8:26&quot;</td><td>3.39</td><td>17850</td><td>&quot;United Kingdom&quot;</td></tr><tr><td>&quot;536365&quot;</td><td>&quot;84406B&quot;</td><td>&quot;CREAM CUPID HEARTS COAT HANGER&quot;</td><td>8</td><td>&quot;12/1/2010 8:26&quot;</td><td>2.75</td><td>17850</td><td>&quot;United Kingdom&quot;</td></tr><tr><td>&quot;536365&quot;</td><td>&quot;84029G&quot;</td><td>&quot;KNITTED UNION FLAG HOT WATER B…</td><td>6</td><td>&quot;12/1/2010 8:26&quot;</td><td>3.39</td><td>17850</td><td>&quot;United Kingdom&quot;</td></tr><tr><td>&quot;536365&quot;</td><td>&quot;84029E&quot;</td><td>&quot;RED WOOLLY HOTTIE WHITE HEART.&quot;</td><td>6</td><td>&quot;12/1/2010 8:26&quot;</td><td>3.39</td><td>17850</td><td>&quot;United Kingdom&quot;</td></tr><tr><td>&hellip;</td><td>&hellip;</td><td>&hellip;</td><td>&hellip;</td><td>&hellip;</td><td>&hellip;</td><td>&hellip;</td><td>&hellip;</td></tr><tr><td>&quot;581587&quot;</td><td>&quot;22613&quot;</td><td>&quot;PACK OF 20 SPACEBOY NAPKINS&quot;</td><td>12</td><td>&quot;12/9/2011 12:50&quot;</td><td>0.85</td><td>12680</td><td>&quot;France&quot;</td></tr><tr><td>&quot;581587&quot;</td><td>&quot;22899&quot;</td><td>&quot;CHILDREN&#x27;S APRON DOLLY GIRL &quot;</td><td>6</td><td>&quot;12/9/2011 12:50&quot;</td><td>2.1</td><td>12680</td><td>&quot;France&quot;</td></tr><tr><td>&quot;581587&quot;</td><td>&quot;23254&quot;</td><td>&quot;CHILDRENS CUTLERY DOLLY GIRL &quot;</td><td>4</td><td>&quot;12/9/2011 12:50&quot;</td><td>4.15</td><td>12680</td><td>&quot;France&quot;</td></tr><tr><td>&quot;581587&quot;</td><td>&quot;23255&quot;</td><td>&quot;CHILDRENS CUTLERY CIRCUS PARAD…</td><td>4</td><td>&quot;12/9/2011 12:50&quot;</td><td>4.15</td><td>12680</td><td>&quot;France&quot;</td></tr><tr><td>&quot;581587&quot;</td><td>&quot;22138&quot;</td><td>&quot;BAKING SET 9 PIECE RETROSPOT &quot;</td><td>3</td><td>&quot;12/9/2011 12:50&quot;</td><td>4.95</td><td>12680</td><td>&quot;France&quot;</td></tr></tbody></table></div>"
      ],
      "text/plain": [
       "shape: (541_909, 8)\n",
       "┌───────────┬───────────┬──────────────┬──────────┬─────────────┬───────────┬────────────┬─────────┐\n",
       "│ InvoiceNo ┆ StockCode ┆ Description  ┆ Quantity ┆ InvoiceDate ┆ UnitPrice ┆ CustomerID ┆ Country │\n",
       "│ ---       ┆ ---       ┆ ---          ┆ ---      ┆ ---         ┆ ---       ┆ ---        ┆ ---     │\n",
       "│ str       ┆ str       ┆ str          ┆ i64      ┆ str         ┆ f64       ┆ i64        ┆ str     │\n",
       "╞═══════════╪═══════════╪══════════════╪══════════╪═════════════╪═══════════╪════════════╪═════════╡\n",
       "│ 536365    ┆ 85123A    ┆ WHITE        ┆ 6        ┆ 12/1/2010   ┆ 2.55      ┆ 17850      ┆ United  │\n",
       "│           ┆           ┆ HANGING      ┆          ┆ 8:26        ┆           ┆            ┆ Kingdom │\n",
       "│           ┆           ┆ HEART        ┆          ┆             ┆           ┆            ┆         │\n",
       "│           ┆           ┆ T-LIGHT HO…  ┆          ┆             ┆           ┆            ┆         │\n",
       "│ 536365    ┆ 71053     ┆ WHITE METAL  ┆ 6        ┆ 12/1/2010   ┆ 3.39      ┆ 17850      ┆ United  │\n",
       "│           ┆           ┆ LANTERN      ┆          ┆ 8:26        ┆           ┆            ┆ Kingdom │\n",
       "│ 536365    ┆ 84406B    ┆ CREAM CUPID  ┆ 8        ┆ 12/1/2010   ┆ 2.75      ┆ 17850      ┆ United  │\n",
       "│           ┆           ┆ HEARTS COAT  ┆          ┆ 8:26        ┆           ┆            ┆ Kingdom │\n",
       "│           ┆           ┆ HANGER       ┆          ┆             ┆           ┆            ┆         │\n",
       "│ 536365    ┆ 84029G    ┆ KNITTED      ┆ 6        ┆ 12/1/2010   ┆ 3.39      ┆ 17850      ┆ United  │\n",
       "│           ┆           ┆ UNION FLAG   ┆          ┆ 8:26        ┆           ┆            ┆ Kingdom │\n",
       "│           ┆           ┆ HOT WATER B… ┆          ┆             ┆           ┆            ┆         │\n",
       "│ 536365    ┆ 84029E    ┆ RED WOOLLY   ┆ 6        ┆ 12/1/2010   ┆ 3.39      ┆ 17850      ┆ United  │\n",
       "│           ┆           ┆ HOTTIE WHITE ┆          ┆ 8:26        ┆           ┆            ┆ Kingdom │\n",
       "│           ┆           ┆ HEART.       ┆          ┆             ┆           ┆            ┆         │\n",
       "│ …         ┆ …         ┆ …            ┆ …        ┆ …           ┆ …         ┆ …          ┆ …       │\n",
       "│ 581587    ┆ 22613     ┆ PACK OF 20   ┆ 12       ┆ 12/9/2011   ┆ 0.85      ┆ 12680      ┆ France  │\n",
       "│           ┆           ┆ SPACEBOY     ┆          ┆ 12:50       ┆           ┆            ┆         │\n",
       "│           ┆           ┆ NAPKINS      ┆          ┆             ┆           ┆            ┆         │\n",
       "│ 581587    ┆ 22899     ┆ CHILDREN'S   ┆ 6        ┆ 12/9/2011   ┆ 2.1       ┆ 12680      ┆ France  │\n",
       "│           ┆           ┆ APRON DOLLY  ┆          ┆ 12:50       ┆           ┆            ┆         │\n",
       "│           ┆           ┆ GIRL         ┆          ┆             ┆           ┆            ┆         │\n",
       "│ 581587    ┆ 23254     ┆ CHILDRENS    ┆ 4        ┆ 12/9/2011   ┆ 4.15      ┆ 12680      ┆ France  │\n",
       "│           ┆           ┆ CUTLERY      ┆          ┆ 12:50       ┆           ┆            ┆         │\n",
       "│           ┆           ┆ DOLLY GIRL   ┆          ┆             ┆           ┆            ┆         │\n",
       "│ 581587    ┆ 23255     ┆ CHILDRENS    ┆ 4        ┆ 12/9/2011   ┆ 4.15      ┆ 12680      ┆ France  │\n",
       "│           ┆           ┆ CUTLERY      ┆          ┆ 12:50       ┆           ┆            ┆         │\n",
       "│           ┆           ┆ CIRCUS       ┆          ┆             ┆           ┆            ┆         │\n",
       "│           ┆           ┆ PARAD…       ┆          ┆             ┆           ┆            ┆         │\n",
       "│ 581587    ┆ 22138     ┆ BAKING SET 9 ┆ 3        ┆ 12/9/2011   ┆ 4.95      ┆ 12680      ┆ France  │\n",
       "│           ┆           ┆ PIECE        ┆          ┆ 12:50       ┆           ┆            ┆         │\n",
       "│           ┆           ┆ RETROSPOT    ┆          ┆             ┆           ┆            ┆         │\n",
       "└───────────┴───────────┴──────────────┴──────────┴─────────────┴───────────┴────────────┴─────────┘"
      ]
     },
     "execution_count": 2,
     "metadata": {},
     "output_type": "execute_result"
    }
   ],
   "source": [
    "import polars as pl\n",
    "\n",
    "df = pl.read_csv(\"data.csv\", encoding=\"ISO-8859-1\", infer_schema_length=10000)\n",
    "df\n"
   ]
  },
  {
   "cell_type": "markdown",
   "metadata": {},
   "source": [
    "\n",
    "Ahora sobre el dataset vamos a analizar si hay datos que limpiar:\n",
    "\n",
    "Primero los valores nulos, es importante que no tengamos ninguno, ya con datos nulos no podemos trabajar."
   ]
  },
  {
   "cell_type": "code",
   "execution_count": 3,
   "metadata": {},
   "outputs": [
    {
     "data": {
      "text/html": [
       "<div><style>\n",
       ".dataframe > thead > tr,\n",
       ".dataframe > tbody > tr {\n",
       "  text-align: right;\n",
       "  white-space: pre-wrap;\n",
       "}\n",
       "</style>\n",
       "<small>shape: (1, 8)</small><table border=\"1\" class=\"dataframe\"><thead><tr><th>InvoiceNo</th><th>StockCode</th><th>Description</th><th>Quantity</th><th>InvoiceDate</th><th>UnitPrice</th><th>CustomerID</th><th>Country</th></tr><tr><td>u32</td><td>u32</td><td>u32</td><td>u32</td><td>u32</td><td>u32</td><td>u32</td><td>u32</td></tr></thead><tbody><tr><td>0</td><td>0</td><td>1454</td><td>0</td><td>0</td><td>0</td><td>135080</td><td>0</td></tr></tbody></table></div>"
      ],
      "text/plain": [
       "shape: (1, 8)\n",
       "┌───────────┬───────────┬─────────────┬──────────┬─────────────┬───────────┬────────────┬─────────┐\n",
       "│ InvoiceNo ┆ StockCode ┆ Description ┆ Quantity ┆ InvoiceDate ┆ UnitPrice ┆ CustomerID ┆ Country │\n",
       "│ ---       ┆ ---       ┆ ---         ┆ ---      ┆ ---         ┆ ---       ┆ ---        ┆ ---     │\n",
       "│ u32       ┆ u32       ┆ u32         ┆ u32      ┆ u32         ┆ u32       ┆ u32        ┆ u32     │\n",
       "╞═══════════╪═══════════╪═════════════╪══════════╪═════════════╪═══════════╪════════════╪═════════╡\n",
       "│ 0         ┆ 0         ┆ 1454        ┆ 0        ┆ 0           ┆ 0         ┆ 135080     ┆ 0       │\n",
       "└───────────┴───────────┴─────────────┴──────────┴─────────────┴───────────┴────────────┴─────────┘"
      ]
     },
     "execution_count": 3,
     "metadata": {},
     "output_type": "execute_result"
    }
   ],
   "source": [
    "df.null_count()\n"
   ]
  },
  {
   "cell_type": "markdown",
   "metadata": {},
   "source": [
    "Como vemos solo hay muchos nulls, aunque en este caso los nulls del custumer ID nos lo tomaremos como compras reales de clientes no registrados, en cambio los valores nulos de Description los eliminaremos por que no podemos saber si ha sido una venta real o un error."
   ]
  },
  {
   "cell_type": "code",
   "execution_count": 4,
   "metadata": {},
   "outputs": [
    {
     "data": {
      "text/html": [
       "<div><style>\n",
       ".dataframe > thead > tr,\n",
       ".dataframe > tbody > tr {\n",
       "  text-align: right;\n",
       "  white-space: pre-wrap;\n",
       "}\n",
       "</style>\n",
       "<small>shape: (540_455, 8)</small><table border=\"1\" class=\"dataframe\"><thead><tr><th>InvoiceNo</th><th>StockCode</th><th>Description</th><th>Quantity</th><th>InvoiceDate</th><th>UnitPrice</th><th>CustomerID</th><th>Country</th></tr><tr><td>str</td><td>str</td><td>str</td><td>i64</td><td>str</td><td>f64</td><td>i64</td><td>str</td></tr></thead><tbody><tr><td>&quot;536365&quot;</td><td>&quot;85123A&quot;</td><td>&quot;WHITE HANGING HEART T-LIGHT HO…</td><td>6</td><td>&quot;12/1/2010 8:26&quot;</td><td>2.55</td><td>17850</td><td>&quot;United Kingdom&quot;</td></tr><tr><td>&quot;536365&quot;</td><td>&quot;71053&quot;</td><td>&quot;WHITE METAL LANTERN&quot;</td><td>6</td><td>&quot;12/1/2010 8:26&quot;</td><td>3.39</td><td>17850</td><td>&quot;United Kingdom&quot;</td></tr><tr><td>&quot;536365&quot;</td><td>&quot;84406B&quot;</td><td>&quot;CREAM CUPID HEARTS COAT HANGER&quot;</td><td>8</td><td>&quot;12/1/2010 8:26&quot;</td><td>2.75</td><td>17850</td><td>&quot;United Kingdom&quot;</td></tr><tr><td>&quot;536365&quot;</td><td>&quot;84029G&quot;</td><td>&quot;KNITTED UNION FLAG HOT WATER B…</td><td>6</td><td>&quot;12/1/2010 8:26&quot;</td><td>3.39</td><td>17850</td><td>&quot;United Kingdom&quot;</td></tr><tr><td>&quot;536365&quot;</td><td>&quot;84029E&quot;</td><td>&quot;RED WOOLLY HOTTIE WHITE HEART.&quot;</td><td>6</td><td>&quot;12/1/2010 8:26&quot;</td><td>3.39</td><td>17850</td><td>&quot;United Kingdom&quot;</td></tr><tr><td>&hellip;</td><td>&hellip;</td><td>&hellip;</td><td>&hellip;</td><td>&hellip;</td><td>&hellip;</td><td>&hellip;</td><td>&hellip;</td></tr><tr><td>&quot;581587&quot;</td><td>&quot;22613&quot;</td><td>&quot;PACK OF 20 SPACEBOY NAPKINS&quot;</td><td>12</td><td>&quot;12/9/2011 12:50&quot;</td><td>0.85</td><td>12680</td><td>&quot;France&quot;</td></tr><tr><td>&quot;581587&quot;</td><td>&quot;22899&quot;</td><td>&quot;CHILDREN&#x27;S APRON DOLLY GIRL &quot;</td><td>6</td><td>&quot;12/9/2011 12:50&quot;</td><td>2.1</td><td>12680</td><td>&quot;France&quot;</td></tr><tr><td>&quot;581587&quot;</td><td>&quot;23254&quot;</td><td>&quot;CHILDRENS CUTLERY DOLLY GIRL &quot;</td><td>4</td><td>&quot;12/9/2011 12:50&quot;</td><td>4.15</td><td>12680</td><td>&quot;France&quot;</td></tr><tr><td>&quot;581587&quot;</td><td>&quot;23255&quot;</td><td>&quot;CHILDRENS CUTLERY CIRCUS PARAD…</td><td>4</td><td>&quot;12/9/2011 12:50&quot;</td><td>4.15</td><td>12680</td><td>&quot;France&quot;</td></tr><tr><td>&quot;581587&quot;</td><td>&quot;22138&quot;</td><td>&quot;BAKING SET 9 PIECE RETROSPOT &quot;</td><td>3</td><td>&quot;12/9/2011 12:50&quot;</td><td>4.95</td><td>12680</td><td>&quot;France&quot;</td></tr></tbody></table></div>"
      ],
      "text/plain": [
       "shape: (540_455, 8)\n",
       "┌───────────┬───────────┬──────────────┬──────────┬─────────────┬───────────┬────────────┬─────────┐\n",
       "│ InvoiceNo ┆ StockCode ┆ Description  ┆ Quantity ┆ InvoiceDate ┆ UnitPrice ┆ CustomerID ┆ Country │\n",
       "│ ---       ┆ ---       ┆ ---          ┆ ---      ┆ ---         ┆ ---       ┆ ---        ┆ ---     │\n",
       "│ str       ┆ str       ┆ str          ┆ i64      ┆ str         ┆ f64       ┆ i64        ┆ str     │\n",
       "╞═══════════╪═══════════╪══════════════╪══════════╪═════════════╪═══════════╪════════════╪═════════╡\n",
       "│ 536365    ┆ 85123A    ┆ WHITE        ┆ 6        ┆ 12/1/2010   ┆ 2.55      ┆ 17850      ┆ United  │\n",
       "│           ┆           ┆ HANGING      ┆          ┆ 8:26        ┆           ┆            ┆ Kingdom │\n",
       "│           ┆           ┆ HEART        ┆          ┆             ┆           ┆            ┆         │\n",
       "│           ┆           ┆ T-LIGHT HO…  ┆          ┆             ┆           ┆            ┆         │\n",
       "│ 536365    ┆ 71053     ┆ WHITE METAL  ┆ 6        ┆ 12/1/2010   ┆ 3.39      ┆ 17850      ┆ United  │\n",
       "│           ┆           ┆ LANTERN      ┆          ┆ 8:26        ┆           ┆            ┆ Kingdom │\n",
       "│ 536365    ┆ 84406B    ┆ CREAM CUPID  ┆ 8        ┆ 12/1/2010   ┆ 2.75      ┆ 17850      ┆ United  │\n",
       "│           ┆           ┆ HEARTS COAT  ┆          ┆ 8:26        ┆           ┆            ┆ Kingdom │\n",
       "│           ┆           ┆ HANGER       ┆          ┆             ┆           ┆            ┆         │\n",
       "│ 536365    ┆ 84029G    ┆ KNITTED      ┆ 6        ┆ 12/1/2010   ┆ 3.39      ┆ 17850      ┆ United  │\n",
       "│           ┆           ┆ UNION FLAG   ┆          ┆ 8:26        ┆           ┆            ┆ Kingdom │\n",
       "│           ┆           ┆ HOT WATER B… ┆          ┆             ┆           ┆            ┆         │\n",
       "│ 536365    ┆ 84029E    ┆ RED WOOLLY   ┆ 6        ┆ 12/1/2010   ┆ 3.39      ┆ 17850      ┆ United  │\n",
       "│           ┆           ┆ HOTTIE WHITE ┆          ┆ 8:26        ┆           ┆            ┆ Kingdom │\n",
       "│           ┆           ┆ HEART.       ┆          ┆             ┆           ┆            ┆         │\n",
       "│ …         ┆ …         ┆ …            ┆ …        ┆ …           ┆ …         ┆ …          ┆ …       │\n",
       "│ 581587    ┆ 22613     ┆ PACK OF 20   ┆ 12       ┆ 12/9/2011   ┆ 0.85      ┆ 12680      ┆ France  │\n",
       "│           ┆           ┆ SPACEBOY     ┆          ┆ 12:50       ┆           ┆            ┆         │\n",
       "│           ┆           ┆ NAPKINS      ┆          ┆             ┆           ┆            ┆         │\n",
       "│ 581587    ┆ 22899     ┆ CHILDREN'S   ┆ 6        ┆ 12/9/2011   ┆ 2.1       ┆ 12680      ┆ France  │\n",
       "│           ┆           ┆ APRON DOLLY  ┆          ┆ 12:50       ┆           ┆            ┆         │\n",
       "│           ┆           ┆ GIRL         ┆          ┆             ┆           ┆            ┆         │\n",
       "│ 581587    ┆ 23254     ┆ CHILDRENS    ┆ 4        ┆ 12/9/2011   ┆ 4.15      ┆ 12680      ┆ France  │\n",
       "│           ┆           ┆ CUTLERY      ┆          ┆ 12:50       ┆           ┆            ┆         │\n",
       "│           ┆           ┆ DOLLY GIRL   ┆          ┆             ┆           ┆            ┆         │\n",
       "│ 581587    ┆ 23255     ┆ CHILDRENS    ┆ 4        ┆ 12/9/2011   ┆ 4.15      ┆ 12680      ┆ France  │\n",
       "│           ┆           ┆ CUTLERY      ┆          ┆ 12:50       ┆           ┆            ┆         │\n",
       "│           ┆           ┆ CIRCUS       ┆          ┆             ┆           ┆            ┆         │\n",
       "│           ┆           ┆ PARAD…       ┆          ┆             ┆           ┆            ┆         │\n",
       "│ 581587    ┆ 22138     ┆ BAKING SET 9 ┆ 3        ┆ 12/9/2011   ┆ 4.95      ┆ 12680      ┆ France  │\n",
       "│           ┆           ┆ PIECE        ┆          ┆ 12:50       ┆           ┆            ┆         │\n",
       "│           ┆           ┆ RETROSPOT    ┆          ┆             ┆           ┆            ┆         │\n",
       "└───────────┴───────────┴──────────────┴──────────┴─────────────┴───────────┴────────────┴─────────┘"
      ]
     },
     "execution_count": 4,
     "metadata": {},
     "output_type": "execute_result"
    }
   ],
   "source": [
    "df = df.filter(df[\"Description\"].is_not_null())\n",
    "df"
   ]
  },
  {
   "cell_type": "markdown",
   "metadata": {},
   "source": [
    "Sabiendo que ya no tenemos nulos vamos a comprobar los duplicados(todas las columnas), que tambien es importante"
   ]
  },
  {
   "cell_type": "code",
   "execution_count": 5,
   "metadata": {},
   "outputs": [
    {
     "data": {
      "text/plain": [
       "'Filas duplicadas: 5268'"
      ]
     },
     "execution_count": 5,
     "metadata": {},
     "output_type": "execute_result"
    }
   ],
   "source": [
    "\n",
    "f\"Filas duplicadas: {df.height - df.unique().height}\""
   ]
  },
  {
   "cell_type": "markdown",
   "metadata": {},
   "source": [
    "En nuestro caso elimineramos estas filas duplicadas porque es muy probable que se trate de un error de la aplicacion al insertar datos."
   ]
  },
  {
   "cell_type": "code",
   "execution_count": 6,
   "metadata": {},
   "outputs": [
    {
     "data": {
      "text/html": [
       "<div><style>\n",
       ".dataframe > thead > tr,\n",
       ".dataframe > tbody > tr {\n",
       "  text-align: right;\n",
       "  white-space: pre-wrap;\n",
       "}\n",
       "</style>\n",
       "<small>shape: (535_187, 8)</small><table border=\"1\" class=\"dataframe\"><thead><tr><th>InvoiceNo</th><th>StockCode</th><th>Description</th><th>Quantity</th><th>InvoiceDate</th><th>UnitPrice</th><th>CustomerID</th><th>Country</th></tr><tr><td>str</td><td>str</td><td>str</td><td>i64</td><td>str</td><td>f64</td><td>i64</td><td>str</td></tr></thead><tbody><tr><td>&quot;539631&quot;</td><td>&quot;22436&quot;</td><td>&quot;12 COLOURED PARTY BALLOONS&quot;</td><td>1</td><td>&quot;12/20/2010 15:03&quot;</td><td>1.28</td><td>null</td><td>&quot;United Kingdom&quot;</td></tr><tr><td>&quot;571430&quot;</td><td>&quot;22617&quot;</td><td>&quot;BAKING SET SPACEBOY DESIGN&quot;</td><td>24</td><td>&quot;10/17/2011 12:51&quot;</td><td>4.25</td><td>13090</td><td>&quot;United Kingdom&quot;</td></tr><tr><td>&quot;563174&quot;</td><td>&quot;22383&quot;</td><td>&quot;LUNCH BAG SUKI DESIGN &quot;</td><td>10</td><td>&quot;8/12/2011 13:40&quot;</td><td>1.65</td><td>16746</td><td>&quot;United Kingdom&quot;</td></tr><tr><td>&quot;567545&quot;</td><td>&quot;23232&quot;</td><td>&quot;WRAP VINTAGE LEAF DESIGN&quot;</td><td>25</td><td>&quot;9/21/2011 10:27&quot;</td><td>0.42</td><td>13155</td><td>&quot;United Kingdom&quot;</td></tr><tr><td>&quot;536592&quot;</td><td>&quot;21809&quot;</td><td>&quot;CHRISTMAS HANGING TREE WITH BE…</td><td>1</td><td>&quot;12/1/2010 17:06&quot;</td><td>2.51</td><td>null</td><td>&quot;United Kingdom&quot;</td></tr><tr><td>&hellip;</td><td>&hellip;</td><td>&hellip;</td><td>&hellip;</td><td>&hellip;</td><td>&hellip;</td><td>&hellip;</td><td>&hellip;</td></tr><tr><td>&quot;566452&quot;</td><td>&quot;23157&quot;</td><td>&quot;SET OF 6 NATIVITY MAGNETS &quot;</td><td>1</td><td>&quot;9/12/2011 16:14&quot;</td><td>2.08</td><td>14901</td><td>&quot;United Kingdom&quot;</td></tr><tr><td>&quot;561113&quot;</td><td>&quot;15056BL&quot;</td><td>&quot;EDWARDIAN PARASOL BLACK&quot;</td><td>1</td><td>&quot;7/25/2011 12:09&quot;</td><td>5.95</td><td>17841</td><td>&quot;United Kingdom&quot;</td></tr><tr><td>&quot;553074&quot;</td><td>&quot;21080&quot;</td><td>&quot;SET/20 RED RETROSPOT PAPER NAP…</td><td>2</td><td>&quot;5/13/2011 11:45&quot;</td><td>0.85</td><td>15529</td><td>&quot;United Kingdom&quot;</td></tr><tr><td>&quot;575303&quot;</td><td>&quot;20751&quot;</td><td>&quot;FUNKY WASHING UP GLOVES ASSORT…</td><td>1</td><td>&quot;11/9/2011 12:34&quot;</td><td>2.1</td><td>12893</td><td>&quot;United Kingdom&quot;</td></tr><tr><td>&quot;572090&quot;</td><td>&quot;23395&quot;</td><td>&quot;BELLE JARDINIERE CUSHION COVER&quot;</td><td>1</td><td>&quot;10/20/2011 14:33&quot;</td><td>3.75</td><td>13573</td><td>&quot;United Kingdom&quot;</td></tr></tbody></table></div>"
      ],
      "text/plain": [
       "shape: (535_187, 8)\n",
       "┌───────────┬───────────┬──────────────┬──────────┬─────────────┬───────────┬────────────┬─────────┐\n",
       "│ InvoiceNo ┆ StockCode ┆ Description  ┆ Quantity ┆ InvoiceDate ┆ UnitPrice ┆ CustomerID ┆ Country │\n",
       "│ ---       ┆ ---       ┆ ---          ┆ ---      ┆ ---         ┆ ---       ┆ ---        ┆ ---     │\n",
       "│ str       ┆ str       ┆ str          ┆ i64      ┆ str         ┆ f64       ┆ i64        ┆ str     │\n",
       "╞═══════════╪═══════════╪══════════════╪══════════╪═════════════╪═══════════╪════════════╪═════════╡\n",
       "│ 539631    ┆ 22436     ┆ 12 COLOURED  ┆ 1        ┆ 12/20/2010  ┆ 1.28      ┆ null       ┆ United  │\n",
       "│           ┆           ┆ PARTY        ┆          ┆ 15:03       ┆           ┆            ┆ Kingdom │\n",
       "│           ┆           ┆ BALLOONS     ┆          ┆             ┆           ┆            ┆         │\n",
       "│ 571430    ┆ 22617     ┆ BAKING SET   ┆ 24       ┆ 10/17/2011  ┆ 4.25      ┆ 13090      ┆ United  │\n",
       "│           ┆           ┆ SPACEBOY     ┆          ┆ 12:51       ┆           ┆            ┆ Kingdom │\n",
       "│           ┆           ┆ DESIGN       ┆          ┆             ┆           ┆            ┆         │\n",
       "│ 563174    ┆ 22383     ┆ LUNCH BAG    ┆ 10       ┆ 8/12/2011   ┆ 1.65      ┆ 16746      ┆ United  │\n",
       "│           ┆           ┆ SUKI DESIGN  ┆          ┆ 13:40       ┆           ┆            ┆ Kingdom │\n",
       "│ 567545    ┆ 23232     ┆ WRAP VINTAGE ┆ 25       ┆ 9/21/2011   ┆ 0.42      ┆ 13155      ┆ United  │\n",
       "│           ┆           ┆ LEAF DESIGN  ┆          ┆ 10:27       ┆           ┆            ┆ Kingdom │\n",
       "│ 536592    ┆ 21809     ┆ CHRISTMAS    ┆ 1        ┆ 12/1/2010   ┆ 2.51      ┆ null       ┆ United  │\n",
       "│           ┆           ┆ HANGING TREE ┆          ┆ 17:06       ┆           ┆            ┆ Kingdom │\n",
       "│           ┆           ┆ WITH BE…     ┆          ┆             ┆           ┆            ┆         │\n",
       "│ …         ┆ …         ┆ …            ┆ …        ┆ …           ┆ …         ┆ …          ┆ …       │\n",
       "│ 566452    ┆ 23157     ┆ SET OF 6     ┆ 1        ┆ 9/12/2011   ┆ 2.08      ┆ 14901      ┆ United  │\n",
       "│           ┆           ┆ NATIVITY     ┆          ┆ 16:14       ┆           ┆            ┆ Kingdom │\n",
       "│           ┆           ┆ MAGNETS      ┆          ┆             ┆           ┆            ┆         │\n",
       "│ 561113    ┆ 15056BL   ┆ EDWARDIAN    ┆ 1        ┆ 7/25/2011   ┆ 5.95      ┆ 17841      ┆ United  │\n",
       "│           ┆           ┆ PARASOL      ┆          ┆ 12:09       ┆           ┆            ┆ Kingdom │\n",
       "│           ┆           ┆ BLACK        ┆          ┆             ┆           ┆            ┆         │\n",
       "│ 553074    ┆ 21080     ┆ SET/20 RED   ┆ 2        ┆ 5/13/2011   ┆ 0.85      ┆ 15529      ┆ United  │\n",
       "│           ┆           ┆ RETROSPOT    ┆          ┆ 11:45       ┆           ┆            ┆ Kingdom │\n",
       "│           ┆           ┆ PAPER NAP…   ┆          ┆             ┆           ┆            ┆         │\n",
       "│ 575303    ┆ 20751     ┆ FUNKY        ┆ 1        ┆ 11/9/2011   ┆ 2.1       ┆ 12893      ┆ United  │\n",
       "│           ┆           ┆ WASHING UP   ┆          ┆ 12:34       ┆           ┆            ┆ Kingdom │\n",
       "│           ┆           ┆ GLOVES       ┆          ┆             ┆           ┆            ┆         │\n",
       "│           ┆           ┆ ASSORT…      ┆          ┆             ┆           ┆            ┆         │\n",
       "│ 572090    ┆ 23395     ┆ BELLE        ┆ 1        ┆ 10/20/2011  ┆ 3.75      ┆ 13573      ┆ United  │\n",
       "│           ┆           ┆ JARDINIERE   ┆          ┆ 14:33       ┆           ┆            ┆ Kingdom │\n",
       "│           ┆           ┆ CUSHION      ┆          ┆             ┆           ┆            ┆         │\n",
       "│           ┆           ┆ COVER        ┆          ┆             ┆           ┆            ┆         │\n",
       "└───────────┴───────────┴──────────────┴──────────┴─────────────┴───────────┴────────────┴─────────┘"
      ]
     },
     "execution_count": 6,
     "metadata": {},
     "output_type": "execute_result"
    }
   ],
   "source": [
    "\n",
    "df = df.unique()\n",
    "df"
   ]
  },
  {
   "cell_type": "markdown",
   "metadata": {},
   "source": [
    "Ahora iremos con los valores negativos"
   ]
  },
  {
   "cell_type": "code",
   "execution_count": 7,
   "metadata": {},
   "outputs": [
    {
     "data": {
      "text/html": [
       "<div><style>\n",
       ".dataframe > thead > tr,\n",
       ".dataframe > tbody > tr {\n",
       "  text-align: right;\n",
       "  white-space: pre-wrap;\n",
       "}\n",
       "</style>\n",
       "<small>shape: (9_727, 8)</small><table border=\"1\" class=\"dataframe\"><thead><tr><th>InvoiceNo</th><th>StockCode</th><th>Description</th><th>Quantity</th><th>InvoiceDate</th><th>UnitPrice</th><th>CustomerID</th><th>Country</th></tr><tr><td>str</td><td>str</td><td>str</td><td>i64</td><td>str</td><td>f64</td><td>i64</td><td>str</td></tr></thead><tbody><tr><td>&quot;C579886&quot;</td><td>&quot;23491&quot;</td><td>&quot;VINTAGE JINGLE BELLS HEART&quot;</td><td>-1</td><td>&quot;11/30/2011 17:39&quot;</td><td>8.25</td><td>15676</td><td>&quot;United Kingdom&quot;</td></tr><tr><td>&quot;C567715&quot;</td><td>&quot;84879&quot;</td><td>&quot;ASSORTED COLOUR BIRD ORNAMENT&quot;</td><td>-7</td><td>&quot;9/22/2011 10:12&quot;</td><td>1.69</td><td>16160</td><td>&quot;United Kingdom&quot;</td></tr><tr><td>&quot;C542792&quot;</td><td>&quot;22505&quot;</td><td>&quot;MEMO BOARD COTTAGE DESIGN&quot;</td><td>-1</td><td>&quot;2/1/2011 10:49&quot;</td><td>4.95</td><td>14627</td><td>&quot;United Kingdom&quot;</td></tr><tr><td>&quot;C556637&quot;</td><td>&quot;22088&quot;</td><td>&quot;PAPER BUNTING COLOURED LACE&quot;</td><td>-1</td><td>&quot;6/13/2011 15:32&quot;</td><td>2.95</td><td>15382</td><td>&quot;United Kingdom&quot;</td></tr><tr><td>&quot;C565789&quot;</td><td>&quot;84949&quot;</td><td>&quot;SILVER HANGING T-LIGHT HOLDER&quot;</td><td>-5</td><td>&quot;9/7/2011 9:07&quot;</td><td>1.65</td><td>16735</td><td>&quot;United Kingdom&quot;</td></tr><tr><td>&hellip;</td><td>&hellip;</td><td>&hellip;</td><td>&hellip;</td><td>&hellip;</td><td>&hellip;</td><td>&hellip;</td><td>&hellip;</td></tr><tr><td>&quot;C561464&quot;</td><td>&quot;D&quot;</td><td>&quot;Discount&quot;</td><td>-1</td><td>&quot;7/27/2011 12:40&quot;</td><td>26.05</td><td>14527</td><td>&quot;United Kingdom&quot;</td></tr><tr><td>&quot;C556453&quot;</td><td>&quot;21622&quot;</td><td>&quot;VINTAGE UNION JACK CUSHION COV…</td><td>-6</td><td>&quot;6/10/2011 16:33&quot;</td><td>4.95</td><td>14525</td><td>&quot;United Kingdom&quot;</td></tr><tr><td>&quot;C560855&quot;</td><td>&quot;47504H&quot;</td><td>&quot;ENGLISH ROSE SPIRIT LEVEL &quot;</td><td>-4</td><td>&quot;7/21/2011 13:00&quot;</td><td>1.25</td><td>14410</td><td>&quot;United Kingdom&quot;</td></tr><tr><td>&quot;C543765&quot;</td><td>&quot;79191C&quot;</td><td>&quot;RETRO PLASTIC ELEPHANT TRAY&quot;</td><td>-12</td><td>&quot;2/11/2011 15:16&quot;</td><td>0.85</td><td>16265</td><td>&quot;United Kingdom&quot;</td></tr><tr><td>&quot;C569655&quot;</td><td>&quot;22728&quot;</td><td>&quot;ALARM CLOCK BAKELIKE PINK&quot;</td><td>-1</td><td>&quot;10/5/2011 12:58&quot;</td><td>3.75</td><td>14534</td><td>&quot;United Kingdom&quot;</td></tr></tbody></table></div>"
      ],
      "text/plain": [
       "shape: (9_727, 8)\n",
       "┌───────────┬───────────┬──────────────┬──────────┬─────────────┬───────────┬────────────┬─────────┐\n",
       "│ InvoiceNo ┆ StockCode ┆ Description  ┆ Quantity ┆ InvoiceDate ┆ UnitPrice ┆ CustomerID ┆ Country │\n",
       "│ ---       ┆ ---       ┆ ---          ┆ ---      ┆ ---         ┆ ---       ┆ ---        ┆ ---     │\n",
       "│ str       ┆ str       ┆ str          ┆ i64      ┆ str         ┆ f64       ┆ i64        ┆ str     │\n",
       "╞═══════════╪═══════════╪══════════════╪══════════╪═════════════╪═══════════╪════════════╪═════════╡\n",
       "│ C579886   ┆ 23491     ┆ VINTAGE      ┆ -1       ┆ 11/30/2011  ┆ 8.25      ┆ 15676      ┆ United  │\n",
       "│           ┆           ┆ JINGLE BELLS ┆          ┆ 17:39       ┆           ┆            ┆ Kingdom │\n",
       "│           ┆           ┆ HEART        ┆          ┆             ┆           ┆            ┆         │\n",
       "│ C567715   ┆ 84879     ┆ ASSORTED     ┆ -7       ┆ 9/22/2011   ┆ 1.69      ┆ 16160      ┆ United  │\n",
       "│           ┆           ┆ COLOUR BIRD  ┆          ┆ 10:12       ┆           ┆            ┆ Kingdom │\n",
       "│           ┆           ┆ ORNAMENT     ┆          ┆             ┆           ┆            ┆         │\n",
       "│ C542792   ┆ 22505     ┆ MEMO BOARD   ┆ -1       ┆ 2/1/2011    ┆ 4.95      ┆ 14627      ┆ United  │\n",
       "│           ┆           ┆ COTTAGE      ┆          ┆ 10:49       ┆           ┆            ┆ Kingdom │\n",
       "│           ┆           ┆ DESIGN       ┆          ┆             ┆           ┆            ┆         │\n",
       "│ C556637   ┆ 22088     ┆ PAPER        ┆ -1       ┆ 6/13/2011   ┆ 2.95      ┆ 15382      ┆ United  │\n",
       "│           ┆           ┆ BUNTING      ┆          ┆ 15:32       ┆           ┆            ┆ Kingdom │\n",
       "│           ┆           ┆ COLOURED     ┆          ┆             ┆           ┆            ┆         │\n",
       "│           ┆           ┆ LACE         ┆          ┆             ┆           ┆            ┆         │\n",
       "│ C565789   ┆ 84949     ┆ SILVER       ┆ -5       ┆ 9/7/2011    ┆ 1.65      ┆ 16735      ┆ United  │\n",
       "│           ┆           ┆ HANGING      ┆          ┆ 9:07        ┆           ┆            ┆ Kingdom │\n",
       "│           ┆           ┆ T-LIGHT      ┆          ┆             ┆           ┆            ┆         │\n",
       "│           ┆           ┆ HOLDER       ┆          ┆             ┆           ┆            ┆         │\n",
       "│ …         ┆ …         ┆ …            ┆ …        ┆ …           ┆ …         ┆ …          ┆ …       │\n",
       "│ C561464   ┆ D         ┆ Discount     ┆ -1       ┆ 7/27/2011   ┆ 26.05     ┆ 14527      ┆ United  │\n",
       "│           ┆           ┆              ┆          ┆ 12:40       ┆           ┆            ┆ Kingdom │\n",
       "│ C556453   ┆ 21622     ┆ VINTAGE      ┆ -6       ┆ 6/10/2011   ┆ 4.95      ┆ 14525      ┆ United  │\n",
       "│           ┆           ┆ UNION JACK   ┆          ┆ 16:33       ┆           ┆            ┆ Kingdom │\n",
       "│           ┆           ┆ CUSHION COV… ┆          ┆             ┆           ┆            ┆         │\n",
       "│ C560855   ┆ 47504H    ┆ ENGLISH ROSE ┆ -4       ┆ 7/21/2011   ┆ 1.25      ┆ 14410      ┆ United  │\n",
       "│           ┆           ┆ SPIRIT LEVEL ┆          ┆ 13:00       ┆           ┆            ┆ Kingdom │\n",
       "│ C543765   ┆ 79191C    ┆ RETRO        ┆ -12      ┆ 2/11/2011   ┆ 0.85      ┆ 16265      ┆ United  │\n",
       "│           ┆           ┆ PLASTIC      ┆          ┆ 15:16       ┆           ┆            ┆ Kingdom │\n",
       "│           ┆           ┆ ELEPHANT     ┆          ┆             ┆           ┆            ┆         │\n",
       "│           ┆           ┆ TRAY         ┆          ┆             ┆           ┆            ┆         │\n",
       "│ C569655   ┆ 22728     ┆ ALARM CLOCK  ┆ -1       ┆ 10/5/2011   ┆ 3.75      ┆ 14534      ┆ United  │\n",
       "│           ┆           ┆ BAKELIKE     ┆          ┆ 12:58       ┆           ┆            ┆ Kingdom │\n",
       "│           ┆           ┆ PINK         ┆          ┆             ┆           ┆            ┆         │\n",
       "└───────────┴───────────┴──────────────┴──────────┴─────────────┴───────────┴────────────┴─────────┘"
      ]
     },
     "execution_count": 7,
     "metadata": {},
     "output_type": "execute_result"
    }
   ],
   "source": [
    "df.filter((pl.col(\"Quantity\") < 0) | (pl.col(\"UnitPrice\") < 0))\n"
   ]
  },
  {
   "cell_type": "markdown",
   "metadata": {},
   "source": [
    "EXPLICAR PORQUE LOS NEGATIVOS NO LOS VAMOS A USAR COMO DEVOLUCIONES"
   ]
  },
  {
   "cell_type": "markdown",
   "metadata": {},
   "source": [
    "Tenemos unos cuantos tambien, tanto valores negaticos en la cantidad, como en el precio por unidad. Evidentemente tenemos que eliminar estos valores negativos porque no tienen ni pies ni cabeza."
   ]
  },
  {
   "cell_type": "code",
   "execution_count": 8,
   "metadata": {},
   "outputs": [
    {
     "data": {
      "text/html": [
       "<div><style>\n",
       ".dataframe > thead > tr,\n",
       ".dataframe > tbody > tr {\n",
       "  text-align: right;\n",
       "  white-space: pre-wrap;\n",
       "}\n",
       "</style>\n",
       "<small>shape: (525_460, 8)</small><table border=\"1\" class=\"dataframe\"><thead><tr><th>InvoiceNo</th><th>StockCode</th><th>Description</th><th>Quantity</th><th>InvoiceDate</th><th>UnitPrice</th><th>CustomerID</th><th>Country</th></tr><tr><td>str</td><td>str</td><td>str</td><td>i64</td><td>str</td><td>f64</td><td>i64</td><td>str</td></tr></thead><tbody><tr><td>&quot;539631&quot;</td><td>&quot;22436&quot;</td><td>&quot;12 COLOURED PARTY BALLOONS&quot;</td><td>1</td><td>&quot;12/20/2010 15:03&quot;</td><td>1.28</td><td>null</td><td>&quot;United Kingdom&quot;</td></tr><tr><td>&quot;571430&quot;</td><td>&quot;22617&quot;</td><td>&quot;BAKING SET SPACEBOY DESIGN&quot;</td><td>24</td><td>&quot;10/17/2011 12:51&quot;</td><td>4.25</td><td>13090</td><td>&quot;United Kingdom&quot;</td></tr><tr><td>&quot;563174&quot;</td><td>&quot;22383&quot;</td><td>&quot;LUNCH BAG SUKI DESIGN &quot;</td><td>10</td><td>&quot;8/12/2011 13:40&quot;</td><td>1.65</td><td>16746</td><td>&quot;United Kingdom&quot;</td></tr><tr><td>&quot;567545&quot;</td><td>&quot;23232&quot;</td><td>&quot;WRAP VINTAGE LEAF DESIGN&quot;</td><td>25</td><td>&quot;9/21/2011 10:27&quot;</td><td>0.42</td><td>13155</td><td>&quot;United Kingdom&quot;</td></tr><tr><td>&quot;536592&quot;</td><td>&quot;21809&quot;</td><td>&quot;CHRISTMAS HANGING TREE WITH BE…</td><td>1</td><td>&quot;12/1/2010 17:06&quot;</td><td>2.51</td><td>null</td><td>&quot;United Kingdom&quot;</td></tr><tr><td>&hellip;</td><td>&hellip;</td><td>&hellip;</td><td>&hellip;</td><td>&hellip;</td><td>&hellip;</td><td>&hellip;</td><td>&hellip;</td></tr><tr><td>&quot;566452&quot;</td><td>&quot;23157&quot;</td><td>&quot;SET OF 6 NATIVITY MAGNETS &quot;</td><td>1</td><td>&quot;9/12/2011 16:14&quot;</td><td>2.08</td><td>14901</td><td>&quot;United Kingdom&quot;</td></tr><tr><td>&quot;561113&quot;</td><td>&quot;15056BL&quot;</td><td>&quot;EDWARDIAN PARASOL BLACK&quot;</td><td>1</td><td>&quot;7/25/2011 12:09&quot;</td><td>5.95</td><td>17841</td><td>&quot;United Kingdom&quot;</td></tr><tr><td>&quot;553074&quot;</td><td>&quot;21080&quot;</td><td>&quot;SET/20 RED RETROSPOT PAPER NAP…</td><td>2</td><td>&quot;5/13/2011 11:45&quot;</td><td>0.85</td><td>15529</td><td>&quot;United Kingdom&quot;</td></tr><tr><td>&quot;575303&quot;</td><td>&quot;20751&quot;</td><td>&quot;FUNKY WASHING UP GLOVES ASSORT…</td><td>1</td><td>&quot;11/9/2011 12:34&quot;</td><td>2.1</td><td>12893</td><td>&quot;United Kingdom&quot;</td></tr><tr><td>&quot;572090&quot;</td><td>&quot;23395&quot;</td><td>&quot;BELLE JARDINIERE CUSHION COVER&quot;</td><td>1</td><td>&quot;10/20/2011 14:33&quot;</td><td>3.75</td><td>13573</td><td>&quot;United Kingdom&quot;</td></tr></tbody></table></div>"
      ],
      "text/plain": [
       "shape: (525_460, 8)\n",
       "┌───────────┬───────────┬──────────────┬──────────┬─────────────┬───────────┬────────────┬─────────┐\n",
       "│ InvoiceNo ┆ StockCode ┆ Description  ┆ Quantity ┆ InvoiceDate ┆ UnitPrice ┆ CustomerID ┆ Country │\n",
       "│ ---       ┆ ---       ┆ ---          ┆ ---      ┆ ---         ┆ ---       ┆ ---        ┆ ---     │\n",
       "│ str       ┆ str       ┆ str          ┆ i64      ┆ str         ┆ f64       ┆ i64        ┆ str     │\n",
       "╞═══════════╪═══════════╪══════════════╪══════════╪═════════════╪═══════════╪════════════╪═════════╡\n",
       "│ 539631    ┆ 22436     ┆ 12 COLOURED  ┆ 1        ┆ 12/20/2010  ┆ 1.28      ┆ null       ┆ United  │\n",
       "│           ┆           ┆ PARTY        ┆          ┆ 15:03       ┆           ┆            ┆ Kingdom │\n",
       "│           ┆           ┆ BALLOONS     ┆          ┆             ┆           ┆            ┆         │\n",
       "│ 571430    ┆ 22617     ┆ BAKING SET   ┆ 24       ┆ 10/17/2011  ┆ 4.25      ┆ 13090      ┆ United  │\n",
       "│           ┆           ┆ SPACEBOY     ┆          ┆ 12:51       ┆           ┆            ┆ Kingdom │\n",
       "│           ┆           ┆ DESIGN       ┆          ┆             ┆           ┆            ┆         │\n",
       "│ 563174    ┆ 22383     ┆ LUNCH BAG    ┆ 10       ┆ 8/12/2011   ┆ 1.65      ┆ 16746      ┆ United  │\n",
       "│           ┆           ┆ SUKI DESIGN  ┆          ┆ 13:40       ┆           ┆            ┆ Kingdom │\n",
       "│ 567545    ┆ 23232     ┆ WRAP VINTAGE ┆ 25       ┆ 9/21/2011   ┆ 0.42      ┆ 13155      ┆ United  │\n",
       "│           ┆           ┆ LEAF DESIGN  ┆          ┆ 10:27       ┆           ┆            ┆ Kingdom │\n",
       "│ 536592    ┆ 21809     ┆ CHRISTMAS    ┆ 1        ┆ 12/1/2010   ┆ 2.51      ┆ null       ┆ United  │\n",
       "│           ┆           ┆ HANGING TREE ┆          ┆ 17:06       ┆           ┆            ┆ Kingdom │\n",
       "│           ┆           ┆ WITH BE…     ┆          ┆             ┆           ┆            ┆         │\n",
       "│ …         ┆ …         ┆ …            ┆ …        ┆ …           ┆ …         ┆ …          ┆ …       │\n",
       "│ 566452    ┆ 23157     ┆ SET OF 6     ┆ 1        ┆ 9/12/2011   ┆ 2.08      ┆ 14901      ┆ United  │\n",
       "│           ┆           ┆ NATIVITY     ┆          ┆ 16:14       ┆           ┆            ┆ Kingdom │\n",
       "│           ┆           ┆ MAGNETS      ┆          ┆             ┆           ┆            ┆         │\n",
       "│ 561113    ┆ 15056BL   ┆ EDWARDIAN    ┆ 1        ┆ 7/25/2011   ┆ 5.95      ┆ 17841      ┆ United  │\n",
       "│           ┆           ┆ PARASOL      ┆          ┆ 12:09       ┆           ┆            ┆ Kingdom │\n",
       "│           ┆           ┆ BLACK        ┆          ┆             ┆           ┆            ┆         │\n",
       "│ 553074    ┆ 21080     ┆ SET/20 RED   ┆ 2        ┆ 5/13/2011   ┆ 0.85      ┆ 15529      ┆ United  │\n",
       "│           ┆           ┆ RETROSPOT    ┆          ┆ 11:45       ┆           ┆            ┆ Kingdom │\n",
       "│           ┆           ┆ PAPER NAP…   ┆          ┆             ┆           ┆            ┆         │\n",
       "│ 575303    ┆ 20751     ┆ FUNKY        ┆ 1        ┆ 11/9/2011   ┆ 2.1       ┆ 12893      ┆ United  │\n",
       "│           ┆           ┆ WASHING UP   ┆          ┆ 12:34       ┆           ┆            ┆ Kingdom │\n",
       "│           ┆           ┆ GLOVES       ┆          ┆             ┆           ┆            ┆         │\n",
       "│           ┆           ┆ ASSORT…      ┆          ┆             ┆           ┆            ┆         │\n",
       "│ 572090    ┆ 23395     ┆ BELLE        ┆ 1        ┆ 10/20/2011  ┆ 3.75      ┆ 13573      ┆ United  │\n",
       "│           ┆           ┆ JARDINIERE   ┆          ┆ 14:33       ┆           ┆            ┆ Kingdom │\n",
       "│           ┆           ┆ CUSHION      ┆          ┆             ┆           ┆            ┆         │\n",
       "│           ┆           ┆ COVER        ┆          ┆             ┆           ┆            ┆         │\n",
       "└───────────┴───────────┴──────────────┴──────────┴─────────────┴───────────┴────────────┴─────────┘"
      ]
     },
     "execution_count": 8,
     "metadata": {},
     "output_type": "execute_result"
    }
   ],
   "source": [
    "df = df.filter(~((pl.col(\"Quantity\") < 0) | (pl.col(\"UnitPrice\") < 0)))\n",
    "df\n"
   ]
  },
  {
   "cell_type": "markdown",
   "metadata": {},
   "source": [
    "Es el turno de la fecha de facturacion, vamos a transformar la columna a tipo date"
   ]
  },
  {
   "cell_type": "code",
   "execution_count": 9,
   "metadata": {},
   "outputs": [
    {
     "data": {
      "text/html": [
       "<div><style>\n",
       ".dataframe > thead > tr,\n",
       ".dataframe > tbody > tr {\n",
       "  text-align: right;\n",
       "  white-space: pre-wrap;\n",
       "}\n",
       "</style>\n",
       "<small>shape: (525_460, 8)</small><table border=\"1\" class=\"dataframe\"><thead><tr><th>InvoiceNo</th><th>StockCode</th><th>Description</th><th>Quantity</th><th>InvoiceDate</th><th>UnitPrice</th><th>CustomerID</th><th>Country</th></tr><tr><td>str</td><td>str</td><td>str</td><td>i64</td><td>date</td><td>f64</td><td>i64</td><td>str</td></tr></thead><tbody><tr><td>&quot;539631&quot;</td><td>&quot;22436&quot;</td><td>&quot;12 COLOURED PARTY BALLOONS&quot;</td><td>1</td><td>2010-12-20</td><td>1.28</td><td>null</td><td>&quot;United Kingdom&quot;</td></tr><tr><td>&quot;571430&quot;</td><td>&quot;22617&quot;</td><td>&quot;BAKING SET SPACEBOY DESIGN&quot;</td><td>24</td><td>2011-10-17</td><td>4.25</td><td>13090</td><td>&quot;United Kingdom&quot;</td></tr><tr><td>&quot;563174&quot;</td><td>&quot;22383&quot;</td><td>&quot;LUNCH BAG SUKI DESIGN &quot;</td><td>10</td><td>2011-08-12</td><td>1.65</td><td>16746</td><td>&quot;United Kingdom&quot;</td></tr><tr><td>&quot;567545&quot;</td><td>&quot;23232&quot;</td><td>&quot;WRAP VINTAGE LEAF DESIGN&quot;</td><td>25</td><td>2011-09-21</td><td>0.42</td><td>13155</td><td>&quot;United Kingdom&quot;</td></tr><tr><td>&quot;536592&quot;</td><td>&quot;21809&quot;</td><td>&quot;CHRISTMAS HANGING TREE WITH BE…</td><td>1</td><td>2010-12-01</td><td>2.51</td><td>null</td><td>&quot;United Kingdom&quot;</td></tr><tr><td>&hellip;</td><td>&hellip;</td><td>&hellip;</td><td>&hellip;</td><td>&hellip;</td><td>&hellip;</td><td>&hellip;</td><td>&hellip;</td></tr><tr><td>&quot;566452&quot;</td><td>&quot;23157&quot;</td><td>&quot;SET OF 6 NATIVITY MAGNETS &quot;</td><td>1</td><td>2011-09-12</td><td>2.08</td><td>14901</td><td>&quot;United Kingdom&quot;</td></tr><tr><td>&quot;561113&quot;</td><td>&quot;15056BL&quot;</td><td>&quot;EDWARDIAN PARASOL BLACK&quot;</td><td>1</td><td>2011-07-25</td><td>5.95</td><td>17841</td><td>&quot;United Kingdom&quot;</td></tr><tr><td>&quot;553074&quot;</td><td>&quot;21080&quot;</td><td>&quot;SET/20 RED RETROSPOT PAPER NAP…</td><td>2</td><td>2011-05-13</td><td>0.85</td><td>15529</td><td>&quot;United Kingdom&quot;</td></tr><tr><td>&quot;575303&quot;</td><td>&quot;20751&quot;</td><td>&quot;FUNKY WASHING UP GLOVES ASSORT…</td><td>1</td><td>2011-11-09</td><td>2.1</td><td>12893</td><td>&quot;United Kingdom&quot;</td></tr><tr><td>&quot;572090&quot;</td><td>&quot;23395&quot;</td><td>&quot;BELLE JARDINIERE CUSHION COVER&quot;</td><td>1</td><td>2011-10-20</td><td>3.75</td><td>13573</td><td>&quot;United Kingdom&quot;</td></tr></tbody></table></div>"
      ],
      "text/plain": [
       "shape: (525_460, 8)\n",
       "┌───────────┬───────────┬──────────────┬──────────┬─────────────┬───────────┬────────────┬─────────┐\n",
       "│ InvoiceNo ┆ StockCode ┆ Description  ┆ Quantity ┆ InvoiceDate ┆ UnitPrice ┆ CustomerID ┆ Country │\n",
       "│ ---       ┆ ---       ┆ ---          ┆ ---      ┆ ---         ┆ ---       ┆ ---        ┆ ---     │\n",
       "│ str       ┆ str       ┆ str          ┆ i64      ┆ date        ┆ f64       ┆ i64        ┆ str     │\n",
       "╞═══════════╪═══════════╪══════════════╪══════════╪═════════════╪═══════════╪════════════╪═════════╡\n",
       "│ 539631    ┆ 22436     ┆ 12 COLOURED  ┆ 1        ┆ 2010-12-20  ┆ 1.28      ┆ null       ┆ United  │\n",
       "│           ┆           ┆ PARTY        ┆          ┆             ┆           ┆            ┆ Kingdom │\n",
       "│           ┆           ┆ BALLOONS     ┆          ┆             ┆           ┆            ┆         │\n",
       "│ 571430    ┆ 22617     ┆ BAKING SET   ┆ 24       ┆ 2011-10-17  ┆ 4.25      ┆ 13090      ┆ United  │\n",
       "│           ┆           ┆ SPACEBOY     ┆          ┆             ┆           ┆            ┆ Kingdom │\n",
       "│           ┆           ┆ DESIGN       ┆          ┆             ┆           ┆            ┆         │\n",
       "│ 563174    ┆ 22383     ┆ LUNCH BAG    ┆ 10       ┆ 2011-08-12  ┆ 1.65      ┆ 16746      ┆ United  │\n",
       "│           ┆           ┆ SUKI DESIGN  ┆          ┆             ┆           ┆            ┆ Kingdom │\n",
       "│ 567545    ┆ 23232     ┆ WRAP VINTAGE ┆ 25       ┆ 2011-09-21  ┆ 0.42      ┆ 13155      ┆ United  │\n",
       "│           ┆           ┆ LEAF DESIGN  ┆          ┆             ┆           ┆            ┆ Kingdom │\n",
       "│ 536592    ┆ 21809     ┆ CHRISTMAS    ┆ 1        ┆ 2010-12-01  ┆ 2.51      ┆ null       ┆ United  │\n",
       "│           ┆           ┆ HANGING TREE ┆          ┆             ┆           ┆            ┆ Kingdom │\n",
       "│           ┆           ┆ WITH BE…     ┆          ┆             ┆           ┆            ┆         │\n",
       "│ …         ┆ …         ┆ …            ┆ …        ┆ …           ┆ …         ┆ …          ┆ …       │\n",
       "│ 566452    ┆ 23157     ┆ SET OF 6     ┆ 1        ┆ 2011-09-12  ┆ 2.08      ┆ 14901      ┆ United  │\n",
       "│           ┆           ┆ NATIVITY     ┆          ┆             ┆           ┆            ┆ Kingdom │\n",
       "│           ┆           ┆ MAGNETS      ┆          ┆             ┆           ┆            ┆         │\n",
       "│ 561113    ┆ 15056BL   ┆ EDWARDIAN    ┆ 1        ┆ 2011-07-25  ┆ 5.95      ┆ 17841      ┆ United  │\n",
       "│           ┆           ┆ PARASOL      ┆          ┆             ┆           ┆            ┆ Kingdom │\n",
       "│           ┆           ┆ BLACK        ┆          ┆             ┆           ┆            ┆         │\n",
       "│ 553074    ┆ 21080     ┆ SET/20 RED   ┆ 2        ┆ 2011-05-13  ┆ 0.85      ┆ 15529      ┆ United  │\n",
       "│           ┆           ┆ RETROSPOT    ┆          ┆             ┆           ┆            ┆ Kingdom │\n",
       "│           ┆           ┆ PAPER NAP…   ┆          ┆             ┆           ┆            ┆         │\n",
       "│ 575303    ┆ 20751     ┆ FUNKY        ┆ 1        ┆ 2011-11-09  ┆ 2.1       ┆ 12893      ┆ United  │\n",
       "│           ┆           ┆ WASHING UP   ┆          ┆             ┆           ┆            ┆ Kingdom │\n",
       "│           ┆           ┆ GLOVES       ┆          ┆             ┆           ┆            ┆         │\n",
       "│           ┆           ┆ ASSORT…      ┆          ┆             ┆           ┆            ┆         │\n",
       "│ 572090    ┆ 23395     ┆ BELLE        ┆ 1        ┆ 2011-10-20  ┆ 3.75      ┆ 13573      ┆ United  │\n",
       "│           ┆           ┆ JARDINIERE   ┆          ┆             ┆           ┆            ┆ Kingdom │\n",
       "│           ┆           ┆ CUSHION      ┆          ┆             ┆           ┆            ┆         │\n",
       "│           ┆           ┆ COVER        ┆          ┆             ┆           ┆            ┆         │\n",
       "└───────────┴───────────┴──────────────┴──────────┴─────────────┴───────────┴────────────┴─────────┘"
      ]
     },
     "execution_count": 9,
     "metadata": {},
     "output_type": "execute_result"
    }
   ],
   "source": [
    "df = df.with_columns(pl.col(\"InvoiceDate\").str.strptime(pl.Date, \"%m/%d/%Y %H:%M\"))\n",
    "df\n"
   ]
  },
  {
   "cell_type": "markdown",
   "metadata": {},
   "source": [
    "Lo siguiente sera buscar outliers"
   ]
  },
  {
   "cell_type": "code",
   "execution_count": 10,
   "metadata": {},
   "outputs": [
    {
     "data": {
      "text/html": [
       "<div><style>\n",
       ".dataframe > thead > tr,\n",
       ".dataframe > tbody > tr {\n",
       "  text-align: right;\n",
       "  white-space: pre-wrap;\n",
       "}\n",
       "</style>\n",
       "<small>shape: (9, 9)</small><table border=\"1\" class=\"dataframe\"><thead><tr><th>statistic</th><th>InvoiceNo</th><th>StockCode</th><th>Description</th><th>Quantity</th><th>InvoiceDate</th><th>UnitPrice</th><th>CustomerID</th><th>Country</th></tr><tr><td>str</td><td>str</td><td>str</td><td>str</td><td>f64</td><td>str</td><td>f64</td><td>f64</td><td>str</td></tr></thead><tbody><tr><td>&quot;count&quot;</td><td>&quot;525460&quot;</td><td>&quot;525460&quot;</td><td>&quot;525460&quot;</td><td>525460.0</td><td>&quot;525460&quot;</td><td>525460.0</td><td>392732.0</td><td>&quot;525460&quot;</td></tr><tr><td>&quot;null_count&quot;</td><td>&quot;0&quot;</td><td>&quot;0&quot;</td><td>&quot;0&quot;</td><td>0.0</td><td>&quot;0&quot;</td><td>0.0</td><td>132728.0</td><td>&quot;0&quot;</td></tr><tr><td>&quot;mean&quot;</td><td>null</td><td>null</td><td>null</td><td>10.68106</td><td>&quot;2011-07-04 00:41:45.379000&quot;</td><td>3.918228</td><td>15287.734822</td><td>null</td></tr><tr><td>&quot;std&quot;</td><td>null</td><td>null</td><td>null</td><td>157.39957</td><td>null</td><td>36.07327</td><td>1713.567773</td><td>null</td></tr><tr><td>&quot;min&quot;</td><td>&quot;536365&quot;</td><td>&quot;10002&quot;</td><td>&quot; 4 PURPLE FLOCK DINNER CANDLES&quot;</td><td>1.0</td><td>&quot;2010-12-01&quot;</td><td>0.0</td><td>12346.0</td><td>&quot;Australia&quot;</td></tr><tr><td>&quot;25%&quot;</td><td>null</td><td>null</td><td>null</td><td>1.0</td><td>&quot;2011-03-28&quot;</td><td>1.25</td><td>13955.0</td><td>null</td></tr><tr><td>&quot;50%&quot;</td><td>null</td><td>null</td><td>null</td><td>4.0</td><td>&quot;2011-07-20&quot;</td><td>2.08</td><td>15150.0</td><td>null</td></tr><tr><td>&quot;75%&quot;</td><td>null</td><td>null</td><td>null</td><td>11.0</td><td>&quot;2011-10-19&quot;</td><td>4.13</td><td>16791.0</td><td>null</td></tr><tr><td>&quot;max&quot;</td><td>&quot;A563185&quot;</td><td>&quot;m&quot;</td><td>&quot;wrongly sold (22719) barcode&quot;</td><td>80995.0</td><td>&quot;2011-12-09&quot;</td><td>13541.33</td><td>18287.0</td><td>&quot;Unspecified&quot;</td></tr></tbody></table></div>"
      ],
      "text/plain": [
       "shape: (9, 9)\n",
       "┌───────────┬───────────┬───────────┬───────────┬───┬───────────┬───────────┬───────────┬──────────┐\n",
       "│ statistic ┆ InvoiceNo ┆ StockCode ┆ Descripti ┆ … ┆ InvoiceDa ┆ UnitPrice ┆ CustomerI ┆ Country  │\n",
       "│ ---       ┆ ---       ┆ ---       ┆ on        ┆   ┆ te        ┆ ---       ┆ D         ┆ ---      │\n",
       "│ str       ┆ str       ┆ str       ┆ ---       ┆   ┆ ---       ┆ f64       ┆ ---       ┆ str      │\n",
       "│           ┆           ┆           ┆ str       ┆   ┆ str       ┆           ┆ f64       ┆          │\n",
       "╞═══════════╪═══════════╪═══════════╪═══════════╪═══╪═══════════╪═══════════╪═══════════╪══════════╡\n",
       "│ count     ┆ 525460    ┆ 525460    ┆ 525460    ┆ … ┆ 525460    ┆ 525460.0  ┆ 392732.0  ┆ 525460   │\n",
       "│ null_coun ┆ 0         ┆ 0         ┆ 0         ┆ … ┆ 0         ┆ 0.0       ┆ 132728.0  ┆ 0        │\n",
       "│ t         ┆           ┆           ┆           ┆   ┆           ┆           ┆           ┆          │\n",
       "│ mean      ┆ null      ┆ null      ┆ null      ┆ … ┆ 2011-07-0 ┆ 3.918228  ┆ 15287.734 ┆ null     │\n",
       "│           ┆           ┆           ┆           ┆   ┆ 4 00:41:4 ┆           ┆ 822       ┆          │\n",
       "│           ┆           ┆           ┆           ┆   ┆ 5.379000  ┆           ┆           ┆          │\n",
       "│ std       ┆ null      ┆ null      ┆ null      ┆ … ┆ null      ┆ 36.07327  ┆ 1713.5677 ┆ null     │\n",
       "│           ┆           ┆           ┆           ┆   ┆           ┆           ┆ 73        ┆          │\n",
       "│ min       ┆ 536365    ┆ 10002     ┆ 4 PURPLE  ┆ … ┆ 2010-12-0 ┆ 0.0       ┆ 12346.0   ┆ Australi │\n",
       "│           ┆           ┆           ┆ FLOCK     ┆   ┆ 1         ┆           ┆           ┆ a        │\n",
       "│           ┆           ┆           ┆ DINNER    ┆   ┆           ┆           ┆           ┆          │\n",
       "│           ┆           ┆           ┆ CANDLES   ┆   ┆           ┆           ┆           ┆          │\n",
       "│ 25%       ┆ null      ┆ null      ┆ null      ┆ … ┆ 2011-03-2 ┆ 1.25      ┆ 13955.0   ┆ null     │\n",
       "│           ┆           ┆           ┆           ┆   ┆ 8         ┆           ┆           ┆          │\n",
       "│ 50%       ┆ null      ┆ null      ┆ null      ┆ … ┆ 2011-07-2 ┆ 2.08      ┆ 15150.0   ┆ null     │\n",
       "│           ┆           ┆           ┆           ┆   ┆ 0         ┆           ┆           ┆          │\n",
       "│ 75%       ┆ null      ┆ null      ┆ null      ┆ … ┆ 2011-10-1 ┆ 4.13      ┆ 16791.0   ┆ null     │\n",
       "│           ┆           ┆           ┆           ┆   ┆ 9         ┆           ┆           ┆          │\n",
       "│ max       ┆ A563185   ┆ m         ┆ wrongly   ┆ … ┆ 2011-12-0 ┆ 13541.33  ┆ 18287.0   ┆ Unspecif │\n",
       "│           ┆           ┆           ┆ sold      ┆   ┆ 9         ┆           ┆           ┆ ied      │\n",
       "│           ┆           ┆           ┆ (22719)   ┆   ┆           ┆           ┆           ┆          │\n",
       "│           ┆           ┆           ┆ barcode   ┆   ┆           ┆           ┆           ┆          │\n",
       "└───────────┴───────────┴───────────┴───────────┴───┴───────────┴───────────┴───────────┴──────────┘"
      ]
     },
     "execution_count": 10,
     "metadata": {},
     "output_type": "execute_result"
    }
   ],
   "source": [
    "df.describe()\n"
   ]
  },
  {
   "cell_type": "markdown",
   "metadata": {},
   "source": [
    "Encontramos cosas un poco raras:\n",
    "\n",
    "El valor minimo de precio por unidad no puede ser 0, aunque puedan ser regalos que se hacen al comprar ciertos articulos es algo excepcional y necesitamos calcular las ventas por dia lo mas normalizadas posibles.\n",
    "filtraremos por un minimo de .1"
   ]
  },
  {
   "cell_type": "code",
   "execution_count": 11,
   "metadata": {},
   "outputs": [
    {
     "data": {
      "text/html": [
       "<div><style>\n",
       ".dataframe > thead > tr,\n",
       ".dataframe > tbody > tr {\n",
       "  text-align: right;\n",
       "  white-space: pre-wrap;\n",
       "}\n",
       "</style>\n",
       "<small>shape: (829, 8)</small><table border=\"1\" class=\"dataframe\"><thead><tr><th>InvoiceNo</th><th>StockCode</th><th>Description</th><th>Quantity</th><th>InvoiceDate</th><th>UnitPrice</th><th>CustomerID</th><th>Country</th></tr><tr><td>str</td><td>str</td><td>str</td><td>i64</td><td>date</td><td>f64</td><td>i64</td><td>str</td></tr></thead><tbody><tr><td>&quot;574025&quot;</td><td>&quot;16218&quot;</td><td>&quot;CARTOON&nbsp;&nbsp;PENCIL SHARPENERS&quot;</td><td>160</td><td>2011-11-02</td><td>0.06</td><td>12748</td><td>&quot;United Kingdom&quot;</td></tr><tr><td>&quot;560358&quot;</td><td>&quot;35965&quot;</td><td>&quot;dotcom&quot;</td><td>26</td><td>2011-07-18</td><td>0.0</td><td>null</td><td>&quot;United Kingdom&quot;</td></tr><tr><td>&quot;545176&quot;</td><td>&quot;85099F&quot;</td><td>&quot;JUMBO BAG STRAWBERRY&quot;</td><td>1</td><td>2011-02-28</td><td>0.0</td><td>null</td><td>&quot;United Kingdom&quot;</td></tr><tr><td>&quot;537534&quot;</td><td>&quot;22360&quot;</td><td>&quot;GLASS JAR ENGLISH CONFECTIONER…</td><td>1</td><td>2010-12-07</td><td>0.0</td><td>null</td><td>&quot;United Kingdom&quot;</td></tr><tr><td>&quot;545176&quot;</td><td>&quot;22683&quot;</td><td>&quot;FRENCH BLUE METAL DOOR SIGN 8&quot;</td><td>1</td><td>2011-02-28</td><td>0.0</td><td>null</td><td>&quot;United Kingdom&quot;</td></tr><tr><td>&hellip;</td><td>&hellip;</td><td>&hellip;</td><td>&hellip;</td><td>&hellip;</td><td>&hellip;</td><td>&hellip;</td><td>&hellip;</td></tr><tr><td>&quot;579001&quot;</td><td>&quot;16218&quot;</td><td>&quot;CARTOON&nbsp;&nbsp;PENCIL SHARPENERS&quot;</td><td>5</td><td>2011-11-27</td><td>0.06</td><td>15555</td><td>&quot;United Kingdom&quot;</td></tr><tr><td>&quot;576109&quot;</td><td>&quot;21181&quot;</td><td>&quot;adjustment&quot;</td><td>180</td><td>2011-11-14</td><td>0.0</td><td>null</td><td>&quot;United Kingdom&quot;</td></tr><tr><td>&quot;537618&quot;</td><td>&quot;17038&quot;</td><td>&quot;PORCELAIN BUDAH INCENSE HOLDER&quot;</td><td>100</td><td>2010-12-07</td><td>0.07</td><td>15061</td><td>&quot;United Kingdom&quot;</td></tr><tr><td>&quot;539856&quot;</td><td>&quot;22680&quot;</td><td>&quot;FRENCH BLUE METAL DOOR SIGN 5&quot;</td><td>1</td><td>2010-12-22</td><td>0.0</td><td>null</td><td>&quot;United Kingdom&quot;</td></tr><tr><td>&quot;553539&quot;</td><td>&quot;22515&quot;</td><td>&quot;CHILDS GARDEN SPADE PINK&quot;</td><td>2</td><td>2011-05-17</td><td>0.0</td><td>null</td><td>&quot;United Kingdom&quot;</td></tr></tbody></table></div>"
      ],
      "text/plain": [
       "shape: (829, 8)\n",
       "┌───────────┬───────────┬──────────────┬──────────┬─────────────┬───────────┬────────────┬─────────┐\n",
       "│ InvoiceNo ┆ StockCode ┆ Description  ┆ Quantity ┆ InvoiceDate ┆ UnitPrice ┆ CustomerID ┆ Country │\n",
       "│ ---       ┆ ---       ┆ ---          ┆ ---      ┆ ---         ┆ ---       ┆ ---        ┆ ---     │\n",
       "│ str       ┆ str       ┆ str          ┆ i64      ┆ date        ┆ f64       ┆ i64        ┆ str     │\n",
       "╞═══════════╪═══════════╪══════════════╪══════════╪═════════════╪═══════════╪════════════╪═════════╡\n",
       "│ 574025    ┆ 16218     ┆ CARTOON      ┆ 160      ┆ 2011-11-02  ┆ 0.06      ┆ 12748      ┆ United  │\n",
       "│           ┆           ┆ PENCIL       ┆          ┆             ┆           ┆            ┆ Kingdom │\n",
       "│           ┆           ┆ SHARPENERS   ┆          ┆             ┆           ┆            ┆         │\n",
       "│ 560358    ┆ 35965     ┆ dotcom       ┆ 26       ┆ 2011-07-18  ┆ 0.0       ┆ null       ┆ United  │\n",
       "│           ┆           ┆              ┆          ┆             ┆           ┆            ┆ Kingdom │\n",
       "│ 545176    ┆ 85099F    ┆ JUMBO BAG    ┆ 1        ┆ 2011-02-28  ┆ 0.0       ┆ null       ┆ United  │\n",
       "│           ┆           ┆ STRAWBERRY   ┆          ┆             ┆           ┆            ┆ Kingdom │\n",
       "│ 537534    ┆ 22360     ┆ GLASS JAR    ┆ 1        ┆ 2010-12-07  ┆ 0.0       ┆ null       ┆ United  │\n",
       "│           ┆           ┆ ENGLISH CONF ┆          ┆             ┆           ┆            ┆ Kingdom │\n",
       "│           ┆           ┆ ECTIONER…    ┆          ┆             ┆           ┆            ┆         │\n",
       "│ 545176    ┆ 22683     ┆ FRENCH BLUE  ┆ 1        ┆ 2011-02-28  ┆ 0.0       ┆ null       ┆ United  │\n",
       "│           ┆           ┆ METAL DOOR   ┆          ┆             ┆           ┆            ┆ Kingdom │\n",
       "│           ┆           ┆ SIGN 8       ┆          ┆             ┆           ┆            ┆         │\n",
       "│ …         ┆ …         ┆ …            ┆ …        ┆ …           ┆ …         ┆ …          ┆ …       │\n",
       "│ 579001    ┆ 16218     ┆ CARTOON      ┆ 5        ┆ 2011-11-27  ┆ 0.06      ┆ 15555      ┆ United  │\n",
       "│           ┆           ┆ PENCIL       ┆          ┆             ┆           ┆            ┆ Kingdom │\n",
       "│           ┆           ┆ SHARPENERS   ┆          ┆             ┆           ┆            ┆         │\n",
       "│ 576109    ┆ 21181     ┆ adjustment   ┆ 180      ┆ 2011-11-14  ┆ 0.0       ┆ null       ┆ United  │\n",
       "│           ┆           ┆              ┆          ┆             ┆           ┆            ┆ Kingdom │\n",
       "│ 537618    ┆ 17038     ┆ PORCELAIN    ┆ 100      ┆ 2010-12-07  ┆ 0.07      ┆ 15061      ┆ United  │\n",
       "│           ┆           ┆ BUDAH        ┆          ┆             ┆           ┆            ┆ Kingdom │\n",
       "│           ┆           ┆ INCENSE      ┆          ┆             ┆           ┆            ┆         │\n",
       "│           ┆           ┆ HOLDER       ┆          ┆             ┆           ┆            ┆         │\n",
       "│ 539856    ┆ 22680     ┆ FRENCH BLUE  ┆ 1        ┆ 2010-12-22  ┆ 0.0       ┆ null       ┆ United  │\n",
       "│           ┆           ┆ METAL DOOR   ┆          ┆             ┆           ┆            ┆ Kingdom │\n",
       "│           ┆           ┆ SIGN 5       ┆          ┆             ┆           ┆            ┆         │\n",
       "│ 553539    ┆ 22515     ┆ CHILDS       ┆ 2        ┆ 2011-05-17  ┆ 0.0       ┆ null       ┆ United  │\n",
       "│           ┆           ┆ GARDEN SPADE ┆          ┆             ┆           ┆            ┆ Kingdom │\n",
       "│           ┆           ┆ PINK         ┆          ┆             ┆           ┆            ┆         │\n",
       "└───────────┴───────────┴──────────────┴──────────┴─────────────┴───────────┴────────────┴─────────┘"
      ]
     },
     "execution_count": 11,
     "metadata": {},
     "output_type": "execute_result"
    }
   ],
   "source": [
    "df.filter(pl.col(\"UnitPrice\") < .1)\n"
   ]
  },
  {
   "cell_type": "markdown",
   "metadata": {},
   "source": [
    "Tenemos 40 casos que tenemos que eliminar "
   ]
  },
  {
   "cell_type": "code",
   "execution_count": 12,
   "metadata": {},
   "outputs": [
    {
     "data": {
      "text/html": [
       "<div><style>\n",
       ".dataframe > thead > tr,\n",
       ".dataframe > tbody > tr {\n",
       "  text-align: right;\n",
       "  white-space: pre-wrap;\n",
       "}\n",
       "</style>\n",
       "<small>shape: (524_578, 8)</small><table border=\"1\" class=\"dataframe\"><thead><tr><th>InvoiceNo</th><th>StockCode</th><th>Description</th><th>Quantity</th><th>InvoiceDate</th><th>UnitPrice</th><th>CustomerID</th><th>Country</th></tr><tr><td>str</td><td>str</td><td>str</td><td>i64</td><td>date</td><td>f64</td><td>i64</td><td>str</td></tr></thead><tbody><tr><td>&quot;539631&quot;</td><td>&quot;22436&quot;</td><td>&quot;12 COLOURED PARTY BALLOONS&quot;</td><td>1</td><td>2010-12-20</td><td>1.28</td><td>null</td><td>&quot;United Kingdom&quot;</td></tr><tr><td>&quot;571430&quot;</td><td>&quot;22617&quot;</td><td>&quot;BAKING SET SPACEBOY DESIGN&quot;</td><td>24</td><td>2011-10-17</td><td>4.25</td><td>13090</td><td>&quot;United Kingdom&quot;</td></tr><tr><td>&quot;563174&quot;</td><td>&quot;22383&quot;</td><td>&quot;LUNCH BAG SUKI DESIGN &quot;</td><td>10</td><td>2011-08-12</td><td>1.65</td><td>16746</td><td>&quot;United Kingdom&quot;</td></tr><tr><td>&quot;567545&quot;</td><td>&quot;23232&quot;</td><td>&quot;WRAP VINTAGE LEAF DESIGN&quot;</td><td>25</td><td>2011-09-21</td><td>0.42</td><td>13155</td><td>&quot;United Kingdom&quot;</td></tr><tr><td>&quot;536592&quot;</td><td>&quot;21809&quot;</td><td>&quot;CHRISTMAS HANGING TREE WITH BE…</td><td>1</td><td>2010-12-01</td><td>2.51</td><td>null</td><td>&quot;United Kingdom&quot;</td></tr><tr><td>&hellip;</td><td>&hellip;</td><td>&hellip;</td><td>&hellip;</td><td>&hellip;</td><td>&hellip;</td><td>&hellip;</td><td>&hellip;</td></tr><tr><td>&quot;566452&quot;</td><td>&quot;23157&quot;</td><td>&quot;SET OF 6 NATIVITY MAGNETS &quot;</td><td>1</td><td>2011-09-12</td><td>2.08</td><td>14901</td><td>&quot;United Kingdom&quot;</td></tr><tr><td>&quot;561113&quot;</td><td>&quot;15056BL&quot;</td><td>&quot;EDWARDIAN PARASOL BLACK&quot;</td><td>1</td><td>2011-07-25</td><td>5.95</td><td>17841</td><td>&quot;United Kingdom&quot;</td></tr><tr><td>&quot;553074&quot;</td><td>&quot;21080&quot;</td><td>&quot;SET/20 RED RETROSPOT PAPER NAP…</td><td>2</td><td>2011-05-13</td><td>0.85</td><td>15529</td><td>&quot;United Kingdom&quot;</td></tr><tr><td>&quot;575303&quot;</td><td>&quot;20751&quot;</td><td>&quot;FUNKY WASHING UP GLOVES ASSORT…</td><td>1</td><td>2011-11-09</td><td>2.1</td><td>12893</td><td>&quot;United Kingdom&quot;</td></tr><tr><td>&quot;572090&quot;</td><td>&quot;23395&quot;</td><td>&quot;BELLE JARDINIERE CUSHION COVER&quot;</td><td>1</td><td>2011-10-20</td><td>3.75</td><td>13573</td><td>&quot;United Kingdom&quot;</td></tr></tbody></table></div>"
      ],
      "text/plain": [
       "shape: (524_578, 8)\n",
       "┌───────────┬───────────┬──────────────┬──────────┬─────────────┬───────────┬────────────┬─────────┐\n",
       "│ InvoiceNo ┆ StockCode ┆ Description  ┆ Quantity ┆ InvoiceDate ┆ UnitPrice ┆ CustomerID ┆ Country │\n",
       "│ ---       ┆ ---       ┆ ---          ┆ ---      ┆ ---         ┆ ---       ┆ ---        ┆ ---     │\n",
       "│ str       ┆ str       ┆ str          ┆ i64      ┆ date        ┆ f64       ┆ i64        ┆ str     │\n",
       "╞═══════════╪═══════════╪══════════════╪══════════╪═════════════╪═══════════╪════════════╪═════════╡\n",
       "│ 539631    ┆ 22436     ┆ 12 COLOURED  ┆ 1        ┆ 2010-12-20  ┆ 1.28      ┆ null       ┆ United  │\n",
       "│           ┆           ┆ PARTY        ┆          ┆             ┆           ┆            ┆ Kingdom │\n",
       "│           ┆           ┆ BALLOONS     ┆          ┆             ┆           ┆            ┆         │\n",
       "│ 571430    ┆ 22617     ┆ BAKING SET   ┆ 24       ┆ 2011-10-17  ┆ 4.25      ┆ 13090      ┆ United  │\n",
       "│           ┆           ┆ SPACEBOY     ┆          ┆             ┆           ┆            ┆ Kingdom │\n",
       "│           ┆           ┆ DESIGN       ┆          ┆             ┆           ┆            ┆         │\n",
       "│ 563174    ┆ 22383     ┆ LUNCH BAG    ┆ 10       ┆ 2011-08-12  ┆ 1.65      ┆ 16746      ┆ United  │\n",
       "│           ┆           ┆ SUKI DESIGN  ┆          ┆             ┆           ┆            ┆ Kingdom │\n",
       "│ 567545    ┆ 23232     ┆ WRAP VINTAGE ┆ 25       ┆ 2011-09-21  ┆ 0.42      ┆ 13155      ┆ United  │\n",
       "│           ┆           ┆ LEAF DESIGN  ┆          ┆             ┆           ┆            ┆ Kingdom │\n",
       "│ 536592    ┆ 21809     ┆ CHRISTMAS    ┆ 1        ┆ 2010-12-01  ┆ 2.51      ┆ null       ┆ United  │\n",
       "│           ┆           ┆ HANGING TREE ┆          ┆             ┆           ┆            ┆ Kingdom │\n",
       "│           ┆           ┆ WITH BE…     ┆          ┆             ┆           ┆            ┆         │\n",
       "│ …         ┆ …         ┆ …            ┆ …        ┆ …           ┆ …         ┆ …          ┆ …       │\n",
       "│ 566452    ┆ 23157     ┆ SET OF 6     ┆ 1        ┆ 2011-09-12  ┆ 2.08      ┆ 14901      ┆ United  │\n",
       "│           ┆           ┆ NATIVITY     ┆          ┆             ┆           ┆            ┆ Kingdom │\n",
       "│           ┆           ┆ MAGNETS      ┆          ┆             ┆           ┆            ┆         │\n",
       "│ 561113    ┆ 15056BL   ┆ EDWARDIAN    ┆ 1        ┆ 2011-07-25  ┆ 5.95      ┆ 17841      ┆ United  │\n",
       "│           ┆           ┆ PARASOL      ┆          ┆             ┆           ┆            ┆ Kingdom │\n",
       "│           ┆           ┆ BLACK        ┆          ┆             ┆           ┆            ┆         │\n",
       "│ 553074    ┆ 21080     ┆ SET/20 RED   ┆ 2        ┆ 2011-05-13  ┆ 0.85      ┆ 15529      ┆ United  │\n",
       "│           ┆           ┆ RETROSPOT    ┆          ┆             ┆           ┆            ┆ Kingdom │\n",
       "│           ┆           ┆ PAPER NAP…   ┆          ┆             ┆           ┆            ┆         │\n",
       "│ 575303    ┆ 20751     ┆ FUNKY        ┆ 1        ┆ 2011-11-09  ┆ 2.1       ┆ 12893      ┆ United  │\n",
       "│           ┆           ┆ WASHING UP   ┆          ┆             ┆           ┆            ┆ Kingdom │\n",
       "│           ┆           ┆ GLOVES       ┆          ┆             ┆           ┆            ┆         │\n",
       "│           ┆           ┆ ASSORT…      ┆          ┆             ┆           ┆            ┆         │\n",
       "│ 572090    ┆ 23395     ┆ BELLE        ┆ 1        ┆ 2011-10-20  ┆ 3.75      ┆ 13573      ┆ United  │\n",
       "│           ┆           ┆ JARDINIERE   ┆          ┆             ┆           ┆            ┆ Kingdom │\n",
       "│           ┆           ┆ CUSHION      ┆          ┆             ┆           ┆            ┆         │\n",
       "│           ┆           ┆ COVER        ┆          ┆             ┆           ┆            ┆         │\n",
       "└───────────┴───────────┴──────────────┴──────────┴─────────────┴───────────┴────────────┴─────────┘"
      ]
     },
     "execution_count": 12,
     "metadata": {},
     "output_type": "execute_result"
    }
   ],
   "source": [
    "df = df.filter(pl.col(\"UnitPrice\") > .1)\n",
    "df\n"
   ]
  },
  {
   "cell_type": "markdown",
   "metadata": {},
   "source": [
    "Siguiendo con las cosas un poco raras que habiamos detectado, en la parte de country habiamos visto un \"unspecified\""
   ]
  },
  {
   "cell_type": "code",
   "execution_count": 13,
   "metadata": {},
   "outputs": [
    {
     "data": {
      "text/html": [
       "<div><style>\n",
       ".dataframe > thead > tr,\n",
       ".dataframe > tbody > tr {\n",
       "  text-align: right;\n",
       "  white-space: pre-wrap;\n",
       "}\n",
       "</style>\n",
       "<small>shape: (442, 8)</small><table border=\"1\" class=\"dataframe\"><thead><tr><th>InvoiceNo</th><th>StockCode</th><th>Description</th><th>Quantity</th><th>InvoiceDate</th><th>UnitPrice</th><th>CustomerID</th><th>Country</th></tr><tr><td>str</td><td>str</td><td>str</td><td>i64</td><td>date</td><td>f64</td><td>i64</td><td>str</td></tr></thead><tbody><tr><td>&quot;576646&quot;</td><td>&quot;22554&quot;</td><td>&quot;PLASTERS IN TIN WOODLAND ANIMA…</td><td>12</td><td>2011-11-16</td><td>1.65</td><td>null</td><td>&quot;Unspecified&quot;</td></tr><tr><td>&quot;559521&quot;</td><td>&quot;22437&quot;</td><td>&quot;SET OF 9 BLACK SKULL BALLOONS&quot;</td><td>2</td><td>2011-07-08</td><td>0.85</td><td>null</td><td>&quot;Unspecified&quot;</td></tr><tr><td>&quot;565303&quot;</td><td>&quot;23254&quot;</td><td>&quot;CHILDRENS CUTLERY DOLLY GIRL &quot;</td><td>2</td><td>2011-09-02</td><td>4.15</td><td>null</td><td>&quot;Unspecified&quot;</td></tr><tr><td>&quot;559521&quot;</td><td>&quot;23256&quot;</td><td>&quot;CHILDRENS CUTLERY SPACEBOY &quot;</td><td>5</td><td>2011-07-08</td><td>4.15</td><td>null</td><td>&quot;Unspecified&quot;</td></tr><tr><td>&quot;553857&quot;</td><td>&quot;47590B&quot;</td><td>&quot;PINK HAPPY BIRTHDAY BUNTING&quot;</td><td>3</td><td>2011-05-19</td><td>5.45</td><td>null</td><td>&quot;Unspecified&quot;</td></tr><tr><td>&hellip;</td><td>&hellip;</td><td>&hellip;</td><td>&hellip;</td><td>&hellip;</td><td>&hellip;</td><td>&hellip;</td><td>&hellip;</td></tr><tr><td>&quot;559521&quot;</td><td>&quot;20982&quot;</td><td>&quot;12 PENCILS TALL TUBE SKULLS&quot;</td><td>7</td><td>2011-07-08</td><td>0.85</td><td>null</td><td>&quot;Unspecified&quot;</td></tr><tr><td>&quot;565303&quot;</td><td>&quot;22748&quot;</td><td>&quot;POPPY&#x27;S PLAYHOUSE KITCHEN&quot;</td><td>1</td><td>2011-09-02</td><td>2.1</td><td>null</td><td>&quot;Unspecified&quot;</td></tr><tr><td>&quot;561658&quot;</td><td>&quot;85212&quot;</td><td>&quot;MINI PAINTED GARDEN DECORATION…</td><td>12</td><td>2011-07-28</td><td>0.29</td><td>12743</td><td>&quot;Unspecified&quot;</td></tr><tr><td>&quot;561658&quot;</td><td>&quot;22752&quot;</td><td>&quot;SET 7 BABUSHKA NESTING BOXES&quot;</td><td>1</td><td>2011-07-28</td><td>8.5</td><td>12743</td><td>&quot;Unspecified&quot;</td></tr><tr><td>&quot;559521&quot;</td><td>&quot;22435&quot;</td><td>&quot;SET OF 9 HEART SHAPED BALLOONS&quot;</td><td>2</td><td>2011-07-08</td><td>1.25</td><td>null</td><td>&quot;Unspecified&quot;</td></tr></tbody></table></div>"
      ],
      "text/plain": [
       "shape: (442, 8)\n",
       "┌───────────┬───────────┬────────────┬──────────┬────────────┬───────────┬────────────┬────────────┐\n",
       "│ InvoiceNo ┆ StockCode ┆ Descriptio ┆ Quantity ┆ InvoiceDat ┆ UnitPrice ┆ CustomerID ┆ Country    │\n",
       "│ ---       ┆ ---       ┆ n          ┆ ---      ┆ e          ┆ ---       ┆ ---        ┆ ---        │\n",
       "│ str       ┆ str       ┆ ---        ┆ i64      ┆ ---        ┆ f64       ┆ i64        ┆ str        │\n",
       "│           ┆           ┆ str        ┆          ┆ date       ┆           ┆            ┆            │\n",
       "╞═══════════╪═══════════╪════════════╪══════════╪════════════╪═══════════╪════════════╪════════════╡\n",
       "│ 576646    ┆ 22554     ┆ PLASTERS   ┆ 12       ┆ 2011-11-16 ┆ 1.65      ┆ null       ┆ Unspecifie │\n",
       "│           ┆           ┆ IN TIN     ┆          ┆            ┆           ┆            ┆ d          │\n",
       "│           ┆           ┆ WOODLAND   ┆          ┆            ┆           ┆            ┆            │\n",
       "│           ┆           ┆ ANIMA…     ┆          ┆            ┆           ┆            ┆            │\n",
       "│ 559521    ┆ 22437     ┆ SET OF 9   ┆ 2        ┆ 2011-07-08 ┆ 0.85      ┆ null       ┆ Unspecifie │\n",
       "│           ┆           ┆ BLACK      ┆          ┆            ┆           ┆            ┆ d          │\n",
       "│           ┆           ┆ SKULL      ┆          ┆            ┆           ┆            ┆            │\n",
       "│           ┆           ┆ BALLOONS   ┆          ┆            ┆           ┆            ┆            │\n",
       "│ 565303    ┆ 23254     ┆ CHILDRENS  ┆ 2        ┆ 2011-09-02 ┆ 4.15      ┆ null       ┆ Unspecifie │\n",
       "│           ┆           ┆ CUTLERY    ┆          ┆            ┆           ┆            ┆ d          │\n",
       "│           ┆           ┆ DOLLY GIRL ┆          ┆            ┆           ┆            ┆            │\n",
       "│ 559521    ┆ 23256     ┆ CHILDRENS  ┆ 5        ┆ 2011-07-08 ┆ 4.15      ┆ null       ┆ Unspecifie │\n",
       "│           ┆           ┆ CUTLERY    ┆          ┆            ┆           ┆            ┆ d          │\n",
       "│           ┆           ┆ SPACEBOY   ┆          ┆            ┆           ┆            ┆            │\n",
       "│ 553857    ┆ 47590B    ┆ PINK HAPPY ┆ 3        ┆ 2011-05-19 ┆ 5.45      ┆ null       ┆ Unspecifie │\n",
       "│           ┆           ┆ BIRTHDAY   ┆          ┆            ┆           ┆            ┆ d          │\n",
       "│           ┆           ┆ BUNTING    ┆          ┆            ┆           ┆            ┆            │\n",
       "│ …         ┆ …         ┆ …          ┆ …        ┆ …          ┆ …         ┆ …          ┆ …          │\n",
       "│ 559521    ┆ 20982     ┆ 12 PENCILS ┆ 7        ┆ 2011-07-08 ┆ 0.85      ┆ null       ┆ Unspecifie │\n",
       "│           ┆           ┆ TALL TUBE  ┆          ┆            ┆           ┆            ┆ d          │\n",
       "│           ┆           ┆ SKULLS     ┆          ┆            ┆           ┆            ┆            │\n",
       "│ 565303    ┆ 22748     ┆ POPPY'S    ┆ 1        ┆ 2011-09-02 ┆ 2.1       ┆ null       ┆ Unspecifie │\n",
       "│           ┆           ┆ PLAYHOUSE  ┆          ┆            ┆           ┆            ┆ d          │\n",
       "│           ┆           ┆ KITCHEN    ┆          ┆            ┆           ┆            ┆            │\n",
       "│ 561658    ┆ 85212     ┆ MINI       ┆ 12       ┆ 2011-07-28 ┆ 0.29      ┆ 12743      ┆ Unspecifie │\n",
       "│           ┆           ┆ PAINTED    ┆          ┆            ┆           ┆            ┆ d          │\n",
       "│           ┆           ┆ GARDEN DEC ┆          ┆            ┆           ┆            ┆            │\n",
       "│           ┆           ┆ ORATION…   ┆          ┆            ┆           ┆            ┆            │\n",
       "│ 561658    ┆ 22752     ┆ SET 7      ┆ 1        ┆ 2011-07-28 ┆ 8.5       ┆ 12743      ┆ Unspecifie │\n",
       "│           ┆           ┆ BABUSHKA   ┆          ┆            ┆           ┆            ┆ d          │\n",
       "│           ┆           ┆ NESTING    ┆          ┆            ┆           ┆            ┆            │\n",
       "│           ┆           ┆ BOXES      ┆          ┆            ┆           ┆            ┆            │\n",
       "│ 559521    ┆ 22435     ┆ SET OF 9   ┆ 2        ┆ 2011-07-08 ┆ 1.25      ┆ null       ┆ Unspecifie │\n",
       "│           ┆           ┆ HEART      ┆          ┆            ┆           ┆            ┆ d          │\n",
       "│           ┆           ┆ SHAPED     ┆          ┆            ┆           ┆            ┆            │\n",
       "│           ┆           ┆ BALLOONS   ┆          ┆            ┆           ┆            ┆            │\n",
       "└───────────┴───────────┴────────────┴──────────┴────────────┴───────────┴────────────┴────────────┘"
      ]
     },
     "execution_count": 13,
     "metadata": {},
     "output_type": "execute_result"
    }
   ],
   "source": [
    "df.filter(pl.col(\"Country\") == \"Unspecified\" )\n"
   ]
  },
  {
   "cell_type": "markdown",
   "metadata": {},
   "source": [
    "Como en nuestro caso nos parece util y queremos agrupar las ventas por paises debemos eliminar las filas con \"Unspecified\""
   ]
  },
  {
   "cell_type": "code",
   "execution_count": 14,
   "metadata": {},
   "outputs": [
    {
     "data": {
      "text/html": [
       "<div><style>\n",
       ".dataframe > thead > tr,\n",
       ".dataframe > tbody > tr {\n",
       "  text-align: right;\n",
       "  white-space: pre-wrap;\n",
       "}\n",
       "</style>\n",
       "<small>shape: (524_136, 8)</small><table border=\"1\" class=\"dataframe\"><thead><tr><th>InvoiceNo</th><th>StockCode</th><th>Description</th><th>Quantity</th><th>InvoiceDate</th><th>UnitPrice</th><th>CustomerID</th><th>Country</th></tr><tr><td>str</td><td>str</td><td>str</td><td>i64</td><td>date</td><td>f64</td><td>i64</td><td>str</td></tr></thead><tbody><tr><td>&quot;539631&quot;</td><td>&quot;22436&quot;</td><td>&quot;12 COLOURED PARTY BALLOONS&quot;</td><td>1</td><td>2010-12-20</td><td>1.28</td><td>null</td><td>&quot;United Kingdom&quot;</td></tr><tr><td>&quot;571430&quot;</td><td>&quot;22617&quot;</td><td>&quot;BAKING SET SPACEBOY DESIGN&quot;</td><td>24</td><td>2011-10-17</td><td>4.25</td><td>13090</td><td>&quot;United Kingdom&quot;</td></tr><tr><td>&quot;563174&quot;</td><td>&quot;22383&quot;</td><td>&quot;LUNCH BAG SUKI DESIGN &quot;</td><td>10</td><td>2011-08-12</td><td>1.65</td><td>16746</td><td>&quot;United Kingdom&quot;</td></tr><tr><td>&quot;567545&quot;</td><td>&quot;23232&quot;</td><td>&quot;WRAP VINTAGE LEAF DESIGN&quot;</td><td>25</td><td>2011-09-21</td><td>0.42</td><td>13155</td><td>&quot;United Kingdom&quot;</td></tr><tr><td>&quot;536592&quot;</td><td>&quot;21809&quot;</td><td>&quot;CHRISTMAS HANGING TREE WITH BE…</td><td>1</td><td>2010-12-01</td><td>2.51</td><td>null</td><td>&quot;United Kingdom&quot;</td></tr><tr><td>&hellip;</td><td>&hellip;</td><td>&hellip;</td><td>&hellip;</td><td>&hellip;</td><td>&hellip;</td><td>&hellip;</td><td>&hellip;</td></tr><tr><td>&quot;566452&quot;</td><td>&quot;23157&quot;</td><td>&quot;SET OF 6 NATIVITY MAGNETS &quot;</td><td>1</td><td>2011-09-12</td><td>2.08</td><td>14901</td><td>&quot;United Kingdom&quot;</td></tr><tr><td>&quot;561113&quot;</td><td>&quot;15056BL&quot;</td><td>&quot;EDWARDIAN PARASOL BLACK&quot;</td><td>1</td><td>2011-07-25</td><td>5.95</td><td>17841</td><td>&quot;United Kingdom&quot;</td></tr><tr><td>&quot;553074&quot;</td><td>&quot;21080&quot;</td><td>&quot;SET/20 RED RETROSPOT PAPER NAP…</td><td>2</td><td>2011-05-13</td><td>0.85</td><td>15529</td><td>&quot;United Kingdom&quot;</td></tr><tr><td>&quot;575303&quot;</td><td>&quot;20751&quot;</td><td>&quot;FUNKY WASHING UP GLOVES ASSORT…</td><td>1</td><td>2011-11-09</td><td>2.1</td><td>12893</td><td>&quot;United Kingdom&quot;</td></tr><tr><td>&quot;572090&quot;</td><td>&quot;23395&quot;</td><td>&quot;BELLE JARDINIERE CUSHION COVER&quot;</td><td>1</td><td>2011-10-20</td><td>3.75</td><td>13573</td><td>&quot;United Kingdom&quot;</td></tr></tbody></table></div>"
      ],
      "text/plain": [
       "shape: (524_136, 8)\n",
       "┌───────────┬───────────┬──────────────┬──────────┬─────────────┬───────────┬────────────┬─────────┐\n",
       "│ InvoiceNo ┆ StockCode ┆ Description  ┆ Quantity ┆ InvoiceDate ┆ UnitPrice ┆ CustomerID ┆ Country │\n",
       "│ ---       ┆ ---       ┆ ---          ┆ ---      ┆ ---         ┆ ---       ┆ ---        ┆ ---     │\n",
       "│ str       ┆ str       ┆ str          ┆ i64      ┆ date        ┆ f64       ┆ i64        ┆ str     │\n",
       "╞═══════════╪═══════════╪══════════════╪══════════╪═════════════╪═══════════╪════════════╪═════════╡\n",
       "│ 539631    ┆ 22436     ┆ 12 COLOURED  ┆ 1        ┆ 2010-12-20  ┆ 1.28      ┆ null       ┆ United  │\n",
       "│           ┆           ┆ PARTY        ┆          ┆             ┆           ┆            ┆ Kingdom │\n",
       "│           ┆           ┆ BALLOONS     ┆          ┆             ┆           ┆            ┆         │\n",
       "│ 571430    ┆ 22617     ┆ BAKING SET   ┆ 24       ┆ 2011-10-17  ┆ 4.25      ┆ 13090      ┆ United  │\n",
       "│           ┆           ┆ SPACEBOY     ┆          ┆             ┆           ┆            ┆ Kingdom │\n",
       "│           ┆           ┆ DESIGN       ┆          ┆             ┆           ┆            ┆         │\n",
       "│ 563174    ┆ 22383     ┆ LUNCH BAG    ┆ 10       ┆ 2011-08-12  ┆ 1.65      ┆ 16746      ┆ United  │\n",
       "│           ┆           ┆ SUKI DESIGN  ┆          ┆             ┆           ┆            ┆ Kingdom │\n",
       "│ 567545    ┆ 23232     ┆ WRAP VINTAGE ┆ 25       ┆ 2011-09-21  ┆ 0.42      ┆ 13155      ┆ United  │\n",
       "│           ┆           ┆ LEAF DESIGN  ┆          ┆             ┆           ┆            ┆ Kingdom │\n",
       "│ 536592    ┆ 21809     ┆ CHRISTMAS    ┆ 1        ┆ 2010-12-01  ┆ 2.51      ┆ null       ┆ United  │\n",
       "│           ┆           ┆ HANGING TREE ┆          ┆             ┆           ┆            ┆ Kingdom │\n",
       "│           ┆           ┆ WITH BE…     ┆          ┆             ┆           ┆            ┆         │\n",
       "│ …         ┆ …         ┆ …            ┆ …        ┆ …           ┆ …         ┆ …          ┆ …       │\n",
       "│ 566452    ┆ 23157     ┆ SET OF 6     ┆ 1        ┆ 2011-09-12  ┆ 2.08      ┆ 14901      ┆ United  │\n",
       "│           ┆           ┆ NATIVITY     ┆          ┆             ┆           ┆            ┆ Kingdom │\n",
       "│           ┆           ┆ MAGNETS      ┆          ┆             ┆           ┆            ┆         │\n",
       "│ 561113    ┆ 15056BL   ┆ EDWARDIAN    ┆ 1        ┆ 2011-07-25  ┆ 5.95      ┆ 17841      ┆ United  │\n",
       "│           ┆           ┆ PARASOL      ┆          ┆             ┆           ┆            ┆ Kingdom │\n",
       "│           ┆           ┆ BLACK        ┆          ┆             ┆           ┆            ┆         │\n",
       "│ 553074    ┆ 21080     ┆ SET/20 RED   ┆ 2        ┆ 2011-05-13  ┆ 0.85      ┆ 15529      ┆ United  │\n",
       "│           ┆           ┆ RETROSPOT    ┆          ┆             ┆           ┆            ┆ Kingdom │\n",
       "│           ┆           ┆ PAPER NAP…   ┆          ┆             ┆           ┆            ┆         │\n",
       "│ 575303    ┆ 20751     ┆ FUNKY        ┆ 1        ┆ 2011-11-09  ┆ 2.1       ┆ 12893      ┆ United  │\n",
       "│           ┆           ┆ WASHING UP   ┆          ┆             ┆           ┆            ┆ Kingdom │\n",
       "│           ┆           ┆ GLOVES       ┆          ┆             ┆           ┆            ┆         │\n",
       "│           ┆           ┆ ASSORT…      ┆          ┆             ┆           ┆            ┆         │\n",
       "│ 572090    ┆ 23395     ┆ BELLE        ┆ 1        ┆ 2011-10-20  ┆ 3.75      ┆ 13573      ┆ United  │\n",
       "│           ┆           ┆ JARDINIERE   ┆          ┆             ┆           ┆            ┆ Kingdom │\n",
       "│           ┆           ┆ CUSHION      ┆          ┆             ┆           ┆            ┆         │\n",
       "│           ┆           ┆ COVER        ┆          ┆             ┆           ┆            ┆         │\n",
       "└───────────┴───────────┴──────────────┴──────────┴─────────────┴───────────┴────────────┴─────────┘"
      ]
     },
     "execution_count": 14,
     "metadata": {},
     "output_type": "execute_result"
    }
   ],
   "source": [
    "df = df.filter(pl.col(\"Country\") != \"Unspecified\" )\n",
    "df"
   ]
  },
  {
   "cell_type": "markdown",
   "metadata": {},
   "source": [
    "Algo raro tambien es que habia valores maximos muy altos en la cantidad y en el precio, es decir tenemos claramente outliers\n",
    "\n",
    "Usaremos la formula del IQR para definir un limite superior e inferior\n",
    "\n"
   ]
  },
  {
   "cell_type": "code",
   "execution_count": 15,
   "metadata": {},
   "outputs": [
    {
     "name": "stdout",
     "output_type": "stream",
     "text": [
      "\n",
      "IQR for Quantity\n",
      "1.0 11.0 10.0 -14.0 26.0\n",
      "\n",
      "IQR for UnitPrice\n",
      "1.25 4.13 2.88 -3.0700000000000003 8.45\n"
     ]
    }
   ],
   "source": [
    "def calc_iqr_from_column_name(name:str)-> None:\n",
    "    Q1 = df[name].quantile(0.25)\n",
    "    Q3 = df[name].quantile(0.75)\n",
    "    IQR = Q3 - Q1\n",
    "\n",
    "    lower_bound = Q1 - 1.5 * IQR\n",
    "    upper_bound = Q3 + 1.5 * IQR\n",
    "\n",
    "    print(f\"\\nIQR for {name}\")\n",
    "    print(Q1, Q3, IQR, lower_bound, upper_bound)\n",
    "\n",
    "calc_iqr_from_column_name(\"Quantity\")\n",
    "calc_iqr_from_column_name(\"UnitPrice\")"
   ]
  },
  {
   "cell_type": "code",
   "execution_count": 16,
   "metadata": {},
   "outputs": [
    {
     "data": {
      "text/html": [
       "<div><style>\n",
       ".dataframe > thead > tr,\n",
       ".dataframe > tbody > tr {\n",
       "  text-align: right;\n",
       "  white-space: pre-wrap;\n",
       "}\n",
       "</style>\n",
       "<small>shape: (81_321, 8)</small><table border=\"1\" class=\"dataframe\"><thead><tr><th>InvoiceNo</th><th>StockCode</th><th>Description</th><th>Quantity</th><th>InvoiceDate</th><th>UnitPrice</th><th>CustomerID</th><th>Country</th></tr><tr><td>str</td><td>str</td><td>str</td><td>i64</td><td>date</td><td>f64</td><td>i64</td><td>str</td></tr></thead><tbody><tr><td>&quot;579252&quot;</td><td>&quot;21174&quot;</td><td>&quot;POTTERING IN THE SHED METAL SI…</td><td>192</td><td>2011-11-28</td><td>2.4</td><td>17450</td><td>&quot;United Kingdom&quot;</td></tr><tr><td>&quot;562912&quot;</td><td>&quot;48173C&quot;</td><td>&quot;DOORMAT BLACK FLOCK &quot;</td><td>1</td><td>2011-08-10</td><td>7.95</td><td>15311</td><td>&quot;United Kingdom&quot;</td></tr><tr><td>&quot;576617&quot;</td><td>&quot;22371&quot;</td><td>&quot;AIRLINE BAG VINTAGE TOKYO 78&quot;</td><td>1</td><td>2011-11-15</td><td>8.29</td><td>null</td><td>&quot;United Kingdom&quot;</td></tr><tr><td>&quot;564755&quot;</td><td>&quot;DOT&quot;</td><td>&quot;DOTCOM POSTAGE&quot;</td><td>1</td><td>2011-08-30</td><td>170.92</td><td>null</td><td>&quot;United Kingdom&quot;</td></tr><tr><td>&quot;540178&quot;</td><td>&quot;22894&quot;</td><td>&quot;TABLECLOTH RED APPLES DESIGN &quot;</td><td>2</td><td>2011-01-05</td><td>8.5</td><td>12681</td><td>&quot;France&quot;</td></tr><tr><td>&hellip;</td><td>&hellip;</td><td>&hellip;</td><td>&hellip;</td><td>&hellip;</td><td>&hellip;</td><td>&hellip;</td><td>&hellip;</td></tr><tr><td>&quot;550953&quot;</td><td>&quot;84968C&quot;</td><td>&quot;SET OF 16 VINTAGE PISTACHIO CU…</td><td>3</td><td>2011-04-21</td><td>24.96</td><td>null</td><td>&quot;United Kingdom&quot;</td></tr><tr><td>&quot;567458&quot;</td><td>&quot;22413&quot;</td><td>&quot;METAL SIGN TAKE IT OR LEAVE IT…</td><td>96</td><td>2011-09-20</td><td>3.2</td><td>17450</td><td>&quot;United Kingdom&quot;</td></tr><tr><td>&quot;558265&quot;</td><td>&quot;22424&quot;</td><td>&quot;ENAMEL BREAD BIN CREAM&quot;</td><td>1</td><td>2011-06-28</td><td>12.75</td><td>12747</td><td>&quot;United Kingdom&quot;</td></tr><tr><td>&quot;578681&quot;</td><td>&quot;85048&quot;</td><td>&quot;15CM CHRISTMAS GLASS BALL 20 L…</td><td>6</td><td>2011-11-25</td><td>7.95</td><td>13579</td><td>&quot;United Kingdom&quot;</td></tr><tr><td>&quot;540795&quot;</td><td>&quot;22625&quot;</td><td>&quot;RED KITCHEN SCALES&quot;</td><td>2</td><td>2011-01-11</td><td>8.5</td><td>13078</td><td>&quot;United Kingdom&quot;</td></tr></tbody></table></div>"
      ],
      "text/plain": [
       "shape: (81_321, 8)\n",
       "┌───────────┬───────────┬──────────────┬──────────┬─────────────┬───────────┬────────────┬─────────┐\n",
       "│ InvoiceNo ┆ StockCode ┆ Description  ┆ Quantity ┆ InvoiceDate ┆ UnitPrice ┆ CustomerID ┆ Country │\n",
       "│ ---       ┆ ---       ┆ ---          ┆ ---      ┆ ---         ┆ ---       ┆ ---        ┆ ---     │\n",
       "│ str       ┆ str       ┆ str          ┆ i64      ┆ date        ┆ f64       ┆ i64        ┆ str     │\n",
       "╞═══════════╪═══════════╪══════════════╪══════════╪═════════════╪═══════════╪════════════╪═════════╡\n",
       "│ 579252    ┆ 21174     ┆ POTTERING IN ┆ 192      ┆ 2011-11-28  ┆ 2.4       ┆ 17450      ┆ United  │\n",
       "│           ┆           ┆ THE SHED     ┆          ┆             ┆           ┆            ┆ Kingdom │\n",
       "│           ┆           ┆ METAL SI…    ┆          ┆             ┆           ┆            ┆         │\n",
       "│ 562912    ┆ 48173C    ┆ DOORMAT      ┆ 1        ┆ 2011-08-10  ┆ 7.95      ┆ 15311      ┆ United  │\n",
       "│           ┆           ┆ BLACK FLOCK  ┆          ┆             ┆           ┆            ┆ Kingdom │\n",
       "│ 576617    ┆ 22371     ┆ AIRLINE BAG  ┆ 1        ┆ 2011-11-15  ┆ 8.29      ┆ null       ┆ United  │\n",
       "│           ┆           ┆ VINTAGE      ┆          ┆             ┆           ┆            ┆ Kingdom │\n",
       "│           ┆           ┆ TOKYO 78     ┆          ┆             ┆           ┆            ┆         │\n",
       "│ 564755    ┆ DOT       ┆ DOTCOM       ┆ 1        ┆ 2011-08-30  ┆ 170.92    ┆ null       ┆ United  │\n",
       "│           ┆           ┆ POSTAGE      ┆          ┆             ┆           ┆            ┆ Kingdom │\n",
       "│ 540178    ┆ 22894     ┆ TABLECLOTH   ┆ 2        ┆ 2011-01-05  ┆ 8.5       ┆ 12681      ┆ France  │\n",
       "│           ┆           ┆ RED APPLES   ┆          ┆             ┆           ┆            ┆         │\n",
       "│           ┆           ┆ DESIGN       ┆          ┆             ┆           ┆            ┆         │\n",
       "│ …         ┆ …         ┆ …            ┆ …        ┆ …           ┆ …         ┆ …          ┆ …       │\n",
       "│ 550953    ┆ 84968C    ┆ SET OF 16    ┆ 3        ┆ 2011-04-21  ┆ 24.96     ┆ null       ┆ United  │\n",
       "│           ┆           ┆ VINTAGE      ┆          ┆             ┆           ┆            ┆ Kingdom │\n",
       "│           ┆           ┆ PISTACHIO    ┆          ┆             ┆           ┆            ┆         │\n",
       "│           ┆           ┆ CU…          ┆          ┆             ┆           ┆            ┆         │\n",
       "│ 567458    ┆ 22413     ┆ METAL SIGN   ┆ 96       ┆ 2011-09-20  ┆ 3.2       ┆ 17450      ┆ United  │\n",
       "│           ┆           ┆ TAKE IT OR   ┆          ┆             ┆           ┆            ┆ Kingdom │\n",
       "│           ┆           ┆ LEAVE IT…    ┆          ┆             ┆           ┆            ┆         │\n",
       "│ 558265    ┆ 22424     ┆ ENAMEL BREAD ┆ 1        ┆ 2011-06-28  ┆ 12.75     ┆ 12747      ┆ United  │\n",
       "│           ┆           ┆ BIN CREAM    ┆          ┆             ┆           ┆            ┆ Kingdom │\n",
       "│ 578681    ┆ 85048     ┆ 15CM         ┆ 6        ┆ 2011-11-25  ┆ 7.95      ┆ 13579      ┆ United  │\n",
       "│           ┆           ┆ CHRISTMAS    ┆          ┆             ┆           ┆            ┆ Kingdom │\n",
       "│           ┆           ┆ GLASS BALL   ┆          ┆             ┆           ┆            ┆         │\n",
       "│           ┆           ┆ 20 L…        ┆          ┆             ┆           ┆            ┆         │\n",
       "│ 540795    ┆ 22625     ┆ RED KITCHEN  ┆ 2        ┆ 2011-01-11  ┆ 8.5       ┆ 13078      ┆ United  │\n",
       "│           ┆           ┆ SCALES       ┆          ┆             ┆           ┆            ┆ Kingdom │\n",
       "└───────────┴───────────┴──────────────┴──────────┴─────────────┴───────────┴────────────┴─────────┘"
      ]
     },
     "execution_count": 16,
     "metadata": {},
     "output_type": "execute_result"
    }
   ],
   "source": [
    "upper_bound_limit_condition = (pl.col(\"Quantity\") > 27) | (pl.col(\"UnitPrice\") > 7.5)\n",
    "\n",
    "df.filter(upper_bound_limit_condition)"
   ]
  },
  {
   "cell_type": "markdown",
   "metadata": {},
   "source": [
    "Eliminariamos bastantes, pero estaria lo mas normalizado posible, procedemos a eliminarlos"
   ]
  },
  {
   "cell_type": "code",
   "execution_count": 17,
   "metadata": {},
   "outputs": [
    {
     "data": {
      "text/html": [
       "<div><style>\n",
       ".dataframe > thead > tr,\n",
       ".dataframe > tbody > tr {\n",
       "  text-align: right;\n",
       "  white-space: pre-wrap;\n",
       "}\n",
       "</style>\n",
       "<small>shape: (442_815, 8)</small><table border=\"1\" class=\"dataframe\"><thead><tr><th>InvoiceNo</th><th>StockCode</th><th>Description</th><th>Quantity</th><th>InvoiceDate</th><th>UnitPrice</th><th>CustomerID</th><th>Country</th></tr><tr><td>str</td><td>str</td><td>str</td><td>i64</td><td>date</td><td>f64</td><td>i64</td><td>str</td></tr></thead><tbody><tr><td>&quot;539631&quot;</td><td>&quot;22436&quot;</td><td>&quot;12 COLOURED PARTY BALLOONS&quot;</td><td>1</td><td>2010-12-20</td><td>1.28</td><td>null</td><td>&quot;United Kingdom&quot;</td></tr><tr><td>&quot;571430&quot;</td><td>&quot;22617&quot;</td><td>&quot;BAKING SET SPACEBOY DESIGN&quot;</td><td>24</td><td>2011-10-17</td><td>4.25</td><td>13090</td><td>&quot;United Kingdom&quot;</td></tr><tr><td>&quot;563174&quot;</td><td>&quot;22383&quot;</td><td>&quot;LUNCH BAG SUKI DESIGN &quot;</td><td>10</td><td>2011-08-12</td><td>1.65</td><td>16746</td><td>&quot;United Kingdom&quot;</td></tr><tr><td>&quot;567545&quot;</td><td>&quot;23232&quot;</td><td>&quot;WRAP VINTAGE LEAF DESIGN&quot;</td><td>25</td><td>2011-09-21</td><td>0.42</td><td>13155</td><td>&quot;United Kingdom&quot;</td></tr><tr><td>&quot;536592&quot;</td><td>&quot;21809&quot;</td><td>&quot;CHRISTMAS HANGING TREE WITH BE…</td><td>1</td><td>2010-12-01</td><td>2.51</td><td>null</td><td>&quot;United Kingdom&quot;</td></tr><tr><td>&hellip;</td><td>&hellip;</td><td>&hellip;</td><td>&hellip;</td><td>&hellip;</td><td>&hellip;</td><td>&hellip;</td><td>&hellip;</td></tr><tr><td>&quot;566452&quot;</td><td>&quot;23157&quot;</td><td>&quot;SET OF 6 NATIVITY MAGNETS &quot;</td><td>1</td><td>2011-09-12</td><td>2.08</td><td>14901</td><td>&quot;United Kingdom&quot;</td></tr><tr><td>&quot;561113&quot;</td><td>&quot;15056BL&quot;</td><td>&quot;EDWARDIAN PARASOL BLACK&quot;</td><td>1</td><td>2011-07-25</td><td>5.95</td><td>17841</td><td>&quot;United Kingdom&quot;</td></tr><tr><td>&quot;553074&quot;</td><td>&quot;21080&quot;</td><td>&quot;SET/20 RED RETROSPOT PAPER NAP…</td><td>2</td><td>2011-05-13</td><td>0.85</td><td>15529</td><td>&quot;United Kingdom&quot;</td></tr><tr><td>&quot;575303&quot;</td><td>&quot;20751&quot;</td><td>&quot;FUNKY WASHING UP GLOVES ASSORT…</td><td>1</td><td>2011-11-09</td><td>2.1</td><td>12893</td><td>&quot;United Kingdom&quot;</td></tr><tr><td>&quot;572090&quot;</td><td>&quot;23395&quot;</td><td>&quot;BELLE JARDINIERE CUSHION COVER&quot;</td><td>1</td><td>2011-10-20</td><td>3.75</td><td>13573</td><td>&quot;United Kingdom&quot;</td></tr></tbody></table></div>"
      ],
      "text/plain": [
       "shape: (442_815, 8)\n",
       "┌───────────┬───────────┬──────────────┬──────────┬─────────────┬───────────┬────────────┬─────────┐\n",
       "│ InvoiceNo ┆ StockCode ┆ Description  ┆ Quantity ┆ InvoiceDate ┆ UnitPrice ┆ CustomerID ┆ Country │\n",
       "│ ---       ┆ ---       ┆ ---          ┆ ---      ┆ ---         ┆ ---       ┆ ---        ┆ ---     │\n",
       "│ str       ┆ str       ┆ str          ┆ i64      ┆ date        ┆ f64       ┆ i64        ┆ str     │\n",
       "╞═══════════╪═══════════╪══════════════╪══════════╪═════════════╪═══════════╪════════════╪═════════╡\n",
       "│ 539631    ┆ 22436     ┆ 12 COLOURED  ┆ 1        ┆ 2010-12-20  ┆ 1.28      ┆ null       ┆ United  │\n",
       "│           ┆           ┆ PARTY        ┆          ┆             ┆           ┆            ┆ Kingdom │\n",
       "│           ┆           ┆ BALLOONS     ┆          ┆             ┆           ┆            ┆         │\n",
       "│ 571430    ┆ 22617     ┆ BAKING SET   ┆ 24       ┆ 2011-10-17  ┆ 4.25      ┆ 13090      ┆ United  │\n",
       "│           ┆           ┆ SPACEBOY     ┆          ┆             ┆           ┆            ┆ Kingdom │\n",
       "│           ┆           ┆ DESIGN       ┆          ┆             ┆           ┆            ┆         │\n",
       "│ 563174    ┆ 22383     ┆ LUNCH BAG    ┆ 10       ┆ 2011-08-12  ┆ 1.65      ┆ 16746      ┆ United  │\n",
       "│           ┆           ┆ SUKI DESIGN  ┆          ┆             ┆           ┆            ┆ Kingdom │\n",
       "│ 567545    ┆ 23232     ┆ WRAP VINTAGE ┆ 25       ┆ 2011-09-21  ┆ 0.42      ┆ 13155      ┆ United  │\n",
       "│           ┆           ┆ LEAF DESIGN  ┆          ┆             ┆           ┆            ┆ Kingdom │\n",
       "│ 536592    ┆ 21809     ┆ CHRISTMAS    ┆ 1        ┆ 2010-12-01  ┆ 2.51      ┆ null       ┆ United  │\n",
       "│           ┆           ┆ HANGING TREE ┆          ┆             ┆           ┆            ┆ Kingdom │\n",
       "│           ┆           ┆ WITH BE…     ┆          ┆             ┆           ┆            ┆         │\n",
       "│ …         ┆ …         ┆ …            ┆ …        ┆ …           ┆ …         ┆ …          ┆ …       │\n",
       "│ 566452    ┆ 23157     ┆ SET OF 6     ┆ 1        ┆ 2011-09-12  ┆ 2.08      ┆ 14901      ┆ United  │\n",
       "│           ┆           ┆ NATIVITY     ┆          ┆             ┆           ┆            ┆ Kingdom │\n",
       "│           ┆           ┆ MAGNETS      ┆          ┆             ┆           ┆            ┆         │\n",
       "│ 561113    ┆ 15056BL   ┆ EDWARDIAN    ┆ 1        ┆ 2011-07-25  ┆ 5.95      ┆ 17841      ┆ United  │\n",
       "│           ┆           ┆ PARASOL      ┆          ┆             ┆           ┆            ┆ Kingdom │\n",
       "│           ┆           ┆ BLACK        ┆          ┆             ┆           ┆            ┆         │\n",
       "│ 553074    ┆ 21080     ┆ SET/20 RED   ┆ 2        ┆ 2011-05-13  ┆ 0.85      ┆ 15529      ┆ United  │\n",
       "│           ┆           ┆ RETROSPOT    ┆          ┆             ┆           ┆            ┆ Kingdom │\n",
       "│           ┆           ┆ PAPER NAP…   ┆          ┆             ┆           ┆            ┆         │\n",
       "│ 575303    ┆ 20751     ┆ FUNKY        ┆ 1        ┆ 2011-11-09  ┆ 2.1       ┆ 12893      ┆ United  │\n",
       "│           ┆           ┆ WASHING UP   ┆          ┆             ┆           ┆            ┆ Kingdom │\n",
       "│           ┆           ┆ GLOVES       ┆          ┆             ┆           ┆            ┆         │\n",
       "│           ┆           ┆ ASSORT…      ┆          ┆             ┆           ┆            ┆         │\n",
       "│ 572090    ┆ 23395     ┆ BELLE        ┆ 1        ┆ 2011-10-20  ┆ 3.75      ┆ 13573      ┆ United  │\n",
       "│           ┆           ┆ JARDINIERE   ┆          ┆             ┆           ┆            ┆ Kingdom │\n",
       "│           ┆           ┆ CUSHION      ┆          ┆             ┆           ┆            ┆         │\n",
       "│           ┆           ┆ COVER        ┆          ┆             ┆           ┆            ┆         │\n",
       "└───────────┴───────────┴──────────────┴──────────┴─────────────┴───────────┴────────────┴─────────┘"
      ]
     },
     "execution_count": 17,
     "metadata": {},
     "output_type": "execute_result"
    }
   ],
   "source": [
    "df = df.filter(~((pl.col(\"Quantity\") > 27) | (pl.col(\"UnitPrice\") > 7.5)))\n",
    "df"
   ]
  },
  {
   "cell_type": "code",
   "execution_count": 18,
   "metadata": {},
   "outputs": [
    {
     "data": {
      "text/html": [
       "<div><style>\n",
       ".dataframe > thead > tr,\n",
       ".dataframe > tbody > tr {\n",
       "  text-align: right;\n",
       "  white-space: pre-wrap;\n",
       "}\n",
       "</style>\n",
       "<small>shape: (9, 9)</small><table border=\"1\" class=\"dataframe\"><thead><tr><th>statistic</th><th>InvoiceNo</th><th>StockCode</th><th>Description</th><th>Quantity</th><th>InvoiceDate</th><th>UnitPrice</th><th>CustomerID</th><th>Country</th></tr><tr><td>str</td><td>str</td><td>str</td><td>str</td><td>f64</td><td>str</td><td>f64</td><td>f64</td><td>str</td></tr></thead><tbody><tr><td>&quot;count&quot;</td><td>&quot;442815&quot;</td><td>&quot;442815&quot;</td><td>&quot;442815&quot;</td><td>442815.0</td><td>&quot;442815&quot;</td><td>442815.0</td><td>332940.0</td><td>&quot;442815&quot;</td></tr><tr><td>&quot;null_count&quot;</td><td>&quot;0&quot;</td><td>&quot;0&quot;</td><td>&quot;0&quot;</td><td>0.0</td><td>&quot;0&quot;</td><td>0.0</td><td>109875.0</td><td>&quot;0&quot;</td></tr><tr><td>&quot;mean&quot;</td><td>null</td><td>null</td><td>null</td><td>6.33038</td><td>&quot;2011-07-05 19:17:40.866000&quot;</td><td>2.388613</td><td>15319.914015</td><td>null</td></tr><tr><td>&quot;std&quot;</td><td>null</td><td>null</td><td>null</td><td>6.458147</td><td>null</td><td>1.630417</td><td>1710.808483</td><td>null</td></tr><tr><td>&quot;min&quot;</td><td>&quot;536365&quot;</td><td>&quot;10002&quot;</td><td>&quot; 4 PURPLE FLOCK DINNER CANDLES&quot;</td><td>1.0</td><td>&quot;2010-12-01&quot;</td><td>0.12</td><td>12347.0</td><td>&quot;Australia&quot;</td></tr><tr><td>&quot;25%&quot;</td><td>null</td><td>null</td><td>null</td><td>1.0</td><td>&quot;2011-03-29&quot;</td><td>1.25</td><td>13988.0</td><td>null</td></tr><tr><td>&quot;50%&quot;</td><td>null</td><td>null</td><td>null</td><td>4.0</td><td>&quot;2011-07-22&quot;</td><td>1.95</td><td>15235.0</td><td>null</td></tr><tr><td>&quot;75%&quot;</td><td>null</td><td>null</td><td>null</td><td>10.0</td><td>&quot;2011-10-20&quot;</td><td>3.29</td><td>16814.0</td><td>null</td></tr><tr><td>&quot;max&quot;</td><td>&quot;581587&quot;</td><td>&quot;m&quot;</td><td>&quot;ZINC WIRE SWEETHEART LETTER TR…</td><td>27.0</td><td>&quot;2011-12-09&quot;</td><td>7.5</td><td>18287.0</td><td>&quot;United Kingdom&quot;</td></tr></tbody></table></div>"
      ],
      "text/plain": [
       "shape: (9, 9)\n",
       "┌───────────┬───────────┬───────────┬───────────┬───┬───────────┬───────────┬───────────┬──────────┐\n",
       "│ statistic ┆ InvoiceNo ┆ StockCode ┆ Descripti ┆ … ┆ InvoiceDa ┆ UnitPrice ┆ CustomerI ┆ Country  │\n",
       "│ ---       ┆ ---       ┆ ---       ┆ on        ┆   ┆ te        ┆ ---       ┆ D         ┆ ---      │\n",
       "│ str       ┆ str       ┆ str       ┆ ---       ┆   ┆ ---       ┆ f64       ┆ ---       ┆ str      │\n",
       "│           ┆           ┆           ┆ str       ┆   ┆ str       ┆           ┆ f64       ┆          │\n",
       "╞═══════════╪═══════════╪═══════════╪═══════════╪═══╪═══════════╪═══════════╪═══════════╪══════════╡\n",
       "│ count     ┆ 442815    ┆ 442815    ┆ 442815    ┆ … ┆ 442815    ┆ 442815.0  ┆ 332940.0  ┆ 442815   │\n",
       "│ null_coun ┆ 0         ┆ 0         ┆ 0         ┆ … ┆ 0         ┆ 0.0       ┆ 109875.0  ┆ 0        │\n",
       "│ t         ┆           ┆           ┆           ┆   ┆           ┆           ┆           ┆          │\n",
       "│ mean      ┆ null      ┆ null      ┆ null      ┆ … ┆ 2011-07-0 ┆ 2.388613  ┆ 15319.914 ┆ null     │\n",
       "│           ┆           ┆           ┆           ┆   ┆ 5 19:17:4 ┆           ┆ 015       ┆          │\n",
       "│           ┆           ┆           ┆           ┆   ┆ 0.866000  ┆           ┆           ┆          │\n",
       "│ std       ┆ null      ┆ null      ┆ null      ┆ … ┆ null      ┆ 1.630417  ┆ 1710.8084 ┆ null     │\n",
       "│           ┆           ┆           ┆           ┆   ┆           ┆           ┆ 83        ┆          │\n",
       "│ min       ┆ 536365    ┆ 10002     ┆ 4 PURPLE  ┆ … ┆ 2010-12-0 ┆ 0.12      ┆ 12347.0   ┆ Australi │\n",
       "│           ┆           ┆           ┆ FLOCK     ┆   ┆ 1         ┆           ┆           ┆ a        │\n",
       "│           ┆           ┆           ┆ DINNER    ┆   ┆           ┆           ┆           ┆          │\n",
       "│           ┆           ┆           ┆ CANDLES   ┆   ┆           ┆           ┆           ┆          │\n",
       "│ 25%       ┆ null      ┆ null      ┆ null      ┆ … ┆ 2011-03-2 ┆ 1.25      ┆ 13988.0   ┆ null     │\n",
       "│           ┆           ┆           ┆           ┆   ┆ 9         ┆           ┆           ┆          │\n",
       "│ 50%       ┆ null      ┆ null      ┆ null      ┆ … ┆ 2011-07-2 ┆ 1.95      ┆ 15235.0   ┆ null     │\n",
       "│           ┆           ┆           ┆           ┆   ┆ 2         ┆           ┆           ┆          │\n",
       "│ 75%       ┆ null      ┆ null      ┆ null      ┆ … ┆ 2011-10-2 ┆ 3.29      ┆ 16814.0   ┆ null     │\n",
       "│           ┆           ┆           ┆           ┆   ┆ 0         ┆           ┆           ┆          │\n",
       "│ max       ┆ 581587    ┆ m         ┆ ZINC WIRE ┆ … ┆ 2011-12-0 ┆ 7.5       ┆ 18287.0   ┆ United   │\n",
       "│           ┆           ┆           ┆ SWEETHEAR ┆   ┆ 9         ┆           ┆           ┆ Kingdom  │\n",
       "│           ┆           ┆           ┆ T LETTER  ┆   ┆           ┆           ┆           ┆          │\n",
       "│           ┆           ┆           ┆ TR…       ┆   ┆           ┆           ┆           ┆          │\n",
       "└───────────┴───────────┴───────────┴───────────┴───┴───────────┴───────────┴───────────┴──────────┘"
      ]
     },
     "execution_count": 18,
     "metadata": {},
     "output_type": "execute_result"
    }
   ],
   "source": [
    "df.describe()"
   ]
  },
  {
   "cell_type": "markdown",
   "metadata": {},
   "source": [
    "Viendo que el objetivo es predecir el valor total de ventas por dia, haremos los siguientes cambios sobre el dataset:\n",
    "\n",
    "InvoiceNO,StockCode,Description, CustomerID: Estas columnas son muy interesantes para por ejemplo saber cuantos clientes habituales tiene cada pais, que productos se compran mas, media de productos por factura\n",
    "\n",
    "Claro, en este caso no las necesitamos para predecir cuanto vamos a ganar en un dia,\n",
    "\n",
    "En nuestro caso yo dejaria la columna de Country, ya que creo que a la hora de predecir las ventas diarias es muy interesante segmentar por paises, para saber cuantas ventas diarias, tiene uno u otro y que sea util para saber en que pais se pueden aumentar las ganancias o cual esta dando muchas perdidas."
   ]
  },
  {
   "cell_type": "code",
   "execution_count": 19,
   "metadata": {},
   "outputs": [
    {
     "data": {
      "text/html": [
       "<div><style>\n",
       ".dataframe > thead > tr,\n",
       ".dataframe > tbody > tr {\n",
       "  text-align: right;\n",
       "  white-space: pre-wrap;\n",
       "}\n",
       "</style>\n",
       "<small>shape: (442_815, 4)</small><table border=\"1\" class=\"dataframe\"><thead><tr><th>Quantity</th><th>InvoiceDate</th><th>UnitPrice</th><th>Country</th></tr><tr><td>i64</td><td>date</td><td>f64</td><td>str</td></tr></thead><tbody><tr><td>1</td><td>2010-12-20</td><td>1.28</td><td>&quot;United Kingdom&quot;</td></tr><tr><td>24</td><td>2011-10-17</td><td>4.25</td><td>&quot;United Kingdom&quot;</td></tr><tr><td>10</td><td>2011-08-12</td><td>1.65</td><td>&quot;United Kingdom&quot;</td></tr><tr><td>25</td><td>2011-09-21</td><td>0.42</td><td>&quot;United Kingdom&quot;</td></tr><tr><td>1</td><td>2010-12-01</td><td>2.51</td><td>&quot;United Kingdom&quot;</td></tr><tr><td>&hellip;</td><td>&hellip;</td><td>&hellip;</td><td>&hellip;</td></tr><tr><td>1</td><td>2011-09-12</td><td>2.08</td><td>&quot;United Kingdom&quot;</td></tr><tr><td>1</td><td>2011-07-25</td><td>5.95</td><td>&quot;United Kingdom&quot;</td></tr><tr><td>2</td><td>2011-05-13</td><td>0.85</td><td>&quot;United Kingdom&quot;</td></tr><tr><td>1</td><td>2011-11-09</td><td>2.1</td><td>&quot;United Kingdom&quot;</td></tr><tr><td>1</td><td>2011-10-20</td><td>3.75</td><td>&quot;United Kingdom&quot;</td></tr></tbody></table></div>"
      ],
      "text/plain": [
       "shape: (442_815, 4)\n",
       "┌──────────┬─────────────┬───────────┬────────────────┐\n",
       "│ Quantity ┆ InvoiceDate ┆ UnitPrice ┆ Country        │\n",
       "│ ---      ┆ ---         ┆ ---       ┆ ---            │\n",
       "│ i64      ┆ date        ┆ f64       ┆ str            │\n",
       "╞══════════╪═════════════╪═══════════╪════════════════╡\n",
       "│ 1        ┆ 2010-12-20  ┆ 1.28      ┆ United Kingdom │\n",
       "│ 24       ┆ 2011-10-17  ┆ 4.25      ┆ United Kingdom │\n",
       "│ 10       ┆ 2011-08-12  ┆ 1.65      ┆ United Kingdom │\n",
       "│ 25       ┆ 2011-09-21  ┆ 0.42      ┆ United Kingdom │\n",
       "│ 1        ┆ 2010-12-01  ┆ 2.51      ┆ United Kingdom │\n",
       "│ …        ┆ …           ┆ …         ┆ …              │\n",
       "│ 1        ┆ 2011-09-12  ┆ 2.08      ┆ United Kingdom │\n",
       "│ 1        ┆ 2011-07-25  ┆ 5.95      ┆ United Kingdom │\n",
       "│ 2        ┆ 2011-05-13  ┆ 0.85      ┆ United Kingdom │\n",
       "│ 1        ┆ 2011-11-09  ┆ 2.1       ┆ United Kingdom │\n",
       "│ 1        ┆ 2011-10-20  ┆ 3.75      ┆ United Kingdom │\n",
       "└──────────┴─────────────┴───────────┴────────────────┘"
      ]
     },
     "execution_count": 19,
     "metadata": {},
     "output_type": "execute_result"
    }
   ],
   "source": [
    "df = df.drop(\"InvoiceNo\",\"StockCode\",\"Description\", \"CustomerID\")\n",
    "df"
   ]
  },
  {
   "cell_type": "markdown",
   "metadata": {},
   "source": [
    "Necesitaremos sacar una columna extra de Ventas totales, que sea el calculo de cantidad por precio por unidad\n"
   ]
  },
  {
   "cell_type": "code",
   "execution_count": 20,
   "metadata": {},
   "outputs": [
    {
     "data": {
      "text/html": [
       "<div><style>\n",
       ".dataframe > thead > tr,\n",
       ".dataframe > tbody > tr {\n",
       "  text-align: right;\n",
       "  white-space: pre-wrap;\n",
       "}\n",
       "</style>\n",
       "<small>shape: (442_815, 5)</small><table border=\"1\" class=\"dataframe\"><thead><tr><th>Quantity</th><th>InvoiceDate</th><th>UnitPrice</th><th>Country</th><th>TotalSales</th></tr><tr><td>i64</td><td>date</td><td>f64</td><td>str</td><td>f64</td></tr></thead><tbody><tr><td>1</td><td>2010-12-20</td><td>1.28</td><td>&quot;United Kingdom&quot;</td><td>1.28</td></tr><tr><td>24</td><td>2011-10-17</td><td>4.25</td><td>&quot;United Kingdom&quot;</td><td>102.0</td></tr><tr><td>10</td><td>2011-08-12</td><td>1.65</td><td>&quot;United Kingdom&quot;</td><td>16.5</td></tr><tr><td>25</td><td>2011-09-21</td><td>0.42</td><td>&quot;United Kingdom&quot;</td><td>10.5</td></tr><tr><td>1</td><td>2010-12-01</td><td>2.51</td><td>&quot;United Kingdom&quot;</td><td>2.51</td></tr><tr><td>&hellip;</td><td>&hellip;</td><td>&hellip;</td><td>&hellip;</td><td>&hellip;</td></tr><tr><td>1</td><td>2011-09-12</td><td>2.08</td><td>&quot;United Kingdom&quot;</td><td>2.08</td></tr><tr><td>1</td><td>2011-07-25</td><td>5.95</td><td>&quot;United Kingdom&quot;</td><td>5.95</td></tr><tr><td>2</td><td>2011-05-13</td><td>0.85</td><td>&quot;United Kingdom&quot;</td><td>1.7</td></tr><tr><td>1</td><td>2011-11-09</td><td>2.1</td><td>&quot;United Kingdom&quot;</td><td>2.1</td></tr><tr><td>1</td><td>2011-10-20</td><td>3.75</td><td>&quot;United Kingdom&quot;</td><td>3.75</td></tr></tbody></table></div>"
      ],
      "text/plain": [
       "shape: (442_815, 5)\n",
       "┌──────────┬─────────────┬───────────┬────────────────┬────────────┐\n",
       "│ Quantity ┆ InvoiceDate ┆ UnitPrice ┆ Country        ┆ TotalSales │\n",
       "│ ---      ┆ ---         ┆ ---       ┆ ---            ┆ ---        │\n",
       "│ i64      ┆ date        ┆ f64       ┆ str            ┆ f64        │\n",
       "╞══════════╪═════════════╪═══════════╪════════════════╪════════════╡\n",
       "│ 1        ┆ 2010-12-20  ┆ 1.28      ┆ United Kingdom ┆ 1.28       │\n",
       "│ 24       ┆ 2011-10-17  ┆ 4.25      ┆ United Kingdom ┆ 102.0      │\n",
       "│ 10       ┆ 2011-08-12  ┆ 1.65      ┆ United Kingdom ┆ 16.5       │\n",
       "│ 25       ┆ 2011-09-21  ┆ 0.42      ┆ United Kingdom ┆ 10.5       │\n",
       "│ 1        ┆ 2010-12-01  ┆ 2.51      ┆ United Kingdom ┆ 2.51       │\n",
       "│ …        ┆ …           ┆ …         ┆ …              ┆ …          │\n",
       "│ 1        ┆ 2011-09-12  ┆ 2.08      ┆ United Kingdom ┆ 2.08       │\n",
       "│ 1        ┆ 2011-07-25  ┆ 5.95      ┆ United Kingdom ┆ 5.95       │\n",
       "│ 2        ┆ 2011-05-13  ┆ 0.85      ┆ United Kingdom ┆ 1.7        │\n",
       "│ 1        ┆ 2011-11-09  ┆ 2.1       ┆ United Kingdom ┆ 2.1        │\n",
       "│ 1        ┆ 2011-10-20  ┆ 3.75      ┆ United Kingdom ┆ 3.75       │\n",
       "└──────────┴─────────────┴───────────┴────────────────┴────────────┘"
      ]
     },
     "execution_count": 20,
     "metadata": {},
     "output_type": "execute_result"
    }
   ],
   "source": [
    "df = df.with_columns(\n",
    "    (pl.col(\"Quantity\") * pl.col(\"UnitPrice\")).alias(\"TotalSales\")\n",
    ")\n",
    "df"
   ]
  },
  {
   "cell_type": "markdown",
   "metadata": {},
   "source": [
    "Por ultimo podemos agrupar por dias para ver la summa de ventas totales\n"
   ]
  },
  {
   "cell_type": "code",
   "execution_count": 21,
   "metadata": {},
   "outputs": [
    {
     "data": {
      "text/html": [
       "<div><style>\n",
       ".dataframe > thead > tr,\n",
       ".dataframe > tbody > tr {\n",
       "  text-align: right;\n",
       "  white-space: pre-wrap;\n",
       "}\n",
       "</style>\n",
       "<small>shape: (305, 3)</small><table border=\"1\" class=\"dataframe\"><thead><tr><th>InvoiceDate</th><th>Total_Quantity</th><th>Total_Sales</th></tr><tr><td>date</td><td>i64</td><td>f64</td></tr></thead><tbody><tr><td>2010-12-01</td><td>12899</td><td>26604.56</td></tr><tr><td>2010-12-02</td><td>12610</td><td>23203.33</td></tr><tr><td>2010-12-03</td><td>8632</td><td>19423.33</td></tr><tr><td>2010-12-05</td><td>10810</td><td>20738.69</td></tr><tr><td>2010-12-06</td><td>13876</td><td>30506.65</td></tr><tr><td>&hellip;</td><td>&hellip;</td><td>&hellip;</td></tr><tr><td>2011-12-05</td><td>24245</td><td>45221.72</td></tr><tr><td>2011-12-06</td><td>16717</td><td>26898.4</td></tr><tr><td>2011-12-07</td><td>16375</td><td>27847.03</td></tr><tr><td>2011-12-08</td><td>20021</td><td>38582.06</td></tr><tr><td>2011-12-09</td><td>7666</td><td>15940.79</td></tr></tbody></table></div>"
      ],
      "text/plain": [
       "shape: (305, 3)\n",
       "┌─────────────┬────────────────┬─────────────┐\n",
       "│ InvoiceDate ┆ Total_Quantity ┆ Total_Sales │\n",
       "│ ---         ┆ ---            ┆ ---         │\n",
       "│ date        ┆ i64            ┆ f64         │\n",
       "╞═════════════╪════════════════╪═════════════╡\n",
       "│ 2010-12-01  ┆ 12899          ┆ 26604.56    │\n",
       "│ 2010-12-02  ┆ 12610          ┆ 23203.33    │\n",
       "│ 2010-12-03  ┆ 8632           ┆ 19423.33    │\n",
       "│ 2010-12-05  ┆ 10810          ┆ 20738.69    │\n",
       "│ 2010-12-06  ┆ 13876          ┆ 30506.65    │\n",
       "│ …           ┆ …              ┆ …           │\n",
       "│ 2011-12-05  ┆ 24245          ┆ 45221.72    │\n",
       "│ 2011-12-06  ┆ 16717          ┆ 26898.4     │\n",
       "│ 2011-12-07  ┆ 16375          ┆ 27847.03    │\n",
       "│ 2011-12-08  ┆ 20021          ┆ 38582.06    │\n",
       "│ 2011-12-09  ┆ 7666           ┆ 15940.79    │\n",
       "└─────────────┴────────────────┴─────────────┘"
      ]
     },
     "execution_count": 21,
     "metadata": {},
     "output_type": "execute_result"
    }
   ],
   "source": [
    "df_daily_sales = df.group_by(\"InvoiceDate\").agg([\n",
    "    pl.col(\"Quantity\").sum().alias(\"Total_Quantity\"),\n",
    "    (pl.col(\"Quantity\") * pl.col(\"UnitPrice\")).sum().alias(\"Total_Sales\")  \n",
    "])\n",
    "df_daily_sales = df_daily_sales.sort(\"InvoiceDate\")\n",
    "df_daily_sales"
   ]
  },
  {
   "cell_type": "code",
   "execution_count": 22,
   "metadata": {},
   "outputs": [],
   "source": [
    "df.write_csv(\"data_cleaned.csv\")\n"
   ]
  }
 ],
 "metadata": {
  "kernelspec": {
   "display_name": "lab_venv",
   "language": "python",
   "name": "python3"
  },
  "language_info": {
   "codemirror_mode": {
    "name": "ipython",
    "version": 3
   },
   "file_extension": ".py",
   "mimetype": "text/x-python",
   "name": "python",
   "nbconvert_exporter": "python",
   "pygments_lexer": "ipython3",
   "version": "3.11.4"
  }
 },
 "nbformat": 4,
 "nbformat_minor": 2
}
